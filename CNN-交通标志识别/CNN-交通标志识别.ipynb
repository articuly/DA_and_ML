{
 "cells": [
  {
   "cell_type": "code",
   "execution_count": 1,
   "metadata": {},
   "outputs": [],
   "source": [
    "import glob\n",
    "from collections import namedtuple\n",
    "import numpy as np\n",
    "import matplotlib.pyplot as plt\n",
    "from skimage.color import rgb2lab\n",
    "from skimage.transform import resize\n",
    "import keras\n",
    "np.random.seed(42)\n",
    "%matplotlib inline"
   ]
  },
  {
   "cell_type": "code",
   "execution_count": 2,
   "metadata": {},
   "outputs": [],
   "source": [
    "# 定义常量\n",
    "N_CLASSES = 43\n",
    "RESIZED_IMAGE = (32, 32)"
   ]
  },
  {
   "cell_type": "code",
   "execution_count": 3,
   "metadata": {},
   "outputs": [],
   "source": [
    "# 数据预处理\n",
    "Dataset = namedtuple('dataset', ['X', 'y'])\n",
    "\n",
    "\n",
    "def to_tf_format(imgs):\n",
    "    return np.stack(\n",
    "        [img[:, :, np.newaxis] for img in imgs],  # 增加一个轴，占位\n",
    "        axis=0).astype(np.float32)  # 在0轴增加样本\n",
    "\n",
    "\n",
    "def read_dataset_ppm(rootpath, n_labels, resize_to):\n",
    "    images = []\n",
    "    labels = []\n",
    "    for i in range(n_labels):\n",
    "        full_path = rootpath + '/' + format(i, '05d') + '/'  # 格式化数字\n",
    "        for img_name in glob.glob(full_path + '*.ppm'):\n",
    "            img = plt.imread(img_name).astype(np.float32)  # 返回M*N*3数组\n",
    "            img = rgb2lab(img / 255.0)[:, :, 0]  # 返回M*N*1数组\n",
    "            if resize_to:\n",
    "                img = resize(img, resize_to, mode='reflect', anti_aliasing=True)\n",
    "\n",
    "            label = np.zeros((n_labels,), dtype=np.float32)\n",
    "            label[i] = 1.0\n",
    "            images.append(img.astype(np.float32))\n",
    "            labels.append(label)\n",
    "    return Dataset(X=to_tf_format(images).astype(np.float32),\n",
    "                   y=np.matrix(labels).astype(np.float32))"
   ]
  },
  {
   "cell_type": "code",
   "execution_count": 4,
   "metadata": {},
   "outputs": [],
   "source": [
    "dataset = read_dataset_ppm('GTSRB/Final_Training/Images', N_CLASSES,\n",
    "                           RESIZED_IMAGE)"
   ]
  },
  {
   "cell_type": "code",
   "execution_count": 5,
   "metadata": {},
   "outputs": [
    {
     "name": "stdout",
     "output_type": "stream",
     "text": [
      "(39209, 32, 32, 1)\n",
      "(39209, 43)\n"
     ]
    }
   ],
   "source": [
    "print(dataset.X.shape)\n",
    "print(dataset.y.shape)"
   ]
  },
  {
   "cell_type": "code",
   "execution_count": 6,
   "metadata": {},
   "outputs": [
    {
     "data": {
      "text/plain": [
       "<matplotlib.image.AxesImage at 0x16f9295df98>"
      ]
     },
     "execution_count": 6,
     "metadata": {},
     "output_type": "execute_result"
    },
    {
     "data": {
      "image/png": "[encoded data removed]",
      "text/plain": [
       "<Figure size 432x288 with 1 Axes>"
      ]
     },
     "metadata": {
      "needs_background": "light"
     },
     "output_type": "display_data"
    }
   ],
   "source": [
    "plt.imshow(dataset.X[0, :, :, :])"
   ]
  },
  {
   "cell_type": "code",
   "execution_count": 7,
   "metadata": {},
   "outputs": [
    {
     "data": {
      "text/plain": [
       "<matplotlib.image.AxesImage at 0x16f9264a9e8>"
      ]
     },
     "execution_count": 7,
     "metadata": {},
     "output_type": "execute_result"
    },
    {
     "data": {
      "image/png": "[encoded data removed]",
      "text/plain": [
       "<Figure size 432x288 with 1 Axes>"
      ]
     },
     "metadata": {
      "needs_background": "light"
     },
     "output_type": "display_data"
    }
   ],
   "source": [
    "plt.imshow(dataset.X[100, :, :, :])"
   ]
  },
  {
   "cell_type": "code",
   "execution_count": 8,
   "metadata": {},
   "outputs": [
    {
     "data": {
      "text/plain": [
       "matrix([[1., 0., 0., 0., 0., 0., 0., 0., 0., 0., 0., 0., 0., 0., 0., 0.,\n",
       "         0., 0., 0., 0., 0., 0., 0., 0., 0., 0., 0., 0., 0., 0., 0., 0.,\n",
       "         0., 0., 0., 0., 0., 0., 0., 0., 0., 0., 0.]], dtype=float32)"
      ]
     },
     "execution_count": 8,
     "metadata": {},
     "output_type": "execute_result"
    }
   ],
   "source": [
    "dataset.y[0, :]"
   ]
  },
  {
   "cell_type": "code",
   "execution_count": 9,
   "metadata": {},
   "outputs": [
    {
     "data": {
      "text/plain": [
       "matrix([[0., 1., 0., 0., 0., 0., 0., 0., 0., 0., 0., 0., 0., 0., 0., 0.,\n",
       "         0., 0., 0., 0., 0., 0., 0., 0., 0., 0., 0., 0., 0., 0., 0., 0.,\n",
       "         0., 0., 0., 0., 0., 0., 0., 0., 0., 0., 0.]], dtype=float32)"
      ]
     },
     "execution_count": 9,
     "metadata": {},
     "output_type": "execute_result"
    }
   ],
   "source": [
    "dataset.y[1000, :]"
   ]
  },
  {
   "cell_type": "code",
   "execution_count": 10,
   "metadata": {},
   "outputs": [],
   "source": [
    "from sklearn.model_selection import train_test_split\n",
    "idx_train, idx_test = train_test_split(range(dataset.X.shape[0]),\n",
    "                                       test_size=0.25,\n",
    "                                       random_state=101)  # 29406train, 9803test\n",
    "X_train = dataset.X[idx_train, :, :, :]\n",
    "X_test = dataset.X[idx_test, :, :, :]\n",
    "y_train = dataset.y[idx_train, :]\n",
    "y_test = dataset.y[idx_test, :]"
   ]
  },
  {
   "cell_type": "code",
   "execution_count": 11,
   "metadata": {},
   "outputs": [
    {
     "name": "stdout",
     "output_type": "stream",
     "text": [
      "(29406, 32, 32, 1)\n",
      "(29406, 43)\n",
      "(9803, 32, 32, 1)\n",
      "(9803, 43)\n"
     ]
    }
   ],
   "source": [
    "print(X_train.shape)\n",
    "print(y_train.shape)\n",
    "print(X_test.shape)\n",
    "print(y_test.shape)"
   ]
  },
  {
   "cell_type": "code",
   "execution_count": 12,
   "metadata": {},
   "outputs": [],
   "source": [
    "# 构建CNN网络\n",
    "from keras.models import Sequential\n",
    "from keras.layers.core import Dense, Flatten\n",
    "from keras.layers.convolutional import Conv2D\n",
    "from keras.optimizers import SGD\n",
    "from keras import backend as K\n",
    "K.set_image_data_format('channels_last')\n",
    "\n",
    "\n",
    "def cnn_model_1():\n",
    "    model = Sequential()\n",
    "    # 深度为32，核大小为3*3，输入大小为输入层32*32*1，激活函数为RELU\n",
    "    model.add(\n",
    "        Conv2D(32, (3, 3),\n",
    "               padding='same',\n",
    "               input_shape=(RESIZED_IMAGE[0], RESIZED_IMAGE[1], 1),\n",
    "               activation='relu'))\n",
    "    # 展平为一维数组\n",
    "    model.add(Flatten())\n",
    "    # 密集输出层，全连接43个单元类别\n",
    "    model.add(Dense(N_CLASSES, activation='softmax'))\n",
    "    return model"
   ]
  },
  {
   "cell_type": "code",
   "execution_count": 13,
   "metadata": {},
   "outputs": [
    {
     "name": "stdout",
     "output_type": "stream",
     "text": [
      "WARNING:tensorflow:From D:\\Programing\\Anaconda3\\envs\\tf1_env\\lib\\site-packages\\keras\\backend\\tensorflow_backend.py:74: The name tf.get_default_graph is deprecated. Please use tf.compat.v1.get_default_graph instead.\n",
      "\n",
      "WARNING:tensorflow:From D:\\Programing\\Anaconda3\\envs\\tf1_env\\lib\\site-packages\\keras\\backend\\tensorflow_backend.py:517: The name tf.placeholder is deprecated. Please use tf.compat.v1.placeholder instead.\n",
      "\n",
      "WARNING:tensorflow:From D:\\Programing\\Anaconda3\\envs\\tf1_env\\lib\\site-packages\\keras\\backend\\tensorflow_backend.py:4138: The name tf.random_uniform is deprecated. Please use tf.random.uniform instead.\n",
      "\n",
      "WARNING:tensorflow:From D:\\Programing\\Anaconda3\\envs\\tf1_env\\lib\\site-packages\\keras\\optimizers.py:790: The name tf.train.Optimizer is deprecated. Please use tf.compat.v1.train.Optimizer instead.\n",
      "\n",
      "WARNING:tensorflow:From D:\\Programing\\Anaconda3\\envs\\tf1_env\\lib\\site-packages\\keras\\backend\\tensorflow_backend.py:3295: The name tf.log is deprecated. Please use tf.math.log instead.\n",
      "\n"
     ]
    }
   ],
   "source": [
    "cnn = cnn_model_1()\n",
    "# 定义损失函数，优化器，评分标准\n",
    "cnn.compile(loss='categorical_crossentropy',\n",
    "            optimizer=SGD(lr=0.001, decay=1e-6),\n",
    "            metrics=['accuracy'])"
   ]
  },
  {
   "cell_type": "code",
   "execution_count": 14,
   "metadata": {},
   "outputs": [
    {
     "name": "stdout",
     "output_type": "stream",
     "text": [
      "WARNING:tensorflow:From D:\\Programing\\Anaconda3\\envs\\tf1_env\\lib\\site-packages\\tensorflow\\python\\ops\\math_grad.py:1250: add_dispatch_support.<locals>.wrapper (from tensorflow.python.ops.array_ops) is deprecated and will be removed in a future version.\n",
      "Instructions for updating:\n",
      "Use tf.where in 2.0, which has the same broadcast rule as np.where\n",
      "WARNING:tensorflow:From D:\\Programing\\Anaconda3\\envs\\tf1_env\\lib\\site-packages\\keras\\backend\\tensorflow_backend.py:986: The name tf.assign_add is deprecated. Please use tf.compat.v1.assign_add instead.\n",
      "\n",
      "Train on 29406 samples, validate on 9803 samples\n",
      "Epoch 1/10\n",
      "29406/29406 [==============================] - 12s 393us/step - loss: 2.2224 - acc: 0.6371 - val_loss: 0.6722 - val_acc: 0.8445\n",
      "Epoch 2/10\n",
      "29406/29406 [==============================] - 8s 268us/step - loss: 0.4786 - acc: 0.8974 - val_loss: 0.4014 - val_acc: 0.9127\n",
      "Epoch 3/10\n",
      "29406/29406 [==============================] - 8s 282us/step - loss: 0.3041 - acc: 0.9337 - val_loss: 0.3307 - val_acc: 0.9268\n",
      "Epoch 4/10\n",
      "29406/29406 [==============================] - 8s 274us/step - loss: 0.2173 - acc: 0.9553 - val_loss: 0.3109 - val_acc: 0.9323\n",
      "Epoch 5/10\n",
      "29406/29406 [==============================] - 7s 248us/step - loss: 0.1617 - acc: 0.9676 - val_loss: 0.3330 - val_acc: 0.9252\n",
      "Epoch 6/10\n",
      "29406/29406 [==============================] - 7s 243us/step - loss: 0.1306 - acc: 0.9754 - val_loss: 0.2849 - val_acc: 0.9395\n",
      "Epoch 7/10\n",
      "29406/29406 [==============================] - 7s 245us/step - loss: 0.1145 - acc: 0.9782 - val_loss: 0.2677 - val_acc: 0.9469\n",
      "Epoch 8/10\n",
      "29406/29406 [==============================] - 7s 238us/step - loss: 0.0942 - acc: 0.9820 - val_loss: 0.2124 - val_acc: 0.9547\n",
      "Epoch 9/10\n",
      "29406/29406 [==============================] - 7s 231us/step - loss: 0.0785 - acc: 0.9858 - val_loss: 0.2639 - val_acc: 0.9422\n",
      "Epoch 10/10\n",
      "29406/29406 [==============================] - 7s 233us/step - loss: 0.0647 - acc: 0.9889 - val_loss: 0.2282 - val_acc: 0.9532\n"
     ]
    },
    {
     "data": {
      "text/plain": [
       "<keras.callbacks.History at 0x16f92aecc88>"
      ]
     },
     "execution_count": 14,
     "metadata": {},
     "output_type": "execute_result"
    }
   ],
   "source": [
    "# 训练，每批32，走10轮\n",
    "cnn.fit(X_train,\n",
    "        y_train,\n",
    "        batch_size=32,\n",
    "        epochs=10,\n",
    "        validation_data=(X_test, y_test))"
   ]
  },
  {
   "cell_type": "code",
   "execution_count": 21,
   "metadata": {},
   "outputs": [],
   "source": [
    "cnn.save('cnn_gtsrb_v1.h5')"
   ]
  },
  {
   "cell_type": "code",
   "execution_count": 15,
   "metadata": {},
   "outputs": [],
   "source": [
    "# Human Performance\t98.84 %\n",
    "# 有点过拟合"
   ]
  },
  {
   "cell_type": "code",
   "execution_count": 16,
   "metadata": {},
   "outputs": [],
   "source": [
    "# 打印混淆矩阵，识别分类错误\n",
    "from sklearn.metrics import classification_report, confusion_matrix\n",
    "\n",
    "\n",
    "def test_and_plot(model, X, y):\n",
    "    y_pred = model.predict(X)\n",
    "    y_pred_softmax = np.argmax(y_pred, axis=1).astype(np.int32)\n",
    "    y_test_softmax = np.argmax(y, axis=1).astype(np.int32)\n",
    "    print(classification_report(y_test_softmax, y_pred_softmax))\n",
    "    cm = confusion_matrix(y_test_softmax, y_pred_softmax)\n",
    "    plt.imshow(cm, interpolation='nearest', cmap=plt.cm.Blues)\n",
    "    plt.colorbar()\n",
    "    plt.tight_layout()\n",
    "    plt.show()\n",
    "    # log2混淆矩阵，避免为负\n",
    "    plt.imshow(np.log2(cm + 1),\n",
    "               interpolation='nearest',\n",
    "               cmap=plt.get_cmap('tab20'))\n",
    "    plt.colorbar()"
   ]
  },
  {
   "cell_type": "code",
   "execution_count": 17,
   "metadata": {},
   "outputs": [
    {
     "name": "stdout",
     "output_type": "stream",
     "text": [
      "             precision    recall  f1-score   support\n",
      "\n",
      "          0       0.98      0.72      0.83        67\n",
      "          1       0.90      0.95      0.93       539\n",
      "          2       0.92      0.94      0.93       558\n",
      "          3       0.93      0.89      0.91       364\n",
      "          4       0.98      0.94      0.96       487\n",
      "          5       0.85      0.92      0.88       479\n",
      "          6       0.95      0.95      0.95       105\n",
      "          7       0.95      0.96      0.95       364\n",
      "          8       0.94      0.96      0.95       340\n",
      "          9       0.97      0.98      0.98       384\n",
      "         10       0.97      0.97      0.97       513\n",
      "         11       0.98      0.97      0.98       334\n",
      "         12       0.97      0.99      0.98       545\n",
      "         13       0.98      0.98      0.98       537\n",
      "         14       0.99      0.96      0.97       213\n",
      "         15       0.97      0.95      0.96       164\n",
      "         16       1.00      0.97      0.98        98\n",
      "         17       0.99      0.99      0.99       281\n",
      "         18       0.97      0.97      0.97       286\n",
      "         19       0.98      0.84      0.90        56\n",
      "         20       0.90      0.90      0.90        78\n",
      "         21       0.98      0.87      0.92        95\n",
      "         22       1.00      0.97      0.98        97\n",
      "         23       0.87      0.96      0.91       123\n",
      "         24       0.97      0.92      0.95        77\n",
      "         25       0.94      0.97      0.96       401\n",
      "         26       0.91      0.96      0.93       135\n",
      "         27       0.97      0.95      0.96        60\n",
      "         28       0.95      0.95      0.95       123\n",
      "         29       0.98      0.87      0.92        69\n",
      "         30       0.96      0.94      0.95       115\n",
      "         31       0.94      0.94      0.94       178\n",
      "         32       0.98      0.76      0.86        55\n",
      "         33       0.97      0.99      0.98       177\n",
      "         34       1.00      0.94      0.97       103\n",
      "         35       1.00      0.98      0.99       277\n",
      "         36       1.00      0.99      0.99        78\n",
      "         37       1.00      0.95      0.98        63\n",
      "         38       0.98      0.99      0.98       540\n",
      "         39       0.98      0.90      0.94        60\n",
      "         40       0.89      0.91      0.90        85\n",
      "         41       1.00      0.91      0.96        47\n",
      "         42       0.98      0.92      0.95        53\n",
      "\n",
      "avg / total       0.95      0.95      0.95      9803\n",
      "\n"
     ]
    },
    {
     "data": {
      "image/png": "[encoded data removed]",
      "text/plain": [
       "<Figure size 432x288 with 2 Axes>"
      ]
     },
     "metadata": {
      "needs_background": "light"
     },
     "output_type": "display_data"
    },
    {
     "data": {
      "image/png": "[encoded data removed]",
      "text/plain": [
       "<Figure size 432x288 with 2 Axes>"
      ]
     },
     "metadata": {
      "needs_background": "light"
     },
     "output_type": "display_data"
    }
   ],
   "source": [
    "test_and_plot(cnn,  X_test, y_test)"
   ]
  },
  {
   "cell_type": "code",
   "execution_count": 18,
   "metadata": {},
   "outputs": [],
   "source": [
    "# 改进CNN网络\n",
    "from keras.layers.core import Dropout\n",
    "from keras.layers.pooling import MaxPooling2D\n",
    "from keras.optimizers import Adam\n",
    "from keras.layers import BatchNormalization\n",
    "\n",
    "\n",
    "def cnn_model_2():\n",
    "    model = Sequential()\n",
    "    # 深度为32，核大小为3*3，输入大小为输入层32*32*1，激活函数为RELU，第一层要有输入尺寸\n",
    "    model.add(\n",
    "        Conv2D(32, (3, 3),\n",
    "               padding='same',\n",
    "               input_shape=(RESIZED_IMAGE[0], RESIZED_IMAGE[1], 1),\n",
    "               activation='relu'))\n",
    "    # 标题标准化层\n",
    "    model.add(BatchNormalization())\n",
    "    # 深度为32，核大小为3*3，输入大小为输入层32*32*1，激活函数为RELU\n",
    "    model.add(Conv2D(32, (3, 3), padding='same', activation='relu'))\n",
    "    # 批量标准化层\n",
    "    model.add(BatchNormalization())\n",
    "    # 池化层，池大小2*2\n",
    "    model.add(MaxPooling2D(pool_size=(2, 2)))\n",
    "    # 丢弃层，丢弃率为0.25，防止过\n",
    "    model.add(Dropout(0.4))\n",
    "    # 展平层\n",
    "    model.add(Flatten())\n",
    "    # 全连接层，512神经元，RELU激活\n",
    "    model.add(Dense(512, activation='relu'))\n",
    "    # 批量标准化层\n",
    "    model.add(BatchNormalization())\n",
    "    # 丢弃层，丢弃率为0.5\n",
    "    model.add(Dropout(0.5))\n",
    "    # 全连接层，43个分类输出，得到各类概率\n",
    "    model.add(Dense(N_CLASSES, activation='softmax'))\n",
    "    return model"
   ]
  },
  {
   "cell_type": "code",
   "execution_count": 19,
   "metadata": {},
   "outputs": [
    {
     "name": "stdout",
     "output_type": "stream",
     "text": [
      "WARNING:tensorflow:From D:\\Programing\\Anaconda3\\envs\\tf1_env\\lib\\site-packages\\keras\\backend\\tensorflow_backend.py:1834: The name tf.nn.fused_batch_norm is deprecated. Please use tf.compat.v1.nn.fused_batch_norm instead.\n",
      "\n",
      "WARNING:tensorflow:From D:\\Programing\\Anaconda3\\envs\\tf1_env\\lib\\site-packages\\keras\\backend\\tensorflow_backend.py:3976: The name tf.nn.max_pool is deprecated. Please use tf.nn.max_pool2d instead.\n",
      "\n",
      "WARNING:tensorflow:From D:\\Programing\\Anaconda3\\envs\\tf1_env\\lib\\site-packages\\keras\\backend\\tensorflow_backend.py:3445: calling dropout (from tensorflow.python.ops.nn_ops) with keep_prob is deprecated and will be removed in a future version.\n",
      "Instructions for updating:\n",
      "Please use `rate` instead of `keep_prob`. Rate should be set to `rate = 1 - keep_prob`.\n",
      "Train on 29406 samples, validate on 9803 samples\n",
      "Epoch 1/10\n",
      "29406/29406 [==============================] - 8s 263us/step - loss: 0.0530 - acc: 0.9913 - val_loss: 0.2097 - val_acc: 0.9579\n",
      "Epoch 2/10\n",
      "29406/29406 [==============================] - 7s 234us/step - loss: 0.0572 - acc: 0.9903 - val_loss: 0.2146 - val_acc: 0.9585\n",
      "Epoch 3/10\n",
      "29406/29406 [==============================] - 7s 248us/step - loss: 0.0467 - acc: 0.9924 - val_loss: 0.2193 - val_acc: 0.9598\n",
      "Epoch 4/10\n",
      "29406/29406 [==============================] - 7s 245us/step - loss: 0.0456 - acc: 0.9933 - val_loss: 0.2222 - val_acc: 0.9577\n",
      "Epoch 5/10\n",
      "29406/29406 [==============================] - 7s 249us/step - loss: 0.0469 - acc: 0.9934 - val_loss: 0.2168 - val_acc: 0.9583\n",
      "Epoch 6/10\n",
      "29406/29406 [==============================] - 7s 245us/step - loss: 0.0366 - acc: 0.9945 - val_loss: 0.2944 - val_acc: 0.9497\n",
      "Epoch 7/10\n",
      "29406/29406 [==============================] - 7s 236us/step - loss: 0.0360 - acc: 0.9949 - val_loss: 0.2284 - val_acc: 0.9575\n",
      "Epoch 8/10\n",
      "29406/29406 [==============================] - 7s 235us/step - loss: 0.0347 - acc: 0.9950 - val_loss: 0.2098 - val_acc: 0.9598\n",
      "Epoch 9/10\n",
      "29406/29406 [==============================] - 7s 230us/step - loss: 0.0209 - acc: 0.9988 - val_loss: 0.2122 - val_acc: 0.9601\n",
      "Epoch 10/10\n",
      "29406/29406 [==============================] - 7s 240us/step - loss: 0.0187 - acc: 0.9988 - val_loss: 0.2137 - val_acc: 0.9614\n"
     ]
    },
    {
     "data": {
      "text/plain": [
       "<keras.callbacks.History at 0x17111051128>"
      ]
     },
     "execution_count": 19,
     "metadata": {},
     "output_type": "execute_result"
    }
   ],
   "source": [
    "# 训练模型\n",
    "cnn2 = cnn_model_2()\n",
    "cnn2.compile(loss='categorical_crossentropy',\n",
    "             optimizer=Adam(lr=0.001, decay=1e-6),\n",
    "             metrics=['accuracy'])\n",
    "cnn.fit(X_train,\n",
    "        y_train,\n",
    "        batch_size=32,\n",
    "        epochs=10,\n",
    "        validation_data=(X_test, y_test))"
   ]
  },
  {
   "cell_type": "code",
   "execution_count": 20,
   "metadata": {},
   "outputs": [
    {
     "name": "stderr",
     "output_type": "stream",
     "text": [
      "D:\\Programing\\Anaconda3\\envs\\tf1_env\\lib\\site-packages\\sklearn\\metrics\\classification.py:1135: UndefinedMetricWarning: Precision and F-score are ill-defined and being set to 0.0 in labels with no predicted samples.\n",
      "  'precision', 'predicted', average, warn_for)\n"
     ]
    },
    {
     "name": "stdout",
     "output_type": "stream",
     "text": [
      "             precision    recall  f1-score   support\n",
      "\n",
      "          0       0.00      0.00      0.00        67\n",
      "          1       0.00      0.00      0.00       539\n",
      "          2       0.00      0.00      0.00       558\n",
      "          3       0.00      0.00      0.00       364\n",
      "          4       0.00      0.00      0.00       487\n",
      "          5       0.00      0.00      0.00       479\n",
      "          6       0.00      0.00      0.00       105\n",
      "          7       0.00      0.00      0.00       364\n",
      "          8       0.04      0.01      0.02       340\n",
      "          9       0.00      0.00      0.00       384\n",
      "         10       0.00      0.00      0.00       513\n",
      "         11       0.00      0.00      0.00       334\n",
      "         12       0.06      0.74      0.12       545\n",
      "         13       0.00      0.00      0.00       537\n",
      "         14       0.00      0.00      0.00       213\n",
      "         15       0.01      0.05      0.02       164\n",
      "         16       0.00      0.00      0.00        98\n",
      "         17       0.01      0.01      0.01       281\n",
      "         18       0.00      0.00      0.00       286\n",
      "         19       0.00      0.00      0.00        56\n",
      "         20       0.00      0.00      0.00        78\n",
      "         21       0.00      0.00      0.00        95\n",
      "         22       0.00      0.00      0.00        97\n",
      "         23       0.00      0.00      0.00       123\n",
      "         24       0.00      0.00      0.00        77\n",
      "         25       0.00      0.00      0.00       401\n",
      "         26       0.00      0.00      0.00       135\n",
      "         27       0.00      0.00      0.00        60\n",
      "         28       0.00      0.00      0.00       123\n",
      "         29       0.00      0.00      0.00        69\n",
      "         30       0.00      0.00      0.00       115\n",
      "         31       0.00      0.00      0.00       178\n",
      "         32       0.00      0.02      0.00        55\n",
      "         33       0.00      0.00      0.00       177\n",
      "         34       0.02      0.18      0.03       103\n",
      "         35       0.25      0.00      0.01       277\n",
      "         36       0.00      0.00      0.00        78\n",
      "         37       0.00      0.00      0.00        63\n",
      "         38       0.00      0.00      0.00       540\n",
      "         39       0.00      0.00      0.00        60\n",
      "         40       0.00      0.00      0.00        85\n",
      "         41       0.00      0.00      0.00        47\n",
      "         42       0.00      0.00      0.00        53\n",
      "\n",
      "avg / total       0.01      0.05      0.01      9803\n",
      "\n"
     ]
    },
    {
     "data": {
      "image/png": "[encoded data removed]",
      "text/plain": [
       "<Figure size 432x288 with 2 Axes>"
      ]
     },
     "metadata": {
      "needs_background": "light"
     },
     "output_type": "display_data"
    },
    {
     "data": {
      "image/png": "[encoded data removed]",
      "text/plain": [
       "<Figure size 432x288 with 2 Axes>"
      ]
     },
     "metadata": {
      "needs_background": "light"
     },
     "output_type": "display_data"
    }
   ],
   "source": [
    "test_and_plot(cnn2, X_test, y_test)"
   ]
  },
  {
   "cell_type": "code",
   "execution_count": 22,
   "metadata": {},
   "outputs": [],
   "source": [
    "cnn2.save('cnn_gtsrb_v2.h5')"
   ]
  },
  {
   "cell_type": "code",
   "execution_count": null,
   "metadata": {},
   "outputs": [],
   "source": []
  }
 ],
 "metadata": {
  "kernelspec": {
   "display_name": "Python [conda env:tf1_env]",
   "language": "python",
   "name": "conda-env-tf1_env-py"
  },
  "language_info": {
   "codemirror_mode": {
    "name": "ipython",
    "version": 3
   },
   "file_extension": ".py",
   "mimetype": "text/x-python",
   "name": "python",
   "nbconvert_exporter": "python",
   "pygments_lexer": "ipython3",
   "version": "3.6.10"
  }
 },
 "nbformat": 4,
 "nbformat_minor": 4
}
