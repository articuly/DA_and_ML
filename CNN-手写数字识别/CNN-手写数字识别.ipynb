{
 "cells": [
  {
   "cell_type": "code",
   "execution_count": 1,
   "metadata": {},
   "outputs": [],
   "source": [
    "import numpy as np\n",
    "np.random.seed(1337)"
   ]
  },
  {
   "cell_type": "code",
   "execution_count": 2,
   "metadata": {},
   "outputs": [],
   "source": [
    "# 数据加载器基类，派生出图片加载器和标签加载器\n",
    "class Loader:\n",
    "    # 初始化加载器，path为数据文件路经，count为文件中的样本个数\n",
    "    def __init__(self, path, count):\n",
    "        self.path = path\n",
    "        self.count = count\n",
    "\n",
    "    # 读取文件内容\n",
    "    def get_file_content(self):\n",
    "        print(self.path)\n",
    "        f = open(self.path, 'rb')\n",
    "        content = f.read()\n",
    "        f.close()\n",
    "        return content  # 返回字节数据"
   ]
  },
  {
   "cell_type": "code",
   "execution_count": 3,
   "metadata": {},
   "outputs": [],
   "source": [
    "# 图像数据加载器\n",
    "class ImageLoader(Loader):\n",
    "    # 内部函数，从文件字节数组中获取第index个图像数据，文件中包含所有样本图片数据\n",
    "    def get_picture(self, content, index):\n",
    "        start = index * 28 * 28 + 16  # 文件头16个字节，后面每28*28个字节为一个图片数据\n",
    "        picture = []\n",
    "        for i in range(28):\n",
    "            picture.append([])\n",
    "            for j in range(28):\n",
    "                byte1 = content[start + i * 28 + j]\n",
    "                picture[i].append(byte1)  # 在Python3中本来就是int\n",
    "                # picture[i].append(self.to_int(btye1))\n",
    "        # print(picture)\n",
    "        return picture\n",
    "\n",
    "    # 将图像数据转化成长度为784的行向量形式\n",
    "    def get_one_sample(self, picture):\n",
    "        sample = []\n",
    "        for i in range(28):\n",
    "            for j in range(28):\n",
    "                sample.append(picture[i][j])\n",
    "        # print(sample)\n",
    "        return sample\n",
    "\n",
    "    # 加载数据文件，获得全部样本的输入向量，onerow表示是否将每张图片转化为行向量\n",
    "    # to2表示是否转化为0，1矩阵\n",
    "    def load(self, onerow=False):\n",
    "        content = self.get_file_content()  #  获取文件字节数组\n",
    "        data_set = []\n",
    "        for index in range(self.count):  # 遍历每个样本\n",
    "            onepic = self.get_picture(content, index)  # 从样本得到图片数据，返回二维数组\n",
    "            if onerow:\n",
    "                onepic = sefl.get_one_sample(onepic)  # 转为一维向量形式\n",
    "            data_set.append(onepic)\n",
    "        # print(data_set)\n",
    "        return data_set"
   ]
  },
  {
   "cell_type": "code",
   "execution_count": 4,
   "metadata": {},
   "outputs": [],
   "source": [
    "# 标签数据加载器\n",
    "class LabelLoader(Loader):\n",
    "    # 加载数据文件，获得全部样本的标签向量\n",
    "    def load(self):\n",
    "        content = self.get_file_content()  # 获取文件字节数据\n",
    "        labels = []\n",
    "        for index in range(self.count):\n",
    "            onelabel = content[index + 8]  # 文件头有8个字节\n",
    "            onelabelvec = self.norm(onelabel)  # one-hot编码\n",
    "            labels.append(onelabelvec)\n",
    "        # print(labels)\n",
    "        return labels\n",
    "\n",
    "    # one-hot编码，用于将一个值转换为10维标签向量\n",
    "    def norm(self, label):\n",
    "        label_vec = []\n",
    "        # label_value=self.to_int(label)\n",
    "        label_value = label  # 在Python3中就是int\n",
    "        for i in range(10):\n",
    "            if i == label_value:\n",
    "                label_vec.append(1)\n",
    "            else:\n",
    "                label_vec.append(0)\n",
    "        return label_vec"
   ]
  },
  {
   "cell_type": "code",
   "execution_count": 5,
   "metadata": {},
   "outputs": [],
   "source": [
    "# 获得训练数据集\n",
    "def get_training_data_set(num, onerow=False):\n",
    "    image_loader = ImageLoader('train-images.idx3-ubyte', num)\n",
    "    label_loader = LabelLoader('train-labels.idx1-ubyte', num)\n",
    "    return image_loader.load(onerow), label_loader.load()\n",
    "\n",
    "\n",
    "# 获得测试数据集\n",
    "def get_test_data_set(num, onerow=False):\n",
    "    image_loader = ImageLoader('t10k-images.idx3-ubyte', num)\n",
    "    label_loader = LabelLoader('t10k-labels.idx1-ubyte', num)\n",
    "    return image_loader.load(onerow), label_loader.load()"
   ]
  },
  {
   "cell_type": "code",
   "execution_count": 6,
   "metadata": {},
   "outputs": [],
   "source": [
    "# 将一个长度为784的行向量打印成图形的样式\n",
    "def printimg(onepic):\n",
    "    onepic = onepic.reshape(28, 28)\n",
    "    for i in range(28):\n",
    "        for j in range(28):\n",
    "            if onepic[i, j] == 0:\n",
    "                print('  ', end='')\n",
    "            else:\n",
    "                print('* ', end='')\n",
    "        print('')"
   ]
  },
  {
   "cell_type": "code",
   "execution_count": 7,
   "metadata": {},
   "outputs": [
    {
     "name": "stdout",
     "output_type": "stream",
     "text": [
      "train-images.idx3-ubyte\n",
      "train-labels.idx1-ubyte\n",
      "t10k-images.idx3-ubyte\n",
      "t10k-labels.idx1-ubyte\n"
     ]
    }
   ],
   "source": [
    "# 加载训练集，最大样本量为60000\n",
    "X_train, Y_train = get_training_data_set(60000, False)\n",
    "# 加载测试集，最大样本量为10000\n",
    "X_test, Y_test = get_test_data_set(10000, False)"
   ]
  },
  {
   "cell_type": "code",
   "execution_count": 8,
   "metadata": {},
   "outputs": [],
   "source": [
    "# 图片数据归一化\n",
    "X_train = np.array(X_train).astype(bool).astype(float) / 255\n",
    "X_test = np.array(X_test).astype(bool).astype(float) / 255"
   ]
  },
  {
   "cell_type": "code",
   "execution_count": 9,
   "metadata": {},
   "outputs": [
    {
     "name": "stdout",
     "output_type": "stream",
     "text": [
      "[[0.         0.         0.         0.         0.         0.\n",
      "  0.         0.         0.         0.         0.         0.\n",
      "  0.         0.         0.         0.         0.         0.\n",
      "  0.         0.         0.         0.         0.         0.\n",
      "  0.         0.         0.         0.        ]\n",
      " [0.         0.         0.         0.         0.         0.\n",
      "  0.         0.         0.         0.         0.         0.\n",
      "  0.         0.         0.         0.         0.         0.\n",
      "  0.         0.         0.         0.         0.         0.\n",
      "  0.         0.         0.         0.        ]\n",
      " [0.         0.         0.         0.         0.         0.\n",
      "  0.         0.         0.         0.         0.         0.\n",
      "  0.         0.         0.         0.         0.         0.\n",
      "  0.         0.         0.         0.         0.         0.\n",
      "  0.         0.         0.         0.        ]\n",
      " [0.         0.         0.         0.         0.         0.\n",
      "  0.         0.         0.         0.         0.         0.\n",
      "  0.         0.         0.         0.         0.         0.\n",
      "  0.         0.         0.         0.         0.         0.\n",
      "  0.         0.         0.         0.        ]\n",
      " [0.         0.         0.         0.         0.         0.\n",
      "  0.         0.         0.         0.         0.         0.\n",
      "  0.         0.         0.         0.         0.         0.\n",
      "  0.         0.         0.         0.         0.         0.\n",
      "  0.         0.         0.         0.        ]\n",
      " [0.         0.         0.         0.         0.         0.\n",
      "  0.         0.         0.         0.         0.         0.\n",
      "  0.00392157 0.00392157 0.00392157 0.00392157 0.00392157 0.00392157\n",
      "  0.00392157 0.00392157 0.00392157 0.00392157 0.00392157 0.00392157\n",
      "  0.         0.         0.         0.        ]\n",
      " [0.         0.         0.         0.         0.         0.\n",
      "  0.         0.         0.00392157 0.00392157 0.00392157 0.00392157\n",
      "  0.00392157 0.00392157 0.00392157 0.00392157 0.00392157 0.00392157\n",
      "  0.00392157 0.00392157 0.00392157 0.00392157 0.00392157 0.00392157\n",
      "  0.         0.         0.         0.        ]\n",
      " [0.         0.         0.         0.         0.         0.\n",
      "  0.         0.00392157 0.00392157 0.00392157 0.00392157 0.00392157\n",
      "  0.00392157 0.00392157 0.00392157 0.00392157 0.00392157 0.00392157\n",
      "  0.00392157 0.00392157 0.00392157 0.00392157 0.00392157 0.\n",
      "  0.         0.         0.         0.        ]\n",
      " [0.         0.         0.         0.         0.         0.\n",
      "  0.         0.00392157 0.00392157 0.00392157 0.00392157 0.00392157\n",
      "  0.00392157 0.00392157 0.00392157 0.00392157 0.00392157 0.00392157\n",
      "  0.         0.         0.         0.         0.         0.\n",
      "  0.         0.         0.         0.        ]\n",
      " [0.         0.         0.         0.         0.         0.\n",
      "  0.         0.         0.00392157 0.00392157 0.00392157 0.00392157\n",
      "  0.00392157 0.00392157 0.00392157 0.         0.00392157 0.00392157\n",
      "  0.         0.         0.         0.         0.         0.\n",
      "  0.         0.         0.         0.        ]\n",
      " [0.         0.         0.         0.         0.         0.\n",
      "  0.         0.         0.         0.00392157 0.00392157 0.00392157\n",
      "  0.00392157 0.00392157 0.         0.         0.         0.\n",
      "  0.         0.         0.         0.         0.         0.\n",
      "  0.         0.         0.         0.        ]\n",
      " [0.         0.         0.         0.         0.         0.\n",
      "  0.         0.         0.         0.         0.         0.00392157\n",
      "  0.00392157 0.00392157 0.00392157 0.         0.         0.\n",
      "  0.         0.         0.         0.         0.         0.\n",
      "  0.         0.         0.         0.        ]\n",
      " [0.         0.         0.         0.         0.         0.\n",
      "  0.         0.         0.         0.         0.         0.00392157\n",
      "  0.00392157 0.00392157 0.00392157 0.         0.         0.\n",
      "  0.         0.         0.         0.         0.         0.\n",
      "  0.         0.         0.         0.        ]\n",
      " [0.         0.         0.         0.         0.         0.\n",
      "  0.         0.         0.         0.         0.         0.\n",
      "  0.00392157 0.00392157 0.00392157 0.00392157 0.00392157 0.00392157\n",
      "  0.         0.         0.         0.         0.         0.\n",
      "  0.         0.         0.         0.        ]\n",
      " [0.         0.         0.         0.         0.         0.\n",
      "  0.         0.         0.         0.         0.         0.\n",
      "  0.         0.00392157 0.00392157 0.00392157 0.00392157 0.00392157\n",
      "  0.00392157 0.         0.         0.         0.         0.\n",
      "  0.         0.         0.         0.        ]\n",
      " [0.         0.         0.         0.         0.         0.\n",
      "  0.         0.         0.         0.         0.         0.\n",
      "  0.         0.         0.00392157 0.00392157 0.00392157 0.00392157\n",
      "  0.00392157 0.00392157 0.         0.         0.         0.\n",
      "  0.         0.         0.         0.        ]\n",
      " [0.         0.         0.         0.         0.         0.\n",
      "  0.         0.         0.         0.         0.         0.\n",
      "  0.         0.         0.         0.00392157 0.00392157 0.00392157\n",
      "  0.00392157 0.00392157 0.         0.         0.         0.\n",
      "  0.         0.         0.         0.        ]\n",
      " [0.         0.         0.         0.         0.         0.\n",
      "  0.         0.         0.         0.         0.         0.\n",
      "  0.         0.         0.         0.         0.         0.00392157\n",
      "  0.00392157 0.00392157 0.00392157 0.         0.         0.\n",
      "  0.         0.         0.         0.        ]\n",
      " [0.         0.         0.         0.         0.         0.\n",
      "  0.         0.         0.         0.         0.         0.\n",
      "  0.         0.         0.00392157 0.00392157 0.00392157 0.00392157\n",
      "  0.00392157 0.00392157 0.00392157 0.         0.         0.\n",
      "  0.         0.         0.         0.        ]\n",
      " [0.         0.         0.         0.         0.         0.\n",
      "  0.         0.         0.         0.         0.         0.\n",
      "  0.00392157 0.00392157 0.00392157 0.00392157 0.00392157 0.00392157\n",
      "  0.00392157 0.00392157 0.         0.         0.         0.\n",
      "  0.         0.         0.         0.        ]\n",
      " [0.         0.         0.         0.         0.         0.\n",
      "  0.         0.         0.         0.         0.00392157 0.00392157\n",
      "  0.00392157 0.00392157 0.00392157 0.00392157 0.00392157 0.00392157\n",
      "  0.00392157 0.         0.         0.         0.         0.\n",
      "  0.         0.         0.         0.        ]\n",
      " [0.         0.         0.         0.         0.         0.\n",
      "  0.         0.         0.00392157 0.00392157 0.00392157 0.00392157\n",
      "  0.00392157 0.00392157 0.00392157 0.00392157 0.00392157 0.00392157\n",
      "  0.         0.         0.         0.         0.         0.\n",
      "  0.         0.         0.         0.        ]\n",
      " [0.         0.         0.         0.         0.         0.\n",
      "  0.00392157 0.00392157 0.00392157 0.00392157 0.00392157 0.00392157\n",
      "  0.00392157 0.00392157 0.00392157 0.00392157 0.         0.\n",
      "  0.         0.         0.         0.         0.         0.\n",
      "  0.         0.         0.         0.        ]\n",
      " [0.         0.         0.         0.         0.00392157 0.00392157\n",
      "  0.00392157 0.00392157 0.00392157 0.00392157 0.00392157 0.00392157\n",
      "  0.00392157 0.00392157 0.         0.         0.         0.\n",
      "  0.         0.         0.         0.         0.         0.\n",
      "  0.         0.         0.         0.        ]\n",
      " [0.         0.         0.         0.         0.00392157 0.00392157\n",
      "  0.00392157 0.00392157 0.00392157 0.00392157 0.00392157 0.00392157\n",
      "  0.         0.         0.         0.         0.         0.\n",
      "  0.         0.         0.         0.         0.         0.\n",
      "  0.         0.         0.         0.        ]\n",
      " [0.         0.         0.         0.         0.         0.\n",
      "  0.         0.         0.         0.         0.         0.\n",
      "  0.         0.         0.         0.         0.         0.\n",
      "  0.         0.         0.         0.         0.         0.\n",
      "  0.         0.         0.         0.        ]\n",
      " [0.         0.         0.         0.         0.         0.\n",
      "  0.         0.         0.         0.         0.         0.\n",
      "  0.         0.         0.         0.         0.         0.\n",
      "  0.         0.         0.         0.         0.         0.\n",
      "  0.         0.         0.         0.        ]\n",
      " [0.         0.         0.         0.         0.         0.\n",
      "  0.         0.         0.         0.         0.         0.\n",
      "  0.         0.         0.         0.         0.         0.\n",
      "  0.         0.         0.         0.         0.         0.\n",
      "  0.         0.         0.         0.        ]]\n"
     ]
    }
   ],
   "source": [
    "print(X_train[0])"
   ]
  },
  {
   "cell_type": "code",
   "execution_count": 10,
   "metadata": {},
   "outputs": [],
   "source": [
    "# 转换成np数组\n",
    "Y_train = np.array(Y_train)\n",
    "Y_test = np.array(Y_test)"
   ]
  },
  {
   "cell_type": "code",
   "execution_count": 11,
   "metadata": {},
   "outputs": [
    {
     "name": "stdout",
     "output_type": "stream",
     "text": [
      "[0 0 0 0 0 1 0 0 0 0]\n"
     ]
    }
   ],
   "source": [
    "print(Y_train[0])"
   ]
  },
  {
   "cell_type": "code",
   "execution_count": 16,
   "metadata": {},
   "outputs": [
    {
     "name": "stdout",
     "output_type": "stream",
     "text": [
      "                                                        \n",
      "                                                        \n",
      "                                                        \n",
      "                                                        \n",
      "                                                        \n",
      "                                                        \n",
      "                  * * * * * * *                         \n",
      "                * * * * * * * * *                       \n",
      "                * * * *     * * * *                     \n",
      "              * * * *         * * * *                   \n",
      "              * * *             * * *                   \n",
      "              * * *             * * *                   \n",
      "              * *               * * *                   \n",
      "              * * *             * * *                   \n",
      "              * * * *           * * * * *               \n",
      "                * * * *         * * * * *               \n",
      "                  * * * * * * * * * * * *               \n",
      "                    * * * * * * * * * *                 \n",
      "                        * * * * * * *                   \n",
      "                                * * *                   \n",
      "                                * *                     \n",
      "                              * * *                     \n",
      "                              * * *                     \n",
      "                            * * * *                     \n",
      "                            * * *                       \n",
      "                            * * *                       \n",
      "                                                        \n",
      "                                                        \n"
     ]
    }
   ],
   "source": [
    "printimg(X_test[999])"
   ]
  },
  {
   "cell_type": "code",
   "execution_count": 17,
   "metadata": {},
   "outputs": [],
   "source": [
    "# 添加一个维度，代表图片通道，分别为样本个数，宽度，高度，通道数\n",
    "# X_train=X_train[:, :, :, np.newaxis]\n",
    "# X_test=X_test[:, :, :, np.newaxis]"
   ]
  },
  {
   "cell_type": "code",
   "execution_count": 18,
   "metadata": {},
   "outputs": [],
   "source": [
    "X_train = np.expand_dims(X_train, axis=3)\n",
    "X_test = np.expand_dims(X_test, axis=3)"
   ]
  },
  {
   "cell_type": "code",
   "execution_count": 19,
   "metadata": {},
   "outputs": [
    {
     "name": "stdout",
     "output_type": "stream",
     "text": [
      "训练集的维度： (60000, 28, 28, 1) (60000, 10)\n",
      "测试集的维度： (10000, 28, 28, 1) (10000, 10)\n"
     ]
    }
   ],
   "source": [
    "print('训练集的维度：', X_train.shape, Y_train.shape)\n",
    "print('测试集的维度：', X_test.shape, Y_test.shape)"
   ]
  },
  {
   "cell_type": "code",
   "execution_count": 20,
   "metadata": {},
   "outputs": [
    {
     "name": "stderr",
     "output_type": "stream",
     "text": [
      "Using TensorFlow backend.\n"
     ]
    }
   ],
   "source": [
    "from keras.models import Sequential\n",
    "from keras.layers import Dense, Dropout, Activation, Flatten\n",
    "from keras.layers import Conv2D, MaxPooling2D, AveragePooling2D"
   ]
  },
  {
   "cell_type": "code",
   "execution_count": 21,
   "metadata": {},
   "outputs": [],
   "source": [
    "# 全局变量\n",
    "batch_size = 512  # 批处理样本数量\n",
    "nb_classes = 10  # 分类数目\n",
    "epochs = 100  # 迭代轮数\n",
    "img_rows, img_cols = 28, 28  # 图片样本宽高\n",
    "nb_filters = 32  # 卷积核的个数\n",
    "pool_size = (2, 2)  # 池化层的大小\n",
    "kernel_size = (5, 5)  # 卷积核的大小\n",
    "input_shape = (img_rows, img_cols, 1)  # 输入图片的维度，灰度图片为1个通道"
   ]
  },
  {
   "cell_type": "code",
   "execution_count": 22,
   "metadata": {},
   "outputs": [
    {
     "name": "stdout",
     "output_type": "stream",
     "text": [
      "WARNING:tensorflow:From D:\\Programing\\Anaconda3\\envs\\tf1_env\\lib\\site-packages\\keras\\backend\\tensorflow_backend.py:74: The name tf.get_default_graph is deprecated. Please use tf.compat.v1.get_default_graph instead.\n",
      "\n",
      "WARNING:tensorflow:From D:\\Programing\\Anaconda3\\envs\\tf1_env\\lib\\site-packages\\keras\\backend\\tensorflow_backend.py:517: The name tf.placeholder is deprecated. Please use tf.compat.v1.placeholder instead.\n",
      "\n",
      "WARNING:tensorflow:From D:\\Programing\\Anaconda3\\envs\\tf1_env\\lib\\site-packages\\keras\\backend\\tensorflow_backend.py:4138: The name tf.random_uniform is deprecated. Please use tf.random.uniform instead.\n",
      "\n",
      "WARNING:tensorflow:From D:\\Programing\\Anaconda3\\envs\\tf1_env\\lib\\site-packages\\keras\\backend\\tensorflow_backend.py:3980: The name tf.nn.avg_pool is deprecated. Please use tf.nn.avg_pool2d instead.\n",
      "\n"
     ]
    }
   ],
   "source": [
    "# 构建模型\n",
    "model = Sequential()\n",
    "# 卷积层一，深度6，核大小5*5，输入维度28*28，步长为1\n",
    "model.add(Conv2D(6, kernel_size, input_shape=input_shape, strides=1))\n",
    "# 池化层一，池大小5*5，步长为2\n",
    "model.add(AveragePooling2D(pool_size=pool_size, strides=2))\n",
    "# 卷积层二，深度2，核大小5*5，步长为1\n",
    "model.add(Conv2D(12, kernel_size=kernel_size, strides=1))\n",
    "# 池化层二\n",
    "model.add(AveragePooling2D(pool_size=pool_size, strides=2))\n",
    "# 拉成一维数据\n",
    "model.add(Flatten())\n",
    "# 全链接层，10分类\n",
    "model.add(Dense(nb_classes))\n",
    "# 激活函数\n",
    "model.add(Activation('sigmoid'))"
   ]
  },
  {
   "cell_type": "code",
   "execution_count": 23,
   "metadata": {},
   "outputs": [
    {
     "name": "stdout",
     "output_type": "stream",
     "text": [
      "WARNING:tensorflow:From D:\\Programing\\Anaconda3\\envs\\tf1_env\\lib\\site-packages\\keras\\optimizers.py:790: The name tf.train.Optimizer is deprecated. Please use tf.compat.v1.train.Optimizer instead.\n",
      "\n",
      "WARNING:tensorflow:From D:\\Programing\\Anaconda3\\envs\\tf1_env\\lib\\site-packages\\keras\\backend\\tensorflow_backend.py:3295: The name tf.log is deprecated. Please use tf.math.log instead.\n",
      "\n"
     ]
    }
   ],
   "source": [
    "# 编译模型\n",
    "model.compile(loss='categorical_crossentropy',\n",
    "              optimizer='adadelta',\n",
    "              metrics=['accuracy'])"
   ]
  },
  {
   "cell_type": "code",
   "execution_count": 24,
   "metadata": {},
   "outputs": [
    {
     "name": "stdout",
     "output_type": "stream",
     "text": [
      "WARNING:tensorflow:From D:\\Programing\\Anaconda3\\envs\\tf1_env\\lib\\site-packages\\tensorflow\\python\\ops\\math_grad.py:1250: add_dispatch_support.<locals>.wrapper (from tensorflow.python.ops.array_ops) is deprecated and will be removed in a future version.\n",
      "Instructions for updating:\n",
      "Use tf.where in 2.0, which has the same broadcast rule as np.where\n",
      "WARNING:tensorflow:From D:\\Programing\\Anaconda3\\envs\\tf1_env\\lib\\site-packages\\keras\\backend\\tensorflow_backend.py:986: The name tf.assign_add is deprecated. Please use tf.compat.v1.assign_add instead.\n",
      "\n",
      "Train on 60000 samples, validate on 10000 samples\n",
      "Epoch 1/100\n",
      "60000/60000 [==============================] - 5s 76us/step - loss: 2.3016 - acc: 0.1116 - val_loss: 2.3009 - val_acc: 0.1135\n",
      "Epoch 2/100\n",
      "60000/60000 [==============================] - 2s 28us/step - loss: 2.3007 - acc: 0.1124 - val_loss: 2.3001 - val_acc: 0.1135\n",
      "Epoch 3/100\n",
      "60000/60000 [==============================] - 2s 27us/step - loss: 2.2996 - acc: 0.1124 - val_loss: 2.2980 - val_acc: 0.1135\n",
      "Epoch 4/100\n",
      "60000/60000 [==============================] - 2s 27us/step - loss: 2.2943 - acc: 0.1129 - val_loss: 2.2853 - val_acc: 0.1135\n",
      "Epoch 5/100\n",
      "60000/60000 [==============================] - 2s 27us/step - loss: 2.2350 - acc: 0.1995 - val_loss: 2.0660 - val_acc: 0.2847\n",
      "Epoch 6/100\n",
      "60000/60000 [==============================] - 2s 27us/step - loss: 1.2705 - acc: 0.6268 - val_loss: 0.8277 - val_acc: 0.7197\n",
      "Epoch 7/100\n",
      "60000/60000 [==============================] - 2s 27us/step - loss: 0.6700 - acc: 0.7938 - val_loss: 0.5545 - val_acc: 0.8339\n",
      "Epoch 8/100\n",
      "60000/60000 [==============================] - 2s 27us/step - loss: 0.5433 - acc: 0.8370 - val_loss: 0.4875 - val_acc: 0.8559\n",
      "Epoch 9/100\n",
      "60000/60000 [==============================] - 2s 27us/step - loss: 0.4978 - acc: 0.8498 - val_loss: 0.4716 - val_acc: 0.8602\n",
      "Epoch 10/100\n",
      "60000/60000 [==============================] - 2s 27us/step - loss: 0.4646 - acc: 0.8591 - val_loss: 0.4550 - val_acc: 0.8622\n",
      "Epoch 11/100\n",
      "60000/60000 [==============================] - 2s 27us/step - loss: 0.4469 - acc: 0.8640 - val_loss: 0.4302 - val_acc: 0.8696\n",
      "Epoch 12/100\n",
      "60000/60000 [==============================] - 2s 27us/step - loss: 0.4338 - acc: 0.8695 - val_loss: 0.4295 - val_acc: 0.8695\n",
      "Epoch 13/100\n",
      "60000/60000 [==============================] - 2s 28us/step - loss: 0.4218 - acc: 0.8724 - val_loss: 0.4261 - val_acc: 0.8670\n",
      "Epoch 14/100\n",
      "60000/60000 [==============================] - 2s 27us/step - loss: 0.4140 - acc: 0.8741 - val_loss: 0.4033 - val_acc: 0.8783\n",
      "Epoch 15/100\n",
      "60000/60000 [==============================] - 2s 27us/step - loss: 0.4068 - acc: 0.8771 - val_loss: 0.3995 - val_acc: 0.8773\n",
      "Epoch 16/100\n",
      "60000/60000 [==============================] - 2s 27us/step - loss: 0.4013 - acc: 0.8787 - val_loss: 0.3888 - val_acc: 0.8821\n",
      "Epoch 17/100\n",
      "60000/60000 [==============================] - 2s 27us/step - loss: 0.3947 - acc: 0.8808 - val_loss: 0.3838 - val_acc: 0.8826\n",
      "Epoch 18/100\n",
      "60000/60000 [==============================] - 2s 27us/step - loss: 0.3912 - acc: 0.8817 - val_loss: 0.3729 - val_acc: 0.8898\n",
      "Epoch 19/100\n",
      "60000/60000 [==============================] - 2s 27us/step - loss: 0.3876 - acc: 0.8826 - val_loss: 0.3760 - val_acc: 0.8885\n",
      "Epoch 20/100\n",
      "60000/60000 [==============================] - 2s 26us/step - loss: 0.3830 - acc: 0.8843 - val_loss: 0.3745 - val_acc: 0.8862\n",
      "Epoch 21/100\n",
      "60000/60000 [==============================] - 2s 26us/step - loss: 0.3806 - acc: 0.8854 - val_loss: 0.3708 - val_acc: 0.8893\n",
      "Epoch 22/100\n",
      "60000/60000 [==============================] - 2s 26us/step - loss: 0.3769 - acc: 0.8866 - val_loss: 0.3693 - val_acc: 0.8860\n",
      "Epoch 23/100\n",
      "60000/60000 [==============================] - 2s 26us/step - loss: 0.3752 - acc: 0.8869 - val_loss: 0.3751 - val_acc: 0.8870\n",
      "Epoch 24/100\n",
      "60000/60000 [==============================] - 2s 26us/step - loss: 0.3726 - acc: 0.8880 - val_loss: 0.3685 - val_acc: 0.8934\n",
      "Epoch 25/100\n",
      "60000/60000 [==============================] - 2s 27us/step - loss: 0.3714 - acc: 0.8890 - val_loss: 0.3831 - val_acc: 0.8820\n",
      "Epoch 26/100\n",
      "60000/60000 [==============================] - 2s 27us/step - loss: 0.3687 - acc: 0.8900 - val_loss: 0.3755 - val_acc: 0.8882\n",
      "Epoch 27/100\n",
      "60000/60000 [==============================] - 2s 28us/step - loss: 0.3665 - acc: 0.8909 - val_loss: 0.3570 - val_acc: 0.8946\n",
      "Epoch 28/100\n",
      "60000/60000 [==============================] - 2s 27us/step - loss: 0.3662 - acc: 0.8905 - val_loss: 0.3558 - val_acc: 0.8967\n",
      "Epoch 29/100\n",
      "60000/60000 [==============================] - 2s 27us/step - loss: 0.3646 - acc: 0.8910 - val_loss: 0.3642 - val_acc: 0.8940\n",
      "Epoch 30/100\n",
      "60000/60000 [==============================] - 2s 28us/step - loss: 0.3633 - acc: 0.8915 - val_loss: 0.3818 - val_acc: 0.8901\n",
      "Epoch 31/100\n",
      "60000/60000 [==============================] - 2s 28us/step - loss: 0.3616 - acc: 0.8914 - val_loss: 0.3674 - val_acc: 0.8931\n",
      "Epoch 32/100\n",
      "60000/60000 [==============================] - 2s 27us/step - loss: 0.3616 - acc: 0.8926 - val_loss: 0.3635 - val_acc: 0.8888\n",
      "Epoch 33/100\n",
      "60000/60000 [==============================] - 2s 27us/step - loss: 0.3595 - acc: 0.8933 - val_loss: 0.3488 - val_acc: 0.8988\n",
      "Epoch 34/100\n",
      "60000/60000 [==============================] - 2s 27us/step - loss: 0.3585 - acc: 0.8932 - val_loss: 0.3610 - val_acc: 0.8967\n",
      "Epoch 35/100\n",
      "60000/60000 [==============================] - 2s 26us/step - loss: 0.3577 - acc: 0.8935 - val_loss: 0.3428 - val_acc: 0.9014\n",
      "Epoch 36/100\n",
      "60000/60000 [==============================] - 2s 26us/step - loss: 0.3573 - acc: 0.8935 - val_loss: 0.3486 - val_acc: 0.8992\n",
      "Epoch 37/100\n",
      "60000/60000 [==============================] - 2s 27us/step - loss: 0.3560 - acc: 0.8940 - val_loss: 0.3682 - val_acc: 0.8950\n",
      "Epoch 38/100\n",
      "60000/60000 [==============================] - 2s 27us/step - loss: 0.3560 - acc: 0.8943 - val_loss: 0.3440 - val_acc: 0.9011\n",
      "Epoch 39/100\n",
      "60000/60000 [==============================] - 2s 26us/step - loss: 0.3540 - acc: 0.8951 - val_loss: 0.3569 - val_acc: 0.8963\n",
      "Epoch 40/100\n",
      "60000/60000 [==============================] - 2s 27us/step - loss: 0.3538 - acc: 0.8951 - val_loss: 0.3468 - val_acc: 0.9015\n",
      "Epoch 41/100\n",
      "60000/60000 [==============================] - 2s 26us/step - loss: 0.3536 - acc: 0.8955 - val_loss: 0.3458 - val_acc: 0.9006\n",
      "Epoch 42/100\n",
      "60000/60000 [==============================] - 2s 28us/step - loss: 0.3518 - acc: 0.8957 - val_loss: 0.3455 - val_acc: 0.9003\n",
      "Epoch 43/100\n",
      "60000/60000 [==============================] - 2s 28us/step - loss: 0.3528 - acc: 0.8950 - val_loss: 0.3492 - val_acc: 0.8971\n",
      "Epoch 44/100\n",
      "60000/60000 [==============================] - 2s 28us/step - loss: 0.3511 - acc: 0.8952 - val_loss: 0.3456 - val_acc: 0.8996\n",
      "Epoch 45/100\n",
      "60000/60000 [==============================] - 2s 28us/step - loss: 0.3501 - acc: 0.8964 - val_loss: 0.3433 - val_acc: 0.9026\n",
      "Epoch 46/100\n",
      "60000/60000 [==============================] - 2s 28us/step - loss: 0.3504 - acc: 0.8959 - val_loss: 0.3435 - val_acc: 0.8993\n",
      "Epoch 47/100\n",
      "60000/60000 [==============================] - 2s 28us/step - loss: 0.3494 - acc: 0.8963 - val_loss: 0.3443 - val_acc: 0.8994\n",
      "Epoch 48/100\n",
      "60000/60000 [==============================] - 2s 27us/step - loss: 0.3486 - acc: 0.8968 - val_loss: 0.3616 - val_acc: 0.8982\n",
      "Epoch 49/100\n",
      "60000/60000 [==============================] - 2s 28us/step - loss: 0.3483 - acc: 0.8970 - val_loss: 0.3412 - val_acc: 0.9010\n",
      "Epoch 50/100\n",
      "60000/60000 [==============================] - 2s 27us/step - loss: 0.3472 - acc: 0.8975 - val_loss: 0.3359 - val_acc: 0.9035\n",
      "Epoch 51/100\n",
      "60000/60000 [==============================] - 2s 27us/step - loss: 0.3475 - acc: 0.8973 - val_loss: 0.3375 - val_acc: 0.9022\n",
      "Epoch 52/100\n",
      "60000/60000 [==============================] - 2s 27us/step - loss: 0.3463 - acc: 0.8975 - val_loss: 0.3472 - val_acc: 0.9001\n",
      "Epoch 53/100\n",
      "60000/60000 [==============================] - 2s 27us/step - loss: 0.3474 - acc: 0.8975 - val_loss: 0.3386 - val_acc: 0.9014\n",
      "Epoch 54/100\n",
      "60000/60000 [==============================] - 2s 27us/step - loss: 0.3454 - acc: 0.8982 - val_loss: 0.3402 - val_acc: 0.9009\n",
      "Epoch 55/100\n",
      "60000/60000 [==============================] - 2s 27us/step - loss: 0.3446 - acc: 0.8987 - val_loss: 0.3464 - val_acc: 0.9007\n",
      "Epoch 56/100\n",
      "60000/60000 [==============================] - 2s 26us/step - loss: 0.3439 - acc: 0.8983 - val_loss: 0.3442 - val_acc: 0.9012\n",
      "Epoch 57/100\n",
      "60000/60000 [==============================] - 2s 26us/step - loss: 0.3435 - acc: 0.8985 - val_loss: 0.3447 - val_acc: 0.9023\n",
      "Epoch 58/100\n",
      "60000/60000 [==============================] - 2s 26us/step - loss: 0.3437 - acc: 0.8989 - val_loss: 0.3489 - val_acc: 0.8983\n",
      "Epoch 59/100\n",
      "60000/60000 [==============================] - 2s 27us/step - loss: 0.3441 - acc: 0.8988 - val_loss: 0.3462 - val_acc: 0.8988\n",
      "Epoch 60/100\n",
      "60000/60000 [==============================] - 2s 26us/step - loss: 0.3433 - acc: 0.8987 - val_loss: 0.3365 - val_acc: 0.9027\n",
      "Epoch 61/100\n",
      "60000/60000 [==============================] - 2s 26us/step - loss: 0.3428 - acc: 0.8989 - val_loss: 0.3436 - val_acc: 0.9016\n",
      "Epoch 62/100\n",
      "60000/60000 [==============================] - 2s 27us/step - loss: 0.3417 - acc: 0.8996 - val_loss: 0.3407 - val_acc: 0.9006\n",
      "Epoch 63/100\n",
      "60000/60000 [==============================] - 2s 30us/step - loss: 0.3415 - acc: 0.8998 - val_loss: 0.3338 - val_acc: 0.9044\n",
      "Epoch 64/100\n",
      "60000/60000 [==============================] - 2s 30us/step - loss: 0.3410 - acc: 0.8990 - val_loss: 0.3400 - val_acc: 0.8992\n",
      "Epoch 65/100\n",
      "60000/60000 [==============================] - 2s 28us/step - loss: 0.3398 - acc: 0.9001 - val_loss: 0.3427 - val_acc: 0.9015\n",
      "Epoch 66/100\n",
      "60000/60000 [==============================] - 2s 28us/step - loss: 0.3395 - acc: 0.9000 - val_loss: 0.3278 - val_acc: 0.9058\n",
      "Epoch 67/100\n",
      "60000/60000 [==============================] - 2s 28us/step - loss: 0.3396 - acc: 0.8996 - val_loss: 0.3362 - val_acc: 0.9037\n",
      "Epoch 68/100\n",
      "60000/60000 [==============================] - 2s 28us/step - loss: 0.3399 - acc: 0.9003 - val_loss: 0.3297 - val_acc: 0.9049\n",
      "Epoch 69/100\n",
      "60000/60000 [==============================] - 2s 27us/step - loss: 0.3386 - acc: 0.9007 - val_loss: 0.3306 - val_acc: 0.9031\n",
      "Epoch 70/100\n",
      "60000/60000 [==============================] - 2s 27us/step - loss: 0.3391 - acc: 0.9011 - val_loss: 0.3381 - val_acc: 0.9031\n",
      "Epoch 71/100\n",
      "60000/60000 [==============================] - 2s 27us/step - loss: 0.3385 - acc: 0.9011 - val_loss: 0.3372 - val_acc: 0.9046\n",
      "Epoch 72/100\n",
      "60000/60000 [==============================] - 2s 28us/step - loss: 0.3379 - acc: 0.9009 - val_loss: 0.3345 - val_acc: 0.9038\n",
      "Epoch 73/100\n",
      "60000/60000 [==============================] - 2s 28us/step - loss: 0.3378 - acc: 0.9010 - val_loss: 0.3268 - val_acc: 0.9064\n",
      "Epoch 74/100\n",
      "60000/60000 [==============================] - 2s 27us/step - loss: 0.3369 - acc: 0.9013 - val_loss: 0.3349 - val_acc: 0.9039\n",
      "Epoch 75/100\n",
      "60000/60000 [==============================] - 2s 27us/step - loss: 0.3359 - acc: 0.9014 - val_loss: 0.3367 - val_acc: 0.9011\n",
      "Epoch 76/100\n",
      "60000/60000 [==============================] - 2s 27us/step - loss: 0.3370 - acc: 0.9009 - val_loss: 0.3324 - val_acc: 0.9040\n",
      "Epoch 77/100\n",
      "60000/60000 [==============================] - 2s 28us/step - loss: 0.3361 - acc: 0.9021 - val_loss: 0.3387 - val_acc: 0.9038\n",
      "Epoch 78/100\n",
      "60000/60000 [==============================] - 2s 30us/step - loss: 0.3357 - acc: 0.9017 - val_loss: 0.3349 - val_acc: 0.9023\n",
      "Epoch 79/100\n",
      "60000/60000 [==============================] - 2s 29us/step - loss: 0.3349 - acc: 0.9023 - val_loss: 0.3267 - val_acc: 0.9059\n",
      "Epoch 80/100\n",
      "60000/60000 [==============================] - 2s 28us/step - loss: 0.3345 - acc: 0.9027 - val_loss: 0.3297 - val_acc: 0.9069\n",
      "Epoch 81/100\n",
      "60000/60000 [==============================] - 2s 28us/step - loss: 0.3345 - acc: 0.9022 - val_loss: 0.3338 - val_acc: 0.9035\n",
      "Epoch 82/100\n",
      "60000/60000 [==============================] - 2s 28us/step - loss: 0.3347 - acc: 0.9021 - val_loss: 0.3309 - val_acc: 0.9035\n",
      "Epoch 83/100\n",
      "60000/60000 [==============================] - 2s 29us/step - loss: 0.3337 - acc: 0.9028 - val_loss: 0.3245 - val_acc: 0.9092\n",
      "Epoch 84/100\n",
      "60000/60000 [==============================] - 2s 28us/step - loss: 0.3333 - acc: 0.9024 - val_loss: 0.3293 - val_acc: 0.9057\n",
      "Epoch 85/100\n",
      "60000/60000 [==============================] - 2s 28us/step - loss: 0.3336 - acc: 0.9025 - val_loss: 0.3287 - val_acc: 0.9047\n",
      "Epoch 86/100\n",
      "60000/60000 [==============================] - 2s 27us/step - loss: 0.3325 - acc: 0.9030 - val_loss: 0.3281 - val_acc: 0.9079\n",
      "Epoch 87/100\n",
      "60000/60000 [==============================] - 2s 28us/step - loss: 0.3338 - acc: 0.9034 - val_loss: 0.3271 - val_acc: 0.9079\n",
      "Epoch 88/100\n",
      "60000/60000 [==============================] - 2s 27us/step - loss: 0.3328 - acc: 0.9039 - val_loss: 0.3343 - val_acc: 0.9034\n",
      "Epoch 89/100\n",
      "60000/60000 [==============================] - 2s 28us/step - loss: 0.3321 - acc: 0.9035 - val_loss: 0.3230 - val_acc: 0.9062\n",
      "Epoch 90/100\n",
      "60000/60000 [==============================] - 2s 28us/step - loss: 0.3309 - acc: 0.9035 - val_loss: 0.3324 - val_acc: 0.9062\n",
      "Epoch 91/100\n",
      "60000/60000 [==============================] - 2s 28us/step - loss: 0.3308 - acc: 0.9035 - val_loss: 0.3209 - val_acc: 0.9099\n",
      "Epoch 92/100\n",
      "60000/60000 [==============================] - 2s 28us/step - loss: 0.3298 - acc: 0.9035 - val_loss: 0.3274 - val_acc: 0.9058\n",
      "Epoch 93/100\n",
      "60000/60000 [==============================] - 2s 29us/step - loss: 0.3303 - acc: 0.9033 - val_loss: 0.3320 - val_acc: 0.9042\n",
      "Epoch 94/100\n",
      "60000/60000 [==============================] - 2s 30us/step - loss: 0.3292 - acc: 0.9036 - val_loss: 0.3374 - val_acc: 0.9038\n",
      "Epoch 95/100\n",
      "60000/60000 [==============================] - 2s 28us/step - loss: 0.3294 - acc: 0.9045 - val_loss: 0.3442 - val_acc: 0.8999\n",
      "Epoch 96/100\n",
      "60000/60000 [==============================] - 2s 28us/step - loss: 0.3288 - acc: 0.9042 - val_loss: 0.3283 - val_acc: 0.9066\n",
      "Epoch 97/100\n",
      "60000/60000 [==============================] - 2s 28us/step - loss: 0.3288 - acc: 0.9042 - val_loss: 0.3318 - val_acc: 0.9080\n",
      "Epoch 98/100\n",
      "60000/60000 [==============================] - 2s 28us/step - loss: 0.3289 - acc: 0.9046 - val_loss: 0.3219 - val_acc: 0.9079\n",
      "Epoch 99/100\n",
      "60000/60000 [==============================] - 2s 28us/step - loss: 0.3273 - acc: 0.9048 - val_loss: 0.3346 - val_acc: 0.9060\n",
      "Epoch 100/100\n",
      "60000/60000 [==============================] - 2s 27us/step - loss: 0.3281 - acc: 0.9051 - val_loss: 0.3253 - val_acc: 0.9062\n"
     ]
    },
    {
     "data": {
      "text/plain": [
       "<keras.callbacks.History at 0x1ec0baa0ba8>"
      ]
     },
     "execution_count": 24,
     "metadata": {},
     "output_type": "execute_result"
    }
   ],
   "source": [
    "# 训练模型\n",
    "model.fit(X_train,\n",
    "          Y_train,\n",
    "          batch_size=batch_size,\n",
    "          epochs=epochs,\n",
    "          verbose=1,\n",
    "          validation_data=(X_test, Y_test))"
   ]
  },
  {
   "cell_type": "code",
   "execution_count": 25,
   "metadata": {},
   "outputs": [
    {
     "name": "stdout",
     "output_type": "stream",
     "text": [
      "Test score: 0.3252777906358242\n",
      "Test accuary: 0.9062\n"
     ]
    }
   ],
   "source": [
    "# 评估模型\n",
    "score = model.evaluate(X_test, Y_test, verbose=0)\n",
    "print('Test score:', score[0])\n",
    "print('Test accuary:', score[1])"
   ]
  },
  {
   "cell_type": "code",
   "execution_count": 27,
   "metadata": {},
   "outputs": [],
   "source": [
    "model.save('cnn_model.h5')"
   ]
  },
  {
   "cell_type": "code",
   "execution_count": 16,
   "metadata": {},
   "outputs": [],
   "source": [
    "from keras.models import load_model\n",
    "import numpy as np\n",
    "import matplotlib.pyplot as plt\n",
    "import cv2"
   ]
  },
  {
   "cell_type": "code",
   "execution_count": 18,
   "metadata": {},
   "outputs": [
    {
     "data": {
      "text/plain": [
       "<matplotlib.image.AxesImage at 0x23b2e77e278>"
      ]
     },
     "execution_count": 18,
     "metadata": {},
     "output_type": "execute_result"
    },
    {
     "data": {
      "image/png": "[encoded data removed]",
      "text/plain": [
       "<Figure size 432x288 with 1 Axes>"
      ]
     },
     "metadata": {
      "needs_background": "light"
     },
     "output_type": "display_data"
    }
   ],
   "source": [
    "i4 = cv2.imread('4.png', 0)\n",
    "plt.imshow(i4)"
   ]
  },
  {
   "cell_type": "code",
   "execution_count": 19,
   "metadata": {},
   "outputs": [
    {
     "data": {
      "text/plain": [
       "<matplotlib.image.AxesImage at 0x23b2e7e2198>"
      ]
     },
     "execution_count": 19,
     "metadata": {},
     "output_type": "execute_result"
    },
    {
     "data": {
      "image/png": "[encoded data removed]",
      "text/plain": [
       "<Figure size 432x288 with 1 Axes>"
      ]
     },
     "metadata": {
      "needs_background": "light"
     },
     "output_type": "display_data"
    }
   ],
   "source": [
    "i5 = cv2.imread('5.png', 0)\n",
    "plt.imshow(i5)"
   ]
  },
  {
   "cell_type": "code",
   "execution_count": 20,
   "metadata": {},
   "outputs": [
    {
     "data": {
      "text/plain": [
       "<matplotlib.image.AxesImage at 0x23b2e839c50>"
      ]
     },
     "execution_count": 20,
     "metadata": {},
     "output_type": "execute_result"
    },
    {
     "data": {
      "image/png": "[encoded data removed]",
      "text/plain": [
       "<Figure size 432x288 with 1 Axes>"
      ]
     },
     "metadata": {
      "needs_background": "light"
     },
     "output_type": "display_data"
    }
   ],
   "source": [
    "i6 = cv2.imread('6.png', 0)\n",
    "plt.imshow(i6)"
   ]
  },
  {
   "cell_type": "code",
   "execution_count": 21,
   "metadata": {},
   "outputs": [
    {
     "data": {
      "text/plain": [
       "<matplotlib.image.AxesImage at 0x23b2e89a668>"
      ]
     },
     "execution_count": 21,
     "metadata": {},
     "output_type": "execute_result"
    },
    {
     "data": {
      "image/png": "[encoded data removed]",
      "text/plain": [
       "<Figure size 432x288 with 1 Axes>"
      ]
     },
     "metadata": {
      "needs_background": "light"
     },
     "output_type": "display_data"
    }
   ],
   "source": [
    "i7 = cv2.imread('7.png', 0)\n",
    "plt.imshow(i7)"
   ]
  },
  {
   "cell_type": "code",
   "execution_count": 24,
   "metadata": {},
   "outputs": [],
   "source": [
    "model = load_model('cnn_model.h5')\n",
    "img_list = [i7, i6, i5, i4]"
   ]
  },
  {
   "cell_type": "code",
   "execution_count": 25,
   "metadata": {},
   "outputs": [
    {
     "name": "stdout",
     "output_type": "stream",
     "text": [
      "识别为：\n",
      "[[1.5467405e-05 0.0000000e+00 1.0728836e-05 1.9453168e-03 2.9802322e-07\n",
      "  1.9460917e-05 0.0000000e+00 1.3823211e-03 9.4805800e-06 6.1301151e-05]]\n",
      "[3]\n",
      "识别为：\n",
      "[[1.6748905e-05 0.0000000e+00 2.5033951e-06 1.0848045e-05 3.8743019e-07\n",
      "  1.0955334e-03 0.0000000e+00 0.0000000e+00 4.4854663e-05 2.6899434e-05]]\n",
      "[5]\n",
      "识别为：\n",
      "[[3.8743019e-07 0.0000000e+00 1.9142032e-04 5.0887465e-04 3.7234724e-03\n",
      "  3.0279160e-05 3.9637089e-06 0.0000000e+00 7.2856370e-04 8.2767582e-07]]\n",
      "[4]\n",
      "识别为：\n",
      "[[0.0000000e+00 0.0000000e+00 1.1920929e-07 1.4901161e-07 3.9708614e-04\n",
      "  8.9406967e-08 1.1622906e-06 4.7266483e-05 7.2480708e-07 3.7196351e-04]]\n",
      "[4]\n"
     ]
    }
   ],
   "source": [
    "for img in img_list:\n",
    "    img = np.reshape(img, (1, 28, 28, 1)).astype(bool).astype('float32') / 255\n",
    "    my_proba = model.predict_proba(img)\n",
    "    my_predict = model.predict_classes(img)\n",
    "    print('识别为：')\n",
    "    print(my_proba)\n",
    "    print(my_predict)"
   ]
  },
  {
   "cell_type": "code",
   "execution_count": null,
   "metadata": {},
   "outputs": [],
   "source": []
  }
 ],
 "metadata": {
  "kernelspec": {
   "display_name": "Python [conda env:tf1_env]",
   "language": "python",
   "name": "conda-env-tf1_env-py"
  },
  "language_info": {
   "codemirror_mode": {
    "name": "ipython",
    "version": 3
   },
   "file_extension": ".py",
   "mimetype": "text/x-python",
   "name": "python",
   "nbconvert_exporter": "python",
   "pygments_lexer": "ipython3",
   "version": "3.6.10"
  }
 },
 "nbformat": 4,
 "nbformat_minor": 4
}
