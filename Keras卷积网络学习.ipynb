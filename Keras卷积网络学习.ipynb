{
 "cells": [
  {
   "cell_type": "code",
   "execution_count": 3,
   "metadata": {},
   "outputs": [],
   "source": [
    "import numpy as np\n",
    "from keras.models import Sequential\n",
    "from keras.layers import Dense, Flatten\n",
    "from keras.layers.convolutional import Conv2D, MaxPooling2D\n",
    "from keras.utils import np_utils\n",
    "from keras.utils.vis_utils import model_to_dot\n",
    "from IPython.display import SVG\n",
    "%matplotlib inline"
   ]
  },
  {
   "cell_type": "code",
   "execution_count": 8,
   "metadata": {},
   "outputs": [
    {
     "name": "stdout",
     "output_type": "stream",
     "text": [
      "WARNING:tensorflow:From D:\\Programing\\Anaconda3\\envs\\tf1_env\\lib\\site-packages\\keras\\backend\\tensorflow_backend.py:74: The name tf.get_default_graph is deprecated. Please use tf.compat.v1.get_default_graph instead.\n",
      "\n",
      "WARNING:tensorflow:From D:\\Programing\\Anaconda3\\envs\\tf1_env\\lib\\site-packages\\keras\\backend\\tensorflow_backend.py:517: The name tf.placeholder is deprecated. Please use tf.compat.v1.placeholder instead.\n",
      "\n",
      "WARNING:tensorflow:From D:\\Programing\\Anaconda3\\envs\\tf1_env\\lib\\site-packages\\keras\\backend\\tensorflow_backend.py:4138: The name tf.random_uniform is deprecated. Please use tf.random.uniform instead.\n",
      "\n",
      "WARNING:tensorflow:From D:\\Programing\\Anaconda3\\envs\\tf1_env\\lib\\site-packages\\keras\\backend\\tensorflow_backend.py:3976: The name tf.nn.max_pool is deprecated. Please use tf.nn.max_pool2d instead.\n",
      "\n"
     ]
    }
   ],
   "source": [
    "model = Sequential()\n",
    "model.add(\n",
    "    Conv2D(2, (3, 3), padding='same', activation='relu', input_shape=(8, 8, 1)))\n",
    "model.add(MaxPooling2D(pool_size=(2, 2)))\n",
    "model.add(Conv2D(3, (2, 2), padding='same', activation='relu'))\n",
    "model.add(MaxPooling2D(pool_size=(2, 2)))\n",
    "model.add(Flatten())\n",
    "model.add(Dense(8, activation='relu'))\n",
    "model.add(Dense(3, activation='softmax'))"
   ]
  },
  {
   "cell_type": "code",
   "execution_count": 10,
   "metadata": {},
   "outputs": [
    {
     "data": {
      "image/svg+xml": [
       "<svg height=\"626pt\" viewBox=\"0.00 0.00 371.00 626.00\" width=\"371pt\" xmlns=\"http://www.w3.org/2000/svg\" xmlns:xlink=\"http://www.w3.org/1999/xlink\">\n",
       "<g class=\"graph\" id=\"graph0\" transform=\"scale(1 1) rotate(0) translate(4 622)\">\n",
       "<title>G</title>\n",
       "<polygon fill=\"white\" points=\"-4,4 -4,-622 367,-622 367,4 -4,4\" stroke=\"none\"/>\n",
       "<!-- 1691811854600 -->\n",
       "<g class=\"node\" id=\"node1\"><title>1691811854600</title>\n",
       "<polygon fill=\"none\" points=\"41,-498.5 41,-544.5 322,-544.5 322,-498.5 41,-498.5\" stroke=\"black\"/>\n",
       "<text font-family=\"Times New Roman,serif\" font-size=\"14.00\" text-anchor=\"middle\" x=\"104.5\" y=\"-517.8\">conv2d_1: Conv2D</text>\n",
       "<polyline fill=\"none\" points=\"168,-498.5 168,-544.5 \" stroke=\"black\"/>\n",
       "<text font-family=\"Times New Roman,serif\" font-size=\"14.00\" text-anchor=\"middle\" x=\"196\" y=\"-529.3\">input:</text>\n",
       "<polyline fill=\"none\" points=\"168,-521.5 224,-521.5 \" stroke=\"black\"/>\n",
       "<text font-family=\"Times New Roman,serif\" font-size=\"14.00\" text-anchor=\"middle\" x=\"196\" y=\"-506.3\">output:</text>\n",
       "<polyline fill=\"none\" points=\"224,-498.5 224,-544.5 \" stroke=\"black\"/>\n",
       "<text font-family=\"Times New Roman,serif\" font-size=\"14.00\" text-anchor=\"middle\" x=\"273\" y=\"-529.3\">(None, 8, 8, 1)</text>\n",
       "<polyline fill=\"none\" points=\"224,-521.5 322,-521.5 \" stroke=\"black\"/>\n",
       "<text font-family=\"Times New Roman,serif\" font-size=\"14.00\" text-anchor=\"middle\" x=\"273\" y=\"-506.3\">(None, 8, 8, 2)</text>\n",
       "</g>\n",
       "<!-- 1691758106440 -->\n",
       "<g class=\"node\" id=\"node2\"><title>1691758106440</title>\n",
       "<polygon fill=\"none\" points=\"0,-415.5 0,-461.5 363,-461.5 363,-415.5 0,-415.5\" stroke=\"black\"/>\n",
       "<text font-family=\"Times New Roman,serif\" font-size=\"14.00\" text-anchor=\"middle\" x=\"104.5\" y=\"-434.8\">max_pooling2d_1: MaxPooling2D</text>\n",
       "<polyline fill=\"none\" points=\"209,-415.5 209,-461.5 \" stroke=\"black\"/>\n",
       "<text font-family=\"Times New Roman,serif\" font-size=\"14.00\" text-anchor=\"middle\" x=\"237\" y=\"-446.3\">input:</text>\n",
       "<polyline fill=\"none\" points=\"209,-438.5 265,-438.5 \" stroke=\"black\"/>\n",
       "<text font-family=\"Times New Roman,serif\" font-size=\"14.00\" text-anchor=\"middle\" x=\"237\" y=\"-423.3\">output:</text>\n",
       "<polyline fill=\"none\" points=\"265,-415.5 265,-461.5 \" stroke=\"black\"/>\n",
       "<text font-family=\"Times New Roman,serif\" font-size=\"14.00\" text-anchor=\"middle\" x=\"314\" y=\"-446.3\">(None, 8, 8, 2)</text>\n",
       "<polyline fill=\"none\" points=\"265,-438.5 363,-438.5 \" stroke=\"black\"/>\n",
       "<text font-family=\"Times New Roman,serif\" font-size=\"14.00\" text-anchor=\"middle\" x=\"314\" y=\"-423.3\">(None, 4, 4, 2)</text>\n",
       "</g>\n",
       "<!-- 1691811854600&#45;&gt;1691758106440 -->\n",
       "<g class=\"edge\" id=\"edge2\"><title>1691811854600-&gt;1691758106440</title>\n",
       "<path d=\"M181.5,-498.366C181.5,-490.152 181.5,-480.658 181.5,-471.725\" fill=\"none\" stroke=\"black\"/>\n",
       "<polygon fill=\"black\" points=\"185,-471.607 181.5,-461.607 178,-471.607 185,-471.607\" stroke=\"black\"/>\n",
       "</g>\n",
       "<!-- 1691811855888 -->\n",
       "<g class=\"node\" id=\"node3\"><title>1691811855888</title>\n",
       "<polygon fill=\"none\" points=\"41,-332.5 41,-378.5 322,-378.5 322,-332.5 41,-332.5\" stroke=\"black\"/>\n",
       "<text font-family=\"Times New Roman,serif\" font-size=\"14.00\" text-anchor=\"middle\" x=\"104.5\" y=\"-351.8\">conv2d_2: Conv2D</text>\n",
       "<polyline fill=\"none\" points=\"168,-332.5 168,-378.5 \" stroke=\"black\"/>\n",
       "<text font-family=\"Times New Roman,serif\" font-size=\"14.00\" text-anchor=\"middle\" x=\"196\" y=\"-363.3\">input:</text>\n",
       "<polyline fill=\"none\" points=\"168,-355.5 224,-355.5 \" stroke=\"black\"/>\n",
       "<text font-family=\"Times New Roman,serif\" font-size=\"14.00\" text-anchor=\"middle\" x=\"196\" y=\"-340.3\">output:</text>\n",
       "<polyline fill=\"none\" points=\"224,-332.5 224,-378.5 \" stroke=\"black\"/>\n",
       "<text font-family=\"Times New Roman,serif\" font-size=\"14.00\" text-anchor=\"middle\" x=\"273\" y=\"-363.3\">(None, 4, 4, 2)</text>\n",
       "<polyline fill=\"none\" points=\"224,-355.5 322,-355.5 \" stroke=\"black\"/>\n",
       "<text font-family=\"Times New Roman,serif\" font-size=\"14.00\" text-anchor=\"middle\" x=\"273\" y=\"-340.3\">(None, 4, 4, 3)</text>\n",
       "</g>\n",
       "<!-- 1691758106440&#45;&gt;1691811855888 -->\n",
       "<g class=\"edge\" id=\"edge3\"><title>1691758106440-&gt;1691811855888</title>\n",
       "<path d=\"M181.5,-415.366C181.5,-407.152 181.5,-397.658 181.5,-388.725\" fill=\"none\" stroke=\"black\"/>\n",
       "<polygon fill=\"black\" points=\"185,-388.607 181.5,-378.607 178,-388.607 185,-388.607\" stroke=\"black\"/>\n",
       "</g>\n",
       "<!-- 1691814421784 -->\n",
       "<g class=\"node\" id=\"node4\"><title>1691814421784</title>\n",
       "<polygon fill=\"none\" points=\"0,-249.5 0,-295.5 363,-295.5 363,-249.5 0,-249.5\" stroke=\"black\"/>\n",
       "<text font-family=\"Times New Roman,serif\" font-size=\"14.00\" text-anchor=\"middle\" x=\"104.5\" y=\"-268.8\">max_pooling2d_2: MaxPooling2D</text>\n",
       "<polyline fill=\"none\" points=\"209,-249.5 209,-295.5 \" stroke=\"black\"/>\n",
       "<text font-family=\"Times New Roman,serif\" font-size=\"14.00\" text-anchor=\"middle\" x=\"237\" y=\"-280.3\">input:</text>\n",
       "<polyline fill=\"none\" points=\"209,-272.5 265,-272.5 \" stroke=\"black\"/>\n",
       "<text font-family=\"Times New Roman,serif\" font-size=\"14.00\" text-anchor=\"middle\" x=\"237\" y=\"-257.3\">output:</text>\n",
       "<polyline fill=\"none\" points=\"265,-249.5 265,-295.5 \" stroke=\"black\"/>\n",
       "<text font-family=\"Times New Roman,serif\" font-size=\"14.00\" text-anchor=\"middle\" x=\"314\" y=\"-280.3\">(None, 4, 4, 3)</text>\n",
       "<polyline fill=\"none\" points=\"265,-272.5 363,-272.5 \" stroke=\"black\"/>\n",
       "<text font-family=\"Times New Roman,serif\" font-size=\"14.00\" text-anchor=\"middle\" x=\"314\" y=\"-257.3\">(None, 2, 2, 3)</text>\n",
       "</g>\n",
       "<!-- 1691811855888&#45;&gt;1691814421784 -->\n",
       "<g class=\"edge\" id=\"edge4\"><title>1691811855888-&gt;1691814421784</title>\n",
       "<path d=\"M181.5,-332.366C181.5,-324.152 181.5,-314.658 181.5,-305.725\" fill=\"none\" stroke=\"black\"/>\n",
       "<polygon fill=\"black\" points=\"185,-305.607 181.5,-295.607 178,-305.607 185,-305.607\" stroke=\"black\"/>\n",
       "</g>\n",
       "<!-- 1691819811840 -->\n",
       "<g class=\"node\" id=\"node5\"><title>1691819811840</title>\n",
       "<polygon fill=\"none\" points=\"50,-166.5 50,-212.5 313,-212.5 313,-166.5 50,-166.5\" stroke=\"black\"/>\n",
       "<text font-family=\"Times New Roman,serif\" font-size=\"14.00\" text-anchor=\"middle\" x=\"104.5\" y=\"-185.8\">flatten_1: Flatten</text>\n",
       "<polyline fill=\"none\" points=\"159,-166.5 159,-212.5 \" stroke=\"black\"/>\n",
       "<text font-family=\"Times New Roman,serif\" font-size=\"14.00\" text-anchor=\"middle\" x=\"187\" y=\"-197.3\">input:</text>\n",
       "<polyline fill=\"none\" points=\"159,-189.5 215,-189.5 \" stroke=\"black\"/>\n",
       "<text font-family=\"Times New Roman,serif\" font-size=\"14.00\" text-anchor=\"middle\" x=\"187\" y=\"-174.3\">output:</text>\n",
       "<polyline fill=\"none\" points=\"215,-166.5 215,-212.5 \" stroke=\"black\"/>\n",
       "<text font-family=\"Times New Roman,serif\" font-size=\"14.00\" text-anchor=\"middle\" x=\"264\" y=\"-197.3\">(None, 2, 2, 3)</text>\n",
       "<polyline fill=\"none\" points=\"215,-189.5 313,-189.5 \" stroke=\"black\"/>\n",
       "<text font-family=\"Times New Roman,serif\" font-size=\"14.00\" text-anchor=\"middle\" x=\"264\" y=\"-174.3\">(None, 12)</text>\n",
       "</g>\n",
       "<!-- 1691814421784&#45;&gt;1691819811840 -->\n",
       "<g class=\"edge\" id=\"edge5\"><title>1691814421784-&gt;1691819811840</title>\n",
       "<path d=\"M181.5,-249.366C181.5,-241.152 181.5,-231.658 181.5,-222.725\" fill=\"none\" stroke=\"black\"/>\n",
       "<polygon fill=\"black\" points=\"185,-222.607 181.5,-212.607 178,-222.607 185,-222.607\" stroke=\"black\"/>\n",
       "</g>\n",
       "<!-- 1691819814640 -->\n",
       "<g class=\"node\" id=\"node6\"><title>1691819814640</title>\n",
       "<polygon fill=\"none\" points=\"63,-83.5 63,-129.5 300,-129.5 300,-83.5 63,-83.5\" stroke=\"black\"/>\n",
       "<text font-family=\"Times New Roman,serif\" font-size=\"14.00\" text-anchor=\"middle\" x=\"115\" y=\"-102.8\">dense_1: Dense</text>\n",
       "<polyline fill=\"none\" points=\"167,-83.5 167,-129.5 \" stroke=\"black\"/>\n",
       "<text font-family=\"Times New Roman,serif\" font-size=\"14.00\" text-anchor=\"middle\" x=\"195\" y=\"-114.3\">input:</text>\n",
       "<polyline fill=\"none\" points=\"167,-106.5 223,-106.5 \" stroke=\"black\"/>\n",
       "<text font-family=\"Times New Roman,serif\" font-size=\"14.00\" text-anchor=\"middle\" x=\"195\" y=\"-91.3\">output:</text>\n",
       "<polyline fill=\"none\" points=\"223,-83.5 223,-129.5 \" stroke=\"black\"/>\n",
       "<text font-family=\"Times New Roman,serif\" font-size=\"14.00\" text-anchor=\"middle\" x=\"261.5\" y=\"-114.3\">(None, 12)</text>\n",
       "<polyline fill=\"none\" points=\"223,-106.5 300,-106.5 \" stroke=\"black\"/>\n",
       "<text font-family=\"Times New Roman,serif\" font-size=\"14.00\" text-anchor=\"middle\" x=\"261.5\" y=\"-91.3\">(None, 8)</text>\n",
       "</g>\n",
       "<!-- 1691819811840&#45;&gt;1691819814640 -->\n",
       "<g class=\"edge\" id=\"edge6\"><title>1691819811840-&gt;1691819814640</title>\n",
       "<path d=\"M181.5,-166.366C181.5,-158.152 181.5,-148.658 181.5,-139.725\" fill=\"none\" stroke=\"black\"/>\n",
       "<polygon fill=\"black\" points=\"185,-139.607 181.5,-129.607 178,-139.607 185,-139.607\" stroke=\"black\"/>\n",
       "</g>\n",
       "<!-- 1691819812512 -->\n",
       "<g class=\"node\" id=\"node7\"><title>1691819812512</title>\n",
       "<polygon fill=\"none\" points=\"66.5,-0.5 66.5,-46.5 296.5,-46.5 296.5,-0.5 66.5,-0.5\" stroke=\"black\"/>\n",
       "<text font-family=\"Times New Roman,serif\" font-size=\"14.00\" text-anchor=\"middle\" x=\"118.5\" y=\"-19.8\">dense_2: Dense</text>\n",
       "<polyline fill=\"none\" points=\"170.5,-0.5 170.5,-46.5 \" stroke=\"black\"/>\n",
       "<text font-family=\"Times New Roman,serif\" font-size=\"14.00\" text-anchor=\"middle\" x=\"198.5\" y=\"-31.3\">input:</text>\n",
       "<polyline fill=\"none\" points=\"170.5,-23.5 226.5,-23.5 \" stroke=\"black\"/>\n",
       "<text font-family=\"Times New Roman,serif\" font-size=\"14.00\" text-anchor=\"middle\" x=\"198.5\" y=\"-8.3\">output:</text>\n",
       "<polyline fill=\"none\" points=\"226.5,-0.5 226.5,-46.5 \" stroke=\"black\"/>\n",
       "<text font-family=\"Times New Roman,serif\" font-size=\"14.00\" text-anchor=\"middle\" x=\"261.5\" y=\"-31.3\">(None, 8)</text>\n",
       "<polyline fill=\"none\" points=\"226.5,-23.5 296.5,-23.5 \" stroke=\"black\"/>\n",
       "<text font-family=\"Times New Roman,serif\" font-size=\"14.00\" text-anchor=\"middle\" x=\"261.5\" y=\"-8.3\">(None, 3)</text>\n",
       "</g>\n",
       "<!-- 1691819814640&#45;&gt;1691819812512 -->\n",
       "<g class=\"edge\" id=\"edge7\"><title>1691819814640-&gt;1691819812512</title>\n",
       "<path d=\"M181.5,-83.3664C181.5,-75.1516 181.5,-65.6579 181.5,-56.7252\" fill=\"none\" stroke=\"black\"/>\n",
       "<polygon fill=\"black\" points=\"185,-56.6068 181.5,-46.6068 178,-56.6069 185,-56.6068\" stroke=\"black\"/>\n",
       "</g>\n",
       "<!-- 1691811855552 -->\n",
       "<g class=\"node\" id=\"node8\"><title>1691811855552</title>\n",
       "<polygon fill=\"none\" points=\"129.5,-581.5 129.5,-617.5 233.5,-617.5 233.5,-581.5 129.5,-581.5\" stroke=\"black\"/>\n",
       "<text font-family=\"Times New Roman,serif\" font-size=\"14.00\" text-anchor=\"middle\" x=\"181.5\" y=\"-595.8\">1691811855552</text>\n",
       "</g>\n",
       "<!-- 1691811855552&#45;&gt;1691811854600 -->\n",
       "<g class=\"edge\" id=\"edge1\"><title>1691811855552-&gt;1691811854600</title>\n",
       "<path d=\"M181.5,-581.254C181.5,-573.363 181.5,-563.749 181.5,-554.602\" fill=\"none\" stroke=\"black\"/>\n",
       "<polygon fill=\"black\" points=\"185,-554.591 181.5,-544.591 178,-554.591 185,-554.591\" stroke=\"black\"/>\n",
       "</g>\n",
       "</g>\n",
       "</svg>"
      ],
      "text/plain": [
       "<IPython.core.display.SVG object>"
      ]
     },
     "execution_count": 10,
     "metadata": {},
     "output_type": "execute_result"
    }
   ],
   "source": [
    "SVG(model_to_dot(model, show_shapes=True).create(prog='dot', format='svg'))"
   ]
  },
  {
   "cell_type": "code",
   "execution_count": 18,
   "metadata": {},
   "outputs": [
    {
     "name": "stdout",
     "output_type": "stream",
     "text": [
      "Found 0 images belonging to 0 classes.\n"
     ]
    }
   ],
   "source": [
    "from keras.preprocessing.image import ImageDataGenerator\n",
    "train_datagen=ImageDataGenerator(rescale=1./255)\n",
    "train_generator = train_datagen.flow_from_directory(\n",
    "    'data_set/handwriting/train',\n",
    "    target_size=(24, 24),\n",
    "    batch_size=3,\n",
    "    class_mode='categorical')"
   ]
  },
  {
   "cell_type": "code",
   "execution_count": null,
   "metadata": {},
   "outputs": [],
   "source": []
  }
 ],
 "metadata": {
  "kernelspec": {
   "display_name": "Python [conda env:tf1_env]",
   "language": "python",
   "name": "conda-env-tf1_env-py"
  },
  "language_info": {
   "codemirror_mode": {
    "name": "ipython",
    "version": 3
   },
   "file_extension": ".py",
   "mimetype": "text/x-python",
   "name": "python",
   "nbconvert_exporter": "python",
   "pygments_lexer": "ipython3",
   "version": "3.6.10"
  }
 },
 "nbformat": 4,
 "nbformat_minor": 4
}
