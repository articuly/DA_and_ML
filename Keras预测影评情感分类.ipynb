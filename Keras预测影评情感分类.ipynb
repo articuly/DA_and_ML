{
 "cells": [
  {
   "cell_type": "code",
   "execution_count": 1,
   "metadata": {},
   "outputs": [],
   "source": [
    "from keras.datasets import imdb"
   ]
  },
  {
   "cell_type": "code",
   "execution_count": 2,
   "metadata": {},
   "outputs": [],
   "source": [
    "(x_train, y_train), (x_test, y_test)=imdb.load_data(num_words=20000)"
   ]
  },
  {
   "cell_type": "code",
   "execution_count": 3,
   "metadata": {},
   "outputs": [
    {
     "name": "stdout",
     "output_type": "stream",
     "text": [
      "[1, 194, 1153, 194, 8255, 78, 228, 5, 6, 1463, 4369, 5012, 134, 26, 4, 715, 8, 118, 1634, 14, 394, 20, 13, 119, 954, 189, 102, 5, 207, 110, 3103, 21, 14, 69, 188, 8, 30, 23, 7, 4, 249, 126, 93, 4, 114, 9, 2300, 1523, 5, 647, 4, 116, 9, 35, 8163, 4, 229, 9, 340, 1322, 4, 118, 9, 4, 130, 4901, 19, 4, 1002, 5, 89, 29, 952, 46, 37, 4, 455, 9, 45, 43, 38, 1543, 1905, 398, 4, 1649, 26, 6853, 5, 163, 11, 3215, 10156, 4, 1153, 9, 194, 775, 7, 8255, 11596, 349, 2637, 148, 605, 15358, 8003, 15, 123, 125, 68, 2, 6853, 15, 349, 165, 4362, 98, 5, 4, 228, 9, 43, 2, 1157, 15, 299, 120, 5, 120, 174, 11, 220, 175, 136, 50, 9, 4373, 228, 8255, 5, 2, 656, 245, 2350, 5, 4, 9837, 131, 152, 491, 18, 2, 32, 7464, 1212, 14, 9, 6, 371, 78, 22, 625, 64, 1382, 9, 8, 168, 145, 23, 4, 1690, 15, 16, 4, 1355, 5, 28, 6, 52, 154, 462, 33, 89, 78, 285, 16, 145, 95]\n"
     ]
    }
   ],
   "source": [
    "print(x_train[1])"
   ]
  },
  {
   "cell_type": "code",
   "execution_count": 4,
   "metadata": {},
   "outputs": [
    {
     "name": "stdout",
     "output_type": "stream",
     "text": [
      "189\n"
     ]
    }
   ],
   "source": [
    "print(len(x_train[1]))"
   ]
  },
  {
   "cell_type": "code",
   "execution_count": 5,
   "metadata": {},
   "outputs": [
    {
     "data": {
      "text/plain": [
       "(25000,)"
      ]
     },
     "execution_count": 5,
     "metadata": {},
     "output_type": "execute_result"
    }
   ],
   "source": [
    "x_train.shape"
   ]
  },
  {
   "cell_type": "code",
   "execution_count": 6,
   "metadata": {},
   "outputs": [],
   "source": [
    "x_val=x_train[20000:]\n",
    "y_val=y_train[20000:]\n",
    "x_train=x_train[:20000]\n",
    "y_train=y_train[:20000]"
   ]
  },
  {
   "cell_type": "code",
   "execution_count": 7,
   "metadata": {},
   "outputs": [],
   "source": [
    "# 句子长补到200，在前面补\n",
    "from keras.preprocessing import sequence\n",
    "\n",
    "x_train=sequence.pad_sequences(x_train, maxlen=200)\n",
    "x_val=sequence.pad_sequences(x_val, maxlen=200)\n",
    "x_test=sequence.pad_sequences(x_test, maxlen=200)"
   ]
  },
  {
   "cell_type": "code",
   "execution_count": 8,
   "metadata": {},
   "outputs": [
    {
     "data": {
      "text/plain": [
       "array([    0,     0,     0,     0,     0,     0,     0,     0,     0,\n",
       "           0,     0,     1,   194,  1153,   194,  8255,    78,   228,\n",
       "           5,     6,  1463,  4369,  5012,   134,    26,     4,   715,\n",
       "           8,   118,  1634,    14,   394,    20,    13,   119,   954,\n",
       "         189,   102,     5,   207,   110,  3103,    21,    14,    69,\n",
       "         188,     8,    30,    23,     7,     4,   249,   126,    93,\n",
       "           4,   114,     9,  2300,  1523,     5,   647,     4,   116,\n",
       "           9,    35,  8163,     4,   229,     9,   340,  1322,     4,\n",
       "         118,     9,     4,   130,  4901,    19,     4,  1002,     5,\n",
       "          89,    29,   952,    46,    37,     4,   455,     9,    45,\n",
       "          43,    38,  1543,  1905,   398,     4,  1649,    26,  6853,\n",
       "           5,   163,    11,  3215, 10156,     4,  1153,     9,   194,\n",
       "         775,     7,  8255, 11596,   349,  2637,   148,   605, 15358,\n",
       "        8003,    15,   123,   125,    68,     2,  6853,    15,   349,\n",
       "         165,  4362,    98,     5,     4,   228,     9,    43,     2,\n",
       "        1157,    15,   299,   120,     5,   120,   174,    11,   220,\n",
       "         175,   136,    50,     9,  4373,   228,  8255,     5,     2,\n",
       "         656,   245,  2350,     5,     4,  9837,   131,   152,   491,\n",
       "          18,     2,    32,  7464,  1212,    14,     9,     6,   371,\n",
       "          78,    22,   625,    64,  1382,     9,     8,   168,   145,\n",
       "          23,     4,  1690,    15,    16,     4,  1355,     5,    28,\n",
       "           6,    52,   154,   462,    33,    89,    78,   285,    16,\n",
       "         145,    95])"
      ]
     },
     "execution_count": 8,
     "metadata": {},
     "output_type": "execute_result"
    }
   ],
   "source": [
    "x_train[1]"
   ]
  },
  {
   "cell_type": "code",
   "execution_count": 9,
   "metadata": {},
   "outputs": [],
   "source": [
    "import numpy as np\n",
    "import keras\n",
    "from keras.models import Sequential\n",
    "from keras.layers import Dense, LSTM, Embedding, Flatten, Dropout\n",
    "from keras.layers import Conv1D, MaxPooling1D, GlobalMaxPooling1D\n",
    "from keras.utils import np_utils\n",
    "from keras.utils.vis_utils import model_to_dot\n",
    "from IPython.display import SVG\n",
    "%matplotlib inline"
   ]
  },
  {
   "cell_type": "code",
   "execution_count": 10,
   "metadata": {},
   "outputs": [
    {
     "name": "stdout",
     "output_type": "stream",
     "text": [
      "WARNING:tensorflow:From D:\\Programing\\Anaconda3\\envs\\tf1_env\\lib\\site-packages\\keras\\backend\\tensorflow_backend.py:74: The name tf.get_default_graph is deprecated. Please use tf.compat.v1.get_default_graph instead.\n",
      "\n",
      "WARNING:tensorflow:From D:\\Programing\\Anaconda3\\envs\\tf1_env\\lib\\site-packages\\keras\\backend\\tensorflow_backend.py:517: The name tf.placeholder is deprecated. Please use tf.compat.v1.placeholder instead.\n",
      "\n",
      "WARNING:tensorflow:From D:\\Programing\\Anaconda3\\envs\\tf1_env\\lib\\site-packages\\keras\\backend\\tensorflow_backend.py:4138: The name tf.random_uniform is deprecated. Please use tf.random.uniform instead.\n",
      "\n"
     ]
    }
   ],
   "source": [
    "# 多层感知器神经网络\n",
    "model1=Sequential()\n",
    "# 2000个单词种类，输出128个词向量维度，句子长度\n",
    "model1.add(Embedding(20000, 128, input_length=200))\n",
    "model1.add(Flatten())\n",
    "model1.add(Dense(256, activation='relu'))\n",
    "model1.add(Dense(1, activation='sigmoid'))"
   ]
  },
  {
   "cell_type": "code",
   "execution_count": 11,
   "metadata": {},
   "outputs": [],
   "source": [
    "# 循环神经网络\n",
    "model2=Sequential()\n",
    "model2.add(Embedding(20000, 128, input_length=200))\n",
    "model2.add(LSTM(128))  # 非输入层时，可识别其形状\n",
    "model2.add(Dense(1, activation='sigmoid'))"
   ]
  },
  {
   "cell_type": "code",
   "execution_count": 12,
   "metadata": {},
   "outputs": [
    {
     "name": "stdout",
     "output_type": "stream",
     "text": [
      "WARNING:tensorflow:From D:\\Programing\\Anaconda3\\envs\\tf1_env\\lib\\site-packages\\keras\\backend\\tensorflow_backend.py:133: The name tf.placeholder_with_default is deprecated. Please use tf.compat.v1.placeholder_with_default instead.\n",
      "\n",
      "WARNING:tensorflow:From D:\\Programing\\Anaconda3\\envs\\tf1_env\\lib\\site-packages\\keras\\backend\\tensorflow_backend.py:3445: calling dropout (from tensorflow.python.ops.nn_ops) with keep_prob is deprecated and will be removed in a future version.\n",
      "Instructions for updating:\n",
      "Please use `rate` instead of `keep_prob`. Rate should be set to `rate = 1 - keep_prob`.\n"
     ]
    }
   ],
   "source": [
    "# 卷积神经网络\n",
    "model3=Sequential()\n",
    "model3.add(Embedding(20000, 128, input_length=200))\n",
    "model3.add(Dropout(0.2))\n",
    "# 卷积层处理句子时可根据前后文章脉络抓取特征\n",
    "model3.add(Conv1D(256, 3, padding='valid', activation='relu', strides=1))\n",
    "# 突显主要特征\n",
    "model3.add(GlobalMaxPooling1D())\n",
    "model3.add(Dense(128, activation='relu'))\n",
    "model3.add(Dropout(0.2))\n",
    "model3.add(Dense(1, activation='sigmoid'))"
   ]
  },
  {
   "cell_type": "code",
   "execution_count": 13,
   "metadata": {},
   "outputs": [
    {
     "name": "stdout",
     "output_type": "stream",
     "text": [
      "WARNING:tensorflow:From D:\\Programing\\Anaconda3\\envs\\tf1_env\\lib\\site-packages\\keras\\backend\\tensorflow_backend.py:3976: The name tf.nn.max_pool is deprecated. Please use tf.nn.max_pool2d instead.\n",
      "\n"
     ]
    }
   ],
   "source": [
    "# 循环卷积神经网络\n",
    "model4=Sequential()\n",
    "model4.add(Embedding(20000, 128, input_length=200))\n",
    "model4.add(Dropout(0.2))\n",
    "model4.add(Conv1D(256, 3, padding='valid', activation='relu', strides=1))\n",
    "model4.add(MaxPooling1D(pool_size=4))\n",
    "model4.add(LSTM(128))\n",
    "model4.add(Dense(1, activation='sigmoid'))"
   ]
  },
  {
   "cell_type": "code",
   "execution_count": 14,
   "metadata": {},
   "outputs": [
    {
     "data": {
      "image/svg+xml": [
       "<svg height=\"377pt\" viewBox=\"0.00 0.00 338.00 377.00\" width=\"338pt\" xmlns=\"http://www.w3.org/2000/svg\" xmlns:xlink=\"http://www.w3.org/1999/xlink\">\n",
       "<g class=\"graph\" id=\"graph0\" transform=\"scale(1 1) rotate(0) translate(4 373)\">\n",
       "<title>G</title>\n",
       "<polygon fill=\"white\" points=\"-4,4 -4,-373 334,-373 334,4 -4,4\" stroke=\"none\"/>\n",
       "<!-- 2652159202192 -->\n",
       "<g class=\"node\" id=\"node1\"><title>2652159202192</title>\n",
       "<polygon fill=\"none\" points=\"0,-249.5 0,-295.5 330,-295.5 330,-249.5 0,-249.5\" stroke=\"black\"/>\n",
       "<text font-family=\"Times New Roman,serif\" font-size=\"14.00\" text-anchor=\"middle\" x=\"81.5\" y=\"-268.8\">embedding_1: Embedding</text>\n",
       "<polyline fill=\"none\" points=\"163,-249.5 163,-295.5 \" stroke=\"black\"/>\n",
       "<text font-family=\"Times New Roman,serif\" font-size=\"14.00\" text-anchor=\"middle\" x=\"191\" y=\"-280.3\">input:</text>\n",
       "<polyline fill=\"none\" points=\"163,-272.5 219,-272.5 \" stroke=\"black\"/>\n",
       "<text font-family=\"Times New Roman,serif\" font-size=\"14.00\" text-anchor=\"middle\" x=\"191\" y=\"-257.3\">output:</text>\n",
       "<polyline fill=\"none\" points=\"219,-249.5 219,-295.5 \" stroke=\"black\"/>\n",
       "<text font-family=\"Times New Roman,serif\" font-size=\"14.00\" text-anchor=\"middle\" x=\"274.5\" y=\"-280.3\">(None, 200)</text>\n",
       "<polyline fill=\"none\" points=\"219,-272.5 330,-272.5 \" stroke=\"black\"/>\n",
       "<text font-family=\"Times New Roman,serif\" font-size=\"14.00\" text-anchor=\"middle\" x=\"274.5\" y=\"-257.3\">(None, 200, 128)</text>\n",
       "</g>\n",
       "<!-- 2652159064944 -->\n",
       "<g class=\"node\" id=\"node2\"><title>2652159064944</title>\n",
       "<polygon fill=\"none\" points=\"27,-166.5 27,-212.5 303,-212.5 303,-166.5 27,-166.5\" stroke=\"black\"/>\n",
       "<text font-family=\"Times New Roman,serif\" font-size=\"14.00\" text-anchor=\"middle\" x=\"81.5\" y=\"-185.8\">flatten_1: Flatten</text>\n",
       "<polyline fill=\"none\" points=\"136,-166.5 136,-212.5 \" stroke=\"black\"/>\n",
       "<text font-family=\"Times New Roman,serif\" font-size=\"14.00\" text-anchor=\"middle\" x=\"164\" y=\"-197.3\">input:</text>\n",
       "<polyline fill=\"none\" points=\"136,-189.5 192,-189.5 \" stroke=\"black\"/>\n",
       "<text font-family=\"Times New Roman,serif\" font-size=\"14.00\" text-anchor=\"middle\" x=\"164\" y=\"-174.3\">output:</text>\n",
       "<polyline fill=\"none\" points=\"192,-166.5 192,-212.5 \" stroke=\"black\"/>\n",
       "<text font-family=\"Times New Roman,serif\" font-size=\"14.00\" text-anchor=\"middle\" x=\"247.5\" y=\"-197.3\">(None, 200, 128)</text>\n",
       "<polyline fill=\"none\" points=\"192,-189.5 303,-189.5 \" stroke=\"black\"/>\n",
       "<text font-family=\"Times New Roman,serif\" font-size=\"14.00\" text-anchor=\"middle\" x=\"247.5\" y=\"-174.3\">(None, 25600)</text>\n",
       "</g>\n",
       "<!-- 2652159202192&#45;&gt;2652159064944 -->\n",
       "<g class=\"edge\" id=\"edge2\"><title>2652159202192-&gt;2652159064944</title>\n",
       "<path d=\"M165,-249.366C165,-241.152 165,-231.658 165,-222.725\" fill=\"none\" stroke=\"black\"/>\n",
       "<polygon fill=\"black\" points=\"168.5,-222.607 165,-212.607 161.5,-222.607 168.5,-222.607\" stroke=\"black\"/>\n",
       "</g>\n",
       "<!-- 2652159203536 -->\n",
       "<g class=\"node\" id=\"node3\"><title>2652159203536</title>\n",
       "<polygon fill=\"none\" points=\"36.5,-83.5 36.5,-129.5 293.5,-129.5 293.5,-83.5 36.5,-83.5\" stroke=\"black\"/>\n",
       "<text font-family=\"Times New Roman,serif\" font-size=\"14.00\" text-anchor=\"middle\" x=\"88.5\" y=\"-102.8\">dense_1: Dense</text>\n",
       "<polyline fill=\"none\" points=\"140.5,-83.5 140.5,-129.5 \" stroke=\"black\"/>\n",
       "<text font-family=\"Times New Roman,serif\" font-size=\"14.00\" text-anchor=\"middle\" x=\"168.5\" y=\"-114.3\">input:</text>\n",
       "<polyline fill=\"none\" points=\"140.5,-106.5 196.5,-106.5 \" stroke=\"black\"/>\n",
       "<text font-family=\"Times New Roman,serif\" font-size=\"14.00\" text-anchor=\"middle\" x=\"168.5\" y=\"-91.3\">output:</text>\n",
       "<polyline fill=\"none\" points=\"196.5,-83.5 196.5,-129.5 \" stroke=\"black\"/>\n",
       "<text font-family=\"Times New Roman,serif\" font-size=\"14.00\" text-anchor=\"middle\" x=\"245\" y=\"-114.3\">(None, 25600)</text>\n",
       "<polyline fill=\"none\" points=\"196.5,-106.5 293.5,-106.5 \" stroke=\"black\"/>\n",
       "<text font-family=\"Times New Roman,serif\" font-size=\"14.00\" text-anchor=\"middle\" x=\"245\" y=\"-91.3\">(None, 256)</text>\n",
       "</g>\n",
       "<!-- 2652159064944&#45;&gt;2652159203536 -->\n",
       "<g class=\"edge\" id=\"edge3\"><title>2652159064944-&gt;2652159203536</title>\n",
       "<path d=\"M165,-166.366C165,-158.152 165,-148.658 165,-139.725\" fill=\"none\" stroke=\"black\"/>\n",
       "<polygon fill=\"black\" points=\"168.5,-139.607 165,-129.607 161.5,-139.607 168.5,-139.607\" stroke=\"black\"/>\n",
       "</g>\n",
       "<!-- 2652159203816 -->\n",
       "<g class=\"node\" id=\"node4\"><title>2652159203816</title>\n",
       "<polygon fill=\"none\" points=\"43.5,-0.5 43.5,-46.5 286.5,-46.5 286.5,-0.5 43.5,-0.5\" stroke=\"black\"/>\n",
       "<text font-family=\"Times New Roman,serif\" font-size=\"14.00\" text-anchor=\"middle\" x=\"95.5\" y=\"-19.8\">dense_2: Dense</text>\n",
       "<polyline fill=\"none\" points=\"147.5,-0.5 147.5,-46.5 \" stroke=\"black\"/>\n",
       "<text font-family=\"Times New Roman,serif\" font-size=\"14.00\" text-anchor=\"middle\" x=\"175.5\" y=\"-31.3\">input:</text>\n",
       "<polyline fill=\"none\" points=\"147.5,-23.5 203.5,-23.5 \" stroke=\"black\"/>\n",
       "<text font-family=\"Times New Roman,serif\" font-size=\"14.00\" text-anchor=\"middle\" x=\"175.5\" y=\"-8.3\">output:</text>\n",
       "<polyline fill=\"none\" points=\"203.5,-0.5 203.5,-46.5 \" stroke=\"black\"/>\n",
       "<text font-family=\"Times New Roman,serif\" font-size=\"14.00\" text-anchor=\"middle\" x=\"245\" y=\"-31.3\">(None, 256)</text>\n",
       "<polyline fill=\"none\" points=\"203.5,-23.5 286.5,-23.5 \" stroke=\"black\"/>\n",
       "<text font-family=\"Times New Roman,serif\" font-size=\"14.00\" text-anchor=\"middle\" x=\"245\" y=\"-8.3\">(None, 1)</text>\n",
       "</g>\n",
       "<!-- 2652159203536&#45;&gt;2652159203816 -->\n",
       "<g class=\"edge\" id=\"edge4\"><title>2652159203536-&gt;2652159203816</title>\n",
       "<path d=\"M165,-83.3664C165,-75.1516 165,-65.6579 165,-56.7252\" fill=\"none\" stroke=\"black\"/>\n",
       "<polygon fill=\"black\" points=\"168.5,-56.6068 165,-46.6068 161.5,-56.6069 168.5,-56.6068\" stroke=\"black\"/>\n",
       "</g>\n",
       "<!-- 2652159202808 -->\n",
       "<g class=\"node\" id=\"node5\"><title>2652159202808</title>\n",
       "<polygon fill=\"none\" points=\"113,-332.5 113,-368.5 217,-368.5 217,-332.5 113,-332.5\" stroke=\"black\"/>\n",
       "<text font-family=\"Times New Roman,serif\" font-size=\"14.00\" text-anchor=\"middle\" x=\"165\" y=\"-346.8\">2652159202808</text>\n",
       "</g>\n",
       "<!-- 2652159202808&#45;&gt;2652159202192 -->\n",
       "<g class=\"edge\" id=\"edge1\"><title>2652159202808-&gt;2652159202192</title>\n",
       "<path d=\"M165,-332.254C165,-324.363 165,-314.749 165,-305.602\" fill=\"none\" stroke=\"black\"/>\n",
       "<polygon fill=\"black\" points=\"168.5,-305.591 165,-295.591 161.5,-305.591 168.5,-305.591\" stroke=\"black\"/>\n",
       "</g>\n",
       "</g>\n",
       "</svg>"
      ],
      "text/plain": [
       "<IPython.core.display.SVG object>"
      ]
     },
     "execution_count": 14,
     "metadata": {},
     "output_type": "execute_result"
    }
   ],
   "source": [
    "SVG(model_to_dot(model1, show_shapes=True).create(prog='dot', format='svg'))"
   ]
  },
  {
   "cell_type": "code",
   "execution_count": 15,
   "metadata": {},
   "outputs": [
    {
     "data": {
      "image/svg+xml": [
       "<svg height=\"294pt\" viewBox=\"0.00 0.00 338.00 294.00\" width=\"338pt\" xmlns=\"http://www.w3.org/2000/svg\" xmlns:xlink=\"http://www.w3.org/1999/xlink\">\n",
       "<g class=\"graph\" id=\"graph0\" transform=\"scale(1 1) rotate(0) translate(4 290)\">\n",
       "<title>G</title>\n",
       "<polygon fill=\"white\" points=\"-4,4 -4,-290 334,-290 334,4 -4,4\" stroke=\"none\"/>\n",
       "<!-- 2653790310240 -->\n",
       "<g class=\"node\" id=\"node1\"><title>2653790310240</title>\n",
       "<polygon fill=\"none\" points=\"0,-166.5 0,-212.5 330,-212.5 330,-166.5 0,-166.5\" stroke=\"black\"/>\n",
       "<text font-family=\"Times New Roman,serif\" font-size=\"14.00\" text-anchor=\"middle\" x=\"81.5\" y=\"-185.8\">embedding_2: Embedding</text>\n",
       "<polyline fill=\"none\" points=\"163,-166.5 163,-212.5 \" stroke=\"black\"/>\n",
       "<text font-family=\"Times New Roman,serif\" font-size=\"14.00\" text-anchor=\"middle\" x=\"191\" y=\"-197.3\">input:</text>\n",
       "<polyline fill=\"none\" points=\"163,-189.5 219,-189.5 \" stroke=\"black\"/>\n",
       "<text font-family=\"Times New Roman,serif\" font-size=\"14.00\" text-anchor=\"middle\" x=\"191\" y=\"-174.3\">output:</text>\n",
       "<polyline fill=\"none\" points=\"219,-166.5 219,-212.5 \" stroke=\"black\"/>\n",
       "<text font-family=\"Times New Roman,serif\" font-size=\"14.00\" text-anchor=\"middle\" x=\"274.5\" y=\"-197.3\">(None, 200)</text>\n",
       "<polyline fill=\"none\" points=\"219,-189.5 330,-189.5 \" stroke=\"black\"/>\n",
       "<text font-family=\"Times New Roman,serif\" font-size=\"14.00\" text-anchor=\"middle\" x=\"274.5\" y=\"-174.3\">(None, 200, 128)</text>\n",
       "</g>\n",
       "<!-- 2652159438520 -->\n",
       "<g class=\"node\" id=\"node2\"><title>2652159438520</title>\n",
       "<polygon fill=\"none\" points=\"32.5,-83.5 32.5,-129.5 297.5,-129.5 297.5,-83.5 32.5,-83.5\" stroke=\"black\"/>\n",
       "<text font-family=\"Times New Roman,serif\" font-size=\"14.00\" text-anchor=\"middle\" x=\"81.5\" y=\"-102.8\">lstm_1: LSTM</text>\n",
       "<polyline fill=\"none\" points=\"130.5,-83.5 130.5,-129.5 \" stroke=\"black\"/>\n",
       "<text font-family=\"Times New Roman,serif\" font-size=\"14.00\" text-anchor=\"middle\" x=\"158.5\" y=\"-114.3\">input:</text>\n",
       "<polyline fill=\"none\" points=\"130.5,-106.5 186.5,-106.5 \" stroke=\"black\"/>\n",
       "<text font-family=\"Times New Roman,serif\" font-size=\"14.00\" text-anchor=\"middle\" x=\"158.5\" y=\"-91.3\">output:</text>\n",
       "<polyline fill=\"none\" points=\"186.5,-83.5 186.5,-129.5 \" stroke=\"black\"/>\n",
       "<text font-family=\"Times New Roman,serif\" font-size=\"14.00\" text-anchor=\"middle\" x=\"242\" y=\"-114.3\">(None, 200, 128)</text>\n",
       "<polyline fill=\"none\" points=\"186.5,-106.5 297.5,-106.5 \" stroke=\"black\"/>\n",
       "<text font-family=\"Times New Roman,serif\" font-size=\"14.00\" text-anchor=\"middle\" x=\"242\" y=\"-91.3\">(None, 128)</text>\n",
       "</g>\n",
       "<!-- 2653790310240&#45;&gt;2652159438520 -->\n",
       "<g class=\"edge\" id=\"edge2\"><title>2653790310240-&gt;2652159438520</title>\n",
       "<path d=\"M165,-166.366C165,-158.152 165,-148.658 165,-139.725\" fill=\"none\" stroke=\"black\"/>\n",
       "<polygon fill=\"black\" points=\"168.5,-139.607 165,-129.607 161.5,-139.607 168.5,-139.607\" stroke=\"black\"/>\n",
       "</g>\n",
       "<!-- 2652159202360 -->\n",
       "<g class=\"node\" id=\"node3\"><title>2652159202360</title>\n",
       "<polygon fill=\"none\" points=\"43.5,-0.5 43.5,-46.5 286.5,-46.5 286.5,-0.5 43.5,-0.5\" stroke=\"black\"/>\n",
       "<text font-family=\"Times New Roman,serif\" font-size=\"14.00\" text-anchor=\"middle\" x=\"95.5\" y=\"-19.8\">dense_3: Dense</text>\n",
       "<polyline fill=\"none\" points=\"147.5,-0.5 147.5,-46.5 \" stroke=\"black\"/>\n",
       "<text font-family=\"Times New Roman,serif\" font-size=\"14.00\" text-anchor=\"middle\" x=\"175.5\" y=\"-31.3\">input:</text>\n",
       "<polyline fill=\"none\" points=\"147.5,-23.5 203.5,-23.5 \" stroke=\"black\"/>\n",
       "<text font-family=\"Times New Roman,serif\" font-size=\"14.00\" text-anchor=\"middle\" x=\"175.5\" y=\"-8.3\">output:</text>\n",
       "<polyline fill=\"none\" points=\"203.5,-0.5 203.5,-46.5 \" stroke=\"black\"/>\n",
       "<text font-family=\"Times New Roman,serif\" font-size=\"14.00\" text-anchor=\"middle\" x=\"245\" y=\"-31.3\">(None, 128)</text>\n",
       "<polyline fill=\"none\" points=\"203.5,-23.5 286.5,-23.5 \" stroke=\"black\"/>\n",
       "<text font-family=\"Times New Roman,serif\" font-size=\"14.00\" text-anchor=\"middle\" x=\"245\" y=\"-8.3\">(None, 1)</text>\n",
       "</g>\n",
       "<!-- 2652159438520&#45;&gt;2652159202360 -->\n",
       "<g class=\"edge\" id=\"edge3\"><title>2652159438520-&gt;2652159202360</title>\n",
       "<path d=\"M165,-83.3664C165,-75.1516 165,-65.6579 165,-56.7252\" fill=\"none\" stroke=\"black\"/>\n",
       "<polygon fill=\"black\" points=\"168.5,-56.6068 165,-46.6068 161.5,-56.6069 168.5,-56.6068\" stroke=\"black\"/>\n",
       "</g>\n",
       "<!-- 2652159437288 -->\n",
       "<g class=\"node\" id=\"node4\"><title>2652159437288</title>\n",
       "<polygon fill=\"none\" points=\"113,-249.5 113,-285.5 217,-285.5 217,-249.5 113,-249.5\" stroke=\"black\"/>\n",
       "<text font-family=\"Times New Roman,serif\" font-size=\"14.00\" text-anchor=\"middle\" x=\"165\" y=\"-263.8\">2652159437288</text>\n",
       "</g>\n",
       "<!-- 2652159437288&#45;&gt;2653790310240 -->\n",
       "<g class=\"edge\" id=\"edge1\"><title>2652159437288-&gt;2653790310240</title>\n",
       "<path d=\"M165,-249.254C165,-241.363 165,-231.749 165,-222.602\" fill=\"none\" stroke=\"black\"/>\n",
       "<polygon fill=\"black\" points=\"168.5,-222.591 165,-212.591 161.5,-222.591 168.5,-222.591\" stroke=\"black\"/>\n",
       "</g>\n",
       "</g>\n",
       "</svg>"
      ],
      "text/plain": [
       "<IPython.core.display.SVG object>"
      ]
     },
     "execution_count": 15,
     "metadata": {},
     "output_type": "execute_result"
    }
   ],
   "source": [
    "SVG(model_to_dot(model2, show_shapes=True).create(prog='dot', format='svg'))"
   ]
  },
  {
   "cell_type": "code",
   "execution_count": 16,
   "metadata": {},
   "outputs": [
    {
     "data": {
      "image/svg+xml": [
       "<svg height=\"626pt\" viewBox=\"0.00 0.00 462.00 626.00\" width=\"462pt\" xmlns=\"http://www.w3.org/2000/svg\" xmlns:xlink=\"http://www.w3.org/1999/xlink\">\n",
       "<g class=\"graph\" id=\"graph0\" transform=\"scale(1 1) rotate(0) translate(4 622)\">\n",
       "<title>G</title>\n",
       "<polygon fill=\"white\" points=\"-4,4 -4,-622 458,-622 458,4 -4,4\" stroke=\"none\"/>\n",
       "<!-- 2652164363096 -->\n",
       "<g class=\"node\" id=\"node1\"><title>2652164363096</title>\n",
       "<polygon fill=\"none\" points=\"62,-498.5 62,-544.5 392,-544.5 392,-498.5 62,-498.5\" stroke=\"black\"/>\n",
       "<text font-family=\"Times New Roman,serif\" font-size=\"14.00\" text-anchor=\"middle\" x=\"143.5\" y=\"-517.8\">embedding_3: Embedding</text>\n",
       "<polyline fill=\"none\" points=\"225,-498.5 225,-544.5 \" stroke=\"black\"/>\n",
       "<text font-family=\"Times New Roman,serif\" font-size=\"14.00\" text-anchor=\"middle\" x=\"253\" y=\"-529.3\">input:</text>\n",
       "<polyline fill=\"none\" points=\"225,-521.5 281,-521.5 \" stroke=\"black\"/>\n",
       "<text font-family=\"Times New Roman,serif\" font-size=\"14.00\" text-anchor=\"middle\" x=\"253\" y=\"-506.3\">output:</text>\n",
       "<polyline fill=\"none\" points=\"281,-498.5 281,-544.5 \" stroke=\"black\"/>\n",
       "<text font-family=\"Times New Roman,serif\" font-size=\"14.00\" text-anchor=\"middle\" x=\"336.5\" y=\"-529.3\">(None, 200)</text>\n",
       "<polyline fill=\"none\" points=\"281,-521.5 392,-521.5 \" stroke=\"black\"/>\n",
       "<text font-family=\"Times New Roman,serif\" font-size=\"14.00\" text-anchor=\"middle\" x=\"336.5\" y=\"-506.3\">(None, 200, 128)</text>\n",
       "</g>\n",
       "<!-- 2652164363208 -->\n",
       "<g class=\"node\" id=\"node2\"><title>2652164363208</title>\n",
       "<polygon fill=\"none\" points=\"78.5,-415.5 78.5,-461.5 375.5,-461.5 375.5,-415.5 78.5,-415.5\" stroke=\"black\"/>\n",
       "<text font-family=\"Times New Roman,serif\" font-size=\"14.00\" text-anchor=\"middle\" x=\"143.5\" y=\"-434.8\">dropout_1: Dropout</text>\n",
       "<polyline fill=\"none\" points=\"208.5,-415.5 208.5,-461.5 \" stroke=\"black\"/>\n",
       "<text font-family=\"Times New Roman,serif\" font-size=\"14.00\" text-anchor=\"middle\" x=\"236.5\" y=\"-446.3\">input:</text>\n",
       "<polyline fill=\"none\" points=\"208.5,-438.5 264.5,-438.5 \" stroke=\"black\"/>\n",
       "<text font-family=\"Times New Roman,serif\" font-size=\"14.00\" text-anchor=\"middle\" x=\"236.5\" y=\"-423.3\">output:</text>\n",
       "<polyline fill=\"none\" points=\"264.5,-415.5 264.5,-461.5 \" stroke=\"black\"/>\n",
       "<text font-family=\"Times New Roman,serif\" font-size=\"14.00\" text-anchor=\"middle\" x=\"320\" y=\"-446.3\">(None, 200, 128)</text>\n",
       "<polyline fill=\"none\" points=\"264.5,-438.5 375.5,-438.5 \" stroke=\"black\"/>\n",
       "<text font-family=\"Times New Roman,serif\" font-size=\"14.00\" text-anchor=\"middle\" x=\"320\" y=\"-423.3\">(None, 200, 128)</text>\n",
       "</g>\n",
       "<!-- 2652164363096&#45;&gt;2652164363208 -->\n",
       "<g class=\"edge\" id=\"edge2\"><title>2652164363096-&gt;2652164363208</title>\n",
       "<path d=\"M227,-498.366C227,-490.152 227,-480.658 227,-471.725\" fill=\"none\" stroke=\"black\"/>\n",
       "<polygon fill=\"black\" points=\"230.5,-471.607 227,-461.607 223.5,-471.607 230.5,-471.607\" stroke=\"black\"/>\n",
       "</g>\n",
       "<!-- 2652164363936 -->\n",
       "<g class=\"node\" id=\"node3\"><title>2652164363936</title>\n",
       "<polygon fill=\"none\" points=\"80,-332.5 80,-378.5 374,-378.5 374,-332.5 80,-332.5\" stroke=\"black\"/>\n",
       "<text font-family=\"Times New Roman,serif\" font-size=\"14.00\" text-anchor=\"middle\" x=\"143.5\" y=\"-351.8\">conv1d_1: Conv1D</text>\n",
       "<polyline fill=\"none\" points=\"207,-332.5 207,-378.5 \" stroke=\"black\"/>\n",
       "<text font-family=\"Times New Roman,serif\" font-size=\"14.00\" text-anchor=\"middle\" x=\"235\" y=\"-363.3\">input:</text>\n",
       "<polyline fill=\"none\" points=\"207,-355.5 263,-355.5 \" stroke=\"black\"/>\n",
       "<text font-family=\"Times New Roman,serif\" font-size=\"14.00\" text-anchor=\"middle\" x=\"235\" y=\"-340.3\">output:</text>\n",
       "<polyline fill=\"none\" points=\"263,-332.5 263,-378.5 \" stroke=\"black\"/>\n",
       "<text font-family=\"Times New Roman,serif\" font-size=\"14.00\" text-anchor=\"middle\" x=\"318.5\" y=\"-363.3\">(None, 200, 128)</text>\n",
       "<polyline fill=\"none\" points=\"263,-355.5 374,-355.5 \" stroke=\"black\"/>\n",
       "<text font-family=\"Times New Roman,serif\" font-size=\"14.00\" text-anchor=\"middle\" x=\"318.5\" y=\"-340.3\">(None, 198, 256)</text>\n",
       "</g>\n",
       "<!-- 2652164363208&#45;&gt;2652164363936 -->\n",
       "<g class=\"edge\" id=\"edge3\"><title>2652164363208-&gt;2652164363936</title>\n",
       "<path d=\"M227,-415.366C227,-407.152 227,-397.658 227,-388.725\" fill=\"none\" stroke=\"black\"/>\n",
       "<polygon fill=\"black\" points=\"230.5,-388.607 227,-378.607 223.5,-388.607 230.5,-388.607\" stroke=\"black\"/>\n",
       "</g>\n",
       "<!-- 2652164363880 -->\n",
       "<g class=\"node\" id=\"node4\"><title>2652164363880</title>\n",
       "<polygon fill=\"none\" points=\"0,-249.5 0,-295.5 454,-295.5 454,-249.5 0,-249.5\" stroke=\"black\"/>\n",
       "<text font-family=\"Times New Roman,serif\" font-size=\"14.00\" text-anchor=\"middle\" x=\"143.5\" y=\"-268.8\">global_max_pooling1d_1: GlobalMaxPooling1D</text>\n",
       "<polyline fill=\"none\" points=\"287,-249.5 287,-295.5 \" stroke=\"black\"/>\n",
       "<text font-family=\"Times New Roman,serif\" font-size=\"14.00\" text-anchor=\"middle\" x=\"315\" y=\"-280.3\">input:</text>\n",
       "<polyline fill=\"none\" points=\"287,-272.5 343,-272.5 \" stroke=\"black\"/>\n",
       "<text font-family=\"Times New Roman,serif\" font-size=\"14.00\" text-anchor=\"middle\" x=\"315\" y=\"-257.3\">output:</text>\n",
       "<polyline fill=\"none\" points=\"343,-249.5 343,-295.5 \" stroke=\"black\"/>\n",
       "<text font-family=\"Times New Roman,serif\" font-size=\"14.00\" text-anchor=\"middle\" x=\"398.5\" y=\"-280.3\">(None, 198, 256)</text>\n",
       "<polyline fill=\"none\" points=\"343,-272.5 454,-272.5 \" stroke=\"black\"/>\n",
       "<text font-family=\"Times New Roman,serif\" font-size=\"14.00\" text-anchor=\"middle\" x=\"398.5\" y=\"-257.3\">(None, 256)</text>\n",
       "</g>\n",
       "<!-- 2652164363936&#45;&gt;2652164363880 -->\n",
       "<g class=\"edge\" id=\"edge4\"><title>2652164363936-&gt;2652164363880</title>\n",
       "<path d=\"M227,-332.366C227,-324.152 227,-314.658 227,-305.725\" fill=\"none\" stroke=\"black\"/>\n",
       "<polygon fill=\"black\" points=\"230.5,-305.607 227,-295.607 223.5,-305.607 230.5,-305.607\" stroke=\"black\"/>\n",
       "</g>\n",
       "<!-- 2652164364160 -->\n",
       "<g class=\"node\" id=\"node5\"><title>2652164364160</title>\n",
       "<polygon fill=\"none\" points=\"105.5,-166.5 105.5,-212.5 348.5,-212.5 348.5,-166.5 105.5,-166.5\" stroke=\"black\"/>\n",
       "<text font-family=\"Times New Roman,serif\" font-size=\"14.00\" text-anchor=\"middle\" x=\"157.5\" y=\"-185.8\">dense_4: Dense</text>\n",
       "<polyline fill=\"none\" points=\"209.5,-166.5 209.5,-212.5 \" stroke=\"black\"/>\n",
       "<text font-family=\"Times New Roman,serif\" font-size=\"14.00\" text-anchor=\"middle\" x=\"237.5\" y=\"-197.3\">input:</text>\n",
       "<polyline fill=\"none\" points=\"209.5,-189.5 265.5,-189.5 \" stroke=\"black\"/>\n",
       "<text font-family=\"Times New Roman,serif\" font-size=\"14.00\" text-anchor=\"middle\" x=\"237.5\" y=\"-174.3\">output:</text>\n",
       "<polyline fill=\"none\" points=\"265.5,-166.5 265.5,-212.5 \" stroke=\"black\"/>\n",
       "<text font-family=\"Times New Roman,serif\" font-size=\"14.00\" text-anchor=\"middle\" x=\"307\" y=\"-197.3\">(None, 256)</text>\n",
       "<polyline fill=\"none\" points=\"265.5,-189.5 348.5,-189.5 \" stroke=\"black\"/>\n",
       "<text font-family=\"Times New Roman,serif\" font-size=\"14.00\" text-anchor=\"middle\" x=\"307\" y=\"-174.3\">(None, 128)</text>\n",
       "</g>\n",
       "<!-- 2652164363880&#45;&gt;2652164364160 -->\n",
       "<g class=\"edge\" id=\"edge5\"><title>2652164363880-&gt;2652164364160</title>\n",
       "<path d=\"M227,-249.366C227,-241.152 227,-231.658 227,-222.725\" fill=\"none\" stroke=\"black\"/>\n",
       "<polygon fill=\"black\" points=\"230.5,-222.607 227,-212.607 223.5,-222.607 230.5,-222.607\" stroke=\"black\"/>\n",
       "</g>\n",
       "<!-- 2652164365336 -->\n",
       "<g class=\"node\" id=\"node6\"><title>2652164365336</title>\n",
       "<polygon fill=\"none\" points=\"92.5,-83.5 92.5,-129.5 361.5,-129.5 361.5,-83.5 92.5,-83.5\" stroke=\"black\"/>\n",
       "<text font-family=\"Times New Roman,serif\" font-size=\"14.00\" text-anchor=\"middle\" x=\"157.5\" y=\"-102.8\">dropout_2: Dropout</text>\n",
       "<polyline fill=\"none\" points=\"222.5,-83.5 222.5,-129.5 \" stroke=\"black\"/>\n",
       "<text font-family=\"Times New Roman,serif\" font-size=\"14.00\" text-anchor=\"middle\" x=\"250.5\" y=\"-114.3\">input:</text>\n",
       "<polyline fill=\"none\" points=\"222.5,-106.5 278.5,-106.5 \" stroke=\"black\"/>\n",
       "<text font-family=\"Times New Roman,serif\" font-size=\"14.00\" text-anchor=\"middle\" x=\"250.5\" y=\"-91.3\">output:</text>\n",
       "<polyline fill=\"none\" points=\"278.5,-83.5 278.5,-129.5 \" stroke=\"black\"/>\n",
       "<text font-family=\"Times New Roman,serif\" font-size=\"14.00\" text-anchor=\"middle\" x=\"320\" y=\"-114.3\">(None, 128)</text>\n",
       "<polyline fill=\"none\" points=\"278.5,-106.5 361.5,-106.5 \" stroke=\"black\"/>\n",
       "<text font-family=\"Times New Roman,serif\" font-size=\"14.00\" text-anchor=\"middle\" x=\"320\" y=\"-91.3\">(None, 128)</text>\n",
       "</g>\n",
       "<!-- 2652164364160&#45;&gt;2652164365336 -->\n",
       "<g class=\"edge\" id=\"edge6\"><title>2652164364160-&gt;2652164365336</title>\n",
       "<path d=\"M227,-166.366C227,-158.152 227,-148.658 227,-139.725\" fill=\"none\" stroke=\"black\"/>\n",
       "<polygon fill=\"black\" points=\"230.5,-139.607 227,-129.607 223.5,-139.607 230.5,-139.607\" stroke=\"black\"/>\n",
       "</g>\n",
       "<!-- 2652164955664 -->\n",
       "<g class=\"node\" id=\"node7\"><title>2652164955664</title>\n",
       "<polygon fill=\"none\" points=\"105.5,-0.5 105.5,-46.5 348.5,-46.5 348.5,-0.5 105.5,-0.5\" stroke=\"black\"/>\n",
       "<text font-family=\"Times New Roman,serif\" font-size=\"14.00\" text-anchor=\"middle\" x=\"157.5\" y=\"-19.8\">dense_5: Dense</text>\n",
       "<polyline fill=\"none\" points=\"209.5,-0.5 209.5,-46.5 \" stroke=\"black\"/>\n",
       "<text font-family=\"Times New Roman,serif\" font-size=\"14.00\" text-anchor=\"middle\" x=\"237.5\" y=\"-31.3\">input:</text>\n",
       "<polyline fill=\"none\" points=\"209.5,-23.5 265.5,-23.5 \" stroke=\"black\"/>\n",
       "<text font-family=\"Times New Roman,serif\" font-size=\"14.00\" text-anchor=\"middle\" x=\"237.5\" y=\"-8.3\">output:</text>\n",
       "<polyline fill=\"none\" points=\"265.5,-0.5 265.5,-46.5 \" stroke=\"black\"/>\n",
       "<text font-family=\"Times New Roman,serif\" font-size=\"14.00\" text-anchor=\"middle\" x=\"307\" y=\"-31.3\">(None, 128)</text>\n",
       "<polyline fill=\"none\" points=\"265.5,-23.5 348.5,-23.5 \" stroke=\"black\"/>\n",
       "<text font-family=\"Times New Roman,serif\" font-size=\"14.00\" text-anchor=\"middle\" x=\"307\" y=\"-8.3\">(None, 1)</text>\n",
       "</g>\n",
       "<!-- 2652164365336&#45;&gt;2652164955664 -->\n",
       "<g class=\"edge\" id=\"edge7\"><title>2652164365336-&gt;2652164955664</title>\n",
       "<path d=\"M227,-83.3664C227,-75.1516 227,-65.6579 227,-56.7252\" fill=\"none\" stroke=\"black\"/>\n",
       "<polygon fill=\"black\" points=\"230.5,-56.6068 227,-46.6068 223.5,-56.6069 230.5,-56.6068\" stroke=\"black\"/>\n",
       "</g>\n",
       "<!-- 2652164363320 -->\n",
       "<g class=\"node\" id=\"node8\"><title>2652164363320</title>\n",
       "<polygon fill=\"none\" points=\"175,-581.5 175,-617.5 279,-617.5 279,-581.5 175,-581.5\" stroke=\"black\"/>\n",
       "<text font-family=\"Times New Roman,serif\" font-size=\"14.00\" text-anchor=\"middle\" x=\"227\" y=\"-595.8\">2652164363320</text>\n",
       "</g>\n",
       "<!-- 2652164363320&#45;&gt;2652164363096 -->\n",
       "<g class=\"edge\" id=\"edge1\"><title>2652164363320-&gt;2652164363096</title>\n",
       "<path d=\"M227,-581.254C227,-573.363 227,-563.749 227,-554.602\" fill=\"none\" stroke=\"black\"/>\n",
       "<polygon fill=\"black\" points=\"230.5,-554.591 227,-544.591 223.5,-554.591 230.5,-554.591\" stroke=\"black\"/>\n",
       "</g>\n",
       "</g>\n",
       "</svg>"
      ],
      "text/plain": [
       "<IPython.core.display.SVG object>"
      ]
     },
     "execution_count": 16,
     "metadata": {},
     "output_type": "execute_result"
    }
   ],
   "source": [
    "SVG(model_to_dot(model3, show_shapes=True).create(prog='dot', format='svg'))"
   ]
  },
  {
   "cell_type": "code",
   "execution_count": 17,
   "metadata": {},
   "outputs": [
    {
     "data": {
      "image/svg+xml": [
       "<svg height=\"543pt\" viewBox=\"0.00 0.00 384.00 543.00\" width=\"384pt\" xmlns=\"http://www.w3.org/2000/svg\" xmlns:xlink=\"http://www.w3.org/1999/xlink\">\n",
       "<g class=\"graph\" id=\"graph0\" transform=\"scale(1 1) rotate(0) translate(4 539)\">\n",
       "<title>G</title>\n",
       "<polygon fill=\"white\" points=\"-4,4 -4,-539 380,-539 380,4 -4,4\" stroke=\"none\"/>\n",
       "<!-- 2652164362592 -->\n",
       "<g class=\"node\" id=\"node1\"><title>2652164362592</title>\n",
       "<polygon fill=\"none\" points=\"23,-415.5 23,-461.5 353,-461.5 353,-415.5 23,-415.5\" stroke=\"black\"/>\n",
       "<text font-family=\"Times New Roman,serif\" font-size=\"14.00\" text-anchor=\"middle\" x=\"104.5\" y=\"-434.8\">embedding_4: Embedding</text>\n",
       "<polyline fill=\"none\" points=\"186,-415.5 186,-461.5 \" stroke=\"black\"/>\n",
       "<text font-family=\"Times New Roman,serif\" font-size=\"14.00\" text-anchor=\"middle\" x=\"214\" y=\"-446.3\">input:</text>\n",
       "<polyline fill=\"none\" points=\"186,-438.5 242,-438.5 \" stroke=\"black\"/>\n",
       "<text font-family=\"Times New Roman,serif\" font-size=\"14.00\" text-anchor=\"middle\" x=\"214\" y=\"-423.3\">output:</text>\n",
       "<polyline fill=\"none\" points=\"242,-415.5 242,-461.5 \" stroke=\"black\"/>\n",
       "<text font-family=\"Times New Roman,serif\" font-size=\"14.00\" text-anchor=\"middle\" x=\"297.5\" y=\"-446.3\">(None, 200)</text>\n",
       "<polyline fill=\"none\" points=\"242,-438.5 353,-438.5 \" stroke=\"black\"/>\n",
       "<text font-family=\"Times New Roman,serif\" font-size=\"14.00\" text-anchor=\"middle\" x=\"297.5\" y=\"-423.3\">(None, 200, 128)</text>\n",
       "</g>\n",
       "<!-- 2652164362984 -->\n",
       "<g class=\"node\" id=\"node2\"><title>2652164362984</title>\n",
       "<polygon fill=\"none\" points=\"39.5,-332.5 39.5,-378.5 336.5,-378.5 336.5,-332.5 39.5,-332.5\" stroke=\"black\"/>\n",
       "<text font-family=\"Times New Roman,serif\" font-size=\"14.00\" text-anchor=\"middle\" x=\"104.5\" y=\"-351.8\">dropout_3: Dropout</text>\n",
       "<polyline fill=\"none\" points=\"169.5,-332.5 169.5,-378.5 \" stroke=\"black\"/>\n",
       "<text font-family=\"Times New Roman,serif\" font-size=\"14.00\" text-anchor=\"middle\" x=\"197.5\" y=\"-363.3\">input:</text>\n",
       "<polyline fill=\"none\" points=\"169.5,-355.5 225.5,-355.5 \" stroke=\"black\"/>\n",
       "<text font-family=\"Times New Roman,serif\" font-size=\"14.00\" text-anchor=\"middle\" x=\"197.5\" y=\"-340.3\">output:</text>\n",
       "<polyline fill=\"none\" points=\"225.5,-332.5 225.5,-378.5 \" stroke=\"black\"/>\n",
       "<text font-family=\"Times New Roman,serif\" font-size=\"14.00\" text-anchor=\"middle\" x=\"281\" y=\"-363.3\">(None, 200, 128)</text>\n",
       "<polyline fill=\"none\" points=\"225.5,-355.5 336.5,-355.5 \" stroke=\"black\"/>\n",
       "<text font-family=\"Times New Roman,serif\" font-size=\"14.00\" text-anchor=\"middle\" x=\"281\" y=\"-340.3\">(None, 200, 128)</text>\n",
       "</g>\n",
       "<!-- 2652164362592&#45;&gt;2652164362984 -->\n",
       "<g class=\"edge\" id=\"edge2\"><title>2652164362592-&gt;2652164362984</title>\n",
       "<path d=\"M188,-415.366C188,-407.152 188,-397.658 188,-388.725\" fill=\"none\" stroke=\"black\"/>\n",
       "<polygon fill=\"black\" points=\"191.5,-388.607 188,-378.607 184.5,-388.607 191.5,-388.607\" stroke=\"black\"/>\n",
       "</g>\n",
       "<!-- 2652165080904 -->\n",
       "<g class=\"node\" id=\"node3\"><title>2652165080904</title>\n",
       "<polygon fill=\"none\" points=\"41,-249.5 41,-295.5 335,-295.5 335,-249.5 41,-249.5\" stroke=\"black\"/>\n",
       "<text font-family=\"Times New Roman,serif\" font-size=\"14.00\" text-anchor=\"middle\" x=\"104.5\" y=\"-268.8\">conv1d_2: Conv1D</text>\n",
       "<polyline fill=\"none\" points=\"168,-249.5 168,-295.5 \" stroke=\"black\"/>\n",
       "<text font-family=\"Times New Roman,serif\" font-size=\"14.00\" text-anchor=\"middle\" x=\"196\" y=\"-280.3\">input:</text>\n",
       "<polyline fill=\"none\" points=\"168,-272.5 224,-272.5 \" stroke=\"black\"/>\n",
       "<text font-family=\"Times New Roman,serif\" font-size=\"14.00\" text-anchor=\"middle\" x=\"196\" y=\"-257.3\">output:</text>\n",
       "<polyline fill=\"none\" points=\"224,-249.5 224,-295.5 \" stroke=\"black\"/>\n",
       "<text font-family=\"Times New Roman,serif\" font-size=\"14.00\" text-anchor=\"middle\" x=\"279.5\" y=\"-280.3\">(None, 200, 128)</text>\n",
       "<polyline fill=\"none\" points=\"224,-272.5 335,-272.5 \" stroke=\"black\"/>\n",
       "<text font-family=\"Times New Roman,serif\" font-size=\"14.00\" text-anchor=\"middle\" x=\"279.5\" y=\"-257.3\">(None, 198, 256)</text>\n",
       "</g>\n",
       "<!-- 2652164362984&#45;&gt;2652165080904 -->\n",
       "<g class=\"edge\" id=\"edge3\"><title>2652164362984-&gt;2652165080904</title>\n",
       "<path d=\"M188,-332.366C188,-324.152 188,-314.658 188,-305.725\" fill=\"none\" stroke=\"black\"/>\n",
       "<polygon fill=\"black\" points=\"191.5,-305.607 188,-295.607 184.5,-305.607 191.5,-305.607\" stroke=\"black\"/>\n",
       "</g>\n",
       "<!-- 2652165079784 -->\n",
       "<g class=\"node\" id=\"node4\"><title>2652165079784</title>\n",
       "<polygon fill=\"none\" points=\"0,-166.5 0,-212.5 376,-212.5 376,-166.5 0,-166.5\" stroke=\"black\"/>\n",
       "<text font-family=\"Times New Roman,serif\" font-size=\"14.00\" text-anchor=\"middle\" x=\"104.5\" y=\"-185.8\">max_pooling1d_1: MaxPooling1D</text>\n",
       "<polyline fill=\"none\" points=\"209,-166.5 209,-212.5 \" stroke=\"black\"/>\n",
       "<text font-family=\"Times New Roman,serif\" font-size=\"14.00\" text-anchor=\"middle\" x=\"237\" y=\"-197.3\">input:</text>\n",
       "<polyline fill=\"none\" points=\"209,-189.5 265,-189.5 \" stroke=\"black\"/>\n",
       "<text font-family=\"Times New Roman,serif\" font-size=\"14.00\" text-anchor=\"middle\" x=\"237\" y=\"-174.3\">output:</text>\n",
       "<polyline fill=\"none\" points=\"265,-166.5 265,-212.5 \" stroke=\"black\"/>\n",
       "<text font-family=\"Times New Roman,serif\" font-size=\"14.00\" text-anchor=\"middle\" x=\"320.5\" y=\"-197.3\">(None, 198, 256)</text>\n",
       "<polyline fill=\"none\" points=\"265,-189.5 376,-189.5 \" stroke=\"black\"/>\n",
       "<text font-family=\"Times New Roman,serif\" font-size=\"14.00\" text-anchor=\"middle\" x=\"320.5\" y=\"-174.3\">(None, 49, 256)</text>\n",
       "</g>\n",
       "<!-- 2652165080904&#45;&gt;2652165079784 -->\n",
       "<g class=\"edge\" id=\"edge4\"><title>2652165080904-&gt;2652165079784</title>\n",
       "<path d=\"M188,-249.366C188,-241.152 188,-231.658 188,-222.725\" fill=\"none\" stroke=\"black\"/>\n",
       "<polygon fill=\"black\" points=\"191.5,-222.607 188,-212.607 184.5,-222.607 191.5,-222.607\" stroke=\"black\"/>\n",
       "</g>\n",
       "<!-- 2652165447576 -->\n",
       "<g class=\"node\" id=\"node5\"><title>2652165447576</title>\n",
       "<polygon fill=\"none\" points=\"59,-83.5 59,-129.5 317,-129.5 317,-83.5 59,-83.5\" stroke=\"black\"/>\n",
       "<text font-family=\"Times New Roman,serif\" font-size=\"14.00\" text-anchor=\"middle\" x=\"108\" y=\"-102.8\">lstm_2: LSTM</text>\n",
       "<polyline fill=\"none\" points=\"157,-83.5 157,-129.5 \" stroke=\"black\"/>\n",
       "<text font-family=\"Times New Roman,serif\" font-size=\"14.00\" text-anchor=\"middle\" x=\"185\" y=\"-114.3\">input:</text>\n",
       "<polyline fill=\"none\" points=\"157,-106.5 213,-106.5 \" stroke=\"black\"/>\n",
       "<text font-family=\"Times New Roman,serif\" font-size=\"14.00\" text-anchor=\"middle\" x=\"185\" y=\"-91.3\">output:</text>\n",
       "<polyline fill=\"none\" points=\"213,-83.5 213,-129.5 \" stroke=\"black\"/>\n",
       "<text font-family=\"Times New Roman,serif\" font-size=\"14.00\" text-anchor=\"middle\" x=\"265\" y=\"-114.3\">(None, 49, 256)</text>\n",
       "<polyline fill=\"none\" points=\"213,-106.5 317,-106.5 \" stroke=\"black\"/>\n",
       "<text font-family=\"Times New Roman,serif\" font-size=\"14.00\" text-anchor=\"middle\" x=\"265\" y=\"-91.3\">(None, 128)</text>\n",
       "</g>\n",
       "<!-- 2652165079784&#45;&gt;2652165447576 -->\n",
       "<g class=\"edge\" id=\"edge5\"><title>2652165079784-&gt;2652165447576</title>\n",
       "<path d=\"M188,-166.366C188,-158.152 188,-148.658 188,-139.725\" fill=\"none\" stroke=\"black\"/>\n",
       "<polygon fill=\"black\" points=\"191.5,-139.607 188,-129.607 184.5,-139.607 191.5,-139.607\" stroke=\"black\"/>\n",
       "</g>\n",
       "<!-- 2652165604912 -->\n",
       "<g class=\"node\" id=\"node6\"><title>2652165604912</title>\n",
       "<polygon fill=\"none\" points=\"66.5,-0.5 66.5,-46.5 309.5,-46.5 309.5,-0.5 66.5,-0.5\" stroke=\"black\"/>\n",
       "<text font-family=\"Times New Roman,serif\" font-size=\"14.00\" text-anchor=\"middle\" x=\"118.5\" y=\"-19.8\">dense_6: Dense</text>\n",
       "<polyline fill=\"none\" points=\"170.5,-0.5 170.5,-46.5 \" stroke=\"black\"/>\n",
       "<text font-family=\"Times New Roman,serif\" font-size=\"14.00\" text-anchor=\"middle\" x=\"198.5\" y=\"-31.3\">input:</text>\n",
       "<polyline fill=\"none\" points=\"170.5,-23.5 226.5,-23.5 \" stroke=\"black\"/>\n",
       "<text font-family=\"Times New Roman,serif\" font-size=\"14.00\" text-anchor=\"middle\" x=\"198.5\" y=\"-8.3\">output:</text>\n",
       "<polyline fill=\"none\" points=\"226.5,-0.5 226.5,-46.5 \" stroke=\"black\"/>\n",
       "<text font-family=\"Times New Roman,serif\" font-size=\"14.00\" text-anchor=\"middle\" x=\"268\" y=\"-31.3\">(None, 128)</text>\n",
       "<polyline fill=\"none\" points=\"226.5,-23.5 309.5,-23.5 \" stroke=\"black\"/>\n",
       "<text font-family=\"Times New Roman,serif\" font-size=\"14.00\" text-anchor=\"middle\" x=\"268\" y=\"-8.3\">(None, 1)</text>\n",
       "</g>\n",
       "<!-- 2652165447576&#45;&gt;2652165604912 -->\n",
       "<g class=\"edge\" id=\"edge6\"><title>2652165447576-&gt;2652165604912</title>\n",
       "<path d=\"M188,-83.3664C188,-75.1516 188,-65.6579 188,-56.7252\" fill=\"none\" stroke=\"black\"/>\n",
       "<polygon fill=\"black\" points=\"191.5,-56.6068 188,-46.6068 184.5,-56.6069 191.5,-56.6068\" stroke=\"black\"/>\n",
       "</g>\n",
       "<!-- 2652164363040 -->\n",
       "<g class=\"node\" id=\"node7\"><title>2652164363040</title>\n",
       "<polygon fill=\"none\" points=\"136,-498.5 136,-534.5 240,-534.5 240,-498.5 136,-498.5\" stroke=\"black\"/>\n",
       "<text font-family=\"Times New Roman,serif\" font-size=\"14.00\" text-anchor=\"middle\" x=\"188\" y=\"-512.8\">2652164363040</text>\n",
       "</g>\n",
       "<!-- 2652164363040&#45;&gt;2652164362592 -->\n",
       "<g class=\"edge\" id=\"edge1\"><title>2652164363040-&gt;2652164362592</title>\n",
       "<path d=\"M188,-498.254C188,-490.363 188,-480.749 188,-471.602\" fill=\"none\" stroke=\"black\"/>\n",
       "<polygon fill=\"black\" points=\"191.5,-471.591 188,-461.591 184.5,-471.591 191.5,-471.591\" stroke=\"black\"/>\n",
       "</g>\n",
       "</g>\n",
       "</svg>"
      ],
      "text/plain": [
       "<IPython.core.display.SVG object>"
      ]
     },
     "execution_count": 17,
     "metadata": {},
     "output_type": "execute_result"
    }
   ],
   "source": [
    "SVG(model_to_dot(model4, show_shapes=True).create(prog='dot', format='svg'))"
   ]
  },
  {
   "cell_type": "code",
   "execution_count": 18,
   "metadata": {},
   "outputs": [
    {
     "name": "stdout",
     "output_type": "stream",
     "text": [
      "WARNING:tensorflow:From D:\\Programing\\Anaconda3\\envs\\tf1_env\\lib\\site-packages\\keras\\optimizers.py:790: The name tf.train.Optimizer is deprecated. Please use tf.compat.v1.train.Optimizer instead.\n",
      "\n",
      "WARNING:tensorflow:From D:\\Programing\\Anaconda3\\envs\\tf1_env\\lib\\site-packages\\keras\\backend\\tensorflow_backend.py:3376: The name tf.log is deprecated. Please use tf.math.log instead.\n",
      "\n",
      "WARNING:tensorflow:From D:\\Programing\\Anaconda3\\envs\\tf1_env\\lib\\site-packages\\tensorflow\\python\\ops\\nn_impl.py:180: add_dispatch_support.<locals>.wrapper (from tensorflow.python.ops.array_ops) is deprecated and will be removed in a future version.\n",
      "Instructions for updating:\n",
      "Use tf.where in 2.0, which has the same broadcast rule as np.where\n"
     ]
    }
   ],
   "source": [
    "model1.compile(loss='binary_crossentropy', optimizer='adam', metrics=['accuracy'])\n",
    "model2.compile(loss='binary_crossentropy', optimizer='adam', metrics=['accuracy'])\n",
    "model3.compile(loss='binary_crossentropy', optimizer='adam', metrics=['accuracy'])\n",
    "model4.compile(loss='binary_crossentropy', optimizer='adam', metrics=['accuracy'])"
   ]
  },
  {
   "cell_type": "code",
   "execution_count": 19,
   "metadata": {},
   "outputs": [
    {
     "name": "stdout",
     "output_type": "stream",
     "text": [
      "Train on 20000 samples, validate on 5000 samples\n",
      "Epoch 1/2\n",
      "20000/20000 [==============================] - 8s 395us/step - loss: 0.4157 - acc: 0.7984 - val_loss: 0.3143 - val_acc: 0.8648\n",
      "Epoch 2/2\n",
      "20000/20000 [==============================] - 6s 287us/step - loss: 0.0464 - acc: 0.9860 - val_loss: 0.4317 - val_acc: 0.8596\n"
     ]
    }
   ],
   "source": [
    "hist1=model1.fit(x_train, y_train, epochs=2, batch_size=64, validation_data=(x_val, y_val))"
   ]
  },
  {
   "cell_type": "code",
   "execution_count": 20,
   "metadata": {},
   "outputs": [
    {
     "name": "stdout",
     "output_type": "stream",
     "text": [
      "Train on 20000 samples, validate on 5000 samples\n",
      "Epoch 1/2\n",
      "20000/20000 [==============================] - 235s 12ms/step - loss: 0.4347 - acc: 0.7928 - val_loss: 0.3093 - val_acc: 0.8738\n",
      "Epoch 2/2\n",
      "20000/20000 [==============================] - 219s 11ms/step - loss: 0.2241 - acc: 0.9157 - val_loss: 0.3169 - val_acc: 0.8696\n"
     ]
    }
   ],
   "source": [
    "hist2=model2.fit(x_train, y_train, epochs=2, batch_size=64, validation_data=(x_val, y_val))"
   ]
  },
  {
   "cell_type": "code",
   "execution_count": 21,
   "metadata": {},
   "outputs": [
    {
     "name": "stdout",
     "output_type": "stream",
     "text": [
      "Train on 20000 samples, validate on 5000 samples\n",
      "Epoch 1/2\n",
      "20000/20000 [==============================] - 8s 401us/step - loss: 0.4565 - acc: 0.7668 - val_loss: 0.3364 - val_acc: 0.8514\n",
      "Epoch 2/2\n",
      "20000/20000 [==============================] - 5s 249us/step - loss: 0.2109 - acc: 0.9172 - val_loss: 0.2640 - val_acc: 0.8954\n"
     ]
    }
   ],
   "source": [
    "hist3=model3.fit(x_train, y_train, epochs=2, batch_size=64, validation_data=(x_val, y_val))"
   ]
  },
  {
   "cell_type": "code",
   "execution_count": 22,
   "metadata": {},
   "outputs": [
    {
     "name": "stdout",
     "output_type": "stream",
     "text": [
      "Train on 20000 samples, validate on 5000 samples\n",
      "Epoch 1/2\n",
      "20000/20000 [==============================] - 58s 3ms/step - loss: 0.4046 - acc: 0.8045 - val_loss: 0.3013 - val_acc: 0.8746\n",
      "Epoch 2/2\n",
      "20000/20000 [==============================] - 54s 3ms/step - loss: 0.1794 - acc: 0.9338 - val_loss: 0.3201 - val_acc: 0.8766\n"
     ]
    }
   ],
   "source": [
    "hist4=model4.fit(x_train, y_train, epochs=2, batch_size=64, validation_data=(x_val, y_val))"
   ]
  },
  {
   "cell_type": "code",
   "execution_count": 24,
   "metadata": {},
   "outputs": [],
   "source": [
    "import matplotlib.pyplot as plt"
   ]
  },
  {
   "cell_type": "code",
   "execution_count": 28,
   "metadata": {},
   "outputs": [
    {
     "data": {
      "text/plain": [
       "<matplotlib.legend.Legend at 0x26b31a125c0>"
      ]
     },
     "execution_count": 28,
     "metadata": {},
     "output_type": "execute_result"
    },
    {
     "data": {
      "image/png": "[encoded data removed]",
      "text/plain": [
       "<Figure size 432x288 with 2 Axes>"
      ]
     },
     "metadata": {
      "needs_background": "light"
     },
     "output_type": "display_data"
    }
   ],
   "source": [
    "fig, loss_ax=plt.subplots()\n",
    "acc_ax=loss_ax.twinx()\n",
    "\n",
    "loss_ax.plot(hist1.history['loss'], 'y', label='train loss')\n",
    "loss_ax.plot(hist1.history['val_loss'], 'r', label='val loss')\n",
    "loss_ax.set_ylim([-0.2, 1.2])\n",
    "\n",
    "acc_ax.plot(hist1.history['acc'], 'b', label='train acc')\n",
    "acc_ax.plot(hist1.history['val_acc'], 'g', label='val acc')\n",
    "acc_ax.set_ylim([-0.2, 1.2])\n",
    "\n",
    "loss_ax.set_xlabel('epoch')\n",
    "loss_ax.set_ylabel('loss')\n",
    "acc_ax.set_ylabel('accuracy')\n",
    "\n",
    "loss_ax.legend(loc='upper left')\n",
    "acc_ax.legend(loc='lower left')"
   ]
  },
  {
   "cell_type": "code",
   "execution_count": 29,
   "metadata": {},
   "outputs": [
    {
     "data": {
      "text/plain": [
       "<matplotlib.legend.Legend at 0x26b31b2e3c8>"
      ]
     },
     "execution_count": 29,
     "metadata": {},
     "output_type": "execute_result"
    },
    {
     "data": {
      "image/png": "[encoded data removed]",
      "text/plain": [
       "<Figure size 432x288 with 2 Axes>"
      ]
     },
     "metadata": {
      "needs_background": "light"
     },
     "output_type": "display_data"
    }
   ],
   "source": [
    "fig, loss_ax=plt.subplots()\n",
    "acc_ax=loss_ax.twinx()\n",
    "\n",
    "loss_ax.plot(hist2.history['loss'], 'y', label='train loss')\n",
    "loss_ax.plot(hist2.history['val_loss'], 'r', label='val loss')\n",
    "loss_ax.set_ylim([-0.2, 1.2])\n",
    "\n",
    "acc_ax.plot(hist2.history['acc'], 'b', label='train acc')\n",
    "acc_ax.plot(hist2.history['val_acc'], 'g', label='val acc')\n",
    "acc_ax.set_ylim([-0.2, 1.2])\n",
    "\n",
    "loss_ax.set_xlabel('epoch')\n",
    "loss_ax.set_ylabel('loss')\n",
    "acc_ax.set_ylabel('accuracy')\n",
    "\n",
    "loss_ax.legend(loc='upper left')\n",
    "acc_ax.legend(loc='lower left')"
   ]
  },
  {
   "cell_type": "code",
   "execution_count": 30,
   "metadata": {},
   "outputs": [
    {
     "data": {
      "text/plain": [
       "<matplotlib.legend.Legend at 0x26b31ea79b0>"
      ]
     },
     "execution_count": 30,
     "metadata": {},
     "output_type": "execute_result"
    },
    {
     "data": {
      "image/png": "[encoded data removed]",
      "text/plain": [
       "<Figure size 432x288 with 2 Axes>"
      ]
     },
     "metadata": {
      "needs_background": "light"
     },
     "output_type": "display_data"
    }
   ],
   "source": [
    "fig, loss_ax=plt.subplots()\n",
    "acc_ax=loss_ax.twinx()\n",
    "\n",
    "loss_ax.plot(hist3.history['loss'], 'y', label='train loss')\n",
    "loss_ax.plot(hist3.history['val_loss'], 'r', label='val loss')\n",
    "loss_ax.set_ylim([-0.2, 1.2])\n",
    "\n",
    "acc_ax.plot(hist3.history['acc'], 'b', label='train acc')\n",
    "acc_ax.plot(hist3.history['val_acc'], 'g', label='val acc')\n",
    "acc_ax.set_ylim([-0.2, 1.2])\n",
    "\n",
    "loss_ax.set_xlabel('epoch')\n",
    "loss_ax.set_ylabel('loss')\n",
    "acc_ax.set_ylabel('accuracy')\n",
    "\n",
    "loss_ax.legend(loc='upper left')\n",
    "acc_ax.legend(loc='lower left')"
   ]
  },
  {
   "cell_type": "code",
   "execution_count": 31,
   "metadata": {},
   "outputs": [
    {
     "data": {
      "text/plain": [
       "<matplotlib.legend.Legend at 0x26b31a750f0>"
      ]
     },
     "execution_count": 31,
     "metadata": {},
     "output_type": "execute_result"
    },
    {
     "data": {
      "image/png": "[encoded data removed]",
      "text/plain": [
       "<Figure size 432x288 with 2 Axes>"
      ]
     },
     "metadata": {
      "needs_background": "light"
     },
     "output_type": "display_data"
    }
   ],
   "source": [
    "fig, loss_ax=plt.subplots()\n",
    "acc_ax=loss_ax.twinx()\n",
    "\n",
    "loss_ax.plot(hist4.history['loss'], 'y', label='train loss')\n",
    "loss_ax.plot(hist4.history['val_loss'], 'r', label='val loss')\n",
    "loss_ax.set_ylim([-0.2, 1.2])\n",
    "\n",
    "acc_ax.plot(hist4.history['acc'], 'b', label='train acc')\n",
    "acc_ax.plot(hist4.history['val_acc'], 'g', label='val acc')\n",
    "acc_ax.set_ylim([-0.2, 1.2])\n",
    "\n",
    "loss_ax.set_xlabel('epoch')\n",
    "loss_ax.set_ylabel('loss')\n",
    "acc_ax.set_ylabel('accuracy')\n",
    "\n",
    "loss_ax.legend(loc='upper left')\n",
    "acc_ax.legend(loc='lower left')"
   ]
  },
  {
   "cell_type": "code",
   "execution_count": 32,
   "metadata": {},
   "outputs": [
    {
     "name": "stdout",
     "output_type": "stream",
     "text": [
      "25000/25000 [==============================] - 1s 38us/step\n",
      "[0.45634709151268005, 0.847720000038147]\n"
     ]
    }
   ],
   "source": [
    "loss_metrics1=model1.evaluate(x_test, y_test, batch_size=64)\n",
    "print(loss_metrics1)"
   ]
  },
  {
   "cell_type": "code",
   "execution_count": 33,
   "metadata": {},
   "outputs": [
    {
     "name": "stdout",
     "output_type": "stream",
     "text": [
      "25000/25000 [==============================] - 85s 3ms/step\n",
      "[0.3395379027271271, 0.858919999961853]\n"
     ]
    }
   ],
   "source": [
    "loss_metrics2=model2.evaluate(x_test, y_test, batch_size=64)\n",
    "print(loss_metrics2)"
   ]
  },
  {
   "cell_type": "code",
   "execution_count": 34,
   "metadata": {},
   "outputs": [
    {
     "name": "stdout",
     "output_type": "stream",
     "text": [
      "25000/25000 [==============================] - 1s 49us/step\n",
      "[0.27794751317977906, 0.882719999961853]\n"
     ]
    }
   ],
   "source": [
    "loss_metrics3=model3.evaluate(x_test, y_test, batch_size=64)\n",
    "print(loss_metrics3)"
   ]
  },
  {
   "cell_type": "code",
   "execution_count": 35,
   "metadata": {},
   "outputs": [
    {
     "name": "stdout",
     "output_type": "stream",
     "text": [
      "25000/25000 [==============================] - 24s 968us/step\n",
      "[0.36429728490829466, 0.8604800000190734]\n"
     ]
    }
   ],
   "source": [
    "loss_metrics4=model4.evaluate(x_test, y_test, batch_size=64)\n",
    "print(loss_metrics4)"
   ]
  },
  {
   "cell_type": "code",
   "execution_count": null,
   "metadata": {},
   "outputs": [],
   "source": []
  }
 ],
 "metadata": {
  "kernelspec": {
   "display_name": "Python [conda env:tf1_env]",
   "language": "python",
   "name": "conda-env-tf1_env-py"
  },
  "language_info": {
   "codemirror_mode": {
    "name": "ipython",
    "version": 3
   },
   "file_extension": ".py",
   "mimetype": "text/x-python",
   "name": "python",
   "nbconvert_exporter": "python",
   "pygments_lexer": "ipython3",
   "version": "3.6.10"
  }
 },
 "nbformat": 4,
 "nbformat_minor": 4
}
