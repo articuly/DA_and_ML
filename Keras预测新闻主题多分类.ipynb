{
 "cells": [
  {
   "cell_type": "code",
   "execution_count": 1,
   "metadata": {},
   "outputs": [
    {
     "name": "stderr",
     "output_type": "stream",
     "text": [
      "Using TensorFlow backend.\n"
     ]
    }
   ],
   "source": [
    "from keras.datasets import reuters\n",
    "(x_train, y_train), (x_test, y_test)=reuters.load_data(num_words=15000)"
   ]
  },
  {
   "cell_type": "code",
   "execution_count": 2,
   "metadata": {},
   "outputs": [],
   "source": [
    "x_val=x_train[7000:]\n",
    "y_val=y_train[7000:]\n",
    "x_train=x_train[:7000]\n",
    "y_train=y_train[:7000]"
   ]
  },
  {
   "cell_type": "code",
   "execution_count": 3,
   "metadata": {},
   "outputs": [],
   "source": [
    "from keras.preprocessing import sequence\n",
    "x_train=sequence.pad_sequences(x_train, maxlen=120)\n",
    "x_val=sequence.pad_sequences(x_val, maxlen=120)\n",
    "x_test=sequence.pad_sequences(x_test, maxlen=120)"
   ]
  },
  {
   "cell_type": "code",
   "execution_count": 4,
   "metadata": {},
   "outputs": [
    {
     "data": {
      "text/plain": [
       "array([    0,     0,     0,     0,     0,     0,     0,     0,     0,\n",
       "           0,     0,     0,     0,     0,     0,     0,     0,     0,\n",
       "           0,     0,     0,     0,     0,     0,     0,     0,     0,\n",
       "           0,     0,     0,     0,     0,     0,     0,     0,     0,\n",
       "           0,     0,     0,     0,     0,     0,     0,     0,     0,\n",
       "           0,     0,     0,     0,     0,     0,     0,     0,     0,\n",
       "           0,     0,     0,     0,     0,     0,     0,     0,     0,\n",
       "           0,     1,  3267,   699,  3434,  2295,    56,     2,  7511,\n",
       "           9,    56,  3906,  1073,    81,     5,  1198,    57,   366,\n",
       "         737,   132,    20,  4093,     7,     2,    49,  2295, 13415,\n",
       "        1037,  3267,   699,  3434,     8,     7,    10,   241,    16,\n",
       "         855,   129,   231,   783,     5,     4,   587,  2295, 13415,\n",
       "           2,   775,     7,    48,    34,   191,    44,    35,  1795,\n",
       "         505,    17,    12])"
      ]
     },
     "execution_count": 4,
     "metadata": {},
     "output_type": "execute_result"
    }
   ],
   "source": [
    "x_train[1]"
   ]
  },
  {
   "cell_type": "code",
   "execution_count": 5,
   "metadata": {},
   "outputs": [],
   "source": [
    "from keras.utils import np_utils\n",
    "y_train=np_utils.to_categorical(y_train)\n",
    "y_val=np_utils.to_categorical(y_val)\n",
    "y_test=np_utils.to_categorical(y_test)"
   ]
  },
  {
   "cell_type": "code",
   "execution_count": 6,
   "metadata": {},
   "outputs": [],
   "source": [
    "import numpy as np\n",
    "import keras\n",
    "from keras.models import Sequential\n",
    "from keras.layers import Dense, LSTM, Embedding, Flatten, Dropout\n",
    "from keras.layers import Conv1D, MaxPooling1D, GlobalMaxPooling1D\n",
    "from keras.utils.vis_utils import model_to_dot\n",
    "from IPython.display import SVG\n",
    "import matplotlib.pyplot as plt\n",
    "%matplotlib inline"
   ]
  },
  {
   "cell_type": "code",
   "execution_count": 7,
   "metadata": {},
   "outputs": [
    {
     "name": "stdout",
     "output_type": "stream",
     "text": [
      "WARNING:tensorflow:From D:\\Programing\\Anaconda3\\envs\\tf1_env\\lib\\site-packages\\keras\\backend\\tensorflow_backend.py:74: The name tf.get_default_graph is deprecated. Please use tf.compat.v1.get_default_graph instead.\n",
      "\n",
      "WARNING:tensorflow:From D:\\Programing\\Anaconda3\\envs\\tf1_env\\lib\\site-packages\\keras\\backend\\tensorflow_backend.py:517: The name tf.placeholder is deprecated. Please use tf.compat.v1.placeholder instead.\n",
      "\n",
      "WARNING:tensorflow:From D:\\Programing\\Anaconda3\\envs\\tf1_env\\lib\\site-packages\\keras\\backend\\tensorflow_backend.py:4138: The name tf.random_uniform is deprecated. Please use tf.random.uniform instead.\n",
      "\n"
     ]
    }
   ],
   "source": [
    "model1=Sequential()\n",
    "model1.add(Embedding(15000, 128, input_length=120))\n",
    "model1.add(Flatten())\n",
    "model1.add(Dense(256, activation='relu'))\n",
    "model1.add(Dense(46, activation='softmax'))"
   ]
  },
  {
   "cell_type": "code",
   "execution_count": 8,
   "metadata": {},
   "outputs": [
    {
     "data": {
      "image/svg+xml": [
       "<svg height=\"377pt\" viewBox=\"0.00 0.00 338.00 377.00\" width=\"338pt\" xmlns=\"http://www.w3.org/2000/svg\" xmlns:xlink=\"http://www.w3.org/1999/xlink\">\n",
       "<g class=\"graph\" id=\"graph0\" transform=\"scale(1 1) rotate(0) translate(4 373)\">\n",
       "<title>G</title>\n",
       "<polygon fill=\"white\" points=\"-4,4 -4,-373 334,-373 334,4 -4,4\" stroke=\"none\"/>\n",
       "<!-- 2108189451600 -->\n",
       "<g class=\"node\" id=\"node1\"><title>2108189451600</title>\n",
       "<polygon fill=\"none\" points=\"0,-249.5 0,-295.5 330,-295.5 330,-249.5 0,-249.5\" stroke=\"black\"/>\n",
       "<text font-family=\"Times New Roman,serif\" font-size=\"14.00\" text-anchor=\"middle\" x=\"81.5\" y=\"-268.8\">embedding_1: Embedding</text>\n",
       "<polyline fill=\"none\" points=\"163,-249.5 163,-295.5 \" stroke=\"black\"/>\n",
       "<text font-family=\"Times New Roman,serif\" font-size=\"14.00\" text-anchor=\"middle\" x=\"191\" y=\"-280.3\">input:</text>\n",
       "<polyline fill=\"none\" points=\"163,-272.5 219,-272.5 \" stroke=\"black\"/>\n",
       "<text font-family=\"Times New Roman,serif\" font-size=\"14.00\" text-anchor=\"middle\" x=\"191\" y=\"-257.3\">output:</text>\n",
       "<polyline fill=\"none\" points=\"219,-249.5 219,-295.5 \" stroke=\"black\"/>\n",
       "<text font-family=\"Times New Roman,serif\" font-size=\"14.00\" text-anchor=\"middle\" x=\"274.5\" y=\"-280.3\">(None, 120)</text>\n",
       "<polyline fill=\"none\" points=\"219,-272.5 330,-272.5 \" stroke=\"black\"/>\n",
       "<text font-family=\"Times New Roman,serif\" font-size=\"14.00\" text-anchor=\"middle\" x=\"274.5\" y=\"-257.3\">(None, 120, 128)</text>\n",
       "</g>\n",
       "<!-- 2107730889640 -->\n",
       "<g class=\"node\" id=\"node2\"><title>2107730889640</title>\n",
       "<polygon fill=\"none\" points=\"27,-166.5 27,-212.5 303,-212.5 303,-166.5 27,-166.5\" stroke=\"black\"/>\n",
       "<text font-family=\"Times New Roman,serif\" font-size=\"14.00\" text-anchor=\"middle\" x=\"81.5\" y=\"-185.8\">flatten_1: Flatten</text>\n",
       "<polyline fill=\"none\" points=\"136,-166.5 136,-212.5 \" stroke=\"black\"/>\n",
       "<text font-family=\"Times New Roman,serif\" font-size=\"14.00\" text-anchor=\"middle\" x=\"164\" y=\"-197.3\">input:</text>\n",
       "<polyline fill=\"none\" points=\"136,-189.5 192,-189.5 \" stroke=\"black\"/>\n",
       "<text font-family=\"Times New Roman,serif\" font-size=\"14.00\" text-anchor=\"middle\" x=\"164\" y=\"-174.3\">output:</text>\n",
       "<polyline fill=\"none\" points=\"192,-166.5 192,-212.5 \" stroke=\"black\"/>\n",
       "<text font-family=\"Times New Roman,serif\" font-size=\"14.00\" text-anchor=\"middle\" x=\"247.5\" y=\"-197.3\">(None, 120, 128)</text>\n",
       "<polyline fill=\"none\" points=\"192,-189.5 303,-189.5 \" stroke=\"black\"/>\n",
       "<text font-family=\"Times New Roman,serif\" font-size=\"14.00\" text-anchor=\"middle\" x=\"247.5\" y=\"-174.3\">(None, 15360)</text>\n",
       "</g>\n",
       "<!-- 2108189451600&#45;&gt;2107730889640 -->\n",
       "<g class=\"edge\" id=\"edge2\"><title>2108189451600-&gt;2107730889640</title>\n",
       "<path d=\"M165,-249.366C165,-241.152 165,-231.658 165,-222.725\" fill=\"none\" stroke=\"black\"/>\n",
       "<polygon fill=\"black\" points=\"168.5,-222.607 165,-212.607 161.5,-222.607 168.5,-222.607\" stroke=\"black\"/>\n",
       "</g>\n",
       "<!-- 2108052357976 -->\n",
       "<g class=\"node\" id=\"node3\"><title>2108052357976</title>\n",
       "<polygon fill=\"none\" points=\"36.5,-83.5 36.5,-129.5 293.5,-129.5 293.5,-83.5 36.5,-83.5\" stroke=\"black\"/>\n",
       "<text font-family=\"Times New Roman,serif\" font-size=\"14.00\" text-anchor=\"middle\" x=\"88.5\" y=\"-102.8\">dense_1: Dense</text>\n",
       "<polyline fill=\"none\" points=\"140.5,-83.5 140.5,-129.5 \" stroke=\"black\"/>\n",
       "<text font-family=\"Times New Roman,serif\" font-size=\"14.00\" text-anchor=\"middle\" x=\"168.5\" y=\"-114.3\">input:</text>\n",
       "<polyline fill=\"none\" points=\"140.5,-106.5 196.5,-106.5 \" stroke=\"black\"/>\n",
       "<text font-family=\"Times New Roman,serif\" font-size=\"14.00\" text-anchor=\"middle\" x=\"168.5\" y=\"-91.3\">output:</text>\n",
       "<polyline fill=\"none\" points=\"196.5,-83.5 196.5,-129.5 \" stroke=\"black\"/>\n",
       "<text font-family=\"Times New Roman,serif\" font-size=\"14.00\" text-anchor=\"middle\" x=\"245\" y=\"-114.3\">(None, 15360)</text>\n",
       "<polyline fill=\"none\" points=\"196.5,-106.5 293.5,-106.5 \" stroke=\"black\"/>\n",
       "<text font-family=\"Times New Roman,serif\" font-size=\"14.00\" text-anchor=\"middle\" x=\"245\" y=\"-91.3\">(None, 256)</text>\n",
       "</g>\n",
       "<!-- 2107730889640&#45;&gt;2108052357976 -->\n",
       "<g class=\"edge\" id=\"edge3\"><title>2107730889640-&gt;2108052357976</title>\n",
       "<path d=\"M165,-166.366C165,-158.152 165,-148.658 165,-139.725\" fill=\"none\" stroke=\"black\"/>\n",
       "<polygon fill=\"black\" points=\"168.5,-139.607 165,-129.607 161.5,-139.607 168.5,-139.607\" stroke=\"black\"/>\n",
       "</g>\n",
       "<!-- 2108189453168 -->\n",
       "<g class=\"node\" id=\"node4\"><title>2108189453168</title>\n",
       "<polygon fill=\"none\" points=\"43.5,-0.5 43.5,-46.5 286.5,-46.5 286.5,-0.5 43.5,-0.5\" stroke=\"black\"/>\n",
       "<text font-family=\"Times New Roman,serif\" font-size=\"14.00\" text-anchor=\"middle\" x=\"95.5\" y=\"-19.8\">dense_2: Dense</text>\n",
       "<polyline fill=\"none\" points=\"147.5,-0.5 147.5,-46.5 \" stroke=\"black\"/>\n",
       "<text font-family=\"Times New Roman,serif\" font-size=\"14.00\" text-anchor=\"middle\" x=\"175.5\" y=\"-31.3\">input:</text>\n",
       "<polyline fill=\"none\" points=\"147.5,-23.5 203.5,-23.5 \" stroke=\"black\"/>\n",
       "<text font-family=\"Times New Roman,serif\" font-size=\"14.00\" text-anchor=\"middle\" x=\"175.5\" y=\"-8.3\">output:</text>\n",
       "<polyline fill=\"none\" points=\"203.5,-0.5 203.5,-46.5 \" stroke=\"black\"/>\n",
       "<text font-family=\"Times New Roman,serif\" font-size=\"14.00\" text-anchor=\"middle\" x=\"245\" y=\"-31.3\">(None, 256)</text>\n",
       "<polyline fill=\"none\" points=\"203.5,-23.5 286.5,-23.5 \" stroke=\"black\"/>\n",
       "<text font-family=\"Times New Roman,serif\" font-size=\"14.00\" text-anchor=\"middle\" x=\"245\" y=\"-8.3\">(None, 46)</text>\n",
       "</g>\n",
       "<!-- 2108052357976&#45;&gt;2108189453168 -->\n",
       "<g class=\"edge\" id=\"edge4\"><title>2108052357976-&gt;2108189453168</title>\n",
       "<path d=\"M165,-83.3664C165,-75.1516 165,-65.6579 165,-56.7252\" fill=\"none\" stroke=\"black\"/>\n",
       "<polygon fill=\"black\" points=\"168.5,-56.6068 165,-46.6068 161.5,-56.6069 168.5,-56.6068\" stroke=\"black\"/>\n",
       "</g>\n",
       "<!-- 2108189452048 -->\n",
       "<g class=\"node\" id=\"node5\"><title>2108189452048</title>\n",
       "<polygon fill=\"none\" points=\"113,-332.5 113,-368.5 217,-368.5 217,-332.5 113,-332.5\" stroke=\"black\"/>\n",
       "<text font-family=\"Times New Roman,serif\" font-size=\"14.00\" text-anchor=\"middle\" x=\"165\" y=\"-346.8\">2108189452048</text>\n",
       "</g>\n",
       "<!-- 2108189452048&#45;&gt;2108189451600 -->\n",
       "<g class=\"edge\" id=\"edge1\"><title>2108189452048-&gt;2108189451600</title>\n",
       "<path d=\"M165,-332.254C165,-324.363 165,-314.749 165,-305.602\" fill=\"none\" stroke=\"black\"/>\n",
       "<polygon fill=\"black\" points=\"168.5,-305.591 165,-295.591 161.5,-305.591 168.5,-305.591\" stroke=\"black\"/>\n",
       "</g>\n",
       "</g>\n",
       "</svg>"
      ],
      "text/plain": [
       "<IPython.core.display.SVG object>"
      ]
     },
     "execution_count": 8,
     "metadata": {},
     "output_type": "execute_result"
    }
   ],
   "source": [
    "SVG(model_to_dot(model1, show_shapes=True).create(prog='dot', format='svg'))"
   ]
  },
  {
   "cell_type": "code",
   "execution_count": 9,
   "metadata": {},
   "outputs": [],
   "source": [
    "model2=Sequential()\n",
    "model2.add(Embedding(15000, 128, input_length=120))\n",
    "model2.add(LSTM(128))\n",
    "model2.add(Dense(46, activation='softmax'))"
   ]
  },
  {
   "cell_type": "code",
   "execution_count": 10,
   "metadata": {},
   "outputs": [
    {
     "data": {
      "image/svg+xml": [
       "<svg height=\"294pt\" viewBox=\"0.00 0.00 338.00 294.00\" width=\"338pt\" xmlns=\"http://www.w3.org/2000/svg\" xmlns:xlink=\"http://www.w3.org/1999/xlink\">\n",
       "<g class=\"graph\" id=\"graph0\" transform=\"scale(1 1) rotate(0) translate(4 290)\">\n",
       "<title>G</title>\n",
       "<polygon fill=\"white\" points=\"-4,4 -4,-290 334,-290 334,4 -4,4\" stroke=\"none\"/>\n",
       "<!-- 2108185054456 -->\n",
       "<g class=\"node\" id=\"node1\"><title>2108185054456</title>\n",
       "<polygon fill=\"none\" points=\"0,-166.5 0,-212.5 330,-212.5 330,-166.5 0,-166.5\" stroke=\"black\"/>\n",
       "<text font-family=\"Times New Roman,serif\" font-size=\"14.00\" text-anchor=\"middle\" x=\"81.5\" y=\"-185.8\">embedding_2: Embedding</text>\n",
       "<polyline fill=\"none\" points=\"163,-166.5 163,-212.5 \" stroke=\"black\"/>\n",
       "<text font-family=\"Times New Roman,serif\" font-size=\"14.00\" text-anchor=\"middle\" x=\"191\" y=\"-197.3\">input:</text>\n",
       "<polyline fill=\"none\" points=\"163,-189.5 219,-189.5 \" stroke=\"black\"/>\n",
       "<text font-family=\"Times New Roman,serif\" font-size=\"14.00\" text-anchor=\"middle\" x=\"191\" y=\"-174.3\">output:</text>\n",
       "<polyline fill=\"none\" points=\"219,-166.5 219,-212.5 \" stroke=\"black\"/>\n",
       "<text font-family=\"Times New Roman,serif\" font-size=\"14.00\" text-anchor=\"middle\" x=\"274.5\" y=\"-197.3\">(None, 120)</text>\n",
       "<polyline fill=\"none\" points=\"219,-189.5 330,-189.5 \" stroke=\"black\"/>\n",
       "<text font-family=\"Times New Roman,serif\" font-size=\"14.00\" text-anchor=\"middle\" x=\"274.5\" y=\"-174.3\">(None, 120, 128)</text>\n",
       "</g>\n",
       "<!-- 2108178764352 -->\n",
       "<g class=\"node\" id=\"node2\"><title>2108178764352</title>\n",
       "<polygon fill=\"none\" points=\"32.5,-83.5 32.5,-129.5 297.5,-129.5 297.5,-83.5 32.5,-83.5\" stroke=\"black\"/>\n",
       "<text font-family=\"Times New Roman,serif\" font-size=\"14.00\" text-anchor=\"middle\" x=\"81.5\" y=\"-102.8\">lstm_1: LSTM</text>\n",
       "<polyline fill=\"none\" points=\"130.5,-83.5 130.5,-129.5 \" stroke=\"black\"/>\n",
       "<text font-family=\"Times New Roman,serif\" font-size=\"14.00\" text-anchor=\"middle\" x=\"158.5\" y=\"-114.3\">input:</text>\n",
       "<polyline fill=\"none\" points=\"130.5,-106.5 186.5,-106.5 \" stroke=\"black\"/>\n",
       "<text font-family=\"Times New Roman,serif\" font-size=\"14.00\" text-anchor=\"middle\" x=\"158.5\" y=\"-91.3\">output:</text>\n",
       "<polyline fill=\"none\" points=\"186.5,-83.5 186.5,-129.5 \" stroke=\"black\"/>\n",
       "<text font-family=\"Times New Roman,serif\" font-size=\"14.00\" text-anchor=\"middle\" x=\"242\" y=\"-114.3\">(None, 120, 128)</text>\n",
       "<polyline fill=\"none\" points=\"186.5,-106.5 297.5,-106.5 \" stroke=\"black\"/>\n",
       "<text font-family=\"Times New Roman,serif\" font-size=\"14.00\" text-anchor=\"middle\" x=\"242\" y=\"-91.3\">(None, 128)</text>\n",
       "</g>\n",
       "<!-- 2108185054456&#45;&gt;2108178764352 -->\n",
       "<g class=\"edge\" id=\"edge2\"><title>2108185054456-&gt;2108178764352</title>\n",
       "<path d=\"M165,-166.366C165,-158.152 165,-148.658 165,-139.725\" fill=\"none\" stroke=\"black\"/>\n",
       "<polygon fill=\"black\" points=\"168.5,-139.607 165,-129.607 161.5,-139.607 168.5,-139.607\" stroke=\"black\"/>\n",
       "</g>\n",
       "<!-- 2108178978520 -->\n",
       "<g class=\"node\" id=\"node3\"><title>2108178978520</title>\n",
       "<polygon fill=\"none\" points=\"43.5,-0.5 43.5,-46.5 286.5,-46.5 286.5,-0.5 43.5,-0.5\" stroke=\"black\"/>\n",
       "<text font-family=\"Times New Roman,serif\" font-size=\"14.00\" text-anchor=\"middle\" x=\"95.5\" y=\"-19.8\">dense_3: Dense</text>\n",
       "<polyline fill=\"none\" points=\"147.5,-0.5 147.5,-46.5 \" stroke=\"black\"/>\n",
       "<text font-family=\"Times New Roman,serif\" font-size=\"14.00\" text-anchor=\"middle\" x=\"175.5\" y=\"-31.3\">input:</text>\n",
       "<polyline fill=\"none\" points=\"147.5,-23.5 203.5,-23.5 \" stroke=\"black\"/>\n",
       "<text font-family=\"Times New Roman,serif\" font-size=\"14.00\" text-anchor=\"middle\" x=\"175.5\" y=\"-8.3\">output:</text>\n",
       "<polyline fill=\"none\" points=\"203.5,-0.5 203.5,-46.5 \" stroke=\"black\"/>\n",
       "<text font-family=\"Times New Roman,serif\" font-size=\"14.00\" text-anchor=\"middle\" x=\"245\" y=\"-31.3\">(None, 128)</text>\n",
       "<polyline fill=\"none\" points=\"203.5,-23.5 286.5,-23.5 \" stroke=\"black\"/>\n",
       "<text font-family=\"Times New Roman,serif\" font-size=\"14.00\" text-anchor=\"middle\" x=\"245\" y=\"-8.3\">(None, 46)</text>\n",
       "</g>\n",
       "<!-- 2108178764352&#45;&gt;2108178978520 -->\n",
       "<g class=\"edge\" id=\"edge3\"><title>2108178764352-&gt;2108178978520</title>\n",
       "<path d=\"M165,-83.3664C165,-75.1516 165,-65.6579 165,-56.7252\" fill=\"none\" stroke=\"black\"/>\n",
       "<polygon fill=\"black\" points=\"168.5,-56.6068 165,-46.6068 161.5,-56.6069 168.5,-56.6068\" stroke=\"black\"/>\n",
       "</g>\n",
       "<!-- 2108185054624 -->\n",
       "<g class=\"node\" id=\"node4\"><title>2108185054624</title>\n",
       "<polygon fill=\"none\" points=\"113,-249.5 113,-285.5 217,-285.5 217,-249.5 113,-249.5\" stroke=\"black\"/>\n",
       "<text font-family=\"Times New Roman,serif\" font-size=\"14.00\" text-anchor=\"middle\" x=\"165\" y=\"-263.8\">2108185054624</text>\n",
       "</g>\n",
       "<!-- 2108185054624&#45;&gt;2108185054456 -->\n",
       "<g class=\"edge\" id=\"edge1\"><title>2108185054624-&gt;2108185054456</title>\n",
       "<path d=\"M165,-249.254C165,-241.363 165,-231.749 165,-222.602\" fill=\"none\" stroke=\"black\"/>\n",
       "<polygon fill=\"black\" points=\"168.5,-222.591 165,-212.591 161.5,-222.591 168.5,-222.591\" stroke=\"black\"/>\n",
       "</g>\n",
       "</g>\n",
       "</svg>"
      ],
      "text/plain": [
       "<IPython.core.display.SVG object>"
      ]
     },
     "execution_count": 10,
     "metadata": {},
     "output_type": "execute_result"
    }
   ],
   "source": [
    "SVG(model_to_dot(model2, show_shapes=True).create(prog='dot', format='svg'))"
   ]
  },
  {
   "cell_type": "code",
   "execution_count": 11,
   "metadata": {},
   "outputs": [
    {
     "name": "stdout",
     "output_type": "stream",
     "text": [
      "WARNING:tensorflow:From D:\\Programing\\Anaconda3\\envs\\tf1_env\\lib\\site-packages\\keras\\backend\\tensorflow_backend.py:133: The name tf.placeholder_with_default is deprecated. Please use tf.compat.v1.placeholder_with_default instead.\n",
      "\n",
      "WARNING:tensorflow:From D:\\Programing\\Anaconda3\\envs\\tf1_env\\lib\\site-packages\\keras\\backend\\tensorflow_backend.py:3445: calling dropout (from tensorflow.python.ops.nn_ops) with keep_prob is deprecated and will be removed in a future version.\n",
      "Instructions for updating:\n",
      "Please use `rate` instead of `keep_prob`. Rate should be set to `rate = 1 - keep_prob`.\n"
     ]
    }
   ],
   "source": [
    "model3=Sequential()\n",
    "model3.add(Embedding(15000, 128, input_length=120))\n",
    "model3.add(Dropout(0.2))\n",
    "model3.add(Conv1D(256, 3, padding='valid', activation='relu', strides=1))\n",
    "model3.add(GlobalMaxPooling1D())\n",
    "model3.add(Dense(128, activation='relu'))\n",
    "model3.add(Dropout(0.2))\n",
    "model3.add(Dense(46, activation='softmax'))"
   ]
  },
  {
   "cell_type": "code",
   "execution_count": 12,
   "metadata": {},
   "outputs": [
    {
     "data": {
      "image/svg+xml": [
       "<svg height=\"626pt\" viewBox=\"0.00 0.00 462.00 626.00\" width=\"462pt\" xmlns=\"http://www.w3.org/2000/svg\" xmlns:xlink=\"http://www.w3.org/1999/xlink\">\n",
       "<g class=\"graph\" id=\"graph0\" transform=\"scale(1 1) rotate(0) translate(4 622)\">\n",
       "<title>G</title>\n",
       "<polygon fill=\"white\" points=\"-4,4 -4,-622 458,-622 458,4 -4,4\" stroke=\"none\"/>\n",
       "<!-- 2108175038112 -->\n",
       "<g class=\"node\" id=\"node1\"><title>2108175038112</title>\n",
       "<polygon fill=\"none\" points=\"62,-498.5 62,-544.5 392,-544.5 392,-498.5 62,-498.5\" stroke=\"black\"/>\n",
       "<text font-family=\"Times New Roman,serif\" font-size=\"14.00\" text-anchor=\"middle\" x=\"143.5\" y=\"-517.8\">embedding_3: Embedding</text>\n",
       "<polyline fill=\"none\" points=\"225,-498.5 225,-544.5 \" stroke=\"black\"/>\n",
       "<text font-family=\"Times New Roman,serif\" font-size=\"14.00\" text-anchor=\"middle\" x=\"253\" y=\"-529.3\">input:</text>\n",
       "<polyline fill=\"none\" points=\"225,-521.5 281,-521.5 \" stroke=\"black\"/>\n",
       "<text font-family=\"Times New Roman,serif\" font-size=\"14.00\" text-anchor=\"middle\" x=\"253\" y=\"-506.3\">output:</text>\n",
       "<polyline fill=\"none\" points=\"281,-498.5 281,-544.5 \" stroke=\"black\"/>\n",
       "<text font-family=\"Times New Roman,serif\" font-size=\"14.00\" text-anchor=\"middle\" x=\"336.5\" y=\"-529.3\">(None, 120)</text>\n",
       "<polyline fill=\"none\" points=\"281,-521.5 392,-521.5 \" stroke=\"black\"/>\n",
       "<text font-family=\"Times New Roman,serif\" font-size=\"14.00\" text-anchor=\"middle\" x=\"336.5\" y=\"-506.3\">(None, 120, 128)</text>\n",
       "</g>\n",
       "<!-- 2108156377520 -->\n",
       "<g class=\"node\" id=\"node2\"><title>2108156377520</title>\n",
       "<polygon fill=\"none\" points=\"78.5,-415.5 78.5,-461.5 375.5,-461.5 375.5,-415.5 78.5,-415.5\" stroke=\"black\"/>\n",
       "<text font-family=\"Times New Roman,serif\" font-size=\"14.00\" text-anchor=\"middle\" x=\"143.5\" y=\"-434.8\">dropout_1: Dropout</text>\n",
       "<polyline fill=\"none\" points=\"208.5,-415.5 208.5,-461.5 \" stroke=\"black\"/>\n",
       "<text font-family=\"Times New Roman,serif\" font-size=\"14.00\" text-anchor=\"middle\" x=\"236.5\" y=\"-446.3\">input:</text>\n",
       "<polyline fill=\"none\" points=\"208.5,-438.5 264.5,-438.5 \" stroke=\"black\"/>\n",
       "<text font-family=\"Times New Roman,serif\" font-size=\"14.00\" text-anchor=\"middle\" x=\"236.5\" y=\"-423.3\">output:</text>\n",
       "<polyline fill=\"none\" points=\"264.5,-415.5 264.5,-461.5 \" stroke=\"black\"/>\n",
       "<text font-family=\"Times New Roman,serif\" font-size=\"14.00\" text-anchor=\"middle\" x=\"320\" y=\"-446.3\">(None, 120, 128)</text>\n",
       "<polyline fill=\"none\" points=\"264.5,-438.5 375.5,-438.5 \" stroke=\"black\"/>\n",
       "<text font-family=\"Times New Roman,serif\" font-size=\"14.00\" text-anchor=\"middle\" x=\"320\" y=\"-423.3\">(None, 120, 128)</text>\n",
       "</g>\n",
       "<!-- 2108175038112&#45;&gt;2108156377520 -->\n",
       "<g class=\"edge\" id=\"edge2\"><title>2108175038112-&gt;2108156377520</title>\n",
       "<path d=\"M227,-498.366C227,-490.152 227,-480.658 227,-471.725\" fill=\"none\" stroke=\"black\"/>\n",
       "<polygon fill=\"black\" points=\"230.5,-471.607 227,-461.607 223.5,-471.607 230.5,-471.607\" stroke=\"black\"/>\n",
       "</g>\n",
       "<!-- 2108174883080 -->\n",
       "<g class=\"node\" id=\"node3\"><title>2108174883080</title>\n",
       "<polygon fill=\"none\" points=\"80,-332.5 80,-378.5 374,-378.5 374,-332.5 80,-332.5\" stroke=\"black\"/>\n",
       "<text font-family=\"Times New Roman,serif\" font-size=\"14.00\" text-anchor=\"middle\" x=\"143.5\" y=\"-351.8\">conv1d_1: Conv1D</text>\n",
       "<polyline fill=\"none\" points=\"207,-332.5 207,-378.5 \" stroke=\"black\"/>\n",
       "<text font-family=\"Times New Roman,serif\" font-size=\"14.00\" text-anchor=\"middle\" x=\"235\" y=\"-363.3\">input:</text>\n",
       "<polyline fill=\"none\" points=\"207,-355.5 263,-355.5 \" stroke=\"black\"/>\n",
       "<text font-family=\"Times New Roman,serif\" font-size=\"14.00\" text-anchor=\"middle\" x=\"235\" y=\"-340.3\">output:</text>\n",
       "<polyline fill=\"none\" points=\"263,-332.5 263,-378.5 \" stroke=\"black\"/>\n",
       "<text font-family=\"Times New Roman,serif\" font-size=\"14.00\" text-anchor=\"middle\" x=\"318.5\" y=\"-363.3\">(None, 120, 128)</text>\n",
       "<polyline fill=\"none\" points=\"263,-355.5 374,-355.5 \" stroke=\"black\"/>\n",
       "<text font-family=\"Times New Roman,serif\" font-size=\"14.00\" text-anchor=\"middle\" x=\"318.5\" y=\"-340.3\">(None, 118, 256)</text>\n",
       "</g>\n",
       "<!-- 2108156377520&#45;&gt;2108174883080 -->\n",
       "<g class=\"edge\" id=\"edge3\"><title>2108156377520-&gt;2108174883080</title>\n",
       "<path d=\"M227,-415.366C227,-407.152 227,-397.658 227,-388.725\" fill=\"none\" stroke=\"black\"/>\n",
       "<polygon fill=\"black\" points=\"230.5,-388.607 227,-378.607 223.5,-388.607 230.5,-388.607\" stroke=\"black\"/>\n",
       "</g>\n",
       "<!-- 2108185054232 -->\n",
       "<g class=\"node\" id=\"node4\"><title>2108185054232</title>\n",
       "<polygon fill=\"none\" points=\"0,-249.5 0,-295.5 454,-295.5 454,-249.5 0,-249.5\" stroke=\"black\"/>\n",
       "<text font-family=\"Times New Roman,serif\" font-size=\"14.00\" text-anchor=\"middle\" x=\"143.5\" y=\"-268.8\">global_max_pooling1d_1: GlobalMaxPooling1D</text>\n",
       "<polyline fill=\"none\" points=\"287,-249.5 287,-295.5 \" stroke=\"black\"/>\n",
       "<text font-family=\"Times New Roman,serif\" font-size=\"14.00\" text-anchor=\"middle\" x=\"315\" y=\"-280.3\">input:</text>\n",
       "<polyline fill=\"none\" points=\"287,-272.5 343,-272.5 \" stroke=\"black\"/>\n",
       "<text font-family=\"Times New Roman,serif\" font-size=\"14.00\" text-anchor=\"middle\" x=\"315\" y=\"-257.3\">output:</text>\n",
       "<polyline fill=\"none\" points=\"343,-249.5 343,-295.5 \" stroke=\"black\"/>\n",
       "<text font-family=\"Times New Roman,serif\" font-size=\"14.00\" text-anchor=\"middle\" x=\"398.5\" y=\"-280.3\">(None, 118, 256)</text>\n",
       "<polyline fill=\"none\" points=\"343,-272.5 454,-272.5 \" stroke=\"black\"/>\n",
       "<text font-family=\"Times New Roman,serif\" font-size=\"14.00\" text-anchor=\"middle\" x=\"398.5\" y=\"-257.3\">(None, 256)</text>\n",
       "</g>\n",
       "<!-- 2108174883080&#45;&gt;2108185054232 -->\n",
       "<g class=\"edge\" id=\"edge4\"><title>2108174883080-&gt;2108185054232</title>\n",
       "<path d=\"M227,-332.366C227,-324.152 227,-314.658 227,-305.725\" fill=\"none\" stroke=\"black\"/>\n",
       "<polygon fill=\"black\" points=\"230.5,-305.607 227,-295.607 223.5,-305.607 230.5,-305.607\" stroke=\"black\"/>\n",
       "</g>\n",
       "<!-- 2108175039064 -->\n",
       "<g class=\"node\" id=\"node5\"><title>2108175039064</title>\n",
       "<polygon fill=\"none\" points=\"105.5,-166.5 105.5,-212.5 348.5,-212.5 348.5,-166.5 105.5,-166.5\" stroke=\"black\"/>\n",
       "<text font-family=\"Times New Roman,serif\" font-size=\"14.00\" text-anchor=\"middle\" x=\"157.5\" y=\"-185.8\">dense_4: Dense</text>\n",
       "<polyline fill=\"none\" points=\"209.5,-166.5 209.5,-212.5 \" stroke=\"black\"/>\n",
       "<text font-family=\"Times New Roman,serif\" font-size=\"14.00\" text-anchor=\"middle\" x=\"237.5\" y=\"-197.3\">input:</text>\n",
       "<polyline fill=\"none\" points=\"209.5,-189.5 265.5,-189.5 \" stroke=\"black\"/>\n",
       "<text font-family=\"Times New Roman,serif\" font-size=\"14.00\" text-anchor=\"middle\" x=\"237.5\" y=\"-174.3\">output:</text>\n",
       "<polyline fill=\"none\" points=\"265.5,-166.5 265.5,-212.5 \" stroke=\"black\"/>\n",
       "<text font-family=\"Times New Roman,serif\" font-size=\"14.00\" text-anchor=\"middle\" x=\"307\" y=\"-197.3\">(None, 256)</text>\n",
       "<polyline fill=\"none\" points=\"265.5,-189.5 348.5,-189.5 \" stroke=\"black\"/>\n",
       "<text font-family=\"Times New Roman,serif\" font-size=\"14.00\" text-anchor=\"middle\" x=\"307\" y=\"-174.3\">(None, 128)</text>\n",
       "</g>\n",
       "<!-- 2108185054232&#45;&gt;2108175039064 -->\n",
       "<g class=\"edge\" id=\"edge5\"><title>2108185054232-&gt;2108175039064</title>\n",
       "<path d=\"M227,-249.366C227,-241.152 227,-231.658 227,-222.725\" fill=\"none\" stroke=\"black\"/>\n",
       "<polygon fill=\"black\" points=\"230.5,-222.607 227,-212.607 223.5,-222.607 230.5,-222.607\" stroke=\"black\"/>\n",
       "</g>\n",
       "<!-- 2108175038448 -->\n",
       "<g class=\"node\" id=\"node6\"><title>2108175038448</title>\n",
       "<polygon fill=\"none\" points=\"92.5,-83.5 92.5,-129.5 361.5,-129.5 361.5,-83.5 92.5,-83.5\" stroke=\"black\"/>\n",
       "<text font-family=\"Times New Roman,serif\" font-size=\"14.00\" text-anchor=\"middle\" x=\"157.5\" y=\"-102.8\">dropout_2: Dropout</text>\n",
       "<polyline fill=\"none\" points=\"222.5,-83.5 222.5,-129.5 \" stroke=\"black\"/>\n",
       "<text font-family=\"Times New Roman,serif\" font-size=\"14.00\" text-anchor=\"middle\" x=\"250.5\" y=\"-114.3\">input:</text>\n",
       "<polyline fill=\"none\" points=\"222.5,-106.5 278.5,-106.5 \" stroke=\"black\"/>\n",
       "<text font-family=\"Times New Roman,serif\" font-size=\"14.00\" text-anchor=\"middle\" x=\"250.5\" y=\"-91.3\">output:</text>\n",
       "<polyline fill=\"none\" points=\"278.5,-83.5 278.5,-129.5 \" stroke=\"black\"/>\n",
       "<text font-family=\"Times New Roman,serif\" font-size=\"14.00\" text-anchor=\"middle\" x=\"320\" y=\"-114.3\">(None, 128)</text>\n",
       "<polyline fill=\"none\" points=\"278.5,-106.5 361.5,-106.5 \" stroke=\"black\"/>\n",
       "<text font-family=\"Times New Roman,serif\" font-size=\"14.00\" text-anchor=\"middle\" x=\"320\" y=\"-91.3\">(None, 128)</text>\n",
       "</g>\n",
       "<!-- 2108175039064&#45;&gt;2108175038448 -->\n",
       "<g class=\"edge\" id=\"edge6\"><title>2108175039064-&gt;2108175038448</title>\n",
       "<path d=\"M227,-166.366C227,-158.152 227,-148.658 227,-139.725\" fill=\"none\" stroke=\"black\"/>\n",
       "<polygon fill=\"black\" points=\"230.5,-139.607 227,-129.607 223.5,-139.607 230.5,-139.607\" stroke=\"black\"/>\n",
       "</g>\n",
       "<!-- 2108175501688 -->\n",
       "<g class=\"node\" id=\"node7\"><title>2108175501688</title>\n",
       "<polygon fill=\"none\" points=\"105.5,-0.5 105.5,-46.5 348.5,-46.5 348.5,-0.5 105.5,-0.5\" stroke=\"black\"/>\n",
       "<text font-family=\"Times New Roman,serif\" font-size=\"14.00\" text-anchor=\"middle\" x=\"157.5\" y=\"-19.8\">dense_5: Dense</text>\n",
       "<polyline fill=\"none\" points=\"209.5,-0.5 209.5,-46.5 \" stroke=\"black\"/>\n",
       "<text font-family=\"Times New Roman,serif\" font-size=\"14.00\" text-anchor=\"middle\" x=\"237.5\" y=\"-31.3\">input:</text>\n",
       "<polyline fill=\"none\" points=\"209.5,-23.5 265.5,-23.5 \" stroke=\"black\"/>\n",
       "<text font-family=\"Times New Roman,serif\" font-size=\"14.00\" text-anchor=\"middle\" x=\"237.5\" y=\"-8.3\">output:</text>\n",
       "<polyline fill=\"none\" points=\"265.5,-0.5 265.5,-46.5 \" stroke=\"black\"/>\n",
       "<text font-family=\"Times New Roman,serif\" font-size=\"14.00\" text-anchor=\"middle\" x=\"307\" y=\"-31.3\">(None, 128)</text>\n",
       "<polyline fill=\"none\" points=\"265.5,-23.5 348.5,-23.5 \" stroke=\"black\"/>\n",
       "<text font-family=\"Times New Roman,serif\" font-size=\"14.00\" text-anchor=\"middle\" x=\"307\" y=\"-8.3\">(None, 46)</text>\n",
       "</g>\n",
       "<!-- 2108175038448&#45;&gt;2108175501688 -->\n",
       "<g class=\"edge\" id=\"edge7\"><title>2108175038448-&gt;2108175501688</title>\n",
       "<path d=\"M227,-83.3664C227,-75.1516 227,-65.6579 227,-56.7252\" fill=\"none\" stroke=\"black\"/>\n",
       "<polygon fill=\"black\" points=\"230.5,-56.6068 227,-46.6068 223.5,-56.6069 230.5,-56.6068\" stroke=\"black\"/>\n",
       "</g>\n",
       "<!-- 2108175038336 -->\n",
       "<g class=\"node\" id=\"node8\"><title>2108175038336</title>\n",
       "<polygon fill=\"none\" points=\"175,-581.5 175,-617.5 279,-617.5 279,-581.5 175,-581.5\" stroke=\"black\"/>\n",
       "<text font-family=\"Times New Roman,serif\" font-size=\"14.00\" text-anchor=\"middle\" x=\"227\" y=\"-595.8\">2108175038336</text>\n",
       "</g>\n",
       "<!-- 2108175038336&#45;&gt;2108175038112 -->\n",
       "<g class=\"edge\" id=\"edge1\"><title>2108175038336-&gt;2108175038112</title>\n",
       "<path d=\"M227,-581.254C227,-573.363 227,-563.749 227,-554.602\" fill=\"none\" stroke=\"black\"/>\n",
       "<polygon fill=\"black\" points=\"230.5,-554.591 227,-544.591 223.5,-554.591 230.5,-554.591\" stroke=\"black\"/>\n",
       "</g>\n",
       "</g>\n",
       "</svg>"
      ],
      "text/plain": [
       "<IPython.core.display.SVG object>"
      ]
     },
     "execution_count": 12,
     "metadata": {},
     "output_type": "execute_result"
    }
   ],
   "source": [
    "SVG(model_to_dot(model3, show_shapes=True).create(prog='dot', format='svg'))"
   ]
  },
  {
   "cell_type": "code",
   "execution_count": 13,
   "metadata": {},
   "outputs": [
    {
     "name": "stdout",
     "output_type": "stream",
     "text": [
      "WARNING:tensorflow:From D:\\Programing\\Anaconda3\\envs\\tf1_env\\lib\\site-packages\\keras\\backend\\tensorflow_backend.py:3976: The name tf.nn.max_pool is deprecated. Please use tf.nn.max_pool2d instead.\n",
      "\n"
     ]
    }
   ],
   "source": [
    "model4=Sequential()\n",
    "model4.add(Embedding(15000, 128, input_length=120))\n",
    "model4.add(Dropout(0.2))\n",
    "model4.add(Conv1D(256, 3, padding='valid', activation='relu', strides=1))\n",
    "model4.add(MaxPooling1D(pool_size=4))\n",
    "model4.add(LSTM(128))\n",
    "model4.add(Dense(46, activation='softmax'))"
   ]
  },
  {
   "cell_type": "code",
   "execution_count": 14,
   "metadata": {},
   "outputs": [
    {
     "data": {
      "image/svg+xml": [
       "<svg height=\"543pt\" viewBox=\"0.00 0.00 384.00 543.00\" width=\"384pt\" xmlns=\"http://www.w3.org/2000/svg\" xmlns:xlink=\"http://www.w3.org/1999/xlink\">\n",
       "<g class=\"graph\" id=\"graph0\" transform=\"scale(1 1) rotate(0) translate(4 539)\">\n",
       "<title>G</title>\n",
       "<polygon fill=\"white\" points=\"-4,4 -4,-539 380,-539 380,4 -4,4\" stroke=\"none\"/>\n",
       "<!-- 2108177809360 -->\n",
       "<g class=\"node\" id=\"node1\"><title>2108177809360</title>\n",
       "<polygon fill=\"none\" points=\"23,-415.5 23,-461.5 353,-461.5 353,-415.5 23,-415.5\" stroke=\"black\"/>\n",
       "<text font-family=\"Times New Roman,serif\" font-size=\"14.00\" text-anchor=\"middle\" x=\"104.5\" y=\"-434.8\">embedding_4: Embedding</text>\n",
       "<polyline fill=\"none\" points=\"186,-415.5 186,-461.5 \" stroke=\"black\"/>\n",
       "<text font-family=\"Times New Roman,serif\" font-size=\"14.00\" text-anchor=\"middle\" x=\"214\" y=\"-446.3\">input:</text>\n",
       "<polyline fill=\"none\" points=\"186,-438.5 242,-438.5 \" stroke=\"black\"/>\n",
       "<text font-family=\"Times New Roman,serif\" font-size=\"14.00\" text-anchor=\"middle\" x=\"214\" y=\"-423.3\">output:</text>\n",
       "<polyline fill=\"none\" points=\"242,-415.5 242,-461.5 \" stroke=\"black\"/>\n",
       "<text font-family=\"Times New Roman,serif\" font-size=\"14.00\" text-anchor=\"middle\" x=\"297.5\" y=\"-446.3\">(None, 120)</text>\n",
       "<polyline fill=\"none\" points=\"242,-438.5 353,-438.5 \" stroke=\"black\"/>\n",
       "<text font-family=\"Times New Roman,serif\" font-size=\"14.00\" text-anchor=\"middle\" x=\"297.5\" y=\"-423.3\">(None, 120, 128)</text>\n",
       "</g>\n",
       "<!-- 2108177808800 -->\n",
       "<g class=\"node\" id=\"node2\"><title>2108177808800</title>\n",
       "<polygon fill=\"none\" points=\"39.5,-332.5 39.5,-378.5 336.5,-378.5 336.5,-332.5 39.5,-332.5\" stroke=\"black\"/>\n",
       "<text font-family=\"Times New Roman,serif\" font-size=\"14.00\" text-anchor=\"middle\" x=\"104.5\" y=\"-351.8\">dropout_3: Dropout</text>\n",
       "<polyline fill=\"none\" points=\"169.5,-332.5 169.5,-378.5 \" stroke=\"black\"/>\n",
       "<text font-family=\"Times New Roman,serif\" font-size=\"14.00\" text-anchor=\"middle\" x=\"197.5\" y=\"-363.3\">input:</text>\n",
       "<polyline fill=\"none\" points=\"169.5,-355.5 225.5,-355.5 \" stroke=\"black\"/>\n",
       "<text font-family=\"Times New Roman,serif\" font-size=\"14.00\" text-anchor=\"middle\" x=\"197.5\" y=\"-340.3\">output:</text>\n",
       "<polyline fill=\"none\" points=\"225.5,-332.5 225.5,-378.5 \" stroke=\"black\"/>\n",
       "<text font-family=\"Times New Roman,serif\" font-size=\"14.00\" text-anchor=\"middle\" x=\"281\" y=\"-363.3\">(None, 120, 128)</text>\n",
       "<polyline fill=\"none\" points=\"225.5,-355.5 336.5,-355.5 \" stroke=\"black\"/>\n",
       "<text font-family=\"Times New Roman,serif\" font-size=\"14.00\" text-anchor=\"middle\" x=\"281\" y=\"-340.3\">(None, 120, 128)</text>\n",
       "</g>\n",
       "<!-- 2108177809360&#45;&gt;2108177808800 -->\n",
       "<g class=\"edge\" id=\"edge2\"><title>2108177809360-&gt;2108177808800</title>\n",
       "<path d=\"M188,-415.366C188,-407.152 188,-397.658 188,-388.725\" fill=\"none\" stroke=\"black\"/>\n",
       "<polygon fill=\"black\" points=\"191.5,-388.607 188,-378.607 184.5,-388.607 191.5,-388.607\" stroke=\"black\"/>\n",
       "</g>\n",
       "<!-- 2108177657928 -->\n",
       "<g class=\"node\" id=\"node3\"><title>2108177657928</title>\n",
       "<polygon fill=\"none\" points=\"41,-249.5 41,-295.5 335,-295.5 335,-249.5 41,-249.5\" stroke=\"black\"/>\n",
       "<text font-family=\"Times New Roman,serif\" font-size=\"14.00\" text-anchor=\"middle\" x=\"104.5\" y=\"-268.8\">conv1d_2: Conv1D</text>\n",
       "<polyline fill=\"none\" points=\"168,-249.5 168,-295.5 \" stroke=\"black\"/>\n",
       "<text font-family=\"Times New Roman,serif\" font-size=\"14.00\" text-anchor=\"middle\" x=\"196\" y=\"-280.3\">input:</text>\n",
       "<polyline fill=\"none\" points=\"168,-272.5 224,-272.5 \" stroke=\"black\"/>\n",
       "<text font-family=\"Times New Roman,serif\" font-size=\"14.00\" text-anchor=\"middle\" x=\"196\" y=\"-257.3\">output:</text>\n",
       "<polyline fill=\"none\" points=\"224,-249.5 224,-295.5 \" stroke=\"black\"/>\n",
       "<text font-family=\"Times New Roman,serif\" font-size=\"14.00\" text-anchor=\"middle\" x=\"279.5\" y=\"-280.3\">(None, 120, 128)</text>\n",
       "<polyline fill=\"none\" points=\"224,-272.5 335,-272.5 \" stroke=\"black\"/>\n",
       "<text font-family=\"Times New Roman,serif\" font-size=\"14.00\" text-anchor=\"middle\" x=\"279.5\" y=\"-257.3\">(None, 118, 256)</text>\n",
       "</g>\n",
       "<!-- 2108177808800&#45;&gt;2108177657928 -->\n",
       "<g class=\"edge\" id=\"edge3\"><title>2108177808800-&gt;2108177657928</title>\n",
       "<path d=\"M188,-332.366C188,-324.152 188,-314.658 188,-305.725\" fill=\"none\" stroke=\"black\"/>\n",
       "<polygon fill=\"black\" points=\"191.5,-305.607 188,-295.607 184.5,-305.607 191.5,-305.607\" stroke=\"black\"/>\n",
       "</g>\n",
       "<!-- 2108177567872 -->\n",
       "<g class=\"node\" id=\"node4\"><title>2108177567872</title>\n",
       "<polygon fill=\"none\" points=\"0,-166.5 0,-212.5 376,-212.5 376,-166.5 0,-166.5\" stroke=\"black\"/>\n",
       "<text font-family=\"Times New Roman,serif\" font-size=\"14.00\" text-anchor=\"middle\" x=\"104.5\" y=\"-185.8\">max_pooling1d_1: MaxPooling1D</text>\n",
       "<polyline fill=\"none\" points=\"209,-166.5 209,-212.5 \" stroke=\"black\"/>\n",
       "<text font-family=\"Times New Roman,serif\" font-size=\"14.00\" text-anchor=\"middle\" x=\"237\" y=\"-197.3\">input:</text>\n",
       "<polyline fill=\"none\" points=\"209,-189.5 265,-189.5 \" stroke=\"black\"/>\n",
       "<text font-family=\"Times New Roman,serif\" font-size=\"14.00\" text-anchor=\"middle\" x=\"237\" y=\"-174.3\">output:</text>\n",
       "<polyline fill=\"none\" points=\"265,-166.5 265,-212.5 \" stroke=\"black\"/>\n",
       "<text font-family=\"Times New Roman,serif\" font-size=\"14.00\" text-anchor=\"middle\" x=\"320.5\" y=\"-197.3\">(None, 118, 256)</text>\n",
       "<polyline fill=\"none\" points=\"265,-189.5 376,-189.5 \" stroke=\"black\"/>\n",
       "<text font-family=\"Times New Roman,serif\" font-size=\"14.00\" text-anchor=\"middle\" x=\"320.5\" y=\"-174.3\">(None, 29, 256)</text>\n",
       "</g>\n",
       "<!-- 2108177657928&#45;&gt;2108177567872 -->\n",
       "<g class=\"edge\" id=\"edge4\"><title>2108177657928-&gt;2108177567872</title>\n",
       "<path d=\"M188,-249.366C188,-241.152 188,-231.658 188,-222.725\" fill=\"none\" stroke=\"black\"/>\n",
       "<polygon fill=\"black\" points=\"191.5,-222.607 188,-212.607 184.5,-222.607 191.5,-222.607\" stroke=\"black\"/>\n",
       "</g>\n",
       "<!-- 2108175037104 -->\n",
       "<g class=\"node\" id=\"node5\"><title>2108175037104</title>\n",
       "<polygon fill=\"none\" points=\"59,-83.5 59,-129.5 317,-129.5 317,-83.5 59,-83.5\" stroke=\"black\"/>\n",
       "<text font-family=\"Times New Roman,serif\" font-size=\"14.00\" text-anchor=\"middle\" x=\"108\" y=\"-102.8\">lstm_2: LSTM</text>\n",
       "<polyline fill=\"none\" points=\"157,-83.5 157,-129.5 \" stroke=\"black\"/>\n",
       "<text font-family=\"Times New Roman,serif\" font-size=\"14.00\" text-anchor=\"middle\" x=\"185\" y=\"-114.3\">input:</text>\n",
       "<polyline fill=\"none\" points=\"157,-106.5 213,-106.5 \" stroke=\"black\"/>\n",
       "<text font-family=\"Times New Roman,serif\" font-size=\"14.00\" text-anchor=\"middle\" x=\"185\" y=\"-91.3\">output:</text>\n",
       "<polyline fill=\"none\" points=\"213,-83.5 213,-129.5 \" stroke=\"black\"/>\n",
       "<text font-family=\"Times New Roman,serif\" font-size=\"14.00\" text-anchor=\"middle\" x=\"265\" y=\"-114.3\">(None, 29, 256)</text>\n",
       "<polyline fill=\"none\" points=\"213,-106.5 317,-106.5 \" stroke=\"black\"/>\n",
       "<text font-family=\"Times New Roman,serif\" font-size=\"14.00\" text-anchor=\"middle\" x=\"265\" y=\"-91.3\">(None, 128)</text>\n",
       "</g>\n",
       "<!-- 2108177567872&#45;&gt;2108175037104 -->\n",
       "<g class=\"edge\" id=\"edge5\"><title>2108177567872-&gt;2108175037104</title>\n",
       "<path d=\"M188,-166.366C188,-158.152 188,-148.658 188,-139.725\" fill=\"none\" stroke=\"black\"/>\n",
       "<polygon fill=\"black\" points=\"191.5,-139.607 188,-129.607 184.5,-139.607 191.5,-139.607\" stroke=\"black\"/>\n",
       "</g>\n",
       "<!-- 2108177865416 -->\n",
       "<g class=\"node\" id=\"node6\"><title>2108177865416</title>\n",
       "<polygon fill=\"none\" points=\"66.5,-0.5 66.5,-46.5 309.5,-46.5 309.5,-0.5 66.5,-0.5\" stroke=\"black\"/>\n",
       "<text font-family=\"Times New Roman,serif\" font-size=\"14.00\" text-anchor=\"middle\" x=\"118.5\" y=\"-19.8\">dense_6: Dense</text>\n",
       "<polyline fill=\"none\" points=\"170.5,-0.5 170.5,-46.5 \" stroke=\"black\"/>\n",
       "<text font-family=\"Times New Roman,serif\" font-size=\"14.00\" text-anchor=\"middle\" x=\"198.5\" y=\"-31.3\">input:</text>\n",
       "<polyline fill=\"none\" points=\"170.5,-23.5 226.5,-23.5 \" stroke=\"black\"/>\n",
       "<text font-family=\"Times New Roman,serif\" font-size=\"14.00\" text-anchor=\"middle\" x=\"198.5\" y=\"-8.3\">output:</text>\n",
       "<polyline fill=\"none\" points=\"226.5,-0.5 226.5,-46.5 \" stroke=\"black\"/>\n",
       "<text font-family=\"Times New Roman,serif\" font-size=\"14.00\" text-anchor=\"middle\" x=\"268\" y=\"-31.3\">(None, 128)</text>\n",
       "<polyline fill=\"none\" points=\"226.5,-23.5 309.5,-23.5 \" stroke=\"black\"/>\n",
       "<text font-family=\"Times New Roman,serif\" font-size=\"14.00\" text-anchor=\"middle\" x=\"268\" y=\"-8.3\">(None, 46)</text>\n",
       "</g>\n",
       "<!-- 2108175037104&#45;&gt;2108177865416 -->\n",
       "<g class=\"edge\" id=\"edge6\"><title>2108175037104-&gt;2108177865416</title>\n",
       "<path d=\"M188,-83.3664C188,-75.1516 188,-65.6579 188,-56.7252\" fill=\"none\" stroke=\"black\"/>\n",
       "<polygon fill=\"black\" points=\"191.5,-56.6068 188,-46.6068 184.5,-56.6069 191.5,-56.6068\" stroke=\"black\"/>\n",
       "</g>\n",
       "<!-- 2108175037720 -->\n",
       "<g class=\"node\" id=\"node7\"><title>2108175037720</title>\n",
       "<polygon fill=\"none\" points=\"136,-498.5 136,-534.5 240,-534.5 240,-498.5 136,-498.5\" stroke=\"black\"/>\n",
       "<text font-family=\"Times New Roman,serif\" font-size=\"14.00\" text-anchor=\"middle\" x=\"188\" y=\"-512.8\">2108175037720</text>\n",
       "</g>\n",
       "<!-- 2108175037720&#45;&gt;2108177809360 -->\n",
       "<g class=\"edge\" id=\"edge1\"><title>2108175037720-&gt;2108177809360</title>\n",
       "<path d=\"M188,-498.254C188,-490.363 188,-480.749 188,-471.602\" fill=\"none\" stroke=\"black\"/>\n",
       "<polygon fill=\"black\" points=\"191.5,-471.591 188,-461.591 184.5,-471.591 191.5,-471.591\" stroke=\"black\"/>\n",
       "</g>\n",
       "</g>\n",
       "</svg>"
      ],
      "text/plain": [
       "<IPython.core.display.SVG object>"
      ]
     },
     "execution_count": 14,
     "metadata": {},
     "output_type": "execute_result"
    }
   ],
   "source": [
    "SVG(model_to_dot(model4, show_shapes=True).create(prog='dot', format='svg'))"
   ]
  },
  {
   "cell_type": "code",
   "execution_count": 15,
   "metadata": {},
   "outputs": [
    {
     "name": "stdout",
     "output_type": "stream",
     "text": [
      "WARNING:tensorflow:From D:\\Programing\\Anaconda3\\envs\\tf1_env\\lib\\site-packages\\keras\\optimizers.py:790: The name tf.train.Optimizer is deprecated. Please use tf.compat.v1.train.Optimizer instead.\n",
      "\n",
      "WARNING:tensorflow:From D:\\Programing\\Anaconda3\\envs\\tf1_env\\lib\\site-packages\\keras\\backend\\tensorflow_backend.py:3295: The name tf.log is deprecated. Please use tf.math.log instead.\n",
      "\n"
     ]
    }
   ],
   "source": [
    "model1.compile(loss='categorical_crossentropy', optimizer='adam', metrics=['accuracy'])\n",
    "model2.compile(loss='categorical_crossentropy', optimizer='adam', metrics=['accuracy'])\n",
    "model3.compile(loss='categorical_crossentropy', optimizer='adam', metrics=['accuracy'])\n",
    "model4.compile(loss='categorical_crossentropy', optimizer='adam', metrics=['accuracy'])"
   ]
  },
  {
   "cell_type": "code",
   "execution_count": 16,
   "metadata": {},
   "outputs": [
    {
     "name": "stdout",
     "output_type": "stream",
     "text": [
      "WARNING:tensorflow:From D:\\Programing\\Anaconda3\\envs\\tf1_env\\lib\\site-packages\\tensorflow\\python\\ops\\math_grad.py:1250: add_dispatch_support.<locals>.wrapper (from tensorflow.python.ops.array_ops) is deprecated and will be removed in a future version.\n",
      "Instructions for updating:\n",
      "Use tf.where in 2.0, which has the same broadcast rule as np.where\n",
      "Train on 7000 samples, validate on 1982 samples\n",
      "Epoch 1/10\n",
      "7000/7000 [==============================] - 5s 660us/step - loss: 1.9238 - acc: 0.5180 - val_loss: 1.4645 - val_acc: 0.6504\n",
      "Epoch 2/10\n",
      "7000/7000 [==============================] - 1s 210us/step - loss: 0.8543 - acc: 0.7997 - val_loss: 1.3012 - val_acc: 0.7028\n",
      "Epoch 3/10\n",
      "7000/7000 [==============================] - 1s 209us/step - loss: 0.2796 - acc: 0.9510 - val_loss: 1.3528 - val_acc: 0.6963\n",
      "Epoch 4/10\n",
      "7000/7000 [==============================] - 1s 200us/step - loss: 0.1801 - acc: 0.9627 - val_loss: 1.3216 - val_acc: 0.7053\n",
      "Epoch 5/10\n",
      "7000/7000 [==============================] - 2s 255us/step - loss: 0.1550 - acc: 0.9617 - val_loss: 1.3416 - val_acc: 0.7003\n",
      "Epoch 6/10\n",
      "7000/7000 [==============================] - 2s 311us/step - loss: 0.1363 - acc: 0.9623 - val_loss: 1.3449 - val_acc: 0.7028\n",
      "Epoch 7/10\n",
      "7000/7000 [==============================] - 2s 236us/step - loss: 0.1268 - acc: 0.9640 - val_loss: 1.4201 - val_acc: 0.6937\n",
      "Epoch 8/10\n",
      "7000/7000 [==============================] - 1s 208us/step - loss: 0.1095 - acc: 0.9643 - val_loss: 1.3467 - val_acc: 0.7053\n",
      "Epoch 9/10\n",
      "7000/7000 [==============================] - 2s 220us/step - loss: 0.1072 - acc: 0.9610 - val_loss: 1.4731 - val_acc: 0.6872\n",
      "Epoch 10/10\n",
      "7000/7000 [==============================] - 1s 201us/step - loss: 0.0969 - acc: 0.9633 - val_loss: 1.4053 - val_acc: 0.6998\n"
     ]
    }
   ],
   "source": [
    "hist1=model1.fit(x_train, y_train, epochs=10, batch_size=64, validation_data=(x_val, y_val))"
   ]
  },
  {
   "cell_type": "code",
   "execution_count": 17,
   "metadata": {},
   "outputs": [
    {
     "name": "stdout",
     "output_type": "stream",
     "text": [
      "Train on 7000 samples, validate on 1982 samples\n",
      "Epoch 1/10\n",
      "7000/7000 [==============================] - 53s 8ms/step - loss: 2.4956 - acc: 0.3723 - val_loss: 2.0051 - val_acc: 0.4914\n",
      "Epoch 2/10\n",
      "7000/7000 [==============================] - 60s 9ms/step - loss: 1.8881 - acc: 0.5044 - val_loss: 1.7959 - val_acc: 0.5156\n",
      "Epoch 3/10\n",
      "7000/7000 [==============================] - 50s 7ms/step - loss: 1.8834 - acc: 0.4997 - val_loss: 1.7018 - val_acc: 0.5616\n",
      "Epoch 4/10\n",
      "7000/7000 [==============================] - 71s 10ms/step - loss: 1.5695 - acc: 0.5866 - val_loss: 1.6481 - val_acc: 0.5812\n",
      "Epoch 5/10\n",
      "7000/7000 [==============================] - 54s 8ms/step - loss: 1.4099 - acc: 0.6210 - val_loss: 1.5747 - val_acc: 0.6034\n",
      "Epoch 6/10\n",
      "7000/7000 [==============================] - 68s 10ms/step - loss: 1.2425 - acc: 0.6687 - val_loss: 1.5770 - val_acc: 0.5979\n",
      "Epoch 7/10\n",
      "7000/7000 [==============================] - 54s 8ms/step - loss: 1.0649 - acc: 0.7197 - val_loss: 1.5353 - val_acc: 0.6322\n",
      "Epoch 8/10\n",
      "7000/7000 [==============================] - 70s 10ms/step - loss: 0.8779 - acc: 0.7696 - val_loss: 1.5296 - val_acc: 0.6539\n",
      "Epoch 9/10\n",
      "7000/7000 [==============================] - 54s 8ms/step - loss: 0.7412 - acc: 0.8061 - val_loss: 1.5480 - val_acc: 0.6655\n",
      "Epoch 10/10\n",
      "7000/7000 [==============================] - 53s 8ms/step - loss: 0.6310 - acc: 0.8353 - val_loss: 1.6253 - val_acc: 0.6463\n"
     ]
    }
   ],
   "source": [
    "hist2=model2.fit(x_train, y_train, epochs=10, batch_size=64, validation_data=(x_val, y_val))"
   ]
  },
  {
   "cell_type": "code",
   "execution_count": 18,
   "metadata": {},
   "outputs": [
    {
     "name": "stdout",
     "output_type": "stream",
     "text": [
      "Train on 7000 samples, validate on 1982 samples\n",
      "Epoch 1/10\n",
      "7000/7000 [==============================] - 3s 483us/step - loss: 2.2871 - acc: 0.4421 - val_loss: 1.7592 - val_acc: 0.5247\n",
      "Epoch 2/10\n",
      "7000/7000 [==============================] - 1s 202us/step - loss: 1.6045 - acc: 0.6133 - val_loss: 1.3983 - val_acc: 0.6751\n",
      "Epoch 3/10\n",
      "7000/7000 [==============================] - 1s 204us/step - loss: 1.2800 - acc: 0.6914 - val_loss: 1.2065 - val_acc: 0.7109\n",
      "Epoch 4/10\n",
      "7000/7000 [==============================] - 2s 290us/step - loss: 1.0230 - acc: 0.7526 - val_loss: 1.0767 - val_acc: 0.7442\n",
      "Epoch 5/10\n",
      "7000/7000 [==============================] - 2s 222us/step - loss: 0.8121 - acc: 0.7970 - val_loss: 1.0369 - val_acc: 0.7614\n",
      "Epoch 6/10\n",
      "7000/7000 [==============================] - 1s 202us/step - loss: 0.6247 - acc: 0.8454 - val_loss: 1.0126 - val_acc: 0.7719\n",
      "Epoch 7/10\n",
      "7000/7000 [==============================] - 1s 209us/step - loss: 0.4737 - acc: 0.8810 - val_loss: 1.0533 - val_acc: 0.7578\n",
      "Epoch 8/10\n",
      "7000/7000 [==============================] - 2s 237us/step - loss: 0.3637 - acc: 0.9034 - val_loss: 1.0696 - val_acc: 0.7750\n",
      "Epoch 9/10\n",
      "7000/7000 [==============================] - 2s 257us/step - loss: 0.2839 - acc: 0.9307 - val_loss: 1.1357 - val_acc: 0.7649\n",
      "Epoch 10/10\n",
      "7000/7000 [==============================] - 2s 216us/step - loss: 0.2331 - acc: 0.9421 - val_loss: 1.1528 - val_acc: 0.7725\n"
     ]
    }
   ],
   "source": [
    "hist3=model3.fit(x_train, y_train, epochs=10, batch_size=64, validation_data=(x_val, y_val))"
   ]
  },
  {
   "cell_type": "code",
   "execution_count": 19,
   "metadata": {},
   "outputs": [
    {
     "name": "stdout",
     "output_type": "stream",
     "text": [
      "Train on 7000 samples, validate on 1982 samples\n",
      "Epoch 1/10\n",
      "7000/7000 [==============================] - 14s 2ms/step - loss: 2.1714 - acc: 0.4577 - val_loss: 1.7388 - val_acc: 0.5474\n",
      "Epoch 2/10\n",
      "7000/7000 [==============================] - 14s 2ms/step - loss: 1.6076 - acc: 0.5836 - val_loss: 1.5435 - val_acc: 0.6095\n",
      "Epoch 3/10\n",
      "7000/7000 [==============================] - 14s 2ms/step - loss: 1.2891 - acc: 0.6696 - val_loss: 1.3356 - val_acc: 0.6675\n",
      "Epoch 4/10\n",
      "7000/7000 [==============================] - 13s 2ms/step - loss: 0.9992 - acc: 0.7467 - val_loss: 1.3663 - val_acc: 0.6579\n",
      "Epoch 5/10\n",
      "7000/7000 [==============================] - 14s 2ms/step - loss: 0.8292 - acc: 0.7871 - val_loss: 1.2740 - val_acc: 0.6907\n",
      "Epoch 6/10\n",
      "7000/7000 [==============================] - 14s 2ms/step - loss: 0.6820 - acc: 0.8230 - val_loss: 1.2547 - val_acc: 0.7089\n",
      "Epoch 7/10\n",
      "7000/7000 [==============================] - 15s 2ms/step - loss: 0.5499 - acc: 0.8556 - val_loss: 1.2873 - val_acc: 0.7104\n",
      "Epoch 8/10\n",
      "7000/7000 [==============================] - 14s 2ms/step - loss: 0.4725 - acc: 0.8774 - val_loss: 1.3093 - val_acc: 0.7013\n",
      "Epoch 9/10\n",
      "7000/7000 [==============================] - 14s 2ms/step - loss: 0.3969 - acc: 0.8984 - val_loss: 1.3547 - val_acc: 0.7008\n",
      "Epoch 10/10\n",
      "7000/7000 [==============================] - 14s 2ms/step - loss: 0.3336 - acc: 0.9147 - val_loss: 1.3799 - val_acc: 0.7099\n"
     ]
    }
   ],
   "source": [
    "hist4=model4.fit(x_train, y_train, epochs=10, batch_size=64, validation_data=(x_val, y_val))"
   ]
  },
  {
   "cell_type": "code",
   "execution_count": 26,
   "metadata": {},
   "outputs": [
    {
     "data": {
      "text/plain": [
       "<matplotlib.legend.Legend at 0x1ec2d998828>"
      ]
     },
     "execution_count": 26,
     "metadata": {},
     "output_type": "execute_result"
    },
    {
     "data": {
      "image/png": "[encoded data removed]",
      "text/plain": [
       "<Figure size 432x288 with 2 Axes>"
      ]
     },
     "metadata": {
      "needs_background": "light"
     },
     "output_type": "display_data"
    }
   ],
   "source": [
    "fig, loss_ax=plt.subplots()\n",
    "acc_ax=loss_ax.twinx()\n",
    "\n",
    "loss_ax.plot(hist1.history['loss'], 'y', label='train loss')\n",
    "loss_ax.plot(hist1.history['val_loss'], 'r', label='val loss')\n",
    "loss_ax.set_ylim([0, 3])\n",
    "\n",
    "acc_ax.plot(hist1.history['acc'], 'b', label='train acc')\n",
    "acc_ax.plot(hist1.history['val_acc'], 'g', label='val acc')\n",
    "acc_ax.set_ylim([0, 1])\n",
    "\n",
    "loss_ax.set_xlabel('epoch')\n",
    "loss_ax.set_ylabel('loss')\n",
    "acc_ax.set_ylabel('accuracy')\n",
    "\n",
    "loss_ax.legend(loc='upper left')\n",
    "acc_ax.legend(loc='lower left')"
   ]
  },
  {
   "cell_type": "code",
   "execution_count": 25,
   "metadata": {},
   "outputs": [
    {
     "data": {
      "text/plain": [
       "<matplotlib.legend.Legend at 0x1ec2d8d4550>"
      ]
     },
     "execution_count": 25,
     "metadata": {},
     "output_type": "execute_result"
    },
    {
     "data": {
      "image/png": "[encoded data removed]",
      "text/plain": [
       "<Figure size 432x288 with 2 Axes>"
      ]
     },
     "metadata": {
      "needs_background": "light"
     },
     "output_type": "display_data"
    }
   ],
   "source": [
    "fig, loss_ax=plt.subplots()\n",
    "acc_ax=loss_ax.twinx()\n",
    "\n",
    "loss_ax.plot(hist2.history['loss'], 'y', label='train loss')\n",
    "loss_ax.plot(hist2.history['val_loss'], 'r', label='val loss')\n",
    "loss_ax.set_ylim([0, 3])\n",
    "\n",
    "acc_ax.plot(hist2.history['acc'], 'b', label='train acc')\n",
    "acc_ax.plot(hist2.history['val_acc'], 'g', label='val acc')\n",
    "acc_ax.set_ylim([0, 1])\n",
    "\n",
    "loss_ax.set_xlabel('epoch')\n",
    "loss_ax.set_ylabel('loss')\n",
    "acc_ax.set_ylabel('accuracy')\n",
    "\n",
    "loss_ax.legend(loc='upper left')\n",
    "acc_ax.legend(loc='lower left')"
   ]
  },
  {
   "cell_type": "code",
   "execution_count": 22,
   "metadata": {},
   "outputs": [
    {
     "data": {
      "text/plain": [
       "<matplotlib.legend.Legend at 0x1ec27dfae80>"
      ]
     },
     "execution_count": 22,
     "metadata": {},
     "output_type": "execute_result"
    },
    {
     "data": {
      "image/png": "[encoded data removed]",
      "text/plain": [
       "<Figure size 432x288 with 2 Axes>"
      ]
     },
     "metadata": {
      "needs_background": "light"
     },
     "output_type": "display_data"
    }
   ],
   "source": [
    "fig, loss_ax=plt.subplots()\n",
    "acc_ax=loss_ax.twinx()\n",
    "\n",
    "loss_ax.plot(hist3.history['loss'], 'y', label='train loss')\n",
    "loss_ax.plot(hist3.history['val_loss'], 'r', label='val loss')\n",
    "loss_ax.set_ylim([0, 3])\n",
    "\n",
    "acc_ax.plot(hist3.history['acc'], 'b', label='train acc')\n",
    "acc_ax.plot(hist3.history['val_acc'], 'g', label='val acc')\n",
    "acc_ax.set_ylim([0, 1])\n",
    "\n",
    "loss_ax.set_xlabel('epoch')\n",
    "loss_ax.set_ylabel('loss')\n",
    "acc_ax.set_ylabel('accuracy')\n",
    "\n",
    "loss_ax.legend(loc='upper left')\n",
    "acc_ax.legend(loc='lower left')"
   ]
  },
  {
   "cell_type": "code",
   "execution_count": 23,
   "metadata": {},
   "outputs": [
    {
     "data": {
      "text/plain": [
       "<matplotlib.legend.Legend at 0x1ec27e56dd8>"
      ]
     },
     "execution_count": 23,
     "metadata": {},
     "output_type": "execute_result"
    },
    {
     "data": {
      "image/png": "[encoded data removed]",
      "text/plain": [
       "<Figure size 432x288 with 2 Axes>"
      ]
     },
     "metadata": {
      "needs_background": "light"
     },
     "output_type": "display_data"
    }
   ],
   "source": [
    "fig, loss_ax=plt.subplots()\n",
    "acc_ax=loss_ax.twinx()\n",
    "\n",
    "loss_ax.plot(hist4.history['loss'], 'y', label='train loss')\n",
    "loss_ax.plot(hist4.history['val_loss'], 'r', label='val loss')\n",
    "loss_ax.set_ylim([0, 3])\n",
    "\n",
    "acc_ax.plot(hist4.history['acc'], 'b', label='train acc')\n",
    "acc_ax.plot(hist4.history['val_acc'], 'g', label='val acc')\n",
    "acc_ax.set_ylim([0, 1])\n",
    "\n",
    "loss_ax.set_xlabel('epoch')\n",
    "loss_ax.set_ylabel('loss')\n",
    "acc_ax.set_ylabel('accuracy')\n",
    "\n",
    "loss_ax.legend(loc='upper left')\n",
    "acc_ax.legend(loc='lower left')"
   ]
  },
  {
   "cell_type": "code",
   "execution_count": 27,
   "metadata": {},
   "outputs": [
    {
     "name": "stdout",
     "output_type": "stream",
     "text": [
      "2246/2246 [==============================] - 0s 50us/step\n",
      "[1.4548253915401197, 0.6878895814781835]\n"
     ]
    }
   ],
   "source": [
    "loss_metrics1=model1.evaluate(x_test, y_test, batch_size=64)\n",
    "print(loss_metrics1)"
   ]
  },
  {
   "cell_type": "code",
   "execution_count": 28,
   "metadata": {},
   "outputs": [
    {
     "name": "stdout",
     "output_type": "stream",
     "text": [
      "2246/2246 [==============================] - 6s 3ms/step\n",
      "[1.7494841099634622, 0.6357969724484458]\n"
     ]
    }
   ],
   "source": [
    "loss_metrics2=model2.evaluate(x_test, y_test, batch_size=64)\n",
    "print(loss_metrics2)"
   ]
  },
  {
   "cell_type": "code",
   "execution_count": 29,
   "metadata": {},
   "outputs": [
    {
     "name": "stdout",
     "output_type": "stream",
     "text": [
      "2246/2246 [==============================] - 0s 51us/step\n",
      "[1.2725129694356945, 0.7595725735170121]\n"
     ]
    }
   ],
   "source": [
    "loss_metrics3=model3.evaluate(x_test, y_test, batch_size=64)\n",
    "print(loss_metrics3)"
   ]
  },
  {
   "cell_type": "code",
   "execution_count": 30,
   "metadata": {},
   "outputs": [
    {
     "name": "stdout",
     "output_type": "stream",
     "text": [
      "2246/2246 [==============================] - 2s 825us/step\n",
      "[1.4413248952328894, 0.6807658058771149]\n"
     ]
    }
   ],
   "source": [
    "loss_metrics4=model4.evaluate(x_test, y_test, batch_size=64)\n",
    "print(loss_metrics4)"
   ]
  },
  {
   "cell_type": "code",
   "execution_count": 33,
   "metadata": {},
   "outputs": [
    {
     "data": {
      "text/plain": [
       "(7000, 120)"
      ]
     },
     "execution_count": 33,
     "metadata": {},
     "output_type": "execute_result"
    }
   ],
   "source": [
    "from keras.preprocessing.text import text_to_word_sequence"
   ]
  },
  {
   "cell_type": "code",
   "execution_count": null,
   "metadata": {},
   "outputs": [],
   "source": []
  }
 ],
 "metadata": {
  "kernelspec": {
   "display_name": "Python [conda env:tf1_env]",
   "language": "python",
   "name": "conda-env-tf1_env-py"
  },
  "language_info": {
   "codemirror_mode": {
    "name": "ipython",
    "version": 3
   },
   "file_extension": ".py",
   "mimetype": "text/x-python",
   "name": "python",
   "nbconvert_exporter": "python",
   "pygments_lexer": "ipython3",
   "version": "3.6.10"
  }
 },
 "nbformat": 4,
 "nbformat_minor": 4
}
