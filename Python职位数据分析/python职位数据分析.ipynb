{
 "cells": [
  {
   "cell_type": "markdown",
   "metadata": {},
   "source": [
    "## 数据读取"
   ]
  },
  {
   "cell_type": "code",
   "execution_count": 1,
   "metadata": {},
   "outputs": [],
   "source": [
    "import re\n",
    "import numpy as np\n",
    "import pandas as pd\n",
    "import matplotlib.pyplot as plt\n",
    "#%atplotlib inline\n",
    "import warnings\n",
    "warnings.filterwarnings('ignore')\n",
    "\n",
    "plt.rcParams['font.sans-serif'] = ['SimHei']  #用来正常显示中文标签\n",
    "plt.rcParams['axes.unicode_minus'] = False  #用来正常显示负号"
   ]
  },
  {
   "cell_type": "code",
   "execution_count": 2,
   "metadata": {},
   "outputs": [
    {
     "data": {
      "text/html": [
       "<div>\n",
       "<style scoped>\n",
       "    .dataframe tbody tr th:only-of-type {\n",
       "        vertical-align: middle;\n",
       "    }\n",
       "\n",
       "    .dataframe tbody tr th {\n",
       "        vertical-align: top;\n",
       "    }\n",
       "\n",
       "    .dataframe thead th {\n",
       "        text-align: right;\n",
       "    }\n",
       "</style>\n",
       "<table border=\"1\" class=\"dataframe\">\n",
       "  <thead>\n",
       "    <tr style=\"text-align: right;\">\n",
       "      <th></th>\n",
       "      <th>job_name</th>\n",
       "      <th>job_salary</th>\n",
       "      <th>job_info</th>\n",
       "      <th>job_stars</th>\n",
       "      <th>job_category</th>\n",
       "      <th>job_description</th>\n",
       "      <th>job_contact</th>\n",
       "      <th>company_name</th>\n",
       "      <th>company_type</th>\n",
       "      <th>company_size</th>\n",
       "      <th>company_industry</th>\n",
       "      <th>company_introduction</th>\n",
       "      <th>job_link</th>\n",
       "      <th>company_url</th>\n",
       "    </tr>\n",
       "  </thead>\n",
       "  <tbody>\n",
       "    <tr>\n",
       "      <th>0</th>\n",
       "      <td>Python开发工程师</td>\n",
       "      <td>0.6-1.2万/月</td>\n",
       "      <td>广州-黄埔区  |  3-4年经验  |  本科  |  招1人  |  08-30发布</td>\n",
       "      <td>五险一金,员工旅游,交通补贴,餐饮补贴,通讯补贴,专业培训,绩效奖金,年终奖金,股票期权,弹性工作</td>\n",
       "      <td>Python开发工程师</td>\n",
       "      <td>【岗位职责】,1、负责数据抓取平台规划和建设，完成数据采集与爬取、解析处理和入库；,2、研究...</td>\n",
       "      <td>神舟路19号3栋二层222号</td>\n",
       "      <td>广州欧赛斯信息科技有限公司</td>\n",
       "      <td>民营公司</td>\n",
       "      <td>50-150人</td>\n",
       "      <td>计算机软件\\r\\r\\n                                   ...</td>\n",
       "      <td>广州欧赛斯信息科技有限公司（OCS）成立于2012年，是一家专注于教育教学大数据的软件服务提...</td>\n",
       "      <td>https://jobs.51job.com/guangzhou-hpq/123273059...</td>\n",
       "      <td>https://jobs.51job.com/all/co3816201.html</td>\n",
       "    </tr>\n",
       "    <tr>\n",
       "      <th>1</th>\n",
       "      <td>Python开发工程师</td>\n",
       "      <td>4.5-8千/月</td>\n",
       "      <td>广州  |  1年经验  |  大专  |  招3人  |  08-30发布</td>\n",
       "      <td>五险一金,绩效奖金,年终奖金</td>\n",
       "      <td>Python开发工程师</td>\n",
       "      <td>岗位职责:,1. 为3D影视制作开发流程配套工具, 其包含独立工具, 影视工具插件。,2. ...</td>\n",
       "      <td>天河区怡祥盛达电子信息创新园C座三层</td>\n",
       "      <td>广州金川文化有限公司</td>\n",
       "      <td>民营公司</td>\n",
       "      <td>150-500人</td>\n",
       "      <td>影视/媒体/艺术/文化传播</td>\n",
       "      <td>每个人小时候都看过一部令他（她）难忘的动画电影，故事的记忆成为他（她）长大后为人处世标准的一...</td>\n",
       "      <td>https://jobs.51job.com/guangzhou/124980175.htm...</td>\n",
       "      <td>https://jobs.51job.com/all/co3226190.html</td>\n",
       "    </tr>\n",
       "    <tr>\n",
       "      <th>2</th>\n",
       "      <td>数据库财务实习生（Python工程师）2329 (职位编号：Meixin002329)</td>\n",
       "      <td>2-3千/月</td>\n",
       "      <td>广州  |  在校生/应届生  |  大专  |  招1人  |  08-30发布</td>\n",
       "      <td>五险一金,节日福利,带薪年假,专业培训,定期体检,员工旅游</td>\n",
       "      <td>计算机辅助设计工程师</td>\n",
       "      <td>岗位职责:,1、日常薪酬數據采集，輸入，處理，加工，輸出等流程，包含入職，離職，人員資料變動...</td>\n",
       "      <td>越秀区中山六路218-222号 捷泰广场10楼</td>\n",
       "      <td>美心食品（广州）有限公司</td>\n",
       "      <td>外资（非欧美）</td>\n",
       "      <td>5000-10000人</td>\n",
       "      <td>餐饮业\\r\\r\\n                                    快...</td>\n",
       "      <td>香港美心集团始创于1956年，至今已发展成具规模的多元化优质餐饮集团，截至2019年于中国港...</td>\n",
       "      <td>https://jobs.51job.com/guangzhou/124283855.htm...</td>\n",
       "      <td>https://jobs.51job.com/all/co255908.html</td>\n",
       "    </tr>\n",
       "    <tr>\n",
       "      <th>3</th>\n",
       "      <td>Python开发工程师 (职位编号：UR002262)</td>\n",
       "      <td>1.3-1.8万/月</td>\n",
       "      <td>广州  |  3-4年经验  |  本科  |  招若干人  |  08-30发布</td>\n",
       "      <td>五险一金,免费班车,员工旅游,交通补贴,年终奖金</td>\n",
       "      <td>Python开发工程师</td>\n",
       "      <td>1.负责算法的开发，部署，优化等。,2.负责算法的行性评估和视觉硬件的选型。,3.对客户价值...</td>\n",
       "      <td>广州白云区云霄路91号</td>\n",
       "      <td>UR 快尚时装有限公司</td>\n",
       "      <td>民营公司</td>\n",
       "      <td>5000-10000人</td>\n",
       "      <td>服装/纺织/皮革</td>\n",
       "      <td>关于UR    公司创立于2006年，以提升人们的时尚生活品质为使命，中国首个全球化的时装品...</td>\n",
       "      <td>https://jobs.51job.com/guangzhou/124955221.htm...</td>\n",
       "      <td>https://jobs.51job.com/all/co2194550.html</td>\n",
       "    </tr>\n",
       "    <tr>\n",
       "      <th>4</th>\n",
       "      <td>Python工程师</td>\n",
       "      <td>1.2-1.6万/月</td>\n",
       "      <td>广州-天河区  |  招1人  |  08-30发布</td>\n",
       "      <td>五险一金,专业培训,年终奖金,定期体检</td>\n",
       "      <td>软件工程师</td>\n",
       "      <td>1 参与爬虫，数据解析和分析等功能的研发；,2 负责分析结果的展示；,        3 负...</td>\n",
       "      <td>冼村路5号凯华国际大厦18楼</td>\n",
       "      <td>广州市欢雀科技有限公司</td>\n",
       "      <td>民营公司</td>\n",
       "      <td>50-150人</td>\n",
       "      <td>互联网/电子商务</td>\n",
       "      <td>广州市欢雀科技有限公司是互联网企业级服务提供者，聚焦企业薪酬福利管理方向，依托母公司广东知名...</td>\n",
       "      <td>https://jobs.51job.com/guangzhou-thq/112940445...</td>\n",
       "      <td>https://jobs.51job.com/all/co3997037.html</td>\n",
       "    </tr>\n",
       "  </tbody>\n",
       "</table>\n",
       "</div>"
      ],
      "text/plain": [
       "                                      job_name  job_salary  \\\n",
       "0                                  Python开发工程师  0.6-1.2万/月   \n",
       "1                                  Python开发工程师    4.5-8千/月   \n",
       "2  数据库财务实习生（Python工程师）2329 (职位编号：Meixin002329)      2-3千/月   \n",
       "3                  Python开发工程师 (职位编号：UR002262)  1.3-1.8万/月   \n",
       "4                                    Python工程师  1.2-1.6万/月   \n",
       "\n",
       "                                       job_info  \\\n",
       "0  广州-黄埔区  |  3-4年经验  |  本科  |  招1人  |  08-30发布   \n",
       "1        广州  |  1年经验  |  大专  |  招3人  |  08-30发布   \n",
       "2     广州  |  在校生/应届生  |  大专  |  招1人  |  08-30发布   \n",
       "3     广州  |  3-4年经验  |  本科  |  招若干人  |  08-30发布   \n",
       "4                    广州-天河区  |  招1人  |  08-30发布   \n",
       "\n",
       "                                           job_stars job_category  \\\n",
       "0  五险一金,员工旅游,交通补贴,餐饮补贴,通讯补贴,专业培训,绩效奖金,年终奖金,股票期权,弹性工作  Python开发工程师   \n",
       "1                                     五险一金,绩效奖金,年终奖金  Python开发工程师   \n",
       "2                      五险一金,节日福利,带薪年假,专业培训,定期体检,员工旅游   计算机辅助设计工程师   \n",
       "3                           五险一金,免费班车,员工旅游,交通补贴,年终奖金  Python开发工程师   \n",
       "4                                五险一金,专业培训,年终奖金,定期体检        软件工程师   \n",
       "\n",
       "                                     job_description              job_contact  \\\n",
       "0  【岗位职责】,1、负责数据抓取平台规划和建设，完成数据采集与爬取、解析处理和入库；,2、研究...           神舟路19号3栋二层222号   \n",
       "1  岗位职责:,1. 为3D影视制作开发流程配套工具, 其包含独立工具, 影视工具插件。,2. ...       天河区怡祥盛达电子信息创新园C座三层   \n",
       "2  岗位职责:,1、日常薪酬數據采集，輸入，處理，加工，輸出等流程，包含入職，離職，人員資料變動...  越秀区中山六路218-222号 捷泰广场10楼   \n",
       "3  1.负责算法的开发，部署，优化等。,2.负责算法的行性评估和视觉硬件的选型。,3.对客户价值...              广州白云区云霄路91号   \n",
       "4  1 参与爬虫，数据解析和分析等功能的研发；,2 负责分析结果的展示；,        3 负...           冼村路5号凯华国际大厦18楼   \n",
       "\n",
       "    company_name company_type company_size  \\\n",
       "0  广州欧赛斯信息科技有限公司         民营公司      50-150人   \n",
       "1     广州金川文化有限公司         民营公司     150-500人   \n",
       "2   美心食品（广州）有限公司      外资（非欧美）  5000-10000人   \n",
       "3    UR 快尚时装有限公司         民营公司  5000-10000人   \n",
       "4    广州市欢雀科技有限公司         民营公司      50-150人   \n",
       "\n",
       "                                    company_industry  \\\n",
       "0  计算机软件\\r\\r\\n                                   ...   \n",
       "1                                      影视/媒体/艺术/文化传播   \n",
       "2  餐饮业\\r\\r\\n                                    快...   \n",
       "3                                           服装/纺织/皮革   \n",
       "4                                           互联网/电子商务   \n",
       "\n",
       "                                company_introduction  \\\n",
       "0  广州欧赛斯信息科技有限公司（OCS）成立于2012年，是一家专注于教育教学大数据的软件服务提...   \n",
       "1  每个人小时候都看过一部令他（她）难忘的动画电影，故事的记忆成为他（她）长大后为人处世标准的一...   \n",
       "2  香港美心集团始创于1956年，至今已发展成具规模的多元化优质餐饮集团，截至2019年于中国港...   \n",
       "3  关于UR    公司创立于2006年，以提升人们的时尚生活品质为使命，中国首个全球化的时装品...   \n",
       "4  广州市欢雀科技有限公司是互联网企业级服务提供者，聚焦企业薪酬福利管理方向，依托母公司广东知名...   \n",
       "\n",
       "                                            job_link  \\\n",
       "0  https://jobs.51job.com/guangzhou-hpq/123273059...   \n",
       "1  https://jobs.51job.com/guangzhou/124980175.htm...   \n",
       "2  https://jobs.51job.com/guangzhou/124283855.htm...   \n",
       "3  https://jobs.51job.com/guangzhou/124955221.htm...   \n",
       "4  https://jobs.51job.com/guangzhou-thq/112940445...   \n",
       "\n",
       "                                 company_url  \n",
       "0  https://jobs.51job.com/all/co3816201.html  \n",
       "1  https://jobs.51job.com/all/co3226190.html  \n",
       "2   https://jobs.51job.com/all/co255908.html  \n",
       "3  https://jobs.51job.com/all/co2194550.html  \n",
       "4  https://jobs.51job.com/all/co3997037.html  "
      ]
     },
     "execution_count": 2,
     "metadata": {},
     "output_type": "execute_result"
    }
   ],
   "source": [
    "df = pd.read_csv('python_jobs.csv',\n",
    "                 names=[\n",
    "                     'job_name', 'job_salary', 'job_info', 'job_stars',\n",
    "                     'job_category', 'job_description', 'job_contact',\n",
    "                     'company_name', 'company_type', 'company_size',\n",
    "                     'company_industry', 'company_introduction', 'job_link',\n",
    "                     'company_url'\n",
    "                 ])\n",
    "df.head()"
   ]
  },
  {
   "cell_type": "code",
   "execution_count": 3,
   "metadata": {},
   "outputs": [
    {
     "data": {
      "text/plain": [
       "(3407, 14)"
      ]
     },
     "execution_count": 3,
     "metadata": {},
     "output_type": "execute_result"
    }
   ],
   "source": [
    "df.shape"
   ]
  },
  {
   "cell_type": "code",
   "execution_count": 4,
   "metadata": {},
   "outputs": [
    {
     "data": {
      "text/plain": [
       "job_name                  0\n",
       "job_salary                0\n",
       "job_info                  0\n",
       "job_stars               476\n",
       "job_category              0\n",
       "job_description         321\n",
       "job_contact               0\n",
       "company_name              0\n",
       "company_type              0\n",
       "company_size             20\n",
       "company_industry          0\n",
       "company_introduction      0\n",
       "job_link                  0\n",
       "company_url               0\n",
       "dtype: int64"
      ]
     },
     "execution_count": 4,
     "metadata": {},
     "output_type": "execute_result"
    }
   ],
   "source": [
    "df.isnull().sum()"
   ]
  },
  {
   "cell_type": "code",
   "execution_count": 5,
   "metadata": {},
   "outputs": [
    {
     "data": {
      "text/plain": [
       "job_name                0.000000\n",
       "job_salary              0.000000\n",
       "job_info                0.000000\n",
       "job_stars               0.162402\n",
       "job_category            0.000000\n",
       "job_description         0.104018\n",
       "job_contact             0.000000\n",
       "company_name            0.000000\n",
       "company_type            0.000000\n",
       "company_size            0.005905\n",
       "company_industry        0.000000\n",
       "company_introduction    0.000000\n",
       "job_link                0.000000\n",
       "company_url             0.000000\n",
       "dtype: float64"
      ]
     },
     "execution_count": 5,
     "metadata": {},
     "output_type": "execute_result"
    }
   ],
   "source": [
    "df.isnull().sum()/df.count()"
   ]
  },
  {
   "cell_type": "markdown",
   "metadata": {},
   "source": [
    "## 数据清洗"
   ]
  },
  {
   "cell_type": "code",
   "execution_count": 5,
   "metadata": {},
   "outputs": [],
   "source": [
    "# 删除联系方式，工作和公司链接的列，只作为分析之外使用\n",
    "df = df.drop(['job_contact', 'job_link', 'company_url'], axis=1)"
   ]
  },
  {
   "cell_type": "code",
   "execution_count": 6,
   "metadata": {},
   "outputs": [],
   "source": [
    "# 数据在不同天采集，有重复，要删除\n",
    "df = df.drop_duplicates(subset=['job_name', 'company_name'], keep='last')"
   ]
  },
  {
   "cell_type": "code",
   "execution_count": 7,
   "metadata": {},
   "outputs": [],
   "source": [
    "# 去掉按天，按时计薪的工作\n",
    "df = df[~df['job_salary'].str.endswith('元/天')]\n",
    "df = df[~df['job_salary'].str.endswith('元/小时')]\n",
    "df = df[~df['job_salary'].str.endswith('万以上/月')]"
   ]
  },
  {
   "cell_type": "code",
   "execution_count": 8,
   "metadata": {},
   "outputs": [],
   "source": [
    "# 区分薪酬区间\n",
    "df['min_salary'] = 1\n",
    "df['max_salary'] = 1"
   ]
  },
  {
   "cell_type": "code",
   "execution_count": 9,
   "metadata": {},
   "outputs": [],
   "source": [
    "# 处理薪酬的函数\n",
    "def parse_salary(sr):\n",
    "    if sr.endswith('万/年'):\n",
    "        sr = sr.replace('万/年', '')\n",
    "        min_salary, max_salary = sr.split('-')\n",
    "        min_salary = round(float(min_salary) * 10000 / 12)\n",
    "        max_salary = round(float(max_salary) * 10000 / 12)\n",
    "        return min_salary, max_salary\n",
    "    elif sr.endswith('万/月'):\n",
    "        sr = sr.replace('万/月', '')\n",
    "        min_salary, max_salary = sr.split('-')\n",
    "        min_salary = round(float(min_salary) * 10000)\n",
    "        max_salary = round(float(max_salary) * 10000)\n",
    "        return min_salary, max_salary\n",
    "    elif sr.endswith('千/月'):\n",
    "        sr = sr.replace('千/月', '')\n",
    "        min_salary, max_salary = sr.split('-')\n",
    "        min_salary = round(float(min_salary) * 1000)\n",
    "        max_salary = round(float(max_salary) * 1000)\n",
    "        return min_salary, max_salary\n",
    "    else:\n",
    "        return np.nan, np.nan"
   ]
  },
  {
   "cell_type": "code",
   "execution_count": 10,
   "metadata": {},
   "outputs": [],
   "source": [
    "# 得到薪酬区间\n",
    "temp_df = df['job_salary'].apply(parse_salary)\n",
    "\n",
    "df['min_salary'] = temp_df.apply(lambda x: x[0])\n",
    "df['max_salary'] = temp_df.apply(lambda x: x[1])"
   ]
  },
  {
   "cell_type": "code",
   "execution_count": 11,
   "metadata": {},
   "outputs": [
    {
     "data": {
      "text/html": [
       "<div>\n",
       "<style scoped>\n",
       "    .dataframe tbody tr th:only-of-type {\n",
       "        vertical-align: middle;\n",
       "    }\n",
       "\n",
       "    .dataframe tbody tr th {\n",
       "        vertical-align: top;\n",
       "    }\n",
       "\n",
       "    .dataframe thead th {\n",
       "        text-align: right;\n",
       "    }\n",
       "</style>\n",
       "<table border=\"1\" class=\"dataframe\">\n",
       "  <thead>\n",
       "    <tr style=\"text-align: right;\">\n",
       "      <th></th>\n",
       "      <th>job_name</th>\n",
       "      <th>job_info</th>\n",
       "      <th>job_stars</th>\n",
       "      <th>job_category</th>\n",
       "      <th>job_description</th>\n",
       "      <th>company_name</th>\n",
       "      <th>company_type</th>\n",
       "      <th>company_size</th>\n",
       "      <th>company_industry</th>\n",
       "      <th>company_introduction</th>\n",
       "      <th>min_salary</th>\n",
       "      <th>max_salary</th>\n",
       "    </tr>\n",
       "  </thead>\n",
       "  <tbody>\n",
       "    <tr>\n",
       "      <th>1260</th>\n",
       "      <td>数据分析工程师</td>\n",
       "      <td>广州  |  1年经验  |  本科  |  招若干人  |  08-18发布</td>\n",
       "      <td>双休,近地铁,员工食堂,节日福利,绩效工资,五险一金,交通补贴,餐饮补贴,通讯补贴,定期体检</td>\n",
       "      <td>数据分析师</td>\n",
       "      <td>一、岗位职责：,1.负责的日常数据监控和分析研究，发现产品问题和用户变化并提出建议，为产品和...</td>\n",
       "      <td>广东南粤通客运联网中心有限公司</td>\n",
       "      <td>国企</td>\n",
       "      <td>50-150人</td>\n",
       "      <td>交通/运输/物流\\r\\r\\n                                ...</td>\n",
       "      <td>公司成立于2014年11月，在省交通运输厅指导下建设运营全省汽车客运联网售票平台，打造全省客...</td>\n",
       "      <td>10000</td>\n",
       "      <td>15000</td>\n",
       "    </tr>\n",
       "    <tr>\n",
       "      <th>1243</th>\n",
       "      <td>服务器开发工程师</td>\n",
       "      <td>广州-天河区  |  2年经验  |  大专  |  招1人  |  08-19发布</td>\n",
       "      <td>员工旅游,周末双休,带薪年假,节日福利,部门经费,定期体检,出国机会,年终奖金,五险一金,包晚餐</td>\n",
       "      <td>游戏开发工程师,游戏服务端开发工程师</td>\n",
       "      <td>岗位职责：,1、负责公司的产品的服务器开发与运维；,2、使用各种监控工具及设计系统与架构，保...</td>\n",
       "      <td>广州游尚网络科技有限公司</td>\n",
       "      <td>民营公司</td>\n",
       "      <td>少于50人</td>\n",
       "      <td>网络游戏\\r\\r\\n                                    ...</td>\n",
       "      <td>【公司简介】广州游尚网络科技有限公司成立于2017年1月，总部位于广州。核心团队成员均来自于...</td>\n",
       "      <td>6000</td>\n",
       "      <td>12000</td>\n",
       "    </tr>\n",
       "    <tr>\n",
       "      <th>2458</th>\n",
       "      <td>python教研</td>\n",
       "      <td>广州  |  3-4年经验  |  本科  |  招1人  |  09-01发布</td>\n",
       "      <td>五险一金,绩效奖金,弹性工作,专业培训,通讯补贴,双休</td>\n",
       "      <td>其他</td>\n",
       "      <td>1、 4-10岁幼少儿图形化编程教育课程研发以及优化工作；,2、 10岁以上青少年代码编程教...</td>\n",
       "      <td>三七互娱</td>\n",
       "      <td>上市公司</td>\n",
       "      <td>1000-5000人</td>\n",
       "      <td>网络游戏</td>\n",
       "      <td>三七互娱，全球TOP25上市游戏企业，位列中国第三，凭借优异业绩被纳入中证沪深300指数、明...</td>\n",
       "      <td>8000</td>\n",
       "      <td>12000</td>\n",
       "    </tr>\n",
       "    <tr>\n",
       "      <th>1880</th>\n",
       "      <td>测试工程师</td>\n",
       "      <td>广州-天河区  |  2年经验  |  本科  |  招2人  |  08-29发布</td>\n",
       "      <td>免费班车,餐饮补贴,五险一金,员工旅游,通讯补贴,绩效奖金,定期体检,朝九晚六,节日福利,带薪年假</td>\n",
       "      <td>测试工程师</td>\n",
       "      <td>岗位职责：,1、按照产品和项目要求，制定和更新测试计划，设计测试用例，并按计划执行测试工作；...</td>\n",
       "      <td>广州新科佳都科技有限公司</td>\n",
       "      <td>上市公司</td>\n",
       "      <td>500-1000人</td>\n",
       "      <td>计算机软件\\r\\r\\n                                   ...</td>\n",
       "      <td>广州新科佳都科技有限公司（简称：新科佳都）是上市公司佳都新太科技股份有限公司（股票代码：60...</td>\n",
       "      <td>10000</td>\n",
       "      <td>15000</td>\n",
       "    </tr>\n",
       "    <tr>\n",
       "      <th>2682</th>\n",
       "      <td>运维工程师</td>\n",
       "      <td>广州  |  3-4年经验  |  本科  |  招1人  |  09-01发布</td>\n",
       "      <td>NaN</td>\n",
       "      <td>技术支持/维护工程师</td>\n",
       "      <td>岗位职责:,1.负责维护，持续优化持续集成系统，负责项目发布管理。,2.负责设计用例自动化测...</td>\n",
       "      <td>上海联蔚信息科技有限公司</td>\n",
       "      <td>民营公司</td>\n",
       "      <td>1000-5000人</td>\n",
       "      <td>计算机软件\\r\\r\\n                                   ...</td>\n",
       "      <td>公司介绍上海联蔚信息科技有限公司(简称：联蔚科技，英文名称：Shanghai Connext...</td>\n",
       "      <td>13000</td>\n",
       "      <td>18000</td>\n",
       "    </tr>\n",
       "  </tbody>\n",
       "</table>\n",
       "</div>"
      ],
      "text/plain": [
       "      job_name                                    job_info  \\\n",
       "1260   数据分析工程师     广州  |  1年经验  |  本科  |  招若干人  |  08-18发布   \n",
       "1243  服务器开发工程师  广州-天河区  |  2年经验  |  大专  |  招1人  |  08-19发布   \n",
       "2458  python教研    广州  |  3-4年经验  |  本科  |  招1人  |  09-01发布   \n",
       "1880     测试工程师  广州-天河区  |  2年经验  |  本科  |  招2人  |  08-29发布   \n",
       "2682     运维工程师    广州  |  3-4年经验  |  本科  |  招1人  |  09-01发布   \n",
       "\n",
       "                                              job_stars        job_category  \\\n",
       "1260     双休,近地铁,员工食堂,节日福利,绩效工资,五险一金,交通补贴,餐饮补贴,通讯补贴,定期体检               数据分析师   \n",
       "1243   员工旅游,周末双休,带薪年假,节日福利,部门经费,定期体检,出国机会,年终奖金,五险一金,包晚餐  游戏开发工程师,游戏服务端开发工程师   \n",
       "2458                        五险一金,绩效奖金,弹性工作,专业培训,通讯补贴,双休                  其他   \n",
       "1880  免费班车,餐饮补贴,五险一金,员工旅游,通讯补贴,绩效奖金,定期体检,朝九晚六,节日福利,带薪年假               测试工程师   \n",
       "2682                                                NaN          技术支持/维护工程师   \n",
       "\n",
       "                                        job_description     company_name  \\\n",
       "1260  一、岗位职责：,1.负责的日常数据监控和分析研究，发现产品问题和用户变化并提出建议，为产品和...  广东南粤通客运联网中心有限公司   \n",
       "1243  岗位职责：,1、负责公司的产品的服务器开发与运维；,2、使用各种监控工具及设计系统与架构，保...     广州游尚网络科技有限公司   \n",
       "2458  1、 4-10岁幼少儿图形化编程教育课程研发以及优化工作；,2、 10岁以上青少年代码编程教...             三七互娱   \n",
       "1880  岗位职责：,1、按照产品和项目要求，制定和更新测试计划，设计测试用例，并按计划执行测试工作；...     广州新科佳都科技有限公司   \n",
       "2682  岗位职责:,1.负责维护，持续优化持续集成系统，负责项目发布管理。,2.负责设计用例自动化测...     上海联蔚信息科技有限公司   \n",
       "\n",
       "     company_type company_size  \\\n",
       "1260           国企      50-150人   \n",
       "1243         民营公司        少于50人   \n",
       "2458         上市公司   1000-5000人   \n",
       "1880         上市公司    500-1000人   \n",
       "2682         民营公司   1000-5000人   \n",
       "\n",
       "                                       company_industry  \\\n",
       "1260  交通/运输/物流\\r\\r\\n                                ...   \n",
       "1243  网络游戏\\r\\r\\n                                    ...   \n",
       "2458                                               网络游戏   \n",
       "1880  计算机软件\\r\\r\\n                                   ...   \n",
       "2682  计算机软件\\r\\r\\n                                   ...   \n",
       "\n",
       "                                   company_introduction  min_salary  \\\n",
       "1260  公司成立于2014年11月，在省交通运输厅指导下建设运营全省汽车客运联网售票平台，打造全省客...       10000   \n",
       "1243  【公司简介】广州游尚网络科技有限公司成立于2017年1月，总部位于广州。核心团队成员均来自于...        6000   \n",
       "2458  三七互娱，全球TOP25上市游戏企业，位列中国第三，凭借优异业绩被纳入中证沪深300指数、明...        8000   \n",
       "1880  广州新科佳都科技有限公司（简称：新科佳都）是上市公司佳都新太科技股份有限公司（股票代码：60...       10000   \n",
       "2682  公司介绍上海联蔚信息科技有限公司(简称：联蔚科技，英文名称：Shanghai Connext...       13000   \n",
       "\n",
       "      max_salary  \n",
       "1260       15000  \n",
       "1243       12000  \n",
       "2458       12000  \n",
       "1880       15000  \n",
       "2682       18000  "
      ]
     },
     "execution_count": 11,
     "metadata": {},
     "output_type": "execute_result"
    }
   ],
   "source": [
    "df = df.drop('job_salary', axis=1)\n",
    "df.sample(5)"
   ]
  },
  {
   "cell_type": "code",
   "execution_count": 12,
   "metadata": {},
   "outputs": [],
   "source": [
    "# 中位数薪酬更有参考意义\n",
    "df['mid_salary'] = (df['min_salary'] + df['max_salary']) / 2"
   ]
  },
  {
   "cell_type": "code",
   "execution_count": 13,
   "metadata": {},
   "outputs": [],
   "source": [
    "# 处理工作基本信息的函数\n",
    "def parse_info(sr):\n",
    "    lst = sr.split('|')\n",
    "    place = lst[0].strip()\n",
    "    exp_years = lst[1].strip()\n",
    "    education = lst[2].strip()\n",
    "    return place, exp_years, education"
   ]
  },
  {
   "cell_type": "code",
   "execution_count": 14,
   "metadata": {},
   "outputs": [],
   "source": [
    "# 得到工作地，工作经验，学历要求信息\n",
    "temp_df = df['job_info'].apply(parse_info)\n",
    "\n",
    "df['place'] = temp_df.apply(lambda x: x[0])\n",
    "df['exp_years'] = temp_df.apply(lambda x: x[1])\n",
    "df['education'] = temp_df.apply(lambda x: x[2])"
   ]
  },
  {
   "cell_type": "code",
   "execution_count": 15,
   "metadata": {},
   "outputs": [],
   "source": [
    "# 有些信息错位，要再处理\n",
    "df['exp_years'] = df['exp_years'].str.replace(r'招.+', 'NA')\n",
    "df['exp_years'] = df['exp_years'].str.replace(r'本科|大专|硕士|博士', 'NA')\n",
    "\n",
    "df['education'] = df['education'].str.replace(r'招.+', 'NA')\n",
    "df['education'] = df['education'].str.replace(r'.*?发布', 'NA')"
   ]
  },
  {
   "cell_type": "code",
   "execution_count": 16,
   "metadata": {},
   "outputs": [
    {
     "data": {
      "text/html": [
       "<div>\n",
       "<style scoped>\n",
       "    .dataframe tbody tr th:only-of-type {\n",
       "        vertical-align: middle;\n",
       "    }\n",
       "\n",
       "    .dataframe tbody tr th {\n",
       "        vertical-align: top;\n",
       "    }\n",
       "\n",
       "    .dataframe thead th {\n",
       "        text-align: right;\n",
       "    }\n",
       "</style>\n",
       "<table border=\"1\" class=\"dataframe\">\n",
       "  <thead>\n",
       "    <tr style=\"text-align: right;\">\n",
       "      <th></th>\n",
       "      <th>job_name</th>\n",
       "      <th>job_stars</th>\n",
       "      <th>job_category</th>\n",
       "      <th>job_description</th>\n",
       "      <th>company_name</th>\n",
       "      <th>company_type</th>\n",
       "      <th>company_size</th>\n",
       "      <th>company_industry</th>\n",
       "      <th>company_introduction</th>\n",
       "      <th>min_salary</th>\n",
       "      <th>max_salary</th>\n",
       "      <th>mid_salary</th>\n",
       "      <th>place</th>\n",
       "      <th>exp_years</th>\n",
       "      <th>education</th>\n",
       "    </tr>\n",
       "  </thead>\n",
       "  <tbody>\n",
       "    <tr>\n",
       "      <th>926</th>\n",
       "      <td>运营专员（数据分析方向）</td>\n",
       "      <td>员工旅游,专业培训,绩效奖金,年终奖金,社保,国家法定假,月度达标奖金,年度达标奖金,员工生...</td>\n",
       "      <td>数据运营,数据分析师</td>\n",
       "      <td>NaN</td>\n",
       "      <td>广州吉吉姐品牌管理有限公司</td>\n",
       "      <td>民营公司</td>\n",
       "      <td>50-150人</td>\n",
       "      <td>互联网/电子商务</td>\n",
       "      <td>「吉吉姐品牌管理有限公司」创立于2014年公司介绍：我们是国内第二大自营跨境电商零售平台——...</td>\n",
       "      <td>5000</td>\n",
       "      <td>10000</td>\n",
       "      <td>7500.0</td>\n",
       "      <td>广州-海珠区</td>\n",
       "      <td>1年经验</td>\n",
       "      <td>大专</td>\n",
       "    </tr>\n",
       "    <tr>\n",
       "      <th>591</th>\n",
       "      <td>接口自动化测试工程师</td>\n",
       "      <td>周末双休,带薪年假,五险一金,餐饮补贴,年终奖金,节日福利,全勤奖</td>\n",
       "      <td>自动化测试</td>\n",
       "      <td>岗位职责：,1.负责产品移动端/PC端、以及后台服务/模块的测试工作；,2.根据项目计划制定...</td>\n",
       "      <td>广州天鹏计算机科技有限公司</td>\n",
       "      <td>民营公司</td>\n",
       "      <td>150-500人</td>\n",
       "      <td>计算机软件\\r\\r\\n                                   ...</td>\n",
       "      <td>公司介绍    广州天鹏计算机科技有限公司（下称“天鹏大数据”）是一家专注于健康医疗“新基建...</td>\n",
       "      <td>8000</td>\n",
       "      <td>10000</td>\n",
       "      <td>9000.0</td>\n",
       "      <td>广州-天河区</td>\n",
       "      <td>3-4年经验</td>\n",
       "      <td>本科</td>\n",
       "    </tr>\n",
       "    <tr>\n",
       "      <th>1978</th>\n",
       "      <td>大数据算法工程师</td>\n",
       "      <td>五险一金,专业培训,绩效奖金,高温补贴,弹性工作</td>\n",
       "      <td>算法工程师,大数据开发工程师</td>\n",
       "      <td>岗位职责：,1. 负责大数据算法框架体系设计和相关技术路线规划、设计和实现；,2. 根据业务...</td>\n",
       "      <td>恒峰信息技术有限公司</td>\n",
       "      <td>上市公司</td>\n",
       "      <td>150-500人</td>\n",
       "      <td>计算机服务(系统、数据服务、维修)\\r\\r\\n                       ...</td>\n",
       "      <td>【公司简介】       恒峰信息技术有限公司，成立于2003年1月，注册资本2.83亿元，...</td>\n",
       "      <td>15000</td>\n",
       "      <td>30000</td>\n",
       "      <td>22500.0</td>\n",
       "      <td>广州-黄埔区</td>\n",
       "      <td>5-7年经验</td>\n",
       "      <td>本科</td>\n",
       "    </tr>\n",
       "    <tr>\n",
       "      <th>1502</th>\n",
       "      <td>高级python开发工程师</td>\n",
       "      <td>五险一金,定期体检,节日福利,周末双休,健康下午茶,提供午餐</td>\n",
       "      <td>脚本开发工程师</td>\n",
       "      <td>岗位职责：,1、根据公司需求,配合其他部门进行自动化脚本开发；,2、负责脚本框架的搭建和脚本...</td>\n",
       "      <td>广州网融信息技术有限公司</td>\n",
       "      <td>民营公司</td>\n",
       "      <td>50-150人</td>\n",
       "      <td>互联网/电子商务\\r\\r\\n                                ...</td>\n",
       "      <td>广州网融信息技术有限公司（G4B）创建于2006年，现已发展成为中国领先的企业全生命周期管理...</td>\n",
       "      <td>15000</td>\n",
       "      <td>20000</td>\n",
       "      <td>17500.0</td>\n",
       "      <td>广州-海珠区</td>\n",
       "      <td>3-4年经验</td>\n",
       "      <td>大专</td>\n",
       "    </tr>\n",
       "    <tr>\n",
       "      <th>1646</th>\n",
       "      <td>爬虫开发工程师</td>\n",
       "      <td>五险一金,定期体检,餐饮补贴,节日福利,周末双休</td>\n",
       "      <td>爬虫开发工程师</td>\n",
       "      <td>岗位职责：,1、负责设计和开发通用爬虫脚本，提取分析各种平台页面内容；,2、研究各类网站、链...</td>\n",
       "      <td>广州网融信息技术有限公司</td>\n",
       "      <td>民营公司</td>\n",
       "      <td>50-150人</td>\n",
       "      <td>互联网/电子商务\\r\\r\\n                                ...</td>\n",
       "      <td>广州网融信息技术有限公司（G4B）创建于2006年，现已发展成为中国领先的企业全生命周期管理...</td>\n",
       "      <td>5000</td>\n",
       "      <td>6000</td>\n",
       "      <td>5500.0</td>\n",
       "      <td>广州-海珠区</td>\n",
       "      <td>1年经验</td>\n",
       "      <td>本科</td>\n",
       "    </tr>\n",
       "  </tbody>\n",
       "</table>\n",
       "</div>"
      ],
      "text/plain": [
       "           job_name                                          job_stars  \\\n",
       "926    运营专员（数据分析方向）  员工旅游,专业培训,绩效奖金,年终奖金,社保,国家法定假,月度达标奖金,年度达标奖金,员工生...   \n",
       "591      接口自动化测试工程师                  周末双休,带薪年假,五险一金,餐饮补贴,年终奖金,节日福利,全勤奖   \n",
       "1978       大数据算法工程师                           五险一金,专业培训,绩效奖金,高温补贴,弹性工作   \n",
       "1502  高级python开发工程师                     五险一金,定期体检,节日福利,周末双休,健康下午茶,提供午餐   \n",
       "1646        爬虫开发工程师                           五险一金,定期体检,餐饮补贴,节日福利,周末双休   \n",
       "\n",
       "        job_category                                    job_description  \\\n",
       "926       数据运营,数据分析师                                                NaN   \n",
       "591            自动化测试  岗位职责：,1.负责产品移动端/PC端、以及后台服务/模块的测试工作；,2.根据项目计划制定...   \n",
       "1978  算法工程师,大数据开发工程师  岗位职责：,1. 负责大数据算法框架体系设计和相关技术路线规划、设计和实现；,2. 根据业务...   \n",
       "1502         脚本开发工程师  岗位职责：,1、根据公司需求,配合其他部门进行自动化脚本开发；,2、负责脚本框架的搭建和脚本...   \n",
       "1646         爬虫开发工程师  岗位职责：,1、负责设计和开发通用爬虫脚本，提取分析各种平台页面内容；,2、研究各类网站、链...   \n",
       "\n",
       "       company_name company_type company_size  \\\n",
       "926   广州吉吉姐品牌管理有限公司         民营公司      50-150人   \n",
       "591   广州天鹏计算机科技有限公司         民营公司     150-500人   \n",
       "1978     恒峰信息技术有限公司         上市公司     150-500人   \n",
       "1502   广州网融信息技术有限公司         民营公司      50-150人   \n",
       "1646   广州网融信息技术有限公司         民营公司      50-150人   \n",
       "\n",
       "                                       company_industry  \\\n",
       "926                                            互联网/电子商务   \n",
       "591   计算机软件\\r\\r\\n                                   ...   \n",
       "1978  计算机服务(系统、数据服务、维修)\\r\\r\\n                       ...   \n",
       "1502  互联网/电子商务\\r\\r\\n                                ...   \n",
       "1646  互联网/电子商务\\r\\r\\n                                ...   \n",
       "\n",
       "                                   company_introduction  min_salary  \\\n",
       "926   「吉吉姐品牌管理有限公司」创立于2014年公司介绍：我们是国内第二大自营跨境电商零售平台——...        5000   \n",
       "591   公司介绍    广州天鹏计算机科技有限公司（下称“天鹏大数据”）是一家专注于健康医疗“新基建...        8000   \n",
       "1978  【公司简介】       恒峰信息技术有限公司，成立于2003年1月，注册资本2.83亿元，...       15000   \n",
       "1502  广州网融信息技术有限公司（G4B）创建于2006年，现已发展成为中国领先的企业全生命周期管理...       15000   \n",
       "1646  广州网融信息技术有限公司（G4B）创建于2006年，现已发展成为中国领先的企业全生命周期管理...        5000   \n",
       "\n",
       "      max_salary  mid_salary   place exp_years education  \n",
       "926        10000      7500.0  广州-海珠区      1年经验        大专  \n",
       "591        10000      9000.0  广州-天河区    3-4年经验        本科  \n",
       "1978       30000     22500.0  广州-黄埔区    5-7年经验        本科  \n",
       "1502       20000     17500.0  广州-海珠区    3-4年经验        大专  \n",
       "1646        6000      5500.0  广州-海珠区      1年经验        本科  "
      ]
     },
     "execution_count": 16,
     "metadata": {},
     "output_type": "execute_result"
    }
   ],
   "source": [
    "df = df.drop('job_info', axis=1)\n",
    "df.sample(5)"
   ]
  },
  {
   "cell_type": "code",
   "execution_count": 17,
   "metadata": {},
   "outputs": [
    {
     "data": {
      "text/plain": [
       "(2240, 15)"
      ]
     },
     "execution_count": 17,
     "metadata": {},
     "output_type": "execute_result"
    }
   ],
   "source": [
    "# 筛选掉非广州地区的\n",
    "df = df[df['place'].str.startswith('广州')]\n",
    "df.shape"
   ]
  },
  {
   "cell_type": "code",
   "execution_count": 18,
   "metadata": {},
   "outputs": [
    {
     "data": {
      "text/plain": [
       "(1354,)"
      ]
     },
     "execution_count": 18,
     "metadata": {},
     "output_type": "execute_result"
    }
   ],
   "source": [
    "# 检查其它数据\n",
    "df['company_name'].unique().shape"
   ]
  },
  {
   "cell_type": "code",
   "execution_count": 19,
   "metadata": {},
   "outputs": [
    {
     "data": {
      "text/plain": [
       "(1429,)"
      ]
     },
     "execution_count": 19,
     "metadata": {},
     "output_type": "execute_result"
    }
   ],
   "source": [
    "df['job_name'].unique().shape"
   ]
  },
  {
   "cell_type": "code",
   "execution_count": 20,
   "metadata": {},
   "outputs": [
    {
     "data": {
      "text/plain": [
       "(639,)"
      ]
     },
     "execution_count": 20,
     "metadata": {},
     "output_type": "execute_result"
    }
   ],
   "source": [
    "df['job_category'].unique().shape"
   ]
  },
  {
   "cell_type": "code",
   "execution_count": 23,
   "metadata": {},
   "outputs": [
    {
     "data": {
      "text/plain": [
       "(314,)"
      ]
     },
     "execution_count": 23,
     "metadata": {},
     "output_type": "execute_result"
    }
   ],
   "source": [
    "df['company_industry'] = df['company_industry'].str.replace('\\r',\n",
    "                                                            '').str.replace(\n",
    "                                                                ' ', '')\n",
    "df['company_industry'] = df['company_industry'].str.replace('\\n', ',')\n",
    "df['company_industry'].unique().shape"
   ]
  },
  {
   "cell_type": "code",
   "execution_count": 24,
   "metadata": {},
   "outputs": [],
   "source": [
    "df.to_csv(r'python_jobs_format.csv', index=False)"
   ]
  },
  {
   "cell_type": "markdown",
   "metadata": {},
   "source": [
    " - 2240职位名，1460公司名，1517工作名无法作为机器学习的特征\n",
    " - 职位分类和行业经过处理后可能可以作为机器学习的特征\n",
    " - 职位描述特征化，可以产生过多特征，要增加数据行，要采集全国的数据来做完整的机器学习"
   ]
  },
  {
   "cell_type": "markdown",
   "metadata": {},
   "source": [
    "## 数据可视化"
   ]
  },
  {
   "cell_type": "markdown",
   "metadata": {},
   "source": [
    "### 1.公司类型"
   ]
  },
  {
   "cell_type": "code",
   "execution_count": 25,
   "metadata": {},
   "outputs": [],
   "source": [
    "type_sr = df['company_type'].value_counts()"
   ]
  },
  {
   "cell_type": "code",
   "execution_count": 26,
   "metadata": {},
   "outputs": [
    {
     "data": {
      "image/png": "[encoded data removed]",
      "text/plain": [
       "<Figure size 864x864 with 1 Axes>"
      ]
     },
     "metadata": {},
     "output_type": "display_data"
    }
   ],
   "source": [
    "type_sr.plot.pie(figsize=(12, 12), autopct='%.2f%%')\n",
    "plt.title(\"公司类型\")\n",
    "plt.ylabel('')\n",
    "plt.savefig('python_company_type.png', dpi=300, bbox_inches='tight')"
   ]
  },
  {
   "cell_type": "code",
   "execution_count": 27,
   "metadata": {},
   "outputs": [
    {
     "data": {
      "text/plain": [
       "250"
      ]
     },
     "execution_count": 27,
     "metadata": {},
     "output_type": "execute_result"
    }
   ],
   "source": [
    "df[df['company_type'] == '上市公司']['company_type'].count()"
   ]
  },
  {
   "cell_type": "markdown",
   "metadata": {},
   "source": [
    " - 在广州三天的Pytho职位数据中，2240个职位有11%，250家上市公司，算比较多。\n",
    " - 投简历按自己想去的公司类型去投，实在没有面试机会就选上民营，民营公司中什么条件的公司都有。"
   ]
  },
  {
   "cell_type": "markdown",
   "metadata": {},
   "source": [
    "### 2.公司规模"
   ]
  },
  {
   "cell_type": "code",
   "execution_count": 28,
   "metadata": {},
   "outputs": [],
   "source": [
    "size_sr = df['company_size'].value_counts()"
   ]
  },
  {
   "cell_type": "code",
   "execution_count": 29,
   "metadata": {},
   "outputs": [
    {
     "data": {
      "image/png": "[encoded data removed]",
      "text/plain": [
       "<Figure size 864x864 with 1 Axes>"
      ]
     },
     "metadata": {},
     "output_type": "display_data"
    }
   ],
   "source": [
    "size_sr.plot.pie(figsize=(12, 12), autopct='%.2f%%')\n",
    "plt.title(\"公司规模\")\n",
    "plt.ylabel('')\n",
    "plt.savefig('python_company_size.png', dpi=300, bbox_inches='tight')"
   ]
  },
  {
   "cell_type": "code",
   "execution_count": 30,
   "metadata": {},
   "outputs": [
    {
     "data": {
      "text/plain": [
       "0.6201167489896722"
      ]
     },
     "execution_count": 30,
     "metadata": {},
     "output_type": "execute_result"
    }
   ],
   "source": [
    "# 少于500人公司的比例\n",
    "less_500 = df['company_size'].str.contains('少于50人|50-150人|150-500人').mean()\n",
    "less_500"
   ]
  },
  {
   "cell_type": "code",
   "execution_count": 31,
   "metadata": {},
   "outputs": [
    {
     "data": {
      "text/plain": [
       "0.3798832510103278"
      ]
     },
     "execution_count": 31,
     "metadata": {},
     "output_type": "execute_result"
    }
   ],
   "source": [
    "# 大于500人公司的比例\n",
    "1 - less_500"
   ]
  },
  {
   "cell_type": "markdown",
   "metadata": {},
   "source": [
    " - 在广州三天的Pytho职位数据中，一半的公司在50-150人和150-500人之间。\n",
    " - 150人以下的公司对人个而言太小，有38%的公司大于500人，筛选时至少要在150人以上的公司"
   ]
  },
  {
   "cell_type": "markdown",
   "metadata": {},
   "source": [
    "### 3.公司规模"
   ]
  },
  {
   "cell_type": "code",
   "execution_count": 32,
   "metadata": {},
   "outputs": [],
   "source": [
    "place_sr = df['place'].value_counts()"
   ]
  },
  {
   "cell_type": "code",
   "execution_count": 33,
   "metadata": {},
   "outputs": [
    {
     "data": {
      "image/png": "[encoded data removed]",
      "text/plain": [
       "<Figure size 864x864 with 1 Axes>"
      ]
     },
     "metadata": {},
     "output_type": "display_data"
    }
   ],
   "source": [
    "place_sr.plot.pie(figsize=(12, 12), autopct='%.2f%%')\n",
    "plt.title(\"工作所在地\")\n",
    "plt.ylabel('')\n",
    "plt.savefig('python_job_place.png', dpi=300, bbox_inches='tight')"
   ]
  },
  {
   "cell_type": "code",
   "execution_count": 34,
   "metadata": {},
   "outputs": [
    {
     "data": {
      "text/plain": [
       "0.5642857142857143"
      ]
     },
     "execution_count": 34,
     "metadata": {},
     "output_type": "execute_result"
    }
   ],
   "source": [
    "# 核心区工作数量比例\n",
    "core_4 = df['place'].str.contains('广州-天河区|广州-越秀区|广州-荔湾区|广州-海珠区').mean()\n",
    "core_4"
   ]
  },
  {
   "cell_type": "markdown",
   "metadata": {},
   "source": [
    " - 在广州三天的Pytho职位数据中，核心城区4区的职位已经有56%。\n",
    " - 如果加上番禺区和未细分区域的职位已经有很多工作了，没有必要去边远的地方面试。"
   ]
  },
  {
   "cell_type": "markdown",
   "metadata": {},
   "source": [
    "### 4.工作经验要求"
   ]
  },
  {
   "cell_type": "code",
   "execution_count": 35,
   "metadata": {},
   "outputs": [],
   "source": [
    "exp_sr = df['exp_years'].value_counts()"
   ]
  },
  {
   "cell_type": "code",
   "execution_count": 36,
   "metadata": {},
   "outputs": [
    {
     "data": {
      "image/png": "[encoded data removed]",
      "text/plain": [
       "<Figure size 864x864 with 1 Axes>"
      ]
     },
     "metadata": {},
     "output_type": "display_data"
    }
   ],
   "source": [
    "exp_sr.plot.pie(figsize=(12, 12), autopct='%.2f%%')\n",
    "plt.title(\"工作经验要求\")\n",
    "plt.ylabel('')\n",
    "plt.savefig('python_exp_years.png', dpi=300, bbox_inches='tight')"
   ]
  },
  {
   "cell_type": "code",
   "execution_count": 37,
   "metadata": {},
   "outputs": [
    {
     "data": {
      "text/plain": [
       "0.3991071428571429"
      ]
     },
     "execution_count": 37,
     "metadata": {},
     "output_type": "execute_result"
    }
   ],
   "source": [
    "# 写无需经验的，其实内含都有一个经验要求\n",
    "# 1-2年的占比\n",
    "year2 = df['exp_years'].str.contains('1年经验|2年经验').mean()\n",
    "year2"
   ]
  },
  {
   "cell_type": "code",
   "execution_count": 38,
   "metadata": {},
   "outputs": [
    {
     "data": {
      "text/plain": [
       "0.7174107142857142"
      ]
     },
     "execution_count": 38,
     "metadata": {},
     "output_type": "execute_result"
    }
   ],
   "source": [
    "# 1-4年的占比\n",
    "year4 = df['exp_years'].str.contains('1年经验|2年经验|3-4年经验').mean()\n",
    "year4"
   ]
  },
  {
   "cell_type": "markdown",
   "metadata": {},
   "source": [
    " - 在广州三天的Pytho职位数据中，如果工作经验有2年则达到了39%工作的要求，如果工作经验有3年则达到71%工作的要求\n",
    " - 所以通过学习两门微专业，在面试时声称自己的经验有3年是必要的"
   ]
  },
  {
   "cell_type": "markdown",
   "metadata": {},
   "source": [
    "### 5.学历要求"
   ]
  },
  {
   "cell_type": "code",
   "execution_count": 39,
   "metadata": {},
   "outputs": [],
   "source": [
    "edu_sr = df['education'].value_counts()"
   ]
  },
  {
   "cell_type": "code",
   "execution_count": 40,
   "metadata": {},
   "outputs": [
    {
     "data": {
      "image/png": "[encoded data removed]",
      "text/plain": [
       "<Figure size 864x864 with 1 Axes>"
      ]
     },
     "metadata": {},
     "output_type": "display_data"
    }
   ],
   "source": [
    "edu_sr.plot.pie(figsize=(12, 12), autopct='%.2f%%')\n",
    "plt.title(\"工作学历要求\")\n",
    "plt.ylabel('')\n",
    "plt.savefig('python_edu_require.png', dpi=300, bbox_inches='tight')"
   ]
  },
  {
   "cell_type": "markdown",
   "metadata": {},
   "source": [
    " - 在广州三天的Pytho职位数据中，如果有本科学历则达到89%的职位要求。\n",
    " - 没要必要相信HR说公司很多硕士，本科很Low的话。"
   ]
  },
  {
   "cell_type": "markdown",
   "metadata": {},
   "source": [
    "### 6.中位薪酬"
   ]
  },
  {
   "cell_type": "code",
   "execution_count": 41,
   "metadata": {},
   "outputs": [
    {
     "data": {
      "text/plain": [
       "14460.595535714287"
      ]
     },
     "execution_count": 41,
     "metadata": {},
     "output_type": "execute_result"
    }
   ],
   "source": [
    "# 中位薪酬的平均数\n",
    "df['mid_salary'].mean()"
   ]
  },
  {
   "cell_type": "code",
   "execution_count": 42,
   "metadata": {},
   "outputs": [
    {
     "data": {
      "text/plain": [
       "100000.0"
      ]
     },
     "execution_count": 42,
     "metadata": {},
     "output_type": "execute_result"
    }
   ],
   "source": [
    "# 中位薪酬的最大值\n",
    "df['mid_salary'].max()"
   ]
  },
  {
   "cell_type": "code",
   "execution_count": 43,
   "metadata": {},
   "outputs": [
    {
     "data": {
      "text/plain": [
       "1500.0"
      ]
     },
     "execution_count": 43,
     "metadata": {},
     "output_type": "execute_result"
    }
   ],
   "source": [
    "# 中位薪酬的最小值\n",
    "df['mid_salary'].min()"
   ]
  },
  {
   "cell_type": "code",
   "execution_count": 44,
   "metadata": {},
   "outputs": [
    {
     "data": {
      "text/plain": [
       "12500.0"
      ]
     },
     "execution_count": 44,
     "metadata": {},
     "output_type": "execute_result"
    }
   ],
   "source": [
    "# 中位薪酬的中位数\n",
    "df['mid_salary'].median()"
   ]
  },
  {
   "cell_type": "code",
   "execution_count": 45,
   "metadata": {},
   "outputs": [
    {
     "data": {
      "text/plain": [
       "12500.0"
      ]
     },
     "execution_count": 45,
     "metadata": {},
     "output_type": "execute_result"
    }
   ],
   "source": [
    "# 中位薪酬的众数\n",
    "df['mid_salary'].mode()[0]"
   ]
  },
  {
   "cell_type": "code",
   "execution_count": 46,
   "metadata": {},
   "outputs": [
    {
     "data": {
      "text/plain": [
       "<matplotlib.axes._subplots.AxesSubplot at 0x255477d4188>"
      ]
     },
     "execution_count": 46,
     "metadata": {},
     "output_type": "execute_result"
    },
    {
     "data": {
      "image/png": "[encoded data removed]",
      "text/plain": [
       "<Figure size 432x288 with 1 Axes>"
      ]
     },
     "metadata": {
      "needs_background": "light"
     },
     "output_type": "display_data"
    }
   ],
   "source": [
    "df['mid_salary'].hist(bins=100)"
   ]
  },
  {
   "cell_type": "code",
   "execution_count": 47,
   "metadata": {},
   "outputs": [],
   "source": [
    "# 离散数据处理\n",
    "df[df['mid_salary'] > 40000] = 40000"
   ]
  },
  {
   "cell_type": "code",
   "execution_count": 48,
   "metadata": {},
   "outputs": [
    {
     "data": {
      "image/png": "[encoded data removed]",
      "text/plain": [
       "<Figure size 864x432 with 1 Axes>"
      ]
     },
     "metadata": {
      "needs_background": "light"
     },
     "output_type": "display_data"
    }
   ],
   "source": [
    "#  matplotlib.axes.Axes.hist() 方法的接口\n",
    "plt.figure(figsize=(12, 6))\n",
    "n, bins, patches = plt.hist(x=df['mid_salary'],\n",
    "                            bins=40,\n",
    "                            color='#0504aa',\n",
    "                            alpha=0.7,\n",
    "                            rwidth=0.85)\n",
    "plt.grid(axis='y', alpha=0.75)\n",
    "plt.xlabel('薪酬')\n",
    "plt.ylabel('频率')\n",
    "plt.title('中位薪酬直方图')\n",
    "\n",
    "# 设置y轴的上限\n",
    "maxfreq = n.max()\n",
    "plt.ylim(ymax=np.ceil(maxfreq / 10) * 10 if maxfreq % 10 else maxfreq + 10)\n",
    "plt.savefig('python_salary_hist.png', dpi=300, bbox_inches='tight')"
   ]
  },
  {
   "cell_type": "markdown",
   "metadata": {},
   "source": [
    " - 薪酬在后台设置中有几个默认区间的，这导致通过区间最高薪酬最低薪酬计算出来的中位薪酬形成几个跳增点，分别是13000元、17000元、22000元。\n",
    " - 根据自己的能力和面试情况，谈薪酬可以这样跳动价格13000、15000、18000、20000、23000、25000元。"
   ]
  },
  {
   "cell_type": "code",
   "execution_count": 49,
   "metadata": {},
   "outputs": [
    {
     "data": {
      "image/png": "[encoded data removed]",
      "text/plain": [
       "<Figure size 864x432 with 1 Axes>"
      ]
     },
     "metadata": {
      "needs_background": "light"
     },
     "output_type": "display_data"
    }
   ],
   "source": [
    "fig, ax = plt.subplots(figsize=(12, 6))\n",
    "df['mid_salary'].plot.kde(ax=ax, legend=False, title='中位薪酬概率密度图与直方图')\n",
    "df['mid_salary'].plot.hist(density=True, ax=ax, bins=40)\n",
    "ax.set_ylabel('概率')\n",
    "ax.set_xlabel('薪酬')\n",
    "ax.set_xlim([0, 40000])\n",
    "ax.grid(axis='y')\n",
    "fig = plt.gcf()\n",
    "fig.savefig('python_salary_kde.png', dpi=300, bbox_inches='tight')"
   ]
  },
  {
   "cell_type": "code",
   "execution_count": 53,
   "metadata": {},
   "outputs": [
    {
     "data": {
      "application/vnd.plotly.v1+json": {
       "config": {
        "linkText": "Export to plot.ly",
        "plotlyServerURL": "https://plot.ly",
        "showLink": false
       },
       "data": [
        {
         "cumulative": {
          "enabled": true
         },
         "type": "histogram",
         "x": [
          2500,
          11000,
          20500,
          7000,
          8000,
          8500,
          7500,
          6500,
          11000,
          8000,
          9500,
          12500,
          15000,
          8500,
          10500,
          9500,
          12500,
          12500,
          20000,
          9166.5,
          4000,
          16500,
          12500,
          11500,
          15000,
          13500,
          17500,
          9500,
          14000,
          14500,
          20000,
          27500,
          22500,
          23000,
          7000,
          35000,
          40000,
          17500,
          9000,
          17500,
          17500,
          7000,
          12500,
          14000,
          9000,
          37500,
          29166.5,
          9000,
          4000,
          18500,
          15416.5,
          12500,
          12500,
          8000,
          33333.5,
          12500,
          20000,
          7500,
          15000,
          7000,
          11500,
          7000,
          10000,
          6500,
          18500,
          15000,
          18500,
          22500,
          7500,
          11500,
          23500,
          12000,
          20833.5,
          7000,
          10500,
          12500,
          20000,
          30000,
          20000,
          7000,
          12500,
          8500,
          10000,
          4500,
          11500,
          15000,
          15000,
          10000,
          9000,
          9000,
          24000,
          10000,
          22500,
          30000,
          13500,
          30000,
          12500,
          27500,
          11500,
          6000,
          5000,
          11500,
          9000,
          20833.5,
          10000,
          17500,
          10000,
          8000,
          10000,
          16500,
          17500,
          7500,
          7000,
          33333.5,
          11000,
          12500,
          18000,
          12500,
          9000,
          19000,
          10000,
          10500,
          27500,
          20000,
          17500,
          8000,
          12500,
          25000,
          9000,
          21500,
          17500,
          17500,
          23000,
          9000,
          4000,
          18000,
          16500,
          17500,
          12500,
          11000,
          11500,
          12500,
          9000,
          12000,
          17500,
          12500,
          11500,
          6000,
          17500,
          9000,
          11500,
          15500,
          17500,
          17500,
          6500,
          17500,
          10000,
          10500,
          10500,
          7000,
          11000,
          10000,
          8500,
          10500,
          6000,
          12500,
          9000,
          13000,
          11500,
          15000,
          15000,
          18500,
          9000,
          30000,
          12500,
          16000,
          11500,
          7500,
          7000,
          7000,
          20000,
          20000,
          6500,
          14000,
          12500,
          25000,
          11500,
          11500,
          10000,
          11500,
          7000,
          10500,
          22500,
          14167,
          25000,
          20000,
          12500,
          5250,
          6500,
          20000,
          10000,
          14000,
          12500,
          15000,
          13500,
          16500,
          9000,
          3500,
          9000,
          22500,
          10000,
          14000,
          15417,
          24000,
          6000,
          14000,
          15000,
          11500,
          12500,
          20000,
          17500,
          12500,
          11500,
          14000,
          9500,
          17500,
          10416.5,
          12000,
          10500,
          20000,
          11000,
          10500,
          6500,
          29166.5,
          12500,
          15000,
          13333.5,
          32500,
          9000,
          12500,
          5250,
          9500,
          5000,
          9000,
          22500,
          8500,
          3500,
          9000,
          14583.5,
          5500,
          14500,
          15000,
          27500,
          7500,
          8000,
          7000,
          9000,
          20000,
          17500,
          6500,
          11500,
          11500,
          12500,
          10416.5,
          8000,
          9000,
          12500,
          6500,
          11000,
          16000,
          12500,
          15500,
          5000,
          7000,
          13500,
          20000,
          17500,
          11000,
          6000,
          12500,
          12500,
          17500,
          14000,
          6000,
          7500,
          11500,
          10000,
          22500,
          17500,
          5250,
          10000,
          18000,
          27500,
          3750,
          17500,
          35000,
          15000,
          10500,
          22500,
          8333.5,
          8500,
          17916.5,
          12000,
          17500,
          5250,
          17500,
          12500,
          12500,
          7000,
          6000,
          7000,
          6000,
          5250,
          12500,
          22500,
          40000,
          6000,
          9000,
          7000,
          7000,
          9000,
          12500,
          22500,
          7000,
          9000,
          14000,
          20000,
          22500,
          6000,
          8000,
          5250,
          30000,
          9000,
          22500,
          17500,
          10500,
          5000,
          17500,
          35000,
          6000,
          20000,
          17500,
          7000,
          13000,
          17000,
          9000,
          12000,
          9000,
          15000,
          30000,
          17500,
          25000,
          12500,
          37500,
          6000,
          9000,
          14000,
          10500,
          7000,
          12500,
          30000,
          20000,
          12500,
          12500,
          8000,
          20000,
          17500,
          12500,
          9000,
          17500,
          20833.5,
          8000,
          7000,
          9000,
          12500,
          20000,
          17500,
          15000,
          30000,
          10000,
          12500,
          32500,
          12500,
          8500,
          8000,
          14583.5,
          8000,
          12500,
          8500,
          10000,
          12500,
          7500,
          10500,
          35000,
          15000,
          16000,
          10500,
          21500,
          20500,
          9000,
          12500,
          9000,
          16666.5,
          16000,
          12500,
          15000,
          12500,
          17500,
          22500,
          7500,
          19000,
          13500,
          30000,
          18750,
          5250,
          7000,
          12500,
          6500,
          17500,
          9500,
          6250,
          9000,
          9000,
          2500,
          17500,
          12500,
          22500,
          12500,
          7500,
          12500,
          19583.5,
          5000,
          7000,
          17500,
          9000,
          10416.5,
          9000,
          8000,
          13750,
          17500,
          8500,
          12500,
          9000,
          16500,
          17500,
          10416.5,
          4000,
          22500,
          22500,
          17500,
          10000,
          8000,
          15000,
          18500,
          7000,
          9500,
          22500,
          9000,
          10500,
          20000,
          8000,
          9000,
          10500,
          10500,
          14000,
          11500,
          10000,
          17500,
          13500,
          19000,
          16000,
          27500,
          12500,
          12000,
          7500,
          12500,
          11500,
          12500,
          17500,
          14583,
          40000,
          6750,
          12500,
          22500,
          14000,
          12500,
          17500,
          9000,
          20000,
          15000,
          7000,
          17500,
          15833.5,
          22500,
          12500,
          17500,
          12500,
          9000,
          7000,
          5250,
          9500,
          13500,
          8000,
          22500,
          14000,
          6500,
          15000,
          9000,
          16000,
          9000,
          8000,
          8500,
          9000,
          20000,
          15000,
          16000,
          20000,
          5500,
          7000,
          15000,
          9000,
          30000,
          8500,
          4500,
          8500,
          11500,
          15000,
          7500,
          4250,
          14000,
          8000,
          10000,
          7500,
          16000,
          17500,
          7000,
          12500,
          9000,
          10000,
          3150,
          40000,
          40000,
          2500,
          3750,
          2250,
          1750,
          1750,
          2500,
          40000,
          7000,
          3750,
          35000,
          7000,
          29166.5,
          22500,
          8000,
          7500,
          17500,
          15000,
          10500,
          11500,
          12500,
          12500,
          12500,
          7000,
          12500,
          15000,
          6500,
          7000,
          11000,
          10000,
          10500,
          11500,
          11500,
          10416.5,
          11500,
          10000,
          11500,
          8500,
          9000,
          7000,
          12500,
          16500,
          20000,
          12500,
          12500,
          14000,
          12500,
          11000,
          12500,
          9000,
          11500,
          15000,
          22500,
          23500,
          20000,
          12500,
          8000,
          12500,
          17500,
          20000,
          9000,
          10000,
          7500,
          15000,
          12500,
          12500,
          15000,
          9000,
          9000,
          15500,
          9000,
          9000,
          11500,
          30000,
          16000,
          8000,
          16500,
          10000,
          10000,
          15500,
          7000,
          15000,
          18500,
          12500,
          9000,
          12500,
          12000,
          20000,
          10000,
          7500,
          11500,
          9000,
          11500,
          20000,
          5250,
          14583.5,
          11500,
          9000,
          11500,
          8000,
          5500,
          9000,
          11000,
          22500,
          12500,
          17500,
          12500,
          8000,
          12500,
          9000,
          7000,
          11000,
          15000,
          9000,
          15000,
          22500,
          17500,
          12500,
          11000,
          9000,
          29167,
          25000,
          32500,
          16500,
          32500,
          32500,
          15000,
          9000,
          12500,
          22500,
          15000,
          6500,
          20000,
          5500,
          3000,
          9000,
          9000,
          16000,
          22500,
          21500,
          15500,
          21500,
          12500,
          9000,
          40000,
          16000,
          27500,
          37500,
          19000,
          12500,
          35000,
          20000,
          26500,
          40000,
          20000,
          15000,
          12500,
          8000,
          9500,
          6500,
          6000,
          12500,
          11500,
          11000,
          6500,
          11500,
          13500,
          17500,
          12500,
          7500,
          15000,
          22500,
          22500,
          22500,
          22500,
          22500,
          22500,
          22500,
          22500,
          17500,
          22500,
          22500,
          22500,
          22500,
          22500,
          22500,
          35000,
          22500,
          22500,
          22500,
          22500,
          22500,
          22500,
          22500,
          22500,
          22500,
          22500,
          27500,
          27500,
          22500,
          22500,
          22500,
          12500,
          22500,
          22500,
          13000,
          40000,
          12500,
          17500,
          17500,
          12500,
          27500,
          22500,
          17500,
          22500,
          17500,
          22500,
          25000,
          20000,
          20000,
          29166.5,
          22500,
          17500,
          22500,
          17500,
          20000,
          27500,
          17500,
          22500,
          17500,
          10500,
          6500,
          24000,
          25000,
          25000,
          17500,
          25000,
          11500,
          20000,
          12500,
          22500,
          40000,
          9000,
          10500,
          22500,
          10000,
          8000,
          20000,
          22500,
          30000,
          8500,
          15000,
          30000,
          30000,
          40000,
          30000,
          30000,
          30000,
          37500,
          40000,
          7000,
          9000,
          10500,
          9000,
          26500,
          10500,
          20000,
          11500,
          25000,
          20000,
          12500,
          20000,
          13500,
          20000,
          20000,
          12500,
          12500,
          27500,
          10000,
          10000,
          10000,
          10000,
          15000,
          11500,
          15000,
          16000,
          8000,
          12500,
          12500,
          12500,
          6500,
          8000,
          10000,
          10500,
          10500,
          15000,
          27500,
          21500,
          12500,
          27500,
          16000,
          11500,
          10500,
          22500,
          12500,
          9000,
          12500,
          9000,
          12500,
          17500,
          12500,
          12500,
          22500,
          40000,
          22500,
          10000,
          22500,
          12500,
          8000,
          14000,
          10000,
          16000,
          12500,
          11500,
          7500,
          13000,
          17500,
          17500,
          17500,
          12500,
          15000,
          22500,
          22500,
          22500,
          30000,
          30000,
          22500,
          15000,
          22500,
          15000,
          13500,
          8000,
          13000,
          14000,
          9000,
          9000,
          20000,
          33333.5,
          27500,
          10500,
          22500,
          9000,
          22500,
          23000,
          10500,
          25000,
          25000,
          4250,
          17500,
          30000,
          17500,
          22500,
          15000,
          17500,
          17500,
          12500,
          11000,
          12500,
          7500,
          15000,
          9000,
          12500,
          20000,
          20500,
          10000,
          8000,
          16000,
          13500,
          12500,
          6500,
          9500,
          10000,
          20000,
          17500,
          12500,
          12500,
          13000,
          32500,
          11500,
          12500,
          20000,
          6000,
          15000,
          12000,
          12000,
          8000,
          11000,
          30000,
          3750,
          17500,
          22500,
          17500,
          7000,
          8000,
          9000,
          7000,
          9000,
          15000,
          9000,
          9000,
          6500,
          11500,
          29166.5,
          5250,
          22500,
          20500,
          17500,
          17500,
          17500,
          12500,
          12500,
          12500,
          6500,
          9000,
          12500,
          9000,
          8000,
          20000,
          9000,
          25000,
          10000,
          12500,
          37500,
          8000,
          15000,
          25000,
          9000,
          16500,
          16000,
          20000,
          17500,
          20000,
          11500,
          10000,
          35000,
          27500,
          22500,
          37500,
          27500,
          11000,
          37500,
          6500,
          9000,
          17500,
          7000,
          10000,
          20000,
          11000,
          26500,
          22500,
          7000,
          11500,
          20000,
          30000,
          10000,
          15000,
          14000,
          20000,
          14500,
          16500,
          24000,
          24000,
          11500,
          27500,
          9000,
          18000,
          15000,
          17500,
          15000,
          7000,
          16000,
          9000,
          8500,
          15000,
          12500,
          11500,
          5250,
          12500,
          5250,
          11500,
          40000,
          10000,
          10500,
          20000,
          15000,
          15000,
          25000,
          8000,
          22500,
          11000,
          19000,
          12500,
          32500,
          3500,
          22500,
          26000,
          3500,
          22500,
          30000,
          17500,
          17500,
          19000,
          17500,
          19000,
          25000,
          19000,
          19000,
          15000,
          19000,
          19000,
          19000,
          22500,
          30000,
          21000,
          11000,
          7000,
          17500,
          25000,
          17500,
          6000,
          6000,
          20000,
          12500,
          11000,
          7000,
          11000,
          22500,
          12500,
          17000,
          17000,
          12500,
          22500,
          21500,
          20000,
          12500,
          12500,
          12000,
          11500,
          17500,
          15000,
          21000,
          17500,
          15000,
          15000,
          11500,
          8000,
          9000,
          15000,
          8500,
          10000,
          15000,
          8000,
          22500,
          22500,
          15000,
          17500,
          6000,
          12500,
          22500,
          17500,
          22500,
          15500,
          15500,
          27500,
          22500,
          9000,
          10500,
          9000,
          10000,
          15000,
          9000,
          12500,
          6000,
          12500,
          12500,
          15500,
          17500,
          8000,
          22500,
          17500,
          20000,
          14000,
          9000,
          15000,
          14000,
          14000,
          8500,
          6500,
          9000,
          9000,
          22500,
          9000,
          22500,
          12500,
          7000,
          7500,
          25000,
          20000,
          6500,
          18000,
          18000,
          25000,
          18000,
          12500,
          14500,
          11500,
          22500,
          25000,
          20000,
          40000,
          11500,
          7500,
          10000,
          25000,
          9000,
          10000,
          10000,
          10000,
          10000,
          15000,
          12500,
          12500,
          17500,
          25000,
          21500,
          22500,
          27500,
          22500,
          20000,
          12500,
          22500,
          14000,
          8000,
          18000,
          20000,
          18000,
          20000,
          18500,
          12500,
          16000,
          16000,
          16000,
          16000,
          11500,
          10500,
          25000,
          15500,
          19500,
          15500,
          20000,
          10500,
          12500,
          27500,
          30000,
          30000,
          2500,
          7000,
          6541.5,
          12500,
          20000,
          13000,
          15000,
          7000,
          19000,
          13500,
          16000,
          11000,
          14000,
          12500,
          8500,
          12500,
          15500,
          6000,
          15500,
          20000,
          9000,
          11500,
          10500,
          17500,
          24000,
          11500,
          9000,
          20000,
          11500,
          21500,
          11500,
          20000,
          18500,
          7500,
          19000,
          14000,
          11500,
          9000,
          11500,
          17500,
          12500,
          14500,
          11500,
          17500,
          15000,
          40000,
          25000,
          22500,
          12500,
          11500,
          10000,
          20000,
          22500,
          15000,
          10000,
          30000,
          17500,
          22500,
          17500,
          14000,
          17500,
          25000,
          40000,
          6000,
          9000,
          9000,
          13000,
          7500,
          7500,
          11000,
          7500,
          9000,
          15000,
          14000,
          17500,
          15000,
          25000,
          20000,
          12500,
          12500,
          22500,
          17500,
          27500,
          7500,
          21500,
          13500,
          13500,
          13500,
          9000,
          17500,
          16500,
          17500,
          17500,
          7000,
          40000,
          7000,
          12500,
          9000,
          11500,
          12000,
          12500,
          27500,
          30000,
          15000,
          10500,
          13500,
          13500,
          25000,
          17500,
          20000,
          20000,
          9000,
          35000,
          9000,
          11500,
          9500,
          14500,
          25500,
          18000,
          14500,
          15500,
          12500,
          7500,
          17500,
          20833.5,
          9500,
          15000,
          9000,
          17500,
          25000,
          12500,
          12500,
          11500,
          15000,
          22500,
          21000,
          9500,
          9000,
          7000,
          7000,
          17500,
          8000,
          25000,
          12500,
          17500,
          11500,
          12500,
          8000,
          21500,
          12500,
          9500,
          22500,
          4000,
          15000,
          15000,
          9000,
          14000,
          8500,
          12500,
          10000,
          17500,
          10000,
          9000,
          11500,
          11000,
          8500,
          17500,
          9000,
          6500,
          11000,
          16000,
          12000,
          11000,
          11000,
          6250,
          8750,
          8000,
          7000,
          10000,
          10000,
          5250,
          9000,
          12500,
          11500,
          30000,
          11500,
          12500,
          20000,
          12000,
          11500,
          12500,
          7000,
          22500,
          15000,
          12500,
          15500,
          9000,
          16000,
          12000,
          9000,
          9000,
          15000,
          10000,
          18500,
          6000,
          9000,
          12500,
          11000,
          2500,
          12000,
          17500,
          20000,
          27500,
          7500,
          10000,
          10000,
          25000,
          11500,
          14000,
          10500,
          15500,
          12500,
          17500,
          12500,
          10000,
          12500,
          11500,
          16000,
          25000,
          12500,
          12500,
          12500,
          9000,
          12500,
          10000,
          7000,
          9500,
          9000,
          7000,
          17500,
          22500,
          12500,
          10000,
          13500,
          30000,
          11500,
          12500,
          17500,
          25000,
          10000,
          12500,
          7000,
          10500,
          22500,
          15000,
          17500,
          11500,
          12500,
          22500,
          7500,
          17500,
          12500,
          20000,
          20000,
          25000,
          25000,
          4400,
          16000,
          17500,
          6000,
          16000,
          9000,
          9000,
          13000,
          12500,
          7500,
          4400,
          26500,
          6000,
          9000,
          20000,
          10416.5,
          10000,
          11000,
          16666.5,
          14000,
          10000,
          8500,
          12500,
          8000,
          15000,
          17500,
          8500,
          12500,
          15000,
          11000,
          37500,
          6000,
          8000,
          11500,
          27500,
          9000,
          17500,
          19000,
          7500,
          22500,
          12500,
          14000,
          12500,
          17500,
          11500,
          5000,
          11500,
          9000,
          8500,
          6500,
          20000,
          14000,
          10416.5,
          8000,
          10000,
          14500,
          5500,
          15000,
          7000,
          17500,
          15000,
          9000,
          10000,
          7000,
          12500,
          17500,
          16000,
          7000,
          11500,
          11500,
          4500,
          11500,
          8000,
          10500,
          11000,
          11500,
          21500,
          9000,
          10000,
          9000,
          15000,
          18500,
          6000,
          16000,
          35000,
          10000,
          13000,
          15500,
          12500,
          27500,
          12500,
          9500,
          9000,
          11500,
          30000,
          10000,
          9000,
          7000,
          15000,
          10500,
          10500,
          22917,
          15500,
          12000,
          8000,
          12500,
          15500,
          7500,
          7500,
          21500,
          10000,
          10500,
          12500,
          10500,
          12500,
          8333.5,
          7500,
          12000,
          20000,
          15000,
          8000,
          12500,
          17500,
          18000,
          17500,
          10000,
          20000,
          27500,
          20833.5,
          10500,
          11500,
          12500,
          11500,
          12500,
          17500,
          12500,
          11000,
          15000,
          9000,
          20000,
          9000,
          22500,
          9000,
          9000,
          17500,
          7000,
          34000,
          14000,
          10416.5,
          8000,
          20000,
          12500,
          22500,
          12500,
          3750,
          10000,
          14500,
          7000,
          6000,
          20000,
          15000,
          17500,
          14583.5,
          11500,
          9000,
          7000,
          10000,
          17500,
          9000,
          15000,
          27500,
          11500,
          21500,
          11500,
          10000,
          11500,
          18000,
          7000,
          9500,
          12500,
          11500,
          9000,
          9000,
          9000,
          7000,
          9500,
          7000,
          12500,
          30000,
          11500,
          12500,
          12500,
          13000,
          4250,
          22500,
          21500,
          12500,
          6500,
          6000,
          30000,
          25000,
          7500,
          18500,
          11500,
          8000,
          20000,
          22500,
          4250,
          22500,
          12500,
          12500,
          25000,
          17500,
          9000,
          17500,
          10000,
          12500,
          7250,
          17500,
          35000,
          12500,
          12000,
          8500,
          10500,
          5250,
          20000,
          11500,
          5250,
          9000,
          12500,
          18500,
          7500,
          8500,
          7500,
          13000,
          17000,
          12500,
          7000,
          20833.5,
          11500,
          10500,
          20000,
          9000,
          9500,
          18750,
          22500,
          11000,
          10500,
          7000,
          35000,
          7000,
          22500,
          15000,
          10000,
          15000,
          17500,
          20000,
          8000,
          37500,
          11500,
          14000,
          10416.5,
          12500,
          15000,
          20000,
          6500,
          17500,
          10000,
          27500,
          17500,
          12500,
          3750,
          9000,
          15000,
          11500,
          15000,
          17500,
          5000,
          25000,
          11500,
          9500,
          16000,
          21500,
          12500,
          20000,
          9000,
          10000,
          7000,
          25000,
          27500,
          9500,
          12500,
          5250,
          7000,
          11000,
          10500,
          6000,
          8000,
          11500,
          15000,
          20000,
          24000,
          6000,
          35000,
          16000,
          10500,
          20000,
          12500,
          21500,
          17500,
          7000,
          30000,
          19000,
          14000,
          18000,
          12500,
          22500,
          8500,
          12000,
          9000,
          20000,
          11500,
          9000,
          20000,
          9000,
          6500,
          10500,
          16000,
          11500,
          7000,
          21000,
          12500,
          7000,
          22000,
          10000,
          7000,
          10000,
          12500,
          7000,
          8500,
          15000,
          6000,
          13000,
          7500,
          12500,
          12500,
          37500,
          7000,
          9000,
          12500,
          5250,
          6500,
          10000,
          8000,
          17500,
          15000,
          14000,
          12500,
          27500,
          7000,
          14000,
          14000,
          8000,
          7000,
          15000,
          11500,
          12000,
          7500,
          12500,
          11000,
          10000,
          9000,
          12500,
          6500,
          22500,
          17000,
          16000,
          21500,
          15000,
          12500,
          11500,
          25000,
          22500,
          7500,
          15000,
          12500,
          9500,
          11000,
          5000,
          17500,
          7500,
          20833.5,
          10000,
          9000,
          15000,
          6250,
          10000,
          8000,
          10000,
          35000,
          9000,
          7000,
          9500,
          12500,
          17500,
          7000,
          12500,
          10000,
          9000,
          7000,
          20000,
          14000,
          20833,
          20000,
          12500,
          16500,
          15500,
          11500,
          3750,
          15000,
          13500,
          22500,
          10000,
          19000,
          12500,
          22500,
          7000,
          15000,
          11500,
          40000,
          17500,
          5000,
          20000,
          9000,
          15000,
          10000,
          12500,
          12500,
          12500,
          14583.5,
          14000,
          13500,
          12500,
          7500,
          10000,
          7500,
          7000,
          12500,
          2500,
          9000,
          12500,
          9000,
          12500,
          12500,
          7500,
          7500,
          15000,
          20000,
          11500,
          12500,
          17500,
          20000,
          7000,
          13500,
          9000,
          6500,
          17500,
          12500,
          12500,
          20000,
          15500,
          15500,
          11500,
          14000,
          7000,
          12500,
          14000,
          17500,
          17500,
          17000,
          4000,
          10000,
          7000,
          11000,
          9000,
          9000,
          10500,
          11500,
          9000,
          18750,
          20000,
          22500,
          16500,
          37500,
          9000,
          12500,
          11500,
          11500,
          9000,
          15000,
          30000,
          12500,
          17500,
          10500,
          37500,
          6000,
          11500,
          7500,
          7000,
          17000,
          10000,
          9500,
          12500,
          9000,
          7000,
          27500,
          10416.5,
          6500,
          9000,
          7000,
          12000,
          7000,
          5250,
          11000,
          19000,
          5750,
          15000,
          7500,
          10000,
          8500,
          10416.5,
          12500,
          11500,
          17500,
          29166.5,
          9000,
          20000,
          15000,
          8000,
          10000,
          7000,
          5500,
          11500,
          7500,
          9000,
          11500,
          12500,
          13500,
          14000,
          10416.5,
          10000,
          6500,
          16500,
          17500,
          7000,
          9000,
          11500,
          10000,
          12500,
          12500,
          12500,
          22500,
          15000,
          9000,
          7500,
          7000,
          10500,
          10000,
          10416.5,
          4750,
          7000,
          9000,
          12500,
          7000,
          18500,
          9000,
          12500,
          27500,
          18500,
          9500,
          10000,
          15000,
          12500,
          12500,
          27500,
          15000,
          9000,
          9000,
          15000,
          7000,
          12500,
          12500,
          8500,
          12500,
          12500,
          9500,
          10000,
          16000,
          9500,
          15000,
          7000,
          9000,
          7000,
          6500,
          22500,
          12500,
          8000,
          13000,
          15000,
          18500,
          12500,
          12500,
          7500,
          19375,
          12500,
          7000,
          22500,
          30000,
          12500,
          9000,
          15000,
          35000,
          11000,
          25000,
          17500,
          19500,
          9000,
          12500,
          12500,
          1500,
          14500,
          17500,
          25000,
          10000,
          13500,
          17500,
          37500,
          40000,
          7500,
          12500,
          19500,
          11500,
          8000,
          15000,
          6500,
          5250,
          17500,
          2500,
          10000,
          15000,
          33333.5,
          14500,
          10416.5,
          15000,
          15000,
          9000,
          22500,
          17500,
          13750,
          7000,
          11000,
          10000,
          11000,
          12500,
          7000,
          14500,
          17500,
          9000,
          13500,
          3750,
          7000,
          10416.5,
          25000,
          8333.5,
          10416.5,
          9000,
          27000,
          20000,
          7000,
          25000,
          7200,
          35000,
          22500,
          8000,
          20000,
          15000,
          18500,
          12500,
          12500,
          9000,
          17500,
          7500,
          12500,
          20000,
          17500,
          12000,
          5500,
          15000,
          8000,
          15000,
          12500,
          7000,
          6250,
          13000,
          14500,
          10000,
          20000,
          15000,
          15500,
          10000,
          12500,
          25000,
          8000,
          15000,
          11500,
          20000,
          5500,
          15000,
          20000,
          25000,
          14583.5,
          7000,
          22500,
          12500,
          20000,
          13500,
          7000,
          14000,
          9000,
          22500,
          9583.5,
          20000,
          9000,
          12500,
          17500,
          15000,
          22500,
          9000,
          9000,
          7500,
          12500,
          10000,
          8000,
          12500,
          5000,
          40000,
          15000,
          7500,
          8250,
          11500,
          15000,
          15000,
          20000,
          27500,
          9000,
          11500,
          11500,
          13000,
          14583.5,
          9500,
          10000,
          17500,
          12500,
          12500,
          10000,
          14500,
          10000,
          12500
         ]
        }
       ],
       "layout": {
        "autosize": true,
        "template": {
         "data": {
          "bar": [
           {
            "error_x": {
             "color": "#2a3f5f"
            },
            "error_y": {
             "color": "#2a3f5f"
            },
            "marker": {
             "line": {
              "color": "#E5ECF6",
              "width": 0.5
             }
            },
            "type": "bar"
           }
          ],
          "barpolar": [
           {
            "marker": {
             "line": {
              "color": "#E5ECF6",
              "width": 0.5
             }
            },
            "type": "barpolar"
           }
          ],
          "carpet": [
           {
            "aaxis": {
             "endlinecolor": "#2a3f5f",
             "gridcolor": "white",
             "linecolor": "white",
             "minorgridcolor": "white",
             "startlinecolor": "#2a3f5f"
            },
            "baxis": {
             "endlinecolor": "#2a3f5f",
             "gridcolor": "white",
             "linecolor": "white",
             "minorgridcolor": "white",
             "startlinecolor": "#2a3f5f"
            },
            "type": "carpet"
           }
          ],
          "choropleth": [
           {
            "colorbar": {
             "outlinewidth": 0,
             "ticks": ""
            },
            "type": "choropleth"
           }
          ],
          "contour": [
           {
            "colorbar": {
             "outlinewidth": 0,
             "ticks": ""
            },
            "colorscale": [
             [
              0,
              "#0d0887"
             ],
             [
              0.1111111111111111,
              "#46039f"
             ],
             [
              0.2222222222222222,
              "#7201a8"
             ],
             [
              0.3333333333333333,
              "#9c179e"
             ],
             [
              0.4444444444444444,
              "#bd3786"
             ],
             [
              0.5555555555555556,
              "#d8576b"
             ],
             [
              0.6666666666666666,
              "#ed7953"
             ],
             [
              0.7777777777777778,
              "#fb9f3a"
             ],
             [
              0.8888888888888888,
              "#fdca26"
             ],
             [
              1,
              "#f0f921"
             ]
            ],
            "type": "contour"
           }
          ],
          "contourcarpet": [
           {
            "colorbar": {
             "outlinewidth": 0,
             "ticks": ""
            },
            "type": "contourcarpet"
           }
          ],
          "heatmap": [
           {
            "colorbar": {
             "outlinewidth": 0,
             "ticks": ""
            },
            "colorscale": [
             [
              0,
              "#0d0887"
             ],
             [
              0.1111111111111111,
              "#46039f"
             ],
             [
              0.2222222222222222,
              "#7201a8"
             ],
             [
              0.3333333333333333,
              "#9c179e"
             ],
             [
              0.4444444444444444,
              "#bd3786"
             ],
             [
              0.5555555555555556,
              "#d8576b"
             ],
             [
              0.6666666666666666,
              "#ed7953"
             ],
             [
              0.7777777777777778,
              "#fb9f3a"
             ],
             [
              0.8888888888888888,
              "#fdca26"
             ],
             [
              1,
              "#f0f921"
             ]
            ],
            "type": "heatmap"
           }
          ],
          "heatmapgl": [
           {
            "colorbar": {
             "outlinewidth": 0,
             "ticks": ""
            },
            "colorscale": [
             [
              0,
              "#0d0887"
             ],
             [
              0.1111111111111111,
              "#46039f"
             ],
             [
              0.2222222222222222,
              "#7201a8"
             ],
             [
              0.3333333333333333,
              "#9c179e"
             ],
             [
              0.4444444444444444,
              "#bd3786"
             ],
             [
              0.5555555555555556,
              "#d8576b"
             ],
             [
              0.6666666666666666,
              "#ed7953"
             ],
             [
              0.7777777777777778,
              "#fb9f3a"
             ],
             [
              0.8888888888888888,
              "#fdca26"
             ],
             [
              1,
              "#f0f921"
             ]
            ],
            "type": "heatmapgl"
           }
          ],
          "histogram": [
           {
            "marker": {
             "colorbar": {
              "outlinewidth": 0,
              "ticks": ""
             }
            },
            "type": "histogram"
           }
          ],
          "histogram2d": [
           {
            "colorbar": {
             "outlinewidth": 0,
             "ticks": ""
            },
            "colorscale": [
             [
              0,
              "#0d0887"
             ],
             [
              0.1111111111111111,
              "#46039f"
             ],
             [
              0.2222222222222222,
              "#7201a8"
             ],
             [
              0.3333333333333333,
              "#9c179e"
             ],
             [
              0.4444444444444444,
              "#bd3786"
             ],
             [
              0.5555555555555556,
              "#d8576b"
             ],
             [
              0.6666666666666666,
              "#ed7953"
             ],
             [
              0.7777777777777778,
              "#fb9f3a"
             ],
             [
              0.8888888888888888,
              "#fdca26"
             ],
             [
              1,
              "#f0f921"
             ]
            ],
            "type": "histogram2d"
           }
          ],
          "histogram2dcontour": [
           {
            "colorbar": {
             "outlinewidth": 0,
             "ticks": ""
            },
            "colorscale": [
             [
              0,
              "#0d0887"
             ],
             [
              0.1111111111111111,
              "#46039f"
             ],
             [
              0.2222222222222222,
              "#7201a8"
             ],
             [
              0.3333333333333333,
              "#9c179e"
             ],
             [
              0.4444444444444444,
              "#bd3786"
             ],
             [
              0.5555555555555556,
              "#d8576b"
             ],
             [
              0.6666666666666666,
              "#ed7953"
             ],
             [
              0.7777777777777778,
              "#fb9f3a"
             ],
             [
              0.8888888888888888,
              "#fdca26"
             ],
             [
              1,
              "#f0f921"
             ]
            ],
            "type": "histogram2dcontour"
           }
          ],
          "mesh3d": [
           {
            "colorbar": {
             "outlinewidth": 0,
             "ticks": ""
            },
            "type": "mesh3d"
           }
          ],
          "parcoords": [
           {
            "line": {
             "colorbar": {
              "outlinewidth": 0,
              "ticks": ""
             }
            },
            "type": "parcoords"
           }
          ],
          "pie": [
           {
            "automargin": true,
            "type": "pie"
           }
          ],
          "scatter": [
           {
            "marker": {
             "colorbar": {
              "outlinewidth": 0,
              "ticks": ""
             }
            },
            "type": "scatter"
           }
          ],
          "scatter3d": [
           {
            "line": {
             "colorbar": {
              "outlinewidth": 0,
              "ticks": ""
             }
            },
            "marker": {
             "colorbar": {
              "outlinewidth": 0,
              "ticks": ""
             }
            },
            "type": "scatter3d"
           }
          ],
          "scattercarpet": [
           {
            "marker": {
             "colorbar": {
              "outlinewidth": 0,
              "ticks": ""
             }
            },
            "type": "scattercarpet"
           }
          ],
          "scattergeo": [
           {
            "marker": {
             "colorbar": {
              "outlinewidth": 0,
              "ticks": ""
             }
            },
            "type": "scattergeo"
           }
          ],
          "scattergl": [
           {
            "marker": {
             "colorbar": {
              "outlinewidth": 0,
              "ticks": ""
             }
            },
            "type": "scattergl"
           }
          ],
          "scattermapbox": [
           {
            "marker": {
             "colorbar": {
              "outlinewidth": 0,
              "ticks": ""
             }
            },
            "type": "scattermapbox"
           }
          ],
          "scatterpolar": [
           {
            "marker": {
             "colorbar": {
              "outlinewidth": 0,
              "ticks": ""
             }
            },
            "type": "scatterpolar"
           }
          ],
          "scatterpolargl": [
           {
            "marker": {
             "colorbar": {
              "outlinewidth": 0,
              "ticks": ""
             }
            },
            "type": "scatterpolargl"
           }
          ],
          "scatterternary": [
           {
            "marker": {
             "colorbar": {
              "outlinewidth": 0,
              "ticks": ""
             }
            },
            "type": "scatterternary"
           }
          ],
          "surface": [
           {
            "colorbar": {
             "outlinewidth": 0,
             "ticks": ""
            },
            "colorscale": [
             [
              0,
              "#0d0887"
             ],
             [
              0.1111111111111111,
              "#46039f"
             ],
             [
              0.2222222222222222,
              "#7201a8"
             ],
             [
              0.3333333333333333,
              "#9c179e"
             ],
             [
              0.4444444444444444,
              "#bd3786"
             ],
             [
              0.5555555555555556,
              "#d8576b"
             ],
             [
              0.6666666666666666,
              "#ed7953"
             ],
             [
              0.7777777777777778,
              "#fb9f3a"
             ],
             [
              0.8888888888888888,
              "#fdca26"
             ],
             [
              1,
              "#f0f921"
             ]
            ],
            "type": "surface"
           }
          ],
          "table": [
           {
            "cells": {
             "fill": {
              "color": "#EBF0F8"
             },
             "line": {
              "color": "white"
             }
            },
            "header": {
             "fill": {
              "color": "#C8D4E3"
             },
             "line": {
              "color": "white"
             }
            },
            "type": "table"
           }
          ]
         },
         "layout": {
          "annotationdefaults": {
           "arrowcolor": "#2a3f5f",
           "arrowhead": 0,
           "arrowwidth": 1
          },
          "coloraxis": {
           "colorbar": {
            "outlinewidth": 0,
            "ticks": ""
           }
          },
          "colorscale": {
           "diverging": [
            [
             0,
             "#8e0152"
            ],
            [
             0.1,
             "#c51b7d"
            ],
            [
             0.2,
             "#de77ae"
            ],
            [
             0.3,
             "#f1b6da"
            ],
            [
             0.4,
             "#fde0ef"
            ],
            [
             0.5,
             "#f7f7f7"
            ],
            [
             0.6,
             "#e6f5d0"
            ],
            [
             0.7,
             "#b8e186"
            ],
            [
             0.8,
             "#7fbc41"
            ],
            [
             0.9,
             "#4d9221"
            ],
            [
             1,
             "#276419"
            ]
           ],
           "sequential": [
            [
             0,
             "#0d0887"
            ],
            [
             0.1111111111111111,
             "#46039f"
            ],
            [
             0.2222222222222222,
             "#7201a8"
            ],
            [
             0.3333333333333333,
             "#9c179e"
            ],
            [
             0.4444444444444444,
             "#bd3786"
            ],
            [
             0.5555555555555556,
             "#d8576b"
            ],
            [
             0.6666666666666666,
             "#ed7953"
            ],
            [
             0.7777777777777778,
             "#fb9f3a"
            ],
            [
             0.8888888888888888,
             "#fdca26"
            ],
            [
             1,
             "#f0f921"
            ]
           ],
           "sequentialminus": [
            [
             0,
             "#0d0887"
            ],
            [
             0.1111111111111111,
             "#46039f"
            ],
            [
             0.2222222222222222,
             "#7201a8"
            ],
            [
             0.3333333333333333,
             "#9c179e"
            ],
            [
             0.4444444444444444,
             "#bd3786"
            ],
            [
             0.5555555555555556,
             "#d8576b"
            ],
            [
             0.6666666666666666,
             "#ed7953"
            ],
            [
             0.7777777777777778,
             "#fb9f3a"
            ],
            [
             0.8888888888888888,
             "#fdca26"
            ],
            [
             1,
             "#f0f921"
            ]
           ]
          },
          "colorway": [
           "#636efa",
           "#EF553B",
           "#00cc96",
           "#ab63fa",
           "#FFA15A",
           "#19d3f3",
           "#FF6692",
           "#B6E880",
           "#FF97FF",
           "#FECB52"
          ],
          "font": {
           "color": "#2a3f5f"
          },
          "geo": {
           "bgcolor": "white",
           "lakecolor": "white",
           "landcolor": "#E5ECF6",
           "showlakes": true,
           "showland": true,
           "subunitcolor": "white"
          },
          "hoverlabel": {
           "align": "left"
          },
          "hovermode": "closest",
          "mapbox": {
           "style": "light"
          },
          "paper_bgcolor": "white",
          "plot_bgcolor": "#E5ECF6",
          "polar": {
           "angularaxis": {
            "gridcolor": "white",
            "linecolor": "white",
            "ticks": ""
           },
           "bgcolor": "#E5ECF6",
           "radialaxis": {
            "gridcolor": "white",
            "linecolor": "white",
            "ticks": ""
           }
          },
          "scene": {
           "xaxis": {
            "backgroundcolor": "#E5ECF6",
            "gridcolor": "white",
            "gridwidth": 2,
            "linecolor": "white",
            "showbackground": true,
            "ticks": "",
            "zerolinecolor": "white"
           },
           "yaxis": {
            "backgroundcolor": "#E5ECF6",
            "gridcolor": "white",
            "gridwidth": 2,
            "linecolor": "white",
            "showbackground": true,
            "ticks": "",
            "zerolinecolor": "white"
           },
           "zaxis": {
            "backgroundcolor": "#E5ECF6",
            "gridcolor": "white",
            "gridwidth": 2,
            "linecolor": "white",
            "showbackground": true,
            "ticks": "",
            "zerolinecolor": "white"
           }
          },
          "shapedefaults": {
           "line": {
            "color": "#2a3f5f"
           }
          },
          "ternary": {
           "aaxis": {
            "gridcolor": "white",
            "linecolor": "white",
            "ticks": ""
           },
           "baxis": {
            "gridcolor": "white",
            "linecolor": "white",
            "ticks": ""
           },
           "bgcolor": "#E5ECF6",
           "caxis": {
            "gridcolor": "white",
            "linecolor": "white",
            "ticks": ""
           }
          },
          "title": {
           "x": 0.05
          },
          "xaxis": {
           "automargin": true,
           "gridcolor": "white",
           "linecolor": "white",
           "ticks": "",
           "title": {
            "standoff": 15
           },
           "zerolinecolor": "white",
           "zerolinewidth": 2
          },
          "yaxis": {
           "automargin": true,
           "gridcolor": "white",
           "linecolor": "white",
           "ticks": "",
           "title": {
            "standoff": 15
           },
           "zerolinecolor": "white",
           "zerolinewidth": 2
          }
         }
        },
        "xaxis": {
         "autorange": true,
         "range": [
          1000,
          41000
         ],
         "type": "linear"
        },
        "yaxis": {
         "autorange": true,
         "range": [
          0,
          2357.8947368421054
         ]
        }
       }
      },
      "image/png": "[encoded data removed]",
      "text/html": [
       "<div>\n",
       "        \n",
       "        \n",
       "            <div id=\"3347977d-b631-4d84-bda5-1a85c55a131d\" class=\"plotly-graph-div\" style=\"height:525px; width:100%;\"></div>\n",
       "            <script type=\"text/javascript\">\n",
       "                require([\"plotly\"], function(Plotly) {\n",
       "                    window.PLOTLYENV=window.PLOTLYENV || {};\n",
       "                    \n",
       "                if (document.getElementById(\"3347977d-b631-4d84-bda5-1a85c55a131d\")) {\n",
       "                    Plotly.newPlot(\n",
       "                        '3347977d-b631-4d84-bda5-1a85c55a131d',\n",
       "                        [{\"cumulative\": {\"enabled\": true}, \"type\": \"histogram\", \"x\": [2500.0, 11000.0, 20500.0, 7000.0, 8000.0, 8500.0, 7500.0, 6500.0, 11000.0, 8000.0, 9500.0, 12500.0, 15000.0, 8500.0, 10500.0, 9500.0, 12500.0, 12500.0, 20000.0, 9166.5, 4000.0, 16500.0, 12500.0, 11500.0, 15000.0, 13500.0, 17500.0, 9500.0, 14000.0, 14500.0, 20000.0, 27500.0, 22500.0, 23000.0, 7000.0, 35000.0, 40000.0, 17500.0, 9000.0, 17500.0, 17500.0, 7000.0, 12500.0, 14000.0, 9000.0, 37500.0, 29166.5, 9000.0, 4000.0, 18500.0, 15416.5, 12500.0, 12500.0, 8000.0, 33333.5, 12500.0, 20000.0, 7500.0, 15000.0, 7000.0, 11500.0, 7000.0, 10000.0, 6500.0, 18500.0, 15000.0, 18500.0, 22500.0, 7500.0, 11500.0, 23500.0, 12000.0, 20833.5, 7000.0, 10500.0, 12500.0, 20000.0, 30000.0, 20000.0, 7000.0, 12500.0, 8500.0, 10000.0, 4500.0, 11500.0, 15000.0, 15000.0, 10000.0, 9000.0, 9000.0, 24000.0, 10000.0, 22500.0, 30000.0, 13500.0, 30000.0, 12500.0, 27500.0, 11500.0, 6000.0, 5000.0, 11500.0, 9000.0, 20833.5, 10000.0, 17500.0, 10000.0, 8000.0, 10000.0, 16500.0, 17500.0, 7500.0, 7000.0, 33333.5, 11000.0, 12500.0, 18000.0, 12500.0, 9000.0, 19000.0, 10000.0, 10500.0, 27500.0, 20000.0, 17500.0, 8000.0, 12500.0, 25000.0, 9000.0, 21500.0, 17500.0, 17500.0, 23000.0, 9000.0, 4000.0, 18000.0, 16500.0, 17500.0, 12500.0, 11000.0, 11500.0, 12500.0, 9000.0, 12000.0, 17500.0, 12500.0, 11500.0, 6000.0, 17500.0, 9000.0, 11500.0, 15500.0, 17500.0, 17500.0, 6500.0, 17500.0, 10000.0, 10500.0, 10500.0, 7000.0, 11000.0, 10000.0, 8500.0, 10500.0, 6000.0, 12500.0, 9000.0, 13000.0, 11500.0, 15000.0, 15000.0, 18500.0, 9000.0, 30000.0, 12500.0, 16000.0, 11500.0, 7500.0, 7000.0, 7000.0, 20000.0, 20000.0, 6500.0, 14000.0, 12500.0, 25000.0, 11500.0, 11500.0, 10000.0, 11500.0, 7000.0, 10500.0, 22500.0, 14167.0, 25000.0, 20000.0, 12500.0, 5250.0, 6500.0, 20000.0, 10000.0, 14000.0, 12500.0, 15000.0, 13500.0, 16500.0, 9000.0, 3500.0, 9000.0, 22500.0, 10000.0, 14000.0, 15417.0, 24000.0, 6000.0, 14000.0, 15000.0, 11500.0, 12500.0, 20000.0, 17500.0, 12500.0, 11500.0, 14000.0, 9500.0, 17500.0, 10416.5, 12000.0, 10500.0, 20000.0, 11000.0, 10500.0, 6500.0, 29166.5, 12500.0, 15000.0, 13333.5, 32500.0, 9000.0, 12500.0, 5250.0, 9500.0, 5000.0, 9000.0, 22500.0, 8500.0, 3500.0, 9000.0, 14583.5, 5500.0, 14500.0, 15000.0, 27500.0, 7500.0, 8000.0, 7000.0, 9000.0, 20000.0, 17500.0, 6500.0, 11500.0, 11500.0, 12500.0, 10416.5, 8000.0, 9000.0, 12500.0, 6500.0, 11000.0, 16000.0, 12500.0, 15500.0, 5000.0, 7000.0, 13500.0, 20000.0, 17500.0, 11000.0, 6000.0, 12500.0, 12500.0, 17500.0, 14000.0, 6000.0, 7500.0, 11500.0, 10000.0, 22500.0, 17500.0, 5250.0, 10000.0, 18000.0, 27500.0, 3750.0, 17500.0, 35000.0, 15000.0, 10500.0, 22500.0, 8333.5, 8500.0, 17916.5, 12000.0, 17500.0, 5250.0, 17500.0, 12500.0, 12500.0, 7000.0, 6000.0, 7000.0, 6000.0, 5250.0, 12500.0, 22500.0, 40000.0, 6000.0, 9000.0, 7000.0, 7000.0, 9000.0, 12500.0, 22500.0, 7000.0, 9000.0, 14000.0, 20000.0, 22500.0, 6000.0, 8000.0, 5250.0, 30000.0, 9000.0, 22500.0, 17500.0, 10500.0, 5000.0, 17500.0, 35000.0, 6000.0, 20000.0, 17500.0, 7000.0, 13000.0, 17000.0, 9000.0, 12000.0, 9000.0, 15000.0, 30000.0, 17500.0, 25000.0, 12500.0, 37500.0, 6000.0, 9000.0, 14000.0, 10500.0, 7000.0, 12500.0, 30000.0, 20000.0, 12500.0, 12500.0, 8000.0, 20000.0, 17500.0, 12500.0, 9000.0, 17500.0, 20833.5, 8000.0, 7000.0, 9000.0, 12500.0, 20000.0, 17500.0, 15000.0, 30000.0, 10000.0, 12500.0, 32500.0, 12500.0, 8500.0, 8000.0, 14583.5, 8000.0, 12500.0, 8500.0, 10000.0, 12500.0, 7500.0, 10500.0, 35000.0, 15000.0, 16000.0, 10500.0, 21500.0, 20500.0, 9000.0, 12500.0, 9000.0, 16666.5, 16000.0, 12500.0, 15000.0, 12500.0, 17500.0, 22500.0, 7500.0, 19000.0, 13500.0, 30000.0, 18750.0, 5250.0, 7000.0, 12500.0, 6500.0, 17500.0, 9500.0, 6250.0, 9000.0, 9000.0, 2500.0, 17500.0, 12500.0, 22500.0, 12500.0, 7500.0, 12500.0, 19583.5, 5000.0, 7000.0, 17500.0, 9000.0, 10416.5, 9000.0, 8000.0, 13750.0, 17500.0, 8500.0, 12500.0, 9000.0, 16500.0, 17500.0, 10416.5, 4000.0, 22500.0, 22500.0, 17500.0, 10000.0, 8000.0, 15000.0, 18500.0, 7000.0, 9500.0, 22500.0, 9000.0, 10500.0, 20000.0, 8000.0, 9000.0, 10500.0, 10500.0, 14000.0, 11500.0, 10000.0, 17500.0, 13500.0, 19000.0, 16000.0, 27500.0, 12500.0, 12000.0, 7500.0, 12500.0, 11500.0, 12500.0, 17500.0, 14583.0, 40000.0, 6750.0, 12500.0, 22500.0, 14000.0, 12500.0, 17500.0, 9000.0, 20000.0, 15000.0, 7000.0, 17500.0, 15833.5, 22500.0, 12500.0, 17500.0, 12500.0, 9000.0, 7000.0, 5250.0, 9500.0, 13500.0, 8000.0, 22500.0, 14000.0, 6500.0, 15000.0, 9000.0, 16000.0, 9000.0, 8000.0, 8500.0, 9000.0, 20000.0, 15000.0, 16000.0, 20000.0, 5500.0, 7000.0, 15000.0, 9000.0, 30000.0, 8500.0, 4500.0, 8500.0, 11500.0, 15000.0, 7500.0, 4250.0, 14000.0, 8000.0, 10000.0, 7500.0, 16000.0, 17500.0, 7000.0, 12500.0, 9000.0, 10000.0, 3150.0, 40000.0, 40000.0, 2500.0, 3750.0, 2250.0, 1750.0, 1750.0, 2500.0, 40000.0, 7000.0, 3750.0, 35000.0, 7000.0, 29166.5, 22500.0, 8000.0, 7500.0, 17500.0, 15000.0, 10500.0, 11500.0, 12500.0, 12500.0, 12500.0, 7000.0, 12500.0, 15000.0, 6500.0, 7000.0, 11000.0, 10000.0, 10500.0, 11500.0, 11500.0, 10416.5, 11500.0, 10000.0, 11500.0, 8500.0, 9000.0, 7000.0, 12500.0, 16500.0, 20000.0, 12500.0, 12500.0, 14000.0, 12500.0, 11000.0, 12500.0, 9000.0, 11500.0, 15000.0, 22500.0, 23500.0, 20000.0, 12500.0, 8000.0, 12500.0, 17500.0, 20000.0, 9000.0, 10000.0, 7500.0, 15000.0, 12500.0, 12500.0, 15000.0, 9000.0, 9000.0, 15500.0, 9000.0, 9000.0, 11500.0, 30000.0, 16000.0, 8000.0, 16500.0, 10000.0, 10000.0, 15500.0, 7000.0, 15000.0, 18500.0, 12500.0, 9000.0, 12500.0, 12000.0, 20000.0, 10000.0, 7500.0, 11500.0, 9000.0, 11500.0, 20000.0, 5250.0, 14583.5, 11500.0, 9000.0, 11500.0, 8000.0, 5500.0, 9000.0, 11000.0, 22500.0, 12500.0, 17500.0, 12500.0, 8000.0, 12500.0, 9000.0, 7000.0, 11000.0, 15000.0, 9000.0, 15000.0, 22500.0, 17500.0, 12500.0, 11000.0, 9000.0, 29167.0, 25000.0, 32500.0, 16500.0, 32500.0, 32500.0, 15000.0, 9000.0, 12500.0, 22500.0, 15000.0, 6500.0, 20000.0, 5500.0, 3000.0, 9000.0, 9000.0, 16000.0, 22500.0, 21500.0, 15500.0, 21500.0, 12500.0, 9000.0, 40000.0, 16000.0, 27500.0, 37500.0, 19000.0, 12500.0, 35000.0, 20000.0, 26500.0, 40000.0, 20000.0, 15000.0, 12500.0, 8000.0, 9500.0, 6500.0, 6000.0, 12500.0, 11500.0, 11000.0, 6500.0, 11500.0, 13500.0, 17500.0, 12500.0, 7500.0, 15000.0, 22500.0, 22500.0, 22500.0, 22500.0, 22500.0, 22500.0, 22500.0, 22500.0, 17500.0, 22500.0, 22500.0, 22500.0, 22500.0, 22500.0, 22500.0, 35000.0, 22500.0, 22500.0, 22500.0, 22500.0, 22500.0, 22500.0, 22500.0, 22500.0, 22500.0, 22500.0, 27500.0, 27500.0, 22500.0, 22500.0, 22500.0, 12500.0, 22500.0, 22500.0, 13000.0, 40000.0, 12500.0, 17500.0, 17500.0, 12500.0, 27500.0, 22500.0, 17500.0, 22500.0, 17500.0, 22500.0, 25000.0, 20000.0, 20000.0, 29166.5, 22500.0, 17500.0, 22500.0, 17500.0, 20000.0, 27500.0, 17500.0, 22500.0, 17500.0, 10500.0, 6500.0, 24000.0, 25000.0, 25000.0, 17500.0, 25000.0, 11500.0, 20000.0, 12500.0, 22500.0, 40000.0, 9000.0, 10500.0, 22500.0, 10000.0, 8000.0, 20000.0, 22500.0, 30000.0, 8500.0, 15000.0, 30000.0, 30000.0, 40000.0, 30000.0, 30000.0, 30000.0, 37500.0, 40000.0, 7000.0, 9000.0, 10500.0, 9000.0, 26500.0, 10500.0, 20000.0, 11500.0, 25000.0, 20000.0, 12500.0, 20000.0, 13500.0, 20000.0, 20000.0, 12500.0, 12500.0, 27500.0, 10000.0, 10000.0, 10000.0, 10000.0, 15000.0, 11500.0, 15000.0, 16000.0, 8000.0, 12500.0, 12500.0, 12500.0, 6500.0, 8000.0, 10000.0, 10500.0, 10500.0, 15000.0, 27500.0, 21500.0, 12500.0, 27500.0, 16000.0, 11500.0, 10500.0, 22500.0, 12500.0, 9000.0, 12500.0, 9000.0, 12500.0, 17500.0, 12500.0, 12500.0, 22500.0, 40000.0, 22500.0, 10000.0, 22500.0, 12500.0, 8000.0, 14000.0, 10000.0, 16000.0, 12500.0, 11500.0, 7500.0, 13000.0, 17500.0, 17500.0, 17500.0, 12500.0, 15000.0, 22500.0, 22500.0, 22500.0, 30000.0, 30000.0, 22500.0, 15000.0, 22500.0, 15000.0, 13500.0, 8000.0, 13000.0, 14000.0, 9000.0, 9000.0, 20000.0, 33333.5, 27500.0, 10500.0, 22500.0, 9000.0, 22500.0, 23000.0, 10500.0, 25000.0, 25000.0, 4250.0, 17500.0, 30000.0, 17500.0, 22500.0, 15000.0, 17500.0, 17500.0, 12500.0, 11000.0, 12500.0, 7500.0, 15000.0, 9000.0, 12500.0, 20000.0, 20500.0, 10000.0, 8000.0, 16000.0, 13500.0, 12500.0, 6500.0, 9500.0, 10000.0, 20000.0, 17500.0, 12500.0, 12500.0, 13000.0, 32500.0, 11500.0, 12500.0, 20000.0, 6000.0, 15000.0, 12000.0, 12000.0, 8000.0, 11000.0, 30000.0, 3750.0, 17500.0, 22500.0, 17500.0, 7000.0, 8000.0, 9000.0, 7000.0, 9000.0, 15000.0, 9000.0, 9000.0, 6500.0, 11500.0, 29166.5, 5250.0, 22500.0, 20500.0, 17500.0, 17500.0, 17500.0, 12500.0, 12500.0, 12500.0, 6500.0, 9000.0, 12500.0, 9000.0, 8000.0, 20000.0, 9000.0, 25000.0, 10000.0, 12500.0, 37500.0, 8000.0, 15000.0, 25000.0, 9000.0, 16500.0, 16000.0, 20000.0, 17500.0, 20000.0, 11500.0, 10000.0, 35000.0, 27500.0, 22500.0, 37500.0, 27500.0, 11000.0, 37500.0, 6500.0, 9000.0, 17500.0, 7000.0, 10000.0, 20000.0, 11000.0, 26500.0, 22500.0, 7000.0, 11500.0, 20000.0, 30000.0, 10000.0, 15000.0, 14000.0, 20000.0, 14500.0, 16500.0, 24000.0, 24000.0, 11500.0, 27500.0, 9000.0, 18000.0, 15000.0, 17500.0, 15000.0, 7000.0, 16000.0, 9000.0, 8500.0, 15000.0, 12500.0, 11500.0, 5250.0, 12500.0, 5250.0, 11500.0, 40000.0, 10000.0, 10500.0, 20000.0, 15000.0, 15000.0, 25000.0, 8000.0, 22500.0, 11000.0, 19000.0, 12500.0, 32500.0, 3500.0, 22500.0, 26000.0, 3500.0, 22500.0, 30000.0, 17500.0, 17500.0, 19000.0, 17500.0, 19000.0, 25000.0, 19000.0, 19000.0, 15000.0, 19000.0, 19000.0, 19000.0, 22500.0, 30000.0, 21000.0, 11000.0, 7000.0, 17500.0, 25000.0, 17500.0, 6000.0, 6000.0, 20000.0, 12500.0, 11000.0, 7000.0, 11000.0, 22500.0, 12500.0, 17000.0, 17000.0, 12500.0, 22500.0, 21500.0, 20000.0, 12500.0, 12500.0, 12000.0, 11500.0, 17500.0, 15000.0, 21000.0, 17500.0, 15000.0, 15000.0, 11500.0, 8000.0, 9000.0, 15000.0, 8500.0, 10000.0, 15000.0, 8000.0, 22500.0, 22500.0, 15000.0, 17500.0, 6000.0, 12500.0, 22500.0, 17500.0, 22500.0, 15500.0, 15500.0, 27500.0, 22500.0, 9000.0, 10500.0, 9000.0, 10000.0, 15000.0, 9000.0, 12500.0, 6000.0, 12500.0, 12500.0, 15500.0, 17500.0, 8000.0, 22500.0, 17500.0, 20000.0, 14000.0, 9000.0, 15000.0, 14000.0, 14000.0, 8500.0, 6500.0, 9000.0, 9000.0, 22500.0, 9000.0, 22500.0, 12500.0, 7000.0, 7500.0, 25000.0, 20000.0, 6500.0, 18000.0, 18000.0, 25000.0, 18000.0, 12500.0, 14500.0, 11500.0, 22500.0, 25000.0, 20000.0, 40000.0, 11500.0, 7500.0, 10000.0, 25000.0, 9000.0, 10000.0, 10000.0, 10000.0, 10000.0, 15000.0, 12500.0, 12500.0, 17500.0, 25000.0, 21500.0, 22500.0, 27500.0, 22500.0, 20000.0, 12500.0, 22500.0, 14000.0, 8000.0, 18000.0, 20000.0, 18000.0, 20000.0, 18500.0, 12500.0, 16000.0, 16000.0, 16000.0, 16000.0, 11500.0, 10500.0, 25000.0, 15500.0, 19500.0, 15500.0, 20000.0, 10500.0, 12500.0, 27500.0, 30000.0, 30000.0, 2500.0, 7000.0, 6541.5, 12500.0, 20000.0, 13000.0, 15000.0, 7000.0, 19000.0, 13500.0, 16000.0, 11000.0, 14000.0, 12500.0, 8500.0, 12500.0, 15500.0, 6000.0, 15500.0, 20000.0, 9000.0, 11500.0, 10500.0, 17500.0, 24000.0, 11500.0, 9000.0, 20000.0, 11500.0, 21500.0, 11500.0, 20000.0, 18500.0, 7500.0, 19000.0, 14000.0, 11500.0, 9000.0, 11500.0, 17500.0, 12500.0, 14500.0, 11500.0, 17500.0, 15000.0, 40000.0, 25000.0, 22500.0, 12500.0, 11500.0, 10000.0, 20000.0, 22500.0, 15000.0, 10000.0, 30000.0, 17500.0, 22500.0, 17500.0, 14000.0, 17500.0, 25000.0, 40000.0, 6000.0, 9000.0, 9000.0, 13000.0, 7500.0, 7500.0, 11000.0, 7500.0, 9000.0, 15000.0, 14000.0, 17500.0, 15000.0, 25000.0, 20000.0, 12500.0, 12500.0, 22500.0, 17500.0, 27500.0, 7500.0, 21500.0, 13500.0, 13500.0, 13500.0, 9000.0, 17500.0, 16500.0, 17500.0, 17500.0, 7000.0, 40000.0, 7000.0, 12500.0, 9000.0, 11500.0, 12000.0, 12500.0, 27500.0, 30000.0, 15000.0, 10500.0, 13500.0, 13500.0, 25000.0, 17500.0, 20000.0, 20000.0, 9000.0, 35000.0, 9000.0, 11500.0, 9500.0, 14500.0, 25500.0, 18000.0, 14500.0, 15500.0, 12500.0, 7500.0, 17500.0, 20833.5, 9500.0, 15000.0, 9000.0, 17500.0, 25000.0, 12500.0, 12500.0, 11500.0, 15000.0, 22500.0, 21000.0, 9500.0, 9000.0, 7000.0, 7000.0, 17500.0, 8000.0, 25000.0, 12500.0, 17500.0, 11500.0, 12500.0, 8000.0, 21500.0, 12500.0, 9500.0, 22500.0, 4000.0, 15000.0, 15000.0, 9000.0, 14000.0, 8500.0, 12500.0, 10000.0, 17500.0, 10000.0, 9000.0, 11500.0, 11000.0, 8500.0, 17500.0, 9000.0, 6500.0, 11000.0, 16000.0, 12000.0, 11000.0, 11000.0, 6250.0, 8750.0, 8000.0, 7000.0, 10000.0, 10000.0, 5250.0, 9000.0, 12500.0, 11500.0, 30000.0, 11500.0, 12500.0, 20000.0, 12000.0, 11500.0, 12500.0, 7000.0, 22500.0, 15000.0, 12500.0, 15500.0, 9000.0, 16000.0, 12000.0, 9000.0, 9000.0, 15000.0, 10000.0, 18500.0, 6000.0, 9000.0, 12500.0, 11000.0, 2500.0, 12000.0, 17500.0, 20000.0, 27500.0, 7500.0, 10000.0, 10000.0, 25000.0, 11500.0, 14000.0, 10500.0, 15500.0, 12500.0, 17500.0, 12500.0, 10000.0, 12500.0, 11500.0, 16000.0, 25000.0, 12500.0, 12500.0, 12500.0, 9000.0, 12500.0, 10000.0, 7000.0, 9500.0, 9000.0, 7000.0, 17500.0, 22500.0, 12500.0, 10000.0, 13500.0, 30000.0, 11500.0, 12500.0, 17500.0, 25000.0, 10000.0, 12500.0, 7000.0, 10500.0, 22500.0, 15000.0, 17500.0, 11500.0, 12500.0, 22500.0, 7500.0, 17500.0, 12500.0, 20000.0, 20000.0, 25000.0, 25000.0, 4400.0, 16000.0, 17500.0, 6000.0, 16000.0, 9000.0, 9000.0, 13000.0, 12500.0, 7500.0, 4400.0, 26500.0, 6000.0, 9000.0, 20000.0, 10416.5, 10000.0, 11000.0, 16666.5, 14000.0, 10000.0, 8500.0, 12500.0, 8000.0, 15000.0, 17500.0, 8500.0, 12500.0, 15000.0, 11000.0, 37500.0, 6000.0, 8000.0, 11500.0, 27500.0, 9000.0, 17500.0, 19000.0, 7500.0, 22500.0, 12500.0, 14000.0, 12500.0, 17500.0, 11500.0, 5000.0, 11500.0, 9000.0, 8500.0, 6500.0, 20000.0, 14000.0, 10416.5, 8000.0, 10000.0, 14500.0, 5500.0, 15000.0, 7000.0, 17500.0, 15000.0, 9000.0, 10000.0, 7000.0, 12500.0, 17500.0, 16000.0, 7000.0, 11500.0, 11500.0, 4500.0, 11500.0, 8000.0, 10500.0, 11000.0, 11500.0, 21500.0, 9000.0, 10000.0, 9000.0, 15000.0, 18500.0, 6000.0, 16000.0, 35000.0, 10000.0, 13000.0, 15500.0, 12500.0, 27500.0, 12500.0, 9500.0, 9000.0, 11500.0, 30000.0, 10000.0, 9000.0, 7000.0, 15000.0, 10500.0, 10500.0, 22917.0, 15500.0, 12000.0, 8000.0, 12500.0, 15500.0, 7500.0, 7500.0, 21500.0, 10000.0, 10500.0, 12500.0, 10500.0, 12500.0, 8333.5, 7500.0, 12000.0, 20000.0, 15000.0, 8000.0, 12500.0, 17500.0, 18000.0, 17500.0, 10000.0, 20000.0, 27500.0, 20833.5, 10500.0, 11500.0, 12500.0, 11500.0, 12500.0, 17500.0, 12500.0, 11000.0, 15000.0, 9000.0, 20000.0, 9000.0, 22500.0, 9000.0, 9000.0, 17500.0, 7000.0, 34000.0, 14000.0, 10416.5, 8000.0, 20000.0, 12500.0, 22500.0, 12500.0, 3750.0, 10000.0, 14500.0, 7000.0, 6000.0, 20000.0, 15000.0, 17500.0, 14583.5, 11500.0, 9000.0, 7000.0, 10000.0, 17500.0, 9000.0, 15000.0, 27500.0, 11500.0, 21500.0, 11500.0, 10000.0, 11500.0, 18000.0, 7000.0, 9500.0, 12500.0, 11500.0, 9000.0, 9000.0, 9000.0, 7000.0, 9500.0, 7000.0, 12500.0, 30000.0, 11500.0, 12500.0, 12500.0, 13000.0, 4250.0, 22500.0, 21500.0, 12500.0, 6500.0, 6000.0, 30000.0, 25000.0, 7500.0, 18500.0, 11500.0, 8000.0, 20000.0, 22500.0, 4250.0, 22500.0, 12500.0, 12500.0, 25000.0, 17500.0, 9000.0, 17500.0, 10000.0, 12500.0, 7250.0, 17500.0, 35000.0, 12500.0, 12000.0, 8500.0, 10500.0, 5250.0, 20000.0, 11500.0, 5250.0, 9000.0, 12500.0, 18500.0, 7500.0, 8500.0, 7500.0, 13000.0, 17000.0, 12500.0, 7000.0, 20833.5, 11500.0, 10500.0, 20000.0, 9000.0, 9500.0, 18750.0, 22500.0, 11000.0, 10500.0, 7000.0, 35000.0, 7000.0, 22500.0, 15000.0, 10000.0, 15000.0, 17500.0, 20000.0, 8000.0, 37500.0, 11500.0, 14000.0, 10416.5, 12500.0, 15000.0, 20000.0, 6500.0, 17500.0, 10000.0, 27500.0, 17500.0, 12500.0, 3750.0, 9000.0, 15000.0, 11500.0, 15000.0, 17500.0, 5000.0, 25000.0, 11500.0, 9500.0, 16000.0, 21500.0, 12500.0, 20000.0, 9000.0, 10000.0, 7000.0, 25000.0, 27500.0, 9500.0, 12500.0, 5250.0, 7000.0, 11000.0, 10500.0, 6000.0, 8000.0, 11500.0, 15000.0, 20000.0, 24000.0, 6000.0, 35000.0, 16000.0, 10500.0, 20000.0, 12500.0, 21500.0, 17500.0, 7000.0, 30000.0, 19000.0, 14000.0, 18000.0, 12500.0, 22500.0, 8500.0, 12000.0, 9000.0, 20000.0, 11500.0, 9000.0, 20000.0, 9000.0, 6500.0, 10500.0, 16000.0, 11500.0, 7000.0, 21000.0, 12500.0, 7000.0, 22000.0, 10000.0, 7000.0, 10000.0, 12500.0, 7000.0, 8500.0, 15000.0, 6000.0, 13000.0, 7500.0, 12500.0, 12500.0, 37500.0, 7000.0, 9000.0, 12500.0, 5250.0, 6500.0, 10000.0, 8000.0, 17500.0, 15000.0, 14000.0, 12500.0, 27500.0, 7000.0, 14000.0, 14000.0, 8000.0, 7000.0, 15000.0, 11500.0, 12000.0, 7500.0, 12500.0, 11000.0, 10000.0, 9000.0, 12500.0, 6500.0, 22500.0, 17000.0, 16000.0, 21500.0, 15000.0, 12500.0, 11500.0, 25000.0, 22500.0, 7500.0, 15000.0, 12500.0, 9500.0, 11000.0, 5000.0, 17500.0, 7500.0, 20833.5, 10000.0, 9000.0, 15000.0, 6250.0, 10000.0, 8000.0, 10000.0, 35000.0, 9000.0, 7000.0, 9500.0, 12500.0, 17500.0, 7000.0, 12500.0, 10000.0, 9000.0, 7000.0, 20000.0, 14000.0, 20833.0, 20000.0, 12500.0, 16500.0, 15500.0, 11500.0, 3750.0, 15000.0, 13500.0, 22500.0, 10000.0, 19000.0, 12500.0, 22500.0, 7000.0, 15000.0, 11500.0, 40000.0, 17500.0, 5000.0, 20000.0, 9000.0, 15000.0, 10000.0, 12500.0, 12500.0, 12500.0, 14583.5, 14000.0, 13500.0, 12500.0, 7500.0, 10000.0, 7500.0, 7000.0, 12500.0, 2500.0, 9000.0, 12500.0, 9000.0, 12500.0, 12500.0, 7500.0, 7500.0, 15000.0, 20000.0, 11500.0, 12500.0, 17500.0, 20000.0, 7000.0, 13500.0, 9000.0, 6500.0, 17500.0, 12500.0, 12500.0, 20000.0, 15500.0, 15500.0, 11500.0, 14000.0, 7000.0, 12500.0, 14000.0, 17500.0, 17500.0, 17000.0, 4000.0, 10000.0, 7000.0, 11000.0, 9000.0, 9000.0, 10500.0, 11500.0, 9000.0, 18750.0, 20000.0, 22500.0, 16500.0, 37500.0, 9000.0, 12500.0, 11500.0, 11500.0, 9000.0, 15000.0, 30000.0, 12500.0, 17500.0, 10500.0, 37500.0, 6000.0, 11500.0, 7500.0, 7000.0, 17000.0, 10000.0, 9500.0, 12500.0, 9000.0, 7000.0, 27500.0, 10416.5, 6500.0, 9000.0, 7000.0, 12000.0, 7000.0, 5250.0, 11000.0, 19000.0, 5750.0, 15000.0, 7500.0, 10000.0, 8500.0, 10416.5, 12500.0, 11500.0, 17500.0, 29166.5, 9000.0, 20000.0, 15000.0, 8000.0, 10000.0, 7000.0, 5500.0, 11500.0, 7500.0, 9000.0, 11500.0, 12500.0, 13500.0, 14000.0, 10416.5, 10000.0, 6500.0, 16500.0, 17500.0, 7000.0, 9000.0, 11500.0, 10000.0, 12500.0, 12500.0, 12500.0, 22500.0, 15000.0, 9000.0, 7500.0, 7000.0, 10500.0, 10000.0, 10416.5, 4750.0, 7000.0, 9000.0, 12500.0, 7000.0, 18500.0, 9000.0, 12500.0, 27500.0, 18500.0, 9500.0, 10000.0, 15000.0, 12500.0, 12500.0, 27500.0, 15000.0, 9000.0, 9000.0, 15000.0, 7000.0, 12500.0, 12500.0, 8500.0, 12500.0, 12500.0, 9500.0, 10000.0, 16000.0, 9500.0, 15000.0, 7000.0, 9000.0, 7000.0, 6500.0, 22500.0, 12500.0, 8000.0, 13000.0, 15000.0, 18500.0, 12500.0, 12500.0, 7500.0, 19375.0, 12500.0, 7000.0, 22500.0, 30000.0, 12500.0, 9000.0, 15000.0, 35000.0, 11000.0, 25000.0, 17500.0, 19500.0, 9000.0, 12500.0, 12500.0, 1500.0, 14500.0, 17500.0, 25000.0, 10000.0, 13500.0, 17500.0, 37500.0, 40000.0, 7500.0, 12500.0, 19500.0, 11500.0, 8000.0, 15000.0, 6500.0, 5250.0, 17500.0, 2500.0, 10000.0, 15000.0, 33333.5, 14500.0, 10416.5, 15000.0, 15000.0, 9000.0, 22500.0, 17500.0, 13750.0, 7000.0, 11000.0, 10000.0, 11000.0, 12500.0, 7000.0, 14500.0, 17500.0, 9000.0, 13500.0, 3750.0, 7000.0, 10416.5, 25000.0, 8333.5, 10416.5, 9000.0, 27000.0, 20000.0, 7000.0, 25000.0, 7200.0, 35000.0, 22500.0, 8000.0, 20000.0, 15000.0, 18500.0, 12500.0, 12500.0, 9000.0, 17500.0, 7500.0, 12500.0, 20000.0, 17500.0, 12000.0, 5500.0, 15000.0, 8000.0, 15000.0, 12500.0, 7000.0, 6250.0, 13000.0, 14500.0, 10000.0, 20000.0, 15000.0, 15500.0, 10000.0, 12500.0, 25000.0, 8000.0, 15000.0, 11500.0, 20000.0, 5500.0, 15000.0, 20000.0, 25000.0, 14583.5, 7000.0, 22500.0, 12500.0, 20000.0, 13500.0, 7000.0, 14000.0, 9000.0, 22500.0, 9583.5, 20000.0, 9000.0, 12500.0, 17500.0, 15000.0, 22500.0, 9000.0, 9000.0, 7500.0, 12500.0, 10000.0, 8000.0, 12500.0, 5000.0, 40000.0, 15000.0, 7500.0, 8250.0, 11500.0, 15000.0, 15000.0, 20000.0, 27500.0, 9000.0, 11500.0, 11500.0, 13000.0, 14583.5, 9500.0, 10000.0, 17500.0, 12500.0, 12500.0, 10000.0, 14500.0, 10000.0, 12500.0]}],\n",
       "                        {\"template\": {\"data\": {\"bar\": [{\"error_x\": {\"color\": \"#2a3f5f\"}, \"error_y\": {\"color\": \"#2a3f5f\"}, \"marker\": {\"line\": {\"color\": \"#E5ECF6\", \"width\": 0.5}}, \"type\": \"bar\"}], \"barpolar\": [{\"marker\": {\"line\": {\"color\": \"#E5ECF6\", \"width\": 0.5}}, \"type\": \"barpolar\"}], \"carpet\": [{\"aaxis\": {\"endlinecolor\": \"#2a3f5f\", \"gridcolor\": \"white\", \"linecolor\": \"white\", \"minorgridcolor\": \"white\", \"startlinecolor\": \"#2a3f5f\"}, \"baxis\": {\"endlinecolor\": \"#2a3f5f\", \"gridcolor\": \"white\", \"linecolor\": \"white\", \"minorgridcolor\": \"white\", \"startlinecolor\": \"#2a3f5f\"}, \"type\": \"carpet\"}], \"choropleth\": [{\"colorbar\": {\"outlinewidth\": 0, \"ticks\": \"\"}, \"type\": \"choropleth\"}], \"contour\": [{\"colorbar\": {\"outlinewidth\": 0, \"ticks\": \"\"}, \"colorscale\": [[0.0, \"#0d0887\"], [0.1111111111111111, \"#46039f\"], [0.2222222222222222, \"#7201a8\"], [0.3333333333333333, \"#9c179e\"], [0.4444444444444444, \"#bd3786\"], [0.5555555555555556, \"#d8576b\"], [0.6666666666666666, \"#ed7953\"], [0.7777777777777778, \"#fb9f3a\"], [0.8888888888888888, \"#fdca26\"], [1.0, \"#f0f921\"]], \"type\": \"contour\"}], \"contourcarpet\": [{\"colorbar\": {\"outlinewidth\": 0, \"ticks\": \"\"}, \"type\": \"contourcarpet\"}], \"heatmap\": [{\"colorbar\": {\"outlinewidth\": 0, \"ticks\": \"\"}, \"colorscale\": [[0.0, \"#0d0887\"], [0.1111111111111111, \"#46039f\"], [0.2222222222222222, \"#7201a8\"], [0.3333333333333333, \"#9c179e\"], [0.4444444444444444, \"#bd3786\"], [0.5555555555555556, \"#d8576b\"], [0.6666666666666666, \"#ed7953\"], [0.7777777777777778, \"#fb9f3a\"], [0.8888888888888888, \"#fdca26\"], [1.0, \"#f0f921\"]], \"type\": \"heatmap\"}], \"heatmapgl\": [{\"colorbar\": {\"outlinewidth\": 0, \"ticks\": \"\"}, \"colorscale\": [[0.0, \"#0d0887\"], [0.1111111111111111, \"#46039f\"], [0.2222222222222222, \"#7201a8\"], [0.3333333333333333, \"#9c179e\"], [0.4444444444444444, \"#bd3786\"], [0.5555555555555556, \"#d8576b\"], [0.6666666666666666, \"#ed7953\"], [0.7777777777777778, \"#fb9f3a\"], [0.8888888888888888, \"#fdca26\"], [1.0, \"#f0f921\"]], \"type\": \"heatmapgl\"}], \"histogram\": [{\"marker\": {\"colorbar\": {\"outlinewidth\": 0, \"ticks\": \"\"}}, \"type\": \"histogram\"}], \"histogram2d\": [{\"colorbar\": {\"outlinewidth\": 0, \"ticks\": \"\"}, \"colorscale\": [[0.0, \"#0d0887\"], [0.1111111111111111, \"#46039f\"], [0.2222222222222222, \"#7201a8\"], [0.3333333333333333, \"#9c179e\"], [0.4444444444444444, \"#bd3786\"], [0.5555555555555556, \"#d8576b\"], [0.6666666666666666, \"#ed7953\"], [0.7777777777777778, \"#fb9f3a\"], [0.8888888888888888, \"#fdca26\"], [1.0, \"#f0f921\"]], \"type\": \"histogram2d\"}], \"histogram2dcontour\": [{\"colorbar\": {\"outlinewidth\": 0, \"ticks\": \"\"}, \"colorscale\": [[0.0, \"#0d0887\"], [0.1111111111111111, \"#46039f\"], [0.2222222222222222, \"#7201a8\"], [0.3333333333333333, \"#9c179e\"], [0.4444444444444444, \"#bd3786\"], [0.5555555555555556, \"#d8576b\"], [0.6666666666666666, \"#ed7953\"], [0.7777777777777778, \"#fb9f3a\"], [0.8888888888888888, \"#fdca26\"], [1.0, \"#f0f921\"]], \"type\": \"histogram2dcontour\"}], \"mesh3d\": [{\"colorbar\": {\"outlinewidth\": 0, \"ticks\": \"\"}, \"type\": \"mesh3d\"}], \"parcoords\": [{\"line\": {\"colorbar\": {\"outlinewidth\": 0, \"ticks\": \"\"}}, \"type\": \"parcoords\"}], \"pie\": [{\"automargin\": true, \"type\": \"pie\"}], \"scatter\": [{\"marker\": {\"colorbar\": {\"outlinewidth\": 0, \"ticks\": \"\"}}, \"type\": \"scatter\"}], \"scatter3d\": [{\"line\": {\"colorbar\": {\"outlinewidth\": 0, \"ticks\": \"\"}}, \"marker\": {\"colorbar\": {\"outlinewidth\": 0, \"ticks\": \"\"}}, \"type\": \"scatter3d\"}], \"scattercarpet\": [{\"marker\": {\"colorbar\": {\"outlinewidth\": 0, \"ticks\": \"\"}}, \"type\": \"scattercarpet\"}], \"scattergeo\": [{\"marker\": {\"colorbar\": {\"outlinewidth\": 0, \"ticks\": \"\"}}, \"type\": \"scattergeo\"}], \"scattergl\": [{\"marker\": {\"colorbar\": {\"outlinewidth\": 0, \"ticks\": \"\"}}, \"type\": \"scattergl\"}], \"scattermapbox\": [{\"marker\": {\"colorbar\": {\"outlinewidth\": 0, \"ticks\": \"\"}}, \"type\": \"scattermapbox\"}], \"scatterpolar\": [{\"marker\": {\"colorbar\": {\"outlinewidth\": 0, \"ticks\": \"\"}}, \"type\": \"scatterpolar\"}], \"scatterpolargl\": [{\"marker\": {\"colorbar\": {\"outlinewidth\": 0, \"ticks\": \"\"}}, \"type\": \"scatterpolargl\"}], \"scatterternary\": [{\"marker\": {\"colorbar\": {\"outlinewidth\": 0, \"ticks\": \"\"}}, \"type\": \"scatterternary\"}], \"surface\": [{\"colorbar\": {\"outlinewidth\": 0, \"ticks\": \"\"}, \"colorscale\": [[0.0, \"#0d0887\"], [0.1111111111111111, \"#46039f\"], [0.2222222222222222, \"#7201a8\"], [0.3333333333333333, \"#9c179e\"], [0.4444444444444444, \"#bd3786\"], [0.5555555555555556, \"#d8576b\"], [0.6666666666666666, \"#ed7953\"], [0.7777777777777778, \"#fb9f3a\"], [0.8888888888888888, \"#fdca26\"], [1.0, \"#f0f921\"]], \"type\": \"surface\"}], \"table\": [{\"cells\": {\"fill\": {\"color\": \"#EBF0F8\"}, \"line\": {\"color\": \"white\"}}, \"header\": {\"fill\": {\"color\": \"#C8D4E3\"}, \"line\": {\"color\": \"white\"}}, \"type\": \"table\"}]}, \"layout\": {\"annotationdefaults\": {\"arrowcolor\": \"#2a3f5f\", \"arrowhead\": 0, \"arrowwidth\": 1}, \"coloraxis\": {\"colorbar\": {\"outlinewidth\": 0, \"ticks\": \"\"}}, \"colorscale\": {\"diverging\": [[0, \"#8e0152\"], [0.1, \"#c51b7d\"], [0.2, \"#de77ae\"], [0.3, \"#f1b6da\"], [0.4, \"#fde0ef\"], [0.5, \"#f7f7f7\"], [0.6, \"#e6f5d0\"], [0.7, \"#b8e186\"], [0.8, \"#7fbc41\"], [0.9, \"#4d9221\"], [1, \"#276419\"]], \"sequential\": [[0.0, \"#0d0887\"], [0.1111111111111111, \"#46039f\"], [0.2222222222222222, \"#7201a8\"], [0.3333333333333333, \"#9c179e\"], [0.4444444444444444, \"#bd3786\"], [0.5555555555555556, \"#d8576b\"], [0.6666666666666666, \"#ed7953\"], [0.7777777777777778, \"#fb9f3a\"], [0.8888888888888888, \"#fdca26\"], [1.0, \"#f0f921\"]], \"sequentialminus\": [[0.0, \"#0d0887\"], [0.1111111111111111, \"#46039f\"], [0.2222222222222222, \"#7201a8\"], [0.3333333333333333, \"#9c179e\"], [0.4444444444444444, \"#bd3786\"], [0.5555555555555556, \"#d8576b\"], [0.6666666666666666, \"#ed7953\"], [0.7777777777777778, \"#fb9f3a\"], [0.8888888888888888, \"#fdca26\"], [1.0, \"#f0f921\"]]}, \"colorway\": [\"#636efa\", \"#EF553B\", \"#00cc96\", \"#ab63fa\", \"#FFA15A\", \"#19d3f3\", \"#FF6692\", \"#B6E880\", \"#FF97FF\", \"#FECB52\"], \"font\": {\"color\": \"#2a3f5f\"}, \"geo\": {\"bgcolor\": \"white\", \"lakecolor\": \"white\", \"landcolor\": \"#E5ECF6\", \"showlakes\": true, \"showland\": true, \"subunitcolor\": \"white\"}, \"hoverlabel\": {\"align\": \"left\"}, \"hovermode\": \"closest\", \"mapbox\": {\"style\": \"light\"}, \"paper_bgcolor\": \"white\", \"plot_bgcolor\": \"#E5ECF6\", \"polar\": {\"angularaxis\": {\"gridcolor\": \"white\", \"linecolor\": \"white\", \"ticks\": \"\"}, \"bgcolor\": \"#E5ECF6\", \"radialaxis\": {\"gridcolor\": \"white\", \"linecolor\": \"white\", \"ticks\": \"\"}}, \"scene\": {\"xaxis\": {\"backgroundcolor\": \"#E5ECF6\", \"gridcolor\": \"white\", \"gridwidth\": 2, \"linecolor\": \"white\", \"showbackground\": true, \"ticks\": \"\", \"zerolinecolor\": \"white\"}, \"yaxis\": {\"backgroundcolor\": \"#E5ECF6\", \"gridcolor\": \"white\", \"gridwidth\": 2, \"linecolor\": \"white\", \"showbackground\": true, \"ticks\": \"\", \"zerolinecolor\": \"white\"}, \"zaxis\": {\"backgroundcolor\": \"#E5ECF6\", \"gridcolor\": \"white\", \"gridwidth\": 2, \"linecolor\": \"white\", \"showbackground\": true, \"ticks\": \"\", \"zerolinecolor\": \"white\"}}, \"shapedefaults\": {\"line\": {\"color\": \"#2a3f5f\"}}, \"ternary\": {\"aaxis\": {\"gridcolor\": \"white\", \"linecolor\": \"white\", \"ticks\": \"\"}, \"baxis\": {\"gridcolor\": \"white\", \"linecolor\": \"white\", \"ticks\": \"\"}, \"bgcolor\": \"#E5ECF6\", \"caxis\": {\"gridcolor\": \"white\", \"linecolor\": \"white\", \"ticks\": \"\"}}, \"title\": {\"x\": 0.05}, \"xaxis\": {\"automargin\": true, \"gridcolor\": \"white\", \"linecolor\": \"white\", \"ticks\": \"\", \"title\": {\"standoff\": 15}, \"zerolinecolor\": \"white\", \"zerolinewidth\": 2}, \"yaxis\": {\"automargin\": true, \"gridcolor\": \"white\", \"linecolor\": \"white\", \"ticks\": \"\", \"title\": {\"standoff\": 15}, \"zerolinecolor\": \"white\", \"zerolinewidth\": 2}}}},\n",
       "                        {\"responsive\": true}\n",
       "                    ).then(function(){\n",
       "                            \n",
       "var gd = document.getElementById('3347977d-b631-4d84-bda5-1a85c55a131d');\n",
       "var x = new MutationObserver(function (mutations, observer) {{\n",
       "        var display = window.getComputedStyle(gd).display;\n",
       "        if (!display || display === 'none') {{\n",
       "            console.log([gd, 'removed!']);\n",
       "            Plotly.purge(gd);\n",
       "            observer.disconnect();\n",
       "        }}\n",
       "}});\n",
       "\n",
       "// Listen for the removal of the full notebook cells\n",
       "var notebookContainer = gd.closest('#notebook-container');\n",
       "if (notebookContainer) {{\n",
       "    x.observe(notebookContainer, {childList: true});\n",
       "}}\n",
       "\n",
       "// Listen for the clearing of the current output cell\n",
       "var outputEl = gd.closest('.output');\n",
       "if (outputEl) {{\n",
       "    x.observe(outputEl, {childList: true});\n",
       "}}\n",
       "\n",
       "                        })\n",
       "                };\n",
       "                });\n",
       "            </script>\n",
       "        </div>"
      ]
     },
     "metadata": {},
     "output_type": "display_data"
    }
   ],
   "source": [
    "import plotly.graph_objs as go\n",
    "from plotly.offline import iplot\n",
    "h = go.Histogram(\n",
    "    x=df['mid_salary'],\n",
    "    cumulative_enabled=True,\n",
    ")\n",
    "iplot([h])"
   ]
  },
  {
   "cell_type": "markdown",
   "metadata": {},
   "source": [
    " - 工资如果有15K，则超过67%的工作的薪酬\n",
    " - 工资如果有18K，则超过78%的工作的薪酬\n",
    " - 工资如果有20K，则超过84%的工作的薪酬"
   ]
  },
  {
   "cell_type": "markdown",
   "metadata": {},
   "source": [
    "## 职位描述关键词分析"
   ]
  },
  {
   "cell_type": "markdown",
   "metadata": {},
   "source": [
    "### 1.中文部分"
   ]
  },
  {
   "cell_type": "code",
   "execution_count": 57,
   "metadata": {},
   "outputs": [],
   "source": [
    "# 读取为停用词集合\n",
    "def get_stopwords(path):\n",
    "    stopwords = set()\n",
    "    f = open(path, encoding='utf-8')\n",
    "    while True:\n",
    "        word = f.readline()\n",
    "        if word == '':\n",
    "            break\n",
    "        stopwords.add(word[:-1])\n",
    "\n",
    "\n",
    "#     print(stopwords)\n",
    "    return stopwords"
   ]
  },
  {
   "cell_type": "code",
   "execution_count": 58,
   "metadata": {},
   "outputs": [],
   "source": [
    "# 将列表中转换为字符串\n",
    "jd_list = df['job_description'].values.tolist()\n",
    "jd_all = ''\n",
    "for i in range(len(jd_list)):\n",
    "    jd_all += str(jd_list[i]).strip()"
   ]
  },
  {
   "cell_type": "code",
   "execution_count": 59,
   "metadata": {},
   "outputs": [
    {
     "name": "stderr",
     "output_type": "stream",
     "text": [
      "Building prefix dict from the default dictionary ...\n",
      "Loading model from cache C:\\Users\\Articuly\\AppData\\Local\\Temp\\jieba.cache\n",
      "Loading model cost 1.084 seconds.\n",
      "Prefix dict has been built successfully.\n"
     ]
    }
   ],
   "source": [
    "# 使用jieba分词，并获得词频排列列表\n",
    "import jieba.analyse\n",
    "result = jieba.analyse.textrank(jd_all,\n",
    "                                topK=200,\n",
    "                                withWeight=True,\n",
    "                                allowPOS=['n', 'v', 'a'])"
   ]
  },
  {
   "cell_type": "code",
   "execution_count": 60,
   "metadata": {},
   "outputs": [
    {
     "name": "stdout",
     "output_type": "stream",
     "text": [
      "after delete stopword: {'数据': 0.9349182037388923, '技术': 0.719402266293291, '系统': 0.6248077483091913, '项目': 0.596287149789469, '产品': 0.5517524895702894, '业务': 0.4609313149878675, '学习': 0.4397452514546201, '团队': 0.41583935703656955, '需求': 0.3845997228637214, '算法': 0.3766351887754582, '沟通': 0.3742137999581363, '运维': 0.326535474303301, '编写': 0.2721290240255885, '数据库': 0.2515387504322475, '维护': 0.24628985248217242, '流程': 0.235827726143, '员工': 0.2279449284195435, '工具': 0.22510162705415904, '用户': 0.21292072139560939, '熟练': 0.21129218486151347, '文档': 0.20778621478257753, '行业': 0.20309110838927308, '计算机': 0.2028941110793694, '性能': 0.20229753672158038, '软件': 0.19646127829713184, '编程': 0.19017927567126844, '独立': 0.17837386712571116, '较强': 0.17755378265639904, '架构': 0.17606083618883106, '方案': 0.16927714053697832, '客户': 0.1684819791743066, '解决': 0.1654189012575744, '模型': 0.16234282757033017, '包括': 0.16048316165749252, '游戏': 0.1582507425088289, '网络': 0.15118912944793028, '框架': 0.14739961986535832, '部署': 0.14668721059631792, '精通': 0.14107536491961145, '代码': 0.1396550362256701, '机器': 0.13458531232042306, '基础': 0.12993494342141737, '语言': 0.12940349546256052, '功能': 0.12881598647168618, '脚本': 0.1284959300429951, '部门': 0.1248117918506211, '质量': 0.12343793651277146, '精神': 0.12153529944331491, '提升': 0.11961055902015477, '理解': 0.11695471896822311, '原理': 0.11515339453698406, '搭建': 0.1144581179338706, '责任心': 0.1137536366464716, '信息': 0.1123175654511586, '数学': 0.10799499742484975, '规划': 0.1077522366367516, '一金': 0.10736286733855338, '服务器': 0.10700364008473834, '策略': 0.10542366106842072, '报告': 0.10531099274802386, '跟踪': 0.10356445401217967, '知识': 0.1030189808384039, '故障': 0.1018075097789267, '体系': 0.10067406788841908, '方法': 0.10060977753122129, '支持': 0.1004932578749287, '领域': 0.10027147370144579, '配置': 0.09812982453019943, '规范': 0.09711113483533565, '互联网': 0.09515528727704065, '挖掘': 0.09330636353351943, '逻辑': 0.092864497009521, '办公': 0.09260783502161653, '协调': 0.09234956945643777, '提高': 0.08912175693894711, '职位': 0.08872798621878196, '补贴': 0.08754937671469042, '购买': 0.08748804717175969, '建立': 0.08747931780067715, '数据挖掘': 0.08739892302944617, '提出': 0.08668805814817632, '组织': 0.0863842516501666, '建模': 0.08592947643277513, '过程': 0.08572945183226792, '统计': 0.08371462820729918, '缺陷': 0.08314747548409733, '意识': 0.08186431541523671, '五险': 0.08090864205265534, '课程': 0.08067214241601339, '优秀': 0.0803560277152404, '善于': 0.07961945855874081, '年度': 0.07895803030188608, '带薪': 0.07815428698742168, '配合': 0.0773791006175103, '识别': 0.0773135890653502, '架构设计': 0.07729022536632014, '目标': 0.07679465463986657, '情况': 0.07649209906332056, '测试用例': 0.07477203859552509, '撰写': 0.07426102397992475, '模块': 0.07404292847886917, '视觉': 0.07394044780080027, '推动': 0.07386507980911967, '入职': 0.07229967853447326, '图像': 0.07126784248276147, '运行': 0.07098507187422799, '国家': 0.07090999671192508, '企业': 0.07079585421879617, '操作': 0.06962054553552842, '理论': 0.06856662984133803, '核心': 0.0684107866311948, '解决方案': 0.06811179321101771, '市场': 0.067750474647723, '计算机相关': 0.06754343972588732, '扎实': 0.06684327139407129, '构建': 0.06663055429857954, '解决问题': 0.06613589625300863, '技能': 0.06558514134155853, '调优': 0.06555279389745185, '数据处理': 0.06535508485775172, '接口': 0.06500568895078632, '压力': 0.06492391719677772, '方向': 0.0647168869003405, '机会': 0.06321243381408684, '保证': 0.06296032755837087, '指导': 0.06284408744875167, '金融': 0.06250134026161662, '完善': 0.0622672262642176, '场景': 0.06198060859292575, '开源': 0.0609431895411002, '常见': 0.060877487485630065, '法定': 0.06081713451938102, '改进': 0.0606862806395404, '高效': 0.06057768607673385, '发现': 0.05950163207492804, '落地': 0.05910081637173942, '资格': 0.05896510326901431, '工程师': 0.05877332769811656, '建议': 0.0584444352939926, '地铁': 0.05803509529898295, '爬虫': 0.05757737449610811, '风险': 0.05733669205018113, '计划': 0.0564983541860389, '效率': 0.056347158604373095, '安装': 0.05586293294462835, '定位': 0.05537214046472929, '整体': 0.05516068378310085, '软件测试': 0.0539895422356278, '网站': 0.05337090288498437, '整理': 0.05324565384140016, '确保': 0.05314894385987206, '大厦': 0.05312407471518455, '广场': 0.052331114762228875, '协议': 0.05229803186741507, '教学': 0.05214250489852642, '机器人': 0.051106715477404877}\n"
     ]
    }
   ],
   "source": [
    "# 关键词中删除停用词\n",
    "keywords = {}\n",
    "for k in result:\n",
    "    keywords[k[0]] = k[1]  # 把列表里的二元组形成字典\n",
    "stopwords = get_stopwords(r'./job_stopwords.txt')\n",
    "# print('before delete stopword:', keywords)\n",
    "keywords = {x: keywords[x] for x in keywords if x not in stopwords}\n",
    "print('after delete stopword:', keywords)"
   ]
  },
  {
   "cell_type": "code",
   "execution_count": 61,
   "metadata": {},
   "outputs": [],
   "source": [
    "def make_wordcloud(keywords, stopwords, path):\n",
    "    from wordcloud import WordCloud\n",
    "    wordcloud = WordCloud(font_path='simhei.ttf',\n",
    "                          background_color='white',\n",
    "                          max_font_size=80,\n",
    "                          stopwords=stopwords)\n",
    "    word_frequence = keywords\n",
    "    myword = wordcloud.fit_words(word_frequence)\n",
    "    plt.figure(figsize=(20, 15))\n",
    "    plt.axis('off')\n",
    "    plt.imshow(myword)\n",
    "    plt.savefig(path, dpi=300, bbox_inches='tight')"
   ]
  },
  {
   "cell_type": "code",
   "execution_count": 62,
   "metadata": {},
   "outputs": [
    {
     "data": {
      "image/png": "[encoded data removed]",
      "text/plain": [
       "<Figure size 1440x1080 with 1 Axes>"
      ]
     },
     "metadata": {
      "needs_background": "light"
     },
     "output_type": "display_data"
    }
   ],
   "source": [
    "make_wordcloud(keywords=keywords, stopwords=stopwords, path='python职位中文词云.png')"
   ]
  },
  {
   "cell_type": "code",
   "execution_count": 63,
   "metadata": {},
   "outputs": [],
   "source": [
    "with open('python职位中文关键词权重.txt', 'w') as f:\n",
    "    for k, v in keywords.items():\n",
    "        f.write('{0} {1:.2f}%\\n'.format(k, v * 100))"
   ]
  },
  {
   "cell_type": "markdown",
   "metadata": {},
   "source": [
    "### 2.英文部分"
   ]
  },
  {
   "cell_type": "code",
   "execution_count": 64,
   "metadata": {},
   "outputs": [],
   "source": [
    "def find_unchinese(str):\n",
    "    # 去除中文字符\n",
    "    pattern = re.compile(r'[\\u4e00-\\u9fa5]+')\n",
    "    unchinese = re.sub(pattern, \"\", str)\n",
    "    # 去除中文标点\n",
    "    unchinese = re.sub(\n",
    "        r'[＂＃＄％＆＇（）＊＋，－／：；＜＝＞＠［＼］＾＿｀｛｜｝～｟｠｢｣､\\u3000、〃〈〉《》「」『』【】〔〕〖〗〘〙〚〛〜〝〞〟〰〾〿–—‘’‛“”„‟…‧﹏﹑﹔·！？｡。]',\n",
    "        ' ', unchinese)\n",
    "    # 去除网页空格符\n",
    "    unchinese = unchinese.replace('\\xa0', ' ')\n",
    "    # 去除部分英文标点\n",
    "    unchinese = re.sub(r'[0-9\\.,/\\\\\\(\\)\\?\\*-=%~]', ' ', unchinese)\n",
    "    #     print(unchinese)\n",
    "    return unchinese"
   ]
  },
  {
   "cell_type": "code",
   "execution_count": 65,
   "metadata": {},
   "outputs": [],
   "source": [
    "# 保留英文字符，并转成小写\n",
    "en_jd_all = find_unchinese(jd_all)\n",
    "en_jd_all = en_jd_all.lower()"
   ]
  },
  {
   "cell_type": "code",
   "execution_count": 66,
   "metadata": {},
   "outputs": [],
   "source": [
    "# 分词，形成列表\n",
    "import spacy\n",
    "nlp = spacy.load(\"en_core_web_sm\")\n",
    "doc = nlp(en_jd_all)\n",
    "keywords_en = doc.text.split()"
   ]
  },
  {
   "cell_type": "code",
   "execution_count": 67,
   "metadata": {},
   "outputs": [],
   "source": [
    "# 过滤停用词\n",
    "stopwords = get_stopwords(r'./job_stopwords.txt')\n",
    "keywords_en = [x for x in keywords_en if x not in stopwords]"
   ]
  },
  {
   "cell_type": "code",
   "execution_count": 68,
   "metadata": {},
   "outputs": [
    {
     "name": "stdout",
     "output_type": "stream",
     "text": [
      "[('python', 1820), ('linux', 902), ('c', 890), ('java', 720), ('mysql', 597), ('sql', 478), ('shell', 465), ('web', 338), ('oracle', 277), ('redis', 274), ('hadoop', 228), ('spark', 221), ('php', 218), ('tcp', 176), ('nginx', 170), ('js', 170), ('r', 166), ('html', 165), ('mongodb', 163), ('perl', 153), ('hive', 152), ('javascript', 151), ('ip', 151), ('http', 146), ('docker', 144), ('css', 137), ('etl', 121), ('app', 115), ('hbase', 113), ('kafka', 112), ('bug', 109), ('c#', 106), ('excel', 101), ('git', 99), ('tensorflow', 97), ('tomcat', 96), ('spring', 94), ('zabbix', 93), ('windows', 86), ('jmeter', 85), ('vue', 84), ('ansible', 81), ('bi', 80), ('matlab', 78), ('server', 76), ('selenium', 76), ('ai', 73), ('jenkins', 72), ('devops', 72), ('api', 69), ('scala', 69), ('unix', 67), ('django', 65), ('loadrunner', 65), ('android', 59), ('ruby', 59), ('opencv', 59), ('flask', 57), ('sas', 56), ('es', 55), ('spss', 55), ('ui', 55), ('node', 54), ('caffe', 54), ('react', 53), ('elasticsearch', 51), ('net', 50), ('pytorch', 50), ('lua', 48), ('elk', 48), ('h', 47), ('kubernetes', 47), ('jquery', 46), ('sdk', 45), ('svn', 44), ('postgresql', 44), ('nodejs', 44), ('ajax', 44), ('ci', 43), ('openstack', 43), ('flink', 43), ('apache', 43), ('ios', 42), ('zookeeper', 42), ('storm', 41), ('pc', 40), ('golang', 40), ('ppt', 39), ('development', 39), ('lvs', 38), ('saltstack', 38), ('data', 37), ('cloud', 36), ('rabbitmq', 36), ('nosql', 36), ('erp', 35), ('keras', 35), ('f', 34), ('unity', 34), ('office', 33)]\n"
     ]
    }
   ],
   "source": [
    "# 统计关键词频率\n",
    "from collections import Counter\n",
    "counter = Counter(keywords_en)\n",
    "keywords_en_count = counter.most_common(100)\n",
    "print(keywords_en_count)"
   ]
  },
  {
   "cell_type": "code",
   "execution_count": 69,
   "metadata": {},
   "outputs": [
    {
     "data": {
      "image/png": "[encoded data removed]",
      "text/plain": [
       "<Figure size 1440x1080 with 1 Axes>"
      ]
     },
     "metadata": {
      "needs_background": "light"
     },
     "output_type": "display_data"
    }
   ],
   "source": [
    "keywords_en_count = dict(keywords_en_count)\n",
    "make_wordcloud(keywords=keywords_en_count,\n",
    "               stopwords=stopwords,\n",
    "               path='python职位英文词云')"
   ]
  },
  {
   "cell_type": "code",
   "execution_count": 70,
   "metadata": {},
   "outputs": [],
   "source": [
    "with open('python职位英文关键词频率.txt', 'w') as f:\n",
    "    for k, v in keywords_en_count.items():\n",
    "        f.write('{0} {1}\\n'.format(k, v))"
   ]
  },
  {
   "cell_type": "code",
   "execution_count": null,
   "metadata": {},
   "outputs": [],
   "source": []
  }
 ],
 "metadata": {
  "kernelspec": {
   "display_name": "Python [conda env:root] *",
   "language": "python",
   "name": "conda-root-py"
  },
  "language_info": {
   "codemirror_mode": {
    "name": "ipython",
    "version": 3
   },
   "file_extension": ".py",
   "mimetype": "text/x-python",
   "name": "python",
   "nbconvert_exporter": "python",
   "pygments_lexer": "ipython3",
   "version": "3.7.9"
  }
 },
 "nbformat": 4,
 "nbformat_minor": 4
}
