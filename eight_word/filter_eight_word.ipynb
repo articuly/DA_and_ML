{
 "cells": [
  {
   "cell_type": "code",
   "execution_count": 2,
   "metadata": {
    "collapsed": true
   },
   "outputs": [],
   "source": [
    "import pandas as pd"
   ]
  },
  {
   "cell_type": "code",
   "execution_count": 3,
   "outputs": [
    {
     "data": {
      "text/plain": "              datetime  year  month  day  hour  minute year_word month_word  \\\n0  2023-01-01 00:30:00  2023      1    1     0      30        壬寅         壬子   \n1  2023-01-01 01:30:00  2023      1    1     1      30        壬寅         壬子   \n2  2023-01-01 02:30:00  2023      1    1     2      30        壬寅         壬子   \n3  2023-01-01 03:30:00  2023      1    1     3      30        壬寅         壬子   \n4  2023-01-01 04:30:00  2023      1    1     4      30        壬寅         壬子   \n\n  day_word hour_word eight_word  \n0       己未        甲子   壬寅壬子己未甲子  \n1       己未        乙丑   壬寅壬子己未乙丑  \n2       己未        乙丑   壬寅壬子己未乙丑  \n3       己未        丙寅   壬寅壬子己未丙寅  \n4       己未        丙寅   壬寅壬子己未丙寅  ",
      "text/html": "<div>\n<style scoped>\n    .dataframe tbody tr th:only-of-type {\n        vertical-align: middle;\n    }\n\n    .dataframe tbody tr th {\n        vertical-align: top;\n    }\n\n    .dataframe thead th {\n        text-align: right;\n    }\n</style>\n<table border=\"1\" class=\"dataframe\">\n  <thead>\n    <tr style=\"text-align: right;\">\n      <th></th>\n      <th>datetime</th>\n      <th>year</th>\n      <th>month</th>\n      <th>day</th>\n      <th>hour</th>\n      <th>minute</th>\n      <th>year_word</th>\n      <th>month_word</th>\n      <th>day_word</th>\n      <th>hour_word</th>\n      <th>eight_word</th>\n    </tr>\n  </thead>\n  <tbody>\n    <tr>\n      <th>0</th>\n      <td>2023-01-01 00:30:00</td>\n      <td>2023</td>\n      <td>1</td>\n      <td>1</td>\n      <td>0</td>\n      <td>30</td>\n      <td>壬寅</td>\n      <td>壬子</td>\n      <td>己未</td>\n      <td>甲子</td>\n      <td>壬寅壬子己未甲子</td>\n    </tr>\n    <tr>\n      <th>1</th>\n      <td>2023-01-01 01:30:00</td>\n      <td>2023</td>\n      <td>1</td>\n      <td>1</td>\n      <td>1</td>\n      <td>30</td>\n      <td>壬寅</td>\n      <td>壬子</td>\n      <td>己未</td>\n      <td>乙丑</td>\n      <td>壬寅壬子己未乙丑</td>\n    </tr>\n    <tr>\n      <th>2</th>\n      <td>2023-01-01 02:30:00</td>\n      <td>2023</td>\n      <td>1</td>\n      <td>1</td>\n      <td>2</td>\n      <td>30</td>\n      <td>壬寅</td>\n      <td>壬子</td>\n      <td>己未</td>\n      <td>乙丑</td>\n      <td>壬寅壬子己未乙丑</td>\n    </tr>\n    <tr>\n      <th>3</th>\n      <td>2023-01-01 03:30:00</td>\n      <td>2023</td>\n      <td>1</td>\n      <td>1</td>\n      <td>3</td>\n      <td>30</td>\n      <td>壬寅</td>\n      <td>壬子</td>\n      <td>己未</td>\n      <td>丙寅</td>\n      <td>壬寅壬子己未丙寅</td>\n    </tr>\n    <tr>\n      <th>4</th>\n      <td>2023-01-01 04:30:00</td>\n      <td>2023</td>\n      <td>1</td>\n      <td>1</td>\n      <td>4</td>\n      <td>30</td>\n      <td>壬寅</td>\n      <td>壬子</td>\n      <td>己未</td>\n      <td>丙寅</td>\n      <td>壬寅壬子己未丙寅</td>\n    </tr>\n  </tbody>\n</table>\n</div>"
     },
     "execution_count": 3,
     "metadata": {},
     "output_type": "execute_result"
    }
   ],
   "source": [
    "df = pd.read_csv('eight_word.csv')\n",
    "df.head()"
   ],
   "metadata": {
    "collapsed": false,
    "pycharm": {
     "name": "#%%\n"
    }
   }
  },
  {
   "cell_type": "code",
   "execution_count": 17,
   "outputs": [],
   "source": [
    "def contain_fire(words):\n",
    "    c = 0\n",
    "    for w in words:\n",
    "        if w in ('丙', '丁', '巳', '午'):\n",
    "            c += 1\n",
    "    if c >= 4:\n",
    "        return True\n",
    "    else:\n",
    "        return False\n",
    "\n",
    "\n",
    "def contain_fire_earth(words, num=4):\n",
    "    c = 0\n",
    "    for w in words:\n",
    "        if w in ('丙', '丁', '巳', '午', '戊', '辰', '戌'):\n",
    "            c += 1\n",
    "    if c >= num:\n",
    "        return True\n",
    "    else:\n",
    "        return False\n",
    "\n",
    "def without_wood(words):\n",
    "    for w in words:\n",
    "        if w in ('甲', '乙', '寅', '卯'):\n",
    "            return False\n",
    "        else:\n",
    "            return True"
   ],
   "metadata": {
    "collapsed": false,
    "pycharm": {
     "name": "#%%\n"
    }
   }
  },
  {
   "cell_type": "code",
   "execution_count": 5,
   "outputs": [
    {
     "data": {
      "text/plain": "                  datetime  year  month  day  hour  minute year_word  \\\n1403   2023-02-28 11:30:00  2023      2   28    11      30        癸卯   \n1404   2023-02-28 12:30:00  2023      2   28    12      30        癸卯   \n2265   2023-04-05 09:30:00  2023      4    5     9      30        癸卯   \n2266   2023-04-05 10:30:00  2023      4    5    10      30        癸卯   \n2363   2023-04-09 11:30:00  2023      4    9    11      30        癸卯   \n...                    ...   ...    ...  ...   ...     ...       ...   \n26148  2025-12-25 12:30:00  2025     12   25    12      30        乙巳   \n26149  2025-12-25 13:30:00  2025     12   25    13      30        乙巳   \n26150  2025-12-25 14:30:00  2025     12   25    14      30        乙巳   \n26169  2025-12-26 09:30:00  2025     12   26     9      30        乙巳   \n26170  2025-12-26 10:30:00  2025     12   26    10      30        乙巳   \n\n      month_word day_word hour_word eight_word  four_fire  \n1403          甲寅       丁巳        丙午   癸卯甲寅丁巳丙午       True  \n1404          甲寅       丁巳        丙午   癸卯甲寅丁巳丙午       True  \n2265          丙辰       癸巳        丁巳   癸卯丙辰癸巳丁巳       True  \n2266          丙辰       癸巳        丁巳   癸卯丙辰癸巳丁巳       True  \n2363          丙辰       丁酉        丙午   癸卯丙辰丁酉丙午       True  \n...          ...      ...       ...        ...        ...  \n26148         戊子       丁巳        丙午   乙巳戊子丁巳丙午       True  \n26149         戊子       丁巳        丁未   乙巳戊子丁巳丁未       True  \n26150         戊子       丁巳        丁未   乙巳戊子丁巳丁未       True  \n26169         戊子       戊午        丁巳   乙巳戊子戊午丁巳       True  \n26170         戊子       戊午        丁巳   乙巳戊子戊午丁巳       True  \n\n[787 rows x 12 columns]",
      "text/html": "<div>\n<style scoped>\n    .dataframe tbody tr th:only-of-type {\n        vertical-align: middle;\n    }\n\n    .dataframe tbody tr th {\n        vertical-align: top;\n    }\n\n    .dataframe thead th {\n        text-align: right;\n    }\n</style>\n<table border=\"1\" class=\"dataframe\">\n  <thead>\n    <tr style=\"text-align: right;\">\n      <th></th>\n      <th>datetime</th>\n      <th>year</th>\n      <th>month</th>\n      <th>day</th>\n      <th>hour</th>\n      <th>minute</th>\n      <th>year_word</th>\n      <th>month_word</th>\n      <th>day_word</th>\n      <th>hour_word</th>\n      <th>eight_word</th>\n      <th>four_fire</th>\n    </tr>\n  </thead>\n  <tbody>\n    <tr>\n      <th>1403</th>\n      <td>2023-02-28 11:30:00</td>\n      <td>2023</td>\n      <td>2</td>\n      <td>28</td>\n      <td>11</td>\n      <td>30</td>\n      <td>癸卯</td>\n      <td>甲寅</td>\n      <td>丁巳</td>\n      <td>丙午</td>\n      <td>癸卯甲寅丁巳丙午</td>\n      <td>True</td>\n    </tr>\n    <tr>\n      <th>1404</th>\n      <td>2023-02-28 12:30:00</td>\n      <td>2023</td>\n      <td>2</td>\n      <td>28</td>\n      <td>12</td>\n      <td>30</td>\n      <td>癸卯</td>\n      <td>甲寅</td>\n      <td>丁巳</td>\n      <td>丙午</td>\n      <td>癸卯甲寅丁巳丙午</td>\n      <td>True</td>\n    </tr>\n    <tr>\n      <th>2265</th>\n      <td>2023-04-05 09:30:00</td>\n      <td>2023</td>\n      <td>4</td>\n      <td>5</td>\n      <td>9</td>\n      <td>30</td>\n      <td>癸卯</td>\n      <td>丙辰</td>\n      <td>癸巳</td>\n      <td>丁巳</td>\n      <td>癸卯丙辰癸巳丁巳</td>\n      <td>True</td>\n    </tr>\n    <tr>\n      <th>2266</th>\n      <td>2023-04-05 10:30:00</td>\n      <td>2023</td>\n      <td>4</td>\n      <td>5</td>\n      <td>10</td>\n      <td>30</td>\n      <td>癸卯</td>\n      <td>丙辰</td>\n      <td>癸巳</td>\n      <td>丁巳</td>\n      <td>癸卯丙辰癸巳丁巳</td>\n      <td>True</td>\n    </tr>\n    <tr>\n      <th>2363</th>\n      <td>2023-04-09 11:30:00</td>\n      <td>2023</td>\n      <td>4</td>\n      <td>9</td>\n      <td>11</td>\n      <td>30</td>\n      <td>癸卯</td>\n      <td>丙辰</td>\n      <td>丁酉</td>\n      <td>丙午</td>\n      <td>癸卯丙辰丁酉丙午</td>\n      <td>True</td>\n    </tr>\n    <tr>\n      <th>...</th>\n      <td>...</td>\n      <td>...</td>\n      <td>...</td>\n      <td>...</td>\n      <td>...</td>\n      <td>...</td>\n      <td>...</td>\n      <td>...</td>\n      <td>...</td>\n      <td>...</td>\n      <td>...</td>\n      <td>...</td>\n    </tr>\n    <tr>\n      <th>26148</th>\n      <td>2025-12-25 12:30:00</td>\n      <td>2025</td>\n      <td>12</td>\n      <td>25</td>\n      <td>12</td>\n      <td>30</td>\n      <td>乙巳</td>\n      <td>戊子</td>\n      <td>丁巳</td>\n      <td>丙午</td>\n      <td>乙巳戊子丁巳丙午</td>\n      <td>True</td>\n    </tr>\n    <tr>\n      <th>26149</th>\n      <td>2025-12-25 13:30:00</td>\n      <td>2025</td>\n      <td>12</td>\n      <td>25</td>\n      <td>13</td>\n      <td>30</td>\n      <td>乙巳</td>\n      <td>戊子</td>\n      <td>丁巳</td>\n      <td>丁未</td>\n      <td>乙巳戊子丁巳丁未</td>\n      <td>True</td>\n    </tr>\n    <tr>\n      <th>26150</th>\n      <td>2025-12-25 14:30:00</td>\n      <td>2025</td>\n      <td>12</td>\n      <td>25</td>\n      <td>14</td>\n      <td>30</td>\n      <td>乙巳</td>\n      <td>戊子</td>\n      <td>丁巳</td>\n      <td>丁未</td>\n      <td>乙巳戊子丁巳丁未</td>\n      <td>True</td>\n    </tr>\n    <tr>\n      <th>26169</th>\n      <td>2025-12-26 09:30:00</td>\n      <td>2025</td>\n      <td>12</td>\n      <td>26</td>\n      <td>9</td>\n      <td>30</td>\n      <td>乙巳</td>\n      <td>戊子</td>\n      <td>戊午</td>\n      <td>丁巳</td>\n      <td>乙巳戊子戊午丁巳</td>\n      <td>True</td>\n    </tr>\n    <tr>\n      <th>26170</th>\n      <td>2025-12-26 10:30:00</td>\n      <td>2025</td>\n      <td>12</td>\n      <td>26</td>\n      <td>10</td>\n      <td>30</td>\n      <td>乙巳</td>\n      <td>戊子</td>\n      <td>戊午</td>\n      <td>丁巳</td>\n      <td>乙巳戊子戊午丁巳</td>\n      <td>True</td>\n    </tr>\n  </tbody>\n</table>\n<p>787 rows × 12 columns</p>\n</div>"
     },
     "execution_count": 5,
     "metadata": {},
     "output_type": "execute_result"
    }
   ],
   "source": [
    "df['four_fire'] = df['eight_word'].apply(contain_fire)\n",
    "df[df['four_fire'] == True]"
   ],
   "metadata": {
    "collapsed": false,
    "pycharm": {
     "name": "#%%\n"
    }
   }
  },
  {
   "cell_type": "code",
   "execution_count": 6,
   "outputs": [
    {
     "data": {
      "text/plain": "                  datetime  year  month  day  hour  minute year_word  \\\n223    2023-01-10 07:30:00  2023      1   10     7      30        壬寅   \n224    2023-01-10 08:30:00  2023      1   10     8      30        壬寅   \n225    2023-01-10 09:30:00  2023      1   10     9      30        壬寅   \n226    2023-01-10 10:30:00  2023      1   10    10      30        壬寅   \n227    2023-01-10 11:30:00  2023      1   10    11      30        壬寅   \n...                    ...   ...    ...  ...   ...     ...       ...   \n26288  2025-12-31 08:30:00  2025     12   31     8      30        乙巳   \n26289  2025-12-31 09:30:00  2025     12   31     9      30        乙巳   \n26290  2025-12-31 10:30:00  2025     12   31    10      30        乙巳   \n26291  2025-12-31 11:30:00  2025     12   31    11      30        乙巳   \n26292  2025-12-31 12:30:00  2025     12   31    12      30        乙巳   \n\n      month_word day_word hour_word eight_word  four_fire  four_fire_earth4  \n223           癸丑       戊辰        丙辰   壬寅癸丑戊辰丙辰      False              True  \n224           癸丑       戊辰        丙辰   壬寅癸丑戊辰丙辰      False              True  \n225           癸丑       戊辰        丁巳   壬寅癸丑戊辰丁巳      False              True  \n226           癸丑       戊辰        丁巳   壬寅癸丑戊辰丁巳      False              True  \n227           癸丑       戊辰        戊午   壬寅癸丑戊辰戊午      False              True  \n...          ...      ...       ...        ...        ...               ...  \n26288         戊子       癸亥        丙辰   乙巳戊子癸亥丙辰      False              True  \n26289         戊子       癸亥        丁巳   乙巳戊子癸亥丁巳      False              True  \n26290         戊子       癸亥        丁巳   乙巳戊子癸亥丁巳      False              True  \n26291         戊子       癸亥        戊午   乙巳戊子癸亥戊午      False              True  \n26292         戊子       癸亥        戊午   乙巳戊子癸亥戊午      False              True  \n\n[6125 rows x 13 columns]",
      "text/html": "<div>\n<style scoped>\n    .dataframe tbody tr th:only-of-type {\n        vertical-align: middle;\n    }\n\n    .dataframe tbody tr th {\n        vertical-align: top;\n    }\n\n    .dataframe thead th {\n        text-align: right;\n    }\n</style>\n<table border=\"1\" class=\"dataframe\">\n  <thead>\n    <tr style=\"text-align: right;\">\n      <th></th>\n      <th>datetime</th>\n      <th>year</th>\n      <th>month</th>\n      <th>day</th>\n      <th>hour</th>\n      <th>minute</th>\n      <th>year_word</th>\n      <th>month_word</th>\n      <th>day_word</th>\n      <th>hour_word</th>\n      <th>eight_word</th>\n      <th>four_fire</th>\n      <th>four_fire_earth4</th>\n    </tr>\n  </thead>\n  <tbody>\n    <tr>\n      <th>223</th>\n      <td>2023-01-10 07:30:00</td>\n      <td>2023</td>\n      <td>1</td>\n      <td>10</td>\n      <td>7</td>\n      <td>30</td>\n      <td>壬寅</td>\n      <td>癸丑</td>\n      <td>戊辰</td>\n      <td>丙辰</td>\n      <td>壬寅癸丑戊辰丙辰</td>\n      <td>False</td>\n      <td>True</td>\n    </tr>\n    <tr>\n      <th>224</th>\n      <td>2023-01-10 08:30:00</td>\n      <td>2023</td>\n      <td>1</td>\n      <td>10</td>\n      <td>8</td>\n      <td>30</td>\n      <td>壬寅</td>\n      <td>癸丑</td>\n      <td>戊辰</td>\n      <td>丙辰</td>\n      <td>壬寅癸丑戊辰丙辰</td>\n      <td>False</td>\n      <td>True</td>\n    </tr>\n    <tr>\n      <th>225</th>\n      <td>2023-01-10 09:30:00</td>\n      <td>2023</td>\n      <td>1</td>\n      <td>10</td>\n      <td>9</td>\n      <td>30</td>\n      <td>壬寅</td>\n      <td>癸丑</td>\n      <td>戊辰</td>\n      <td>丁巳</td>\n      <td>壬寅癸丑戊辰丁巳</td>\n      <td>False</td>\n      <td>True</td>\n    </tr>\n    <tr>\n      <th>226</th>\n      <td>2023-01-10 10:30:00</td>\n      <td>2023</td>\n      <td>1</td>\n      <td>10</td>\n      <td>10</td>\n      <td>30</td>\n      <td>壬寅</td>\n      <td>癸丑</td>\n      <td>戊辰</td>\n      <td>丁巳</td>\n      <td>壬寅癸丑戊辰丁巳</td>\n      <td>False</td>\n      <td>True</td>\n    </tr>\n    <tr>\n      <th>227</th>\n      <td>2023-01-10 11:30:00</td>\n      <td>2023</td>\n      <td>1</td>\n      <td>10</td>\n      <td>11</td>\n      <td>30</td>\n      <td>壬寅</td>\n      <td>癸丑</td>\n      <td>戊辰</td>\n      <td>戊午</td>\n      <td>壬寅癸丑戊辰戊午</td>\n      <td>False</td>\n      <td>True</td>\n    </tr>\n    <tr>\n      <th>...</th>\n      <td>...</td>\n      <td>...</td>\n      <td>...</td>\n      <td>...</td>\n      <td>...</td>\n      <td>...</td>\n      <td>...</td>\n      <td>...</td>\n      <td>...</td>\n      <td>...</td>\n      <td>...</td>\n      <td>...</td>\n      <td>...</td>\n    </tr>\n    <tr>\n      <th>26288</th>\n      <td>2025-12-31 08:30:00</td>\n      <td>2025</td>\n      <td>12</td>\n      <td>31</td>\n      <td>8</td>\n      <td>30</td>\n      <td>乙巳</td>\n      <td>戊子</td>\n      <td>癸亥</td>\n      <td>丙辰</td>\n      <td>乙巳戊子癸亥丙辰</td>\n      <td>False</td>\n      <td>True</td>\n    </tr>\n    <tr>\n      <th>26289</th>\n      <td>2025-12-31 09:30:00</td>\n      <td>2025</td>\n      <td>12</td>\n      <td>31</td>\n      <td>9</td>\n      <td>30</td>\n      <td>乙巳</td>\n      <td>戊子</td>\n      <td>癸亥</td>\n      <td>丁巳</td>\n      <td>乙巳戊子癸亥丁巳</td>\n      <td>False</td>\n      <td>True</td>\n    </tr>\n    <tr>\n      <th>26290</th>\n      <td>2025-12-31 10:30:00</td>\n      <td>2025</td>\n      <td>12</td>\n      <td>31</td>\n      <td>10</td>\n      <td>30</td>\n      <td>乙巳</td>\n      <td>戊子</td>\n      <td>癸亥</td>\n      <td>丁巳</td>\n      <td>乙巳戊子癸亥丁巳</td>\n      <td>False</td>\n      <td>True</td>\n    </tr>\n    <tr>\n      <th>26291</th>\n      <td>2025-12-31 11:30:00</td>\n      <td>2025</td>\n      <td>12</td>\n      <td>31</td>\n      <td>11</td>\n      <td>30</td>\n      <td>乙巳</td>\n      <td>戊子</td>\n      <td>癸亥</td>\n      <td>戊午</td>\n      <td>乙巳戊子癸亥戊午</td>\n      <td>False</td>\n      <td>True</td>\n    </tr>\n    <tr>\n      <th>26292</th>\n      <td>2025-12-31 12:30:00</td>\n      <td>2025</td>\n      <td>12</td>\n      <td>31</td>\n      <td>12</td>\n      <td>30</td>\n      <td>乙巳</td>\n      <td>戊子</td>\n      <td>癸亥</td>\n      <td>戊午</td>\n      <td>乙巳戊子癸亥戊午</td>\n      <td>False</td>\n      <td>True</td>\n    </tr>\n  </tbody>\n</table>\n<p>6125 rows × 13 columns</p>\n</div>"
     },
     "execution_count": 6,
     "metadata": {},
     "output_type": "execute_result"
    }
   ],
   "source": [
    "df['four_fire_earth4'] = df['eight_word'].apply(contain_fire_earth)\n",
    "df[df['four_fire_earth4'] == True]"
   ],
   "metadata": {
    "collapsed": false,
    "pycharm": {
     "name": "#%%\n"
    }
   }
  },
  {
   "cell_type": "code",
   "execution_count": 7,
   "outputs": [
    {
     "data": {
      "text/plain": "                  datetime  year  month  day  hour  minute year_word  \\\n2383   2023-04-10 07:30:00  2023      4   10     7      30        癸卯   \n2384   2023-04-10 08:30:00  2023      4   10     8      30        癸卯   \n2385   2023-04-10 09:30:00  2023      4   10     9      30        癸卯   \n2386   2023-04-10 10:30:00  2023      4   10    10      30        癸卯   \n2387   2023-04-10 11:30:00  2023      4   10    11      30        癸卯   \n...                    ...   ...    ...  ...   ...     ...       ...   \n26168  2025-12-26 08:30:00  2025     12   26     8      30        乙巳   \n26169  2025-12-26 09:30:00  2025     12   26     9      30        乙巳   \n26170  2025-12-26 10:30:00  2025     12   26    10      30        乙巳   \n26171  2025-12-26 11:30:00  2025     12   26    11      30        乙巳   \n26172  2025-12-26 12:30:00  2025     12   26    12      30        乙巳   \n\n      month_word day_word hour_word eight_word  four_fire  four_fire_earth4  \\\n2383          丙辰       戊戌        丙辰   癸卯丙辰戊戌丙辰      False              True   \n2384          丙辰       戊戌        丙辰   癸卯丙辰戊戌丙辰      False              True   \n2385          丙辰       戊戌        丁巳   癸卯丙辰戊戌丁巳      False              True   \n2386          丙辰       戊戌        丁巳   癸卯丙辰戊戌丁巳      False              True   \n2387          丙辰       戊戌        戊午   癸卯丙辰戊戌戊午      False              True   \n...          ...      ...       ...        ...        ...               ...   \n26168         戊子       戊午        丙辰   乙巳戊子戊午丙辰      False              True   \n26169         戊子       戊午        丁巳   乙巳戊子戊午丁巳       True              True   \n26170         戊子       戊午        丁巳   乙巳戊子戊午丁巳       True              True   \n26171         戊子       戊午        戊午   乙巳戊子戊午戊午      False              True   \n26172         戊子       戊午        戊午   乙巳戊子戊午戊午      False              True   \n\n       four_fire_earth6  \n2383               True  \n2384               True  \n2385               True  \n2386               True  \n2387               True  \n...                 ...  \n26168              True  \n26169              True  \n26170              True  \n26171              True  \n26172              True  \n\n[368 rows x 14 columns]",
      "text/html": "<div>\n<style scoped>\n    .dataframe tbody tr th:only-of-type {\n        vertical-align: middle;\n    }\n\n    .dataframe tbody tr th {\n        vertical-align: top;\n    }\n\n    .dataframe thead th {\n        text-align: right;\n    }\n</style>\n<table border=\"1\" class=\"dataframe\">\n  <thead>\n    <tr style=\"text-align: right;\">\n      <th></th>\n      <th>datetime</th>\n      <th>year</th>\n      <th>month</th>\n      <th>day</th>\n      <th>hour</th>\n      <th>minute</th>\n      <th>year_word</th>\n      <th>month_word</th>\n      <th>day_word</th>\n      <th>hour_word</th>\n      <th>eight_word</th>\n      <th>four_fire</th>\n      <th>four_fire_earth4</th>\n      <th>four_fire_earth6</th>\n    </tr>\n  </thead>\n  <tbody>\n    <tr>\n      <th>2383</th>\n      <td>2023-04-10 07:30:00</td>\n      <td>2023</td>\n      <td>4</td>\n      <td>10</td>\n      <td>7</td>\n      <td>30</td>\n      <td>癸卯</td>\n      <td>丙辰</td>\n      <td>戊戌</td>\n      <td>丙辰</td>\n      <td>癸卯丙辰戊戌丙辰</td>\n      <td>False</td>\n      <td>True</td>\n      <td>True</td>\n    </tr>\n    <tr>\n      <th>2384</th>\n      <td>2023-04-10 08:30:00</td>\n      <td>2023</td>\n      <td>4</td>\n      <td>10</td>\n      <td>8</td>\n      <td>30</td>\n      <td>癸卯</td>\n      <td>丙辰</td>\n      <td>戊戌</td>\n      <td>丙辰</td>\n      <td>癸卯丙辰戊戌丙辰</td>\n      <td>False</td>\n      <td>True</td>\n      <td>True</td>\n    </tr>\n    <tr>\n      <th>2385</th>\n      <td>2023-04-10 09:30:00</td>\n      <td>2023</td>\n      <td>4</td>\n      <td>10</td>\n      <td>9</td>\n      <td>30</td>\n      <td>癸卯</td>\n      <td>丙辰</td>\n      <td>戊戌</td>\n      <td>丁巳</td>\n      <td>癸卯丙辰戊戌丁巳</td>\n      <td>False</td>\n      <td>True</td>\n      <td>True</td>\n    </tr>\n    <tr>\n      <th>2386</th>\n      <td>2023-04-10 10:30:00</td>\n      <td>2023</td>\n      <td>4</td>\n      <td>10</td>\n      <td>10</td>\n      <td>30</td>\n      <td>癸卯</td>\n      <td>丙辰</td>\n      <td>戊戌</td>\n      <td>丁巳</td>\n      <td>癸卯丙辰戊戌丁巳</td>\n      <td>False</td>\n      <td>True</td>\n      <td>True</td>\n    </tr>\n    <tr>\n      <th>2387</th>\n      <td>2023-04-10 11:30:00</td>\n      <td>2023</td>\n      <td>4</td>\n      <td>10</td>\n      <td>11</td>\n      <td>30</td>\n      <td>癸卯</td>\n      <td>丙辰</td>\n      <td>戊戌</td>\n      <td>戊午</td>\n      <td>癸卯丙辰戊戌戊午</td>\n      <td>False</td>\n      <td>True</td>\n      <td>True</td>\n    </tr>\n    <tr>\n      <th>...</th>\n      <td>...</td>\n      <td>...</td>\n      <td>...</td>\n      <td>...</td>\n      <td>...</td>\n      <td>...</td>\n      <td>...</td>\n      <td>...</td>\n      <td>...</td>\n      <td>...</td>\n      <td>...</td>\n      <td>...</td>\n      <td>...</td>\n      <td>...</td>\n    </tr>\n    <tr>\n      <th>26168</th>\n      <td>2025-12-26 08:30:00</td>\n      <td>2025</td>\n      <td>12</td>\n      <td>26</td>\n      <td>8</td>\n      <td>30</td>\n      <td>乙巳</td>\n      <td>戊子</td>\n      <td>戊午</td>\n      <td>丙辰</td>\n      <td>乙巳戊子戊午丙辰</td>\n      <td>False</td>\n      <td>True</td>\n      <td>True</td>\n    </tr>\n    <tr>\n      <th>26169</th>\n      <td>2025-12-26 09:30:00</td>\n      <td>2025</td>\n      <td>12</td>\n      <td>26</td>\n      <td>9</td>\n      <td>30</td>\n      <td>乙巳</td>\n      <td>戊子</td>\n      <td>戊午</td>\n      <td>丁巳</td>\n      <td>乙巳戊子戊午丁巳</td>\n      <td>True</td>\n      <td>True</td>\n      <td>True</td>\n    </tr>\n    <tr>\n      <th>26170</th>\n      <td>2025-12-26 10:30:00</td>\n      <td>2025</td>\n      <td>12</td>\n      <td>26</td>\n      <td>10</td>\n      <td>30</td>\n      <td>乙巳</td>\n      <td>戊子</td>\n      <td>戊午</td>\n      <td>丁巳</td>\n      <td>乙巳戊子戊午丁巳</td>\n      <td>True</td>\n      <td>True</td>\n      <td>True</td>\n    </tr>\n    <tr>\n      <th>26171</th>\n      <td>2025-12-26 11:30:00</td>\n      <td>2025</td>\n      <td>12</td>\n      <td>26</td>\n      <td>11</td>\n      <td>30</td>\n      <td>乙巳</td>\n      <td>戊子</td>\n      <td>戊午</td>\n      <td>戊午</td>\n      <td>乙巳戊子戊午戊午</td>\n      <td>False</td>\n      <td>True</td>\n      <td>True</td>\n    </tr>\n    <tr>\n      <th>26172</th>\n      <td>2025-12-26 12:30:00</td>\n      <td>2025</td>\n      <td>12</td>\n      <td>26</td>\n      <td>12</td>\n      <td>30</td>\n      <td>乙巳</td>\n      <td>戊子</td>\n      <td>戊午</td>\n      <td>戊午</td>\n      <td>乙巳戊子戊午戊午</td>\n      <td>False</td>\n      <td>True</td>\n      <td>True</td>\n    </tr>\n  </tbody>\n</table>\n<p>368 rows × 14 columns</p>\n</div>"
     },
     "execution_count": 7,
     "metadata": {},
     "output_type": "execute_result"
    }
   ],
   "source": [
    "df['four_fire_earth6'] = df.apply(lambda row: contain_fire_earth(row['eight_word'], 6), axis=1)\n",
    "df[df['four_fire_earth6'] == True]"
   ],
   "metadata": {
    "collapsed": false,
    "pycharm": {
     "name": "#%%\n"
    }
   }
  },
  {
   "cell_type": "code",
   "execution_count": 8,
   "outputs": [
    {
     "data": {
      "text/plain": "                  datetime  year  month  day  hour  minute year_word  \\\n1403   2023-02-28 11:30:00  2023      2   28    11      30        癸卯   \n1404   2023-02-28 12:30:00  2023      2   28    12      30        癸卯   \n2265   2023-04-05 09:30:00  2023      4    5     9      30        癸卯   \n2266   2023-04-05 10:30:00  2023      4    5    10      30        癸卯   \n2363   2023-04-09 11:30:00  2023      4    9    11      30        癸卯   \n...                    ...   ...    ...  ...   ...     ...       ...   \n26168  2025-12-26 08:30:00  2025     12   26     8      30        乙巳   \n26169  2025-12-26 09:30:00  2025     12   26     9      30        乙巳   \n26170  2025-12-26 10:30:00  2025     12   26    10      30        乙巳   \n26171  2025-12-26 11:30:00  2025     12   26    11      30        乙巳   \n26172  2025-12-26 12:30:00  2025     12   26    12      30        乙巳   \n\n      month_word day_word hour_word eight_word  four_fire  four_fire_earth4  \\\n1403          甲寅       丁巳        丙午   癸卯甲寅丁巳丙午       True              True   \n1404          甲寅       丁巳        丙午   癸卯甲寅丁巳丙午       True              True   \n2265          丙辰       癸巳        丁巳   癸卯丙辰癸巳丁巳       True              True   \n2266          丙辰       癸巳        丁巳   癸卯丙辰癸巳丁巳       True              True   \n2363          丙辰       丁酉        丙午   癸卯丙辰丁酉丙午       True              True   \n...          ...      ...       ...        ...        ...               ...   \n26168         戊子       戊午        丙辰   乙巳戊子戊午丙辰      False              True   \n26169         戊子       戊午        丁巳   乙巳戊子戊午丁巳       True              True   \n26170         戊子       戊午        丁巳   乙巳戊子戊午丁巳       True              True   \n26171         戊子       戊午        戊午   乙巳戊子戊午戊午      False              True   \n26172         戊子       戊午        戊午   乙巳戊子戊午戊午      False              True   \n\n       four_fire_earth6  \n1403              False  \n1404              False  \n2265              False  \n2266              False  \n2363              False  \n...                 ...  \n26168              True  \n26169              True  \n26170              True  \n26171              True  \n26172              True  \n\n[1050 rows x 14 columns]",
      "text/html": "<div>\n<style scoped>\n    .dataframe tbody tr th:only-of-type {\n        vertical-align: middle;\n    }\n\n    .dataframe tbody tr th {\n        vertical-align: top;\n    }\n\n    .dataframe thead th {\n        text-align: right;\n    }\n</style>\n<table border=\"1\" class=\"dataframe\">\n  <thead>\n    <tr style=\"text-align: right;\">\n      <th></th>\n      <th>datetime</th>\n      <th>year</th>\n      <th>month</th>\n      <th>day</th>\n      <th>hour</th>\n      <th>minute</th>\n      <th>year_word</th>\n      <th>month_word</th>\n      <th>day_word</th>\n      <th>hour_word</th>\n      <th>eight_word</th>\n      <th>four_fire</th>\n      <th>four_fire_earth4</th>\n      <th>four_fire_earth6</th>\n    </tr>\n  </thead>\n  <tbody>\n    <tr>\n      <th>1403</th>\n      <td>2023-02-28 11:30:00</td>\n      <td>2023</td>\n      <td>2</td>\n      <td>28</td>\n      <td>11</td>\n      <td>30</td>\n      <td>癸卯</td>\n      <td>甲寅</td>\n      <td>丁巳</td>\n      <td>丙午</td>\n      <td>癸卯甲寅丁巳丙午</td>\n      <td>True</td>\n      <td>True</td>\n      <td>False</td>\n    </tr>\n    <tr>\n      <th>1404</th>\n      <td>2023-02-28 12:30:00</td>\n      <td>2023</td>\n      <td>2</td>\n      <td>28</td>\n      <td>12</td>\n      <td>30</td>\n      <td>癸卯</td>\n      <td>甲寅</td>\n      <td>丁巳</td>\n      <td>丙午</td>\n      <td>癸卯甲寅丁巳丙午</td>\n      <td>True</td>\n      <td>True</td>\n      <td>False</td>\n    </tr>\n    <tr>\n      <th>2265</th>\n      <td>2023-04-05 09:30:00</td>\n      <td>2023</td>\n      <td>4</td>\n      <td>5</td>\n      <td>9</td>\n      <td>30</td>\n      <td>癸卯</td>\n      <td>丙辰</td>\n      <td>癸巳</td>\n      <td>丁巳</td>\n      <td>癸卯丙辰癸巳丁巳</td>\n      <td>True</td>\n      <td>True</td>\n      <td>False</td>\n    </tr>\n    <tr>\n      <th>2266</th>\n      <td>2023-04-05 10:30:00</td>\n      <td>2023</td>\n      <td>4</td>\n      <td>5</td>\n      <td>10</td>\n      <td>30</td>\n      <td>癸卯</td>\n      <td>丙辰</td>\n      <td>癸巳</td>\n      <td>丁巳</td>\n      <td>癸卯丙辰癸巳丁巳</td>\n      <td>True</td>\n      <td>True</td>\n      <td>False</td>\n    </tr>\n    <tr>\n      <th>2363</th>\n      <td>2023-04-09 11:30:00</td>\n      <td>2023</td>\n      <td>4</td>\n      <td>9</td>\n      <td>11</td>\n      <td>30</td>\n      <td>癸卯</td>\n      <td>丙辰</td>\n      <td>丁酉</td>\n      <td>丙午</td>\n      <td>癸卯丙辰丁酉丙午</td>\n      <td>True</td>\n      <td>True</td>\n      <td>False</td>\n    </tr>\n    <tr>\n      <th>...</th>\n      <td>...</td>\n      <td>...</td>\n      <td>...</td>\n      <td>...</td>\n      <td>...</td>\n      <td>...</td>\n      <td>...</td>\n      <td>...</td>\n      <td>...</td>\n      <td>...</td>\n      <td>...</td>\n      <td>...</td>\n      <td>...</td>\n      <td>...</td>\n    </tr>\n    <tr>\n      <th>26168</th>\n      <td>2025-12-26 08:30:00</td>\n      <td>2025</td>\n      <td>12</td>\n      <td>26</td>\n      <td>8</td>\n      <td>30</td>\n      <td>乙巳</td>\n      <td>戊子</td>\n      <td>戊午</td>\n      <td>丙辰</td>\n      <td>乙巳戊子戊午丙辰</td>\n      <td>False</td>\n      <td>True</td>\n      <td>True</td>\n    </tr>\n    <tr>\n      <th>26169</th>\n      <td>2025-12-26 09:30:00</td>\n      <td>2025</td>\n      <td>12</td>\n      <td>26</td>\n      <td>9</td>\n      <td>30</td>\n      <td>乙巳</td>\n      <td>戊子</td>\n      <td>戊午</td>\n      <td>丁巳</td>\n      <td>乙巳戊子戊午丁巳</td>\n      <td>True</td>\n      <td>True</td>\n      <td>True</td>\n    </tr>\n    <tr>\n      <th>26170</th>\n      <td>2025-12-26 10:30:00</td>\n      <td>2025</td>\n      <td>12</td>\n      <td>26</td>\n      <td>10</td>\n      <td>30</td>\n      <td>乙巳</td>\n      <td>戊子</td>\n      <td>戊午</td>\n      <td>丁巳</td>\n      <td>乙巳戊子戊午丁巳</td>\n      <td>True</td>\n      <td>True</td>\n      <td>True</td>\n    </tr>\n    <tr>\n      <th>26171</th>\n      <td>2025-12-26 11:30:00</td>\n      <td>2025</td>\n      <td>12</td>\n      <td>26</td>\n      <td>11</td>\n      <td>30</td>\n      <td>乙巳</td>\n      <td>戊子</td>\n      <td>戊午</td>\n      <td>戊午</td>\n      <td>乙巳戊子戊午戊午</td>\n      <td>False</td>\n      <td>True</td>\n      <td>True</td>\n    </tr>\n    <tr>\n      <th>26172</th>\n      <td>2025-12-26 12:30:00</td>\n      <td>2025</td>\n      <td>12</td>\n      <td>26</td>\n      <td>12</td>\n      <td>30</td>\n      <td>乙巳</td>\n      <td>戊子</td>\n      <td>戊午</td>\n      <td>戊午</td>\n      <td>乙巳戊子戊午戊午</td>\n      <td>False</td>\n      <td>True</td>\n      <td>True</td>\n    </tr>\n  </tbody>\n</table>\n<p>1050 rows × 14 columns</p>\n</div>"
     },
     "execution_count": 8,
     "metadata": {},
     "output_type": "execute_result"
    }
   ],
   "source": [
    "df[(df['four_fire_earth6'] == True) | (df['four_fire'] == True)]"
   ],
   "metadata": {
    "collapsed": false,
    "pycharm": {
     "name": "#%%\n"
    }
   }
  },
  {
   "cell_type": "code",
   "execution_count": 9,
   "outputs": [
    {
     "data": {
      "text/plain": "(26304, 14)"
     },
     "execution_count": 9,
     "metadata": {},
     "output_type": "execute_result"
    }
   ],
   "source": [
    "df.shape"
   ],
   "metadata": {
    "collapsed": false,
    "pycharm": {
     "name": "#%%\n"
    }
   }
  },
  {
   "cell_type": "code",
   "execution_count": 14,
   "outputs": [
    {
     "data": {
      "text/plain": "   name  times  year_to_day  hour_to_second  is_guarantee eight_word\n0  夜兰二命     80     20230228          114147             0   癸卯甲寅丁巳丙午\n1  夜兰一命     75     20230228          112707             0   癸卯甲寅丁巳丙午\n2    夜兰     78     20230208          114330             0   癸卯甲寅丁酉丙午\n3  莫娜一命     25     20230208          113007             1   癸卯甲寅丁酉丙午\n4  雷电将军     32     20221230          114152             0   壬寅壬子壬戌丙午",
      "text/html": "<div>\n<style scoped>\n    .dataframe tbody tr th:only-of-type {\n        vertical-align: middle;\n    }\n\n    .dataframe tbody tr th {\n        vertical-align: top;\n    }\n\n    .dataframe thead th {\n        text-align: right;\n    }\n</style>\n<table border=\"1\" class=\"dataframe\">\n  <thead>\n    <tr style=\"text-align: right;\">\n      <th></th>\n      <th>name</th>\n      <th>times</th>\n      <th>year_to_day</th>\n      <th>hour_to_second</th>\n      <th>is_guarantee</th>\n      <th>eight_word</th>\n    </tr>\n  </thead>\n  <tbody>\n    <tr>\n      <th>0</th>\n      <td>夜兰二命</td>\n      <td>80</td>\n      <td>20230228</td>\n      <td>114147</td>\n      <td>0</td>\n      <td>癸卯甲寅丁巳丙午</td>\n    </tr>\n    <tr>\n      <th>1</th>\n      <td>夜兰一命</td>\n      <td>75</td>\n      <td>20230228</td>\n      <td>112707</td>\n      <td>0</td>\n      <td>癸卯甲寅丁巳丙午</td>\n    </tr>\n    <tr>\n      <th>2</th>\n      <td>夜兰</td>\n      <td>78</td>\n      <td>20230208</td>\n      <td>114330</td>\n      <td>0</td>\n      <td>癸卯甲寅丁酉丙午</td>\n    </tr>\n    <tr>\n      <th>3</th>\n      <td>莫娜一命</td>\n      <td>25</td>\n      <td>20230208</td>\n      <td>113007</td>\n      <td>1</td>\n      <td>癸卯甲寅丁酉丙午</td>\n    </tr>\n    <tr>\n      <th>4</th>\n      <td>雷电将军</td>\n      <td>32</td>\n      <td>20221230</td>\n      <td>114152</td>\n      <td>0</td>\n      <td>壬寅壬子壬戌丙午</td>\n    </tr>\n  </tbody>\n</table>\n</div>"
     },
     "execution_count": 14,
     "metadata": {},
     "output_type": "execute_result"
    }
   ],
   "source": [
    "pay = pd.read_csv('pay_log.csv')\n",
    "pay.head()"
   ],
   "metadata": {
    "collapsed": false,
    "pycharm": {
     "name": "#%%\n"
    }
   }
  },
  {
   "cell_type": "code",
   "execution_count": 15,
   "outputs": [
    {
     "data": {
      "text/plain": "     name  times  year_to_day  hour_to_second  is_guarantee eight_word\n3    莫娜一命     25     20230208          113007             1   癸卯甲寅丁酉丙午\n5    刻晴一命     26     20221103          115039             1   壬寅庚戌乙丑壬午\n7      刻睛     76     20221103          114839             1   壬寅庚戌乙丑壬午\n9       琴     46     20221103          113551             1   壬寅庚戌乙丑壬午\n11  迪卢克二命     82     20220923          102312             1   壬寅己酉甲申己巳\n18    迪卢克     78     20220901          102500             1   壬寅戊申壬戌乙巳",
      "text/html": "<div>\n<style scoped>\n    .dataframe tbody tr th:only-of-type {\n        vertical-align: middle;\n    }\n\n    .dataframe tbody tr th {\n        vertical-align: top;\n    }\n\n    .dataframe thead th {\n        text-align: right;\n    }\n</style>\n<table border=\"1\" class=\"dataframe\">\n  <thead>\n    <tr style=\"text-align: right;\">\n      <th></th>\n      <th>name</th>\n      <th>times</th>\n      <th>year_to_day</th>\n      <th>hour_to_second</th>\n      <th>is_guarantee</th>\n      <th>eight_word</th>\n    </tr>\n  </thead>\n  <tbody>\n    <tr>\n      <th>3</th>\n      <td>莫娜一命</td>\n      <td>25</td>\n      <td>20230208</td>\n      <td>113007</td>\n      <td>1</td>\n      <td>癸卯甲寅丁酉丙午</td>\n    </tr>\n    <tr>\n      <th>5</th>\n      <td>刻晴一命</td>\n      <td>26</td>\n      <td>20221103</td>\n      <td>115039</td>\n      <td>1</td>\n      <td>壬寅庚戌乙丑壬午</td>\n    </tr>\n    <tr>\n      <th>7</th>\n      <td>刻睛</td>\n      <td>76</td>\n      <td>20221103</td>\n      <td>114839</td>\n      <td>1</td>\n      <td>壬寅庚戌乙丑壬午</td>\n    </tr>\n    <tr>\n      <th>9</th>\n      <td>琴</td>\n      <td>46</td>\n      <td>20221103</td>\n      <td>113551</td>\n      <td>1</td>\n      <td>壬寅庚戌乙丑壬午</td>\n    </tr>\n    <tr>\n      <th>11</th>\n      <td>迪卢克二命</td>\n      <td>82</td>\n      <td>20220923</td>\n      <td>102312</td>\n      <td>1</td>\n      <td>壬寅己酉甲申己巳</td>\n    </tr>\n    <tr>\n      <th>18</th>\n      <td>迪卢克</td>\n      <td>78</td>\n      <td>20220901</td>\n      <td>102500</td>\n      <td>1</td>\n      <td>壬寅戊申壬戌乙巳</td>\n    </tr>\n  </tbody>\n</table>\n</div>"
     },
     "execution_count": 15,
     "metadata": {},
     "output_type": "execute_result"
    }
   ],
   "source": [
    "pay[pay['is_guarantee']==1]"
   ],
   "metadata": {
    "collapsed": false,
    "pycharm": {
     "name": "#%%\n"
    }
   }
  },
  {
   "cell_type": "code",
   "execution_count": null,
   "outputs": [],
   "source": [
    "# 问题：乙"
   ],
   "metadata": {
    "collapsed": false,
    "pycharm": {
     "name": "#%%\n"
    }
   }
  },
  {
   "cell_type": "code",
   "execution_count": 18,
   "outputs": [
    {
     "data": {
      "text/plain": "                  datetime  year  month  day  hour  minute year_word  \\\n0      2023-01-01 00:30:00  2023      1    1     0      30        壬寅   \n1      2023-01-01 01:30:00  2023      1    1     1      30        壬寅   \n2      2023-01-01 02:30:00  2023      1    1     2      30        壬寅   \n3      2023-01-01 03:30:00  2023      1    1     3      30        壬寅   \n4      2023-01-01 04:30:00  2023      1    1     4      30        壬寅   \n...                    ...   ...    ...  ...   ...     ...       ...   \n26299  2025-12-31 19:30:00  2025     12   31    19      30        乙巳   \n26300  2025-12-31 20:30:00  2025     12   31    20      30        乙巳   \n26301  2025-12-31 21:30:00  2025     12   31    21      30        乙巳   \n26302  2025-12-31 22:30:00  2025     12   31    22      30        乙巳   \n26303  2025-12-31 23:30:00  2025     12   31    23      30        乙巳   \n\n      month_word day_word hour_word eight_word  four_fire  four_fire_earth4  \\\n0             壬子       己未        甲子   壬寅壬子己未甲子      False             False   \n1             壬子       己未        乙丑   壬寅壬子己未乙丑      False             False   \n2             壬子       己未        乙丑   壬寅壬子己未乙丑      False             False   \n3             壬子       己未        丙寅   壬寅壬子己未丙寅      False             False   \n4             壬子       己未        丙寅   壬寅壬子己未丙寅      False             False   \n...          ...      ...       ...        ...        ...               ...   \n26299         戊子       癸亥        壬戌   乙巳戊子癸亥壬戌      False             False   \n26300         戊子       癸亥        壬戌   乙巳戊子癸亥壬戌      False             False   \n26301         戊子       癸亥        癸亥   乙巳戊子癸亥癸亥      False             False   \n26302         戊子       癸亥        癸亥   乙巳戊子癸亥癸亥      False             False   \n26303         戊子       癸亥        甲子   乙巳戊子癸亥甲子      False             False   \n\n       four_fire_earth6  day_without_wood  \n0                 False              True  \n1                 False              True  \n2                 False              True  \n3                 False              True  \n4                 False              True  \n...                 ...               ...  \n26299             False              True  \n26300             False              True  \n26301             False              True  \n26302             False              True  \n26303             False              True  \n\n[21096 rows x 15 columns]",
      "text/html": "<div>\n<style scoped>\n    .dataframe tbody tr th:only-of-type {\n        vertical-align: middle;\n    }\n\n    .dataframe tbody tr th {\n        vertical-align: top;\n    }\n\n    .dataframe thead th {\n        text-align: right;\n    }\n</style>\n<table border=\"1\" class=\"dataframe\">\n  <thead>\n    <tr style=\"text-align: right;\">\n      <th></th>\n      <th>datetime</th>\n      <th>year</th>\n      <th>month</th>\n      <th>day</th>\n      <th>hour</th>\n      <th>minute</th>\n      <th>year_word</th>\n      <th>month_word</th>\n      <th>day_word</th>\n      <th>hour_word</th>\n      <th>eight_word</th>\n      <th>four_fire</th>\n      <th>four_fire_earth4</th>\n      <th>four_fire_earth6</th>\n      <th>day_without_wood</th>\n    </tr>\n  </thead>\n  <tbody>\n    <tr>\n      <th>0</th>\n      <td>2023-01-01 00:30:00</td>\n      <td>2023</td>\n      <td>1</td>\n      <td>1</td>\n      <td>0</td>\n      <td>30</td>\n      <td>壬寅</td>\n      <td>壬子</td>\n      <td>己未</td>\n      <td>甲子</td>\n      <td>壬寅壬子己未甲子</td>\n      <td>False</td>\n      <td>False</td>\n      <td>False</td>\n      <td>True</td>\n    </tr>\n    <tr>\n      <th>1</th>\n      <td>2023-01-01 01:30:00</td>\n      <td>2023</td>\n      <td>1</td>\n      <td>1</td>\n      <td>1</td>\n      <td>30</td>\n      <td>壬寅</td>\n      <td>壬子</td>\n      <td>己未</td>\n      <td>乙丑</td>\n      <td>壬寅壬子己未乙丑</td>\n      <td>False</td>\n      <td>False</td>\n      <td>False</td>\n      <td>True</td>\n    </tr>\n    <tr>\n      <th>2</th>\n      <td>2023-01-01 02:30:00</td>\n      <td>2023</td>\n      <td>1</td>\n      <td>1</td>\n      <td>2</td>\n      <td>30</td>\n      <td>壬寅</td>\n      <td>壬子</td>\n      <td>己未</td>\n      <td>乙丑</td>\n      <td>壬寅壬子己未乙丑</td>\n      <td>False</td>\n      <td>False</td>\n      <td>False</td>\n      <td>True</td>\n    </tr>\n    <tr>\n      <th>3</th>\n      <td>2023-01-01 03:30:00</td>\n      <td>2023</td>\n      <td>1</td>\n      <td>1</td>\n      <td>3</td>\n      <td>30</td>\n      <td>壬寅</td>\n      <td>壬子</td>\n      <td>己未</td>\n      <td>丙寅</td>\n      <td>壬寅壬子己未丙寅</td>\n      <td>False</td>\n      <td>False</td>\n      <td>False</td>\n      <td>True</td>\n    </tr>\n    <tr>\n      <th>4</th>\n      <td>2023-01-01 04:30:00</td>\n      <td>2023</td>\n      <td>1</td>\n      <td>1</td>\n      <td>4</td>\n      <td>30</td>\n      <td>壬寅</td>\n      <td>壬子</td>\n      <td>己未</td>\n      <td>丙寅</td>\n      <td>壬寅壬子己未丙寅</td>\n      <td>False</td>\n      <td>False</td>\n      <td>False</td>\n      <td>True</td>\n    </tr>\n    <tr>\n      <th>...</th>\n      <td>...</td>\n      <td>...</td>\n      <td>...</td>\n      <td>...</td>\n      <td>...</td>\n      <td>...</td>\n      <td>...</td>\n      <td>...</td>\n      <td>...</td>\n      <td>...</td>\n      <td>...</td>\n      <td>...</td>\n      <td>...</td>\n      <td>...</td>\n      <td>...</td>\n    </tr>\n    <tr>\n      <th>26299</th>\n      <td>2025-12-31 19:30:00</td>\n      <td>2025</td>\n      <td>12</td>\n      <td>31</td>\n      <td>19</td>\n      <td>30</td>\n      <td>乙巳</td>\n      <td>戊子</td>\n      <td>癸亥</td>\n      <td>壬戌</td>\n      <td>乙巳戊子癸亥壬戌</td>\n      <td>False</td>\n      <td>False</td>\n      <td>False</td>\n      <td>True</td>\n    </tr>\n    <tr>\n      <th>26300</th>\n      <td>2025-12-31 20:30:00</td>\n      <td>2025</td>\n      <td>12</td>\n      <td>31</td>\n      <td>20</td>\n      <td>30</td>\n      <td>乙巳</td>\n      <td>戊子</td>\n      <td>癸亥</td>\n      <td>壬戌</td>\n      <td>乙巳戊子癸亥壬戌</td>\n      <td>False</td>\n      <td>False</td>\n      <td>False</td>\n      <td>True</td>\n    </tr>\n    <tr>\n      <th>26301</th>\n      <td>2025-12-31 21:30:00</td>\n      <td>2025</td>\n      <td>12</td>\n      <td>31</td>\n      <td>21</td>\n      <td>30</td>\n      <td>乙巳</td>\n      <td>戊子</td>\n      <td>癸亥</td>\n      <td>癸亥</td>\n      <td>乙巳戊子癸亥癸亥</td>\n      <td>False</td>\n      <td>False</td>\n      <td>False</td>\n      <td>True</td>\n    </tr>\n    <tr>\n      <th>26302</th>\n      <td>2025-12-31 22:30:00</td>\n      <td>2025</td>\n      <td>12</td>\n      <td>31</td>\n      <td>22</td>\n      <td>30</td>\n      <td>乙巳</td>\n      <td>戊子</td>\n      <td>癸亥</td>\n      <td>癸亥</td>\n      <td>乙巳戊子癸亥癸亥</td>\n      <td>False</td>\n      <td>False</td>\n      <td>False</td>\n      <td>True</td>\n    </tr>\n    <tr>\n      <th>26303</th>\n      <td>2025-12-31 23:30:00</td>\n      <td>2025</td>\n      <td>12</td>\n      <td>31</td>\n      <td>23</td>\n      <td>30</td>\n      <td>乙巳</td>\n      <td>戊子</td>\n      <td>癸亥</td>\n      <td>甲子</td>\n      <td>乙巳戊子癸亥甲子</td>\n      <td>False</td>\n      <td>False</td>\n      <td>False</td>\n      <td>True</td>\n    </tr>\n  </tbody>\n</table>\n<p>21096 rows × 15 columns</p>\n</div>"
     },
     "execution_count": 18,
     "metadata": {},
     "output_type": "execute_result"
    }
   ],
   "source": [
    "df['day_without_wood'] = df['day_word'].apply(without_wood)\n",
    "df[df['day_without_wood'] == True]"
   ],
   "metadata": {
    "collapsed": false,
    "pycharm": {
     "name": "#%%\n"
    }
   }
  },
  {
   "cell_type": "code",
   "execution_count": 20,
   "outputs": [
    {
     "data": {
      "text/plain": "                  datetime  year  month  day  hour  minute year_word  \\\n1403   2023-02-28 11:30:00  2023      2   28    11      30        癸卯   \n1404   2023-02-28 12:30:00  2023      2   28    12      30        癸卯   \n2265   2023-04-05 09:30:00  2023      4    5     9      30        癸卯   \n2266   2023-04-05 10:30:00  2023      4    5    10      30        癸卯   \n2363   2023-04-09 11:30:00  2023      4    9    11      30        癸卯   \n...                    ...   ...    ...  ...   ...     ...       ...   \n26168  2025-12-26 08:30:00  2025     12   26     8      30        乙巳   \n26169  2025-12-26 09:30:00  2025     12   26     9      30        乙巳   \n26170  2025-12-26 10:30:00  2025     12   26    10      30        乙巳   \n26171  2025-12-26 11:30:00  2025     12   26    11      30        乙巳   \n26172  2025-12-26 12:30:00  2025     12   26    12      30        乙巳   \n\n      month_word day_word hour_word eight_word  four_fire  four_fire_earth4  \\\n1403          甲寅       丁巳        丙午   癸卯甲寅丁巳丙午       True              True   \n1404          甲寅       丁巳        丙午   癸卯甲寅丁巳丙午       True              True   \n2265          丙辰       癸巳        丁巳   癸卯丙辰癸巳丁巳       True              True   \n2266          丙辰       癸巳        丁巳   癸卯丙辰癸巳丁巳       True              True   \n2363          丙辰       丁酉        丙午   癸卯丙辰丁酉丙午       True              True   \n...          ...      ...       ...        ...        ...               ...   \n26168         戊子       戊午        丙辰   乙巳戊子戊午丙辰      False              True   \n26169         戊子       戊午        丁巳   乙巳戊子戊午丁巳       True              True   \n26170         戊子       戊午        丁巳   乙巳戊子戊午丁巳       True              True   \n26171         戊子       戊午        戊午   乙巳戊子戊午戊午      False              True   \n26172         戊子       戊午        戊午   乙巳戊子戊午戊午      False              True   \n\n       four_fire_earth6  day_without_wood  \n1403              False              True  \n1404              False              True  \n2265              False              True  \n2266              False              True  \n2363              False              True  \n...                 ...               ...  \n26168              True              True  \n26169              True              True  \n26170              True              True  \n26171              True              True  \n26172              True              True  \n\n[993 rows x 15 columns]",
      "text/html": "<div>\n<style scoped>\n    .dataframe tbody tr th:only-of-type {\n        vertical-align: middle;\n    }\n\n    .dataframe tbody tr th {\n        vertical-align: top;\n    }\n\n    .dataframe thead th {\n        text-align: right;\n    }\n</style>\n<table border=\"1\" class=\"dataframe\">\n  <thead>\n    <tr style=\"text-align: right;\">\n      <th></th>\n      <th>datetime</th>\n      <th>year</th>\n      <th>month</th>\n      <th>day</th>\n      <th>hour</th>\n      <th>minute</th>\n      <th>year_word</th>\n      <th>month_word</th>\n      <th>day_word</th>\n      <th>hour_word</th>\n      <th>eight_word</th>\n      <th>four_fire</th>\n      <th>four_fire_earth4</th>\n      <th>four_fire_earth6</th>\n      <th>day_without_wood</th>\n    </tr>\n  </thead>\n  <tbody>\n    <tr>\n      <th>1403</th>\n      <td>2023-02-28 11:30:00</td>\n      <td>2023</td>\n      <td>2</td>\n      <td>28</td>\n      <td>11</td>\n      <td>30</td>\n      <td>癸卯</td>\n      <td>甲寅</td>\n      <td>丁巳</td>\n      <td>丙午</td>\n      <td>癸卯甲寅丁巳丙午</td>\n      <td>True</td>\n      <td>True</td>\n      <td>False</td>\n      <td>True</td>\n    </tr>\n    <tr>\n      <th>1404</th>\n      <td>2023-02-28 12:30:00</td>\n      <td>2023</td>\n      <td>2</td>\n      <td>28</td>\n      <td>12</td>\n      <td>30</td>\n      <td>癸卯</td>\n      <td>甲寅</td>\n      <td>丁巳</td>\n      <td>丙午</td>\n      <td>癸卯甲寅丁巳丙午</td>\n      <td>True</td>\n      <td>True</td>\n      <td>False</td>\n      <td>True</td>\n    </tr>\n    <tr>\n      <th>2265</th>\n      <td>2023-04-05 09:30:00</td>\n      <td>2023</td>\n      <td>4</td>\n      <td>5</td>\n      <td>9</td>\n      <td>30</td>\n      <td>癸卯</td>\n      <td>丙辰</td>\n      <td>癸巳</td>\n      <td>丁巳</td>\n      <td>癸卯丙辰癸巳丁巳</td>\n      <td>True</td>\n      <td>True</td>\n      <td>False</td>\n      <td>True</td>\n    </tr>\n    <tr>\n      <th>2266</th>\n      <td>2023-04-05 10:30:00</td>\n      <td>2023</td>\n      <td>4</td>\n      <td>5</td>\n      <td>10</td>\n      <td>30</td>\n      <td>癸卯</td>\n      <td>丙辰</td>\n      <td>癸巳</td>\n      <td>丁巳</td>\n      <td>癸卯丙辰癸巳丁巳</td>\n      <td>True</td>\n      <td>True</td>\n      <td>False</td>\n      <td>True</td>\n    </tr>\n    <tr>\n      <th>2363</th>\n      <td>2023-04-09 11:30:00</td>\n      <td>2023</td>\n      <td>4</td>\n      <td>9</td>\n      <td>11</td>\n      <td>30</td>\n      <td>癸卯</td>\n      <td>丙辰</td>\n      <td>丁酉</td>\n      <td>丙午</td>\n      <td>癸卯丙辰丁酉丙午</td>\n      <td>True</td>\n      <td>True</td>\n      <td>False</td>\n      <td>True</td>\n    </tr>\n    <tr>\n      <th>...</th>\n      <td>...</td>\n      <td>...</td>\n      <td>...</td>\n      <td>...</td>\n      <td>...</td>\n      <td>...</td>\n      <td>...</td>\n      <td>...</td>\n      <td>...</td>\n      <td>...</td>\n      <td>...</td>\n      <td>...</td>\n      <td>...</td>\n      <td>...</td>\n      <td>...</td>\n    </tr>\n    <tr>\n      <th>26168</th>\n      <td>2025-12-26 08:30:00</td>\n      <td>2025</td>\n      <td>12</td>\n      <td>26</td>\n      <td>8</td>\n      <td>30</td>\n      <td>乙巳</td>\n      <td>戊子</td>\n      <td>戊午</td>\n      <td>丙辰</td>\n      <td>乙巳戊子戊午丙辰</td>\n      <td>False</td>\n      <td>True</td>\n      <td>True</td>\n      <td>True</td>\n    </tr>\n    <tr>\n      <th>26169</th>\n      <td>2025-12-26 09:30:00</td>\n      <td>2025</td>\n      <td>12</td>\n      <td>26</td>\n      <td>9</td>\n      <td>30</td>\n      <td>乙巳</td>\n      <td>戊子</td>\n      <td>戊午</td>\n      <td>丁巳</td>\n      <td>乙巳戊子戊午丁巳</td>\n      <td>True</td>\n      <td>True</td>\n      <td>True</td>\n      <td>True</td>\n    </tr>\n    <tr>\n      <th>26170</th>\n      <td>2025-12-26 10:30:00</td>\n      <td>2025</td>\n      <td>12</td>\n      <td>26</td>\n      <td>10</td>\n      <td>30</td>\n      <td>乙巳</td>\n      <td>戊子</td>\n      <td>戊午</td>\n      <td>丁巳</td>\n      <td>乙巳戊子戊午丁巳</td>\n      <td>True</td>\n      <td>True</td>\n      <td>True</td>\n      <td>True</td>\n    </tr>\n    <tr>\n      <th>26171</th>\n      <td>2025-12-26 11:30:00</td>\n      <td>2025</td>\n      <td>12</td>\n      <td>26</td>\n      <td>11</td>\n      <td>30</td>\n      <td>乙巳</td>\n      <td>戊子</td>\n      <td>戊午</td>\n      <td>戊午</td>\n      <td>乙巳戊子戊午戊午</td>\n      <td>False</td>\n      <td>True</td>\n      <td>True</td>\n      <td>True</td>\n    </tr>\n    <tr>\n      <th>26172</th>\n      <td>2025-12-26 12:30:00</td>\n      <td>2025</td>\n      <td>12</td>\n      <td>26</td>\n      <td>12</td>\n      <td>30</td>\n      <td>乙巳</td>\n      <td>戊子</td>\n      <td>戊午</td>\n      <td>戊午</td>\n      <td>乙巳戊子戊午戊午</td>\n      <td>False</td>\n      <td>True</td>\n      <td>True</td>\n      <td>True</td>\n    </tr>\n  </tbody>\n</table>\n<p>993 rows × 15 columns</p>\n</div>"
     },
     "execution_count": 20,
     "metadata": {},
     "output_type": "execute_result"
    }
   ],
   "source": [
    "df_filter=df[((df['four_fire_earth6'] == True) | (df['four_fire'] == True)) & (df['day_without_wood'] == True)]\n",
    "df_filter"
   ],
   "metadata": {
    "collapsed": false,
    "pycharm": {
     "name": "#%%\n"
    }
   }
  },
  {
   "cell_type": "code",
   "execution_count": 22,
   "outputs": [],
   "source": [
    "df_filter.to_csv('filter_eight_word.csv', header=True, index=False)"
   ],
   "metadata": {
    "collapsed": false,
    "pycharm": {
     "name": "#%%\n"
    }
   }
  }
 ],
 "metadata": {
  "kernelspec": {
   "display_name": "Python 3",
   "language": "python",
   "name": "python3"
  },
  "language_info": {
   "codemirror_mode": {
    "name": "ipython",
    "version": 2
   },
   "file_extension": ".py",
   "mimetype": "text/x-python",
   "name": "python",
   "nbconvert_exporter": "python",
   "pygments_lexer": "ipython2",
   "version": "2.7.6"
  }
 },
 "nbformat": 4,
 "nbformat_minor": 0
}