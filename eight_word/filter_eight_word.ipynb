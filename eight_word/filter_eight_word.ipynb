{
 "cells": [
  {
   "cell_type": "code",
   "execution_count": 21,
   "metadata": {
    "collapsed": true
   },
   "outputs": [],
   "source": [
    "import pandas as pd"
   ]
  },
  {
   "cell_type": "code",
   "execution_count": 22,
   "outputs": [
    {
     "data": {
      "text/plain": "              datetime  year  month  day  hour  minute year_word month_word  \\\n0  2023-01-01 00:30:00  2023      1    1     0      30        壬寅         壬子   \n1  2023-01-01 01:30:00  2023      1    1     1      30        壬寅         壬子   \n2  2023-01-01 02:30:00  2023      1    1     2      30        壬寅         壬子   \n3  2023-01-01 03:30:00  2023      1    1     3      30        壬寅         壬子   \n4  2023-01-01 04:30:00  2023      1    1     4      30        壬寅         壬子   \n\n  day_word hour_word eight_word  \n0       己未        甲子   壬寅壬子己未甲子  \n1       己未        乙丑   壬寅壬子己未乙丑  \n2       己未        乙丑   壬寅壬子己未乙丑  \n3       己未        丙寅   壬寅壬子己未丙寅  \n4       己未        丙寅   壬寅壬子己未丙寅  ",
      "text/html": "<div>\n<style scoped>\n    .dataframe tbody tr th:only-of-type {\n        vertical-align: middle;\n    }\n\n    .dataframe tbody tr th {\n        vertical-align: top;\n    }\n\n    .dataframe thead th {\n        text-align: right;\n    }\n</style>\n<table border=\"1\" class=\"dataframe\">\n  <thead>\n    <tr style=\"text-align: right;\">\n      <th></th>\n      <th>datetime</th>\n      <th>year</th>\n      <th>month</th>\n      <th>day</th>\n      <th>hour</th>\n      <th>minute</th>\n      <th>year_word</th>\n      <th>month_word</th>\n      <th>day_word</th>\n      <th>hour_word</th>\n      <th>eight_word</th>\n    </tr>\n  </thead>\n  <tbody>\n    <tr>\n      <th>0</th>\n      <td>2023-01-01 00:30:00</td>\n      <td>2023</td>\n      <td>1</td>\n      <td>1</td>\n      <td>0</td>\n      <td>30</td>\n      <td>壬寅</td>\n      <td>壬子</td>\n      <td>己未</td>\n      <td>甲子</td>\n      <td>壬寅壬子己未甲子</td>\n    </tr>\n    <tr>\n      <th>1</th>\n      <td>2023-01-01 01:30:00</td>\n      <td>2023</td>\n      <td>1</td>\n      <td>1</td>\n      <td>1</td>\n      <td>30</td>\n      <td>壬寅</td>\n      <td>壬子</td>\n      <td>己未</td>\n      <td>乙丑</td>\n      <td>壬寅壬子己未乙丑</td>\n    </tr>\n    <tr>\n      <th>2</th>\n      <td>2023-01-01 02:30:00</td>\n      <td>2023</td>\n      <td>1</td>\n      <td>1</td>\n      <td>2</td>\n      <td>30</td>\n      <td>壬寅</td>\n      <td>壬子</td>\n      <td>己未</td>\n      <td>乙丑</td>\n      <td>壬寅壬子己未乙丑</td>\n    </tr>\n    <tr>\n      <th>3</th>\n      <td>2023-01-01 03:30:00</td>\n      <td>2023</td>\n      <td>1</td>\n      <td>1</td>\n      <td>3</td>\n      <td>30</td>\n      <td>壬寅</td>\n      <td>壬子</td>\n      <td>己未</td>\n      <td>丙寅</td>\n      <td>壬寅壬子己未丙寅</td>\n    </tr>\n    <tr>\n      <th>4</th>\n      <td>2023-01-01 04:30:00</td>\n      <td>2023</td>\n      <td>1</td>\n      <td>1</td>\n      <td>4</td>\n      <td>30</td>\n      <td>壬寅</td>\n      <td>壬子</td>\n      <td>己未</td>\n      <td>丙寅</td>\n      <td>壬寅壬子己未丙寅</td>\n    </tr>\n  </tbody>\n</table>\n</div>"
     },
     "execution_count": 22,
     "metadata": {},
     "output_type": "execute_result"
    }
   ],
   "source": [
    "df = pd.read_csv('eight_word_new.csv')\n",
    "df.head()"
   ],
   "metadata": {
    "collapsed": false,
    "pycharm": {
     "name": "#%%\n"
    }
   }
  },
  {
   "cell_type": "code",
   "execution_count": 23,
   "outputs": [],
   "source": [
    "def contain_fire(words):\n",
    "    c = 0\n",
    "    for w in words:\n",
    "        if w in ('丙', '丁', '巳', '午'):\n",
    "            c += 1\n",
    "    if c >= 4:\n",
    "        return True\n",
    "    else:\n",
    "        return False\n",
    "\n",
    "\n",
    "def contain_fire_earth(words, num=4):\n",
    "    c = 0\n",
    "    for w in words:\n",
    "        if w in ('丙', '丁', '巳', '午', '戊', '辰', '戌'):\n",
    "            c += 1\n",
    "    if c >= num:\n",
    "        return True\n",
    "    else:\n",
    "        return False\n",
    "\n",
    "\n",
    "def contain_fire_earth_dedup(words, num=4):\n",
    "    c = 0\n",
    "    for w in words:\n",
    "        if w in ('丙', '丁', '巳', '午', '戊', '辰', '戌'):\n",
    "            c += 1\n",
    "    for l in ('戊', '辰', '戌'):\n",
    "        if words.count(l) == 2:\n",
    "            c -= 1\n",
    "    if c >= num:\n",
    "        return True\n",
    "    else:\n",
    "        return False\n",
    "\n",
    "\n",
    "def without_wood(words):\n",
    "    for w in words:\n",
    "        if w in ('甲', '乙', '寅', '卯', '庚', '辛', '申', '酉'):\n",
    "            return False\n",
    "        else:\n",
    "            return True"
   ],
   "metadata": {
    "collapsed": false,
    "pycharm": {
     "name": "#%%\n"
    }
   }
  },
  {
   "cell_type": "code",
   "execution_count": 24,
   "outputs": [
    {
     "data": {
      "text/plain": "                  datetime  year  month  day  hour  minute year_word  \\\n1403   2023-02-28 11:30:00  2023      2   28    11      30        癸卯   \n1404   2023-02-28 12:30:00  2023      2   28    12      30        癸卯   \n2265   2023-04-05 09:30:00  2023      4    5     9      30        癸卯   \n2266   2023-04-05 10:30:00  2023      4    5    10      30        癸卯   \n2363   2023-04-09 11:30:00  2023      4    9    11      30        癸卯   \n...                    ...   ...    ...  ...   ...     ...       ...   \n25886  2025-12-14 14:30:00  2025     12   14    14      30        乙巳   \n25905  2025-12-15 09:30:00  2025     12   15     9      30        乙巳   \n25906  2025-12-15 10:30:00  2025     12   15    10      30        乙巳   \n26123  2025-12-24 11:30:00  2025     12   24    11      30        乙巳   \n26124  2025-12-24 12:30:00  2025     12   24    12      30        乙巳   \n\n      month_word day_word hour_word eight_word  four_fire  \n1403          甲寅       丁巳        丙午   癸卯甲寅丁巳丙午       True  \n1404          甲寅       丁巳        丙午   癸卯甲寅丁巳丙午       True  \n2265          丙辰       癸巳        丁巳   癸卯丙辰癸巳丁巳       True  \n2266          丙辰       癸巳        丁巳   癸卯丙辰癸巳丁巳       True  \n2363          丙辰       丁酉        丙午   癸卯丙辰丁酉丙午       True  \n...          ...      ...       ...        ...        ...  \n25886         戊子       丁巳        丁未   乙巳戊子丁巳丁未       True  \n25905         戊子       戊午        丁巳   乙巳戊子戊午丁巳       True  \n25906         戊子       戊午        丁巳   乙巳戊子戊午丁巳       True  \n26123         戊子       丁卯        丙午   乙巳戊子丁卯丙午       True  \n26124         戊子       丁卯        丙午   乙巳戊子丁卯丙午       True  \n\n[797 rows x 12 columns]",
      "text/html": "<div>\n<style scoped>\n    .dataframe tbody tr th:only-of-type {\n        vertical-align: middle;\n    }\n\n    .dataframe tbody tr th {\n        vertical-align: top;\n    }\n\n    .dataframe thead th {\n        text-align: right;\n    }\n</style>\n<table border=\"1\" class=\"dataframe\">\n  <thead>\n    <tr style=\"text-align: right;\">\n      <th></th>\n      <th>datetime</th>\n      <th>year</th>\n      <th>month</th>\n      <th>day</th>\n      <th>hour</th>\n      <th>minute</th>\n      <th>year_word</th>\n      <th>month_word</th>\n      <th>day_word</th>\n      <th>hour_word</th>\n      <th>eight_word</th>\n      <th>four_fire</th>\n    </tr>\n  </thead>\n  <tbody>\n    <tr>\n      <th>1403</th>\n      <td>2023-02-28 11:30:00</td>\n      <td>2023</td>\n      <td>2</td>\n      <td>28</td>\n      <td>11</td>\n      <td>30</td>\n      <td>癸卯</td>\n      <td>甲寅</td>\n      <td>丁巳</td>\n      <td>丙午</td>\n      <td>癸卯甲寅丁巳丙午</td>\n      <td>True</td>\n    </tr>\n    <tr>\n      <th>1404</th>\n      <td>2023-02-28 12:30:00</td>\n      <td>2023</td>\n      <td>2</td>\n      <td>28</td>\n      <td>12</td>\n      <td>30</td>\n      <td>癸卯</td>\n      <td>甲寅</td>\n      <td>丁巳</td>\n      <td>丙午</td>\n      <td>癸卯甲寅丁巳丙午</td>\n      <td>True</td>\n    </tr>\n    <tr>\n      <th>2265</th>\n      <td>2023-04-05 09:30:00</td>\n      <td>2023</td>\n      <td>4</td>\n      <td>5</td>\n      <td>9</td>\n      <td>30</td>\n      <td>癸卯</td>\n      <td>丙辰</td>\n      <td>癸巳</td>\n      <td>丁巳</td>\n      <td>癸卯丙辰癸巳丁巳</td>\n      <td>True</td>\n    </tr>\n    <tr>\n      <th>2266</th>\n      <td>2023-04-05 10:30:00</td>\n      <td>2023</td>\n      <td>4</td>\n      <td>5</td>\n      <td>10</td>\n      <td>30</td>\n      <td>癸卯</td>\n      <td>丙辰</td>\n      <td>癸巳</td>\n      <td>丁巳</td>\n      <td>癸卯丙辰癸巳丁巳</td>\n      <td>True</td>\n    </tr>\n    <tr>\n      <th>2363</th>\n      <td>2023-04-09 11:30:00</td>\n      <td>2023</td>\n      <td>4</td>\n      <td>9</td>\n      <td>11</td>\n      <td>30</td>\n      <td>癸卯</td>\n      <td>丙辰</td>\n      <td>丁酉</td>\n      <td>丙午</td>\n      <td>癸卯丙辰丁酉丙午</td>\n      <td>True</td>\n    </tr>\n    <tr>\n      <th>...</th>\n      <td>...</td>\n      <td>...</td>\n      <td>...</td>\n      <td>...</td>\n      <td>...</td>\n      <td>...</td>\n      <td>...</td>\n      <td>...</td>\n      <td>...</td>\n      <td>...</td>\n      <td>...</td>\n      <td>...</td>\n    </tr>\n    <tr>\n      <th>25886</th>\n      <td>2025-12-14 14:30:00</td>\n      <td>2025</td>\n      <td>12</td>\n      <td>14</td>\n      <td>14</td>\n      <td>30</td>\n      <td>乙巳</td>\n      <td>戊子</td>\n      <td>丁巳</td>\n      <td>丁未</td>\n      <td>乙巳戊子丁巳丁未</td>\n      <td>True</td>\n    </tr>\n    <tr>\n      <th>25905</th>\n      <td>2025-12-15 09:30:00</td>\n      <td>2025</td>\n      <td>12</td>\n      <td>15</td>\n      <td>9</td>\n      <td>30</td>\n      <td>乙巳</td>\n      <td>戊子</td>\n      <td>戊午</td>\n      <td>丁巳</td>\n      <td>乙巳戊子戊午丁巳</td>\n      <td>True</td>\n    </tr>\n    <tr>\n      <th>25906</th>\n      <td>2025-12-15 10:30:00</td>\n      <td>2025</td>\n      <td>12</td>\n      <td>15</td>\n      <td>10</td>\n      <td>30</td>\n      <td>乙巳</td>\n      <td>戊子</td>\n      <td>戊午</td>\n      <td>丁巳</td>\n      <td>乙巳戊子戊午丁巳</td>\n      <td>True</td>\n    </tr>\n    <tr>\n      <th>26123</th>\n      <td>2025-12-24 11:30:00</td>\n      <td>2025</td>\n      <td>12</td>\n      <td>24</td>\n      <td>11</td>\n      <td>30</td>\n      <td>乙巳</td>\n      <td>戊子</td>\n      <td>丁卯</td>\n      <td>丙午</td>\n      <td>乙巳戊子丁卯丙午</td>\n      <td>True</td>\n    </tr>\n    <tr>\n      <th>26124</th>\n      <td>2025-12-24 12:30:00</td>\n      <td>2025</td>\n      <td>12</td>\n      <td>24</td>\n      <td>12</td>\n      <td>30</td>\n      <td>乙巳</td>\n      <td>戊子</td>\n      <td>丁卯</td>\n      <td>丙午</td>\n      <td>乙巳戊子丁卯丙午</td>\n      <td>True</td>\n    </tr>\n  </tbody>\n</table>\n<p>797 rows × 12 columns</p>\n</div>"
     },
     "execution_count": 24,
     "metadata": {},
     "output_type": "execute_result"
    }
   ],
   "source": [
    "df['four_fire'] = df['eight_word'].apply(contain_fire)\n",
    "df[df['four_fire'] == True]"
   ],
   "metadata": {
    "collapsed": false,
    "pycharm": {
     "name": "#%%\n"
    }
   }
  },
  {
   "cell_type": "code",
   "execution_count": 25,
   "outputs": [
    {
     "data": {
      "text/plain": "                  datetime  year  month  day  hour  minute year_word  \\\n223    2023-01-10 07:30:00  2023      1   10     7      30        壬寅   \n224    2023-01-10 08:30:00  2023      1   10     8      30        壬寅   \n225    2023-01-10 09:30:00  2023      1   10     9      30        壬寅   \n226    2023-01-10 10:30:00  2023      1   10    10      30        壬寅   \n227    2023-01-10 11:30:00  2023      1   10    11      30        壬寅   \n...                    ...   ...    ...  ...   ...     ...       ...   \n26291  2025-12-31 11:30:00  2025     12   31    11      30        乙巳   \n26292  2025-12-31 12:30:00  2025     12   31    12      30        乙巳   \n26299  2025-12-31 19:30:00  2025     12   31    19      30        乙巳   \n26300  2025-12-31 20:30:00  2025     12   31    20      30        乙巳   \n26303  2025-12-31 23:30:00  2025     12   31    23      30        乙巳   \n\n      month_word day_word hour_word eight_word  four_fire  four_fire_earth4  \n223           癸丑       戊辰        丙辰   壬寅癸丑戊辰丙辰      False              True  \n224           癸丑       戊辰        丙辰   壬寅癸丑戊辰丙辰      False              True  \n225           癸丑       戊辰        丁巳   壬寅癸丑戊辰丁巳      False              True  \n226           癸丑       戊辰        丁巳   壬寅癸丑戊辰丁巳      False              True  \n227           癸丑       戊辰        戊午   壬寅癸丑戊辰戊午      False              True  \n...          ...      ...       ...        ...        ...               ...  \n26291         戊子       甲戌        庚午   乙巳戊子甲戌庚午      False              True  \n26292         戊子       甲戌        庚午   乙巳戊子甲戌庚午      False              True  \n26299         戊子       甲戌        甲戌   乙巳戊子甲戌甲戌      False              True  \n26300         戊子       甲戌        甲戌   乙巳戊子甲戌甲戌      False              True  \n26303         戊子       甲戌        丙子   乙巳戊子甲戌丙子      False              True  \n\n[6236 rows x 13 columns]",
      "text/html": "<div>\n<style scoped>\n    .dataframe tbody tr th:only-of-type {\n        vertical-align: middle;\n    }\n\n    .dataframe tbody tr th {\n        vertical-align: top;\n    }\n\n    .dataframe thead th {\n        text-align: right;\n    }\n</style>\n<table border=\"1\" class=\"dataframe\">\n  <thead>\n    <tr style=\"text-align: right;\">\n      <th></th>\n      <th>datetime</th>\n      <th>year</th>\n      <th>month</th>\n      <th>day</th>\n      <th>hour</th>\n      <th>minute</th>\n      <th>year_word</th>\n      <th>month_word</th>\n      <th>day_word</th>\n      <th>hour_word</th>\n      <th>eight_word</th>\n      <th>four_fire</th>\n      <th>four_fire_earth4</th>\n    </tr>\n  </thead>\n  <tbody>\n    <tr>\n      <th>223</th>\n      <td>2023-01-10 07:30:00</td>\n      <td>2023</td>\n      <td>1</td>\n      <td>10</td>\n      <td>7</td>\n      <td>30</td>\n      <td>壬寅</td>\n      <td>癸丑</td>\n      <td>戊辰</td>\n      <td>丙辰</td>\n      <td>壬寅癸丑戊辰丙辰</td>\n      <td>False</td>\n      <td>True</td>\n    </tr>\n    <tr>\n      <th>224</th>\n      <td>2023-01-10 08:30:00</td>\n      <td>2023</td>\n      <td>1</td>\n      <td>10</td>\n      <td>8</td>\n      <td>30</td>\n      <td>壬寅</td>\n      <td>癸丑</td>\n      <td>戊辰</td>\n      <td>丙辰</td>\n      <td>壬寅癸丑戊辰丙辰</td>\n      <td>False</td>\n      <td>True</td>\n    </tr>\n    <tr>\n      <th>225</th>\n      <td>2023-01-10 09:30:00</td>\n      <td>2023</td>\n      <td>1</td>\n      <td>10</td>\n      <td>9</td>\n      <td>30</td>\n      <td>壬寅</td>\n      <td>癸丑</td>\n      <td>戊辰</td>\n      <td>丁巳</td>\n      <td>壬寅癸丑戊辰丁巳</td>\n      <td>False</td>\n      <td>True</td>\n    </tr>\n    <tr>\n      <th>226</th>\n      <td>2023-01-10 10:30:00</td>\n      <td>2023</td>\n      <td>1</td>\n      <td>10</td>\n      <td>10</td>\n      <td>30</td>\n      <td>壬寅</td>\n      <td>癸丑</td>\n      <td>戊辰</td>\n      <td>丁巳</td>\n      <td>壬寅癸丑戊辰丁巳</td>\n      <td>False</td>\n      <td>True</td>\n    </tr>\n    <tr>\n      <th>227</th>\n      <td>2023-01-10 11:30:00</td>\n      <td>2023</td>\n      <td>1</td>\n      <td>10</td>\n      <td>11</td>\n      <td>30</td>\n      <td>壬寅</td>\n      <td>癸丑</td>\n      <td>戊辰</td>\n      <td>戊午</td>\n      <td>壬寅癸丑戊辰戊午</td>\n      <td>False</td>\n      <td>True</td>\n    </tr>\n    <tr>\n      <th>...</th>\n      <td>...</td>\n      <td>...</td>\n      <td>...</td>\n      <td>...</td>\n      <td>...</td>\n      <td>...</td>\n      <td>...</td>\n      <td>...</td>\n      <td>...</td>\n      <td>...</td>\n      <td>...</td>\n      <td>...</td>\n      <td>...</td>\n    </tr>\n    <tr>\n      <th>26291</th>\n      <td>2025-12-31 11:30:00</td>\n      <td>2025</td>\n      <td>12</td>\n      <td>31</td>\n      <td>11</td>\n      <td>30</td>\n      <td>乙巳</td>\n      <td>戊子</td>\n      <td>甲戌</td>\n      <td>庚午</td>\n      <td>乙巳戊子甲戌庚午</td>\n      <td>False</td>\n      <td>True</td>\n    </tr>\n    <tr>\n      <th>26292</th>\n      <td>2025-12-31 12:30:00</td>\n      <td>2025</td>\n      <td>12</td>\n      <td>31</td>\n      <td>12</td>\n      <td>30</td>\n      <td>乙巳</td>\n      <td>戊子</td>\n      <td>甲戌</td>\n      <td>庚午</td>\n      <td>乙巳戊子甲戌庚午</td>\n      <td>False</td>\n      <td>True</td>\n    </tr>\n    <tr>\n      <th>26299</th>\n      <td>2025-12-31 19:30:00</td>\n      <td>2025</td>\n      <td>12</td>\n      <td>31</td>\n      <td>19</td>\n      <td>30</td>\n      <td>乙巳</td>\n      <td>戊子</td>\n      <td>甲戌</td>\n      <td>甲戌</td>\n      <td>乙巳戊子甲戌甲戌</td>\n      <td>False</td>\n      <td>True</td>\n    </tr>\n    <tr>\n      <th>26300</th>\n      <td>2025-12-31 20:30:00</td>\n      <td>2025</td>\n      <td>12</td>\n      <td>31</td>\n      <td>20</td>\n      <td>30</td>\n      <td>乙巳</td>\n      <td>戊子</td>\n      <td>甲戌</td>\n      <td>甲戌</td>\n      <td>乙巳戊子甲戌甲戌</td>\n      <td>False</td>\n      <td>True</td>\n    </tr>\n    <tr>\n      <th>26303</th>\n      <td>2025-12-31 23:30:00</td>\n      <td>2025</td>\n      <td>12</td>\n      <td>31</td>\n      <td>23</td>\n      <td>30</td>\n      <td>乙巳</td>\n      <td>戊子</td>\n      <td>甲戌</td>\n      <td>丙子</td>\n      <td>乙巳戊子甲戌丙子</td>\n      <td>False</td>\n      <td>True</td>\n    </tr>\n  </tbody>\n</table>\n<p>6236 rows × 13 columns</p>\n</div>"
     },
     "execution_count": 25,
     "metadata": {},
     "output_type": "execute_result"
    }
   ],
   "source": [
    "df['four_fire_earth4'] = df['eight_word'].apply(contain_fire_earth)\n",
    "df[df['four_fire_earth4'] == True]"
   ],
   "metadata": {
    "collapsed": false,
    "pycharm": {
     "name": "#%%\n"
    }
   }
  },
  {
   "cell_type": "code",
   "execution_count": 26,
   "outputs": [
    {
     "data": {
      "text/plain": "                  datetime  year  month  day  hour  minute year_word  \\\n2383   2023-04-10 07:30:00  2023      4   10     7      30        癸卯   \n2384   2023-04-10 08:30:00  2023      4   10     8      30        癸卯   \n2385   2023-04-10 09:30:00  2023      4   10     9      30        癸卯   \n2386   2023-04-10 10:30:00  2023      4   10    10      30        癸卯   \n2387   2023-04-10 11:30:00  2023      4   10    11      30        癸卯   \n...                    ...   ...    ...  ...   ...     ...       ...   \n26144  2025-12-25 08:30:00  2025     12   25     8      30        乙巳   \n26145  2025-12-25 09:30:00  2025     12   25     9      30        乙巳   \n26146  2025-12-25 10:30:00  2025     12   25    10      30        乙巳   \n26147  2025-12-25 11:30:00  2025     12   25    11      30        乙巳   \n26148  2025-12-25 12:30:00  2025     12   25    12      30        乙巳   \n\n      month_word day_word hour_word eight_word  four_fire  four_fire_earth4  \\\n2383          丙辰       戊戌        丙辰   癸卯丙辰戊戌丙辰      False              True   \n2384          丙辰       戊戌        丙辰   癸卯丙辰戊戌丙辰      False              True   \n2385          丙辰       戊戌        丁巳   癸卯丙辰戊戌丁巳      False              True   \n2386          丙辰       戊戌        丁巳   癸卯丙辰戊戌丁巳      False              True   \n2387          丙辰       戊戌        戊午   癸卯丙辰戊戌戊午      False              True   \n...          ...      ...       ...        ...        ...               ...   \n26144         戊子       戊辰        丙辰   乙巳戊子戊辰丙辰      False              True   \n26145         戊子       戊辰        丁巳   乙巳戊子戊辰丁巳      False              True   \n26146         戊子       戊辰        丁巳   乙巳戊子戊辰丁巳      False              True   \n26147         戊子       戊辰        戊午   乙巳戊子戊辰戊午      False              True   \n26148         戊子       戊辰        戊午   乙巳戊子戊辰戊午      False              True   \n\n       four_fire_earth6  \n2383               True  \n2384               True  \n2385               True  \n2386               True  \n2387               True  \n...                 ...  \n26144              True  \n26145              True  \n26146              True  \n26147              True  \n26148              True  \n\n[370 rows x 14 columns]",
      "text/html": "<div>\n<style scoped>\n    .dataframe tbody tr th:only-of-type {\n        vertical-align: middle;\n    }\n\n    .dataframe tbody tr th {\n        vertical-align: top;\n    }\n\n    .dataframe thead th {\n        text-align: right;\n    }\n</style>\n<table border=\"1\" class=\"dataframe\">\n  <thead>\n    <tr style=\"text-align: right;\">\n      <th></th>\n      <th>datetime</th>\n      <th>year</th>\n      <th>month</th>\n      <th>day</th>\n      <th>hour</th>\n      <th>minute</th>\n      <th>year_word</th>\n      <th>month_word</th>\n      <th>day_word</th>\n      <th>hour_word</th>\n      <th>eight_word</th>\n      <th>four_fire</th>\n      <th>four_fire_earth4</th>\n      <th>four_fire_earth6</th>\n    </tr>\n  </thead>\n  <tbody>\n    <tr>\n      <th>2383</th>\n      <td>2023-04-10 07:30:00</td>\n      <td>2023</td>\n      <td>4</td>\n      <td>10</td>\n      <td>7</td>\n      <td>30</td>\n      <td>癸卯</td>\n      <td>丙辰</td>\n      <td>戊戌</td>\n      <td>丙辰</td>\n      <td>癸卯丙辰戊戌丙辰</td>\n      <td>False</td>\n      <td>True</td>\n      <td>True</td>\n    </tr>\n    <tr>\n      <th>2384</th>\n      <td>2023-04-10 08:30:00</td>\n      <td>2023</td>\n      <td>4</td>\n      <td>10</td>\n      <td>8</td>\n      <td>30</td>\n      <td>癸卯</td>\n      <td>丙辰</td>\n      <td>戊戌</td>\n      <td>丙辰</td>\n      <td>癸卯丙辰戊戌丙辰</td>\n      <td>False</td>\n      <td>True</td>\n      <td>True</td>\n    </tr>\n    <tr>\n      <th>2385</th>\n      <td>2023-04-10 09:30:00</td>\n      <td>2023</td>\n      <td>4</td>\n      <td>10</td>\n      <td>9</td>\n      <td>30</td>\n      <td>癸卯</td>\n      <td>丙辰</td>\n      <td>戊戌</td>\n      <td>丁巳</td>\n      <td>癸卯丙辰戊戌丁巳</td>\n      <td>False</td>\n      <td>True</td>\n      <td>True</td>\n    </tr>\n    <tr>\n      <th>2386</th>\n      <td>2023-04-10 10:30:00</td>\n      <td>2023</td>\n      <td>4</td>\n      <td>10</td>\n      <td>10</td>\n      <td>30</td>\n      <td>癸卯</td>\n      <td>丙辰</td>\n      <td>戊戌</td>\n      <td>丁巳</td>\n      <td>癸卯丙辰戊戌丁巳</td>\n      <td>False</td>\n      <td>True</td>\n      <td>True</td>\n    </tr>\n    <tr>\n      <th>2387</th>\n      <td>2023-04-10 11:30:00</td>\n      <td>2023</td>\n      <td>4</td>\n      <td>10</td>\n      <td>11</td>\n      <td>30</td>\n      <td>癸卯</td>\n      <td>丙辰</td>\n      <td>戊戌</td>\n      <td>戊午</td>\n      <td>癸卯丙辰戊戌戊午</td>\n      <td>False</td>\n      <td>True</td>\n      <td>True</td>\n    </tr>\n    <tr>\n      <th>...</th>\n      <td>...</td>\n      <td>...</td>\n      <td>...</td>\n      <td>...</td>\n      <td>...</td>\n      <td>...</td>\n      <td>...</td>\n      <td>...</td>\n      <td>...</td>\n      <td>...</td>\n      <td>...</td>\n      <td>...</td>\n      <td>...</td>\n      <td>...</td>\n    </tr>\n    <tr>\n      <th>26144</th>\n      <td>2025-12-25 08:30:00</td>\n      <td>2025</td>\n      <td>12</td>\n      <td>25</td>\n      <td>8</td>\n      <td>30</td>\n      <td>乙巳</td>\n      <td>戊子</td>\n      <td>戊辰</td>\n      <td>丙辰</td>\n      <td>乙巳戊子戊辰丙辰</td>\n      <td>False</td>\n      <td>True</td>\n      <td>True</td>\n    </tr>\n    <tr>\n      <th>26145</th>\n      <td>2025-12-25 09:30:00</td>\n      <td>2025</td>\n      <td>12</td>\n      <td>25</td>\n      <td>9</td>\n      <td>30</td>\n      <td>乙巳</td>\n      <td>戊子</td>\n      <td>戊辰</td>\n      <td>丁巳</td>\n      <td>乙巳戊子戊辰丁巳</td>\n      <td>False</td>\n      <td>True</td>\n      <td>True</td>\n    </tr>\n    <tr>\n      <th>26146</th>\n      <td>2025-12-25 10:30:00</td>\n      <td>2025</td>\n      <td>12</td>\n      <td>25</td>\n      <td>10</td>\n      <td>30</td>\n      <td>乙巳</td>\n      <td>戊子</td>\n      <td>戊辰</td>\n      <td>丁巳</td>\n      <td>乙巳戊子戊辰丁巳</td>\n      <td>False</td>\n      <td>True</td>\n      <td>True</td>\n    </tr>\n    <tr>\n      <th>26147</th>\n      <td>2025-12-25 11:30:00</td>\n      <td>2025</td>\n      <td>12</td>\n      <td>25</td>\n      <td>11</td>\n      <td>30</td>\n      <td>乙巳</td>\n      <td>戊子</td>\n      <td>戊辰</td>\n      <td>戊午</td>\n      <td>乙巳戊子戊辰戊午</td>\n      <td>False</td>\n      <td>True</td>\n      <td>True</td>\n    </tr>\n    <tr>\n      <th>26148</th>\n      <td>2025-12-25 12:30:00</td>\n      <td>2025</td>\n      <td>12</td>\n      <td>25</td>\n      <td>12</td>\n      <td>30</td>\n      <td>乙巳</td>\n      <td>戊子</td>\n      <td>戊辰</td>\n      <td>戊午</td>\n      <td>乙巳戊子戊辰戊午</td>\n      <td>False</td>\n      <td>True</td>\n      <td>True</td>\n    </tr>\n  </tbody>\n</table>\n<p>370 rows × 14 columns</p>\n</div>"
     },
     "execution_count": 26,
     "metadata": {},
     "output_type": "execute_result"
    }
   ],
   "source": [
    "df['four_fire_earth6'] = df.apply(lambda row: contain_fire_earth(row['eight_word'], 6), axis=1)\n",
    "df[df['four_fire_earth6'] == True]"
   ],
   "metadata": {
    "collapsed": false,
    "pycharm": {
     "name": "#%%\n"
    }
   }
  },
  {
   "cell_type": "code",
   "execution_count": 27,
   "outputs": [
    {
     "data": {
      "text/plain": "                  datetime  year  month  day  hour  minute year_word  \\\n2385   2023-04-10 09:30:00  2023      4   10     9      30        癸卯   \n2386   2023-04-10 10:30:00  2023      4   10    10      30        癸卯   \n2587   2023-04-18 19:30:00  2023      4   18    19      30        癸卯   \n2588   2023-04-18 20:30:00  2023      4   18    20      30        癸卯   \n2843   2023-04-29 11:30:00  2023      4   29    11      30        癸卯   \n...                    ...   ...    ...  ...   ...     ...       ...   \n25884  2025-12-14 12:30:00  2025     12   14    12      30        乙巳   \n25907  2025-12-15 11:30:00  2025     12   15    11      30        乙巳   \n25908  2025-12-15 12:30:00  2025     12   15    12      30        乙巳   \n26147  2025-12-25 11:30:00  2025     12   25    11      30        乙巳   \n26148  2025-12-25 12:30:00  2025     12   25    12      30        乙巳   \n\n      month_word day_word hour_word eight_word  four_fire  four_fire_earth4  \\\n2385          丙辰       戊戌        丁巳   癸卯丙辰戊戌丁巳      False              True   \n2386          丙辰       戊戌        丁巳   癸卯丙辰戊戌丁巳      False              True   \n2587          丙辰       丙午        戊戌   癸卯丙辰丙午戊戌      False              True   \n2588          丙辰       丙午        戊戌   癸卯丙辰丙午戊戌      False              True   \n2843          丙辰       丁巳        丙午   癸卯丙辰丁巳丙午       True              True   \n...          ...      ...       ...        ...        ...               ...   \n25884         戊子       丁巳        丙午   乙巳戊子丁巳丙午       True              True   \n25907         戊子       戊午        戊午   乙巳戊子戊午戊午      False              True   \n25908         戊子       戊午        戊午   乙巳戊子戊午戊午      False              True   \n26147         戊子       戊辰        戊午   乙巳戊子戊辰戊午      False              True   \n26148         戊子       戊辰        戊午   乙巳戊子戊辰戊午      False              True   \n\n       four_fire_earth6  four_fire_earth6_dedup  \n2385               True                    True  \n2386               True                    True  \n2587               True                    True  \n2588               True                    True  \n2843               True                    True  \n...                 ...                     ...  \n25884              True                    True  \n25907              True                    True  \n25908              True                    True  \n26147              True                    True  \n26148              True                    True  \n\n[167 rows x 15 columns]",
      "text/html": "<div>\n<style scoped>\n    .dataframe tbody tr th:only-of-type {\n        vertical-align: middle;\n    }\n\n    .dataframe tbody tr th {\n        vertical-align: top;\n    }\n\n    .dataframe thead th {\n        text-align: right;\n    }\n</style>\n<table border=\"1\" class=\"dataframe\">\n  <thead>\n    <tr style=\"text-align: right;\">\n      <th></th>\n      <th>datetime</th>\n      <th>year</th>\n      <th>month</th>\n      <th>day</th>\n      <th>hour</th>\n      <th>minute</th>\n      <th>year_word</th>\n      <th>month_word</th>\n      <th>day_word</th>\n      <th>hour_word</th>\n      <th>eight_word</th>\n      <th>four_fire</th>\n      <th>four_fire_earth4</th>\n      <th>four_fire_earth6</th>\n      <th>four_fire_earth6_dedup</th>\n    </tr>\n  </thead>\n  <tbody>\n    <tr>\n      <th>2385</th>\n      <td>2023-04-10 09:30:00</td>\n      <td>2023</td>\n      <td>4</td>\n      <td>10</td>\n      <td>9</td>\n      <td>30</td>\n      <td>癸卯</td>\n      <td>丙辰</td>\n      <td>戊戌</td>\n      <td>丁巳</td>\n      <td>癸卯丙辰戊戌丁巳</td>\n      <td>False</td>\n      <td>True</td>\n      <td>True</td>\n      <td>True</td>\n    </tr>\n    <tr>\n      <th>2386</th>\n      <td>2023-04-10 10:30:00</td>\n      <td>2023</td>\n      <td>4</td>\n      <td>10</td>\n      <td>10</td>\n      <td>30</td>\n      <td>癸卯</td>\n      <td>丙辰</td>\n      <td>戊戌</td>\n      <td>丁巳</td>\n      <td>癸卯丙辰戊戌丁巳</td>\n      <td>False</td>\n      <td>True</td>\n      <td>True</td>\n      <td>True</td>\n    </tr>\n    <tr>\n      <th>2587</th>\n      <td>2023-04-18 19:30:00</td>\n      <td>2023</td>\n      <td>4</td>\n      <td>18</td>\n      <td>19</td>\n      <td>30</td>\n      <td>癸卯</td>\n      <td>丙辰</td>\n      <td>丙午</td>\n      <td>戊戌</td>\n      <td>癸卯丙辰丙午戊戌</td>\n      <td>False</td>\n      <td>True</td>\n      <td>True</td>\n      <td>True</td>\n    </tr>\n    <tr>\n      <th>2588</th>\n      <td>2023-04-18 20:30:00</td>\n      <td>2023</td>\n      <td>4</td>\n      <td>18</td>\n      <td>20</td>\n      <td>30</td>\n      <td>癸卯</td>\n      <td>丙辰</td>\n      <td>丙午</td>\n      <td>戊戌</td>\n      <td>癸卯丙辰丙午戊戌</td>\n      <td>False</td>\n      <td>True</td>\n      <td>True</td>\n      <td>True</td>\n    </tr>\n    <tr>\n      <th>2843</th>\n      <td>2023-04-29 11:30:00</td>\n      <td>2023</td>\n      <td>4</td>\n      <td>29</td>\n      <td>11</td>\n      <td>30</td>\n      <td>癸卯</td>\n      <td>丙辰</td>\n      <td>丁巳</td>\n      <td>丙午</td>\n      <td>癸卯丙辰丁巳丙午</td>\n      <td>True</td>\n      <td>True</td>\n      <td>True</td>\n      <td>True</td>\n    </tr>\n    <tr>\n      <th>...</th>\n      <td>...</td>\n      <td>...</td>\n      <td>...</td>\n      <td>...</td>\n      <td>...</td>\n      <td>...</td>\n      <td>...</td>\n      <td>...</td>\n      <td>...</td>\n      <td>...</td>\n      <td>...</td>\n      <td>...</td>\n      <td>...</td>\n      <td>...</td>\n      <td>...</td>\n    </tr>\n    <tr>\n      <th>25884</th>\n      <td>2025-12-14 12:30:00</td>\n      <td>2025</td>\n      <td>12</td>\n      <td>14</td>\n      <td>12</td>\n      <td>30</td>\n      <td>乙巳</td>\n      <td>戊子</td>\n      <td>丁巳</td>\n      <td>丙午</td>\n      <td>乙巳戊子丁巳丙午</td>\n      <td>True</td>\n      <td>True</td>\n      <td>True</td>\n      <td>True</td>\n    </tr>\n    <tr>\n      <th>25907</th>\n      <td>2025-12-15 11:30:00</td>\n      <td>2025</td>\n      <td>12</td>\n      <td>15</td>\n      <td>11</td>\n      <td>30</td>\n      <td>乙巳</td>\n      <td>戊子</td>\n      <td>戊午</td>\n      <td>戊午</td>\n      <td>乙巳戊子戊午戊午</td>\n      <td>False</td>\n      <td>True</td>\n      <td>True</td>\n      <td>True</td>\n    </tr>\n    <tr>\n      <th>25908</th>\n      <td>2025-12-15 12:30:00</td>\n      <td>2025</td>\n      <td>12</td>\n      <td>15</td>\n      <td>12</td>\n      <td>30</td>\n      <td>乙巳</td>\n      <td>戊子</td>\n      <td>戊午</td>\n      <td>戊午</td>\n      <td>乙巳戊子戊午戊午</td>\n      <td>False</td>\n      <td>True</td>\n      <td>True</td>\n      <td>True</td>\n    </tr>\n    <tr>\n      <th>26147</th>\n      <td>2025-12-25 11:30:00</td>\n      <td>2025</td>\n      <td>12</td>\n      <td>25</td>\n      <td>11</td>\n      <td>30</td>\n      <td>乙巳</td>\n      <td>戊子</td>\n      <td>戊辰</td>\n      <td>戊午</td>\n      <td>乙巳戊子戊辰戊午</td>\n      <td>False</td>\n      <td>True</td>\n      <td>True</td>\n      <td>True</td>\n    </tr>\n    <tr>\n      <th>26148</th>\n      <td>2025-12-25 12:30:00</td>\n      <td>2025</td>\n      <td>12</td>\n      <td>25</td>\n      <td>12</td>\n      <td>30</td>\n      <td>乙巳</td>\n      <td>戊子</td>\n      <td>戊辰</td>\n      <td>戊午</td>\n      <td>乙巳戊子戊辰戊午</td>\n      <td>False</td>\n      <td>True</td>\n      <td>True</td>\n      <td>True</td>\n    </tr>\n  </tbody>\n</table>\n<p>167 rows × 15 columns</p>\n</div>"
     },
     "execution_count": 27,
     "metadata": {},
     "output_type": "execute_result"
    }
   ],
   "source": [
    "df['four_fire_earth6_dedup'] = df.apply(lambda row: contain_fire_earth_dedup(row['eight_word'], 6), axis=1)\n",
    "df[df['four_fire_earth6_dedup'] == True]"
   ],
   "metadata": {
    "collapsed": false,
    "pycharm": {
     "name": "#%%\n"
    }
   }
  },
  {
   "cell_type": "code",
   "execution_count": 28,
   "outputs": [
    {
     "data": {
      "text/plain": "                  datetime  year  month  day  hour  minute year_word  \\\n1403   2023-02-28 11:30:00  2023      2   28    11      30        癸卯   \n1404   2023-02-28 12:30:00  2023      2   28    12      30        癸卯   \n2265   2023-04-05 09:30:00  2023      4    5     9      30        癸卯   \n2266   2023-04-05 10:30:00  2023      4    5    10      30        癸卯   \n2363   2023-04-09 11:30:00  2023      4    9    11      30        癸卯   \n...                    ...   ...    ...  ...   ...     ...       ...   \n25908  2025-12-15 12:30:00  2025     12   15    12      30        乙巳   \n26123  2025-12-24 11:30:00  2025     12   24    11      30        乙巳   \n26124  2025-12-24 12:30:00  2025     12   24    12      30        乙巳   \n26147  2025-12-25 11:30:00  2025     12   25    11      30        乙巳   \n26148  2025-12-25 12:30:00  2025     12   25    12      30        乙巳   \n\n      month_word day_word hour_word eight_word  four_fire  four_fire_earth4  \\\n1403          甲寅       丁巳        丙午   癸卯甲寅丁巳丙午       True              True   \n1404          甲寅       丁巳        丙午   癸卯甲寅丁巳丙午       True              True   \n2265          丙辰       癸巳        丁巳   癸卯丙辰癸巳丁巳       True              True   \n2266          丙辰       癸巳        丁巳   癸卯丙辰癸巳丁巳       True              True   \n2363          丙辰       丁酉        丙午   癸卯丙辰丁酉丙午       True              True   \n...          ...      ...       ...        ...        ...               ...   \n25908         戊子       戊午        戊午   乙巳戊子戊午戊午      False              True   \n26123         戊子       丁卯        丙午   乙巳戊子丁卯丙午       True              True   \n26124         戊子       丁卯        丙午   乙巳戊子丁卯丙午       True              True   \n26147         戊子       戊辰        戊午   乙巳戊子戊辰戊午      False              True   \n26148         戊子       戊辰        戊午   乙巳戊子戊辰戊午      False              True   \n\n       four_fire_earth6  four_fire_earth6_dedup  \n1403              False                   False  \n1404              False                   False  \n2265              False                   False  \n2266              False                   False  \n2363              False                   False  \n...                 ...                     ...  \n25908              True                    True  \n26123             False                   False  \n26124             False                   False  \n26147              True                    True  \n26148              True                    True  \n\n[884 rows x 15 columns]",
      "text/html": "<div>\n<style scoped>\n    .dataframe tbody tr th:only-of-type {\n        vertical-align: middle;\n    }\n\n    .dataframe tbody tr th {\n        vertical-align: top;\n    }\n\n    .dataframe thead th {\n        text-align: right;\n    }\n</style>\n<table border=\"1\" class=\"dataframe\">\n  <thead>\n    <tr style=\"text-align: right;\">\n      <th></th>\n      <th>datetime</th>\n      <th>year</th>\n      <th>month</th>\n      <th>day</th>\n      <th>hour</th>\n      <th>minute</th>\n      <th>year_word</th>\n      <th>month_word</th>\n      <th>day_word</th>\n      <th>hour_word</th>\n      <th>eight_word</th>\n      <th>four_fire</th>\n      <th>four_fire_earth4</th>\n      <th>four_fire_earth6</th>\n      <th>four_fire_earth6_dedup</th>\n    </tr>\n  </thead>\n  <tbody>\n    <tr>\n      <th>1403</th>\n      <td>2023-02-28 11:30:00</td>\n      <td>2023</td>\n      <td>2</td>\n      <td>28</td>\n      <td>11</td>\n      <td>30</td>\n      <td>癸卯</td>\n      <td>甲寅</td>\n      <td>丁巳</td>\n      <td>丙午</td>\n      <td>癸卯甲寅丁巳丙午</td>\n      <td>True</td>\n      <td>True</td>\n      <td>False</td>\n      <td>False</td>\n    </tr>\n    <tr>\n      <th>1404</th>\n      <td>2023-02-28 12:30:00</td>\n      <td>2023</td>\n      <td>2</td>\n      <td>28</td>\n      <td>12</td>\n      <td>30</td>\n      <td>癸卯</td>\n      <td>甲寅</td>\n      <td>丁巳</td>\n      <td>丙午</td>\n      <td>癸卯甲寅丁巳丙午</td>\n      <td>True</td>\n      <td>True</td>\n      <td>False</td>\n      <td>False</td>\n    </tr>\n    <tr>\n      <th>2265</th>\n      <td>2023-04-05 09:30:00</td>\n      <td>2023</td>\n      <td>4</td>\n      <td>5</td>\n      <td>9</td>\n      <td>30</td>\n      <td>癸卯</td>\n      <td>丙辰</td>\n      <td>癸巳</td>\n      <td>丁巳</td>\n      <td>癸卯丙辰癸巳丁巳</td>\n      <td>True</td>\n      <td>True</td>\n      <td>False</td>\n      <td>False</td>\n    </tr>\n    <tr>\n      <th>2266</th>\n      <td>2023-04-05 10:30:00</td>\n      <td>2023</td>\n      <td>4</td>\n      <td>5</td>\n      <td>10</td>\n      <td>30</td>\n      <td>癸卯</td>\n      <td>丙辰</td>\n      <td>癸巳</td>\n      <td>丁巳</td>\n      <td>癸卯丙辰癸巳丁巳</td>\n      <td>True</td>\n      <td>True</td>\n      <td>False</td>\n      <td>False</td>\n    </tr>\n    <tr>\n      <th>2363</th>\n      <td>2023-04-09 11:30:00</td>\n      <td>2023</td>\n      <td>4</td>\n      <td>9</td>\n      <td>11</td>\n      <td>30</td>\n      <td>癸卯</td>\n      <td>丙辰</td>\n      <td>丁酉</td>\n      <td>丙午</td>\n      <td>癸卯丙辰丁酉丙午</td>\n      <td>True</td>\n      <td>True</td>\n      <td>False</td>\n      <td>False</td>\n    </tr>\n    <tr>\n      <th>...</th>\n      <td>...</td>\n      <td>...</td>\n      <td>...</td>\n      <td>...</td>\n      <td>...</td>\n      <td>...</td>\n      <td>...</td>\n      <td>...</td>\n      <td>...</td>\n      <td>...</td>\n      <td>...</td>\n      <td>...</td>\n      <td>...</td>\n      <td>...</td>\n      <td>...</td>\n    </tr>\n    <tr>\n      <th>25908</th>\n      <td>2025-12-15 12:30:00</td>\n      <td>2025</td>\n      <td>12</td>\n      <td>15</td>\n      <td>12</td>\n      <td>30</td>\n      <td>乙巳</td>\n      <td>戊子</td>\n      <td>戊午</td>\n      <td>戊午</td>\n      <td>乙巳戊子戊午戊午</td>\n      <td>False</td>\n      <td>True</td>\n      <td>True</td>\n      <td>True</td>\n    </tr>\n    <tr>\n      <th>26123</th>\n      <td>2025-12-24 11:30:00</td>\n      <td>2025</td>\n      <td>12</td>\n      <td>24</td>\n      <td>11</td>\n      <td>30</td>\n      <td>乙巳</td>\n      <td>戊子</td>\n      <td>丁卯</td>\n      <td>丙午</td>\n      <td>乙巳戊子丁卯丙午</td>\n      <td>True</td>\n      <td>True</td>\n      <td>False</td>\n      <td>False</td>\n    </tr>\n    <tr>\n      <th>26124</th>\n      <td>2025-12-24 12:30:00</td>\n      <td>2025</td>\n      <td>12</td>\n      <td>24</td>\n      <td>12</td>\n      <td>30</td>\n      <td>乙巳</td>\n      <td>戊子</td>\n      <td>丁卯</td>\n      <td>丙午</td>\n      <td>乙巳戊子丁卯丙午</td>\n      <td>True</td>\n      <td>True</td>\n      <td>False</td>\n      <td>False</td>\n    </tr>\n    <tr>\n      <th>26147</th>\n      <td>2025-12-25 11:30:00</td>\n      <td>2025</td>\n      <td>12</td>\n      <td>25</td>\n      <td>11</td>\n      <td>30</td>\n      <td>乙巳</td>\n      <td>戊子</td>\n      <td>戊辰</td>\n      <td>戊午</td>\n      <td>乙巳戊子戊辰戊午</td>\n      <td>False</td>\n      <td>True</td>\n      <td>True</td>\n      <td>True</td>\n    </tr>\n    <tr>\n      <th>26148</th>\n      <td>2025-12-25 12:30:00</td>\n      <td>2025</td>\n      <td>12</td>\n      <td>25</td>\n      <td>12</td>\n      <td>30</td>\n      <td>乙巳</td>\n      <td>戊子</td>\n      <td>戊辰</td>\n      <td>戊午</td>\n      <td>乙巳戊子戊辰戊午</td>\n      <td>False</td>\n      <td>True</td>\n      <td>True</td>\n      <td>True</td>\n    </tr>\n  </tbody>\n</table>\n<p>884 rows × 15 columns</p>\n</div>"
     },
     "execution_count": 28,
     "metadata": {},
     "output_type": "execute_result"
    }
   ],
   "source": [
    "df[(df['four_fire_earth6_dedup'] == True) | (df['four_fire'] == True)]"
   ],
   "metadata": {
    "collapsed": false,
    "pycharm": {
     "name": "#%%\n"
    }
   }
  },
  {
   "cell_type": "code",
   "execution_count": 29,
   "outputs": [
    {
     "data": {
      "text/plain": "(26304, 15)"
     },
     "execution_count": 29,
     "metadata": {},
     "output_type": "execute_result"
    }
   ],
   "source": [
    "df.shape"
   ],
   "metadata": {
    "collapsed": false,
    "pycharm": {
     "name": "#%%\n"
    }
   }
  },
  {
   "cell_type": "code",
   "execution_count": 30,
   "outputs": [
    {
     "data": {
      "text/plain": "   name  times  year_to_day  hour_to_second  is_guarantee eight_word\n0  夜兰二命     80     20230228          114147             0   癸卯甲寅丁巳丙午\n1  夜兰一命     75     20230228          112707             0   癸卯甲寅丁巳丙午\n2    夜兰     78     20230208          114330             0   癸卯甲寅丁酉丙午\n3  莫娜一命     25     20230208          113007             1   癸卯甲寅丁酉丙午\n4  雷电将军     32     20221230          114152             0   壬寅壬子丁巳丙午",
      "text/html": "<div>\n<style scoped>\n    .dataframe tbody tr th:only-of-type {\n        vertical-align: middle;\n    }\n\n    .dataframe tbody tr th {\n        vertical-align: top;\n    }\n\n    .dataframe thead th {\n        text-align: right;\n    }\n</style>\n<table border=\"1\" class=\"dataframe\">\n  <thead>\n    <tr style=\"text-align: right;\">\n      <th></th>\n      <th>name</th>\n      <th>times</th>\n      <th>year_to_day</th>\n      <th>hour_to_second</th>\n      <th>is_guarantee</th>\n      <th>eight_word</th>\n    </tr>\n  </thead>\n  <tbody>\n    <tr>\n      <th>0</th>\n      <td>夜兰二命</td>\n      <td>80</td>\n      <td>20230228</td>\n      <td>114147</td>\n      <td>0</td>\n      <td>癸卯甲寅丁巳丙午</td>\n    </tr>\n    <tr>\n      <th>1</th>\n      <td>夜兰一命</td>\n      <td>75</td>\n      <td>20230228</td>\n      <td>112707</td>\n      <td>0</td>\n      <td>癸卯甲寅丁巳丙午</td>\n    </tr>\n    <tr>\n      <th>2</th>\n      <td>夜兰</td>\n      <td>78</td>\n      <td>20230208</td>\n      <td>114330</td>\n      <td>0</td>\n      <td>癸卯甲寅丁酉丙午</td>\n    </tr>\n    <tr>\n      <th>3</th>\n      <td>莫娜一命</td>\n      <td>25</td>\n      <td>20230208</td>\n      <td>113007</td>\n      <td>1</td>\n      <td>癸卯甲寅丁酉丙午</td>\n    </tr>\n    <tr>\n      <th>4</th>\n      <td>雷电将军</td>\n      <td>32</td>\n      <td>20221230</td>\n      <td>114152</td>\n      <td>0</td>\n      <td>壬寅壬子丁巳丙午</td>\n    </tr>\n  </tbody>\n</table>\n</div>"
     },
     "execution_count": 30,
     "metadata": {},
     "output_type": "execute_result"
    }
   ],
   "source": [
    "pay = pd.read_csv('pay_log.csv')\n",
    "pay.head()"
   ],
   "metadata": {
    "collapsed": false,
    "pycharm": {
     "name": "#%%\n"
    }
   }
  },
  {
   "cell_type": "code",
   "execution_count": 31,
   "outputs": [
    {
     "data": {
      "text/plain": "     name  times  year_to_day  hour_to_second  is_guarantee eight_word\n3    莫娜一命     25     20230208          113007             1   癸卯甲寅丁酉丙午\n5    刻晴一命     26     20221103          115039             1   壬寅庚戌庚申壬午\n7      刻睛     76     20221103          114839             1   壬寅庚戌庚申壬午\n9       琴     46     20221103          113551             1   壬寅庚戌庚申壬午\n11  迪卢克二命     82     20220923          102312             1   壬寅己酉己卯己巳\n18    迪卢克     78     20220901          102500             1   壬寅戊申丁巳乙巳",
      "text/html": "<div>\n<style scoped>\n    .dataframe tbody tr th:only-of-type {\n        vertical-align: middle;\n    }\n\n    .dataframe tbody tr th {\n        vertical-align: top;\n    }\n\n    .dataframe thead th {\n        text-align: right;\n    }\n</style>\n<table border=\"1\" class=\"dataframe\">\n  <thead>\n    <tr style=\"text-align: right;\">\n      <th></th>\n      <th>name</th>\n      <th>times</th>\n      <th>year_to_day</th>\n      <th>hour_to_second</th>\n      <th>is_guarantee</th>\n      <th>eight_word</th>\n    </tr>\n  </thead>\n  <tbody>\n    <tr>\n      <th>3</th>\n      <td>莫娜一命</td>\n      <td>25</td>\n      <td>20230208</td>\n      <td>113007</td>\n      <td>1</td>\n      <td>癸卯甲寅丁酉丙午</td>\n    </tr>\n    <tr>\n      <th>5</th>\n      <td>刻晴一命</td>\n      <td>26</td>\n      <td>20221103</td>\n      <td>115039</td>\n      <td>1</td>\n      <td>壬寅庚戌庚申壬午</td>\n    </tr>\n    <tr>\n      <th>7</th>\n      <td>刻睛</td>\n      <td>76</td>\n      <td>20221103</td>\n      <td>114839</td>\n      <td>1</td>\n      <td>壬寅庚戌庚申壬午</td>\n    </tr>\n    <tr>\n      <th>9</th>\n      <td>琴</td>\n      <td>46</td>\n      <td>20221103</td>\n      <td>113551</td>\n      <td>1</td>\n      <td>壬寅庚戌庚申壬午</td>\n    </tr>\n    <tr>\n      <th>11</th>\n      <td>迪卢克二命</td>\n      <td>82</td>\n      <td>20220923</td>\n      <td>102312</td>\n      <td>1</td>\n      <td>壬寅己酉己卯己巳</td>\n    </tr>\n    <tr>\n      <th>18</th>\n      <td>迪卢克</td>\n      <td>78</td>\n      <td>20220901</td>\n      <td>102500</td>\n      <td>1</td>\n      <td>壬寅戊申丁巳乙巳</td>\n    </tr>\n  </tbody>\n</table>\n</div>"
     },
     "execution_count": 31,
     "metadata": {},
     "output_type": "execute_result"
    }
   ],
   "source": [
    "pay[pay['is_guarantee'] == 1]"
   ],
   "metadata": {
    "collapsed": false,
    "pycharm": {
     "name": "#%%\n"
    }
   }
  },
  {
   "cell_type": "code",
   "execution_count": 32,
   "outputs": [],
   "source": [
    "# 问题：乙庚申"
   ],
   "metadata": {
    "collapsed": false,
    "pycharm": {
     "name": "#%%\n"
    }
   }
  },
  {
   "cell_type": "code",
   "execution_count": 33,
   "outputs": [
    {
     "data": {
      "text/plain": "                  datetime  year  month  day  hour  minute year_word  \\\n0      2023-01-01 00:30:00  2023      1    1     0      30        壬寅   \n1      2023-01-01 01:30:00  2023      1    1     1      30        壬寅   \n2      2023-01-01 02:30:00  2023      1    1     2      30        壬寅   \n3      2023-01-01 03:30:00  2023      1    1     3      30        壬寅   \n4      2023-01-01 04:30:00  2023      1    1     4      30        壬寅   \n...                    ...   ...    ...  ...   ...     ...       ...   \n26275  2025-12-30 19:30:00  2025     12   30    19      30        乙巳   \n26276  2025-12-30 20:30:00  2025     12   30    20      30        乙巳   \n26277  2025-12-30 21:30:00  2025     12   30    21      30        乙巳   \n26278  2025-12-30 22:30:00  2025     12   30    22      30        乙巳   \n26279  2025-12-30 23:30:00  2025     12   30    23      30        乙巳   \n\n      month_word day_word hour_word eight_word  four_fire  four_fire_earth4  \\\n0             壬子       己未        甲子   壬寅壬子己未甲子      False             False   \n1             壬子       己未        乙丑   壬寅壬子己未乙丑      False             False   \n2             壬子       己未        乙丑   壬寅壬子己未乙丑      False             False   \n3             壬子       己未        丙寅   壬寅壬子己未丙寅      False             False   \n4             壬子       己未        丙寅   壬寅壬子己未丙寅      False             False   \n...          ...      ...       ...        ...        ...               ...   \n26275         戊子       癸酉        壬戌   乙巳戊子癸酉壬戌      False             False   \n26276         戊子       癸酉        壬戌   乙巳戊子癸酉壬戌      False             False   \n26277         戊子       癸酉        癸亥   乙巳戊子癸酉癸亥      False             False   \n26278         戊子       癸酉        癸亥   乙巳戊子癸酉癸亥      False             False   \n26279         戊子       癸酉        甲子   乙巳戊子癸酉甲子      False             False   \n\n       four_fire_earth6  four_fire_earth6_dedup  day_without_wood  \n0                 False                   False              True  \n1                 False                   False              True  \n2                 False                   False              True  \n3                 False                   False              True  \n4                 False                   False              True  \n...                 ...                     ...               ...  \n26275             False                   False              True  \n26276             False                   False              True  \n26277             False                   False              True  \n26278             False                   False              True  \n26279             False                   False              True  \n\n[15768 rows x 16 columns]",
      "text/html": "<div>\n<style scoped>\n    .dataframe tbody tr th:only-of-type {\n        vertical-align: middle;\n    }\n\n    .dataframe tbody tr th {\n        vertical-align: top;\n    }\n\n    .dataframe thead th {\n        text-align: right;\n    }\n</style>\n<table border=\"1\" class=\"dataframe\">\n  <thead>\n    <tr style=\"text-align: right;\">\n      <th></th>\n      <th>datetime</th>\n      <th>year</th>\n      <th>month</th>\n      <th>day</th>\n      <th>hour</th>\n      <th>minute</th>\n      <th>year_word</th>\n      <th>month_word</th>\n      <th>day_word</th>\n      <th>hour_word</th>\n      <th>eight_word</th>\n      <th>four_fire</th>\n      <th>four_fire_earth4</th>\n      <th>four_fire_earth6</th>\n      <th>four_fire_earth6_dedup</th>\n      <th>day_without_wood</th>\n    </tr>\n  </thead>\n  <tbody>\n    <tr>\n      <th>0</th>\n      <td>2023-01-01 00:30:00</td>\n      <td>2023</td>\n      <td>1</td>\n      <td>1</td>\n      <td>0</td>\n      <td>30</td>\n      <td>壬寅</td>\n      <td>壬子</td>\n      <td>己未</td>\n      <td>甲子</td>\n      <td>壬寅壬子己未甲子</td>\n      <td>False</td>\n      <td>False</td>\n      <td>False</td>\n      <td>False</td>\n      <td>True</td>\n    </tr>\n    <tr>\n      <th>1</th>\n      <td>2023-01-01 01:30:00</td>\n      <td>2023</td>\n      <td>1</td>\n      <td>1</td>\n      <td>1</td>\n      <td>30</td>\n      <td>壬寅</td>\n      <td>壬子</td>\n      <td>己未</td>\n      <td>乙丑</td>\n      <td>壬寅壬子己未乙丑</td>\n      <td>False</td>\n      <td>False</td>\n      <td>False</td>\n      <td>False</td>\n      <td>True</td>\n    </tr>\n    <tr>\n      <th>2</th>\n      <td>2023-01-01 02:30:00</td>\n      <td>2023</td>\n      <td>1</td>\n      <td>1</td>\n      <td>2</td>\n      <td>30</td>\n      <td>壬寅</td>\n      <td>壬子</td>\n      <td>己未</td>\n      <td>乙丑</td>\n      <td>壬寅壬子己未乙丑</td>\n      <td>False</td>\n      <td>False</td>\n      <td>False</td>\n      <td>False</td>\n      <td>True</td>\n    </tr>\n    <tr>\n      <th>3</th>\n      <td>2023-01-01 03:30:00</td>\n      <td>2023</td>\n      <td>1</td>\n      <td>1</td>\n      <td>3</td>\n      <td>30</td>\n      <td>壬寅</td>\n      <td>壬子</td>\n      <td>己未</td>\n      <td>丙寅</td>\n      <td>壬寅壬子己未丙寅</td>\n      <td>False</td>\n      <td>False</td>\n      <td>False</td>\n      <td>False</td>\n      <td>True</td>\n    </tr>\n    <tr>\n      <th>4</th>\n      <td>2023-01-01 04:30:00</td>\n      <td>2023</td>\n      <td>1</td>\n      <td>1</td>\n      <td>4</td>\n      <td>30</td>\n      <td>壬寅</td>\n      <td>壬子</td>\n      <td>己未</td>\n      <td>丙寅</td>\n      <td>壬寅壬子己未丙寅</td>\n      <td>False</td>\n      <td>False</td>\n      <td>False</td>\n      <td>False</td>\n      <td>True</td>\n    </tr>\n    <tr>\n      <th>...</th>\n      <td>...</td>\n      <td>...</td>\n      <td>...</td>\n      <td>...</td>\n      <td>...</td>\n      <td>...</td>\n      <td>...</td>\n      <td>...</td>\n      <td>...</td>\n      <td>...</td>\n      <td>...</td>\n      <td>...</td>\n      <td>...</td>\n      <td>...</td>\n      <td>...</td>\n      <td>...</td>\n    </tr>\n    <tr>\n      <th>26275</th>\n      <td>2025-12-30 19:30:00</td>\n      <td>2025</td>\n      <td>12</td>\n      <td>30</td>\n      <td>19</td>\n      <td>30</td>\n      <td>乙巳</td>\n      <td>戊子</td>\n      <td>癸酉</td>\n      <td>壬戌</td>\n      <td>乙巳戊子癸酉壬戌</td>\n      <td>False</td>\n      <td>False</td>\n      <td>False</td>\n      <td>False</td>\n      <td>True</td>\n    </tr>\n    <tr>\n      <th>26276</th>\n      <td>2025-12-30 20:30:00</td>\n      <td>2025</td>\n      <td>12</td>\n      <td>30</td>\n      <td>20</td>\n      <td>30</td>\n      <td>乙巳</td>\n      <td>戊子</td>\n      <td>癸酉</td>\n      <td>壬戌</td>\n      <td>乙巳戊子癸酉壬戌</td>\n      <td>False</td>\n      <td>False</td>\n      <td>False</td>\n      <td>False</td>\n      <td>True</td>\n    </tr>\n    <tr>\n      <th>26277</th>\n      <td>2025-12-30 21:30:00</td>\n      <td>2025</td>\n      <td>12</td>\n      <td>30</td>\n      <td>21</td>\n      <td>30</td>\n      <td>乙巳</td>\n      <td>戊子</td>\n      <td>癸酉</td>\n      <td>癸亥</td>\n      <td>乙巳戊子癸酉癸亥</td>\n      <td>False</td>\n      <td>False</td>\n      <td>False</td>\n      <td>False</td>\n      <td>True</td>\n    </tr>\n    <tr>\n      <th>26278</th>\n      <td>2025-12-30 22:30:00</td>\n      <td>2025</td>\n      <td>12</td>\n      <td>30</td>\n      <td>22</td>\n      <td>30</td>\n      <td>乙巳</td>\n      <td>戊子</td>\n      <td>癸酉</td>\n      <td>癸亥</td>\n      <td>乙巳戊子癸酉癸亥</td>\n      <td>False</td>\n      <td>False</td>\n      <td>False</td>\n      <td>False</td>\n      <td>True</td>\n    </tr>\n    <tr>\n      <th>26279</th>\n      <td>2025-12-30 23:30:00</td>\n      <td>2025</td>\n      <td>12</td>\n      <td>30</td>\n      <td>23</td>\n      <td>30</td>\n      <td>乙巳</td>\n      <td>戊子</td>\n      <td>癸酉</td>\n      <td>甲子</td>\n      <td>乙巳戊子癸酉甲子</td>\n      <td>False</td>\n      <td>False</td>\n      <td>False</td>\n      <td>False</td>\n      <td>True</td>\n    </tr>\n  </tbody>\n</table>\n<p>15768 rows × 16 columns</p>\n</div>"
     },
     "execution_count": 33,
     "metadata": {},
     "output_type": "execute_result"
    }
   ],
   "source": [
    "df['day_without_wood'] = df['day_word'].apply(without_wood)\n",
    "df[df['day_without_wood'] == True]"
   ],
   "metadata": {
    "collapsed": false,
    "pycharm": {
     "name": "#%%\n"
    }
   }
  },
  {
   "cell_type": "code",
   "execution_count": 38,
   "outputs": [
    {
     "data": {
      "text/plain": "                  datetime  year  month  day  hour  minute year_word  \\\n1403   2023-02-28 11:30:00  2023      2   28    11      30        癸卯   \n1404   2023-02-28 12:30:00  2023      2   28    12      30        癸卯   \n2265   2023-04-05 09:30:00  2023      4    5     9      30        癸卯   \n2266   2023-04-05 10:30:00  2023      4    5    10      30        癸卯   \n2363   2023-04-09 11:30:00  2023      4    9    11      30        癸卯   \n...                    ...   ...    ...  ...   ...     ...       ...   \n25908  2025-12-15 12:30:00  2025     12   15    12      30        乙巳   \n26123  2025-12-24 11:30:00  2025     12   24    11      30        乙巳   \n26124  2025-12-24 12:30:00  2025     12   24    12      30        乙巳   \n26147  2025-12-25 11:30:00  2025     12   25    11      30        乙巳   \n26148  2025-12-25 12:30:00  2025     12   25    12      30        乙巳   \n\n      month_word day_word hour_word eight_word  four_fire  four_fire_earth4  \\\n1403          甲寅       丁巳        丙午   癸卯甲寅丁巳丙午       True              True   \n1404          甲寅       丁巳        丙午   癸卯甲寅丁巳丙午       True              True   \n2265          丙辰       癸巳        丁巳   癸卯丙辰癸巳丁巳       True              True   \n2266          丙辰       癸巳        丁巳   癸卯丙辰癸巳丁巳       True              True   \n2363          丙辰       丁酉        丙午   癸卯丙辰丁酉丙午       True              True   \n...          ...      ...       ...        ...        ...               ...   \n25908         戊子       戊午        戊午   乙巳戊子戊午戊午      False              True   \n26123         戊子       丁卯        丙午   乙巳戊子丁卯丙午       True              True   \n26124         戊子       丁卯        丙午   乙巳戊子丁卯丙午       True              True   \n26147         戊子       戊辰        戊午   乙巳戊子戊辰戊午      False              True   \n26148         戊子       戊辰        戊午   乙巳戊子戊辰戊午      False              True   \n\n       four_fire_earth6  four_fire_earth6_dedup  day_without_wood  \n1403              False                   False              True  \n1404              False                   False              True  \n2265              False                   False              True  \n2266              False                   False              True  \n2363              False                   False              True  \n...                 ...                     ...               ...  \n25908              True                    True              True  \n26123             False                   False              True  \n26124             False                   False              True  \n26147              True                    True              True  \n26148              True                    True              True  \n\n[776 rows x 16 columns]",
      "text/html": "<div>\n<style scoped>\n    .dataframe tbody tr th:only-of-type {\n        vertical-align: middle;\n    }\n\n    .dataframe tbody tr th {\n        vertical-align: top;\n    }\n\n    .dataframe thead th {\n        text-align: right;\n    }\n</style>\n<table border=\"1\" class=\"dataframe\">\n  <thead>\n    <tr style=\"text-align: right;\">\n      <th></th>\n      <th>datetime</th>\n      <th>year</th>\n      <th>month</th>\n      <th>day</th>\n      <th>hour</th>\n      <th>minute</th>\n      <th>year_word</th>\n      <th>month_word</th>\n      <th>day_word</th>\n      <th>hour_word</th>\n      <th>eight_word</th>\n      <th>four_fire</th>\n      <th>four_fire_earth4</th>\n      <th>four_fire_earth6</th>\n      <th>four_fire_earth6_dedup</th>\n      <th>day_without_wood</th>\n    </tr>\n  </thead>\n  <tbody>\n    <tr>\n      <th>1403</th>\n      <td>2023-02-28 11:30:00</td>\n      <td>2023</td>\n      <td>2</td>\n      <td>28</td>\n      <td>11</td>\n      <td>30</td>\n      <td>癸卯</td>\n      <td>甲寅</td>\n      <td>丁巳</td>\n      <td>丙午</td>\n      <td>癸卯甲寅丁巳丙午</td>\n      <td>True</td>\n      <td>True</td>\n      <td>False</td>\n      <td>False</td>\n      <td>True</td>\n    </tr>\n    <tr>\n      <th>1404</th>\n      <td>2023-02-28 12:30:00</td>\n      <td>2023</td>\n      <td>2</td>\n      <td>28</td>\n      <td>12</td>\n      <td>30</td>\n      <td>癸卯</td>\n      <td>甲寅</td>\n      <td>丁巳</td>\n      <td>丙午</td>\n      <td>癸卯甲寅丁巳丙午</td>\n      <td>True</td>\n      <td>True</td>\n      <td>False</td>\n      <td>False</td>\n      <td>True</td>\n    </tr>\n    <tr>\n      <th>2265</th>\n      <td>2023-04-05 09:30:00</td>\n      <td>2023</td>\n      <td>4</td>\n      <td>5</td>\n      <td>9</td>\n      <td>30</td>\n      <td>癸卯</td>\n      <td>丙辰</td>\n      <td>癸巳</td>\n      <td>丁巳</td>\n      <td>癸卯丙辰癸巳丁巳</td>\n      <td>True</td>\n      <td>True</td>\n      <td>False</td>\n      <td>False</td>\n      <td>True</td>\n    </tr>\n    <tr>\n      <th>2266</th>\n      <td>2023-04-05 10:30:00</td>\n      <td>2023</td>\n      <td>4</td>\n      <td>5</td>\n      <td>10</td>\n      <td>30</td>\n      <td>癸卯</td>\n      <td>丙辰</td>\n      <td>癸巳</td>\n      <td>丁巳</td>\n      <td>癸卯丙辰癸巳丁巳</td>\n      <td>True</td>\n      <td>True</td>\n      <td>False</td>\n      <td>False</td>\n      <td>True</td>\n    </tr>\n    <tr>\n      <th>2363</th>\n      <td>2023-04-09 11:30:00</td>\n      <td>2023</td>\n      <td>4</td>\n      <td>9</td>\n      <td>11</td>\n      <td>30</td>\n      <td>癸卯</td>\n      <td>丙辰</td>\n      <td>丁酉</td>\n      <td>丙午</td>\n      <td>癸卯丙辰丁酉丙午</td>\n      <td>True</td>\n      <td>True</td>\n      <td>False</td>\n      <td>False</td>\n      <td>True</td>\n    </tr>\n    <tr>\n      <th>...</th>\n      <td>...</td>\n      <td>...</td>\n      <td>...</td>\n      <td>...</td>\n      <td>...</td>\n      <td>...</td>\n      <td>...</td>\n      <td>...</td>\n      <td>...</td>\n      <td>...</td>\n      <td>...</td>\n      <td>...</td>\n      <td>...</td>\n      <td>...</td>\n      <td>...</td>\n      <td>...</td>\n    </tr>\n    <tr>\n      <th>25908</th>\n      <td>2025-12-15 12:30:00</td>\n      <td>2025</td>\n      <td>12</td>\n      <td>15</td>\n      <td>12</td>\n      <td>30</td>\n      <td>乙巳</td>\n      <td>戊子</td>\n      <td>戊午</td>\n      <td>戊午</td>\n      <td>乙巳戊子戊午戊午</td>\n      <td>False</td>\n      <td>True</td>\n      <td>True</td>\n      <td>True</td>\n      <td>True</td>\n    </tr>\n    <tr>\n      <th>26123</th>\n      <td>2025-12-24 11:30:00</td>\n      <td>2025</td>\n      <td>12</td>\n      <td>24</td>\n      <td>11</td>\n      <td>30</td>\n      <td>乙巳</td>\n      <td>戊子</td>\n      <td>丁卯</td>\n      <td>丙午</td>\n      <td>乙巳戊子丁卯丙午</td>\n      <td>True</td>\n      <td>True</td>\n      <td>False</td>\n      <td>False</td>\n      <td>True</td>\n    </tr>\n    <tr>\n      <th>26124</th>\n      <td>2025-12-24 12:30:00</td>\n      <td>2025</td>\n      <td>12</td>\n      <td>24</td>\n      <td>12</td>\n      <td>30</td>\n      <td>乙巳</td>\n      <td>戊子</td>\n      <td>丁卯</td>\n      <td>丙午</td>\n      <td>乙巳戊子丁卯丙午</td>\n      <td>True</td>\n      <td>True</td>\n      <td>False</td>\n      <td>False</td>\n      <td>True</td>\n    </tr>\n    <tr>\n      <th>26147</th>\n      <td>2025-12-25 11:30:00</td>\n      <td>2025</td>\n      <td>12</td>\n      <td>25</td>\n      <td>11</td>\n      <td>30</td>\n      <td>乙巳</td>\n      <td>戊子</td>\n      <td>戊辰</td>\n      <td>戊午</td>\n      <td>乙巳戊子戊辰戊午</td>\n      <td>False</td>\n      <td>True</td>\n      <td>True</td>\n      <td>True</td>\n      <td>True</td>\n    </tr>\n    <tr>\n      <th>26148</th>\n      <td>2025-12-25 12:30:00</td>\n      <td>2025</td>\n      <td>12</td>\n      <td>25</td>\n      <td>12</td>\n      <td>30</td>\n      <td>乙巳</td>\n      <td>戊子</td>\n      <td>戊辰</td>\n      <td>戊午</td>\n      <td>乙巳戊子戊辰戊午</td>\n      <td>False</td>\n      <td>True</td>\n      <td>True</td>\n      <td>True</td>\n      <td>True</td>\n    </tr>\n  </tbody>\n</table>\n<p>776 rows × 16 columns</p>\n</div>"
     },
     "execution_count": 38,
     "metadata": {},
     "output_type": "execute_result"
    }
   ],
   "source": [
    "df_filter = df[((df['four_fire_earth6_dedup'] == True) | (df['four_fire'] == True)) & (df['day_without_wood'] == True)]\n",
    "df_filter"
   ],
   "metadata": {
    "collapsed": false,
    "pycharm": {
     "name": "#%%\n"
    }
   }
  },
  {
   "cell_type": "code",
   "execution_count": 39,
   "outputs": [],
   "source": [
    "df_filter.to_csv('filter_eight_word.csv', header=True, index=False)"
   ],
   "metadata": {
    "collapsed": false,
    "pycharm": {
     "name": "#%%\n"
    }
   }
  }
 ],
 "metadata": {
  "kernelspec": {
   "display_name": "Python 3",
   "language": "python",
   "name": "python3"
  },
  "language_info": {
   "codemirror_mode": {
    "name": "ipython",
    "version": 2
   },
   "file_extension": ".py",
   "mimetype": "text/x-python",
   "name": "python",
   "nbconvert_exporter": "python",
   "pygments_lexer": "ipython2",
   "version": "2.7.6"
  }
 },
 "nbformat": 4,
 "nbformat_minor": 0
}