{
 "cells": [
  {
   "cell_type": "code",
   "execution_count": 1,
   "metadata": {},
   "outputs": [],
   "source": [
    "import os\n",
    "from glob import glob\n",
    "import time\n",
    "import datetime\n",
    "import csv\n",
    "import matplotlib\n",
    "import pandas as pd\n",
    "\n",
    "# 指定默认字体\n",
    "matplotlib.rcParams['font.sans-serif'] = ['SimHei']\n",
    "matplotlib.rcParams['font.family'] = 'sans-serif'\n",
    "# 解决负号’-‘显示为方块的问题\n",
    "matplotlib.rcParams['axes.unicode_minus'] = False"
   ]
  },
  {
   "cell_type": "code",
   "execution_count": 65,
   "metadata": {},
   "outputs": [],
   "source": [
    "path = r'C:\\Documents\\Heroes of the Storm\\Accounts\\213079079\\5-Hero-1-269050\\Replays\\Multiplayer'\n",
    "file_list = glob(f'{path}\\*')\n",
    "# for i in file_list:\n",
    "#     print(i)\n",
    "# print(file_list)"
   ]
  },
  {
   "cell_type": "code",
   "execution_count": 2,
   "metadata": {},
   "outputs": [],
   "source": [
    "'''把时间戳转化为时间: 1479264792 to 2016-11-16 10:53:12'''\n",
    "\n",
    "\n",
    "def TimeStampToTime(timestamp):\n",
    "    timeStruct = time.localtime(timestamp)\n",
    "    return time.strftime('%Y-%m-%d %H:%M:%S', timeStruct)\n",
    "\n",
    "\n",
    "'''获取文件的大小,结果保留两位小数，单位为KB'''\n",
    "\n",
    "\n",
    "def get_FileSize(filePath):\n",
    "    fsize = os.path.getsize(filePath)\n",
    "    fsize = fsize / float(1024)\n",
    "    return round(fsize, 2)\n",
    "\n",
    "\n",
    "'''获取文件的访问时间'''\n",
    "\n",
    "\n",
    "def get_FileAccessTime(filePath):\n",
    "    t = os.path.getatime(filePath)\n",
    "    return TimeStampToTime(t)\n",
    "\n",
    "\n",
    "'''获取文件的创建时间'''\n",
    "\n",
    "\n",
    "def get_FileCreateTime(filePath):\n",
    "    t = os.path.getctime(filePath)\n",
    "    return TimeStampToTime(t)\n",
    "\n",
    "\n",
    "'''获取文件的修改时间'''\n",
    "\n",
    "\n",
    "def get_FileModifyTime(filePath):\n",
    "    t = os.path.getmtime(filePath)\n",
    "    return TimeStampToTime(t)\n",
    "\n",
    "\n",
    "def get_FileName(filePath):\n",
    "    n = os.path.splitext(filePath)[0]\n",
    "    n = os.path.basename(n)\n",
    "    return n"
   ]
  },
  {
   "cell_type": "code",
   "execution_count": 68,
   "metadata": {},
   "outputs": [],
   "source": [
    "csvfile = open(\"HoS_replay.csv\", \"w\", encoding='utf-8')\n",
    "writer = csv.writer(csvfile)\n",
    "# 先写入columns_name\n",
    "writer.writerow(\n",
    "    [\"file_name\", \"file_path\", \"create_time\", \"modify_time\", \"access_time\"])\n",
    "\n",
    "for p in file_list:\n",
    "    fn = get_FileName(p)\n",
    "    ct = get_FileCreateTime(p)\n",
    "    mt = get_FileModifyTime(p)\n",
    "    at = get_FileAccessTime(p)\n",
    "    writer.writerow([fn, p, ct, mt, at])\n",
    "\n",
    "csvfile.close()"
   ]
  },
  {
   "cell_type": "code",
   "execution_count": 105,
   "metadata": {},
   "outputs": [
    {
     "data": {
      "text/html": [
       "<div>\n",
       "<style scoped>\n",
       "    .dataframe tbody tr th:only-of-type {\n",
       "        vertical-align: middle;\n",
       "    }\n",
       "\n",
       "    .dataframe tbody tr th {\n",
       "        vertical-align: top;\n",
       "    }\n",
       "\n",
       "    .dataframe thead th {\n",
       "        text-align: right;\n",
       "    }\n",
       "</style>\n",
       "<table border=\"1\" class=\"dataframe\">\n",
       "  <thead>\n",
       "    <tr style=\"text-align: right;\">\n",
       "      <th></th>\n",
       "      <th>file_name</th>\n",
       "      <th>file_path</th>\n",
       "      <th>create_time</th>\n",
       "      <th>modify_time</th>\n",
       "      <th>access_time</th>\n",
       "    </tr>\n",
       "  </thead>\n",
       "  <tbody>\n",
       "    <tr>\n",
       "      <th>0</th>\n",
       "      <td>2020-07-29 22.07.18 沃斯卡娅铸造厂</td>\n",
       "      <td>C:\\Documents\\Heroes of the Storm\\Accounts\\2130...</td>\n",
       "      <td>2020-12-15 14:25:54</td>\n",
       "      <td>2020-07-29 22:07:18</td>\n",
       "      <td>2021-09-15 09:34:52</td>\n",
       "    </tr>\n",
       "    <tr>\n",
       "      <th>1</th>\n",
       "      <td>2020-07-29 22.31.07 沃斯卡娅铸造厂</td>\n",
       "      <td>C:\\Documents\\Heroes of the Storm\\Accounts\\2130...</td>\n",
       "      <td>2020-12-15 12:59:25</td>\n",
       "      <td>2020-07-29 22:31:08</td>\n",
       "      <td>2021-09-15 09:34:52</td>\n",
       "    </tr>\n",
       "    <tr>\n",
       "      <th>2</th>\n",
       "      <td>2020-07-29 22.50.21 恐魔园</td>\n",
       "      <td>C:\\Documents\\Heroes of the Storm\\Accounts\\2130...</td>\n",
       "      <td>2020-12-15 17:07:41</td>\n",
       "      <td>2020-07-29 22:50:22</td>\n",
       "      <td>2021-09-15 09:34:45</td>\n",
       "    </tr>\n",
       "    <tr>\n",
       "      <th>3</th>\n",
       "      <td>2020-09-02 22.01.09 布莱克西斯禁区</td>\n",
       "      <td>C:\\Documents\\Heroes of the Storm\\Accounts\\2130...</td>\n",
       "      <td>2020-12-15 15:49:00</td>\n",
       "      <td>2020-09-02 22:01:10</td>\n",
       "      <td>2021-09-15 09:34:52</td>\n",
       "    </tr>\n",
       "    <tr>\n",
       "      <th>4</th>\n",
       "      <td>2020-09-02 22.18.32 弹头枢纽站</td>\n",
       "      <td>C:\\Documents\\Heroes of the Storm\\Accounts\\2130...</td>\n",
       "      <td>2020-12-15 13:24:36</td>\n",
       "      <td>2020-09-02 22:18:33</td>\n",
       "      <td>2021-09-15 09:34:51</td>\n",
       "    </tr>\n",
       "  </tbody>\n",
       "</table>\n",
       "</div>"
      ],
      "text/plain": [
       "                     file_name  \\\n",
       "0  2020-07-29 22.07.18 沃斯卡娅铸造厂   \n",
       "1  2020-07-29 22.31.07 沃斯卡娅铸造厂   \n",
       "2      2020-07-29 22.50.21 恐魔园   \n",
       "3  2020-09-02 22.01.09 布莱克西斯禁区   \n",
       "4    2020-09-02 22.18.32 弹头枢纽站   \n",
       "\n",
       "                                           file_path          create_time  \\\n",
       "0  C:\\Documents\\Heroes of the Storm\\Accounts\\2130...  2020-12-15 14:25:54   \n",
       "1  C:\\Documents\\Heroes of the Storm\\Accounts\\2130...  2020-12-15 12:59:25   \n",
       "2  C:\\Documents\\Heroes of the Storm\\Accounts\\2130...  2020-12-15 17:07:41   \n",
       "3  C:\\Documents\\Heroes of the Storm\\Accounts\\2130...  2020-12-15 15:49:00   \n",
       "4  C:\\Documents\\Heroes of the Storm\\Accounts\\2130...  2020-12-15 13:24:36   \n",
       "\n",
       "           modify_time          access_time  \n",
       "0  2020-07-29 22:07:18  2021-09-15 09:34:52  \n",
       "1  2020-07-29 22:31:08  2021-09-15 09:34:52  \n",
       "2  2020-07-29 22:50:22  2021-09-15 09:34:45  \n",
       "3  2020-09-02 22:01:10  2021-09-15 09:34:52  \n",
       "4  2020-09-02 22:18:33  2021-09-15 09:34:51  "
      ]
     },
     "execution_count": 105,
     "metadata": {},
     "output_type": "execute_result"
    }
   ],
   "source": [
    "game_info = pd.read_csv('HoS_replay.csv', parse_dates=True)\n",
    "game_info.head()"
   ]
  },
  {
   "cell_type": "code",
   "execution_count": 106,
   "metadata": {},
   "outputs": [],
   "source": [
    "game_info['area'] = game_info['file_name'].str.extract(r'([\\u4e00-\\u9fa5]+)')"
   ]
  },
  {
   "cell_type": "code",
   "execution_count": 107,
   "metadata": {},
   "outputs": [],
   "source": [
    "game_info['create_time'] = pd.to_datetime(game_info['create_time'])\n",
    "game_info['modify_time'] = pd.to_datetime(game_info['modify_time'])\n",
    "game_info['access_time'] = pd.to_datetime(game_info['access_time'])"
   ]
  },
  {
   "cell_type": "code",
   "execution_count": 108,
   "metadata": {},
   "outputs": [
    {
     "name": "stdout",
     "output_type": "stream",
     "text": [
      "<class 'pandas.core.frame.DataFrame'>\n",
      "RangeIndex: 1547 entries, 0 to 1546\n",
      "Data columns (total 6 columns):\n",
      " #   Column       Non-Null Count  Dtype         \n",
      "---  ------       --------------  -----         \n",
      " 0   file_name    1547 non-null   object        \n",
      " 1   file_path    1547 non-null   object        \n",
      " 2   create_time  1547 non-null   datetime64[ns]\n",
      " 3   modify_time  1547 non-null   datetime64[ns]\n",
      " 4   access_time  1547 non-null   datetime64[ns]\n",
      " 5   area         1547 non-null   object        \n",
      "dtypes: datetime64[ns](3), object(3)\n",
      "memory usage: 72.6+ KB\n"
     ]
    }
   ],
   "source": [
    "game_info.info()"
   ]
  },
  {
   "cell_type": "code",
   "execution_count": 109,
   "metadata": {},
   "outputs": [],
   "source": [
    "game_info['create_date'] = game_info['create_time'].dt.date\n",
    "game_info['modify_date'] = game_info['modify_time'].dt.date\n",
    "game_info['access_date'] = game_info['access_time'].dt.date\n",
    "game_info['modify_ym'] = game_info['modify_time'].dt.strftime('%Y-%m')"
   ]
  },
  {
   "cell_type": "code",
   "execution_count": 110,
   "metadata": {},
   "outputs": [
    {
     "data": {
      "text/plain": [
       "<AxesSubplot:xlabel='area'>"
      ]
     },
     "execution_count": 110,
     "metadata": {},
     "output_type": "execute_result"
    },
    {
     "data": {
      "image/png": "[encoded data removed]",
      "text/plain": [
       "<Figure size 864x432 with 1 Axes>"
      ]
     },
     "metadata": {
      "needs_background": "light"
     },
     "output_type": "display_data"
    }
   ],
   "source": [
    "game_info.groupby('area')['file_name'].count().plot.bar(figsize=(12, 6))"
   ]
  },
  {
   "cell_type": "code",
   "execution_count": 111,
   "metadata": {},
   "outputs": [
    {
     "data": {
      "text/plain": [
       "<AxesSubplot:xlabel='modify_ym'>"
      ]
     },
     "execution_count": 111,
     "metadata": {},
     "output_type": "execute_result"
    },
    {
     "data": {
      "image/png": "[encoded data removed]",
      "text/plain": [
       "<Figure size 864x432 with 1 Axes>"
      ]
     },
     "metadata": {
      "needs_background": "light"
     },
     "output_type": "display_data"
    }
   ],
   "source": [
    "game_info.groupby('modify_ym')['file_name'].count().plot.bar(figsize=(12, 6))"
   ]
  },
  {
   "cell_type": "code",
   "execution_count": 3,
   "metadata": {},
   "outputs": [],
   "source": [
    "path2 = r'C:\\Documents\\StarCraft II\\Accounts\\213079079\\5-S2-1-4501899\\Replays\\Multiplayer'\n",
    "file_list2 = glob(f'{path2}\\*')"
   ]
  },
  {
   "cell_type": "code",
   "execution_count": 4,
   "metadata": {},
   "outputs": [],
   "source": [
    "csvfile = open(\"SC_replay.csv\", \"w\", encoding='utf-8')\n",
    "writer = csv.writer(csvfile)\n",
    "# 先写入columns_name\n",
    "writer.writerow(\n",
    "    [\"file_name\", \"file_path\", \"create_time\", \"modify_time\", \"access_time\"])\n",
    "\n",
    "for p in file_list2:\n",
    "    fn = get_FileName(p)\n",
    "    ct = get_FileCreateTime(p)\n",
    "    mt = get_FileModifyTime(p)\n",
    "    at = get_FileAccessTime(p)\n",
    "    writer.writerow([fn, p, ct, mt, at])\n",
    "\n",
    "csvfile.close()"
   ]
  },
  {
   "cell_type": "code",
   "execution_count": 5,
   "metadata": {},
   "outputs": [
    {
     "data": {
      "text/html": [
       "<div>\n",
       "<style scoped>\n",
       "    .dataframe tbody tr th:only-of-type {\n",
       "        vertical-align: middle;\n",
       "    }\n",
       "\n",
       "    .dataframe tbody tr th {\n",
       "        vertical-align: top;\n",
       "    }\n",
       "\n",
       "    .dataframe thead th {\n",
       "        text-align: right;\n",
       "    }\n",
       "</style>\n",
       "<table border=\"1\" class=\"dataframe\">\n",
       "  <thead>\n",
       "    <tr style=\"text-align: right;\">\n",
       "      <th></th>\n",
       "      <th>file_name</th>\n",
       "      <th>file_path</th>\n",
       "      <th>create_time</th>\n",
       "      <th>modify_time</th>\n",
       "      <th>access_time</th>\n",
       "    </tr>\n",
       "  </thead>\n",
       "  <tbody>\n",
       "    <tr>\n",
       "      <th>0</th>\n",
       "      <td>亡者之夜 (10)</td>\n",
       "      <td>C:\\Documents\\StarCraft II\\Accounts\\213079079\\5...</td>\n",
       "      <td>2020-12-15 17:24:23</td>\n",
       "      <td>2018-09-30 19:38:46</td>\n",
       "      <td>2021-09-15 09:34:32</td>\n",
       "    </tr>\n",
       "    <tr>\n",
       "      <th>1</th>\n",
       "      <td>亡者之夜 (11)</td>\n",
       "      <td>C:\\Documents\\StarCraft II\\Accounts\\213079079\\5...</td>\n",
       "      <td>2020-12-16 09:08:33</td>\n",
       "      <td>2018-10-02 20:10:11</td>\n",
       "      <td>2021-09-15 09:34:32</td>\n",
       "    </tr>\n",
       "    <tr>\n",
       "      <th>2</th>\n",
       "      <td>亡者之夜 (12)</td>\n",
       "      <td>C:\\Documents\\StarCraft II\\Accounts\\213079079\\5...</td>\n",
       "      <td>2020-12-15 13:58:09</td>\n",
       "      <td>2018-10-04 23:30:15</td>\n",
       "      <td>2021-09-15 09:34:32</td>\n",
       "    </tr>\n",
       "    <tr>\n",
       "      <th>3</th>\n",
       "      <td>亡者之夜 (13)</td>\n",
       "      <td>C:\\Documents\\StarCraft II\\Accounts\\213079079\\5...</td>\n",
       "      <td>2020-12-15 13:37:23</td>\n",
       "      <td>2018-10-21 17:50:29</td>\n",
       "      <td>2021-09-15 09:34:32</td>\n",
       "    </tr>\n",
       "    <tr>\n",
       "      <th>4</th>\n",
       "      <td>亡者之夜 (14)</td>\n",
       "      <td>C:\\Documents\\StarCraft II\\Accounts\\213079079\\5...</td>\n",
       "      <td>2020-12-15 14:51:48</td>\n",
       "      <td>2018-11-04 12:00:32</td>\n",
       "      <td>2021-09-15 09:34:32</td>\n",
       "    </tr>\n",
       "  </tbody>\n",
       "</table>\n",
       "</div>"
      ],
      "text/plain": [
       "   file_name                                          file_path  \\\n",
       "0  亡者之夜 (10)  C:\\Documents\\StarCraft II\\Accounts\\213079079\\5...   \n",
       "1  亡者之夜 (11)  C:\\Documents\\StarCraft II\\Accounts\\213079079\\5...   \n",
       "2  亡者之夜 (12)  C:\\Documents\\StarCraft II\\Accounts\\213079079\\5...   \n",
       "3  亡者之夜 (13)  C:\\Documents\\StarCraft II\\Accounts\\213079079\\5...   \n",
       "4  亡者之夜 (14)  C:\\Documents\\StarCraft II\\Accounts\\213079079\\5...   \n",
       "\n",
       "           create_time          modify_time          access_time  \n",
       "0  2020-12-15 17:24:23  2018-09-30 19:38:46  2021-09-15 09:34:32  \n",
       "1  2020-12-16 09:08:33  2018-10-02 20:10:11  2021-09-15 09:34:32  \n",
       "2  2020-12-15 13:58:09  2018-10-04 23:30:15  2021-09-15 09:34:32  \n",
       "3  2020-12-15 13:37:23  2018-10-21 17:50:29  2021-09-15 09:34:32  \n",
       "4  2020-12-15 14:51:48  2018-11-04 12:00:32  2021-09-15 09:34:32  "
      ]
     },
     "execution_count": 5,
     "metadata": {},
     "output_type": "execute_result"
    }
   ],
   "source": [
    "game_replay = pd.read_csv('SC_replay.csv', parse_dates=True)\n",
    "game_replay.head()"
   ]
  },
  {
   "cell_type": "code",
   "execution_count": 7,
   "metadata": {},
   "outputs": [],
   "source": [
    "game_replay['area'] = game_replay['file_name'].str.extract(r'([\\u4e00-\\u9fa5]+)')\n",
    "\n",
    "game_replay['create_time'] = pd.to_datetime(game_replay['create_time'])\n",
    "game_replay['modify_time'] = pd.to_datetime(game_replay['modify_time'])\n",
    "game_replay['access_time'] = pd.to_datetime(game_replay['access_time'])\n",
    "\n",
    "game_replay['create_date'] = game_replay['create_time'].dt.date\n",
    "game_replay['modify_date'] = game_replay['modify_time'].dt.date\n",
    "game_replay['access_date'] = game_replay['access_time'].dt.date\n",
    "game_replay['modify_ym'] = game_replay['modify_time'].dt.strftime('%Y-%m')"
   ]
  },
  {
   "cell_type": "code",
   "execution_count": 8,
   "metadata": {},
   "outputs": [
    {
     "data": {
      "text/plain": [
       "<AxesSubplot:xlabel='area'>"
      ]
     },
     "execution_count": 8,
     "metadata": {},
     "output_type": "execute_result"
    },
    {
     "data": {
      "image/png": "[encoded data removed]",
      "text/plain": [
       "<Figure size 864x432 with 1 Axes>"
      ]
     },
     "metadata": {
      "needs_background": "light"
     },
     "output_type": "display_data"
    }
   ],
   "source": [
    "game_replay.groupby('area')['file_name'].count().plot.bar(figsize=(12, 6))"
   ]
  },
  {
   "cell_type": "code",
   "execution_count": 9,
   "metadata": {},
   "outputs": [
    {
     "data": {
      "text/plain": [
       "<AxesSubplot:xlabel='modify_ym'>"
      ]
     },
     "execution_count": 9,
     "metadata": {},
     "output_type": "execute_result"
    },
    {
     "data": {
      "image/png": "[encoded data removed]",
      "text/plain": [
       "<Figure size 864x432 with 1 Axes>"
      ]
     },
     "metadata": {
      "needs_background": "light"
     },
     "output_type": "display_data"
    }
   ],
   "source": [
    "game_replay.groupby('modify_ym')['file_name'].count().plot.bar(figsize=(12, 6))"
   ]
  },
  {
   "cell_type": "code",
   "execution_count": null,
   "metadata": {},
   "outputs": [],
   "source": []
  }
 ],
 "metadata": {
  "kernelspec": {
   "display_name": "Python 3",
   "language": "python",
   "name": "python3"
  },
  "language_info": {
   "codemirror_mode": {
    "name": "ipython",
    "version": 3
   },
   "file_extension": ".py",
   "mimetype": "text/x-python",
   "name": "python",
   "nbconvert_exporter": "python",
   "pygments_lexer": "ipython3",
   "version": "3.7.9"
  }
 },
 "nbformat": 4,
 "nbformat_minor": 4
}
