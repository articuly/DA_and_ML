{
 "cells": [
  {
   "cell_type": "code",
   "execution_count": 1,
   "metadata": {},
   "outputs": [],
   "source": [
    "import numpy as np\n",
    "import matplotlib.pyplot as plt"
   ]
  },
  {
   "cell_type": "code",
   "execution_count": 3,
   "metadata": {},
   "outputs": [
    {
     "data": {
      "image/png": "[encoded data removed]",
      "text/plain": [
       "<Figure size 432x288 with 1 Axes>"
      ]
     },
     "metadata": {
      "needs_background": "light"
     },
     "output_type": "display_data"
    }
   ],
   "source": [
    "talls = np.random.normal(170, 5, 3000)\n",
    "bins = np.arange(156, 190, 2)\n",
    "plt.hist(talls, bins)\n",
    "plt.show()"
   ]
  },
  {
   "cell_type": "code",
   "execution_count": 8,
   "metadata": {},
   "outputs": [
    {
     "data": {
      "text/plain": [
       "array([0, 1, 2, 3, 4])"
      ]
     },
     "execution_count": 8,
     "metadata": {},
     "output_type": "execute_result"
    }
   ],
   "source": [
    "a = np.arange(5)\n",
    "a"
   ]
  },
  {
   "cell_type": "code",
   "execution_count": 5,
   "metadata": {},
   "outputs": [
    {
     "data": {
      "text/plain": [
       "array([0, 0, 0, 1, 1, 1, 2, 2, 2, 3, 3, 3, 4, 4, 4])"
      ]
     },
     "execution_count": 5,
     "metadata": {},
     "output_type": "execute_result"
    }
   ],
   "source": [
    "# 重复元素3次\n",
    "np.repeat(a, 3)"
   ]
  },
  {
   "cell_type": "code",
   "execution_count": 7,
   "metadata": {},
   "outputs": [
    {
     "data": {
      "text/plain": [
       "array([0, 1, 2, 3, 4, 0, 1, 2, 3, 4, 0, 1, 2, 3, 4])"
      ]
     },
     "execution_count": 7,
     "metadata": {},
     "output_type": "execute_result"
    }
   ],
   "source": [
    "# 重复数组3次\n",
    "np.tile(a, 3)"
   ]
  },
  {
   "cell_type": "code",
   "execution_count": 9,
   "metadata": {},
   "outputs": [
    {
     "data": {
      "text/plain": [
       "array([[0, 1, 2, 3, 4, 0, 1, 2, 3, 4],\n",
       "       [0, 1, 2, 3, 4, 0, 1, 2, 3, 4],\n",
       "       [0, 1, 2, 3, 4, 0, 1, 2, 3, 4]])"
      ]
     },
     "execution_count": 9,
     "metadata": {},
     "output_type": "execute_result"
    }
   ],
   "source": [
    "# 重复数组3行2列\n",
    "np.tile(a, (3, 2))"
   ]
  },
  {
   "cell_type": "code",
   "execution_count": 10,
   "metadata": {},
   "outputs": [
    {
     "data": {
      "text/plain": [
       "array([[[ 0,  1],\n",
       "        [ 2,  3],\n",
       "        [ 4,  5],\n",
       "        [ 6,  7]],\n",
       "\n",
       "       [[ 8,  9],\n",
       "        [10, 11],\n",
       "        [12, 13],\n",
       "        [14, 15]],\n",
       "\n",
       "       [[16, 17],\n",
       "        [18, 19],\n",
       "        [20, 21],\n",
       "        [22, 23]]])"
      ]
     },
     "execution_count": 10,
     "metadata": {},
     "output_type": "execute_result"
    }
   ],
   "source": [
    "b = np.arange(24).reshape((3, 4, 2))\n",
    "b"
   ]
  },
  {
   "cell_type": "code",
   "execution_count": 17,
   "metadata": {},
   "outputs": [
    {
     "data": {
      "text/plain": [
       "(3, 4, 2)"
      ]
     },
     "execution_count": 17,
     "metadata": {},
     "output_type": "execute_result"
    }
   ],
   "source": [
    "b.shape"
   ]
  },
  {
   "cell_type": "code",
   "execution_count": 11,
   "metadata": {},
   "outputs": [
    {
     "data": {
      "text/plain": [
       "array([ 0,  0,  0,  1,  1,  1,  2,  2,  2,  3,  3,  3,  4,  4,  4,  5,  5,\n",
       "        5,  6,  6,  6,  7,  7,  7,  8,  8,  8,  9,  9,  9, 10, 10, 10, 11,\n",
       "       11, 11, 12, 12, 12, 13, 13, 13, 14, 14, 14, 15, 15, 15, 16, 16, 16,\n",
       "       17, 17, 17, 18, 18, 18, 19, 19, 19, 20, 20, 20, 21, 21, 21, 22, 22,\n",
       "       22, 23, 23, 23])"
      ]
     },
     "execution_count": 11,
     "metadata": {},
     "output_type": "execute_result"
    }
   ],
   "source": [
    "np.repeat(b, 3)"
   ]
  },
  {
   "cell_type": "code",
   "execution_count": 12,
   "metadata": {},
   "outputs": [
    {
     "data": {
      "text/plain": [
       "array([[[ 0,  1],\n",
       "        [ 2,  3],\n",
       "        [ 4,  5],\n",
       "        [ 6,  7]],\n",
       "\n",
       "       [[ 0,  1],\n",
       "        [ 2,  3],\n",
       "        [ 4,  5],\n",
       "        [ 6,  7]],\n",
       "\n",
       "       [[ 0,  1],\n",
       "        [ 2,  3],\n",
       "        [ 4,  5],\n",
       "        [ 6,  7]],\n",
       "\n",
       "       [[ 8,  9],\n",
       "        [10, 11],\n",
       "        [12, 13],\n",
       "        [14, 15]],\n",
       "\n",
       "       [[ 8,  9],\n",
       "        [10, 11],\n",
       "        [12, 13],\n",
       "        [14, 15]],\n",
       "\n",
       "       [[ 8,  9],\n",
       "        [10, 11],\n",
       "        [12, 13],\n",
       "        [14, 15]],\n",
       "\n",
       "       [[16, 17],\n",
       "        [18, 19],\n",
       "        [20, 21],\n",
       "        [22, 23]],\n",
       "\n",
       "       [[16, 17],\n",
       "        [18, 19],\n",
       "        [20, 21],\n",
       "        [22, 23]],\n",
       "\n",
       "       [[16, 17],\n",
       "        [18, 19],\n",
       "        [20, 21],\n",
       "        [22, 23]]])"
      ]
     },
     "execution_count": 12,
     "metadata": {},
     "output_type": "execute_result"
    }
   ],
   "source": [
    "# 在0轴重复3次\n",
    "np.repeat(b, 3, axis=0)"
   ]
  },
  {
   "cell_type": "code",
   "execution_count": 18,
   "metadata": {},
   "outputs": [
    {
     "data": {
      "text/plain": [
       "(9, 4, 2)"
      ]
     },
     "execution_count": 18,
     "metadata": {},
     "output_type": "execute_result"
    }
   ],
   "source": [
    "np.repeat(b, 3, axis=0).shape"
   ]
  },
  {
   "cell_type": "code",
   "execution_count": 19,
   "metadata": {},
   "outputs": [
    {
     "data": {
      "text/plain": [
       "array([[[ 0,  1],\n",
       "        [ 0,  1],\n",
       "        [ 0,  1],\n",
       "        [ 2,  3],\n",
       "        [ 2,  3],\n",
       "        [ 2,  3],\n",
       "        [ 4,  5],\n",
       "        [ 4,  5],\n",
       "        [ 4,  5],\n",
       "        [ 6,  7],\n",
       "        [ 6,  7],\n",
       "        [ 6,  7]],\n",
       "\n",
       "       [[ 8,  9],\n",
       "        [ 8,  9],\n",
       "        [ 8,  9],\n",
       "        [10, 11],\n",
       "        [10, 11],\n",
       "        [10, 11],\n",
       "        [12, 13],\n",
       "        [12, 13],\n",
       "        [12, 13],\n",
       "        [14, 15],\n",
       "        [14, 15],\n",
       "        [14, 15]],\n",
       "\n",
       "       [[16, 17],\n",
       "        [16, 17],\n",
       "        [16, 17],\n",
       "        [18, 19],\n",
       "        [18, 19],\n",
       "        [18, 19],\n",
       "        [20, 21],\n",
       "        [20, 21],\n",
       "        [20, 21],\n",
       "        [22, 23],\n",
       "        [22, 23],\n",
       "        [22, 23]]])"
      ]
     },
     "execution_count": 19,
     "metadata": {},
     "output_type": "execute_result"
    }
   ],
   "source": [
    "# 在1轴重复3次\n",
    "np.repeat(b, 3, axis=1)"
   ]
  },
  {
   "cell_type": "code",
   "execution_count": 20,
   "metadata": {},
   "outputs": [
    {
     "data": {
      "text/plain": [
       "(3, 12, 2)"
      ]
     },
     "execution_count": 20,
     "metadata": {},
     "output_type": "execute_result"
    }
   ],
   "source": [
    "np.repeat(b, 3, axis=1).shape"
   ]
  },
  {
   "cell_type": "code",
   "execution_count": 14,
   "metadata": {},
   "outputs": [
    {
     "data": {
      "text/plain": [
       "array([[[ 0,  0,  0,  1,  1,  1],\n",
       "        [ 2,  2,  2,  3,  3,  3],\n",
       "        [ 4,  4,  4,  5,  5,  5],\n",
       "        [ 6,  6,  6,  7,  7,  7]],\n",
       "\n",
       "       [[ 8,  8,  8,  9,  9,  9],\n",
       "        [10, 10, 10, 11, 11, 11],\n",
       "        [12, 12, 12, 13, 13, 13],\n",
       "        [14, 14, 14, 15, 15, 15]],\n",
       "\n",
       "       [[16, 16, 16, 17, 17, 17],\n",
       "        [18, 18, 18, 19, 19, 19],\n",
       "        [20, 20, 20, 21, 21, 21],\n",
       "        [22, 22, 22, 23, 23, 23]]])"
      ]
     },
     "execution_count": 14,
     "metadata": {},
     "output_type": "execute_result"
    }
   ],
   "source": [
    "# 在2轴重复3次\n",
    "np.repeat(b, 3, axis=2)"
   ]
  },
  {
   "cell_type": "code",
   "execution_count": 21,
   "metadata": {},
   "outputs": [
    {
     "data": {
      "text/plain": [
       "(3, 4, 6)"
      ]
     },
     "execution_count": 21,
     "metadata": {},
     "output_type": "execute_result"
    }
   ],
   "source": [
    "np.repeat(b, 3, axis=2).shape"
   ]
  },
  {
   "cell_type": "code",
   "execution_count": 22,
   "metadata": {},
   "outputs": [
    {
     "data": {
      "text/plain": [
       "array([[[ 0,  1,  0,  1],\n",
       "        [ 2,  3,  2,  3],\n",
       "        [ 4,  5,  4,  5],\n",
       "        [ 6,  7,  6,  7]],\n",
       "\n",
       "       [[ 8,  9,  8,  9],\n",
       "        [10, 11, 10, 11],\n",
       "        [12, 13, 12, 13],\n",
       "        [14, 15, 14, 15]],\n",
       "\n",
       "       [[16, 17, 16, 17],\n",
       "        [18, 19, 18, 19],\n",
       "        [20, 21, 20, 21],\n",
       "        [22, 23, 22, 23]]])"
      ]
     },
     "execution_count": 22,
     "metadata": {},
     "output_type": "execute_result"
    }
   ],
   "source": [
    "np.tile(b, 2)"
   ]
  },
  {
   "cell_type": "code",
   "execution_count": 23,
   "metadata": {},
   "outputs": [
    {
     "data": {
      "text/plain": [
       "(3, 4, 4)"
      ]
     },
     "execution_count": 23,
     "metadata": {},
     "output_type": "execute_result"
    }
   ],
   "source": [
    "np.tile(b, 2).shape"
   ]
  },
  {
   "cell_type": "code",
   "execution_count": 26,
   "metadata": {},
   "outputs": [
    {
     "data": {
      "text/plain": [
       "array([[[ 0,  1,  0,  1,  0,  1],\n",
       "        [ 2,  3,  2,  3,  2,  3],\n",
       "        [ 4,  5,  4,  5,  4,  5],\n",
       "        [ 6,  7,  6,  7,  6,  7],\n",
       "        [ 0,  1,  0,  1,  0,  1],\n",
       "        [ 2,  3,  2,  3,  2,  3],\n",
       "        [ 4,  5,  4,  5,  4,  5],\n",
       "        [ 6,  7,  6,  7,  6,  7]],\n",
       "\n",
       "       [[ 8,  9,  8,  9,  8,  9],\n",
       "        [10, 11, 10, 11, 10, 11],\n",
       "        [12, 13, 12, 13, 12, 13],\n",
       "        [14, 15, 14, 15, 14, 15],\n",
       "        [ 8,  9,  8,  9,  8,  9],\n",
       "        [10, 11, 10, 11, 10, 11],\n",
       "        [12, 13, 12, 13, 12, 13],\n",
       "        [14, 15, 14, 15, 14, 15]],\n",
       "\n",
       "       [[16, 17, 16, 17, 16, 17],\n",
       "        [18, 19, 18, 19, 18, 19],\n",
       "        [20, 21, 20, 21, 20, 21],\n",
       "        [22, 23, 22, 23, 22, 23],\n",
       "        [16, 17, 16, 17, 16, 17],\n",
       "        [18, 19, 18, 19, 18, 19],\n",
       "        [20, 21, 20, 21, 20, 21],\n",
       "        [22, 23, 22, 23, 22, 23]]])"
      ]
     },
     "execution_count": 26,
     "metadata": {},
     "output_type": "execute_result"
    }
   ],
   "source": [
    "# 从后算起\n",
    "np.tile(b, (2, 3))"
   ]
  },
  {
   "cell_type": "code",
   "execution_count": 25,
   "metadata": {},
   "outputs": [
    {
     "data": {
      "text/plain": [
       "(3, 8, 6)"
      ]
     },
     "execution_count": 25,
     "metadata": {},
     "output_type": "execute_result"
    }
   ],
   "source": [
    "np.tile(b, (2, 3)).shape"
   ]
  },
  {
   "cell_type": "code",
   "execution_count": 27,
   "metadata": {},
   "outputs": [],
   "source": [
    "lon = np.linspace(-180, 180, 37)\n",
    "lat = np.linspace(-90, 90, 19)\n",
    "\n",
    "lons, lats = np.meshgrid(lon, lat)"
   ]
  },
  {
   "cell_type": "code",
   "execution_count": 28,
   "metadata": {},
   "outputs": [
    {
     "data": {
      "text/plain": [
       "(19, 37)"
      ]
     },
     "execution_count": 28,
     "metadata": {},
     "output_type": "execute_result"
    }
   ],
   "source": [
    "lons.shape"
   ]
  },
  {
   "cell_type": "code",
   "execution_count": 29,
   "metadata": {
    "scrolled": true
   },
   "outputs": [
    {
     "data": {
      "text/plain": [
       "array([[-180., -170., -160., -150., -140., -130., -120., -110., -100.,\n",
       "         -90.,  -80.,  -70.,  -60.,  -50.,  -40.,  -30.,  -20.,  -10.,\n",
       "           0.,   10.,   20.,   30.,   40.,   50.,   60.,   70.,   80.,\n",
       "          90.,  100.,  110.,  120.,  130.,  140.,  150.,  160.,  170.,\n",
       "         180.],\n",
       "       [-180., -170., -160., -150., -140., -130., -120., -110., -100.,\n",
       "         -90.,  -80.,  -70.,  -60.,  -50.,  -40.,  -30.,  -20.,  -10.,\n",
       "           0.,   10.,   20.,   30.,   40.,   50.,   60.,   70.,   80.,\n",
       "          90.,  100.,  110.,  120.,  130.,  140.,  150.,  160.,  170.,\n",
       "         180.],\n",
       "       [-180., -170., -160., -150., -140., -130., -120., -110., -100.,\n",
       "         -90.,  -80.,  -70.,  -60.,  -50.,  -40.,  -30.,  -20.,  -10.,\n",
       "           0.,   10.,   20.,   30.,   40.,   50.,   60.,   70.,   80.,\n",
       "          90.,  100.,  110.,  120.,  130.,  140.,  150.,  160.,  170.,\n",
       "         180.],\n",
       "       [-180., -170., -160., -150., -140., -130., -120., -110., -100.,\n",
       "         -90.,  -80.,  -70.,  -60.,  -50.,  -40.,  -30.,  -20.,  -10.,\n",
       "           0.,   10.,   20.,   30.,   40.,   50.,   60.,   70.,   80.,\n",
       "          90.,  100.,  110.,  120.,  130.,  140.,  150.,  160.,  170.,\n",
       "         180.],\n",
       "       [-180., -170., -160., -150., -140., -130., -120., -110., -100.,\n",
       "         -90.,  -80.,  -70.,  -60.,  -50.,  -40.,  -30.,  -20.,  -10.,\n",
       "           0.,   10.,   20.,   30.,   40.,   50.,   60.,   70.,   80.,\n",
       "          90.,  100.,  110.,  120.,  130.,  140.,  150.,  160.,  170.,\n",
       "         180.],\n",
       "       [-180., -170., -160., -150., -140., -130., -120., -110., -100.,\n",
       "         -90.,  -80.,  -70.,  -60.,  -50.,  -40.,  -30.,  -20.,  -10.,\n",
       "           0.,   10.,   20.,   30.,   40.,   50.,   60.,   70.,   80.,\n",
       "          90.,  100.,  110.,  120.,  130.,  140.,  150.,  160.,  170.,\n",
       "         180.],\n",
       "       [-180., -170., -160., -150., -140., -130., -120., -110., -100.,\n",
       "         -90.,  -80.,  -70.,  -60.,  -50.,  -40.,  -30.,  -20.,  -10.,\n",
       "           0.,   10.,   20.,   30.,   40.,   50.,   60.,   70.,   80.,\n",
       "          90.,  100.,  110.,  120.,  130.,  140.,  150.,  160.,  170.,\n",
       "         180.],\n",
       "       [-180., -170., -160., -150., -140., -130., -120., -110., -100.,\n",
       "         -90.,  -80.,  -70.,  -60.,  -50.,  -40.,  -30.,  -20.,  -10.,\n",
       "           0.,   10.,   20.,   30.,   40.,   50.,   60.,   70.,   80.,\n",
       "          90.,  100.,  110.,  120.,  130.,  140.,  150.,  160.,  170.,\n",
       "         180.],\n",
       "       [-180., -170., -160., -150., -140., -130., -120., -110., -100.,\n",
       "         -90.,  -80.,  -70.,  -60.,  -50.,  -40.,  -30.,  -20.,  -10.,\n",
       "           0.,   10.,   20.,   30.,   40.,   50.,   60.,   70.,   80.,\n",
       "          90.,  100.,  110.,  120.,  130.,  140.,  150.,  160.,  170.,\n",
       "         180.],\n",
       "       [-180., -170., -160., -150., -140., -130., -120., -110., -100.,\n",
       "         -90.,  -80.,  -70.,  -60.,  -50.,  -40.,  -30.,  -20.,  -10.,\n",
       "           0.,   10.,   20.,   30.,   40.,   50.,   60.,   70.,   80.,\n",
       "          90.,  100.,  110.,  120.,  130.,  140.,  150.,  160.,  170.,\n",
       "         180.],\n",
       "       [-180., -170., -160., -150., -140., -130., -120., -110., -100.,\n",
       "         -90.,  -80.,  -70.,  -60.,  -50.,  -40.,  -30.,  -20.,  -10.,\n",
       "           0.,   10.,   20.,   30.,   40.,   50.,   60.,   70.,   80.,\n",
       "          90.,  100.,  110.,  120.,  130.,  140.,  150.,  160.,  170.,\n",
       "         180.],\n",
       "       [-180., -170., -160., -150., -140., -130., -120., -110., -100.,\n",
       "         -90.,  -80.,  -70.,  -60.,  -50.,  -40.,  -30.,  -20.,  -10.,\n",
       "           0.,   10.,   20.,   30.,   40.,   50.,   60.,   70.,   80.,\n",
       "          90.,  100.,  110.,  120.,  130.,  140.,  150.,  160.,  170.,\n",
       "         180.],\n",
       "       [-180., -170., -160., -150., -140., -130., -120., -110., -100.,\n",
       "         -90.,  -80.,  -70.,  -60.,  -50.,  -40.,  -30.,  -20.,  -10.,\n",
       "           0.,   10.,   20.,   30.,   40.,   50.,   60.,   70.,   80.,\n",
       "          90.,  100.,  110.,  120.,  130.,  140.,  150.,  160.,  170.,\n",
       "         180.],\n",
       "       [-180., -170., -160., -150., -140., -130., -120., -110., -100.,\n",
       "         -90.,  -80.,  -70.,  -60.,  -50.,  -40.,  -30.,  -20.,  -10.,\n",
       "           0.,   10.,   20.,   30.,   40.,   50.,   60.,   70.,   80.,\n",
       "          90.,  100.,  110.,  120.,  130.,  140.,  150.,  160.,  170.,\n",
       "         180.],\n",
       "       [-180., -170., -160., -150., -140., -130., -120., -110., -100.,\n",
       "         -90.,  -80.,  -70.,  -60.,  -50.,  -40.,  -30.,  -20.,  -10.,\n",
       "           0.,   10.,   20.,   30.,   40.,   50.,   60.,   70.,   80.,\n",
       "          90.,  100.,  110.,  120.,  130.,  140.,  150.,  160.,  170.,\n",
       "         180.],\n",
       "       [-180., -170., -160., -150., -140., -130., -120., -110., -100.,\n",
       "         -90.,  -80.,  -70.,  -60.,  -50.,  -40.,  -30.,  -20.,  -10.,\n",
       "           0.,   10.,   20.,   30.,   40.,   50.,   60.,   70.,   80.,\n",
       "          90.,  100.,  110.,  120.,  130.,  140.,  150.,  160.,  170.,\n",
       "         180.],\n",
       "       [-180., -170., -160., -150., -140., -130., -120., -110., -100.,\n",
       "         -90.,  -80.,  -70.,  -60.,  -50.,  -40.,  -30.,  -20.,  -10.,\n",
       "           0.,   10.,   20.,   30.,   40.,   50.,   60.,   70.,   80.,\n",
       "          90.,  100.,  110.,  120.,  130.,  140.,  150.,  160.,  170.,\n",
       "         180.],\n",
       "       [-180., -170., -160., -150., -140., -130., -120., -110., -100.,\n",
       "         -90.,  -80.,  -70.,  -60.,  -50.,  -40.,  -30.,  -20.,  -10.,\n",
       "           0.,   10.,   20.,   30.,   40.,   50.,   60.,   70.,   80.,\n",
       "          90.,  100.,  110.,  120.,  130.,  140.,  150.,  160.,  170.,\n",
       "         180.],\n",
       "       [-180., -170., -160., -150., -140., -130., -120., -110., -100.,\n",
       "         -90.,  -80.,  -70.,  -60.,  -50.,  -40.,  -30.,  -20.,  -10.,\n",
       "           0.,   10.,   20.,   30.,   40.,   50.,   60.,   70.,   80.,\n",
       "          90.,  100.,  110.,  120.,  130.,  140.,  150.,  160.,  170.,\n",
       "         180.]])"
      ]
     },
     "execution_count": 29,
     "metadata": {},
     "output_type": "execute_result"
    }
   ],
   "source": [
    "lons"
   ]
  },
  {
   "cell_type": "code",
   "execution_count": 30,
   "metadata": {},
   "outputs": [
    {
     "data": {
      "text/plain": [
       "(19, 37)"
      ]
     },
     "execution_count": 30,
     "metadata": {},
     "output_type": "execute_result"
    }
   ],
   "source": [
    "lats.shape"
   ]
  },
  {
   "cell_type": "code",
   "execution_count": 32,
   "metadata": {
    "scrolled": true
   },
   "outputs": [
    {
     "data": {
      "text/plain": [
       "array([[-90., -90., -90., -90., -90., -90., -90., -90., -90., -90., -90.,\n",
       "        -90., -90., -90., -90., -90., -90., -90., -90., -90., -90., -90.,\n",
       "        -90., -90., -90., -90., -90., -90., -90., -90., -90., -90., -90.,\n",
       "        -90., -90., -90., -90.],\n",
       "       [-80., -80., -80., -80., -80., -80., -80., -80., -80., -80., -80.,\n",
       "        -80., -80., -80., -80., -80., -80., -80., -80., -80., -80., -80.,\n",
       "        -80., -80., -80., -80., -80., -80., -80., -80., -80., -80., -80.,\n",
       "        -80., -80., -80., -80.],\n",
       "       [-70., -70., -70., -70., -70., -70., -70., -70., -70., -70., -70.,\n",
       "        -70., -70., -70., -70., -70., -70., -70., -70., -70., -70., -70.,\n",
       "        -70., -70., -70., -70., -70., -70., -70., -70., -70., -70., -70.,\n",
       "        -70., -70., -70., -70.],\n",
       "       [-60., -60., -60., -60., -60., -60., -60., -60., -60., -60., -60.,\n",
       "        -60., -60., -60., -60., -60., -60., -60., -60., -60., -60., -60.,\n",
       "        -60., -60., -60., -60., -60., -60., -60., -60., -60., -60., -60.,\n",
       "        -60., -60., -60., -60.],\n",
       "       [-50., -50., -50., -50., -50., -50., -50., -50., -50., -50., -50.,\n",
       "        -50., -50., -50., -50., -50., -50., -50., -50., -50., -50., -50.,\n",
       "        -50., -50., -50., -50., -50., -50., -50., -50., -50., -50., -50.,\n",
       "        -50., -50., -50., -50.],\n",
       "       [-40., -40., -40., -40., -40., -40., -40., -40., -40., -40., -40.,\n",
       "        -40., -40., -40., -40., -40., -40., -40., -40., -40., -40., -40.,\n",
       "        -40., -40., -40., -40., -40., -40., -40., -40., -40., -40., -40.,\n",
       "        -40., -40., -40., -40.],\n",
       "       [-30., -30., -30., -30., -30., -30., -30., -30., -30., -30., -30.,\n",
       "        -30., -30., -30., -30., -30., -30., -30., -30., -30., -30., -30.,\n",
       "        -30., -30., -30., -30., -30., -30., -30., -30., -30., -30., -30.,\n",
       "        -30., -30., -30., -30.],\n",
       "       [-20., -20., -20., -20., -20., -20., -20., -20., -20., -20., -20.,\n",
       "        -20., -20., -20., -20., -20., -20., -20., -20., -20., -20., -20.,\n",
       "        -20., -20., -20., -20., -20., -20., -20., -20., -20., -20., -20.,\n",
       "        -20., -20., -20., -20.],\n",
       "       [-10., -10., -10., -10., -10., -10., -10., -10., -10., -10., -10.,\n",
       "        -10., -10., -10., -10., -10., -10., -10., -10., -10., -10., -10.,\n",
       "        -10., -10., -10., -10., -10., -10., -10., -10., -10., -10., -10.,\n",
       "        -10., -10., -10., -10.],\n",
       "       [  0.,   0.,   0.,   0.,   0.,   0.,   0.,   0.,   0.,   0.,   0.,\n",
       "          0.,   0.,   0.,   0.,   0.,   0.,   0.,   0.,   0.,   0.,   0.,\n",
       "          0.,   0.,   0.,   0.,   0.,   0.,   0.,   0.,   0.,   0.,   0.,\n",
       "          0.,   0.,   0.,   0.],\n",
       "       [ 10.,  10.,  10.,  10.,  10.,  10.,  10.,  10.,  10.,  10.,  10.,\n",
       "         10.,  10.,  10.,  10.,  10.,  10.,  10.,  10.,  10.,  10.,  10.,\n",
       "         10.,  10.,  10.,  10.,  10.,  10.,  10.,  10.,  10.,  10.,  10.,\n",
       "         10.,  10.,  10.,  10.],\n",
       "       [ 20.,  20.,  20.,  20.,  20.,  20.,  20.,  20.,  20.,  20.,  20.,\n",
       "         20.,  20.,  20.,  20.,  20.,  20.,  20.,  20.,  20.,  20.,  20.,\n",
       "         20.,  20.,  20.,  20.,  20.,  20.,  20.,  20.,  20.,  20.,  20.,\n",
       "         20.,  20.,  20.,  20.],\n",
       "       [ 30.,  30.,  30.,  30.,  30.,  30.,  30.,  30.,  30.,  30.,  30.,\n",
       "         30.,  30.,  30.,  30.,  30.,  30.,  30.,  30.,  30.,  30.,  30.,\n",
       "         30.,  30.,  30.,  30.,  30.,  30.,  30.,  30.,  30.,  30.,  30.,\n",
       "         30.,  30.,  30.,  30.],\n",
       "       [ 40.,  40.,  40.,  40.,  40.,  40.,  40.,  40.,  40.,  40.,  40.,\n",
       "         40.,  40.,  40.,  40.,  40.,  40.,  40.,  40.,  40.,  40.,  40.,\n",
       "         40.,  40.,  40.,  40.,  40.,  40.,  40.,  40.,  40.,  40.,  40.,\n",
       "         40.,  40.,  40.,  40.],\n",
       "       [ 50.,  50.,  50.,  50.,  50.,  50.,  50.,  50.,  50.,  50.,  50.,\n",
       "         50.,  50.,  50.,  50.,  50.,  50.,  50.,  50.,  50.,  50.,  50.,\n",
       "         50.,  50.,  50.,  50.,  50.,  50.,  50.,  50.,  50.,  50.,  50.,\n",
       "         50.,  50.,  50.,  50.],\n",
       "       [ 60.,  60.,  60.,  60.,  60.,  60.,  60.,  60.,  60.,  60.,  60.,\n",
       "         60.,  60.,  60.,  60.,  60.,  60.,  60.,  60.,  60.,  60.,  60.,\n",
       "         60.,  60.,  60.,  60.,  60.,  60.,  60.,  60.,  60.,  60.,  60.,\n",
       "         60.,  60.,  60.,  60.],\n",
       "       [ 70.,  70.,  70.,  70.,  70.,  70.,  70.,  70.,  70.,  70.,  70.,\n",
       "         70.,  70.,  70.,  70.,  70.,  70.,  70.,  70.,  70.,  70.,  70.,\n",
       "         70.,  70.,  70.,  70.,  70.,  70.,  70.,  70.,  70.,  70.,  70.,\n",
       "         70.,  70.,  70.,  70.],\n",
       "       [ 80.,  80.,  80.,  80.,  80.,  80.,  80.,  80.,  80.,  80.,  80.,\n",
       "         80.,  80.,  80.,  80.,  80.,  80.,  80.,  80.,  80.,  80.,  80.,\n",
       "         80.,  80.,  80.,  80.,  80.,  80.,  80.,  80.,  80.,  80.,  80.,\n",
       "         80.,  80.,  80.,  80.],\n",
       "       [ 90.,  90.,  90.,  90.,  90.,  90.,  90.,  90.,  90.,  90.,  90.,\n",
       "         90.,  90.,  90.,  90.,  90.,  90.,  90.,  90.,  90.,  90.,  90.,\n",
       "         90.,  90.,  90.,  90.,  90.,  90.,  90.,  90.,  90.,  90.,  90.,\n",
       "         90.,  90.,  90.,  90.]])"
      ]
     },
     "execution_count": 32,
     "metadata": {},
     "output_type": "execute_result"
    }
   ],
   "source": [
    "lats"
   ]
  },
  {
   "cell_type": "code",
   "execution_count": 33,
   "metadata": {},
   "outputs": [],
   "source": [
    "# 构造网格，除了 np.meshgrid() 之外，还有一个更牛的方法，可以直接生成纬度网格和经度网格（请注意，纬度在前，经度在后）\n",
    "# 网格精度为5°，网格shape为(37,73)\n",
    "lats, lons = np.mgrid[-90:91:5., -180:181:5.]"
   ]
  },
  {
   "cell_type": "code",
   "execution_count": 37,
   "metadata": {},
   "outputs": [],
   "source": [
    "# 也可以用虚实指定分割点数，网格精度同样为5°\n",
    "lats, lons = np.mgrid[-90:90:37j, -180:180:73j]"
   ]
  },
  {
   "cell_type": "code",
   "execution_count": 38,
   "metadata": {},
   "outputs": [
    {
     "data": {
      "text/plain": [
       "(37, 73)"
      ]
     },
     "execution_count": 38,
     "metadata": {},
     "output_type": "execute_result"
    }
   ],
   "source": [
    "lons.shape"
   ]
  },
  {
   "cell_type": "code",
   "execution_count": 39,
   "metadata": {},
   "outputs": [
    {
     "data": {
      "text/plain": [
       "(37, 73)"
      ]
     },
     "execution_count": 39,
     "metadata": {},
     "output_type": "execute_result"
    }
   ],
   "source": [
    "lats.shape"
   ]
  },
  {
   "cell_type": "code",
   "execution_count": 36,
   "metadata": {},
   "outputs": [],
   "source": [
    "lons = np.radians(lons)\n",
    "lats = np.radians(lats)\n",
    "z = np.sin(lats)\n",
    "x = np.cos(lats) * np.sin(lons)\n",
    "y = np.cos(lats) * np.sin(lons)"
   ]
  },
  {
   "cell_type": "code",
   "execution_count": 40,
   "metadata": {},
   "outputs": [
    {
     "data": {
      "image/png": "[encoded data removed]",
      "text/plain": [
       "<Figure size 432x288 with 1 Axes>"
      ]
     },
     "metadata": {
      "needs_background": "light"
     },
     "output_type": "display_data"
    }
   ],
   "source": [
    "import mpl_toolkits.mplot3d\n",
    "\n",
    "ax = plt.subplot(111, projection='3d')\n",
    "ax.plot_surface(x, y, z, cmap=plt.cm.coolwarm, alpha=0.8)\n",
    "plt.show()"
   ]
  },
  {
   "cell_type": "code",
   "execution_count": null,
   "metadata": {},
   "outputs": [],
   "source": []
  }
 ],
 "metadata": {
  "kernelspec": {
   "display_name": "Python 3",
   "language": "python",
   "name": "python3"
  },
  "language_info": {
   "codemirror_mode": {
    "name": "ipython",
    "version": 3
   },
   "file_extension": ".py",
   "mimetype": "text/x-python",
   "name": "python",
   "nbconvert_exporter": "python",
   "pygments_lexer": "ipython3",
   "version": "3.7.7"
  }
 },
 "nbformat": 4,
 "nbformat_minor": 4
}
