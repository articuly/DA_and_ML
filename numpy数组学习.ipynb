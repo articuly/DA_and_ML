{
 "cells": [
  {
   "cell_type": "code",
   "execution_count": 1,
   "metadata": {},
   "outputs": [],
   "source": [
    "import numpy as np"
   ]
  },
  {
   "cell_type": "code",
   "execution_count": 2,
   "metadata": {},
   "outputs": [
    {
     "data": {
      "text/plain": [
       "array([2. , 4. , 6.5, 8. ])"
      ]
     },
     "execution_count": 2,
     "metadata": {},
     "output_type": "execute_result"
    }
   ],
   "source": [
    "data0 = [2, 4, 6.5, 8]\n",
    "arr0 = np.array(data0)\n",
    "arr0"
   ]
  },
  {
   "cell_type": "code",
   "execution_count": 3,
   "metadata": {},
   "outputs": [
    {
     "data": {
      "text/plain": [
       "array([[1, 2, 3, 4],\n",
       "       [5, 6, 7, 8]])"
      ]
     },
     "execution_count": 3,
     "metadata": {},
     "output_type": "execute_result"
    }
   ],
   "source": [
    "# 创建多维数组\n",
    "data1 = [[1, 2, 3, 4], [5, 6, 7, 8]]\n",
    "arr1 = np.array(data1)\n",
    "arr1"
   ]
  },
  {
   "cell_type": "code",
   "execution_count": 4,
   "metadata": {},
   "outputs": [
    {
     "data": {
      "text/plain": [
       "array([[1., 2., 3., 4.],\n",
       "       [5., 6., 7., 8.]], dtype=float32)"
      ]
     },
     "execution_count": 4,
     "metadata": {},
     "output_type": "execute_result"
    }
   ],
   "source": [
    "# 利用dtype关键字，传入合适的数据类型，显式地定义\n",
    "arr2 = np.array(data1, dtype=np.float32)\n",
    "arr2"
   ]
  },
  {
   "cell_type": "code",
   "execution_count": 5,
   "metadata": {},
   "outputs": [
    {
     "data": {
      "text/plain": [
       "(2, 4)"
      ]
     },
     "execution_count": 5,
     "metadata": {},
     "output_type": "execute_result"
    }
   ],
   "source": [
    "# 查看arr2的各维度的大小，其结果用tuple表示。tuple的长度，表示数组的维数；具体值表示数组的大小\n",
    "arr2.shape"
   ]
  },
  {
   "cell_type": "code",
   "execution_count": 6,
   "metadata": {},
   "outputs": [
    {
     "data": {
      "text/plain": [
       "array([[ True, False],\n",
       "       [False,  True]])"
      ]
     },
     "execution_count": 6,
     "metadata": {},
     "output_type": "execute_result"
    }
   ],
   "source": [
    "# 通过整形1和0，定义布尔类型的数组\n",
    "data3 = [[1, 0], [0, 1]]\n",
    "arr3 = np.array(data3, dtype=np.bool)\n",
    "arr3"
   ]
  },
  {
   "cell_type": "code",
   "execution_count": 7,
   "metadata": {},
   "outputs": [
    {
     "data": {
      "text/plain": [
       "array([[1.23, 2.67],\n",
       "       [1.45, 6.  ]], dtype=float32)"
      ]
     },
     "execution_count": 7,
     "metadata": {},
     "output_type": "execute_result"
    }
   ],
   "source": [
    "# 更改ndarray的数据类型\n",
    "data6 = [[1.230, 2.670], [1.450, 6.000]]\n",
    "arr6 = np.array(data6, dtype=np.float32)\n",
    "arr6.astype(np.float16)\n",
    "arr6"
   ]
  },
  {
   "cell_type": "code",
   "execution_count": 12,
   "metadata": {},
   "outputs": [
    {
     "data": {
      "text/plain": [
       "array([[1.23, 2.67],\n",
       "       [1.45, 6.  ]], dtype=float32)"
      ]
     },
     "execution_count": 12,
     "metadata": {},
     "output_type": "execute_result"
    }
   ],
   "source": [
    "arr6.astype(np.int8)\n",
    "arr6"
   ]
  },
  {
   "cell_type": "code",
   "execution_count": 13,
   "metadata": {},
   "outputs": [
    {
     "data": {
      "text/plain": [
       "array([[3.14],\n",
       "       [9.8 ]], dtype=float16)"
      ]
     },
     "execution_count": 13,
     "metadata": {},
     "output_type": "execute_result"
    }
   ],
   "source": [
    "# 对浮点数数组，保留3位有效数字，并禁用科学计数法；小数位数不够，后面不会补0\n",
    "arr7 = np.array([[3.141592653], [9.8]], dtype=np.float16)  # 定义一个2维数组\n",
    "np.set_printoptions(precision=3, suppress=True)\n",
    "arr7"
   ]
  },
  {
   "cell_type": "code",
   "execution_count": 14,
   "metadata": {},
   "outputs": [
    {
     "data": {
      "text/plain": [
       "array([0, 0, 0, 0, 0, 0, 0, 0, 0, 0], dtype=int8)"
      ]
     },
     "execution_count": 14,
     "metadata": {},
     "output_type": "execute_result"
    }
   ],
   "source": [
    "# 创建一个大小为10的全0数组\n",
    "np.zeros(10, dtype=np.int8)"
   ]
  },
  {
   "cell_type": "code",
   "execution_count": 15,
   "metadata": {},
   "outputs": [
    {
     "data": {
      "text/plain": [
       "array([[0., 0., 0.],\n",
       "       [0., 0., 0.]], dtype=float16)"
      ]
     },
     "execution_count": 15,
     "metadata": {},
     "output_type": "execute_result"
    }
   ],
   "source": [
    "# 创建一个大小为2×3的全0数组\n",
    "np.zeros((2, 3), dtype=np.float16)"
   ]
  },
  {
   "cell_type": "code",
   "execution_count": 16,
   "metadata": {},
   "outputs": [
    {
     "data": {
      "text/plain": [
       "array([[1, 1, 1, 1, 1],\n",
       "       [1, 1, 1, 1, 1]], dtype=int16)"
      ]
     },
     "execution_count": 16,
     "metadata": {},
     "output_type": "execute_result"
    }
   ],
   "source": [
    "# 创建一个大小为2×3的全1数组\n",
    "np.ones((2, 5), dtype=np.int16)"
   ]
  },
  {
   "cell_type": "code",
   "execution_count": 17,
   "metadata": {},
   "outputs": [
    {
     "data": {
      "text/plain": [
       "array([[-112,  -27,  -60],\n",
       "       [-109,  -10,    1],\n",
       "       [   0,    0,  -32]], dtype=int8)"
      ]
     },
     "execution_count": 17,
     "metadata": {},
     "output_type": "execute_result"
    }
   ],
   "source": [
    "# empty 函数返回值为未经过初始化的垃圾值\n",
    "np.empty((3, 3), dtype=np.int8)"
   ]
  },
  {
   "cell_type": "code",
   "execution_count": 18,
   "metadata": {},
   "outputs": [
    {
     "data": {
      "text/plain": [
       "array([[1., 0., 0., 0.],\n",
       "       [0., 1., 0., 0.],\n",
       "       [0., 0., 1., 0.],\n",
       "       [0., 0., 0., 1.]])"
      ]
     },
     "execution_count": 18,
     "metadata": {},
     "output_type": "execute_result"
    }
   ],
   "source": [
    "# 创建一个大小为3×3的单位矩阵\n",
    "np.identity(4)"
   ]
  },
  {
   "cell_type": "code",
   "execution_count": 19,
   "metadata": {},
   "outputs": [
    {
     "data": {
      "text/plain": [
       "array([[1, 0, 0, 0],\n",
       "       [0, 1, 0, 0],\n",
       "       [0, 0, 1, 0]], dtype=int8)"
      ]
     },
     "execution_count": 19,
     "metadata": {},
     "output_type": "execute_result"
    }
   ],
   "source": [
    "# 创建3×4的矩形矩阵,eye函数，identity的升级版本\n",
    "np.eye(N=3, M=4, dtype=np.int8)"
   ]
  },
  {
   "cell_type": "code",
   "execution_count": 20,
   "metadata": {},
   "outputs": [
    {
     "data": {
      "text/plain": [
       "array([[0, 1, 0, 0, 0],\n",
       "       [0, 0, 1, 0, 0],\n",
       "       [0, 0, 0, 1, 0],\n",
       "       [0, 0, 0, 0, 1]], dtype=int8)"
      ]
     },
     "execution_count": 20,
     "metadata": {},
     "output_type": "execute_result"
    }
   ],
   "source": [
    "# 创建4×5的矩形矩阵，并且为1的对角线向右偏移1个单位。\n",
    "np.eye(N=4, M=5, k=1, dtype=np.int8)"
   ]
  },
  {
   "cell_type": "code",
   "execution_count": 21,
   "metadata": {},
   "outputs": [
    {
     "data": {
      "text/plain": [
       "array([ 0,  3,  6,  9, 12, 15, 18, 21, 24, 27, 30])"
      ]
     },
     "execution_count": 21,
     "metadata": {},
     "output_type": "execute_result"
    }
   ],
   "source": [
    "# 指定 start、stop、以及step。arange和range一样，是左闭右开的区间。\n",
    "np.arange(0, 33, 3)"
   ]
  },
  {
   "cell_type": "code",
   "execution_count": 22,
   "metadata": {},
   "outputs": [
    {
     "data": {
      "text/plain": [
       "array([ 0,  1,  2,  3,  4,  5,  6,  7,  8,  9, 10, 11, 12, 13, 14, 15, 16,\n",
       "       17, 18, 19, 20, 21, 22, 23, 24])"
      ]
     },
     "execution_count": 22,
     "metadata": {},
     "output_type": "execute_result"
    }
   ],
   "source": [
    "np.arange(25)"
   ]
  },
  {
   "cell_type": "code",
   "execution_count": 23,
   "metadata": {},
   "outputs": [
    {
     "data": {
      "text/plain": [
       "array([ 1.  ,  1.25,  1.5 ,  1.75,  2.  ,  2.25,  2.5 ,  2.75,  3.  ,\n",
       "        3.25,  3.5 ,  3.75,  4.  ,  4.25,  4.5 ,  4.75,  5.  ,  5.25,\n",
       "        5.5 ,  5.75,  6.  ,  6.25,  6.5 ,  6.75,  7.  ,  7.25,  7.5 ,\n",
       "        7.75,  8.  ,  8.25,  8.5 ,  8.75,  9.  ,  9.25,  9.5 ,  9.75,\n",
       "       10.  , 10.25, 10.5 , 10.75, 11.  , 11.25, 11.5 , 11.75])"
      ]
     },
     "execution_count": 23,
     "metadata": {},
     "output_type": "execute_result"
    }
   ],
   "source": [
    "np.arange(1, 12, 0.25)"
   ]
  },
  {
   "cell_type": "code",
   "execution_count": 24,
   "metadata": {},
   "outputs": [
    {
     "data": {
      "text/plain": [
       "array([  1.   ,   4.414,   7.828,  11.241,  14.655,  18.069,  21.483,\n",
       "        24.897,  28.31 ,  31.724,  35.138,  38.552,  41.966,  45.379,\n",
       "        48.793,  52.207,  55.621,  59.034,  62.448,  65.862,  69.276,\n",
       "        72.69 ,  76.103,  79.517,  82.931,  86.345,  89.759,  93.172,\n",
       "        96.586, 100.   ])"
      ]
     },
     "execution_count": 24,
     "metadata": {},
     "output_type": "execute_result"
    }
   ],
   "source": [
    "# np.linspace(start, stop[, num=50[, endpoint=True[, retstep=False[, dtype=None]]]]])\n",
    "arr8 = np.linspace(1, 100, num=30)\n",
    "arr8"
   ]
  },
  {
   "cell_type": "code",
   "execution_count": 25,
   "metadata": {},
   "outputs": [
    {
     "data": {
      "text/plain": [
       "array([[  1.   ,   4.414,   7.828,  11.241,  14.655],\n",
       "       [ 18.069,  21.483,  24.897,  28.31 ,  31.724],\n",
       "       [ 35.138,  38.552,  41.966,  45.379,  48.793],\n",
       "       [ 52.207,  55.621,  59.034,  62.448,  65.862],\n",
       "       [ 69.276,  72.69 ,  76.103,  79.517,  82.931],\n",
       "       [ 86.345,  89.759,  93.172,  96.586, 100.   ]])"
      ]
     },
     "execution_count": 25,
     "metadata": {},
     "output_type": "execute_result"
    }
   ],
   "source": [
    "# 这里定义了一个长度为20的等差数组，然后通过reshape方法，调整数组的大小为6×5\n",
    "arr8.reshape(6, 5)"
   ]
  },
  {
   "cell_type": "code",
   "execution_count": 30,
   "metadata": {},
   "outputs": [
    {
     "data": {
      "text/plain": [
       "array([   2,    4,    7,   16,   32,   64,  127,  256,  512, 1024],\n",
       "      dtype=int16)"
      ]
     },
     "execution_count": 30,
     "metadata": {},
     "output_type": "execute_result"
    }
   ],
   "source": [
    "# geomspace()方法，创建指数等比数列\n",
    "arr9 = np.geomspace(2, 1024, 10, dtype=np.int16)\n",
    "arr9"
   ]
  },
  {
   "cell_type": "code",
   "execution_count": 31,
   "metadata": {},
   "outputs": [
    {
     "data": {
      "text/plain": [
       "array([[   2,    4],\n",
       "       [   7,   16],\n",
       "       [  32,   64],\n",
       "       [ 127,  256],\n",
       "       [ 512, 1024]], dtype=int16)"
      ]
     },
     "execution_count": 31,
     "metadata": {},
     "output_type": "execute_result"
    }
   ],
   "source": [
    "arr9.reshape(5, 2)"
   ]
  },
  {
   "cell_type": "code",
   "execution_count": 32,
   "metadata": {},
   "outputs": [
    {
     "data": {
      "text/plain": [
       "array([      2.,       4.,       8.,      16.,      32.,      64.,\n",
       "           128.,     256.,     512.,    1024.,    2048.,    4096.,\n",
       "          8192.,   16384.,   32768.,   65536.,  131072.,  262144.,\n",
       "        524288., 1048576.])"
      ]
     },
     "execution_count": 32,
     "metadata": {},
     "output_type": "execute_result"
    }
   ],
   "source": [
    "# logspace()方法，创建对数等比数列\n",
    "arr10 = np.logspace(1, 20, num=20, base=2)\n",
    "arr10"
   ]
  },
  {
   "cell_type": "code",
   "execution_count": 35,
   "metadata": {},
   "outputs": [
    {
     "data": {
      "text/plain": [
       "array([      0.   ,       0.   ,       0.   ,       0.   ,       0.   ,\n",
       "             0.   ,       0.   ,       0.   ,       0.   ,       0.   ,\n",
       "             0.   ,       0.   ,       0.001,       0.002,       0.003,\n",
       "             0.005,       0.008,       0.015,       0.026,       0.045,\n",
       "             0.079,       0.139,       0.244,       0.429,       0.754,\n",
       "             1.326,       2.33 ,       4.095,       7.197,      12.649,\n",
       "            22.23 ,      39.069,      68.665,     120.679,     212.095,\n",
       "           372.759,     655.129,    1151.395,    2023.59 ,    3556.48 ,\n",
       "          6250.552,   10985.411,   19306.977,   33932.218,   59636.233,\n",
       "        104811.313,  184206.997,  323745.754,  568986.603, 1000000.   ])"
      ]
     },
     "execution_count": 35,
     "metadata": {},
     "output_type": "execute_result"
    }
   ],
   "source": [
    "np.logspace(-6, 6)"
   ]
  },
  {
   "cell_type": "code",
   "execution_count": 36,
   "metadata": {},
   "outputs": [
    {
     "data": {
      "text/plain": [
       "array([[      2.,       4.,       8.,      16.],\n",
       "       [     32.,      64.,     128.,     256.],\n",
       "       [    512.,    1024.,    2048.,    4096.],\n",
       "       [   8192.,   16384.,   32768.,   65536.],\n",
       "       [ 131072.,  262144.,  524288., 1048576.]])"
      ]
     },
     "execution_count": 36,
     "metadata": {},
     "output_type": "execute_result"
    }
   ],
   "source": [
    "arr10.reshape(5, 4)"
   ]
  },
  {
   "cell_type": "code",
   "execution_count": 37,
   "metadata": {},
   "outputs": [
    {
     "data": {
      "text/plain": [
       "array([0.79 , 0.073, 0.395, 0.137, 0.427, 0.096, 0.589, 0.102, 0.13 ,\n",
       "       0.556])"
      ]
     },
     "execution_count": 37,
     "metadata": {},
     "output_type": "execute_result"
    }
   ],
   "source": [
    "# 产生一个大小为3×2，符合0-1之间的均匀分布的数组,创建[0, 1)之间的均匀分布的随机数组\n",
    "np.random.rand(10)"
   ]
  },
  {
   "cell_type": "code",
   "execution_count": 38,
   "metadata": {},
   "outputs": [
    {
     "data": {
      "text/plain": [
       "array([[[69.085, 59.324, 12.387],\n",
       "        [16.859, 16.082, 75.014],\n",
       "        [70.511, 54.596, 88.381]],\n",
       "\n",
       "       [[19.73 , 84.021, 88.418],\n",
       "        [67.092, 94.55 , 26.583],\n",
       "        [98.5  , 75.223, 75.716]],\n",
       "\n",
       "       [[32.355, 43.93 , 51.189],\n",
       "        [25.687, 61.934, 26.993],\n",
       "        [44.482,  8.462, 53.701]]])"
      ]
     },
     "execution_count": 38,
     "metadata": {},
     "output_type": "execute_result"
    }
   ],
   "source": [
    "# uniform方法可以指定产生随机数的范围[low, high)，size为数组的形状，输入格式为整形（一维）或者整形元祖\n",
    "# 如果不指定size的话，则返回一个服从该分布的随机数\n",
    "np.random.uniform(1, 100, size=(3, 3, 3))"
   ]
  },
  {
   "cell_type": "code",
   "execution_count": 44,
   "metadata": {},
   "outputs": [
    {
     "data": {
      "text/plain": [
       "array([[-0.864,  0.742, -0.782],\n",
       "       [-0.038,  0.322,  0.176]])"
      ]
     },
     "execution_count": 44,
     "metadata": {},
     "output_type": "execute_result"
    }
   ],
   "source": [
    "# 该方法和rand类似，函数的输入为若干个整数，表示输出随机数的大小为d0×d1× ...×dn\n",
    "# 如果没有参数输入，则返回一个服从标准正态分布的float型随机数\n",
    "np.random.randn(2, 3)"
   ]
  },
  {
   "cell_type": "code",
   "execution_count": 45,
   "metadata": {},
   "outputs": [
    {
     "data": {
      "text/plain": [
       "array([ 80.539,  88.175,  80.864, 105.838,  89.801, 107.585, 114.267,\n",
       "        91.181, 101.835, 115.08 ])"
      ]
     },
     "execution_count": 45,
     "metadata": {},
     "output_type": "execute_result"
    }
   ],
   "source": [
    "# loc:指定均值 μ; scale:指定标准差 σ\n",
    "# size:输入格式为整形（一维）或者整形元祖，指定了数组的形状\n",
    "np.random.normal(100, 10, 10)"
   ]
  },
  {
   "cell_type": "code",
   "execution_count": 46,
   "metadata": {},
   "outputs": [
    {
     "data": {
      "text/plain": [
       "-0.41627724897743096"
      ]
     },
     "execution_count": 46,
     "metadata": {},
     "output_type": "execute_result"
    }
   ],
   "source": [
    "np.random.normal()"
   ]
  },
  {
   "cell_type": "code",
   "execution_count": 47,
   "metadata": {},
   "outputs": [
    {
     "data": {
      "text/plain": [
       "array([[5, 1, 3, 6, 8, 6, 3, 1, 6],\n",
       "       [8, 2, 1, 7, 6, 5, 7, 1, 1],\n",
       "       [1, 1, 3, 7, 1, 7, 2, 4, 2],\n",
       "       [4, 2, 2, 5, 4, 1, 4, 8, 6],\n",
       "       [5, 6, 6, 3, 2, 1, 2, 4, 2],\n",
       "       [2, 6, 2, 6, 3, 8, 7, 4, 5],\n",
       "       [7, 5, 3, 6, 4, 8, 7, 8, 1],\n",
       "       [7, 5, 1, 4, 2, 3, 2, 5, 2],\n",
       "       [6, 8, 5, 5, 3, 5, 7, 1, 1]])"
      ]
     },
     "execution_count": 47,
     "metadata": {},
     "output_type": "execute_result"
    }
   ],
   "source": [
    "# 函数返回区间[low, high)内的离散均匀抽样，dtype指定返回抽样数组的数据类型,默认为整形\n",
    "# size:输入格式为整形（一维）或者整形元祖，指定了数组的形状\n",
    "np.random.randint(1, 9, (9, 9))"
   ]
  },
  {
   "cell_type": "code",
   "execution_count": 49,
   "metadata": {},
   "outputs": [
    {
     "data": {
      "text/plain": [
       "['命中', '未命中', '命中', '命中', '命中', '未命中', '命中', '命中', '命中', '未命中']"
      ]
     },
     "execution_count": 49,
     "metadata": {},
     "output_type": "execute_result"
    }
   ],
   "source": [
    "# 从样本a中进行抽样，a可以为数组、列表或者整数，若为整数，表示[0,a)的离散抽样；\n",
    "# replace为False，表示无放回抽样；replace为True，表示有放回抽样，可重复\n",
    "# size为生成样本的大小\n",
    "# p为给定数组中元素出现的概率\n",
    "# numpy.random.choice(a, size=None, replace=True, p=None)\n",
    "# 因为理想情况下，每次投篮都不影响下一次的结果，所以把这个问题归结为有放回的抽样，一共进行10次\n",
    "# shoot_lst用来存储投篮的结果\n",
    "shoot_lst = []\n",
    "for i in range(10):\n",
    "    shoot = np.random.choice(['命中', '未命中'], size=1, replace=True, p=[0.8, 0.2])\n",
    "    shoot_lst.append(shoot[0])\n",
    "shoot_lst"
   ]
  },
  {
   "cell_type": "code",
   "execution_count": 50,
   "metadata": {},
   "outputs": [
    {
     "data": {
      "text/plain": [
       "array([[ 0,  1,  2,  3,  4,  5],\n",
       "       [ 6,  7,  8,  9, 10, 11],\n",
       "       [12, 13, 14, 15, 16, 17],\n",
       "       [18, 19, 20, 21, 22, 23]])"
      ]
     },
     "execution_count": 50,
     "metadata": {},
     "output_type": "execute_result"
    }
   ],
   "source": [
    "# 花式索引\n",
    "# 新建4×6的二维数组arr_\n",
    "arr_demo01 = np.arange(24).reshape(4, 6)\n",
    "arr_demo01"
   ]
  },
  {
   "cell_type": "code",
   "execution_count": 51,
   "metadata": {},
   "outputs": [
    {
     "data": {
      "text/plain": [
       "array([[ 0,  5],\n",
       "       [18, 23]])"
      ]
     },
     "execution_count": 51,
     "metadata": {},
     "output_type": "execute_result"
    }
   ],
   "source": [
    "# 方法1：分别将4个角的元素索引出来，然后把取出来的4个元素，重新组成一个新2×2的数组\n",
    "arr_method1 = np.array([[arr_demo01[0, 0], arr_demo01[0, -1]],\n",
    "                        [arr_demo01[-1, 0], arr_demo01[-1, -1]]])\n",
    "arr_method1"
   ]
  },
  {
   "cell_type": "code",
   "execution_count": 52,
   "metadata": {},
   "outputs": [
    {
     "data": {
      "text/plain": [
       "array([[ 0,  5],\n",
       "       [18, 23]])"
      ]
     },
     "execution_count": 52,
     "metadata": {},
     "output_type": "execute_result"
    }
   ],
   "source": [
    "# 方法2：利用布尔索引，可以同时索引不连续的行。分别对axis 0方向和axis 1方向进行索引。但是需要注意的是，得分2次索引；\n",
    "arr_method2 = arr_demo01[[True, False, False,\n",
    "                          True]][:, [True, False, False, False, False, True]]\n",
    "arr_method2"
   ]
  },
  {
   "cell_type": "code",
   "execution_count": 53,
   "metadata": {},
   "outputs": [
    {
     "data": {
      "text/plain": [
       "array([[ 0,  5],\n",
       "       [18, 23]])"
      ]
     },
     "execution_count": 53,
     "metadata": {},
     "output_type": "execute_result"
    }
   ],
   "source": [
    "# 方法3：分别传入4个角的坐标，请朋友们注意观察传入的2个整数数组的规律\n",
    "arr_demo01[[0, 0, -1, -1], [0, -1, 0, -1]].reshape(2, 2)"
   ]
  },
  {
   "cell_type": "code",
   "execution_count": 54,
   "metadata": {},
   "outputs": [
    {
     "data": {
      "text/plain": [
       "array([[ 0,  5],\n",
       "       [18, 23]])"
      ]
     },
     "execution_count": 54,
     "metadata": {},
     "output_type": "execute_result"
    }
   ],
   "source": [
    "# 方法4：利用花式索引和切片混用，整体思路和方法2很相似。也是通过连续2次索引，得到一个矩形状的区域\n",
    "arr_demo01[[0, -1]][:, [0, -1]]"
   ]
  },
  {
   "cell_type": "code",
   "execution_count": 55,
   "metadata": {},
   "outputs": [
    {
     "data": {
      "text/plain": [
       "array([[ 0,  5],\n",
       "       [18, 23]])"
      ]
     },
     "execution_count": 55,
     "metadata": {},
     "output_type": "execute_result"
    }
   ],
   "source": [
    "# 方法5：利用函数np.ix_，构建矩形索引器：\n",
    "arr_demo01[np.ix_([0, -1], [0, -1])]"
   ]
  },
  {
   "cell_type": "code",
   "execution_count": null,
   "metadata": {},
   "outputs": [],
   "source": []
  }
 ],
 "metadata": {
  "kernelspec": {
   "display_name": "Python 3",
   "language": "python",
   "name": "python3"
  },
  "language_info": {
   "codemirror_mode": {
    "name": "ipython",
    "version": 3
   },
   "file_extension": ".py",
   "mimetype": "text/x-python",
   "name": "python",
   "nbconvert_exporter": "python",
   "pygments_lexer": "ipython3",
   "version": "3.7.7"
  }
 },
 "nbformat": 4,
 "nbformat_minor": 4
}
