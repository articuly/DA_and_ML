{
 "cells": [
  {
   "cell_type": "code",
   "execution_count": 3,
   "metadata": {
    "pycharm": {
     "is_executing": false
    }
   },
   "outputs": [
    {
     "data": {
      "text/plain": [
       "{'Chris': 160,\n",
       " 'Emily': 165,\n",
       " 'Jack': 182,\n",
       " 'Jerry': 179,\n",
       " 'Sawyer': 170,\n",
       " 'Tom': 176}"
      ]
     },
     "execution_count": 3,
     "metadata": {},
     "output_type": "execute_result"
    }
   ],
   "source": [
    "data = {\n",
    "    \"Jack\": 182,\n",
    "    \"Tom\": 176,\n",
    "    \"Jerry\": 179,\n",
    "    \"Emily\": 165,\n",
    "    \"Sawyer\": 170,\n",
    "    \"Chris\": 160\n",
    "}\n",
    "# 按照字典的value值，逆序排序，用.items()来保留两个元素\n",
    "data_rev = sorted(data.items(), key=lambda x: x[1], reverse=True)\n",
    "dict(data_rev)\n",
    "# 按照字典的key值，自然顺序排序\n",
    "data_nrev = sorted(data.items(), key=lambda x: x[0], reverse=False)\n",
    "dict(data_nrev)"
   ]
  },
  {
   "cell_type": "code",
   "execution_count": 4,
   "metadata": {
    "collapsed": false,
    "jupyter": {
     "outputs_hidden": false
    },
    "pycharm": {
     "is_executing": false,
     "name": "#%%\n"
    }
   },
   "outputs": [
    {
     "data": {
      "text/plain": [
       "['Larissa', 'Ivy', 'Lucy', 'Abby', 'Martion', 'Allen']"
      ]
     },
     "execution_count": 4,
     "metadata": {},
     "output_type": "execute_result"
    }
   ],
   "source": [
    "names = [\"Larissa\", \"ivy\", \"LUCY\", \"aBBY\", \"martion\", \"allen\"]\n",
    "list(map(lambda x: x[0].upper() + x[1:].lower(), names))"
   ]
  },
  {
   "cell_type": "code",
   "execution_count": 10,
   "metadata": {
    "collapsed": false,
    "jupyter": {
     "outputs_hidden": false
    },
    "pycharm": {
     "name": "#%%\n"
    }
   },
   "outputs": [
    {
     "data": {
      "text/html": [
       "<div>\n",
       "<style scoped>\n",
       "    .dataframe tbody tr th:only-of-type {\n",
       "        vertical-align: middle;\n",
       "    }\n",
       "\n",
       "    .dataframe tbody tr th {\n",
       "        vertical-align: top;\n",
       "    }\n",
       "\n",
       "    .dataframe thead th {\n",
       "        text-align: right;\n",
       "    }\n",
       "</style>\n",
       "<table border=\"1\" class=\"dataframe\">\n",
       "  <thead>\n",
       "    <tr style=\"text-align: right;\">\n",
       "      <th></th>\n",
       "      <th>Country Name</th>\n",
       "      <th>longitude</th>\n",
       "      <th>latitude</th>\n",
       "      <th>1960</th>\n",
       "      <th>1961</th>\n",
       "      <th>1962</th>\n",
       "      <th>1963</th>\n",
       "      <th>1964</th>\n",
       "      <th>1965</th>\n",
       "      <th>1966</th>\n",
       "      <th>...</th>\n",
       "      <th>2009</th>\n",
       "      <th>2010</th>\n",
       "      <th>2011</th>\n",
       "      <th>2012</th>\n",
       "      <th>2013</th>\n",
       "      <th>2014</th>\n",
       "      <th>2015</th>\n",
       "      <th>2016</th>\n",
       "      <th>2017</th>\n",
       "      <th>2018</th>\n",
       "    </tr>\n",
       "  </thead>\n",
       "  <tbody>\n",
       "    <tr>\n",
       "      <th>0</th>\n",
       "      <td>United Kingdom</td>\n",
       "      <td>-0.07858</td>\n",
       "      <td>51.50476</td>\n",
       "      <td>72328047042</td>\n",
       "      <td>76694360636</td>\n",
       "      <td>80601939635</td>\n",
       "      <td>85443766670</td>\n",
       "      <td>93387598814</td>\n",
       "      <td>101000000000</td>\n",
       "      <td>107000000000</td>\n",
       "      <td>...</td>\n",
       "      <td>2390000000000</td>\n",
       "      <td>2450000000000</td>\n",
       "      <td>2630000000000</td>\n",
       "      <td>2680000000000</td>\n",
       "      <td>2750000000000</td>\n",
       "      <td>3030000000000</td>\n",
       "      <td>2900000000000</td>\n",
       "      <td>2660000000000</td>\n",
       "      <td>2640000000000</td>\n",
       "      <td>2830000000000</td>\n",
       "    </tr>\n",
       "    <tr>\n",
       "      <th>1</th>\n",
       "      <td>United States</td>\n",
       "      <td>-77.04026</td>\n",
       "      <td>38.85169</td>\n",
       "      <td>543000000000</td>\n",
       "      <td>563000000000</td>\n",
       "      <td>605000000000</td>\n",
       "      <td>639000000000</td>\n",
       "      <td>686000000000</td>\n",
       "      <td>744000000000</td>\n",
       "      <td>815000000000</td>\n",
       "      <td>...</td>\n",
       "      <td>14400000000000</td>\n",
       "      <td>15000000000000</td>\n",
       "      <td>15500000000000</td>\n",
       "      <td>16200000000000</td>\n",
       "      <td>16800000000000</td>\n",
       "      <td>17500000000000</td>\n",
       "      <td>18200000000000</td>\n",
       "      <td>18700000000000</td>\n",
       "      <td>19500000000000</td>\n",
       "      <td>20500000000000</td>\n",
       "    </tr>\n",
       "    <tr>\n",
       "      <th>2</th>\n",
       "      <td>Russian Federation</td>\n",
       "      <td>37.59411</td>\n",
       "      <td>55.75306</td>\n",
       "      <td></td>\n",
       "      <td></td>\n",
       "      <td></td>\n",
       "      <td></td>\n",
       "      <td></td>\n",
       "      <td></td>\n",
       "      <td></td>\n",
       "      <td>...</td>\n",
       "      <td>1220000000000</td>\n",
       "      <td>1520000000000</td>\n",
       "      <td>2050000000000</td>\n",
       "      <td>2210000000000</td>\n",
       "      <td>2300000000000</td>\n",
       "      <td>2060000000000</td>\n",
       "      <td>1360000000000</td>\n",
       "      <td>1280000000000</td>\n",
       "      <td>1580000000000</td>\n",
       "      <td>1660000000000</td>\n",
       "    </tr>\n",
       "    <tr>\n",
       "      <th>3</th>\n",
       "      <td>France</td>\n",
       "      <td>2.29363</td>\n",
       "      <td>48.87372</td>\n",
       "      <td>62651474947</td>\n",
       "      <td>68346741504</td>\n",
       "      <td>76313782252</td>\n",
       "      <td>85551113767</td>\n",
       "      <td>94906593388</td>\n",
       "      <td>102000000000</td>\n",
       "      <td>111000000000</td>\n",
       "      <td>...</td>\n",
       "      <td>2690000000000</td>\n",
       "      <td>2640000000000</td>\n",
       "      <td>2860000000000</td>\n",
       "      <td>2680000000000</td>\n",
       "      <td>2810000000000</td>\n",
       "      <td>2850000000000</td>\n",
       "      <td>2440000000000</td>\n",
       "      <td>2470000000000</td>\n",
       "      <td>2590000000000</td>\n",
       "      <td>2780000000000</td>\n",
       "    </tr>\n",
       "    <tr>\n",
       "      <th>4</th>\n",
       "      <td>China</td>\n",
       "      <td>116.39213</td>\n",
       "      <td>39.90071</td>\n",
       "      <td>59716467625</td>\n",
       "      <td>50056868958</td>\n",
       "      <td>47209359006</td>\n",
       "      <td>50706799903</td>\n",
       "      <td>59708343489</td>\n",
       "      <td>70436266147</td>\n",
       "      <td>76720285970</td>\n",
       "      <td>...</td>\n",
       "      <td>5100000000000</td>\n",
       "      <td>6090000000000</td>\n",
       "      <td>7550000000000</td>\n",
       "      <td>8530000000000</td>\n",
       "      <td>9570000000000</td>\n",
       "      <td>10400000000000</td>\n",
       "      <td>11000000000000</td>\n",
       "      <td>11100000000000</td>\n",
       "      <td>12100000000000</td>\n",
       "      <td>13600000000000</td>\n",
       "    </tr>\n",
       "  </tbody>\n",
       "</table>\n",
       "<p>5 rows × 62 columns</p>\n",
       "</div>"
      ],
      "text/plain": [
       "   Country Name        longitude  latitude  1960          1961          \\\n",
       "0  United Kingdom       -0.07858  51.50476  72328047042   76694360636    \n",
       "1  United States       -77.04026  38.85169  543000000000  563000000000   \n",
       "2  Russian Federation   37.59411  55.75306                               \n",
       "3  France                2.29363  48.87372  62651474947   68346741504    \n",
       "4  China               116.39213  39.90071  59716467625   50056868958    \n",
       "\n",
       "   1962          1963          1964          1965          1966          ...  \\\n",
       "0  80601939635   85443766670   93387598814   101000000000  107000000000  ...   \n",
       "1  605000000000  639000000000  686000000000  744000000000  815000000000  ...   \n",
       "2                                                                        ...   \n",
       "3  76313782252   85551113767   94906593388   102000000000  111000000000  ...   \n",
       "4  47209359006   50706799903   59708343489   70436266147   76720285970   ...   \n",
       "\n",
       "   2009            2010            2011            2012            \\\n",
       "0   2390000000000   2450000000000   2630000000000   2680000000000   \n",
       "1  14400000000000  15000000000000  15500000000000  16200000000000   \n",
       "2   1220000000000   1520000000000   2050000000000   2210000000000   \n",
       "3   2690000000000   2640000000000   2860000000000   2680000000000   \n",
       "4   5100000000000   6090000000000   7550000000000   8530000000000   \n",
       "\n",
       "   2013            2014            2015            2016            \\\n",
       "0   2750000000000   3030000000000   2900000000000   2660000000000   \n",
       "1  16800000000000  17500000000000  18200000000000  18700000000000   \n",
       "2   2300000000000   2060000000000   1360000000000   1280000000000   \n",
       "3   2810000000000   2850000000000   2440000000000   2470000000000   \n",
       "4   9570000000000  10400000000000  11000000000000  11100000000000   \n",
       "\n",
       "   2017                      2018  \n",
       "0   2640000000000   2830000000000  \n",
       "1  19500000000000  20500000000000  \n",
       "2   1580000000000   1660000000000  \n",
       "3   2590000000000   2780000000000  \n",
       "4  12100000000000  13600000000000  \n",
       "\n",
       "[5 rows x 62 columns]"
      ]
     },
     "execution_count": 10,
     "metadata": {},
     "output_type": "execute_result"
    }
   ],
   "source": [
    "import pandas as pd\n",
    "import numpy as np\n",
    "file = r'data_set/3-5 GDP.csv'\n",
    "GDP_df = pd.read_csv(file, encoding='utf-8', header=0)\n",
    "GDP_df.head()"
   ]
  },
  {
   "cell_type": "code",
   "execution_count": 11,
   "metadata": {},
   "outputs": [
    {
     "data": {
      "text/plain": [
       "Index(['Country Name      ', 'longitude', 'latitude', '1960        ',\n",
       "       '1961        ', '1962        ', '1963        ', '1964        ',\n",
       "       '1965        ', '1966        ', '1967        ', '1968        ',\n",
       "       '1969         ', '1970         ', '1971         ', '1972         ',\n",
       "       '1973         ', '1974         ', '1975         ', '1976         ',\n",
       "       '1977         ', '1978         ', '1979         ', '1980         ',\n",
       "       '1981         ', '1982         ', '1983         ', '1984         ',\n",
       "       '1985         ', '1986         ', '1987         ', '1988         ',\n",
       "       '1989         ', '1990         ', '1991         ', '1992         ',\n",
       "       '1993         ', '1994         ', '1995         ', '1996         ',\n",
       "       '1997         ', '1998         ', '1999         ', '2000          ',\n",
       "       '2001          ', '2002          ', '2003          ', '2004          ',\n",
       "       '2005          ', '2006          ', '2007          ', '2008          ',\n",
       "       '2009          ', '2010          ', '2011          ', '2012          ',\n",
       "       '2013          ', '2014          ', '2015          ', '2016          ',\n",
       "       '2017          ', '2018'],\n",
       "      dtype='object')"
      ]
     },
     "execution_count": 11,
     "metadata": {},
     "output_type": "execute_result"
    }
   ],
   "source": [
    "GDP_df.columns"
   ]
  },
  {
   "cell_type": "code",
   "execution_count": 16,
   "metadata": {
    "collapsed": false,
    "jupyter": {
     "outputs_hidden": false
    },
    "pycharm": {
     "is_executing": false,
     "name": "#%%\n"
    }
   },
   "outputs": [
    {
     "data": {
      "text/html": [
       "<div>\n",
       "<style scoped>\n",
       "    .dataframe tbody tr th:only-of-type {\n",
       "        vertical-align: middle;\n",
       "    }\n",
       "\n",
       "    .dataframe tbody tr th {\n",
       "        vertical-align: top;\n",
       "    }\n",
       "\n",
       "    .dataframe thead th {\n",
       "        text-align: right;\n",
       "    }\n",
       "</style>\n",
       "<table border=\"1\" class=\"dataframe\">\n",
       "  <thead>\n",
       "    <tr style=\"text-align: right;\">\n",
       "      <th></th>\n",
       "      <th>国家</th>\n",
       "      <th>Country Name</th>\n",
       "    </tr>\n",
       "  </thead>\n",
       "  <tbody>\n",
       "    <tr>\n",
       "      <th>0</th>\n",
       "      <td>英国</td>\n",
       "      <td>United Kingdom</td>\n",
       "    </tr>\n",
       "    <tr>\n",
       "      <th>1</th>\n",
       "      <td>美国</td>\n",
       "      <td>United States</td>\n",
       "    </tr>\n",
       "    <tr>\n",
       "      <th>2</th>\n",
       "      <td>俄罗斯</td>\n",
       "      <td>Russian Federation</td>\n",
       "    </tr>\n",
       "    <tr>\n",
       "      <th>3</th>\n",
       "      <td>法国</td>\n",
       "      <td>France</td>\n",
       "    </tr>\n",
       "    <tr>\n",
       "      <th>4</th>\n",
       "      <td>中国</td>\n",
       "      <td>China</td>\n",
       "    </tr>\n",
       "  </tbody>\n",
       "</table>\n",
       "</div>"
      ],
      "text/plain": [
       "    国家  Country Name      \n",
       "0   英国  United Kingdom    \n",
       "1   美国  United States     \n",
       "2  俄罗斯  Russian Federation\n",
       "3   法国  France            \n",
       "4   中国  China             "
      ]
     },
     "execution_count": 16,
     "metadata": {},
     "output_type": "execute_result"
    }
   ],
   "source": [
    "# map函数的能力是，将某一个规则作用于一个Series对象，这个规则可以是一个函数，或者是一个字典。\n",
    "country_dict = {\n",
    "    \"United Kingdom    \": \"英国\",\n",
    "    \"United States     \": \"美国\",\n",
    "    \"Russian Federation\": \"俄罗斯\",\n",
    "    \"France            \": \"法国\",\n",
    "    \"China             \": \"中国\"\n",
    "}\n",
    "GDP_df['国家'] = GDP_df['Country Name      '].map(country_dict)\n",
    "GDP_df[['国家', 'Country Name      ']]"
   ]
  },
  {
   "cell_type": "code",
   "execution_count": 17,
   "metadata": {
    "collapsed": false,
    "jupyter": {
     "outputs_hidden": false
    },
    "pycharm": {
     "is_executing": false,
     "name": "#%%\n"
    }
   },
   "outputs": [
    {
     "data": {
      "text/plain": [
       "0     19.50万亿人民币\n",
       "1    141.28万亿人民币\n",
       "2     11.44万亿人民币\n",
       "3     19.16万亿人民币\n",
       "4     93.73万亿人民币\n",
       "Name: 2018, dtype: object"
      ]
     },
     "execution_count": 17,
     "metadata": {},
     "output_type": "execute_result"
    }
   ],
   "source": [
    "# 定义函数:将数字类型美元计价GDP的变量转换为以万亿人民币为单位计价的数据\n",
    "def dollar_to_rmb(x):\n",
    "    if np.isnan(x):\n",
    "        return np.nan\n",
    "    else:\n",
    "        _value = x / 1000000000000 * 6.8918\n",
    "        return '%.2f万亿人民币' % (_value)\n",
    "\n",
    "\n",
    "GDP_df['2018'].apply(dollar_to_rmb)"
   ]
  },
  {
   "cell_type": "code",
   "execution_count": 19,
   "metadata": {
    "collapsed": false,
    "jupyter": {
     "outputs_hidden": false
    },
    "pycharm": {
     "is_executing": false,
     "name": "#%%\n"
    }
   },
   "outputs": [
    {
     "data": {
      "text/plain": [
       "0     18.1944万亿人民币\n",
       "1    134.3901万亿人民币\n",
       "2     10.8890万亿人民币\n",
       "3     17.8498万亿人民币\n",
       "4     83.3908万亿人民币\n",
       "Name: 2017          , dtype: object"
      ]
     },
     "execution_count": 19,
     "metadata": {},
     "output_type": "execute_result"
    }
   ],
   "source": [
    "GDP_df['2017          '].apply(lambda x: x if np.isnan(x) else \"%.4f万亿人民币\" %\n",
    "                     (x / 1000000000000 * 6.8918))"
   ]
  },
  {
   "cell_type": "code",
   "execution_count": 23,
   "metadata": {
    "collapsed": false,
    "jupyter": {
     "outputs_hidden": false
    },
    "pycharm": {
     "is_executing": false,
     "name": "#%%\n"
    }
   },
   "outputs": [
    {
     "data": {
      "text/plain": [
       "0     7.20%\n",
       "1     5.13%\n",
       "2     5.06%\n",
       "3     7.34%\n",
       "4    12.40%\n",
       "dtype: object"
      ]
     },
     "execution_count": 23,
     "metadata": {},
     "output_type": "execute_result"
    }
   ],
   "source": [
    "# 定义了一个计算GDP增长率的匿名函数\n",
    "GDP_df[['2017          ', '2018']].apply(lambda x: '%.2f' % (\n",
    "    (x['2018'] - x['2017          ']) / x['2017          '] * 100) + '%',\n",
    "                               axis=1)"
   ]
  },
  {
   "cell_type": "code",
   "execution_count": 26,
   "metadata": {
    "collapsed": false,
    "jupyter": {
     "outputs_hidden": false
    },
    "pycharm": {
     "is_executing": false,
     "name": "#%%\n"
    }
   },
   "outputs": [
    {
     "ename": "TypeError",
     "evalue": "ufunc 'isnan' not supported for the input types, and the inputs could not be safely coerced to any supported types according to the casting rule ''safe''",
     "output_type": "error",
     "traceback": [
      "\u001b[1;31m---------------------------------------------------------------------------\u001b[0m",
      "\u001b[1;31mTypeError\u001b[0m                                 Traceback (most recent call last)",
      "\u001b[1;32m<ipython-input-26-e12b92cb8668>\u001b[0m in \u001b[0;36m<module>\u001b[1;34m\u001b[0m\n\u001b[0;32m      1\u001b[0m \u001b[1;31m# applymap()函数可以认为是apply()函数的扩展，其功能是将自定义函数作用于DataFrame的所有元素 。\u001b[0m\u001b[1;33m\u001b[0m\u001b[1;33m\u001b[0m\u001b[1;33m\u001b[0m\u001b[0m\n\u001b[1;32m----> 2\u001b[1;33m \u001b[0mGDP_df\u001b[0m\u001b[1;33m.\u001b[0m\u001b[0mloc\u001b[0m\u001b[1;33m[\u001b[0m\u001b[1;33m:\u001b[0m\u001b[1;33m,\u001b[0m \u001b[1;34m'1960        '\u001b[0m\u001b[1;33m:\u001b[0m\u001b[1;34m'2018'\u001b[0m\u001b[1;33m]\u001b[0m\u001b[1;33m.\u001b[0m\u001b[0mapplymap\u001b[0m\u001b[1;33m(\u001b[0m\u001b[0mdollar_to_rmb\u001b[0m\u001b[1;33m)\u001b[0m\u001b[1;33m\u001b[0m\u001b[1;33m\u001b[0m\u001b[0m\n\u001b[0m",
      "\u001b[1;32mD:\\Programing\\Anaconda3\\lib\\site-packages\\pandas\\core\\frame.py\u001b[0m in \u001b[0;36mapplymap\u001b[1;34m(self, func)\u001b[0m\n\u001b[0;32m   6942\u001b[0m             \u001b[1;32mreturn\u001b[0m \u001b[0mlib\u001b[0m\u001b[1;33m.\u001b[0m\u001b[0mmap_infer\u001b[0m\u001b[1;33m(\u001b[0m\u001b[0mx\u001b[0m\u001b[1;33m.\u001b[0m\u001b[0mastype\u001b[0m\u001b[1;33m(\u001b[0m\u001b[0mobject\u001b[0m\u001b[1;33m)\u001b[0m\u001b[1;33m.\u001b[0m\u001b[0mvalues\u001b[0m\u001b[1;33m,\u001b[0m \u001b[0mfunc\u001b[0m\u001b[1;33m)\u001b[0m\u001b[1;33m\u001b[0m\u001b[1;33m\u001b[0m\u001b[0m\n\u001b[0;32m   6943\u001b[0m \u001b[1;33m\u001b[0m\u001b[0m\n\u001b[1;32m-> 6944\u001b[1;33m         \u001b[1;32mreturn\u001b[0m \u001b[0mself\u001b[0m\u001b[1;33m.\u001b[0m\u001b[0mapply\u001b[0m\u001b[1;33m(\u001b[0m\u001b[0minfer\u001b[0m\u001b[1;33m)\u001b[0m\u001b[1;33m\u001b[0m\u001b[1;33m\u001b[0m\u001b[0m\n\u001b[0m\u001b[0;32m   6945\u001b[0m \u001b[1;33m\u001b[0m\u001b[0m\n\u001b[0;32m   6946\u001b[0m     \u001b[1;31m# ----------------------------------------------------------------------\u001b[0m\u001b[1;33m\u001b[0m\u001b[1;33m\u001b[0m\u001b[1;33m\u001b[0m\u001b[0m\n",
      "\u001b[1;32mD:\\Programing\\Anaconda3\\lib\\site-packages\\pandas\\core\\frame.py\u001b[0m in \u001b[0;36mapply\u001b[1;34m(self, func, axis, raw, result_type, args, **kwds)\u001b[0m\n\u001b[0;32m   6876\u001b[0m             \u001b[0mkwds\u001b[0m\u001b[1;33m=\u001b[0m\u001b[0mkwds\u001b[0m\u001b[1;33m,\u001b[0m\u001b[1;33m\u001b[0m\u001b[1;33m\u001b[0m\u001b[0m\n\u001b[0;32m   6877\u001b[0m         )\n\u001b[1;32m-> 6878\u001b[1;33m         \u001b[1;32mreturn\u001b[0m \u001b[0mop\u001b[0m\u001b[1;33m.\u001b[0m\u001b[0mget_result\u001b[0m\u001b[1;33m(\u001b[0m\u001b[1;33m)\u001b[0m\u001b[1;33m\u001b[0m\u001b[1;33m\u001b[0m\u001b[0m\n\u001b[0m\u001b[0;32m   6879\u001b[0m \u001b[1;33m\u001b[0m\u001b[0m\n\u001b[0;32m   6880\u001b[0m     \u001b[1;32mdef\u001b[0m \u001b[0mapplymap\u001b[0m\u001b[1;33m(\u001b[0m\u001b[0mself\u001b[0m\u001b[1;33m,\u001b[0m \u001b[0mfunc\u001b[0m\u001b[1;33m)\u001b[0m \u001b[1;33m->\u001b[0m \u001b[1;34m\"DataFrame\"\u001b[0m\u001b[1;33m:\u001b[0m\u001b[1;33m\u001b[0m\u001b[1;33m\u001b[0m\u001b[0m\n",
      "\u001b[1;32mD:\\Programing\\Anaconda3\\lib\\site-packages\\pandas\\core\\apply.py\u001b[0m in \u001b[0;36mget_result\u001b[1;34m(self)\u001b[0m\n\u001b[0;32m    184\u001b[0m             \u001b[1;32mreturn\u001b[0m \u001b[0mself\u001b[0m\u001b[1;33m.\u001b[0m\u001b[0mapply_raw\u001b[0m\u001b[1;33m(\u001b[0m\u001b[1;33m)\u001b[0m\u001b[1;33m\u001b[0m\u001b[1;33m\u001b[0m\u001b[0m\n\u001b[0;32m    185\u001b[0m \u001b[1;33m\u001b[0m\u001b[0m\n\u001b[1;32m--> 186\u001b[1;33m         \u001b[1;32mreturn\u001b[0m \u001b[0mself\u001b[0m\u001b[1;33m.\u001b[0m\u001b[0mapply_standard\u001b[0m\u001b[1;33m(\u001b[0m\u001b[1;33m)\u001b[0m\u001b[1;33m\u001b[0m\u001b[1;33m\u001b[0m\u001b[0m\n\u001b[0m\u001b[0;32m    187\u001b[0m \u001b[1;33m\u001b[0m\u001b[0m\n\u001b[0;32m    188\u001b[0m     \u001b[1;32mdef\u001b[0m \u001b[0mapply_empty_result\u001b[0m\u001b[1;33m(\u001b[0m\u001b[0mself\u001b[0m\u001b[1;33m)\u001b[0m\u001b[1;33m:\u001b[0m\u001b[1;33m\u001b[0m\u001b[1;33m\u001b[0m\u001b[0m\n",
      "\u001b[1;32mD:\\Programing\\Anaconda3\\lib\\site-packages\\pandas\\core\\apply.py\u001b[0m in \u001b[0;36mapply_standard\u001b[1;34m(self)\u001b[0m\n\u001b[0;32m    294\u001b[0m             \u001b[1;32mtry\u001b[0m\u001b[1;33m:\u001b[0m\u001b[1;33m\u001b[0m\u001b[1;33m\u001b[0m\u001b[0m\n\u001b[0;32m    295\u001b[0m                 result = libreduction.compute_reduction(\n\u001b[1;32m--> 296\u001b[1;33m                     \u001b[0mvalues\u001b[0m\u001b[1;33m,\u001b[0m \u001b[0mself\u001b[0m\u001b[1;33m.\u001b[0m\u001b[0mf\u001b[0m\u001b[1;33m,\u001b[0m \u001b[0maxis\u001b[0m\u001b[1;33m=\u001b[0m\u001b[0mself\u001b[0m\u001b[1;33m.\u001b[0m\u001b[0maxis\u001b[0m\u001b[1;33m,\u001b[0m \u001b[0mdummy\u001b[0m\u001b[1;33m=\u001b[0m\u001b[0mdummy\u001b[0m\u001b[1;33m,\u001b[0m \u001b[0mlabels\u001b[0m\u001b[1;33m=\u001b[0m\u001b[0mlabels\u001b[0m\u001b[1;33m\u001b[0m\u001b[1;33m\u001b[0m\u001b[0m\n\u001b[0m\u001b[0;32m    297\u001b[0m                 )\n\u001b[0;32m    298\u001b[0m             \u001b[1;32mexcept\u001b[0m \u001b[0mValueError\u001b[0m \u001b[1;32mas\u001b[0m \u001b[0merr\u001b[0m\u001b[1;33m:\u001b[0m\u001b[1;33m\u001b[0m\u001b[1;33m\u001b[0m\u001b[0m\n",
      "\u001b[1;32mpandas\\_libs\\reduction.pyx\u001b[0m in \u001b[0;36mpandas._libs.reduction.compute_reduction\u001b[1;34m()\u001b[0m\n",
      "\u001b[1;32mpandas\\_libs\\reduction.pyx\u001b[0m in \u001b[0;36mpandas._libs.reduction.Reducer.get_result\u001b[1;34m()\u001b[0m\n",
      "\u001b[1;32mD:\\Programing\\Anaconda3\\lib\\site-packages\\pandas\\core\\frame.py\u001b[0m in \u001b[0;36minfer\u001b[1;34m(x)\u001b[0m\n\u001b[0;32m   6940\u001b[0m             \u001b[1;32mif\u001b[0m \u001b[0mx\u001b[0m\u001b[1;33m.\u001b[0m\u001b[0mempty\u001b[0m\u001b[1;33m:\u001b[0m\u001b[1;33m\u001b[0m\u001b[1;33m\u001b[0m\u001b[0m\n\u001b[0;32m   6941\u001b[0m                 \u001b[1;32mreturn\u001b[0m \u001b[0mlib\u001b[0m\u001b[1;33m.\u001b[0m\u001b[0mmap_infer\u001b[0m\u001b[1;33m(\u001b[0m\u001b[0mx\u001b[0m\u001b[1;33m,\u001b[0m \u001b[0mfunc\u001b[0m\u001b[1;33m)\u001b[0m\u001b[1;33m\u001b[0m\u001b[1;33m\u001b[0m\u001b[0m\n\u001b[1;32m-> 6942\u001b[1;33m             \u001b[1;32mreturn\u001b[0m \u001b[0mlib\u001b[0m\u001b[1;33m.\u001b[0m\u001b[0mmap_infer\u001b[0m\u001b[1;33m(\u001b[0m\u001b[0mx\u001b[0m\u001b[1;33m.\u001b[0m\u001b[0mastype\u001b[0m\u001b[1;33m(\u001b[0m\u001b[0mobject\u001b[0m\u001b[1;33m)\u001b[0m\u001b[1;33m.\u001b[0m\u001b[0mvalues\u001b[0m\u001b[1;33m,\u001b[0m \u001b[0mfunc\u001b[0m\u001b[1;33m)\u001b[0m\u001b[1;33m\u001b[0m\u001b[1;33m\u001b[0m\u001b[0m\n\u001b[0m\u001b[0;32m   6943\u001b[0m \u001b[1;33m\u001b[0m\u001b[0m\n\u001b[0;32m   6944\u001b[0m         \u001b[1;32mreturn\u001b[0m \u001b[0mself\u001b[0m\u001b[1;33m.\u001b[0m\u001b[0mapply\u001b[0m\u001b[1;33m(\u001b[0m\u001b[0minfer\u001b[0m\u001b[1;33m)\u001b[0m\u001b[1;33m\u001b[0m\u001b[1;33m\u001b[0m\u001b[0m\n",
      "\u001b[1;32mpandas\\_libs\\lib.pyx\u001b[0m in \u001b[0;36mpandas._libs.lib.map_infer\u001b[1;34m()\u001b[0m\n",
      "\u001b[1;32m<ipython-input-17-1efa03e00251>\u001b[0m in \u001b[0;36mdollar_to_rmb\u001b[1;34m(x)\u001b[0m\n\u001b[0;32m      1\u001b[0m \u001b[1;31m# 定义函数:将数字类型美元计价GDP的变量转换为以万亿人民币为单位计价的数据\u001b[0m\u001b[1;33m\u001b[0m\u001b[1;33m\u001b[0m\u001b[1;33m\u001b[0m\u001b[0m\n\u001b[0;32m      2\u001b[0m \u001b[1;32mdef\u001b[0m \u001b[0mdollar_to_rmb\u001b[0m\u001b[1;33m(\u001b[0m\u001b[0mx\u001b[0m\u001b[1;33m)\u001b[0m\u001b[1;33m:\u001b[0m\u001b[1;33m\u001b[0m\u001b[1;33m\u001b[0m\u001b[0m\n\u001b[1;32m----> 3\u001b[1;33m     \u001b[1;32mif\u001b[0m \u001b[0mnp\u001b[0m\u001b[1;33m.\u001b[0m\u001b[0misnan\u001b[0m\u001b[1;33m(\u001b[0m\u001b[0mx\u001b[0m\u001b[1;33m)\u001b[0m\u001b[1;33m:\u001b[0m\u001b[1;33m\u001b[0m\u001b[1;33m\u001b[0m\u001b[0m\n\u001b[0m\u001b[0;32m      4\u001b[0m         \u001b[1;32mreturn\u001b[0m \u001b[0mnp\u001b[0m\u001b[1;33m.\u001b[0m\u001b[0mnan\u001b[0m\u001b[1;33m\u001b[0m\u001b[1;33m\u001b[0m\u001b[0m\n\u001b[0;32m      5\u001b[0m     \u001b[1;32melse\u001b[0m\u001b[1;33m:\u001b[0m\u001b[1;33m\u001b[0m\u001b[1;33m\u001b[0m\u001b[0m\n",
      "\u001b[1;31mTypeError\u001b[0m: ufunc 'isnan' not supported for the input types, and the inputs could not be safely coerced to any supported types according to the casting rule ''safe''"
     ]
    }
   ],
   "source": [
    "# applymap()函数可以认为是apply()函数的扩展，其功能是将自定义函数作用于DataFrame的所有元素 。\n",
    "GDP_df.loc[:, '1960        ':'2018'].applymap(dollar_to_rmb)"
   ]
  },
  {
   "cell_type": "code",
   "execution_count": null,
   "metadata": {},
   "outputs": [],
   "source": []
  }
 ],
 "metadata": {
  "kernelspec": {
   "display_name": "Python 3",
   "language": "python",
   "name": "python3"
  },
  "language_info": {
   "codemirror_mode": {
    "name": "ipython",
    "version": 3
   },
   "file_extension": ".py",
   "mimetype": "text/x-python",
   "name": "python",
   "nbconvert_exporter": "python",
   "pygments_lexer": "ipython3",
   "version": "3.7.6"
  }
 },
 "nbformat": 4,
 "nbformat_minor": 4
}
