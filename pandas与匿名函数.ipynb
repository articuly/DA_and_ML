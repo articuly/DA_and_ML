{
 "cells": [
  {
   "cell_type": "code",
   "execution_count": 9,
   "metadata": {
    "collapsed": true,
    "jupyter": {
     "outputs_hidden": true
    },
    "pycharm": {
     "is_executing": false
    }
   },
   "outputs": [
    {
     "data": {
      "text/plain": [
       "{'Chris': 160,\n",
       " 'Emily': 165,\n",
       " 'Jack': 182,\n",
       " 'Jerry': 179,\n",
       " 'Sawyer': 170,\n",
       " 'Tom': 176}"
      ]
     },
     "execution_count": 9,
     "metadata": {},
     "output_type": "execute_result"
    }
   ],
   "source": [
    "data = {\n",
    "    \"Jack\": 182,\n",
    "    \"Tom\": 176,\n",
    "    \"Jerry\": 179,\n",
    "    \"Emily\": 165,\n",
    "    \"Sawyer\": 170,\n",
    "    \"Chris\": 160\n",
    "}\n",
    "# 按照字典的value值，逆序排序，用.items()来保留两个元素\n",
    "data_rev = sorted(data.items(), key=lambda x: x[1], reverse=True)\n",
    "dict(data_rev)\n",
    "# 按照字典的key值，自然顺序排序\n",
    "data_nrev = sorted(data.items(), key=lambda x: x[0], reverse=False)\n",
    "dict(data_nrev)"
   ]
  },
  {
   "cell_type": "code",
   "execution_count": 13,
   "metadata": {
    "collapsed": false,
    "jupyter": {
     "outputs_hidden": false
    },
    "pycharm": {
     "is_executing": false,
     "name": "#%%\n"
    }
   },
   "outputs": [
    {
     "data": {
      "text/plain": [
       "['Larissa', 'Ivy', 'Lucy', 'Abby', 'Martion', 'Allen']"
      ]
     },
     "execution_count": 13,
     "metadata": {},
     "output_type": "execute_result"
    }
   ],
   "source": [
    "names = [\"Larissa\", \"ivy\", \"LUCY\", \"aBBY\", \"martion\", \"allen\"]\n",
    "list(map(lambda x: x[0].upper() + x[1:].lower(), names))"
   ]
  },
  {
   "cell_type": "code",
   "execution_count": 14,
   "metadata": {
    "collapsed": false,
    "jupyter": {
     "outputs_hidden": false
    },
    "pycharm": {
     "is_executing": false,
     "name": "#%%\n"
    }
   },
   "outputs": [
    {
     "data": {
      "text/html": [
       "<div>\n",
       "<style scoped>\n",
       "    .dataframe tbody tr th:only-of-type {\n",
       "        vertical-align: middle;\n",
       "    }\n",
       "\n",
       "    .dataframe tbody tr th {\n",
       "        vertical-align: top;\n",
       "    }\n",
       "\n",
       "    .dataframe thead th {\n",
       "        text-align: right;\n",
       "    }\n",
       "</style>\n",
       "<table border=\"1\" class=\"dataframe\">\n",
       "  <thead>\n",
       "    <tr style=\"text-align: right;\">\n",
       "      <th></th>\n",
       "      <th>Country Name</th>\n",
       "      <th>longitude</th>\n",
       "      <th>latitude</th>\n",
       "      <th>1960</th>\n",
       "      <th>1961</th>\n",
       "      <th>1962</th>\n",
       "      <th>1963</th>\n",
       "      <th>1964</th>\n",
       "      <th>1965</th>\n",
       "      <th>1966</th>\n",
       "      <th>...</th>\n",
       "      <th>2009</th>\n",
       "      <th>2010</th>\n",
       "      <th>2011</th>\n",
       "      <th>2012</th>\n",
       "      <th>2013</th>\n",
       "      <th>2014</th>\n",
       "      <th>2015</th>\n",
       "      <th>2016</th>\n",
       "      <th>2017</th>\n",
       "      <th>2018</th>\n",
       "    </tr>\n",
       "  </thead>\n",
       "  <tbody>\n",
       "    <tr>\n",
       "      <th>0</th>\n",
       "      <td>United Kingdom</td>\n",
       "      <td>-0.07858</td>\n",
       "      <td>51.50476</td>\n",
       "      <td>7.232805e+10</td>\n",
       "      <td>7.669436e+10</td>\n",
       "      <td>8.060194e+10</td>\n",
       "      <td>8.544377e+10</td>\n",
       "      <td>9.338760e+10</td>\n",
       "      <td>1.010000e+11</td>\n",
       "      <td>1.070000e+11</td>\n",
       "      <td>...</td>\n",
       "      <td>2390000000000</td>\n",
       "      <td>2450000000000</td>\n",
       "      <td>2630000000000</td>\n",
       "      <td>2680000000000</td>\n",
       "      <td>2750000000000</td>\n",
       "      <td>3030000000000</td>\n",
       "      <td>2900000000000</td>\n",
       "      <td>2660000000000</td>\n",
       "      <td>2640000000000</td>\n",
       "      <td>2830000000000</td>\n",
       "    </tr>\n",
       "    <tr>\n",
       "      <th>1</th>\n",
       "      <td>United States</td>\n",
       "      <td>-77.04026</td>\n",
       "      <td>38.85169</td>\n",
       "      <td>5.430000e+11</td>\n",
       "      <td>5.630000e+11</td>\n",
       "      <td>6.050000e+11</td>\n",
       "      <td>6.390000e+11</td>\n",
       "      <td>6.860000e+11</td>\n",
       "      <td>7.440000e+11</td>\n",
       "      <td>8.150000e+11</td>\n",
       "      <td>...</td>\n",
       "      <td>14400000000000</td>\n",
       "      <td>15000000000000</td>\n",
       "      <td>15500000000000</td>\n",
       "      <td>16200000000000</td>\n",
       "      <td>16800000000000</td>\n",
       "      <td>17500000000000</td>\n",
       "      <td>18200000000000</td>\n",
       "      <td>18700000000000</td>\n",
       "      <td>19500000000000</td>\n",
       "      <td>20500000000000</td>\n",
       "    </tr>\n",
       "    <tr>\n",
       "      <th>2</th>\n",
       "      <td>Russian Federation</td>\n",
       "      <td>37.59411</td>\n",
       "      <td>55.75306</td>\n",
       "      <td>NaN</td>\n",
       "      <td>NaN</td>\n",
       "      <td>NaN</td>\n",
       "      <td>NaN</td>\n",
       "      <td>NaN</td>\n",
       "      <td>NaN</td>\n",
       "      <td>NaN</td>\n",
       "      <td>...</td>\n",
       "      <td>1220000000000</td>\n",
       "      <td>1520000000000</td>\n",
       "      <td>2050000000000</td>\n",
       "      <td>2210000000000</td>\n",
       "      <td>2300000000000</td>\n",
       "      <td>2060000000000</td>\n",
       "      <td>1360000000000</td>\n",
       "      <td>1280000000000</td>\n",
       "      <td>1580000000000</td>\n",
       "      <td>1660000000000</td>\n",
       "    </tr>\n",
       "    <tr>\n",
       "      <th>3</th>\n",
       "      <td>France</td>\n",
       "      <td>2.29363</td>\n",
       "      <td>48.87372</td>\n",
       "      <td>6.265147e+10</td>\n",
       "      <td>6.834674e+10</td>\n",
       "      <td>7.631378e+10</td>\n",
       "      <td>8.555111e+10</td>\n",
       "      <td>9.490659e+10</td>\n",
       "      <td>1.020000e+11</td>\n",
       "      <td>1.110000e+11</td>\n",
       "      <td>...</td>\n",
       "      <td>2690000000000</td>\n",
       "      <td>2640000000000</td>\n",
       "      <td>2860000000000</td>\n",
       "      <td>2680000000000</td>\n",
       "      <td>2810000000000</td>\n",
       "      <td>2850000000000</td>\n",
       "      <td>2440000000000</td>\n",
       "      <td>2470000000000</td>\n",
       "      <td>2590000000000</td>\n",
       "      <td>2780000000000</td>\n",
       "    </tr>\n",
       "    <tr>\n",
       "      <th>4</th>\n",
       "      <td>China</td>\n",
       "      <td>116.39213</td>\n",
       "      <td>39.90071</td>\n",
       "      <td>5.971647e+10</td>\n",
       "      <td>5.005687e+10</td>\n",
       "      <td>4.720936e+10</td>\n",
       "      <td>5.070680e+10</td>\n",
       "      <td>5.970834e+10</td>\n",
       "      <td>7.043627e+10</td>\n",
       "      <td>7.672029e+10</td>\n",
       "      <td>...</td>\n",
       "      <td>5100000000000</td>\n",
       "      <td>6090000000000</td>\n",
       "      <td>7550000000000</td>\n",
       "      <td>8530000000000</td>\n",
       "      <td>9570000000000</td>\n",
       "      <td>10400000000000</td>\n",
       "      <td>11000000000000</td>\n",
       "      <td>11100000000000</td>\n",
       "      <td>12100000000000</td>\n",
       "      <td>13600000000000</td>\n",
       "    </tr>\n",
       "  </tbody>\n",
       "</table>\n",
       "<p>5 rows × 62 columns</p>\n",
       "</div>"
      ],
      "text/plain": [
       "         Country Name  longitude  latitude          1960          1961  \\\n",
       "0      United Kingdom   -0.07858  51.50476  7.232805e+10  7.669436e+10   \n",
       "1       United States  -77.04026  38.85169  5.430000e+11  5.630000e+11   \n",
       "2  Russian Federation   37.59411  55.75306           NaN           NaN   \n",
       "3              France    2.29363  48.87372  6.265147e+10  6.834674e+10   \n",
       "4               China  116.39213  39.90071  5.971647e+10  5.005687e+10   \n",
       "\n",
       "           1962          1963          1964          1965          1966  ...  \\\n",
       "0  8.060194e+10  8.544377e+10  9.338760e+10  1.010000e+11  1.070000e+11  ...   \n",
       "1  6.050000e+11  6.390000e+11  6.860000e+11  7.440000e+11  8.150000e+11  ...   \n",
       "2           NaN           NaN           NaN           NaN           NaN  ...   \n",
       "3  7.631378e+10  8.555111e+10  9.490659e+10  1.020000e+11  1.110000e+11  ...   \n",
       "4  4.720936e+10  5.070680e+10  5.970834e+10  7.043627e+10  7.672029e+10  ...   \n",
       "\n",
       "             2009            2010            2011            2012  \\\n",
       "0   2390000000000   2450000000000   2630000000000   2680000000000   \n",
       "1  14400000000000  15000000000000  15500000000000  16200000000000   \n",
       "2   1220000000000   1520000000000   2050000000000   2210000000000   \n",
       "3   2690000000000   2640000000000   2860000000000   2680000000000   \n",
       "4   5100000000000   6090000000000   7550000000000   8530000000000   \n",
       "\n",
       "             2013            2014            2015            2016  \\\n",
       "0   2750000000000   3030000000000   2900000000000   2660000000000   \n",
       "1  16800000000000  17500000000000  18200000000000  18700000000000   \n",
       "2   2300000000000   2060000000000   1360000000000   1280000000000   \n",
       "3   2810000000000   2850000000000   2440000000000   2470000000000   \n",
       "4   9570000000000  10400000000000  11000000000000  11100000000000   \n",
       "\n",
       "             2017            2018  \n",
       "0   2640000000000   2830000000000  \n",
       "1  19500000000000  20500000000000  \n",
       "2   1580000000000   1660000000000  \n",
       "3   2590000000000   2780000000000  \n",
       "4  12100000000000  13600000000000  \n",
       "\n",
       "[5 rows x 62 columns]"
      ]
     },
     "execution_count": 14,
     "metadata": {},
     "output_type": "execute_result"
    }
   ],
   "source": [
    "import pandas as pd\n",
    "import numpy as np\n",
    "file = r'data_set/3-5 GDP.csv'\n",
    "GDP_df = pd.read_csv(file, encoding='utf-8', header=0)\n",
    "GDP_df.head()"
   ]
  },
  {
   "cell_type": "code",
   "execution_count": 15,
   "metadata": {
    "collapsed": false,
    "jupyter": {
     "outputs_hidden": false
    },
    "pycharm": {
     "is_executing": false,
     "name": "#%%\n"
    }
   },
   "outputs": [
    {
     "data": {
      "text/html": [
       "<div>\n",
       "<style scoped>\n",
       "    .dataframe tbody tr th:only-of-type {\n",
       "        vertical-align: middle;\n",
       "    }\n",
       "\n",
       "    .dataframe tbody tr th {\n",
       "        vertical-align: top;\n",
       "    }\n",
       "\n",
       "    .dataframe thead th {\n",
       "        text-align: right;\n",
       "    }\n",
       "</style>\n",
       "<table border=\"1\" class=\"dataframe\">\n",
       "  <thead>\n",
       "    <tr style=\"text-align: right;\">\n",
       "      <th></th>\n",
       "      <th>国家</th>\n",
       "      <th>Country Name</th>\n",
       "    </tr>\n",
       "  </thead>\n",
       "  <tbody>\n",
       "    <tr>\n",
       "      <th>0</th>\n",
       "      <td>英国</td>\n",
       "      <td>United Kingdom</td>\n",
       "    </tr>\n",
       "    <tr>\n",
       "      <th>1</th>\n",
       "      <td>美国</td>\n",
       "      <td>United States</td>\n",
       "    </tr>\n",
       "    <tr>\n",
       "      <th>2</th>\n",
       "      <td>俄罗斯</td>\n",
       "      <td>Russian Federation</td>\n",
       "    </tr>\n",
       "    <tr>\n",
       "      <th>3</th>\n",
       "      <td>法国</td>\n",
       "      <td>France</td>\n",
       "    </tr>\n",
       "    <tr>\n",
       "      <th>4</th>\n",
       "      <td>中国</td>\n",
       "      <td>China</td>\n",
       "    </tr>\n",
       "  </tbody>\n",
       "</table>\n",
       "</div>"
      ],
      "text/plain": [
       "    国家        Country Name\n",
       "0   英国      United Kingdom\n",
       "1   美国       United States\n",
       "2  俄罗斯  Russian Federation\n",
       "3   法国              France\n",
       "4   中国               China"
      ]
     },
     "execution_count": 15,
     "metadata": {},
     "output_type": "execute_result"
    }
   ],
   "source": [
    "# map函数的能力是，将某一个规则作用于一个Series对象，这个规则可以是一个函数，或者是一个字典。\n",
    "country_dict = {\n",
    "    \"United Kingdom\": \"英国\",\n",
    "    \"United States\": \"美国\",\n",
    "    \"Russian Federation\": \"俄罗斯\",\n",
    "    \"France\": \"法国\",\n",
    "    \"China\": \"中国\"\n",
    "}\n",
    "GDP_df['国家'] = GDP_df['Country Name'].map(country_dict)\n",
    "GDP_df[['国家', 'Country Name']]"
   ]
  },
  {
   "cell_type": "code",
   "execution_count": 20,
   "metadata": {
    "collapsed": false,
    "jupyter": {
     "outputs_hidden": false
    },
    "pycharm": {
     "is_executing": false,
     "name": "#%%\n"
    }
   },
   "outputs": [
    {
     "data": {
      "text/plain": [
       "0     19.50万亿人民币\n",
       "1    141.28万亿人民币\n",
       "2     11.44万亿人民币\n",
       "3     19.16万亿人民币\n",
       "4     93.73万亿人民币\n",
       "Name: 2018, dtype: object"
      ]
     },
     "execution_count": 20,
     "metadata": {},
     "output_type": "execute_result"
    }
   ],
   "source": [
    "# 定义函数:将数字类型美元计价GDP的变量转换为以万亿人民币为单位计价的数据\n",
    "def dollar_to_rmb(x):\n",
    "    if np.isnan(x):\n",
    "        return np.nan\n",
    "    else:\n",
    "        _value = x / 1000000000000 * 6.8918\n",
    "        return '%.2f万亿人民币' % (_value)\n",
    "\n",
    "\n",
    "GDP_df['2018'].apply(dollar_to_rmb)"
   ]
  },
  {
   "cell_type": "code",
   "execution_count": 23,
   "metadata": {
    "collapsed": false,
    "jupyter": {
     "outputs_hidden": false
    },
    "pycharm": {
     "is_executing": false,
     "name": "#%%\n"
    }
   },
   "outputs": [
    {
     "data": {
      "text/plain": [
       "0     18.1944万亿人民币\n",
       "1    134.3901万亿人民币\n",
       "2     10.8890万亿人民币\n",
       "3     17.8498万亿人民币\n",
       "4     83.3908万亿人民币\n",
       "Name: 2017, dtype: object"
      ]
     },
     "execution_count": 23,
     "metadata": {},
     "output_type": "execute_result"
    }
   ],
   "source": [
    "GDP_df['2017'].apply(lambda x: x if np.isnan(x) else \"%.4f万亿人民币\" %\n",
    "                     (x / 1000000000000 * 6.8918))"
   ]
  },
  {
   "cell_type": "code",
   "execution_count": 29,
   "metadata": {
    "collapsed": false,
    "jupyter": {
     "outputs_hidden": false
    },
    "pycharm": {
     "is_executing": false,
     "name": "#%%\n"
    }
   },
   "outputs": [
    {
     "data": {
      "text/plain": [
       "0     7.20%\n",
       "1     5.13%\n",
       "2     5.06%\n",
       "3     7.34%\n",
       "4    12.40%\n",
       "dtype: object"
      ]
     },
     "execution_count": 29,
     "metadata": {},
     "output_type": "execute_result"
    }
   ],
   "source": [
    "# 定义了一个计算GDP增长率的匿名函数\n",
    "GDP_df[['2017', '2018']].apply(lambda x: '%.2f' % (\n",
    "    (x['2018'] - x['2017']) / x['2017'] * 100) + '%',\n",
    "                               axis=1)"
   ]
  },
  {
   "cell_type": "code",
   "execution_count": 30,
   "metadata": {
    "collapsed": false,
    "jupyter": {
     "outputs_hidden": false
    },
    "pycharm": {
     "is_executing": false,
     "name": "#%%\n"
    }
   },
   "outputs": [
    {
     "data": {
      "text/html": [
       "<div>\n",
       "<style scoped>\n",
       "    .dataframe tbody tr th:only-of-type {\n",
       "        vertical-align: middle;\n",
       "    }\n",
       "\n",
       "    .dataframe tbody tr th {\n",
       "        vertical-align: top;\n",
       "    }\n",
       "\n",
       "    .dataframe thead th {\n",
       "        text-align: right;\n",
       "    }\n",
       "</style>\n",
       "<table border=\"1\" class=\"dataframe\">\n",
       "  <thead>\n",
       "    <tr style=\"text-align: right;\">\n",
       "      <th></th>\n",
       "      <th>1960</th>\n",
       "      <th>1961</th>\n",
       "      <th>1962</th>\n",
       "      <th>1963</th>\n",
       "      <th>1964</th>\n",
       "      <th>1965</th>\n",
       "      <th>1966</th>\n",
       "      <th>1967</th>\n",
       "      <th>1968</th>\n",
       "      <th>1969</th>\n",
       "      <th>...</th>\n",
       "      <th>2009</th>\n",
       "      <th>2010</th>\n",
       "      <th>2011</th>\n",
       "      <th>2012</th>\n",
       "      <th>2013</th>\n",
       "      <th>2014</th>\n",
       "      <th>2015</th>\n",
       "      <th>2016</th>\n",
       "      <th>2017</th>\n",
       "      <th>2018</th>\n",
       "    </tr>\n",
       "  </thead>\n",
       "  <tbody>\n",
       "    <tr>\n",
       "      <th>0</th>\n",
       "      <td>0.50万亿人民币</td>\n",
       "      <td>0.53万亿人民币</td>\n",
       "      <td>0.56万亿人民币</td>\n",
       "      <td>0.59万亿人民币</td>\n",
       "      <td>0.64万亿人民币</td>\n",
       "      <td>0.70万亿人民币</td>\n",
       "      <td>0.74万亿人民币</td>\n",
       "      <td>0.76万亿人民币</td>\n",
       "      <td>0.72万亿人民币</td>\n",
       "      <td>0.78万亿人民币</td>\n",
       "      <td>...</td>\n",
       "      <td>16.47万亿人民币</td>\n",
       "      <td>16.88万亿人民币</td>\n",
       "      <td>18.13万亿人民币</td>\n",
       "      <td>18.47万亿人民币</td>\n",
       "      <td>18.95万亿人民币</td>\n",
       "      <td>20.88万亿人民币</td>\n",
       "      <td>19.99万亿人民币</td>\n",
       "      <td>18.33万亿人民币</td>\n",
       "      <td>18.19万亿人民币</td>\n",
       "      <td>19.50万亿人民币</td>\n",
       "    </tr>\n",
       "    <tr>\n",
       "      <th>1</th>\n",
       "      <td>3.74万亿人民币</td>\n",
       "      <td>3.88万亿人民币</td>\n",
       "      <td>4.17万亿人民币</td>\n",
       "      <td>4.40万亿人民币</td>\n",
       "      <td>4.73万亿人民币</td>\n",
       "      <td>5.13万亿人民币</td>\n",
       "      <td>5.62万亿人民币</td>\n",
       "      <td>5.94万亿人民币</td>\n",
       "      <td>6.50万亿人民币</td>\n",
       "      <td>7.03万亿人民币</td>\n",
       "      <td>...</td>\n",
       "      <td>99.24万亿人民币</td>\n",
       "      <td>103.38万亿人民币</td>\n",
       "      <td>106.82万亿人民币</td>\n",
       "      <td>111.65万亿人民币</td>\n",
       "      <td>115.78万亿人民币</td>\n",
       "      <td>120.61万亿人民币</td>\n",
       "      <td>125.43万亿人民币</td>\n",
       "      <td>128.88万亿人民币</td>\n",
       "      <td>134.39万亿人民币</td>\n",
       "      <td>141.28万亿人民币</td>\n",
       "    </tr>\n",
       "    <tr>\n",
       "      <th>2</th>\n",
       "      <td>NaN</td>\n",
       "      <td>NaN</td>\n",
       "      <td>NaN</td>\n",
       "      <td>NaN</td>\n",
       "      <td>NaN</td>\n",
       "      <td>NaN</td>\n",
       "      <td>NaN</td>\n",
       "      <td>NaN</td>\n",
       "      <td>NaN</td>\n",
       "      <td>NaN</td>\n",
       "      <td>...</td>\n",
       "      <td>8.41万亿人民币</td>\n",
       "      <td>10.48万亿人民币</td>\n",
       "      <td>14.13万亿人民币</td>\n",
       "      <td>15.23万亿人民币</td>\n",
       "      <td>15.85万亿人民币</td>\n",
       "      <td>14.20万亿人民币</td>\n",
       "      <td>9.37万亿人民币</td>\n",
       "      <td>8.82万亿人民币</td>\n",
       "      <td>10.89万亿人民币</td>\n",
       "      <td>11.44万亿人民币</td>\n",
       "    </tr>\n",
       "    <tr>\n",
       "      <th>3</th>\n",
       "      <td>0.43万亿人民币</td>\n",
       "      <td>0.47万亿人民币</td>\n",
       "      <td>0.53万亿人民币</td>\n",
       "      <td>0.59万亿人民币</td>\n",
       "      <td>0.65万亿人民币</td>\n",
       "      <td>0.70万亿人民币</td>\n",
       "      <td>0.76万亿人民币</td>\n",
       "      <td>0.82万亿人民币</td>\n",
       "      <td>0.90万亿人民币</td>\n",
       "      <td>0.97万亿人民币</td>\n",
       "      <td>...</td>\n",
       "      <td>18.54万亿人民币</td>\n",
       "      <td>18.19万亿人民币</td>\n",
       "      <td>19.71万亿人民币</td>\n",
       "      <td>18.47万亿人民币</td>\n",
       "      <td>19.37万亿人民币</td>\n",
       "      <td>19.64万亿人民币</td>\n",
       "      <td>16.82万亿人民币</td>\n",
       "      <td>17.02万亿人民币</td>\n",
       "      <td>17.85万亿人民币</td>\n",
       "      <td>19.16万亿人民币</td>\n",
       "    </tr>\n",
       "    <tr>\n",
       "      <th>4</th>\n",
       "      <td>0.41万亿人民币</td>\n",
       "      <td>0.34万亿人民币</td>\n",
       "      <td>0.33万亿人民币</td>\n",
       "      <td>0.35万亿人民币</td>\n",
       "      <td>0.41万亿人民币</td>\n",
       "      <td>0.49万亿人民币</td>\n",
       "      <td>0.53万亿人民币</td>\n",
       "      <td>0.50万亿人民币</td>\n",
       "      <td>0.49万亿人民币</td>\n",
       "      <td>0.55万亿人民币</td>\n",
       "      <td>...</td>\n",
       "      <td>35.15万亿人民币</td>\n",
       "      <td>41.97万亿人民币</td>\n",
       "      <td>52.03万亿人民币</td>\n",
       "      <td>58.79万亿人民币</td>\n",
       "      <td>65.95万亿人民币</td>\n",
       "      <td>71.67万亿人民币</td>\n",
       "      <td>75.81万亿人民币</td>\n",
       "      <td>76.50万亿人民币</td>\n",
       "      <td>83.39万亿人民币</td>\n",
       "      <td>93.73万亿人民币</td>\n",
       "    </tr>\n",
       "  </tbody>\n",
       "</table>\n",
       "<p>5 rows × 59 columns</p>\n",
       "</div>"
      ],
      "text/plain": [
       "        1960       1961       1962       1963       1964       1965  \\\n",
       "0  0.50万亿人民币  0.53万亿人民币  0.56万亿人民币  0.59万亿人民币  0.64万亿人民币  0.70万亿人民币   \n",
       "1  3.74万亿人民币  3.88万亿人民币  4.17万亿人民币  4.40万亿人民币  4.73万亿人民币  5.13万亿人民币   \n",
       "2        NaN        NaN        NaN        NaN        NaN        NaN   \n",
       "3  0.43万亿人民币  0.47万亿人民币  0.53万亿人民币  0.59万亿人民币  0.65万亿人民币  0.70万亿人民币   \n",
       "4  0.41万亿人民币  0.34万亿人民币  0.33万亿人民币  0.35万亿人民币  0.41万亿人民币  0.49万亿人民币   \n",
       "\n",
       "        1966       1967       1968       1969  ...        2009         2010  \\\n",
       "0  0.74万亿人民币  0.76万亿人民币  0.72万亿人民币  0.78万亿人民币  ...  16.47万亿人民币   16.88万亿人民币   \n",
       "1  5.62万亿人民币  5.94万亿人民币  6.50万亿人民币  7.03万亿人民币  ...  99.24万亿人民币  103.38万亿人民币   \n",
       "2        NaN        NaN        NaN        NaN  ...   8.41万亿人民币   10.48万亿人民币   \n",
       "3  0.76万亿人民币  0.82万亿人民币  0.90万亿人民币  0.97万亿人民币  ...  18.54万亿人民币   18.19万亿人民币   \n",
       "4  0.53万亿人民币  0.50万亿人民币  0.49万亿人民币  0.55万亿人民币  ...  35.15万亿人民币   41.97万亿人民币   \n",
       "\n",
       "          2011         2012         2013         2014         2015  \\\n",
       "0   18.13万亿人民币   18.47万亿人民币   18.95万亿人民币   20.88万亿人民币   19.99万亿人民币   \n",
       "1  106.82万亿人民币  111.65万亿人民币  115.78万亿人民币  120.61万亿人民币  125.43万亿人民币   \n",
       "2   14.13万亿人民币   15.23万亿人民币   15.85万亿人民币   14.20万亿人民币    9.37万亿人民币   \n",
       "3   19.71万亿人民币   18.47万亿人民币   19.37万亿人民币   19.64万亿人民币   16.82万亿人民币   \n",
       "4   52.03万亿人民币   58.79万亿人民币   65.95万亿人民币   71.67万亿人民币   75.81万亿人民币   \n",
       "\n",
       "          2016         2017         2018  \n",
       "0   18.33万亿人民币   18.19万亿人民币   19.50万亿人民币  \n",
       "1  128.88万亿人民币  134.39万亿人民币  141.28万亿人民币  \n",
       "2    8.82万亿人民币   10.89万亿人民币   11.44万亿人民币  \n",
       "3   17.02万亿人民币   17.85万亿人民币   19.16万亿人民币  \n",
       "4   76.50万亿人民币   83.39万亿人民币   93.73万亿人民币  \n",
       "\n",
       "[5 rows x 59 columns]"
      ]
     },
     "execution_count": 30,
     "metadata": {},
     "output_type": "execute_result"
    }
   ],
   "source": [
    "# applymap()函数可以认为是apply()函数的扩展，其功能是将自定义函数作用于DataFrame的所有元素 。\n",
    "GDP_df.loc[:, '1960':'2018'].applymap(dollar_to_rmb)"
   ]
  }
 ],
 "metadata": {
  "kernelspec": {
   "display_name": "Python 3",
   "language": "python",
   "name": "python3"
  },
  "language_info": {
   "codemirror_mode": {
    "name": "ipython",
    "version": 3
   },
   "file_extension": ".py",
   "mimetype": "text/x-python",
   "name": "python",
   "nbconvert_exporter": "python",
   "pygments_lexer": "ipython3",
   "version": "3.7.4"
  }
 },
 "nbformat": 4,
 "nbformat_minor": 4
}