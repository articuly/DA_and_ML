{
 "cells": [
  {
   "cell_type": "code",
   "execution_count": 1,
   "metadata": {
    "pycharm": {
     "is_executing": false
    }
   },
   "outputs": [
    {
     "data": {
      "text/html": [
       "<div>\n",
       "<style scoped>\n",
       "    .dataframe tbody tr th:only-of-type {\n",
       "        vertical-align: middle;\n",
       "    }\n",
       "\n",
       "    .dataframe tbody tr th {\n",
       "        vertical-align: top;\n",
       "    }\n",
       "\n",
       "    .dataframe thead th {\n",
       "        text-align: right;\n",
       "    }\n",
       "</style>\n",
       "<table border=\"1\" class=\"dataframe\">\n",
       "  <thead>\n",
       "    <tr style=\"text-align: right;\">\n",
       "      <th></th>\n",
       "      <th>job</th>\n",
       "      <th>company</th>\n",
       "      <th>city</th>\n",
       "      <th>salary_min</th>\n",
       "      <th>salary_max</th>\n",
       "    </tr>\n",
       "  </thead>\n",
       "  <tbody>\n",
       "    <tr>\n",
       "      <th>0</th>\n",
       "      <td>金融数据分析师/助理</td>\n",
       "      <td>华壹信融投资管理（北京）有限责任...</td>\n",
       "      <td>北京</td>\n",
       "      <td>8333.33</td>\n",
       "      <td>12500.0</td>\n",
       "    </tr>\n",
       "    <tr>\n",
       "      <th>1</th>\n",
       "      <td>a（0经验可培养）金融数据分析师/助理</td>\n",
       "      <td>深圳市中创荣投资有限公司</td>\n",
       "      <td>深圳</td>\n",
       "      <td>8000.00</td>\n",
       "      <td>10000.0</td>\n",
       "    </tr>\n",
       "    <tr>\n",
       "      <th>2</th>\n",
       "      <td>初级运营数据分析专员 助理</td>\n",
       "      <td>知才（上海）信息技术有限公司</td>\n",
       "      <td>上海</td>\n",
       "      <td>6000.00</td>\n",
       "      <td>8000.0</td>\n",
       "    </tr>\n",
       "    <tr>\n",
       "      <th>3</th>\n",
       "      <td>销售数据分析</td>\n",
       "      <td>上海品星互联网信息技术有限公司</td>\n",
       "      <td>北京</td>\n",
       "      <td>5000.00</td>\n",
       "      <td>9000.0</td>\n",
       "    </tr>\n",
       "    <tr>\n",
       "      <th>4</th>\n",
       "      <td>数据分析经理</td>\n",
       "      <td>美菜网</td>\n",
       "      <td>上海</td>\n",
       "      <td>13000.00</td>\n",
       "      <td>17000.0</td>\n",
       "    </tr>\n",
       "  </tbody>\n",
       "</table>\n",
       "</div>"
      ],
      "text/plain": [
       "                   job              company city  salary_min  salary_max\n",
       "0           金融数据分析师/助理  华壹信融投资管理（北京）有限责任...   北京     8333.33     12500.0\n",
       "1  a（0经验可培养）金融数据分析师/助理         深圳市中创荣投资有限公司   深圳     8000.00     10000.0\n",
       "2        初级运营数据分析专员 助理       知才（上海）信息技术有限公司   上海     6000.00      8000.0\n",
       "3               销售数据分析      上海品星互联网信息技术有限公司   北京     5000.00      9000.0\n",
       "4               数据分析经理                  美菜网   上海    13000.00     17000.0"
      ]
     },
     "execution_count": 1,
     "metadata": {},
     "output_type": "execute_result"
    }
   ],
   "source": [
    "import pandas as pd\n",
    "import numpy as np\n",
    "file = r'data_set/3-6 jobs_51_info.csv'\n",
    "jobs = pd.read_csv(file, header=0)\n",
    "jobs.head()"
   ]
  },
  {
   "cell_type": "code",
   "execution_count": 40,
   "metadata": {
    "collapsed": false,
    "jupyter": {
     "outputs_hidden": false
    },
    "pycharm": {
     "is_executing": false,
     "name": "#%%\n"
    }
   },
   "outputs": [
    {
     "name": "stdout",
     "output_type": "stream",
     "text": [
      "<class 'pandas.core.frame.DataFrame'>\n",
      "RangeIndex: 66766 entries, 0 to 66765\n",
      "Data columns (total 5 columns):\n",
      "job           66766 non-null object\n",
      "company       66766 non-null object\n",
      "city          64290 non-null object\n",
      "salary_min    65457 non-null float64\n",
      "salary_max    65462 non-null float64\n",
      "dtypes: float64(2), object(3)\n",
      "memory usage: 2.5+ MB\n"
     ]
    }
   ],
   "source": [
    "# 字段信息总览\n",
    "jobs.info()"
   ]
  },
  {
   "cell_type": "code",
   "execution_count": 41,
   "metadata": {
    "collapsed": false,
    "jupyter": {
     "outputs_hidden": false
    },
    "pycharm": {
     "is_executing": false,
     "name": "#%%\n"
    }
   },
   "outputs": [
    {
     "data": {
      "text/plain": [
       "array(['北京', '深圳', '上海', '武汉', '广州', '南京', '西安', '杭州', '成都', '苏州', nan],\n",
       "      dtype=object)"
      ]
     },
     "execution_count": 41,
     "metadata": {},
     "output_type": "execute_result"
    }
   ],
   "source": [
    "# 查看数据包含哪些城市\n",
    "jobs['city'].unique()"
   ]
  },
  {
   "cell_type": "code",
   "execution_count": 42,
   "metadata": {
    "collapsed": false,
    "jupyter": {
     "outputs_hidden": false
    },
    "pycharm": {
     "is_executing": false,
     "name": "#%%\n"
    }
   },
   "outputs": [
    {
     "data": {
      "text/plain": [
       "7196.770184910765"
      ]
     },
     "execution_count": 42,
     "metadata": {},
     "output_type": "execute_result"
    }
   ],
   "source": [
    "# 创建布尔类型Series的方法有大小比较、isin()、isnull()、notnull()，以及它们之间的位运算。\n",
    "jobs[jobs['city'] == '广州']['salary_min'].mean(skipna=True)"
   ]
  },
  {
   "cell_type": "code",
   "execution_count": 43,
   "metadata": {
    "collapsed": false,
    "jupyter": {
     "outputs_hidden": false
    },
    "pycharm": {
     "is_executing": false,
     "name": "#%%\n"
    }
   },
   "outputs": [
    {
     "data": {
      "text/plain": [
       "广州    15634\n",
       "深圳    14448\n",
       "上海    13027\n",
       "北京     5093\n",
       "杭州     4615\n",
       "武汉     3682\n",
       "成都     2811\n",
       "南京     2165\n",
       "苏州     1486\n",
       "西安     1329\n",
       "Name: city, dtype: int64"
      ]
     },
     "execution_count": 43,
     "metadata": {},
     "output_type": "execute_result"
    }
   ],
   "source": [
    "# value_counts()是Series类型自带的方法，如果在DataFrame中使用，需要具体指定某一列 。\n",
    "jobs['city'].value_counts()"
   ]
  },
  {
   "cell_type": "code",
   "execution_count": 44,
   "metadata": {
    "collapsed": false,
    "jupyter": {
     "outputs_hidden": false
    },
    "pycharm": {
     "is_executing": false,
     "name": "#%%\n"
    }
   },
   "outputs": [
    {
     "data": {
      "text/plain": [
       "(63017, 5)"
      ]
     },
     "execution_count": 44,
     "metadata": {},
     "output_type": "execute_result"
    }
   ],
   "source": [
    "jobs.shape\n",
    "# 只要这一行存在空值，则删除改行；axis=0用来表征是删除行（运算方向为列方向）\n",
    "# 同步计算删除结果的维度，为63017行5列。\n",
    "# 从结果看，有三千多列存在空值\n",
    "jobs.dropna(axis=0).shape\n",
    "# 整行均为空值，删除；否则保留\n",
    "# 从结果看，不存在全部为空的值\n",
    "jobs.dropna(how='all', axis=0).shape\n",
    "# 删除指定列(\"city\",\"salary_min\")中包含缺失值的行\n",
    "jobs.dropna(subset=['city', 'salary_min']).shape"
   ]
  },
  {
   "cell_type": "code",
   "execution_count": 45,
   "metadata": {
    "collapsed": false,
    "jupyter": {
     "outputs_hidden": false
    },
    "pycharm": {
     "is_executing": false,
     "name": "#%%\n"
    }
   },
   "outputs": [
    {
     "data": {
      "text/plain": [
       "广州    15634\n",
       "深圳    14448\n",
       "上海    13027\n",
       "北京     5093\n",
       "杭州     4615\n",
       "武汉     3682\n",
       "成都     2811\n",
       "其他     2476\n",
       "南京     2165\n",
       "苏州     1486\n",
       "西安     1329\n",
       "Name: city, dtype: int64"
      ]
     },
     "execution_count": 45,
     "metadata": {},
     "output_type": "execute_result"
    }
   ],
   "source": [
    "# 其实从数据分析师的角度，空值也是一种数据。通常我们会对空值做一些标记，例如这里我们把city字段中存在空值的部分，填充为“其他”。\n",
    "# 填充city字段空值为其他，设置inplace为True。该语句本身返回值为None，但是jobs本身发生了变化\n",
    "jobs['city'].fillna('其他', inplace=True)\n",
    "jobs['city'].value_counts()"
   ]
  },
  {
   "cell_type": "code",
   "execution_count": 46,
   "metadata": {
    "collapsed": false,
    "jupyter": {
     "outputs_hidden": false
    },
    "pycharm": {
     "is_executing": false,
     "name": "#%%\n"
    }
   },
   "outputs": [
    {
     "data": {
      "text/plain": [
       "0        12500.0\n",
       "1        10000.0\n",
       "2         8000.0\n",
       "3         9000.0\n",
       "4        17000.0\n",
       "          ...   \n",
       "66761     5000.0\n",
       "66762    10000.0\n",
       "66763    30000.0\n",
       "66764    50000.0\n",
       "66765    16000.0\n",
       "Name: salary_max, Length: 66766, dtype: float64"
      ]
     },
     "execution_count": 46,
     "metadata": {},
     "output_type": "execute_result"
    }
   ],
   "source": [
    "# 对于salary_min字段，我们这里以均值填充，即以该字段的平均值来进行填充。\n",
    "jobs['salary_min'].fillna(jobs['salary_min'].mean())\n",
    "jobs.groupby(['city']).apply(lambda g: g.fillna(g.mean()))\n",
    "# 对于 salary_max字段，我们这里以10000-20000之间的随机值填充。\n",
    "jobs['salary_max'].fillna(np.random.randint(10000, 20000))\n",
    "# 或者我们可以以用前一个非缺失值进行填充\n",
    "jobs['salary_max'].fillna(method='ffill')"
   ]
  },
  {
   "cell_type": "code",
   "execution_count": 47,
   "metadata": {
    "collapsed": false,
    "jupyter": {
     "outputs_hidden": false
    },
    "pycharm": {
     "is_executing": false,
     "name": "#%%\n"
    }
   },
   "outputs": [
    {
     "data": {
      "text/html": [
       "<div>\n",
       "<style scoped>\n",
       "    .dataframe tbody tr th:only-of-type {\n",
       "        vertical-align: middle;\n",
       "    }\n",
       "\n",
       "    .dataframe tbody tr th {\n",
       "        vertical-align: top;\n",
       "    }\n",
       "\n",
       "    .dataframe thead th {\n",
       "        text-align: right;\n",
       "    }\n",
       "</style>\n",
       "<table border=\"1\" class=\"dataframe\">\n",
       "  <thead>\n",
       "    <tr style=\"text-align: right;\">\n",
       "      <th></th>\n",
       "      <th>job</th>\n",
       "      <th>data_engineer</th>\n",
       "      <th>company</th>\n",
       "      <th>city</th>\n",
       "      <th>salary_min</th>\n",
       "      <th>salary_max</th>\n",
       "    </tr>\n",
       "  </thead>\n",
       "  <tbody>\n",
       "    <tr>\n",
       "      <th>0</th>\n",
       "      <td>金融数据分析师/助理</td>\n",
       "      <td>y</td>\n",
       "      <td>华壹信融投资管理（北京）有限责任...</td>\n",
       "      <td>北京</td>\n",
       "      <td>8333.33</td>\n",
       "      <td>12500.0</td>\n",
       "    </tr>\n",
       "    <tr>\n",
       "      <th>1</th>\n",
       "      <td>a（0经验可培养）金融数据分析师/助理</td>\n",
       "      <td>y</td>\n",
       "      <td>深圳市中创荣投资有限公司</td>\n",
       "      <td>深圳</td>\n",
       "      <td>8000.00</td>\n",
       "      <td>10000.0</td>\n",
       "    </tr>\n",
       "    <tr>\n",
       "      <th>2</th>\n",
       "      <td>初级运营数据分析专员 助理</td>\n",
       "      <td>y</td>\n",
       "      <td>知才（上海）信息技术有限公司</td>\n",
       "      <td>上海</td>\n",
       "      <td>6000.00</td>\n",
       "      <td>8000.0</td>\n",
       "    </tr>\n",
       "    <tr>\n",
       "      <th>3</th>\n",
       "      <td>销售数据分析</td>\n",
       "      <td>y</td>\n",
       "      <td>上海品星互联网信息技术有限公司</td>\n",
       "      <td>北京</td>\n",
       "      <td>5000.00</td>\n",
       "      <td>9000.0</td>\n",
       "    </tr>\n",
       "    <tr>\n",
       "      <th>4</th>\n",
       "      <td>数据分析经理</td>\n",
       "      <td>y</td>\n",
       "      <td>美菜网</td>\n",
       "      <td>上海</td>\n",
       "      <td>13000.00</td>\n",
       "      <td>17000.0</td>\n",
       "    </tr>\n",
       "    <tr>\n",
       "      <th>...</th>\n",
       "      <td>...</td>\n",
       "      <td>...</td>\n",
       "      <td>...</td>\n",
       "      <td>...</td>\n",
       "      <td>...</td>\n",
       "      <td>...</td>\n",
       "    </tr>\n",
       "    <tr>\n",
       "      <th>66761</th>\n",
       "      <td>运营支持岗</td>\n",
       "      <td>n</td>\n",
       "      <td>九州通医药集团物流有限公司</td>\n",
       "      <td>武汉</td>\n",
       "      <td>3000.00</td>\n",
       "      <td>5000.0</td>\n",
       "    </tr>\n",
       "    <tr>\n",
       "      <th>66762</th>\n",
       "      <td>新媒体运营专员</td>\n",
       "      <td>n</td>\n",
       "      <td>深圳市摩天之星企业管理有限公司龙...</td>\n",
       "      <td>深圳</td>\n",
       "      <td>8000.00</td>\n",
       "      <td>10000.0</td>\n",
       "    </tr>\n",
       "    <tr>\n",
       "      <th>66763</th>\n",
       "      <td>电商运营总监</td>\n",
       "      <td>n</td>\n",
       "      <td>福建特家商业管理有限公司</td>\n",
       "      <td>广州</td>\n",
       "      <td>20000.00</td>\n",
       "      <td>30000.0</td>\n",
       "    </tr>\n",
       "    <tr>\n",
       "      <th>66764</th>\n",
       "      <td>总经理/CEO</td>\n",
       "      <td>n</td>\n",
       "      <td>福建特家商业管理有限公司</td>\n",
       "      <td>广州</td>\n",
       "      <td>30000.00</td>\n",
       "      <td>50000.0</td>\n",
       "    </tr>\n",
       "    <tr>\n",
       "      <th>66765</th>\n",
       "      <td>会员商城运营管理师</td>\n",
       "      <td>n</td>\n",
       "      <td>统一企业（中国）投资有限公司</td>\n",
       "      <td>上海</td>\n",
       "      <td>8000.00</td>\n",
       "      <td>16000.0</td>\n",
       "    </tr>\n",
       "  </tbody>\n",
       "</table>\n",
       "<p>66766 rows × 6 columns</p>\n",
       "</div>"
      ],
      "text/plain": [
       "                       job data_engineer              company city  \\\n",
       "0               金融数据分析师/助理             y  华壹信融投资管理（北京）有限责任...   北京   \n",
       "1      a（0经验可培养）金融数据分析师/助理             y         深圳市中创荣投资有限公司   深圳   \n",
       "2            初级运营数据分析专员 助理             y       知才（上海）信息技术有限公司   上海   \n",
       "3                   销售数据分析             y      上海品星互联网信息技术有限公司   北京   \n",
       "4                   数据分析经理             y                  美菜网   上海   \n",
       "...                    ...           ...                  ...  ...   \n",
       "66761                运营支持岗             n        九州通医药集团物流有限公司   武汉   \n",
       "66762              新媒体运营专员             n  深圳市摩天之星企业管理有限公司龙...   深圳   \n",
       "66763               电商运营总监             n         福建特家商业管理有限公司   广州   \n",
       "66764              总经理/CEO             n         福建特家商业管理有限公司   广州   \n",
       "66765            会员商城运营管理师             n       统一企业（中国）投资有限公司   上海   \n",
       "\n",
       "       salary_min  salary_max  \n",
       "0         8333.33     12500.0  \n",
       "1         8000.00     10000.0  \n",
       "2         6000.00      8000.0  \n",
       "3         5000.00      9000.0  \n",
       "4        13000.00     17000.0  \n",
       "...           ...         ...  \n",
       "66761     3000.00      5000.0  \n",
       "66762     8000.00     10000.0  \n",
       "66763    20000.00     30000.0  \n",
       "66764    30000.00     50000.0  \n",
       "66765     8000.00     16000.0  \n",
       "\n",
       "[66766 rows x 6 columns]"
      ]
     },
     "execution_count": 47,
     "metadata": {},
     "output_type": "execute_result"
    }
   ],
   "source": [
    "# insert函数至少需要传入3个参数：\n",
    "# 第一个参数表示插入列的具体位置\n",
    "# 第二参数表示插入列的列名\n",
    "# 第三个参数表示插入列的赋值.\n",
    "jobs.insert(1, 'data_engineer',\n",
    "            jobs['job'].apply(lambda x: 'y' if '数据分析' in x else 'n'))\n",
    "jobs"
   ]
  },
  {
   "cell_type": "code",
   "execution_count": 49,
   "metadata": {
    "collapsed": false,
    "jupyter": {
     "outputs_hidden": false
    },
    "pycharm": {
     "is_executing": false,
     "name": "#%%\n"
    }
   },
   "outputs": [
    {
     "data": {
      "text/html": [
       "<div>\n",
       "<style scoped>\n",
       "    .dataframe tbody tr th:only-of-type {\n",
       "        vertical-align: middle;\n",
       "    }\n",
       "\n",
       "    .dataframe tbody tr th {\n",
       "        vertical-align: top;\n",
       "    }\n",
       "\n",
       "    .dataframe thead th {\n",
       "        text-align: right;\n",
       "    }\n",
       "</style>\n",
       "<table border=\"1\" class=\"dataframe\">\n",
       "  <thead>\n",
       "    <tr style=\"text-align: right;\">\n",
       "      <th></th>\n",
       "      <th>job</th>\n",
       "      <th>data_engineer</th>\n",
       "      <th>company</th>\n",
       "      <th>salary_min</th>\n",
       "      <th>salary_max</th>\n",
       "      <th>cite</th>\n",
       "    </tr>\n",
       "  </thead>\n",
       "  <tbody>\n",
       "    <tr>\n",
       "      <th>0</th>\n",
       "      <td>金融数据分析师/助理</td>\n",
       "      <td>y</td>\n",
       "      <td>华壹信融投资管理（北京）有限责任...</td>\n",
       "      <td>8333.33</td>\n",
       "      <td>12500.0</td>\n",
       "      <td>NaN</td>\n",
       "    </tr>\n",
       "    <tr>\n",
       "      <th>1</th>\n",
       "      <td>a（0经验可培养）金融数据分析师/助理</td>\n",
       "      <td>y</td>\n",
       "      <td>深圳市中创荣投资有限公司</td>\n",
       "      <td>8000.00</td>\n",
       "      <td>10000.0</td>\n",
       "      <td>NaN</td>\n",
       "    </tr>\n",
       "    <tr>\n",
       "      <th>2</th>\n",
       "      <td>初级运营数据分析专员 助理</td>\n",
       "      <td>y</td>\n",
       "      <td>知才（上海）信息技术有限公司</td>\n",
       "      <td>6000.00</td>\n",
       "      <td>8000.0</td>\n",
       "      <td>NaN</td>\n",
       "    </tr>\n",
       "    <tr>\n",
       "      <th>3</th>\n",
       "      <td>销售数据分析</td>\n",
       "      <td>y</td>\n",
       "      <td>上海品星互联网信息技术有限公司</td>\n",
       "      <td>5000.00</td>\n",
       "      <td>9000.0</td>\n",
       "      <td>NaN</td>\n",
       "    </tr>\n",
       "    <tr>\n",
       "      <th>4</th>\n",
       "      <td>数据分析经理</td>\n",
       "      <td>y</td>\n",
       "      <td>美菜网</td>\n",
       "      <td>13000.00</td>\n",
       "      <td>17000.0</td>\n",
       "      <td>NaN</td>\n",
       "    </tr>\n",
       "    <tr>\n",
       "      <th>...</th>\n",
       "      <td>...</td>\n",
       "      <td>...</td>\n",
       "      <td>...</td>\n",
       "      <td>...</td>\n",
       "      <td>...</td>\n",
       "      <td>...</td>\n",
       "    </tr>\n",
       "    <tr>\n",
       "      <th>66761</th>\n",
       "      <td>运营支持岗</td>\n",
       "      <td>n</td>\n",
       "      <td>九州通医药集团物流有限公司</td>\n",
       "      <td>3000.00</td>\n",
       "      <td>5000.0</td>\n",
       "      <td>NaN</td>\n",
       "    </tr>\n",
       "    <tr>\n",
       "      <th>66762</th>\n",
       "      <td>新媒体运营专员</td>\n",
       "      <td>n</td>\n",
       "      <td>深圳市摩天之星企业管理有限公司龙...</td>\n",
       "      <td>8000.00</td>\n",
       "      <td>10000.0</td>\n",
       "      <td>NaN</td>\n",
       "    </tr>\n",
       "    <tr>\n",
       "      <th>66763</th>\n",
       "      <td>电商运营总监</td>\n",
       "      <td>n</td>\n",
       "      <td>福建特家商业管理有限公司</td>\n",
       "      <td>20000.00</td>\n",
       "      <td>30000.0</td>\n",
       "      <td>NaN</td>\n",
       "    </tr>\n",
       "    <tr>\n",
       "      <th>66764</th>\n",
       "      <td>总经理/CEO</td>\n",
       "      <td>n</td>\n",
       "      <td>福建特家商业管理有限公司</td>\n",
       "      <td>30000.00</td>\n",
       "      <td>50000.0</td>\n",
       "      <td>NaN</td>\n",
       "    </tr>\n",
       "    <tr>\n",
       "      <th>66765</th>\n",
       "      <td>会员商城运营管理师</td>\n",
       "      <td>n</td>\n",
       "      <td>统一企业（中国）投资有限公司</td>\n",
       "      <td>8000.00</td>\n",
       "      <td>16000.0</td>\n",
       "      <td>NaN</td>\n",
       "    </tr>\n",
       "  </tbody>\n",
       "</table>\n",
       "<p>66766 rows × 6 columns</p>\n",
       "</div>"
      ],
      "text/plain": [
       "                       job data_engineer              company  salary_min  \\\n",
       "0               金融数据分析师/助理             y  华壹信融投资管理（北京）有限责任...     8333.33   \n",
       "1      a（0经验可培养）金融数据分析师/助理             y         深圳市中创荣投资有限公司     8000.00   \n",
       "2            初级运营数据分析专员 助理             y       知才（上海）信息技术有限公司     6000.00   \n",
       "3                   销售数据分析             y      上海品星互联网信息技术有限公司     5000.00   \n",
       "4                   数据分析经理             y                  美菜网    13000.00   \n",
       "...                    ...           ...                  ...         ...   \n",
       "66761                运营支持岗             n        九州通医药集团物流有限公司     3000.00   \n",
       "66762              新媒体运营专员             n  深圳市摩天之星企业管理有限公司龙...     8000.00   \n",
       "66763               电商运营总监             n         福建特家商业管理有限公司    20000.00   \n",
       "66764              总经理/CEO             n         福建特家商业管理有限公司    30000.00   \n",
       "66765            会员商城运营管理师             n       统一企业（中国）投资有限公司     8000.00   \n",
       "\n",
       "       salary_max  cite  \n",
       "0         12500.0   NaN  \n",
       "1         10000.0   NaN  \n",
       "2          8000.0   NaN  \n",
       "3          9000.0   NaN  \n",
       "4         17000.0   NaN  \n",
       "...           ...   ...  \n",
       "66761      5000.0   NaN  \n",
       "66762     10000.0   NaN  \n",
       "66763     30000.0   NaN  \n",
       "66764     50000.0   NaN  \n",
       "66765     16000.0   NaN  \n",
       "\n",
       "[66766 rows x 6 columns]"
      ]
     },
     "execution_count": 49,
     "metadata": {},
     "output_type": "execute_result"
    }
   ],
   "source": [
    "# 这里通过重新设置列索引的方式间接实现了排序\n",
    "jobs.reindex(\n",
    "    columns='job data_engineer company salary_min salary_max cite'.split())"
   ]
  },
  {
   "cell_type": "code",
   "execution_count": 50,
   "metadata": {
    "collapsed": false,
    "jupyter": {
     "outputs_hidden": false
    },
    "pycharm": {
     "is_executing": false,
     "name": "#%%\n"
    }
   },
   "outputs": [],
   "source": [
    "# 单列删除则较为简单，利用del函数即可。例如这里我们删除上面刚刚生成的data_engineer字段\n",
    "del jobs['data_engineer']"
   ]
  },
  {
   "cell_type": "code",
   "execution_count": 51,
   "metadata": {
    "collapsed": false,
    "jupyter": {
     "outputs_hidden": false
    },
    "pycharm": {
     "is_executing": false,
     "name": "#%%\n"
    }
   },
   "outputs": [
    {
     "data": {
      "text/html": [
       "<div>\n",
       "<style scoped>\n",
       "    .dataframe tbody tr th:only-of-type {\n",
       "        vertical-align: middle;\n",
       "    }\n",
       "\n",
       "    .dataframe tbody tr th {\n",
       "        vertical-align: top;\n",
       "    }\n",
       "\n",
       "    .dataframe thead th {\n",
       "        text-align: right;\n",
       "    }\n",
       "</style>\n",
       "<table border=\"1\" class=\"dataframe\">\n",
       "  <thead>\n",
       "    <tr style=\"text-align: right;\">\n",
       "      <th></th>\n",
       "      <th>job</th>\n",
       "      <th>company</th>\n",
       "      <th>city</th>\n",
       "    </tr>\n",
       "  </thead>\n",
       "  <tbody>\n",
       "    <tr>\n",
       "      <th>0</th>\n",
       "      <td>金融数据分析师/助理</td>\n",
       "      <td>华壹信融投资管理（北京）有限责任...</td>\n",
       "      <td>北京</td>\n",
       "    </tr>\n",
       "    <tr>\n",
       "      <th>1</th>\n",
       "      <td>a（0经验可培养）金融数据分析师/助理</td>\n",
       "      <td>深圳市中创荣投资有限公司</td>\n",
       "      <td>深圳</td>\n",
       "    </tr>\n",
       "    <tr>\n",
       "      <th>2</th>\n",
       "      <td>初级运营数据分析专员 助理</td>\n",
       "      <td>知才（上海）信息技术有限公司</td>\n",
       "      <td>上海</td>\n",
       "    </tr>\n",
       "    <tr>\n",
       "      <th>3</th>\n",
       "      <td>销售数据分析</td>\n",
       "      <td>上海品星互联网信息技术有限公司</td>\n",
       "      <td>北京</td>\n",
       "    </tr>\n",
       "    <tr>\n",
       "      <th>4</th>\n",
       "      <td>数据分析经理</td>\n",
       "      <td>美菜网</td>\n",
       "      <td>上海</td>\n",
       "    </tr>\n",
       "    <tr>\n",
       "      <th>...</th>\n",
       "      <td>...</td>\n",
       "      <td>...</td>\n",
       "      <td>...</td>\n",
       "    </tr>\n",
       "    <tr>\n",
       "      <th>66761</th>\n",
       "      <td>运营支持岗</td>\n",
       "      <td>九州通医药集团物流有限公司</td>\n",
       "      <td>武汉</td>\n",
       "    </tr>\n",
       "    <tr>\n",
       "      <th>66762</th>\n",
       "      <td>新媒体运营专员</td>\n",
       "      <td>深圳市摩天之星企业管理有限公司龙...</td>\n",
       "      <td>深圳</td>\n",
       "    </tr>\n",
       "    <tr>\n",
       "      <th>66763</th>\n",
       "      <td>电商运营总监</td>\n",
       "      <td>福建特家商业管理有限公司</td>\n",
       "      <td>广州</td>\n",
       "    </tr>\n",
       "    <tr>\n",
       "      <th>66764</th>\n",
       "      <td>总经理/CEO</td>\n",
       "      <td>福建特家商业管理有限公司</td>\n",
       "      <td>广州</td>\n",
       "    </tr>\n",
       "    <tr>\n",
       "      <th>66765</th>\n",
       "      <td>会员商城运营管理师</td>\n",
       "      <td>统一企业（中国）投资有限公司</td>\n",
       "      <td>上海</td>\n",
       "    </tr>\n",
       "  </tbody>\n",
       "</table>\n",
       "<p>66766 rows × 3 columns</p>\n",
       "</div>"
      ],
      "text/plain": [
       "                       job              company city\n",
       "0               金融数据分析师/助理  华壹信融投资管理（北京）有限责任...   北京\n",
       "1      a（0经验可培养）金融数据分析师/助理         深圳市中创荣投资有限公司   深圳\n",
       "2            初级运营数据分析专员 助理       知才（上海）信息技术有限公司   上海\n",
       "3                   销售数据分析      上海品星互联网信息技术有限公司   北京\n",
       "4                   数据分析经理                  美菜网   上海\n",
       "...                    ...                  ...  ...\n",
       "66761                运营支持岗        九州通医药集团物流有限公司   武汉\n",
       "66762              新媒体运营专员  深圳市摩天之星企业管理有限公司龙...   深圳\n",
       "66763               电商运营总监         福建特家商业管理有限公司   广州\n",
       "66764              总经理/CEO         福建特家商业管理有限公司   广州\n",
       "66765            会员商城运营管理师       统一企业（中国）投资有限公司   上海\n",
       "\n",
       "[66766 rows x 3 columns]"
      ]
     },
     "execution_count": 51,
     "metadata": {},
     "output_type": "execute_result"
    }
   ],
   "source": [
    "# 这里用axis=1表示删除列\n",
    "# inplace默认为False\n",
    "jobs.drop(['salary_min', 'salary_max'], inplace=False, axis=1)"
   ]
  },
  {
   "cell_type": "code",
   "execution_count": 52,
   "metadata": {
    "collapsed": false,
    "jupyter": {
     "outputs_hidden": false
    },
    "pycharm": {
     "is_executing": false,
     "name": "#%%\n"
    }
   },
   "outputs": [
    {
     "data": {
      "text/html": [
       "<div>\n",
       "<style scoped>\n",
       "    .dataframe tbody tr th:only-of-type {\n",
       "        vertical-align: middle;\n",
       "    }\n",
       "\n",
       "    .dataframe tbody tr th {\n",
       "        vertical-align: top;\n",
       "    }\n",
       "\n",
       "    .dataframe thead th {\n",
       "        text-align: right;\n",
       "    }\n",
       "</style>\n",
       "<table border=\"1\" class=\"dataframe\">\n",
       "  <thead>\n",
       "    <tr style=\"text-align: right;\">\n",
       "      <th></th>\n",
       "      <th>job</th>\n",
       "      <th>company</th>\n",
       "      <th>city</th>\n",
       "      <th>salary_min</th>\n",
       "      <th>salary_max</th>\n",
       "    </tr>\n",
       "  </thead>\n",
       "  <tbody>\n",
       "    <tr>\n",
       "      <th>66765</th>\n",
       "      <td>会员商城运营管理师</td>\n",
       "      <td>统一企业（中国）投资有限公司</td>\n",
       "      <td>上海</td>\n",
       "      <td>8000.00</td>\n",
       "      <td>16000.0</td>\n",
       "    </tr>\n",
       "    <tr>\n",
       "      <th>66764</th>\n",
       "      <td>总经理/CEO</td>\n",
       "      <td>福建特家商业管理有限公司</td>\n",
       "      <td>广州</td>\n",
       "      <td>30000.00</td>\n",
       "      <td>50000.0</td>\n",
       "    </tr>\n",
       "    <tr>\n",
       "      <th>66763</th>\n",
       "      <td>电商运营总监</td>\n",
       "      <td>福建特家商业管理有限公司</td>\n",
       "      <td>广州</td>\n",
       "      <td>20000.00</td>\n",
       "      <td>30000.0</td>\n",
       "    </tr>\n",
       "    <tr>\n",
       "      <th>66762</th>\n",
       "      <td>新媒体运营专员</td>\n",
       "      <td>深圳市摩天之星企业管理有限公司龙...</td>\n",
       "      <td>深圳</td>\n",
       "      <td>8000.00</td>\n",
       "      <td>10000.0</td>\n",
       "    </tr>\n",
       "    <tr>\n",
       "      <th>66761</th>\n",
       "      <td>运营支持岗</td>\n",
       "      <td>九州通医药集团物流有限公司</td>\n",
       "      <td>武汉</td>\n",
       "      <td>3000.00</td>\n",
       "      <td>5000.0</td>\n",
       "    </tr>\n",
       "    <tr>\n",
       "      <th>...</th>\n",
       "      <td>...</td>\n",
       "      <td>...</td>\n",
       "      <td>...</td>\n",
       "      <td>...</td>\n",
       "      <td>...</td>\n",
       "    </tr>\n",
       "    <tr>\n",
       "      <th>4</th>\n",
       "      <td>数据分析经理</td>\n",
       "      <td>美菜网</td>\n",
       "      <td>上海</td>\n",
       "      <td>13000.00</td>\n",
       "      <td>17000.0</td>\n",
       "    </tr>\n",
       "    <tr>\n",
       "      <th>3</th>\n",
       "      <td>销售数据分析</td>\n",
       "      <td>上海品星互联网信息技术有限公司</td>\n",
       "      <td>北京</td>\n",
       "      <td>5000.00</td>\n",
       "      <td>9000.0</td>\n",
       "    </tr>\n",
       "    <tr>\n",
       "      <th>2</th>\n",
       "      <td>初级运营数据分析专员 助理</td>\n",
       "      <td>知才（上海）信息技术有限公司</td>\n",
       "      <td>上海</td>\n",
       "      <td>6000.00</td>\n",
       "      <td>8000.0</td>\n",
       "    </tr>\n",
       "    <tr>\n",
       "      <th>1</th>\n",
       "      <td>a（0经验可培养）金融数据分析师/助理</td>\n",
       "      <td>深圳市中创荣投资有限公司</td>\n",
       "      <td>深圳</td>\n",
       "      <td>8000.00</td>\n",
       "      <td>10000.0</td>\n",
       "    </tr>\n",
       "    <tr>\n",
       "      <th>0</th>\n",
       "      <td>金融数据分析师/助理</td>\n",
       "      <td>华壹信融投资管理（北京）有限责任...</td>\n",
       "      <td>北京</td>\n",
       "      <td>8333.33</td>\n",
       "      <td>12500.0</td>\n",
       "    </tr>\n",
       "  </tbody>\n",
       "</table>\n",
       "<p>66766 rows × 5 columns</p>\n",
       "</div>"
      ],
      "text/plain": [
       "                       job              company city  salary_min  salary_max\n",
       "66765            会员商城运营管理师       统一企业（中国）投资有限公司   上海     8000.00     16000.0\n",
       "66764              总经理/CEO         福建特家商业管理有限公司   广州    30000.00     50000.0\n",
       "66763               电商运营总监         福建特家商业管理有限公司   广州    20000.00     30000.0\n",
       "66762              新媒体运营专员  深圳市摩天之星企业管理有限公司龙...   深圳     8000.00     10000.0\n",
       "66761                运营支持岗        九州通医药集团物流有限公司   武汉     3000.00      5000.0\n",
       "...                    ...                  ...  ...         ...         ...\n",
       "4                   数据分析经理                  美菜网   上海    13000.00     17000.0\n",
       "3                   销售数据分析      上海品星互联网信息技术有限公司   北京     5000.00      9000.0\n",
       "2            初级运营数据分析专员 助理       知才（上海）信息技术有限公司   上海     6000.00      8000.0\n",
       "1      a（0经验可培养）金融数据分析师/助理         深圳市中创荣投资有限公司   深圳     8000.00     10000.0\n",
       "0               金融数据分析师/助理  华壹信融投资管理（北京）有限责任...   北京     8333.33     12500.0\n",
       "\n",
       "[66766 rows x 5 columns]"
      ]
     },
     "execution_count": 52,
     "metadata": {},
     "output_type": "execute_result"
    }
   ],
   "source": [
    "# 在Pandas中，排序分为对值的排序和对索引的排序，其中每个排序又可以根据具体的场景，可以分为行方向排序和列方向排序。\n",
    "# DataFrame.sort_index(axis=0, ascending=True, inplace=False, kind='quicksort')\n",
    "jobs.sort_index(axis=0, ascending=False)"
   ]
  },
  {
   "cell_type": "code",
   "execution_count": 53,
   "metadata": {
    "collapsed": false,
    "jupyter": {
     "outputs_hidden": false
    },
    "pycharm": {
     "is_executing": false,
     "name": "#%%\n"
    }
   },
   "outputs": [
    {
     "data": {
      "text/html": [
       "<div>\n",
       "<style scoped>\n",
       "    .dataframe tbody tr th:only-of-type {\n",
       "        vertical-align: middle;\n",
       "    }\n",
       "\n",
       "    .dataframe tbody tr th {\n",
       "        vertical-align: top;\n",
       "    }\n",
       "\n",
       "    .dataframe thead th {\n",
       "        text-align: right;\n",
       "    }\n",
       "</style>\n",
       "<table border=\"1\" class=\"dataframe\">\n",
       "  <thead>\n",
       "    <tr style=\"text-align: right;\">\n",
       "      <th></th>\n",
       "      <th>job</th>\n",
       "      <th>company</th>\n",
       "      <th>city</th>\n",
       "      <th>salary_min</th>\n",
       "      <th>salary_max</th>\n",
       "    </tr>\n",
       "  </thead>\n",
       "  <tbody>\n",
       "    <tr>\n",
       "      <th>859</th>\n",
       "      <td>数据分析师</td>\n",
       "      <td>（CCE GROUP）上海程迈文化传播有...</td>\n",
       "      <td>上海</td>\n",
       "      <td>15000.0</td>\n",
       "      <td>20000.0</td>\n",
       "    </tr>\n",
       "    <tr>\n",
       "      <th>50689</th>\n",
       "      <td>资深媒介专员</td>\n",
       "      <td>（CCE GROUP）上海程迈文化传播有...</td>\n",
       "      <td>上海</td>\n",
       "      <td>6000.0</td>\n",
       "      <td>8000.0</td>\n",
       "    </tr>\n",
       "    <tr>\n",
       "      <th>23092</th>\n",
       "      <td>产品运营经理（教育行业）</td>\n",
       "      <td>龙的股份</td>\n",
       "      <td>上海</td>\n",
       "      <td>5000.0</td>\n",
       "      <td>8000.0</td>\n",
       "    </tr>\n",
       "    <tr>\n",
       "      <th>4113</th>\n",
       "      <td>教务助理/教务人员</td>\n",
       "      <td>鼓动商贸（上海）有限公司</td>\n",
       "      <td>上海</td>\n",
       "      <td>4000.0</td>\n",
       "      <td>7000.0</td>\n",
       "    </tr>\n",
       "    <tr>\n",
       "      <th>27576</th>\n",
       "      <td>教务专员</td>\n",
       "      <td>鼓动商贸（上海）有限公司</td>\n",
       "      <td>上海</td>\n",
       "      <td>5000.0</td>\n",
       "      <td>6500.0</td>\n",
       "    </tr>\n",
       "    <tr>\n",
       "      <th>...</th>\n",
       "      <td>...</td>\n",
       "      <td>...</td>\n",
       "      <td>...</td>\n",
       "      <td>...</td>\n",
       "      <td>...</td>\n",
       "    </tr>\n",
       "    <tr>\n",
       "      <th>39420</th>\n",
       "      <td>商品经理</td>\n",
       "      <td>ABC童装童鞋</td>\n",
       "      <td>西安</td>\n",
       "      <td>6000.0</td>\n",
       "      <td>8000.0</td>\n",
       "    </tr>\n",
       "    <tr>\n",
       "      <th>39717</th>\n",
       "      <td>急聘商品专员</td>\n",
       "      <td>ABC童装童鞋</td>\n",
       "      <td>西安</td>\n",
       "      <td>4000.0</td>\n",
       "      <td>6000.0</td>\n",
       "    </tr>\n",
       "    <tr>\n",
       "      <th>39719</th>\n",
       "      <td>商品主管</td>\n",
       "      <td>ABC童装童鞋</td>\n",
       "      <td>西安</td>\n",
       "      <td>4000.0</td>\n",
       "      <td>8000.0</td>\n",
       "    </tr>\n",
       "    <tr>\n",
       "      <th>41307</th>\n",
       "      <td>直营商品专员</td>\n",
       "      <td>ABC童装童鞋</td>\n",
       "      <td>西安</td>\n",
       "      <td>4000.0</td>\n",
       "      <td>6000.0</td>\n",
       "    </tr>\n",
       "    <tr>\n",
       "      <th>41308</th>\n",
       "      <td>ABC诚聘商品专员</td>\n",
       "      <td>ABC童装童鞋</td>\n",
       "      <td>西安</td>\n",
       "      <td>4000.0</td>\n",
       "      <td>6000.0</td>\n",
       "    </tr>\n",
       "  </tbody>\n",
       "</table>\n",
       "<p>66766 rows × 5 columns</p>\n",
       "</div>"
      ],
      "text/plain": [
       "                job                  company city  salary_min  salary_max\n",
       "859           数据分析师  （CCE GROUP）上海程迈文化传播有...   上海     15000.0     20000.0\n",
       "50689        资深媒介专员  （CCE GROUP）上海程迈文化传播有...   上海      6000.0      8000.0\n",
       "23092  产品运营经理（教育行业）                     龙的股份   上海      5000.0      8000.0\n",
       "4113      教务助理/教务人员             鼓动商贸（上海）有限公司   上海      4000.0      7000.0\n",
       "27576          教务专员             鼓动商贸（上海）有限公司   上海      5000.0      6500.0\n",
       "...             ...                      ...  ...         ...         ...\n",
       "39420          商品经理                  ABC童装童鞋   西安      6000.0      8000.0\n",
       "39717        急聘商品专员                  ABC童装童鞋   西安      4000.0      6000.0\n",
       "39719          商品主管                  ABC童装童鞋   西安      4000.0      8000.0\n",
       "41307        直营商品专员                  ABC童装童鞋   西安      4000.0      6000.0\n",
       "41308     ABC诚聘商品专员                  ABC童装童鞋   西安      4000.0      6000.0\n",
       "\n",
       "[66766 rows x 5 columns]"
      ]
     },
     "execution_count": 53,
     "metadata": {},
     "output_type": "execute_result"
    }
   ],
   "source": [
    "# DataFrame.sort_values(by, axis=0, ascending=True, inplace=False, kind='quicksort', na_position='last')\n",
    "jobs.sort_values(by=['city', 'company'], axis=0, ascending=[True, False])"
   ]
  },
  {
   "cell_type": "code",
   "execution_count": 54,
   "metadata": {
    "collapsed": false,
    "jupyter": {
     "outputs_hidden": false
    },
    "pycharm": {
     "is_executing": false,
     "name": "#%%\n"
    }
   },
   "outputs": [
    {
     "data": {
      "text/html": [
       "<div>\n",
       "<style scoped>\n",
       "    .dataframe tbody tr th:only-of-type {\n",
       "        vertical-align: middle;\n",
       "    }\n",
       "\n",
       "    .dataframe tbody tr th {\n",
       "        vertical-align: top;\n",
       "    }\n",
       "\n",
       "    .dataframe thead th {\n",
       "        text-align: right;\n",
       "    }\n",
       "</style>\n",
       "<table border=\"1\" class=\"dataframe\">\n",
       "  <thead>\n",
       "    <tr style=\"text-align: right;\">\n",
       "      <th></th>\n",
       "      <th>job</th>\n",
       "      <th>company</th>\n",
       "      <th>city</th>\n",
       "      <th>salary_min</th>\n",
       "      <th>salary_max</th>\n",
       "    </tr>\n",
       "  </thead>\n",
       "  <tbody>\n",
       "    <tr>\n",
       "      <th>0</th>\n",
       "      <td>金融数据分析师/助理</td>\n",
       "      <td>华壹信融投资管理（北京）有限责任...</td>\n",
       "      <td>北京</td>\n",
       "      <td>8333.33</td>\n",
       "      <td>12500.0</td>\n",
       "    </tr>\n",
       "    <tr>\n",
       "      <th>1</th>\n",
       "      <td>a（0经验可培养）金融数据分析师/助理</td>\n",
       "      <td>深圳市中创荣投资有限公司</td>\n",
       "      <td>深圳</td>\n",
       "      <td>8000.00</td>\n",
       "      <td>10000.0</td>\n",
       "    </tr>\n",
       "    <tr>\n",
       "      <th>2</th>\n",
       "      <td>初级运营数据分析专员 助理</td>\n",
       "      <td>知才（上海）信息技术有限公司</td>\n",
       "      <td>上海</td>\n",
       "      <td>6000.00</td>\n",
       "      <td>8000.0</td>\n",
       "    </tr>\n",
       "    <tr>\n",
       "      <th>3</th>\n",
       "      <td>销售数据分析</td>\n",
       "      <td>上海品星互联网信息技术有限公司</td>\n",
       "      <td>北京</td>\n",
       "      <td>5000.00</td>\n",
       "      <td>9000.0</td>\n",
       "    </tr>\n",
       "    <tr>\n",
       "      <th>4</th>\n",
       "      <td>数据分析经理</td>\n",
       "      <td>美菜网</td>\n",
       "      <td>上海</td>\n",
       "      <td>13000.00</td>\n",
       "      <td>17000.0</td>\n",
       "    </tr>\n",
       "    <tr>\n",
       "      <th>...</th>\n",
       "      <td>...</td>\n",
       "      <td>...</td>\n",
       "      <td>...</td>\n",
       "      <td>...</td>\n",
       "      <td>...</td>\n",
       "    </tr>\n",
       "    <tr>\n",
       "      <th>66761</th>\n",
       "      <td>运营支持岗</td>\n",
       "      <td>九州通医药集团物流有限公司</td>\n",
       "      <td>武汉</td>\n",
       "      <td>3000.00</td>\n",
       "      <td>5000.0</td>\n",
       "    </tr>\n",
       "    <tr>\n",
       "      <th>66762</th>\n",
       "      <td>新媒体运营专员</td>\n",
       "      <td>深圳市摩天之星企业管理有限公司龙...</td>\n",
       "      <td>深圳</td>\n",
       "      <td>8000.00</td>\n",
       "      <td>10000.0</td>\n",
       "    </tr>\n",
       "    <tr>\n",
       "      <th>66763</th>\n",
       "      <td>电商运营总监</td>\n",
       "      <td>福建特家商业管理有限公司</td>\n",
       "      <td>广州</td>\n",
       "      <td>20000.00</td>\n",
       "      <td>30000.0</td>\n",
       "    </tr>\n",
       "    <tr>\n",
       "      <th>66764</th>\n",
       "      <td>总经理/CEO</td>\n",
       "      <td>福建特家商业管理有限公司</td>\n",
       "      <td>广州</td>\n",
       "      <td>30000.00</td>\n",
       "      <td>50000.0</td>\n",
       "    </tr>\n",
       "    <tr>\n",
       "      <th>66765</th>\n",
       "      <td>会员商城运营管理师</td>\n",
       "      <td>统一企业（中国）投资有限公司</td>\n",
       "      <td>上海</td>\n",
       "      <td>8000.00</td>\n",
       "      <td>16000.0</td>\n",
       "    </tr>\n",
       "  </tbody>\n",
       "</table>\n",
       "<p>66766 rows × 5 columns</p>\n",
       "</div>"
      ],
      "text/plain": [
       "                       job              company city  salary_min  salary_max\n",
       "0               金融数据分析师/助理  华壹信融投资管理（北京）有限责任...   北京     8333.33     12500.0\n",
       "1      a（0经验可培养）金融数据分析师/助理         深圳市中创荣投资有限公司   深圳     8000.00     10000.0\n",
       "2            初级运营数据分析专员 助理       知才（上海）信息技术有限公司   上海     6000.00      8000.0\n",
       "3                   销售数据分析      上海品星互联网信息技术有限公司   北京     5000.00      9000.0\n",
       "4                   数据分析经理                  美菜网   上海    13000.00     17000.0\n",
       "...                    ...                  ...  ...         ...         ...\n",
       "66761                运营支持岗        九州通医药集团物流有限公司   武汉     3000.00      5000.0\n",
       "66762              新媒体运营专员  深圳市摩天之星企业管理有限公司龙...   深圳     8000.00     10000.0\n",
       "66763               电商运营总监         福建特家商业管理有限公司   广州    20000.00     30000.0\n",
       "66764              总经理/CEO         福建特家商业管理有限公司   广州    30000.00     50000.0\n",
       "66765            会员商城运营管理师       统一企业（中国）投资有限公司   上海     8000.00     16000.0\n",
       "\n",
       "[66766 rows x 5 columns]"
      ]
     },
     "execution_count": 54,
     "metadata": {},
     "output_type": "execute_result"
    }
   ],
   "source": [
    "# DataFrame.drop_duplicates(subset=['A','B'],keep='first',inplace=True)\n",
    "# subset用来指定特定的列，字符串或者列表类型；默认所有列，即默认全字段去重；\n",
    "# inplace字段同上。这里我们以job和company字段进行联合去重，即我们认为同一公司的同一职位只招聘一次：\n",
    "jobs.drop_duplicates(subset=['job', 'company'], keep='first')"
   ]
  },
  {
   "cell_type": "code",
   "execution_count": 59,
   "metadata": {
    "collapsed": false,
    "jupyter": {
     "outputs_hidden": false
    },
    "pycharm": {
     "is_executing": false,
     "name": "#%%\n"
    }
   },
   "outputs": [
    {
     "data": {
      "text/plain": [
       "1100.0"
      ]
     },
     "execution_count": 59,
     "metadata": {},
     "output_type": "execute_result"
    }
   ],
   "source": [
    "# 查看中位数\n",
    "np.percentile(jobs['salary_min'].dropna().values, 50)\n",
    "# 查看TOP 10%\n",
    "np.percentile(jobs['salary_min'].dropna().values, 90)\n",
    "# 查看TOP 1%\n",
    "np.percentile(jobs['salary_min'].dropna().values, 99)\n",
    "# 查看最大值\n",
    "jobs['salary_min'].max()\n",
    "# 查看最小值\n",
    "jobs['salary_min'].min()"
   ]
  },
  {
   "cell_type": "code",
   "execution_count": 63,
   "metadata": {
    "collapsed": false,
    "jupyter": {
     "outputs_hidden": false
    },
    "pycharm": {
     "is_executing": false,
     "name": "#%%\n"
    }
   },
   "outputs": [
    {
     "data": {
      "text/plain": [
       "1.2459869483634876"
      ]
     },
     "execution_count": 63,
     "metadata": {},
     "output_type": "execute_result"
    }
   ],
   "source": [
    "# 计算标准差\n",
    "jobs['salary_min'].std()\n",
    "# 计算均值\n",
    "jobs['salary_min'].mean()\n",
    "# 计算最大值的偏离程度\n",
    "(jobs['salary_min'].max() -\n",
    " jobs['salary_min'].mean()) / jobs['salary_min'].std()\n",
    "# 计算最小值的偏离程度\n",
    "(jobs['salary_min'].mean() -\n",
    " jobs['salary_min'].min()) / jobs['salary_min'].std()"
   ]
  }
 ],
 "metadata": {
  "kernelspec": {
   "display_name": "Python 3",
   "language": "python",
   "name": "python3"
  },
  "language_info": {
   "codemirror_mode": {
    "name": "ipython",
    "version": 3
   },
   "file_extension": ".py",
   "mimetype": "text/x-python",
   "name": "python",
   "nbconvert_exporter": "python",
   "pygments_lexer": "ipython3",
   "version": "3.7.6"
  },
  "pycharm": {
   "stem_cell": {
    "cell_type": "raw",
    "metadata": {
     "collapsed": false
    },
    "source": []
   }
  }
 },
 "nbformat": 4,
 "nbformat_minor": 4
}