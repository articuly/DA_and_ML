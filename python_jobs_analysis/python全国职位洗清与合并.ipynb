{
 "cells": [
  {
   "cell_type": "markdown",
   "metadata": {},
   "source": [
    "## 数据读取"
   ]
  },
  {
   "cell_type": "code",
   "execution_count": 1,
   "metadata": {},
   "outputs": [],
   "source": [
    "import re\n",
    "import numpy as np\n",
    "import pandas as pd\n",
    "import matplotlib.pyplot as plt\n",
    "#%atplotlib inline\n",
    "import warnings\n",
    "warnings.filterwarnings('ignore')\n",
    "\n",
    "plt.rcParams['font.sans-serif'] = ['SimHei']  #用来正常显示中文标签\n",
    "plt.rcParams['axes.unicode_minus'] = False  #用来正常显示负号"
   ]
  },
  {
   "cell_type": "code",
   "execution_count": 45,
   "metadata": {},
   "outputs": [
    {
     "data": {
      "text/html": [
       "<div>\n",
       "<style scoped>\n",
       "    .dataframe tbody tr th:only-of-type {\n",
       "        vertical-align: middle;\n",
       "    }\n",
       "\n",
       "    .dataframe tbody tr th {\n",
       "        vertical-align: top;\n",
       "    }\n",
       "\n",
       "    .dataframe thead th {\n",
       "        text-align: right;\n",
       "    }\n",
       "</style>\n",
       "<table border=\"1\" class=\"dataframe\">\n",
       "  <thead>\n",
       "    <tr style=\"text-align: right;\">\n",
       "      <th></th>\n",
       "      <th>job_name</th>\n",
       "      <th>job_salary</th>\n",
       "      <th>job_info</th>\n",
       "      <th>job_stars</th>\n",
       "      <th>job_category</th>\n",
       "      <th>job_description</th>\n",
       "      <th>job_contact</th>\n",
       "      <th>company_name</th>\n",
       "      <th>company_type</th>\n",
       "      <th>company_size</th>\n",
       "      <th>company_industry</th>\n",
       "      <th>company_introduction</th>\n",
       "      <th>job_link</th>\n",
       "      <th>company_url</th>\n",
       "    </tr>\n",
       "  </thead>\n",
       "  <tbody>\n",
       "    <tr>\n",
       "      <th>0</th>\n",
       "      <td>python工程化</td>\n",
       "      <td>1.2-1.8万/月</td>\n",
       "      <td>上海-徐汇区  |  5-7年经验  |  大专  |  招5人  |  09-06发布</td>\n",
       "      <td>五险一金,员工旅游,专业培训,年终奖金,定期体检</td>\n",
       "      <td>其他</td>\n",
       "      <td>岗位职责：,1. 对相关需求进行分析；,2. 利用python进行数据处理及数据分析,需求描述：</td>\n",
       "      <td>上海徐汇区凯宾路206号上海平安大厦</td>\n",
       "      <td>深圳市网新新思软件有限公司</td>\n",
       "      <td>民营公司</td>\n",
       "      <td>1000-5000人</td>\n",
       "      <td>计算机服务(系统、数据服务、维修)</td>\n",
       "      <td>浙大网新 www.insigma.com.cn （上证600797）创立于2001年9月，是...</td>\n",
       "      <td>https://jobs.51job.com/shanghai-xhq/125213120....</td>\n",
       "      <td>https://jobs.51job.com/all/co3749227.html</td>\n",
       "    </tr>\n",
       "    <tr>\n",
       "      <th>1</th>\n",
       "      <td>Python开发工程师</td>\n",
       "      <td>6-8千/月</td>\n",
       "      <td>深圳-福田区  |  1年经验  |  大专  |  招若干人  |  09-06发布</td>\n",
       "      <td>五险一金,专业培训,周末双休,节日活动,员工旅游</td>\n",
       "      <td>Python开发工程师,软件工程师</td>\n",
       "      <td>Python开发工程师 6k-8k,工作职责：,1.   独立完成软件系统代码的设计与实现；...</td>\n",
       "      <td>中康路奥士达大厦</td>\n",
       "      <td>深圳法通科技有限公司</td>\n",
       "      <td>民营公司</td>\n",
       "      <td>50-150人</td>\n",
       "      <td>计算机软件\\r\\n                                    计...</td>\n",
       "      <td>法通科技有限公司自创立时起就以为律师、律所等法律服务机构创设个人网站为业务内容，是被客户们评...</td>\n",
       "      <td>https://jobs.51job.com/shenzhen-ftq/124187571....</td>\n",
       "      <td>https://jobs.51job.com/all/co2779692.html</td>\n",
       "    </tr>\n",
       "    <tr>\n",
       "      <th>2</th>\n",
       "      <td>软件测试工程师(python)12k</td>\n",
       "      <td>1.2-1.3万/月</td>\n",
       "      <td>上海-徐汇区  |  1年经验  |  本科  |  招若干人  |  09-06发布</td>\n",
       "      <td>NaN</td>\n",
       "      <td>功能测试,性能测试</td>\n",
       "      <td>? 负责执行测试计划和维护自动化测试，开发测试用例； ,? 配合开发团队及时跟踪、分析、解决...</td>\n",
       "      <td>汇京国际广场</td>\n",
       "      <td>上海陟明信息技术有限责任公司</td>\n",
       "      <td>民营公司</td>\n",
       "      <td>50-150人</td>\n",
       "      <td>计算机服务(系统、数据服务、维修)</td>\n",
       "      <td>上海陟明信息技术有限责任公司成立于2018年，注册资金5000万***。公司致力于深刻了解客...</td>\n",
       "      <td>https://jobs.51job.com/shanghai-xhq/125096516....</td>\n",
       "      <td>https://jobs.51job.com/all/co5529077.html</td>\n",
       "    </tr>\n",
       "    <tr>\n",
       "      <th>3</th>\n",
       "      <td>C++,Python编程猫教师(北滘）</td>\n",
       "      <td>0.6-1万/月</td>\n",
       "      <td>佛山-顺德区  |  1年经验  |  本科  |  招3人  |  09-06发布  | ...</td>\n",
       "      <td>五险一金,弹性工作,专业培训,绩效奖金,年终奖金,股票期权,暑假,寒假,员工旅游</td>\n",
       "      <td>储备干部,小学教师</td>\n",
       "      <td>岗位职责：,1.按照编程猫总部课件,每周备课,练课,完成每周教学工作.,2.跟学员和学员家长...</td>\n",
       "      <td>北滘镇悦然广场二八印象二楼</td>\n",
       "      <td>佛山市蒂帕文化传播有限公司</td>\n",
       "      <td>民营公司</td>\n",
       "      <td>50-150人</td>\n",
       "      <td>教育/培训/院校</td>\n",
       "      <td>编程猫是目前国内最受欢迎的少儿编程教育平台,平台依据少儿学习特点与中国现代教育理念来设计,采...</td>\n",
       "      <td>https://jobs.51job.com/foshan-sdq/123994492.ht...</td>\n",
       "      <td>https://jobs.51job.com/all/co4168501.html</td>\n",
       "    </tr>\n",
       "    <tr>\n",
       "      <th>4</th>\n",
       "      <td>Python实习生</td>\n",
       "      <td>4.5-6千/月</td>\n",
       "      <td>苏州-工业园区  |  在校生/应届生  |  大专  |  招4人  |  09-06发布</td>\n",
       "      <td>做五休二,周末双休,带薪年假,交通补贴,绩效奖金</td>\n",
       "      <td>软件工程师</td>\n",
       "      <td>【工作内容】,1. 从事公司的软件项目 软件产品的研发；,2. 其他相关技术、研发工作；,【...</td>\n",
       "      <td>工业园区</td>\n",
       "      <td>苏州华佩科技有限公司</td>\n",
       "      <td>民营公司</td>\n",
       "      <td>少于50人</td>\n",
       "      <td>计算机软件</td>\n",
       "      <td>我司致力于网络技术的技术开发、专业的设计服务。在程序语言的基础上，生成一系列的虚拟图片，图像...</td>\n",
       "      <td>https://jobs.51job.com/suzhou-gyyq/123266467.h...</td>\n",
       "      <td>https://jobs.51job.com/all/co5836820.html</td>\n",
       "    </tr>\n",
       "  </tbody>\n",
       "</table>\n",
       "</div>"
      ],
      "text/plain": [
       "              job_name  job_salary  \\\n",
       "0            python工程化  1.2-1.8万/月   \n",
       "1          Python开发工程师      6-8千/月   \n",
       "2   软件测试工程师(python)12k  1.2-1.3万/月   \n",
       "3  C++,Python编程猫教师(北滘）    0.6-1万/月   \n",
       "4            Python实习生    4.5-6千/月   \n",
       "\n",
       "                                            job_info  \\\n",
       "0       上海-徐汇区  |  5-7年经验  |  大专  |  招5人  |  09-06发布   \n",
       "1        深圳-福田区  |  1年经验  |  大专  |  招若干人  |  09-06发布   \n",
       "2        上海-徐汇区  |  1年经验  |  本科  |  招若干人  |  09-06发布   \n",
       "3  佛山-顺德区  |  1年经验  |  本科  |  招3人  |  09-06发布  | ...   \n",
       "4     苏州-工业园区  |  在校生/应届生  |  大专  |  招4人  |  09-06发布   \n",
       "\n",
       "                                  job_stars       job_category  \\\n",
       "0                  五险一金,员工旅游,专业培训,年终奖金,定期体检                 其他   \n",
       "1                  五险一金,专业培训,周末双休,节日活动,员工旅游  Python开发工程师,软件工程师   \n",
       "2                                       NaN          功能测试,性能测试   \n",
       "3  五险一金,弹性工作,专业培训,绩效奖金,年终奖金,股票期权,暑假,寒假,员工旅游          储备干部,小学教师   \n",
       "4                  做五休二,周末双休,带薪年假,交通补贴,绩效奖金              软件工程师   \n",
       "\n",
       "                                     job_description         job_contact  \\\n",
       "0   岗位职责：,1. 对相关需求进行分析；,2. 利用python进行数据处理及数据分析,需求描述：  上海徐汇区凯宾路206号上海平安大厦   \n",
       "1  Python开发工程师 6k-8k,工作职责：,1.   独立完成软件系统代码的设计与实现；...            中康路奥士达大厦   \n",
       "2  ? 负责执行测试计划和维护自动化测试，开发测试用例； ,? 配合开发团队及时跟踪、分析、解决...              汇京国际广场   \n",
       "3  岗位职责：,1.按照编程猫总部课件,每周备课,练课,完成每周教学工作.,2.跟学员和学员家长...       北滘镇悦然广场二八印象二楼   \n",
       "4  【工作内容】,1. 从事公司的软件项目 软件产品的研发；,2. 其他相关技术、研发工作；,【...                工业园区   \n",
       "\n",
       "     company_name company_type company_size  \\\n",
       "0   深圳市网新新思软件有限公司         民营公司   1000-5000人   \n",
       "1      深圳法通科技有限公司         民营公司      50-150人   \n",
       "2  上海陟明信息技术有限责任公司         民营公司      50-150人   \n",
       "3   佛山市蒂帕文化传播有限公司         民营公司      50-150人   \n",
       "4      苏州华佩科技有限公司         民营公司        少于50人   \n",
       "\n",
       "                                    company_industry  \\\n",
       "0                                  计算机服务(系统、数据服务、维修)   \n",
       "1  计算机软件\\r\\n                                    计...   \n",
       "2                                  计算机服务(系统、数据服务、维修)   \n",
       "3                                           教育/培训/院校   \n",
       "4                                              计算机软件   \n",
       "\n",
       "                                company_introduction  \\\n",
       "0  浙大网新 www.insigma.com.cn （上证600797）创立于2001年9月，是...   \n",
       "1  法通科技有限公司自创立时起就以为律师、律所等法律服务机构创设个人网站为业务内容，是被客户们评...   \n",
       "2  上海陟明信息技术有限责任公司成立于2018年，注册资金5000万***。公司致力于深刻了解客...   \n",
       "3  编程猫是目前国内最受欢迎的少儿编程教育平台,平台依据少儿学习特点与中国现代教育理念来设计,采...   \n",
       "4  我司致力于网络技术的技术开发、专业的设计服务。在程序语言的基础上，生成一系列的虚拟图片，图像...   \n",
       "\n",
       "                                            job_link  \\\n",
       "0  https://jobs.51job.com/shanghai-xhq/125213120....   \n",
       "1  https://jobs.51job.com/shenzhen-ftq/124187571....   \n",
       "2  https://jobs.51job.com/shanghai-xhq/125096516....   \n",
       "3  https://jobs.51job.com/foshan-sdq/123994492.ht...   \n",
       "4  https://jobs.51job.com/suzhou-gyyq/123266467.h...   \n",
       "\n",
       "                                 company_url  \n",
       "0  https://jobs.51job.com/all/co3749227.html  \n",
       "1  https://jobs.51job.com/all/co2779692.html  \n",
       "2  https://jobs.51job.com/all/co5529077.html  \n",
       "3  https://jobs.51job.com/all/co4168501.html  \n",
       "4  https://jobs.51job.com/all/co5836820.html  "
      ]
     },
     "execution_count": 45,
     "metadata": {},
     "output_type": "execute_result"
    }
   ],
   "source": [
    "df = pd.read_csv('python_jobs_all_0918.csv',\n",
    "                 names=[\n",
    "                     'job_name', 'job_salary', 'job_info', 'job_stars',\n",
    "                     'job_category', 'job_description', 'job_contact',\n",
    "                     'company_name', 'company_type', 'company_size',\n",
    "                     'company_industry', 'company_introduction', 'job_link',\n",
    "                     'company_url'\n",
    "                 ])\n",
    "df.head()"
   ]
  },
  {
   "cell_type": "code",
   "execution_count": 46,
   "metadata": {},
   "outputs": [
    {
     "data": {
      "text/plain": [
       "(58344, 14)"
      ]
     },
     "execution_count": 46,
     "metadata": {},
     "output_type": "execute_result"
    }
   ],
   "source": [
    "df.shape"
   ]
  },
  {
   "cell_type": "code",
   "execution_count": 47,
   "metadata": {},
   "outputs": [
    {
     "data": {
      "text/plain": [
       "job_name                   0\n",
       "job_salary                 0\n",
       "job_info                   0\n",
       "job_stars               9300\n",
       "job_category               2\n",
       "job_description         5877\n",
       "job_contact                0\n",
       "company_name               0\n",
       "company_type              18\n",
       "company_size             460\n",
       "company_industry           0\n",
       "company_introduction       0\n",
       "job_link                   0\n",
       "company_url                0\n",
       "dtype: int64"
      ]
     },
     "execution_count": 47,
     "metadata": {},
     "output_type": "execute_result"
    }
   ],
   "source": [
    "df.isnull().sum()"
   ]
  },
  {
   "cell_type": "code",
   "execution_count": 48,
   "metadata": {},
   "outputs": [
    {
     "data": {
      "text/plain": [
       "job_name                0.000000\n",
       "job_salary              0.000000\n",
       "job_info                0.000000\n",
       "job_stars               0.189626\n",
       "job_category            0.000034\n",
       "job_description         0.112013\n",
       "job_contact             0.000000\n",
       "company_name            0.000000\n",
       "company_type            0.000309\n",
       "company_size            0.007947\n",
       "company_industry        0.000000\n",
       "company_introduction    0.000000\n",
       "job_link                0.000000\n",
       "company_url             0.000000\n",
       "dtype: float64"
      ]
     },
     "execution_count": 48,
     "metadata": {},
     "output_type": "execute_result"
    }
   ],
   "source": [
    "df.isnull().sum()/df.count()"
   ]
  },
  {
   "cell_type": "markdown",
   "metadata": {},
   "source": [
    "## 数据清洗"
   ]
  },
  {
   "cell_type": "code",
   "execution_count": 49,
   "metadata": {},
   "outputs": [],
   "source": [
    "# 删除联系方式，工作和公司链接的列，只作为分析之外使用\n",
    "df = df.drop(['job_contact', 'job_link', 'company_url'], axis=1)"
   ]
  },
  {
   "cell_type": "code",
   "execution_count": 50,
   "metadata": {},
   "outputs": [],
   "source": [
    "# 数据在不同天采集，有重复，要删除\n",
    "df = df.drop_duplicates(subset=['job_name', 'company_name'], keep='last')"
   ]
  },
  {
   "cell_type": "code",
   "execution_count": 51,
   "metadata": {},
   "outputs": [],
   "source": [
    "# 去掉按天，按时计薪的工作\n",
    "df = df[~df['job_salary'].str.endswith('元/天')]\n",
    "df = df[~df['job_salary'].str.endswith('元/小时')]\n",
    "df = df[~df['job_salary'].str.endswith('万以上/月')]"
   ]
  },
  {
   "cell_type": "code",
   "execution_count": 52,
   "metadata": {},
   "outputs": [],
   "source": [
    "# 区分薪酬区间\n",
    "df['min_salary'] = 1\n",
    "df['max_salary'] = 1"
   ]
  },
  {
   "cell_type": "code",
   "execution_count": 53,
   "metadata": {},
   "outputs": [],
   "source": [
    "# 处理薪酬的函数\n",
    "def parse_salary(sr):\n",
    "    if sr.endswith('万/年'):\n",
    "        sr = sr.replace('万/年', '')\n",
    "        min_salary, max_salary = sr.split('-')\n",
    "        min_salary = round(float(min_salary) * 10000 / 12)\n",
    "        max_salary = round(float(max_salary) * 10000 / 12)\n",
    "        return min_salary, max_salary\n",
    "    elif sr.endswith('万/月'):\n",
    "        sr = sr.replace('万/月', '')\n",
    "        min_salary, max_salary = sr.split('-')\n",
    "        min_salary = round(float(min_salary) * 10000)\n",
    "        max_salary = round(float(max_salary) * 10000)\n",
    "        return min_salary, max_salary\n",
    "    elif sr.endswith('千/月'):\n",
    "        sr = sr.replace('千/月', '')\n",
    "        min_salary, max_salary = sr.split('-')\n",
    "        min_salary = round(float(min_salary) * 1000)\n",
    "        max_salary = round(float(max_salary) * 1000)\n",
    "        return min_salary, max_salary\n",
    "    else:\n",
    "        return np.nan, np.nan"
   ]
  },
  {
   "cell_type": "code",
   "execution_count": 54,
   "metadata": {},
   "outputs": [],
   "source": [
    "# 得到薪酬区间\n",
    "temp_df = df['job_salary'].apply(parse_salary)\n",
    "\n",
    "df['min_salary'] = temp_df.apply(lambda x: x[0])\n",
    "df['max_salary'] = temp_df.apply(lambda x: x[1])"
   ]
  },
  {
   "cell_type": "code",
   "execution_count": 55,
   "metadata": {},
   "outputs": [
    {
     "data": {
      "text/html": [
       "<div>\n",
       "<style scoped>\n",
       "    .dataframe tbody tr th:only-of-type {\n",
       "        vertical-align: middle;\n",
       "    }\n",
       "\n",
       "    .dataframe tbody tr th {\n",
       "        vertical-align: top;\n",
       "    }\n",
       "\n",
       "    .dataframe thead th {\n",
       "        text-align: right;\n",
       "    }\n",
       "</style>\n",
       "<table border=\"1\" class=\"dataframe\">\n",
       "  <thead>\n",
       "    <tr style=\"text-align: right;\">\n",
       "      <th></th>\n",
       "      <th>job_name</th>\n",
       "      <th>job_info</th>\n",
       "      <th>job_stars</th>\n",
       "      <th>job_category</th>\n",
       "      <th>job_description</th>\n",
       "      <th>company_name</th>\n",
       "      <th>company_type</th>\n",
       "      <th>company_size</th>\n",
       "      <th>company_industry</th>\n",
       "      <th>company_introduction</th>\n",
       "      <th>min_salary</th>\n",
       "      <th>max_salary</th>\n",
       "    </tr>\n",
       "  </thead>\n",
       "  <tbody>\n",
       "    <tr>\n",
       "      <th>58305</th>\n",
       "      <td>系统测试工程师</td>\n",
       "      <td>深圳-南山区  |  3-4年经验  |  本科  |  招1人  |  09-18发布</td>\n",
       "      <td>五险一金,员工旅游,股票期权,专业培训,定期体检,补充医疗保险,年终奖金,绩效奖金,弹性工作...</td>\n",
       "      <td>系统测试,测试工程师</td>\n",
       "      <td>1、独立负责智能终端产品的系统测试；,2、制定测试计划、编写测试用例，跟进问题解决进度；,3...</td>\n",
       "      <td>深圳瑞为智能科技有限公司</td>\n",
       "      <td>民营公司</td>\n",
       "      <td>150-500人</td>\n",
       "      <td>计算机软件</td>\n",
       "      <td>厦门瑞为信息技术有限公司（瑞为技术）是厦门市政府“双百计划”首批重点引进企业，成立于2012...</td>\n",
       "      <td>12000.0</td>\n",
       "      <td>18000.0</td>\n",
       "    </tr>\n",
       "    <tr>\n",
       "      <th>46436</th>\n",
       "      <td>运维工程师</td>\n",
       "      <td>杭州-西湖区  |  2年经验  |  本科  |  招3人  |  09-17发布</td>\n",
       "      <td>周末双休,带薪年假,五险一金,高温补贴,交通补贴,餐饮补贴,做五休二,加班补贴</td>\n",
       "      <td>技术支持/维护工程师,技术支持/维护经理</td>\n",
       "      <td>岗位职责:,1、负责Linux各版本系统的安装部署、性能调优、运行管理以及日常的系统维护；,...</td>\n",
       "      <td>上海浦东华宇信息技术有限公司</td>\n",
       "      <td>民营公司</td>\n",
       "      <td>150-500人</td>\n",
       "      <td>计算机软件\\r\\n                                    计...</td>\n",
       "      <td>上海浦东华宇信息技术有限公司（以下简称浦东华宇）是北京华宇软件股份有限公司的全资子公司（公司...</td>\n",
       "      <td>10000.0</td>\n",
       "      <td>20000.0</td>\n",
       "    </tr>\n",
       "    <tr>\n",
       "      <th>53795</th>\n",
       "      <td>Python开发</td>\n",
       "      <td>东莞-南城区  |  在校生/应届生  |  大专  |  招若干人  |  09-18发布</td>\n",
       "      <td>NaN</td>\n",
       "      <td>Python开发工程师</td>\n",
       "      <td>岗位职责：,      1、主要负责Web开发和维护，会涉及到小部分爬虫和脚本的开发...</td>\n",
       "      <td>成都启锋科技有限公司</td>\n",
       "      <td>民营公司</td>\n",
       "      <td>150-500人</td>\n",
       "      <td>专业服务(咨询、人力资源、财会)\\r\\n                          ...</td>\n",
       "      <td>成都启锋科技有限公司成立于2014年，由广西红色旗帜旅游发展有限公司投资设立。启锋科技始终坚...</td>\n",
       "      <td>6000.0</td>\n",
       "      <td>11000.0</td>\n",
       "    </tr>\n",
       "    <tr>\n",
       "      <th>56224</th>\n",
       "      <td>大数据专业老师</td>\n",
       "      <td>邓州  |  3-4年经验  |  本科  |  招2人  |  09-18发布</td>\n",
       "      <td>周末双休,交通补贴,餐饮补贴,员工旅游</td>\n",
       "      <td>其他,培训讲师</td>\n",
       "      <td>1、负责大数据专业日常授课工作，承担一门或多门课程教学以及教学资料编制；,2、负责校区教学资...</td>\n",
       "      <td>无锡中兴教育管理有限公司</td>\n",
       "      <td>民营公司</td>\n",
       "      <td>150-500人</td>\n",
       "      <td>教育/培训/院校\\r\\n                                  ...</td>\n",
       "      <td>无锡中兴教育管理有限公司专注于高等院校产教融合领域的教育服务，致力于成为业内领先的ICT产业...</td>\n",
       "      <td>6000.0</td>\n",
       "      <td>11000.0</td>\n",
       "    </tr>\n",
       "    <tr>\n",
       "      <th>33424</th>\n",
       "      <td>网站运营专员</td>\n",
       "      <td>广州-南沙区  |  3-4年经验  |  本科  |  招1人  |  09-14发布</td>\n",
       "      <td>五险一金,员工旅游,年终奖金,绩效奖金,弹性工作,定期体检,15天带薪年假</td>\n",
       "      <td>网站运营专员</td>\n",
       "      <td>岗位职责：</td>\n",
       "      <td>点金互联网科技（广州）有限公司</td>\n",
       "      <td>外资（非欧美）</td>\n",
       "      <td>50-150人</td>\n",
       "      <td>互联网/电子商务\\r\\n                                  ...</td>\n",
       "      <td>点金互联网科技（广州）有限公司——综合矿务解决方案提供商。点金互联网成立于2018年，位于广...</td>\n",
       "      <td>6000.0</td>\n",
       "      <td>8000.0</td>\n",
       "    </tr>\n",
       "  </tbody>\n",
       "</table>\n",
       "</div>"
      ],
      "text/plain": [
       "       job_name                                        job_info  \\\n",
       "58305   系统测试工程师    深圳-南山区  |  3-4年经验  |  本科  |  招1人  |  09-18发布   \n",
       "46436     运维工程师      杭州-西湖区  |  2年经验  |  本科  |  招3人  |  09-17发布   \n",
       "53795  Python开发  东莞-南城区  |  在校生/应届生  |  大专  |  招若干人  |  09-18发布   \n",
       "56224   大数据专业老师        邓州  |  3-4年经验  |  本科  |  招2人  |  09-18发布   \n",
       "33424    网站运营专员    广州-南沙区  |  3-4年经验  |  本科  |  招1人  |  09-14发布   \n",
       "\n",
       "                                               job_stars  \\\n",
       "58305  五险一金,员工旅游,股票期权,专业培训,定期体检,补充医疗保险,年终奖金,绩效奖金,弹性工作...   \n",
       "46436            周末双休,带薪年假,五险一金,高温补贴,交通补贴,餐饮补贴,做五休二,加班补贴   \n",
       "53795                                                NaN   \n",
       "56224                                周末双休,交通补贴,餐饮补贴,员工旅游   \n",
       "33424              五险一金,员工旅游,年终奖金,绩效奖金,弹性工作,定期体检,15天带薪年假   \n",
       "\n",
       "               job_category  \\\n",
       "58305            系统测试,测试工程师   \n",
       "46436  技术支持/维护工程师,技术支持/维护经理   \n",
       "53795           Python开发工程师   \n",
       "56224               其他,培训讲师   \n",
       "33424                网站运营专员   \n",
       "\n",
       "                                         job_description     company_name  \\\n",
       "58305  1、独立负责智能终端产品的系统测试；,2、制定测试计划、编写测试用例，跟进问题解决进度；,3...     深圳瑞为智能科技有限公司   \n",
       "46436  岗位职责:,1、负责Linux各版本系统的安装部署、性能调优、运行管理以及日常的系统维护；,...   上海浦东华宇信息技术有限公司   \n",
       "53795      岗位职责：,      1、主要负责Web开发和维护，会涉及到小部分爬虫和脚本的开发...       成都启锋科技有限公司   \n",
       "56224  1、负责大数据专业日常授课工作，承担一门或多门课程教学以及教学资料编制；,2、负责校区教学资...     无锡中兴教育管理有限公司   \n",
       "33424                                              岗位职责：  点金互联网科技（广州）有限公司   \n",
       "\n",
       "      company_type company_size  \\\n",
       "58305         民营公司     150-500人   \n",
       "46436         民营公司     150-500人   \n",
       "53795         民营公司     150-500人   \n",
       "56224         民营公司     150-500人   \n",
       "33424      外资（非欧美）      50-150人   \n",
       "\n",
       "                                        company_industry  \\\n",
       "58305                                              计算机软件   \n",
       "46436  计算机软件\\r\\n                                    计...   \n",
       "53795  专业服务(咨询、人力资源、财会)\\r\\n                          ...   \n",
       "56224  教育/培训/院校\\r\\n                                  ...   \n",
       "33424  互联网/电子商务\\r\\n                                  ...   \n",
       "\n",
       "                                    company_introduction  min_salary  \\\n",
       "58305  厦门瑞为信息技术有限公司（瑞为技术）是厦门市政府“双百计划”首批重点引进企业，成立于2012...     12000.0   \n",
       "46436  上海浦东华宇信息技术有限公司（以下简称浦东华宇）是北京华宇软件股份有限公司的全资子公司（公司...     10000.0   \n",
       "53795  成都启锋科技有限公司成立于2014年，由广西红色旗帜旅游发展有限公司投资设立。启锋科技始终坚...      6000.0   \n",
       "56224  无锡中兴教育管理有限公司专注于高等院校产教融合领域的教育服务，致力于成为业内领先的ICT产业...      6000.0   \n",
       "33424  点金互联网科技（广州）有限公司——综合矿务解决方案提供商。点金互联网成立于2018年，位于广...      6000.0   \n",
       "\n",
       "       max_salary  \n",
       "58305     18000.0  \n",
       "46436     20000.0  \n",
       "53795     11000.0  \n",
       "56224     11000.0  \n",
       "33424      8000.0  "
      ]
     },
     "execution_count": 55,
     "metadata": {},
     "output_type": "execute_result"
    }
   ],
   "source": [
    "df = df.drop('job_salary', axis=1)\n",
    "df.sample(5)"
   ]
  },
  {
   "cell_type": "code",
   "execution_count": 56,
   "metadata": {},
   "outputs": [],
   "source": [
    "# 中位数薪酬更有参考意义\n",
    "df['mid_salary'] = (df['min_salary'] + df['max_salary']) / 2"
   ]
  },
  {
   "cell_type": "code",
   "execution_count": 57,
   "metadata": {},
   "outputs": [],
   "source": [
    "# 处理工作基本信息的函数\n",
    "def parse_info(sr):\n",
    "    lst = sr.split('|')\n",
    "    place = lst[0].strip()\n",
    "    exp_years = lst[1].strip()\n",
    "    education = lst[2].strip()\n",
    "    return place, exp_years, education"
   ]
  },
  {
   "cell_type": "code",
   "execution_count": 58,
   "metadata": {},
   "outputs": [],
   "source": [
    "# 得到工作地，工作经验，学历要求信息\n",
    "temp_df = df['job_info'].apply(parse_info)\n",
    "\n",
    "df['place'] = temp_df.apply(lambda x: x[0])\n",
    "df['exp_years'] = temp_df.apply(lambda x: x[1])\n",
    "df['education'] = temp_df.apply(lambda x: x[2])"
   ]
  },
  {
   "cell_type": "code",
   "execution_count": 59,
   "metadata": {},
   "outputs": [],
   "source": [
    "# 有些信息错位，要再处理\n",
    "df['exp_years'] = df['exp_years'].str.replace(r'招.+', 'NA')\n",
    "df['exp_years'] = df['exp_years'].str.replace(r'本科|大专|硕士|博士', 'NA')\n",
    "\n",
    "df['education'] = df['education'].str.replace(r'招.+', 'NA')\n",
    "df['education'] = df['education'].str.replace(r'.*?发布', 'NA')"
   ]
  },
  {
   "cell_type": "code",
   "execution_count": 60,
   "metadata": {},
   "outputs": [
    {
     "data": {
      "text/html": [
       "<div>\n",
       "<style scoped>\n",
       "    .dataframe tbody tr th:only-of-type {\n",
       "        vertical-align: middle;\n",
       "    }\n",
       "\n",
       "    .dataframe tbody tr th {\n",
       "        vertical-align: top;\n",
       "    }\n",
       "\n",
       "    .dataframe thead th {\n",
       "        text-align: right;\n",
       "    }\n",
       "</style>\n",
       "<table border=\"1\" class=\"dataframe\">\n",
       "  <thead>\n",
       "    <tr style=\"text-align: right;\">\n",
       "      <th></th>\n",
       "      <th>job_name</th>\n",
       "      <th>job_stars</th>\n",
       "      <th>job_category</th>\n",
       "      <th>job_description</th>\n",
       "      <th>company_name</th>\n",
       "      <th>company_type</th>\n",
       "      <th>company_size</th>\n",
       "      <th>company_industry</th>\n",
       "      <th>company_introduction</th>\n",
       "      <th>min_salary</th>\n",
       "      <th>max_salary</th>\n",
       "      <th>mid_salary</th>\n",
       "      <th>place</th>\n",
       "      <th>exp_years</th>\n",
       "      <th>education</th>\n",
       "    </tr>\n",
       "  </thead>\n",
       "  <tbody>\n",
       "    <tr>\n",
       "      <th>56300</th>\n",
       "      <td>技术开发经理</td>\n",
       "      <td>五险一金,交通补贴,餐饮补贴,专业培训,周末双休,节日福利</td>\n",
       "      <td>技术研发经理/主管</td>\n",
       "      <td>岗位职责,任职要求：,、本科及以上学历，,年及以上开发工作经验（至少两年管理经验），有,、,...</td>\n",
       "      <td>上海英内物联网科技股份有限公司</td>\n",
       "      <td>上市公司</td>\n",
       "      <td>500-1000人</td>\n",
       "      <td>电子技术/半导体/集成电路</td>\n",
       "      <td>上海英内物联网科技股份有限公司上海英内物联网科技股份有限公司是国内首家专业从事RFID标签天...</td>\n",
       "      <td>15000.0</td>\n",
       "      <td>25000.0</td>\n",
       "      <td>20000.0</td>\n",
       "      <td>上海</td>\n",
       "      <td>5-7年经验</td>\n",
       "      <td>本科</td>\n",
       "    </tr>\n",
       "    <tr>\n",
       "      <th>58179</th>\n",
       "      <td>数据开发工程师</td>\n",
       "      <td>弹性工作,专业培训</td>\n",
       "      <td>大数据开发工程师</td>\n",
       "      <td>岗位描述：,1、负责实时或批量数据处理开发 ,2、参与数据应用或解决方案包的开发 ,3、编写...</td>\n",
       "      <td>数云信息技术（上海）有限公司</td>\n",
       "      <td>民营公司</td>\n",
       "      <td>150-500人</td>\n",
       "      <td>计算机软件\\r\\n                                    互...</td>\n",
       "      <td>杭州数云信息技术有限公司作为国内优秀的全域CRM产品和数据化营销服务提供商，秉承“让营销更有...</td>\n",
       "      <td>12000.0</td>\n",
       "      <td>17000.0</td>\n",
       "      <td>14500.0</td>\n",
       "      <td>上海</td>\n",
       "      <td>2年经验</td>\n",
       "      <td>本科</td>\n",
       "    </tr>\n",
       "    <tr>\n",
       "      <th>55640</th>\n",
       "      <td>数字金融平台开发工程师</td>\n",
       "      <td>五险一金,补充医疗保险,带薪年假,全勤奖,节日福利</td>\n",
       "      <td>数据仓库工程师,数据分析师</td>\n",
       "      <td>NaN</td>\n",
       "      <td>海尔集团金融控股有限公司</td>\n",
       "      <td>上市公司</td>\n",
       "      <td>500-1000人</td>\n",
       "      <td>金融/投资/证券</td>\n",
       "      <td>海尔金融集团根据海尔集团全球化、多元化发展战略，金融业务将是海尔集团重点发展的支柱产业之一,...</td>\n",
       "      <td>15000.0</td>\n",
       "      <td>25000.0</td>\n",
       "      <td>20000.0</td>\n",
       "      <td>成都-武侯区</td>\n",
       "      <td>2年经验</td>\n",
       "      <td>本科</td>\n",
       "    </tr>\n",
       "    <tr>\n",
       "      <th>21548</th>\n",
       "      <td>高级运维开发工程师</td>\n",
       "      <td>弹性工作,五险一金,绩效奖金,年终奖金,出国机会</td>\n",
       "      <td>运维工程师</td>\n",
       "      <td>1、负责开发公司级DevOps工程效率平台；,2、通过框架、平台、工具、流程建设提高平台的质...</td>\n",
       "      <td>敦煌网</td>\n",
       "      <td>外资（非欧美）</td>\n",
       "      <td>500-1000人</td>\n",
       "      <td>互联网/电子商务\\r\\n                                  ...</td>\n",
       "      <td>敦煌网由王树彤于2004年创立，是中国***个B2B跨境电子商务交易平台。敦煌是中国古代丝绸...</td>\n",
       "      <td>15000.0</td>\n",
       "      <td>25000.0</td>\n",
       "      <td>20000.0</td>\n",
       "      <td>深圳-福田区</td>\n",
       "      <td>2年经验</td>\n",
       "      <td>本科</td>\n",
       "    </tr>\n",
       "    <tr>\n",
       "      <th>22077</th>\n",
       "      <td>C++量化助理工程师</td>\n",
       "      <td>NaN</td>\n",
       "      <td>C/C++开发工程师</td>\n",
       "      <td>1.协助工程师开发和测试量化交易系统,2.协助交易员测试和维护交易系统,3.协助运维人员撰写...</td>\n",
       "      <td>上海弈倍投资管理有限公司</td>\n",
       "      <td>民营公司</td>\n",
       "      <td>少于50人</td>\n",
       "      <td>金融/投资/证券</td>\n",
       "      <td>上海弈倍投资管理有限公司是国内一家新锐的从事证券投资的私募基金管理公司，公司一直致力于钻研证...</td>\n",
       "      <td>12000.0</td>\n",
       "      <td>16000.0</td>\n",
       "      <td>14000.0</td>\n",
       "      <td>上海-浦东新区</td>\n",
       "      <td>3-4年经验</td>\n",
       "      <td>本科</td>\n",
       "    </tr>\n",
       "  </tbody>\n",
       "</table>\n",
       "</div>"
      ],
      "text/plain": [
       "          job_name                      job_stars   job_category  \\\n",
       "56300       技术开发经理  五险一金,交通补贴,餐饮补贴,专业培训,周末双休,节日福利      技术研发经理/主管   \n",
       "58179      数据开发工程师                      弹性工作,专业培训       大数据开发工程师   \n",
       "55640  数字金融平台开发工程师      五险一金,补充医疗保险,带薪年假,全勤奖,节日福利  数据仓库工程师,数据分析师   \n",
       "21548    高级运维开发工程师       弹性工作,五险一金,绩效奖金,年终奖金,出国机会          运维工程师   \n",
       "22077   C++量化助理工程师                            NaN     C/C++开发工程师   \n",
       "\n",
       "                                         job_description     company_name  \\\n",
       "56300  岗位职责,任职要求：,、本科及以上学历，,年及以上开发工作经验（至少两年管理经验），有,、,...  上海英内物联网科技股份有限公司   \n",
       "58179  岗位描述：,1、负责实时或批量数据处理开发 ,2、参与数据应用或解决方案包的开发 ,3、编写...   数云信息技术（上海）有限公司   \n",
       "55640                                                NaN     海尔集团金融控股有限公司   \n",
       "21548  1、负责开发公司级DevOps工程效率平台；,2、通过框架、平台、工具、流程建设提高平台的质...              敦煌网   \n",
       "22077  1.协助工程师开发和测试量化交易系统,2.协助交易员测试和维护交易系统,3.协助运维人员撰写...     上海弈倍投资管理有限公司   \n",
       "\n",
       "      company_type company_size  \\\n",
       "56300         上市公司    500-1000人   \n",
       "58179         民营公司     150-500人   \n",
       "55640         上市公司    500-1000人   \n",
       "21548      外资（非欧美）    500-1000人   \n",
       "22077         民营公司        少于50人   \n",
       "\n",
       "                                        company_industry  \\\n",
       "56300                                      电子技术/半导体/集成电路   \n",
       "58179  计算机软件\\r\\n                                    互...   \n",
       "55640                                           金融/投资/证券   \n",
       "21548  互联网/电子商务\\r\\n                                  ...   \n",
       "22077                                           金融/投资/证券   \n",
       "\n",
       "                                    company_introduction  min_salary  \\\n",
       "56300  上海英内物联网科技股份有限公司上海英内物联网科技股份有限公司是国内首家专业从事RFID标签天...     15000.0   \n",
       "58179  杭州数云信息技术有限公司作为国内优秀的全域CRM产品和数据化营销服务提供商，秉承“让营销更有...     12000.0   \n",
       "55640  海尔金融集团根据海尔集团全球化、多元化发展战略，金融业务将是海尔集团重点发展的支柱产业之一,...     15000.0   \n",
       "21548  敦煌网由王树彤于2004年创立，是中国***个B2B跨境电子商务交易平台。敦煌是中国古代丝绸...     15000.0   \n",
       "22077  上海弈倍投资管理有限公司是国内一家新锐的从事证券投资的私募基金管理公司，公司一直致力于钻研证...     12000.0   \n",
       "\n",
       "       max_salary  mid_salary    place exp_years education  \n",
       "56300     25000.0     20000.0       上海    5-7年经验        本科  \n",
       "58179     17000.0     14500.0       上海      2年经验        本科  \n",
       "55640     25000.0     20000.0   成都-武侯区      2年经验        本科  \n",
       "21548     25000.0     20000.0   深圳-福田区      2年经验        本科  \n",
       "22077     16000.0     14000.0  上海-浦东新区    3-4年经验        本科  "
      ]
     },
     "execution_count": 60,
     "metadata": {},
     "output_type": "execute_result"
    }
   ],
   "source": [
    "df = df.drop('job_info', axis=1)\n",
    "df.sample(5)"
   ]
  },
  {
   "cell_type": "code",
   "execution_count": 61,
   "metadata": {},
   "outputs": [
    {
     "data": {
      "text/plain": [
       "(9219,)"
      ]
     },
     "execution_count": 61,
     "metadata": {},
     "output_type": "execute_result"
    }
   ],
   "source": [
    "# 检查其它数据\n",
    "df['company_name'].unique().shape"
   ]
  },
  {
   "cell_type": "code",
   "execution_count": 62,
   "metadata": {},
   "outputs": [
    {
     "data": {
      "text/plain": [
       "(6061,)"
      ]
     },
     "execution_count": 62,
     "metadata": {},
     "output_type": "execute_result"
    }
   ],
   "source": [
    "df['job_name'].unique().shape"
   ]
  },
  {
   "cell_type": "code",
   "execution_count": 63,
   "metadata": {},
   "outputs": [
    {
     "data": {
      "text/plain": [
       "(1823,)"
      ]
     },
     "execution_count": 63,
     "metadata": {},
     "output_type": "execute_result"
    }
   ],
   "source": [
    "df['job_category'].unique().shape"
   ]
  },
  {
   "cell_type": "code",
   "execution_count": 64,
   "metadata": {},
   "outputs": [
    {
     "data": {
      "text/plain": [
       "(817,)"
      ]
     },
     "execution_count": 64,
     "metadata": {},
     "output_type": "execute_result"
    }
   ],
   "source": [
    "df['company_industry'] = df['company_industry'].str.replace('\\r','').str.replace(' ', '')\n",
    "df['company_industry'] = df['company_industry'].str.replace('\\n', ',')\n",
    "df['company_industry'].unique().shape"
   ]
  },
  {
   "cell_type": "code",
   "execution_count": 65,
   "metadata": {},
   "outputs": [],
   "source": [
    "# df.to_csv(r'python_jobs_all3_format.csv', index=False)"
   ]
  },
  {
   "cell_type": "markdown",
   "metadata": {},
   "source": [
    "## 数据合并"
   ]
  },
  {
   "cell_type": "code",
   "execution_count": 72,
   "metadata": {},
   "outputs": [],
   "source": [
    "df1=pd.read_csv('python_jobs_all1_format.csv')\n",
    "df2=pd.read_csv('python_jobs_all2_format.csv')\n",
    "df3=pd.read_csv('python_jobs_all3_format.csv')"
   ]
  },
  {
   "cell_type": "code",
   "execution_count": 81,
   "metadata": {},
   "outputs": [
    {
     "data": {
      "text/plain": [
       "(4873, 15)"
      ]
     },
     "execution_count": 81,
     "metadata": {},
     "output_type": "execute_result"
    }
   ],
   "source": [
    "df1.shape"
   ]
  },
  {
   "cell_type": "code",
   "execution_count": 82,
   "metadata": {},
   "outputs": [
    {
     "data": {
      "text/plain": [
       "(2717, 15)"
      ]
     },
     "execution_count": 82,
     "metadata": {},
     "output_type": "execute_result"
    }
   ],
   "source": [
    "df2.shape"
   ]
  },
  {
   "cell_type": "code",
   "execution_count": 83,
   "metadata": {},
   "outputs": [
    {
     "data": {
      "text/plain": [
       "(11517, 15)"
      ]
     },
     "execution_count": 83,
     "metadata": {},
     "output_type": "execute_result"
    }
   ],
   "source": [
    "df3.shape"
   ]
  },
  {
   "cell_type": "code",
   "execution_count": 84,
   "metadata": {},
   "outputs": [],
   "source": [
    "df=pd.concat([df1, df2, df3], axis=0)"
   ]
  },
  {
   "cell_type": "code",
   "execution_count": 85,
   "metadata": {},
   "outputs": [
    {
     "data": {
      "text/plain": [
       "(19107, 15)"
      ]
     },
     "execution_count": 85,
     "metadata": {},
     "output_type": "execute_result"
    }
   ],
   "source": [
    "df.shape"
   ]
  },
  {
   "cell_type": "code",
   "execution_count": 87,
   "metadata": {},
   "outputs": [],
   "source": [
    "# 数据在不同天采集，有重复，要删除\n",
    "df = df.drop_duplicates(subset=['job_name', 'company_name'], keep='last')"
   ]
  },
  {
   "cell_type": "code",
   "execution_count": 88,
   "metadata": {},
   "outputs": [
    {
     "data": {
      "text/plain": [
       "(12210, 15)"
      ]
     },
     "execution_count": 88,
     "metadata": {},
     "output_type": "execute_result"
    }
   ],
   "source": [
    "df.shape"
   ]
  },
  {
   "cell_type": "code",
   "execution_count": 89,
   "metadata": {},
   "outputs": [],
   "source": [
    "df.to_csv(r'python_jobs_all_format.csv', index=False)"
   ]
  },
  {
   "cell_type": "code",
   "execution_count": null,
   "metadata": {},
   "outputs": [],
   "source": []
  }
 ],
 "metadata": {
  "kernelspec": {
   "display_name": "Python 3",
   "language": "python",
   "name": "python3"
  },
  "language_info": {
   "codemirror_mode": {
    "name": "ipython",
    "version": 3
   },
   "file_extension": ".py",
   "mimetype": "text/x-python",
   "name": "python",
   "nbconvert_exporter": "python",
   "pygments_lexer": "ipython3",
   "version": "3.7.4"
  }
 },
 "nbformat": 4,
 "nbformat_minor": 4
}
