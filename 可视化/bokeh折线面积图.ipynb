{
 "cells": [
  {
   "cell_type": "markdown",
   "metadata": {},
   "source": [
    "1. 单线图、多线图\n",
    "2. 面积图、堆叠面积图"
   ]
  },
  {
   "cell_type": "code",
   "execution_count": 18,
   "metadata": {},
   "outputs": [
    {
     "data": {
      "text/html": [
       "\n",
       "    <div class=\"bk-root\">\n",
       "        <a href=\"https://bokeh.org\" target=\"_blank\" class=\"bk-logo bk-logo-small bk-logo-notebook\"></a>\n",
       "        <span id=\"1835\">Loading BokehJS ...</span>\n",
       "    </div>"
      ]
     },
     "metadata": {},
     "output_type": "display_data"
    },
    {
     "data": {
      "application/javascript": [
       "\n",
       "(function(root) {\n",
       "  function now() {\n",
       "    return new Date();\n",
       "  }\n",
       "\n",
       "  var force = true;\n",
       "\n",
       "  if (typeof root._bokeh_onload_callbacks === \"undefined\" || force === true) {\n",
       "    root._bokeh_onload_callbacks = [];\n",
       "    root._bokeh_is_loading = undefined;\n",
       "  }\n",
       "\n",
       "  var JS_MIME_TYPE = 'application/javascript';\n",
       "  var HTML_MIME_TYPE = 'text/html';\n",
       "  var EXEC_MIME_TYPE = 'application/vnd.bokehjs_exec.v0+json';\n",
       "  var CLASS_NAME = 'output_bokeh rendered_html';\n",
       "\n",
       "  /**\n",
       "   * Render data to the DOM node\n",
       "   */\n",
       "  function render(props, node) {\n",
       "    var script = document.createElement(\"script\");\n",
       "    node.appendChild(script);\n",
       "  }\n",
       "\n",
       "  /**\n",
       "   * Handle when an output is cleared or removed\n",
       "   */\n",
       "  function handleClearOutput(event, handle) {\n",
       "    var cell = handle.cell;\n",
       "\n",
       "    var id = cell.output_area._bokeh_element_id;\n",
       "    var server_id = cell.output_area._bokeh_server_id;\n",
       "    // Clean up Bokeh references\n",
       "    if (id != null && id in Bokeh.index) {\n",
       "      Bokeh.index[id].model.document.clear();\n",
       "      delete Bokeh.index[id];\n",
       "    }\n",
       "\n",
       "    if (server_id !== undefined) {\n",
       "      // Clean up Bokeh references\n",
       "      var cmd = \"from bokeh.io.state import curstate; print(curstate().uuid_to_server['\" + server_id + \"'].get_sessions()[0].document.roots[0]._id)\";\n",
       "      cell.notebook.kernel.execute(cmd, {\n",
       "        iopub: {\n",
       "          output: function(msg) {\n",
       "            var id = msg.content.text.trim();\n",
       "            if (id in Bokeh.index) {\n",
       "              Bokeh.index[id].model.document.clear();\n",
       "              delete Bokeh.index[id];\n",
       "            }\n",
       "          }\n",
       "        }\n",
       "      });\n",
       "      // Destroy server and session\n",
       "      var cmd = \"import bokeh.io.notebook as ion; ion.destroy_server('\" + server_id + \"')\";\n",
       "      cell.notebook.kernel.execute(cmd);\n",
       "    }\n",
       "  }\n",
       "\n",
       "  /**\n",
       "   * Handle when a new output is added\n",
       "   */\n",
       "  function handleAddOutput(event, handle) {\n",
       "    var output_area = handle.output_area;\n",
       "    var output = handle.output;\n",
       "\n",
       "    // limit handleAddOutput to display_data with EXEC_MIME_TYPE content only\n",
       "    if ((output.output_type != \"display_data\") || (!output.data.hasOwnProperty(EXEC_MIME_TYPE))) {\n",
       "      return\n",
       "    }\n",
       "\n",
       "    var toinsert = output_area.element.find(\".\" + CLASS_NAME.split(' ')[0]);\n",
       "\n",
       "    if (output.metadata[EXEC_MIME_TYPE][\"id\"] !== undefined) {\n",
       "      toinsert[toinsert.length - 1].firstChild.textContent = output.data[JS_MIME_TYPE];\n",
       "      // store reference to embed id on output_area\n",
       "      output_area._bokeh_element_id = output.metadata[EXEC_MIME_TYPE][\"id\"];\n",
       "    }\n",
       "    if (output.metadata[EXEC_MIME_TYPE][\"server_id\"] !== undefined) {\n",
       "      var bk_div = document.createElement(\"div\");\n",
       "      bk_div.innerHTML = output.data[HTML_MIME_TYPE];\n",
       "      var script_attrs = bk_div.children[0].attributes;\n",
       "      for (var i = 0; i < script_attrs.length; i++) {\n",
       "        toinsert[toinsert.length - 1].firstChild.setAttribute(script_attrs[i].name, script_attrs[i].value);\n",
       "        toinsert[toinsert.length - 1].firstChild.textContent = bk_div.children[0].textContent\n",
       "      }\n",
       "      // store reference to server id on output_area\n",
       "      output_area._bokeh_server_id = output.metadata[EXEC_MIME_TYPE][\"server_id\"];\n",
       "    }\n",
       "  }\n",
       "\n",
       "  function register_renderer(events, OutputArea) {\n",
       "\n",
       "    function append_mime(data, metadata, element) {\n",
       "      // create a DOM node to render to\n",
       "      var toinsert = this.create_output_subarea(\n",
       "        metadata,\n",
       "        CLASS_NAME,\n",
       "        EXEC_MIME_TYPE\n",
       "      );\n",
       "      this.keyboard_manager.register_events(toinsert);\n",
       "      // Render to node\n",
       "      var props = {data: data, metadata: metadata[EXEC_MIME_TYPE]};\n",
       "      render(props, toinsert[toinsert.length - 1]);\n",
       "      element.append(toinsert);\n",
       "      return toinsert\n",
       "    }\n",
       "\n",
       "    /* Handle when an output is cleared or removed */\n",
       "    events.on('clear_output.CodeCell', handleClearOutput);\n",
       "    events.on('delete.Cell', handleClearOutput);\n",
       "\n",
       "    /* Handle when a new output is added */\n",
       "    events.on('output_added.OutputArea', handleAddOutput);\n",
       "\n",
       "    /**\n",
       "     * Register the mime type and append_mime function with output_area\n",
       "     */\n",
       "    OutputArea.prototype.register_mime_type(EXEC_MIME_TYPE, append_mime, {\n",
       "      /* Is output safe? */\n",
       "      safe: true,\n",
       "      /* Index of renderer in `output_area.display_order` */\n",
       "      index: 0\n",
       "    });\n",
       "  }\n",
       "\n",
       "  // register the mime type if in Jupyter Notebook environment and previously unregistered\n",
       "  if (root.Jupyter !== undefined) {\n",
       "    var events = require('base/js/events');\n",
       "    var OutputArea = require('notebook/js/outputarea').OutputArea;\n",
       "\n",
       "    if (OutputArea.prototype.mime_types().indexOf(EXEC_MIME_TYPE) == -1) {\n",
       "      register_renderer(events, OutputArea);\n",
       "    }\n",
       "  }\n",
       "\n",
       "  \n",
       "  if (typeof (root._bokeh_timeout) === \"undefined\" || force === true) {\n",
       "    root._bokeh_timeout = Date.now() + 5000;\n",
       "    root._bokeh_failed_load = false;\n",
       "  }\n",
       "\n",
       "  var NB_LOAD_WARNING = {'data': {'text/html':\n",
       "     \"<div style='background-color: #fdd'>\\n\"+\n",
       "     \"<p>\\n\"+\n",
       "     \"BokehJS does not appear to have successfully loaded. If loading BokehJS from CDN, this \\n\"+\n",
       "     \"may be due to a slow or bad network connection. Possible fixes:\\n\"+\n",
       "     \"</p>\\n\"+\n",
       "     \"<ul>\\n\"+\n",
       "     \"<li>re-rerun `output_notebook()` to attempt to load from CDN again, or</li>\\n\"+\n",
       "     \"<li>use INLINE resources instead, as so:</li>\\n\"+\n",
       "     \"</ul>\\n\"+\n",
       "     \"<code>\\n\"+\n",
       "     \"from bokeh.resources import INLINE\\n\"+\n",
       "     \"output_notebook(resources=INLINE)\\n\"+\n",
       "     \"</code>\\n\"+\n",
       "     \"</div>\"}};\n",
       "\n",
       "  function display_loaded() {\n",
       "    var el = document.getElementById(\"1835\");\n",
       "    if (el != null) {\n",
       "      el.textContent = \"BokehJS is loading...\";\n",
       "    }\n",
       "    if (root.Bokeh !== undefined) {\n",
       "      if (el != null) {\n",
       "        el.textContent = \"BokehJS \" + root.Bokeh.version + \" successfully loaded.\";\n",
       "      }\n",
       "    } else if (Date.now() < root._bokeh_timeout) {\n",
       "      setTimeout(display_loaded, 100)\n",
       "    }\n",
       "  }\n",
       "\n",
       "\n",
       "  function run_callbacks() {\n",
       "    try {\n",
       "      root._bokeh_onload_callbacks.forEach(function(callback) {\n",
       "        if (callback != null)\n",
       "          callback();\n",
       "      });\n",
       "    } finally {\n",
       "      delete root._bokeh_onload_callbacks\n",
       "    }\n",
       "    console.debug(\"Bokeh: all callbacks have finished\");\n",
       "  }\n",
       "\n",
       "  function load_libs(css_urls, js_urls, callback) {\n",
       "    if (css_urls == null) css_urls = [];\n",
       "    if (js_urls == null) js_urls = [];\n",
       "\n",
       "    root._bokeh_onload_callbacks.push(callback);\n",
       "    if (root._bokeh_is_loading > 0) {\n",
       "      console.debug(\"Bokeh: BokehJS is being loaded, scheduling callback at\", now());\n",
       "      return null;\n",
       "    }\n",
       "    if (js_urls == null || js_urls.length === 0) {\n",
       "      run_callbacks();\n",
       "      return null;\n",
       "    }\n",
       "    console.debug(\"Bokeh: BokehJS not loaded, scheduling load and callback at\", now());\n",
       "    root._bokeh_is_loading = css_urls.length + js_urls.length;\n",
       "\n",
       "    function on_load() {\n",
       "      root._bokeh_is_loading--;\n",
       "      if (root._bokeh_is_loading === 0) {\n",
       "        console.debug(\"Bokeh: all BokehJS libraries/stylesheets loaded\");\n",
       "        run_callbacks()\n",
       "      }\n",
       "    }\n",
       "\n",
       "    function on_error() {\n",
       "      console.error(\"failed to load \" + url);\n",
       "    }\n",
       "\n",
       "    for (var i = 0; i < css_urls.length; i++) {\n",
       "      var url = css_urls[i];\n",
       "      const element = document.createElement(\"link\");\n",
       "      element.onload = on_load;\n",
       "      element.onerror = on_error;\n",
       "      element.rel = \"stylesheet\";\n",
       "      element.type = \"text/css\";\n",
       "      element.href = url;\n",
       "      console.debug(\"Bokeh: injecting link tag for BokehJS stylesheet: \", url);\n",
       "      document.body.appendChild(element);\n",
       "    }\n",
       "\n",
       "    const hashes = {\"https://cdn.bokeh.org/bokeh/release/bokeh-2.2.1.min.js\": \"qkRvDQVAIfzsJo40iRBbxt6sttt0hv4lh74DG7OK4MCHv4C5oohXYoHUM5W11uqS\", \"https://cdn.bokeh.org/bokeh/release/bokeh-widgets-2.2.1.min.js\": \"Sb7Mr06a9TNlet/GEBeKaf5xH3eb6AlCzwjtU82wNPyDrnfoiVl26qnvlKjmcAd+\", \"https://cdn.bokeh.org/bokeh/release/bokeh-tables-2.2.1.min.js\": \"HaJ15vgfmcfRtB4c4YBOI4f1MUujukqInOWVqZJZZGK7Q+ivud0OKGSTn/Vm2iso\"};\n",
       "\n",
       "    for (var i = 0; i < js_urls.length; i++) {\n",
       "      var url = js_urls[i];\n",
       "      var element = document.createElement('script');\n",
       "      element.onload = on_load;\n",
       "      element.onerror = on_error;\n",
       "      element.async = false;\n",
       "      element.src = url;\n",
       "      if (url in hashes) {\n",
       "        element.crossOrigin = \"anonymous\";\n",
       "        element.integrity = \"sha384-\" + hashes[url];\n",
       "      }\n",
       "      console.debug(\"Bokeh: injecting script tag for BokehJS library: \", url);\n",
       "      document.head.appendChild(element);\n",
       "    }\n",
       "  };\n",
       "\n",
       "  function inject_raw_css(css) {\n",
       "    const element = document.createElement(\"style\");\n",
       "    element.appendChild(document.createTextNode(css));\n",
       "    document.body.appendChild(element);\n",
       "  }\n",
       "\n",
       "  \n",
       "  var js_urls = [\"https://cdn.bokeh.org/bokeh/release/bokeh-2.2.1.min.js\", \"https://cdn.bokeh.org/bokeh/release/bokeh-widgets-2.2.1.min.js\", \"https://cdn.bokeh.org/bokeh/release/bokeh-tables-2.2.1.min.js\"];\n",
       "  var css_urls = [];\n",
       "  \n",
       "\n",
       "  var inline_js = [\n",
       "    function(Bokeh) {\n",
       "      Bokeh.set_log_level(\"info\");\n",
       "    },\n",
       "    function(Bokeh) {\n",
       "    \n",
       "    \n",
       "    }\n",
       "  ];\n",
       "\n",
       "  function run_inline_js() {\n",
       "    \n",
       "    if (root.Bokeh !== undefined || force === true) {\n",
       "      \n",
       "    for (var i = 0; i < inline_js.length; i++) {\n",
       "      inline_js[i].call(root, root.Bokeh);\n",
       "    }\n",
       "    if (force === true) {\n",
       "        display_loaded();\n",
       "      }} else if (Date.now() < root._bokeh_timeout) {\n",
       "      setTimeout(run_inline_js, 100);\n",
       "    } else if (!root._bokeh_failed_load) {\n",
       "      console.log(\"Bokeh: BokehJS failed to load within specified timeout.\");\n",
       "      root._bokeh_failed_load = true;\n",
       "    } else if (force !== true) {\n",
       "      var cell = $(document.getElementById(\"1835\")).parents('.cell').data().cell;\n",
       "      cell.output_area.append_execute_result(NB_LOAD_WARNING)\n",
       "    }\n",
       "\n",
       "  }\n",
       "\n",
       "  if (root._bokeh_is_loading === 0) {\n",
       "    console.debug(\"Bokeh: BokehJS loaded, going straight to plotting\");\n",
       "    run_inline_js();\n",
       "  } else {\n",
       "    load_libs(css_urls, js_urls, function() {\n",
       "      console.debug(\"Bokeh: BokehJS plotting callback run at\", now());\n",
       "      run_inline_js();\n",
       "    });\n",
       "  }\n",
       "}(window));"
      ],
      "application/vnd.bokehjs_load.v0+json": "\n(function(root) {\n  function now() {\n    return new Date();\n  }\n\n  var force = true;\n\n  if (typeof root._bokeh_onload_callbacks === \"undefined\" || force === true) {\n    root._bokeh_onload_callbacks = [];\n    root._bokeh_is_loading = undefined;\n  }\n\n  \n\n  \n  if (typeof (root._bokeh_timeout) === \"undefined\" || force === true) {\n    root._bokeh_timeout = Date.now() + 5000;\n    root._bokeh_failed_load = false;\n  }\n\n  var NB_LOAD_WARNING = {'data': {'text/html':\n     \"<div style='background-color: #fdd'>\\n\"+\n     \"<p>\\n\"+\n     \"BokehJS does not appear to have successfully loaded. If loading BokehJS from CDN, this \\n\"+\n     \"may be due to a slow or bad network connection. Possible fixes:\\n\"+\n     \"</p>\\n\"+\n     \"<ul>\\n\"+\n     \"<li>re-rerun `output_notebook()` to attempt to load from CDN again, or</li>\\n\"+\n     \"<li>use INLINE resources instead, as so:</li>\\n\"+\n     \"</ul>\\n\"+\n     \"<code>\\n\"+\n     \"from bokeh.resources import INLINE\\n\"+\n     \"output_notebook(resources=INLINE)\\n\"+\n     \"</code>\\n\"+\n     \"</div>\"}};\n\n  function display_loaded() {\n    var el = document.getElementById(\"1835\");\n    if (el != null) {\n      el.textContent = \"BokehJS is loading...\";\n    }\n    if (root.Bokeh !== undefined) {\n      if (el != null) {\n        el.textContent = \"BokehJS \" + root.Bokeh.version + \" successfully loaded.\";\n      }\n    } else if (Date.now() < root._bokeh_timeout) {\n      setTimeout(display_loaded, 100)\n    }\n  }\n\n\n  function run_callbacks() {\n    try {\n      root._bokeh_onload_callbacks.forEach(function(callback) {\n        if (callback != null)\n          callback();\n      });\n    } finally {\n      delete root._bokeh_onload_callbacks\n    }\n    console.debug(\"Bokeh: all callbacks have finished\");\n  }\n\n  function load_libs(css_urls, js_urls, callback) {\n    if (css_urls == null) css_urls = [];\n    if (js_urls == null) js_urls = [];\n\n    root._bokeh_onload_callbacks.push(callback);\n    if (root._bokeh_is_loading > 0) {\n      console.debug(\"Bokeh: BokehJS is being loaded, scheduling callback at\", now());\n      return null;\n    }\n    if (js_urls == null || js_urls.length === 0) {\n      run_callbacks();\n      return null;\n    }\n    console.debug(\"Bokeh: BokehJS not loaded, scheduling load and callback at\", now());\n    root._bokeh_is_loading = css_urls.length + js_urls.length;\n\n    function on_load() {\n      root._bokeh_is_loading--;\n      if (root._bokeh_is_loading === 0) {\n        console.debug(\"Bokeh: all BokehJS libraries/stylesheets loaded\");\n        run_callbacks()\n      }\n    }\n\n    function on_error() {\n      console.error(\"failed to load \" + url);\n    }\n\n    for (var i = 0; i < css_urls.length; i++) {\n      var url = css_urls[i];\n      const element = document.createElement(\"link\");\n      element.onload = on_load;\n      element.onerror = on_error;\n      element.rel = \"stylesheet\";\n      element.type = \"text/css\";\n      element.href = url;\n      console.debug(\"Bokeh: injecting link tag for BokehJS stylesheet: \", url);\n      document.body.appendChild(element);\n    }\n\n    const hashes = {\"https://cdn.bokeh.org/bokeh/release/bokeh-2.2.1.min.js\": \"qkRvDQVAIfzsJo40iRBbxt6sttt0hv4lh74DG7OK4MCHv4C5oohXYoHUM5W11uqS\", \"https://cdn.bokeh.org/bokeh/release/bokeh-widgets-2.2.1.min.js\": \"Sb7Mr06a9TNlet/GEBeKaf5xH3eb6AlCzwjtU82wNPyDrnfoiVl26qnvlKjmcAd+\", \"https://cdn.bokeh.org/bokeh/release/bokeh-tables-2.2.1.min.js\": \"HaJ15vgfmcfRtB4c4YBOI4f1MUujukqInOWVqZJZZGK7Q+ivud0OKGSTn/Vm2iso\"};\n\n    for (var i = 0; i < js_urls.length; i++) {\n      var url = js_urls[i];\n      var element = document.createElement('script');\n      element.onload = on_load;\n      element.onerror = on_error;\n      element.async = false;\n      element.src = url;\n      if (url in hashes) {\n        element.crossOrigin = \"anonymous\";\n        element.integrity = \"sha384-\" + hashes[url];\n      }\n      console.debug(\"Bokeh: injecting script tag for BokehJS library: \", url);\n      document.head.appendChild(element);\n    }\n  };\n\n  function inject_raw_css(css) {\n    const element = document.createElement(\"style\");\n    element.appendChild(document.createTextNode(css));\n    document.body.appendChild(element);\n  }\n\n  \n  var js_urls = [\"https://cdn.bokeh.org/bokeh/release/bokeh-2.2.1.min.js\", \"https://cdn.bokeh.org/bokeh/release/bokeh-widgets-2.2.1.min.js\", \"https://cdn.bokeh.org/bokeh/release/bokeh-tables-2.2.1.min.js\"];\n  var css_urls = [];\n  \n\n  var inline_js = [\n    function(Bokeh) {\n      Bokeh.set_log_level(\"info\");\n    },\n    function(Bokeh) {\n    \n    \n    }\n  ];\n\n  function run_inline_js() {\n    \n    if (root.Bokeh !== undefined || force === true) {\n      \n    for (var i = 0; i < inline_js.length; i++) {\n      inline_js[i].call(root, root.Bokeh);\n    }\n    if (force === true) {\n        display_loaded();\n      }} else if (Date.now() < root._bokeh_timeout) {\n      setTimeout(run_inline_js, 100);\n    } else if (!root._bokeh_failed_load) {\n      console.log(\"Bokeh: BokehJS failed to load within specified timeout.\");\n      root._bokeh_failed_load = true;\n    } else if (force !== true) {\n      var cell = $(document.getElementById(\"1835\")).parents('.cell').data().cell;\n      cell.output_area.append_execute_result(NB_LOAD_WARNING)\n    }\n\n  }\n\n  if (root._bokeh_is_loading === 0) {\n    console.debug(\"Bokeh: BokehJS loaded, going straight to plotting\");\n    run_inline_js();\n  } else {\n    load_libs(css_urls, js_urls, function() {\n      console.debug(\"Bokeh: BokehJS plotting callback run at\", now());\n      run_inline_js();\n    });\n  }\n}(window));"
     },
     "metadata": {},
     "output_type": "display_data"
    }
   ],
   "source": [
    "import numpy as np\n",
    "import pandas as pd\n",
    "import matplotlib.pyplot as plt\n",
    "%matplotlib inline\n",
    "\n",
    "import warnings\n",
    "warnings.filterwarnings(\"ignore\")\n",
    "\n",
    "from bokeh.plotting import figure, show\n",
    "from bokeh.io import output_notebook\n",
    "output_notebook()"
   ]
  },
  {
   "cell_type": "code",
   "execution_count": 19,
   "metadata": {},
   "outputs": [],
   "source": [
    "# 1、折线图 - 单线图\n",
    "\n",
    "# 导入ColumnDataSource模块\n",
    "# 将数据存储为ColumnDataSource对象\n",
    "# 参考文档：http://bokeh.pydata.org/en/latest/docs/user_guide/data.html\n",
    "# 可以将dict、Dataframe、group对象转化为ColumnDataSource对象\n",
    "\n",
    "from bokeh.models import ColumnDataSource\n",
    "\n",
    "# 转化为ColumnDataSource对象\n",
    "# 这里注意了，index和columns都必须有名称字段\n",
    "df = pd.DataFrame({'value': np.random.randn(100).cumsum()})\n",
    "df.index.name = 'index'\n",
    "source = ColumnDataSource(data=df)"
   ]
  },
  {
   "cell_type": "code",
   "execution_count": 20,
   "metadata": {},
   "outputs": [
    {
     "data": {
      "text/html": [
       "\n",
       "\n",
       "\n",
       "\n",
       "\n",
       "\n",
       "  <div class=\"bk-root\" id=\"acc8c6bf-3166-46b1-a8e7-c385de17c1ba\" data-root-id=\"1837\"></div>\n"
      ]
     },
     "metadata": {},
     "output_type": "display_data"
    },
    {
     "data": {
      "application/javascript": [
       "(function(root) {\n",
       "  function embed_document(root) {\n",
       "    \n",
       "  var docs_json = {\"4fafa687-dc44-4220-abea-59a1672f778e\":{\"roots\":{\"references\":[{\"attributes\":{\"below\":[{\"id\":\"1846\"}],\"center\":[{\"id\":\"1849\"},{\"id\":\"1853\"}],\"left\":[{\"id\":\"1850\"}],\"plot_width\":800,\"renderers\":[{\"id\":\"1871\"},{\"id\":\"1876\"}],\"title\":{\"id\":\"1939\"},\"toolbar\":{\"id\":\"1861\"},\"x_range\":{\"id\":\"1838\"},\"x_scale\":{\"id\":\"1842\"},\"y_range\":{\"id\":\"1840\"},\"y_scale\":{\"id\":\"1844\"}},\"id\":\"1837\",\"subtype\":\"Figure\",\"type\":\"Plot\"},{\"attributes\":{},\"id\":\"1851\",\"type\":\"BasicTicker\"},{\"attributes\":{},\"id\":\"1945\",\"type\":\"UnionRenderers\"},{\"attributes\":{},\"id\":\"1840\",\"type\":\"DataRange1d\"},{\"attributes\":{\"data_source\":{\"id\":\"1836\"},\"glyph\":{\"id\":\"1874\"},\"hover_glyph\":null,\"muted_glyph\":null,\"nonselection_glyph\":{\"id\":\"1875\"},\"selection_glyph\":null,\"view\":{\"id\":\"1877\"}},\"id\":\"1876\",\"type\":\"GlyphRenderer\"},{\"attributes\":{},\"id\":\"1858\",\"type\":\"ResetTool\"},{\"attributes\":{\"formatter\":{\"id\":\"1941\"},\"ticker\":{\"id\":\"1847\"}},\"id\":\"1846\",\"type\":\"LinearAxis\"},{\"attributes\":{},\"id\":\"1857\",\"type\":\"SaveTool\"},{\"attributes\":{\"axis\":{\"id\":\"1846\"},\"ticker\":null},\"id\":\"1849\",\"type\":\"Grid\"},{\"attributes\":{},\"id\":\"1854\",\"type\":\"PanTool\"},{\"attributes\":{\"data\":{\"index\":[0,1,2,3,4,5,6,7,8,9,10,11,12,13,14,15,16,17,18,19,20,21,22,23,24,25,26,27,28,29,30,31,32,33,34,35,36,37,38,39,40,41,42,43,44,45,46,47,48,49,50,51,52,53,54,55,56,57,58,59,60,61,62,63,64,65,66,67,68,69,70,71,72,73,74,75,76,77,78,79,80,81,82,83,84,85,86,87,88,89,90,91,92,93,94,95,96,97,98,99],\"value\":{\"__ndarray__\":\"A72drofJ/j9e+Q8Ze9bjPygv5kRrSby/WFEAa0Z7wj+hOtS2WgQBQEXlGL38s/I/znd7nArZ0z/xS/mcGYgCQHTLhy/hJgFAWEobbg18AkAW9Bra1vIKQEJFGcFDFwpAIf6YL6ZzBUBHTJScrVYEQHoLLs9z4vo/0m76PmgvAEAunNT8ZGQBQCrAn12azw9AALqwl243D0Czd3WAWlAPQJQw9x8qFgtAxPtZwozBDUBcnMwLOLQKQJ2uViHgWghAq6g6NtPpDUB4g3BSoFcWQDio8iIaiRVAhkLtbyQfGECo9abE/oATQDdHBpI80xNAavON9IqIF0AYAdI3+IUZQKoxkAAruxZAy8pvbWd4E0Dy9lpz/m0UQE6ehpotsxZAoy7h7UAaIUArQld3vqsjQNPj2jR5/iFABAA5huRnIECU40b3HwEdQKFOrZX6TRpAxzVqPY/5FECOD8+Zju0YQCaOaWhWahdAIsDkC9yOEkCiQUoYWI8NQIZoq54BfRVA8VP9W+13DUAD0fe0mh0PQM05N9lKNA1AF+R7mOgvA0AHcstJVF32PxT2b3HdyAtAuWV15eISDkCjjqtm2hcQQKS4c+A6MgZA/TZSMKkwEUBOP03CiB8XQNFL4Cz2HRRAgAQlXxoVEEAI4B9aTFMLQEFKvtWAVQhA8B5uPD/1A0C8Mi1fb+cHQHjLZjeouhBA2iSQ/XKHAkBfoUXHaB32Pya0bqddgu0/HCkqdtKuBUAeBa+T7vUOQHys/1BCkBFAEVotba1IEEACdY+zcc4IQH5j6XqhaQtA9pnVqi9IEUA9HwMB63kUQOFS2ttwDBFA/6tjcCqmCkC1ckXhTOgRQEsVIp74IBJAjxVObbR+FEDgCGNG/L4PQLq+du7x9AxASAYp60geEECZ4qUw1nAQQDQDnGSd2hhAYt7VLZOnFUAWAXpS0wUVQEMP/LuppBNABtkFY2BjDUADn2Vw2uINQMTJaM3biwxAh0fZ0qGtB0AGZu69P9MJQPifCGj2QvE/ZXVzt4JJ+T9gfbiqp9PcP0vDRZUSWP8/LEqYeM46C0A=\",\"dtype\":\"float64\",\"order\":\"little\",\"shape\":[100]}},\"selected\":{\"id\":\"1946\"},\"selection_policy\":{\"id\":\"1945\"}},\"id\":\"1836\",\"type\":\"ColumnDataSource\"},{\"attributes\":{},\"id\":\"1946\",\"type\":\"Selection\"},{\"attributes\":{\"bottom_units\":\"screen\",\"fill_alpha\":0.5,\"fill_color\":\"lightgrey\",\"left_units\":\"screen\",\"level\":\"overlay\",\"line_alpha\":1.0,\"line_color\":\"black\",\"line_dash\":[4,4],\"line_width\":2,\"right_units\":\"screen\",\"top_units\":\"screen\"},\"id\":\"1860\",\"type\":\"BoxAnnotation\"},{\"attributes\":{\"axis\":{\"id\":\"1850\"},\"dimension\":1,\"ticker\":null},\"id\":\"1853\",\"type\":\"Grid\"},{\"attributes\":{},\"id\":\"1844\",\"type\":\"LinearScale\"},{\"attributes\":{\"fill_alpha\":{\"value\":0.1},\"fill_color\":{\"value\":\"red\"},\"line_alpha\":{\"value\":0.1},\"line_color\":{\"value\":\"red\"},\"size\":{\"units\":\"screen\",\"value\":2},\"x\":{\"field\":\"index\"},\"y\":{\"field\":\"value\"}},\"id\":\"1875\",\"type\":\"Circle\"},{\"attributes\":{},\"id\":\"1943\",\"type\":\"BasicTickFormatter\"},{\"attributes\":{\"data_source\":{\"id\":\"1836\"},\"glyph\":{\"id\":\"1869\"},\"hover_glyph\":null,\"muted_glyph\":null,\"nonselection_glyph\":{\"id\":\"1870\"},\"selection_glyph\":null,\"view\":{\"id\":\"1872\"}},\"id\":\"1871\",\"type\":\"GlyphRenderer\"},{\"attributes\":{\"formatter\":{\"id\":\"1943\"},\"ticker\":{\"id\":\"1851\"}},\"id\":\"1850\",\"type\":\"LinearAxis\"},{\"attributes\":{},\"id\":\"1941\",\"type\":\"BasicTickFormatter\"},{\"attributes\":{},\"id\":\"1838\",\"type\":\"DataRange1d\"},{\"attributes\":{\"source\":{\"id\":\"1836\"}},\"id\":\"1877\",\"type\":\"CDSView\"},{\"attributes\":{\"fill_alpha\":{\"value\":0.8},\"fill_color\":{\"value\":\"red\"},\"line_alpha\":{\"value\":0.8},\"line_color\":{\"value\":\"red\"},\"size\":{\"units\":\"screen\",\"value\":2},\"x\":{\"field\":\"index\"},\"y\":{\"field\":\"value\"}},\"id\":\"1874\",\"type\":\"Circle\"},{\"attributes\":{\"active_drag\":\"auto\",\"active_inspect\":\"auto\",\"active_multi\":null,\"active_scroll\":\"auto\",\"active_tap\":\"auto\",\"tools\":[{\"id\":\"1854\"},{\"id\":\"1855\"},{\"id\":\"1856\"},{\"id\":\"1857\"},{\"id\":\"1858\"},{\"id\":\"1859\"}]},\"id\":\"1861\",\"type\":\"Toolbar\"},{\"attributes\":{\"text\":\"\"},\"id\":\"1939\",\"type\":\"Title\"},{\"attributes\":{\"line_alpha\":0.1,\"line_dash\":[10,6],\"x\":{\"field\":\"index\"},\"y\":{\"field\":\"value\"}},\"id\":\"1870\",\"type\":\"Line\"},{\"attributes\":{},\"id\":\"1855\",\"type\":\"WheelZoomTool\"},{\"attributes\":{\"overlay\":{\"id\":\"1860\"}},\"id\":\"1856\",\"type\":\"BoxZoomTool\"},{\"attributes\":{},\"id\":\"1859\",\"type\":\"HelpTool\"},{\"attributes\":{},\"id\":\"1842\",\"type\":\"LinearScale\"},{\"attributes\":{},\"id\":\"1847\",\"type\":\"BasicTicker\"},{\"attributes\":{\"line_alpha\":0.8,\"line_dash\":[10,6],\"x\":{\"field\":\"index\"},\"y\":{\"field\":\"value\"}},\"id\":\"1869\",\"type\":\"Line\"},{\"attributes\":{\"source\":{\"id\":\"1836\"}},\"id\":\"1872\",\"type\":\"CDSView\"}],\"root_ids\":[\"1837\"]},\"title\":\"Bokeh Application\",\"version\":\"2.2.1\"}};\n",
       "  var render_items = [{\"docid\":\"4fafa687-dc44-4220-abea-59a1672f778e\",\"root_ids\":[\"1837\"],\"roots\":{\"1837\":\"acc8c6bf-3166-46b1-a8e7-c385de17c1ba\"}}];\n",
       "  root.Bokeh.embed.embed_items_notebook(docs_json, render_items);\n",
       "\n",
       "  }\n",
       "  if (root.Bokeh !== undefined) {\n",
       "    embed_document(root);\n",
       "  } else {\n",
       "    var attempts = 0;\n",
       "    var timer = setInterval(function(root) {\n",
       "      if (root.Bokeh !== undefined) {\n",
       "        clearInterval(timer);\n",
       "        embed_document(root);\n",
       "      } else {\n",
       "        attempts++;\n",
       "        if (attempts > 100) {\n",
       "          clearInterval(timer);\n",
       "          console.log(\"Bokeh: ERROR: Unable to run BokehJS code because BokehJS library is missing\");\n",
       "        }\n",
       "      }\n",
       "    }, 10, root)\n",
       "  }\n",
       "})(window);"
      ],
      "application/vnd.bokehjs_exec.v0+json": ""
     },
     "metadata": {
      "application/vnd.bokehjs_exec.v0+json": {
       "id": "1837"
      }
     },
     "output_type": "display_data"
    }
   ],
   "source": [
    "p = figure(plot_width=800, plot_height=600)\n",
    "\n",
    "p.line(x='index',\n",
    "       y='value',\n",
    "       source=source,\n",
    "       line_width=1,\n",
    "       line_alpha=0.8,\n",
    "       line_color='black',\n",
    "       line_dash=[10, 6])\n",
    "p.circle(x='index', y='value', source=source, size=2, color='red', alpha=0.8)\n",
    "\n",
    "show(p)"
   ]
  },
  {
   "cell_type": "code",
   "execution_count": 21,
   "metadata": {},
   "outputs": [],
   "source": [
    "# 1、折线图 - 多线图\n",
    "# ① multi_line\n",
    "\n",
    "# 创建数据\n",
    "df = pd.DataFrame({\n",
    "    'A': np.random.randn(100).cumsum(),\n",
    "    \"B\": np.random.randn(100).cumsum()\n",
    "})"
   ]
  },
  {
   "cell_type": "code",
   "execution_count": 22,
   "metadata": {},
   "outputs": [
    {
     "data": {
      "text/html": [
       "\n",
       "\n",
       "\n",
       "\n",
       "\n",
       "\n",
       "  <div class=\"bk-root\" id=\"5f410462-6883-49de-a83e-68d7851e3805\" data-root-id=\"1992\"></div>\n"
      ]
     },
     "metadata": {},
     "output_type": "display_data"
    },
    {
     "data": {
      "application/javascript": [
       "(function(root) {\n",
       "  function embed_document(root) {\n",
       "    \n",
       "  var docs_json = {\"b1ca2a14-0ebb-4f4e-b110-9016991b6cf0\":{\"roots\":{\"references\":[{\"attributes\":{\"below\":[{\"id\":\"2001\"}],\"center\":[{\"id\":\"2004\"},{\"id\":\"2008\"}],\"left\":[{\"id\":\"2005\"}],\"plot_width\":800,\"renderers\":[{\"id\":\"2026\"}],\"title\":{\"id\":\"2098\"},\"toolbar\":{\"id\":\"2016\"},\"x_range\":{\"id\":\"1993\"},\"x_scale\":{\"id\":\"1997\"},\"y_range\":{\"id\":\"1995\"},\"y_scale\":{\"id\":\"1999\"}},\"id\":\"1992\",\"subtype\":\"Figure\",\"type\":\"Plot\"},{\"attributes\":{},\"id\":\"2002\",\"type\":\"BasicTicker\"},{\"attributes\":{},\"id\":\"2012\",\"type\":\"SaveTool\"},{\"attributes\":{},\"id\":\"1999\",\"type\":\"LinearScale\"},{\"attributes\":{\"data\":{\"line_alpha\":[0.8,0.6],\"line_color\":[\"firebrick\",\"navy\"],\"line_width\":[2,1],\"xs\":[[0,1,2,3,4,5,6,7,8,9,10,11,12,13,14,15,16,17,18,19,20,21,22,23,24,25,26,27,28,29,30,31,32,33,34,35,36,37,38,39,40,41,42,43,44,45,46,47,48,49,50,51,52,53,54,55,56,57,58,59,60,61,62,63,64,65,66,67,68,69,70,71,72,73,74,75,76,77,78,79,80,81,82,83,84,85,86,87,88,89,90,91,92,93,94,95,96,97,98,99],[0,1,2,3,4,5,6,7,8,9,10,11,12,13,14,15,16,17,18,19,20,21,22,23,24,25,26,27,28,29,30,31,32,33,34,35,36,37,38,39,40,41,42,43,44,45,46,47,48,49,50,51,52,53,54,55,56,57,58,59,60,61,62,63,64,65,66,67,68,69,70,71,72,73,74,75,76,77,78,79,80,81,82,83,84,85,86,87,88,89,90,91,92,93,94,95,96,97,98,99]],\"ys\":[[0.518189177006279,0.7037943979144238,0.46585846803890607,-1.0425901118336731,-1.3202088769028189,-0.31700185992654006,0.5886066185704976,1.7477348551652945,1.1788030983634807,0.01194281153149035,0.10777840861464835,1.731129013905536,1.6684641578030373,2.288583341761485,3.067742938688415,2.56879034525337,3.012980243865167,3.0246093085277375,3.0410451368535667,2.556676370007946,3.0748285303676948,3.1337208060994537,2.069495942393652,3.807087067716086,3.1045699575885664,1.6477349667400698,1.2657073354260895,2.038642686168815,1.4127647749783958,3.144541054870694,3.731196163198907,3.530987166178274,4.689904637870269,5.523221217022477,6.919576472214736,4.917336574266022,4.053782111790038,3.669477074405157,4.089738238715839,4.114547998810325,2.0235810433295267,2.9809438452736936,2.458381241597839,-0.09939666517438095,-0.7185388284110968,-0.839532036412799,-0.8675014986307159,-1.4592228808547965,-0.7861204735205345,0.16360680047116116,0.7093723179066639,1.8786511542950568,1.3609150484461838,3.6780119970323324,2.967340127826538,4.046355775265589,3.4469236496507296,2.8725386549836047,2.8972772889131306,2.6365073259973357,3.279223616251998,3.75284035092598,3.623025000693295,3.380621476197239,4.496740429888504,5.029628864866121,4.67662133495692,6.898693082427267,7.595155019499782,7.360932606654021,6.309702770050727,6.580186712199062,6.502010841999434,5.372108032838369,6.214581606411835,6.372612650279345,6.359789290943001,5.840591928599773,6.352828349092837,6.802918931885388,5.660073277075535,6.158670162132865,6.649526293539134,5.768541422852516,7.688400371146603,7.053347164244741,6.505892029623019,7.746564577094071,7.473736939794211,6.751345956985903,5.979391939798771,4.8961664824244835,4.585654746169815,3.9414180782823443,3.5875496054153877,3.490619379185947,4.114138592749599,5.108240634796433,4.973754538376916,4.311167632452227],[0.1626184186007904,-1.501210233868476,-1.2111475098190112,-1.2284938560131575,-0.6404359870928933,-2.419567089702454,-2.146815459030085,-0.9923892952966942,0.23549746837743513,-0.4082213037508856,-1.3713167003244626,-1.4571141052359609,-0.22552832989640614,-0.7052038021387091,-0.8523539210388623,-1.4692499649585993,-2.1888303063860093,-2.8870218803508507,-3.7825698194406834,-3.295377170608284,-4.919400386659144,-5.8086905862855325,-7.947501427931899,-8.724175914064494,-9.038691070516235,-7.460646473847266,-8.215579532524936,-6.23440677693599,-6.018060358190687,-6.879524063842804,-7.946854544339293,-9.640755300775226,-7.461006543821874,-8.377225697930331,-7.361508521642961,-8.16031704153758,-8.431756057857003,-8.730900129919736,-6.679759546188626,-5.91572069667894,-7.570300703314477,-6.896787959182337,-6.019759477441425,-5.1258498523819025,-4.737260560812565,-4.423016261400753,-5.036959701417705,-6.632775584716935,-6.282977470153442,-6.8634422190335735,-7.63810341258362,-9.24365205584142,-9.410169097933126,-10.023599811177325,-9.176840082401185,-8.139865669505099,-7.492902964832573,-7.684844446565498,-7.28369866071791,-7.286059699367243,-7.7076710747715715,-7.821213241746115,-9.216415383368187,-8.849602318954076,-10.259124025877327,-9.627201727327353,-9.267575609699238,-8.866062920816258,-10.638291813224143,-12.289069742476562,-15.19734847551457,-15.17999413495634,-16.739856152428295,-16.317073988543243,-16.03778515562294,-16.754379171721208,-17.575308291618093,-17.591868236355275,-18.570167513930087,-19.96691588271487,-18.033499109439923,-19.25477213724021,-20.258701357533166,-19.01879875779264,-19.42976479367087,-20.078922326707783,-18.978155731895257,-19.87234898477611,-20.792282509910656,-19.364652239842336,-20.98704955231591,-21.416604511560525,-21.769550947072187,-20.93744217786881,-19.673192603837148,-19.87844205834265,-19.539814170622446,-19.73658905026293,-20.456924653509354,-20.029655528583987]]},\"selected\":{\"id\":\"2105\"},\"selection_policy\":{\"id\":\"2104\"}},\"id\":\"2023\",\"type\":\"ColumnDataSource\"},{\"attributes\":{},\"id\":\"1995\",\"type\":\"DataRange1d\"},{\"attributes\":{},\"id\":\"1997\",\"type\":\"LinearScale\"},{\"attributes\":{\"source\":{\"id\":\"2023\"}},\"id\":\"2027\",\"type\":\"CDSView\"},{\"attributes\":{\"line_alpha\":{\"value\":0.1},\"line_color\":{\"field\":\"line_color\"},\"line_width\":{\"field\":\"line_width\"},\"xs\":{\"field\":\"xs\"},\"ys\":{\"field\":\"ys\"}},\"id\":\"2025\",\"type\":\"MultiLine\"},{\"attributes\":{\"data_source\":{\"id\":\"2023\"},\"glyph\":{\"id\":\"2024\"},\"hover_glyph\":null,\"muted_glyph\":null,\"nonselection_glyph\":{\"id\":\"2025\"},\"selection_glyph\":null,\"view\":{\"id\":\"2027\"}},\"id\":\"2026\",\"type\":\"GlyphRenderer\"},{\"attributes\":{\"formatter\":{\"id\":\"2100\"},\"ticker\":{\"id\":\"2002\"}},\"id\":\"2001\",\"type\":\"LinearAxis\"},{\"attributes\":{},\"id\":\"2102\",\"type\":\"BasicTickFormatter\"},{\"attributes\":{\"overlay\":{\"id\":\"2015\"}},\"id\":\"2011\",\"type\":\"BoxZoomTool\"},{\"attributes\":{\"text\":\"\"},\"id\":\"2098\",\"type\":\"Title\"},{\"attributes\":{},\"id\":\"2006\",\"type\":\"BasicTicker\"},{\"attributes\":{\"formatter\":{\"id\":\"2102\"},\"ticker\":{\"id\":\"2006\"}},\"id\":\"2005\",\"type\":\"LinearAxis\"},{\"attributes\":{},\"id\":\"2014\",\"type\":\"HelpTool\"},{\"attributes\":{},\"id\":\"2013\",\"type\":\"ResetTool\"},{\"attributes\":{\"axis\":{\"id\":\"2005\"},\"dimension\":1,\"ticker\":null},\"id\":\"2008\",\"type\":\"Grid\"},{\"attributes\":{},\"id\":\"2009\",\"type\":\"PanTool\"},{\"attributes\":{},\"id\":\"2100\",\"type\":\"BasicTickFormatter\"},{\"attributes\":{\"active_drag\":\"auto\",\"active_inspect\":\"auto\",\"active_multi\":null,\"active_scroll\":\"auto\",\"active_tap\":\"auto\",\"tools\":[{\"id\":\"2009\"},{\"id\":\"2010\"},{\"id\":\"2011\"},{\"id\":\"2012\"},{\"id\":\"2013\"},{\"id\":\"2014\"}]},\"id\":\"2016\",\"type\":\"Toolbar\"},{\"attributes\":{\"bottom_units\":\"screen\",\"fill_alpha\":0.5,\"fill_color\":\"lightgrey\",\"left_units\":\"screen\",\"level\":\"overlay\",\"line_alpha\":1.0,\"line_color\":\"black\",\"line_dash\":[4,4],\"line_width\":2,\"right_units\":\"screen\",\"top_units\":\"screen\"},\"id\":\"2015\",\"type\":\"BoxAnnotation\"},{\"attributes\":{\"line_alpha\":{\"field\":\"line_alpha\"},\"line_color\":{\"field\":\"line_color\"},\"line_width\":{\"field\":\"line_width\"},\"xs\":{\"field\":\"xs\"},\"ys\":{\"field\":\"ys\"}},\"id\":\"2024\",\"type\":\"MultiLine\"},{\"attributes\":{},\"id\":\"2105\",\"type\":\"Selection\"},{\"attributes\":{\"axis\":{\"id\":\"2001\"},\"ticker\":null},\"id\":\"2004\",\"type\":\"Grid\"},{\"attributes\":{},\"id\":\"2010\",\"type\":\"WheelZoomTool\"},{\"attributes\":{},\"id\":\"1993\",\"type\":\"DataRange1d\"},{\"attributes\":{},\"id\":\"2104\",\"type\":\"UnionRenderers\"}],\"root_ids\":[\"1992\"]},\"title\":\"Bokeh Application\",\"version\":\"2.2.1\"}};\n",
       "  var render_items = [{\"docid\":\"b1ca2a14-0ebb-4f4e-b110-9016991b6cf0\",\"root_ids\":[\"1992\"],\"roots\":{\"1992\":\"5f410462-6883-49de-a83e-68d7851e3805\"}}];\n",
       "  root.Bokeh.embed.embed_items_notebook(docs_json, render_items);\n",
       "\n",
       "  }\n",
       "  if (root.Bokeh !== undefined) {\n",
       "    embed_document(root);\n",
       "  } else {\n",
       "    var attempts = 0;\n",
       "    var timer = setInterval(function(root) {\n",
       "      if (root.Bokeh !== undefined) {\n",
       "        clearInterval(timer);\n",
       "        embed_document(root);\n",
       "      } else {\n",
       "        attempts++;\n",
       "        if (attempts > 100) {\n",
       "          clearInterval(timer);\n",
       "          console.log(\"Bokeh: ERROR: Unable to run BokehJS code because BokehJS library is missing\");\n",
       "        }\n",
       "      }\n",
       "    }, 10, root)\n",
       "  }\n",
       "})(window);"
      ],
      "application/vnd.bokehjs_exec.v0+json": ""
     },
     "metadata": {
      "application/vnd.bokehjs_exec.v0+json": {
       "id": "1992"
      }
     },
     "output_type": "display_data"
    }
   ],
   "source": [
    "p = figure(plot_width=800, plot_height=600)\n",
    "\n",
    "p.multi_line([df.index, df.index], [df['A'], df['B']],\n",
    "             color=['firebrick', 'navy'],\n",
    "             alpha=[0.8, 0.6],\n",
    "             line_width=[2, 1])\n",
    "\n",
    "show(p)"
   ]
  },
  {
   "cell_type": "code",
   "execution_count": 23,
   "metadata": {},
   "outputs": [],
   "source": [
    "# 1、折线图 - 多线图\n",
    "# ② 多个line\n",
    "\n",
    "x = np.linspace(0.1, 5, 100)"
   ]
  },
  {
   "cell_type": "code",
   "execution_count": 24,
   "metadata": {},
   "outputs": [
    {
     "data": {
      "text/html": [
       "\n",
       "\n",
       "\n",
       "\n",
       "\n",
       "\n",
       "  <div class=\"bk-root\" id=\"c52a9ab3-d434-4ec6-964c-a2062772abca\" data-root-id=\"2151\"></div>\n"
      ]
     },
     "metadata": {},
     "output_type": "display_data"
    },
    {
     "data": {
      "application/javascript": [
       "(function(root) {\n",
       "  function embed_document(root) {\n",
       "    \n",
       "  var docs_json = {\"4e1ed336-66d4-4370-bc5e-eed8da4de49d\":{\"roots\":{\"references\":[{\"attributes\":{\"below\":[{\"id\":\"2162\"}],\"center\":[{\"id\":\"2165\"},{\"id\":\"2169\"},{\"id\":\"2197\"}],\"left\":[{\"id\":\"2166\"}],\"renderers\":[{\"id\":\"2187\"},{\"id\":\"2202\"},{\"id\":\"2218\"},{\"id\":\"2235\"},{\"id\":\"2255\"},{\"id\":\"2276\"},{\"id\":\"2300\"},{\"id\":\"2326\"}],\"title\":{\"id\":\"2152\"},\"toolbar\":{\"id\":\"2177\"},\"x_range\":{\"id\":\"2154\"},\"x_scale\":{\"id\":\"2158\"},\"y_range\":{\"id\":\"2156\"},\"y_scale\":{\"id\":\"2160\"}},\"id\":\"2151\",\"subtype\":\"Figure\",\"type\":\"Plot\"},{\"attributes\":{},\"id\":\"2158\",\"type\":\"LinearScale\"},{\"attributes\":{\"line_color\":\"#1f77b4\",\"x\":{\"field\":\"x\"},\"y\":{\"field\":\"y\"}},\"id\":\"2200\",\"type\":\"Line\"},{\"attributes\":{\"source\":{\"id\":\"2252\"}},\"id\":\"2256\",\"type\":\"CDSView\"},{\"attributes\":{\"end\":10000000000000000000000,\"start\":0.001},\"id\":\"2156\",\"type\":\"Range1d\"},{\"attributes\":{},\"id\":\"2230\",\"type\":\"UnionRenderers\"},{\"attributes\":{\"data\":{\"x\":{\"__ndarray__\":\"mpmZmZmZuT/OvX+HpiLDP86uMkKAeMk/z5/l/FnOzz9oSMzbGRLTP+jAJbkGPdY/aDl/lvNn2T/qsdhz4JLcP2oqMlHNvd8/ddFFF1104T+1jfKF0wnjP/VJn/RJn+Q/NQZMY8A05j91wvjRNsrnP7Z+pUCtX+k/9jpSryP16j829/4dmorsP3azq4wQIO4/tm9Y+4a17z/8lQK1fqXwPxz0WOw5cPE/PFKvI/U68j9csAVbsAXzP3wOXJJr0PM/nGyyySab9D+8yggB4mX1P9woXzidMPY//Ya1b1j79j8d5QunE8b3Pz1DYt7OkPg/XaG4FYpb+T99/w5NRSb6P51dZYQA8fo/vbu7u7u7+z/dGRLzdob8P/13aCoyUf0/Hda+Ye0b/j89NBWZqOb+P16Sa9Bjsf8/P/jggw8+AEBPJ4wfbaMAQF9WN7vKCAFAb4XiVihuAUB/tI3yhdMBQI/jOI7jOAJAnxLkKUGeAkCvQY/FngMDQL9wOmH8aANAz5/l/FnOA0DfzpCYtzMEQO/9OzQVmQRA/yznz3L+BEAPXJJr0GMFQB+LPQcuyQVAMLrooosuBkBA6ZM+6ZMGQFAYP9pG+QZAYEfqdaReB0BwdpURAsQHQIClQK1fKQhAkNTrSL2OCECgA5fkGvQIQLAyQoB4WQlAwGHtG9a+CUDQkJi3MyQKQOC/Q1ORiQpA8O7u7u7uCkAAHpqKTFQLQBBNRSaquQtAIHzwwQcfDEAwq5tdZYQMQEDaRvnC6QxAUAnylCBPDUBgOJ0wfrQNQHBnSMzbGQ5AgZbzZzl/DkCRxZ4Dl+QOQKH0SZ/0SQ9AsSP1OlKvD0BgKVDrVwoQQOjAJbkGPRBAcFj7hrVvEED479BUZKIQQICHpiIT1RBACB988MEHEUCQtlG+cDoRQBhOJ4wfbRFAoOX8Wc6fEUAofdInfdIRQLAUqPUrBRJAOKx9w9o3EkDAQ1ORiWoSQEjbKF84nRJA0HL+LOfPEkBYCtT6lQITQOChqchENRNAaDl/lvNnE0Dw0FRkopoTQHhoKjJRzRNAAAAAAAAAFEA=\",\"dtype\":\"float64\",\"order\":\"little\",\"shape\":[100]},\"y\":{\"__ndarray__\":\"D0lIYhM91D8QPZjjzb7YPzK64wifjNw/GXn6VSPn3z//ye9jz3fhP16ivPPv3OI/DfNMwmkp5D9W5tY7u2HlPwwBnbAqieY/tAshZjGi5z8jQ5ybu67oP7E4kPFQsOk/hczrDC+o6j/0iwzLW5frP5k2qxOyfuw/0YpNHOte7T/e9yZApTjuP6j3dSdpDO8/c6shuq3a7z8NtseY7VHwP2lp98EmtPA/GIsYKSsU8T9PAyw7H3LxP25i6aMjzvE/hhwD01Uo8j8TapBq0IDyP2srOpur1/I/LTC4cf0s8z9FEmIY2oDzP2TM/g5U0/M/XK6KWnwk9D+ErVKuYnT0PwBsf48Vw/Q/97f0c6IQ9T9mEkDdFV31P5RXL3B7qPU/qeqNCd7y9T/qSnHQRzz2P0WZbEbChPY/8HH0VVbM9j8E7TBfDBP3P+4VckPsWPc/r0xzb/2d9z9sfJPkRuL3PzCgIkHPJfg/fX7gx5xo+D9srcRmtar4P/OyJL0e7Pg/WVVKId4s+T8X2Yml+Gz5P5Tq5RxzrPk/MzxNH1Lr+T9+aXwNmin6P9BrjRRPZ/o/HdU8MXWk+j+cEuwyEOH6Py0mZ74jHfs/oI1zULNY+z9zbi1AwpP7PyeQN8FTzvs/7DPC5WoI/D/9a2ygCkL8P1Q1A8Y1e/w/FUIhD++z/D8sGLIZOez8P2DlWmoWJP0/Ty/LbYlb/T87Ufd5lJL9P++KPs85yf0/ODp+mXv//T8MsxPxWzX+PxgJztvcav4/Qf/QTQCg/j+9NmoqyNT+PwKf2UQ2Cf8/6REOYUw9/z+N81Y0DHH/P5KbC2Z3pP8/Mj0pkI/X/z9y+vMfKwUAQHrKI3tmHgBAK19KlHo3AED5Y3MgaFAAQFt2S88vaQBAoZdYS9KBAEAOrS86UJoAQJs9pzyqsgBAepkH7+DKAEAllDjp9OIAQMf27L7m+gBARc7L/7YSAUCEtZc3ZioBQF46VO70QQFAl3lpqGNZAUA3DMbmsnABQNte/ybjhwFA/Ylw4/SeAUCcwFeT6LUBQFhp8qq+zAFAqPSXm3fjAUA=\",\"dtype\":\"float64\",\"order\":\"little\",\"shape\":[100]}},\"selected\":{\"id\":\"2196\"},\"selection_policy\":{\"id\":\"2195\"}},\"id\":\"2184\",\"type\":\"ColumnDataSource\"},{\"attributes\":{},\"id\":\"2163\",\"type\":\"BasicTicker\"},{\"attributes\":{\"axis_label\":\"Values (log scale)\",\"formatter\":{\"id\":\"2193\"},\"ticker\":{\"id\":\"2167\"}},\"id\":\"2166\",\"type\":\"LogAxis\"},{\"attributes\":{},\"id\":\"2160\",\"type\":\"LogScale\"},{\"attributes\":{\"data\":{\"x\":{\"__ndarray__\":\"mpmZmZmZuT/OvX+HpiLDP86uMkKAeMk/z5/l/FnOzz9oSMzbGRLTP+jAJbkGPdY/aDl/lvNn2T/qsdhz4JLcP2oqMlHNvd8/ddFFF1104T+1jfKF0wnjP/VJn/RJn+Q/NQZMY8A05j91wvjRNsrnP7Z+pUCtX+k/9jpSryP16j829/4dmorsP3azq4wQIO4/tm9Y+4a17z/8lQK1fqXwPxz0WOw5cPE/PFKvI/U68j9csAVbsAXzP3wOXJJr0PM/nGyyySab9D+8yggB4mX1P9woXzidMPY//Ya1b1j79j8d5QunE8b3Pz1DYt7OkPg/XaG4FYpb+T99/w5NRSb6P51dZYQA8fo/vbu7u7u7+z/dGRLzdob8P/13aCoyUf0/Hda+Ye0b/j89NBWZqOb+P16Sa9Bjsf8/P/jggw8+AEBPJ4wfbaMAQF9WN7vKCAFAb4XiVihuAUB/tI3yhdMBQI/jOI7jOAJAnxLkKUGeAkCvQY/FngMDQL9wOmH8aANAz5/l/FnOA0DfzpCYtzMEQO/9OzQVmQRA/yznz3L+BEAPXJJr0GMFQB+LPQcuyQVAMLrooosuBkBA6ZM+6ZMGQFAYP9pG+QZAYEfqdaReB0BwdpURAsQHQIClQK1fKQhAkNTrSL2OCECgA5fkGvQIQLAyQoB4WQlAwGHtG9a+CUDQkJi3MyQKQOC/Q1ORiQpA8O7u7u7uCkAAHpqKTFQLQBBNRSaquQtAIHzwwQcfDEAwq5tdZYQMQEDaRvnC6QxAUAnylCBPDUBgOJ0wfrQNQHBnSMzbGQ5AgZbzZzl/DkCRxZ4Dl+QOQKH0SZ/0SQ9AsSP1OlKvD0BgKVDrVwoQQOjAJbkGPRBAcFj7hrVvEED479BUZKIQQICHpiIT1RBACB988MEHEUCQtlG+cDoRQBhOJ4wfbRFAoOX8Wc6fEUAofdInfdIRQLAUqPUrBRJAOKx9w9o3EkDAQ1ORiWoSQEjbKF84nRJA0HL+LOfPEkBYCtT6lQITQOChqchENRNAaDl/lvNnE0Dw0FRkopoTQHhoKjJRzRNAAAAAAAAAFEA=\",\"dtype\":\"float64\",\"order\":\"little\",\"shape\":[100]},\"y\":{\"__ndarray__\":\"mpmZmZmZuT/OvX+HpiLDP86uMkKAeMk/z5/l/FnOzz9oSMzbGRLTP+jAJbkGPdY/aDl/lvNn2T/qsdhz4JLcP2oqMlHNvd8/ddFFF1104T+1jfKF0wnjP/VJn/RJn+Q/NQZMY8A05j91wvjRNsrnP7Z+pUCtX+k/9jpSryP16j829/4dmorsP3azq4wQIO4/tm9Y+4a17z/8lQK1fqXwPxz0WOw5cPE/PFKvI/U68j9csAVbsAXzP3wOXJJr0PM/nGyyySab9D+8yggB4mX1P9woXzidMPY//Ya1b1j79j8d5QunE8b3Pz1DYt7OkPg/XaG4FYpb+T99/w5NRSb6P51dZYQA8fo/vbu7u7u7+z/dGRLzdob8P/13aCoyUf0/Hda+Ye0b/j89NBWZqOb+P16Sa9Bjsf8/P/jggw8+AEBPJ4wfbaMAQF9WN7vKCAFAb4XiVihuAUB/tI3yhdMBQI/jOI7jOAJAnxLkKUGeAkCvQY/FngMDQL9wOmH8aANAz5/l/FnOA0DfzpCYtzMEQO/9OzQVmQRA/yznz3L+BEAPXJJr0GMFQB+LPQcuyQVAMLrooosuBkBA6ZM+6ZMGQFAYP9pG+QZAYEfqdaReB0BwdpURAsQHQIClQK1fKQhAkNTrSL2OCECgA5fkGvQIQLAyQoB4WQlAwGHtG9a+CUDQkJi3MyQKQOC/Q1ORiQpA8O7u7u7uCkAAHpqKTFQLQBBNRSaquQtAIHzwwQcfDEAwq5tdZYQMQEDaRvnC6QxAUAnylCBPDUBgOJ0wfrQNQHBnSMzbGQ5AgZbzZzl/DkCRxZ4Dl+QOQKH0SZ/0SQ9AsSP1OlKvD0BgKVDrVwoQQOjAJbkGPRBAcFj7hrVvEED479BUZKIQQICHpiIT1RBACB988MEHEUCQtlG+cDoRQBhOJ4wfbRFAoOX8Wc6fEUAofdInfdIRQLAUqPUrBRJAOKx9w9o3EkDAQ1ORiWoSQEjbKF84nRJA0HL+LOfPEkBYCtT6lQITQOChqchENRNAaDl/lvNnE0Dw0FRkopoTQHhoKjJRzRNAAAAAAAAAFEA=\",\"dtype\":\"float64\",\"order\":\"little\",\"shape\":[100]}},\"selected\":{\"id\":\"2213\"},\"selection_policy\":{\"id\":\"2212\"}},\"id\":\"2199\",\"type\":\"ColumnDataSource\"},{\"attributes\":{},\"id\":\"2250\",\"type\":\"Selection\"},{\"attributes\":{\"axis_label\":\"Domain\",\"formatter\":{\"id\":\"2191\"},\"ticker\":{\"id\":\"2163\"}},\"id\":\"2162\",\"type\":\"LinearAxis\"},{\"attributes\":{\"line_color\":\"coral\",\"line_dash\":[6],\"line_width\":2,\"x\":{\"field\":\"x\"},\"y\":{\"field\":\"y\"}},\"id\":\"2324\",\"type\":\"Line\"},{\"attributes\":{},\"id\":\"2154\",\"type\":\"DataRange1d\"},{\"attributes\":{},\"id\":\"2212\",\"type\":\"UnionRenderers\"},{\"attributes\":{\"source\":{\"id\":\"2184\"}},\"id\":\"2188\",\"type\":\"CDSView\"},{\"attributes\":{\"fill_color\":{\"value\":\"#1f77b4\"},\"line_color\":{\"value\":\"#1f77b4\"},\"x\":{\"field\":\"x\"},\"y\":{\"field\":\"y\"}},\"id\":\"2216\",\"type\":\"Circle\"},{\"attributes\":{},\"id\":\"2295\",\"type\":\"Selection\"},{\"attributes\":{\"data_source\":{\"id\":\"2252\"},\"glyph\":{\"id\":\"2253\"},\"hover_glyph\":null,\"muted_glyph\":null,\"nonselection_glyph\":{\"id\":\"2254\"},\"selection_glyph\":null,\"view\":{\"id\":\"2256\"}},\"id\":\"2255\",\"type\":\"GlyphRenderer\"},{\"attributes\":{\"num_minor_ticks\":10},\"id\":\"2167\",\"type\":\"LogTicker\"},{\"attributes\":{\"ticker\":null},\"id\":\"2193\",\"type\":\"LogTickFormatter\"},{\"attributes\":{\"data_source\":{\"id\":\"2184\"},\"glyph\":{\"id\":\"2185\"},\"hover_glyph\":null,\"muted_glyph\":null,\"nonselection_glyph\":{\"id\":\"2186\"},\"selection_glyph\":null,\"view\":{\"id\":\"2188\"}},\"id\":\"2187\",\"type\":\"GlyphRenderer\"},{\"attributes\":{\"data\":{\"x\":{\"__ndarray__\":\"mpmZmZmZuT/OvX+HpiLDP86uMkKAeMk/z5/l/FnOzz9oSMzbGRLTP+jAJbkGPdY/aDl/lvNn2T/qsdhz4JLcP2oqMlHNvd8/ddFFF1104T+1jfKF0wnjP/VJn/RJn+Q/NQZMY8A05j91wvjRNsrnP7Z+pUCtX+k/9jpSryP16j829/4dmorsP3azq4wQIO4/tm9Y+4a17z/8lQK1fqXwPxz0WOw5cPE/PFKvI/U68j9csAVbsAXzP3wOXJJr0PM/nGyyySab9D+8yggB4mX1P9woXzidMPY//Ya1b1j79j8d5QunE8b3Pz1DYt7OkPg/XaG4FYpb+T99/w5NRSb6P51dZYQA8fo/vbu7u7u7+z/dGRLzdob8P/13aCoyUf0/Hda+Ye0b/j89NBWZqOb+P16Sa9Bjsf8/P/jggw8+AEBPJ4wfbaMAQF9WN7vKCAFAb4XiVihuAUB/tI3yhdMBQI/jOI7jOAJAnxLkKUGeAkCvQY/FngMDQL9wOmH8aANAz5/l/FnOA0DfzpCYtzMEQO/9OzQVmQRA/yznz3L+BEAPXJJr0GMFQB+LPQcuyQVAMLrooosuBkBA6ZM+6ZMGQFAYP9pG+QZAYEfqdaReB0BwdpURAsQHQIClQK1fKQhAkNTrSL2OCECgA5fkGvQIQLAyQoB4WQlAwGHtG9a+CUDQkJi3MyQKQOC/Q1ORiQpA8O7u7u7uCkAAHpqKTFQLQBBNRSaquQtAIHzwwQcfDEAwq5tdZYQMQEDaRvnC6QxAUAnylCBPDUBgOJ0wfrQNQHBnSMzbGQ5AgZbzZzl/DkCRxZ4Dl+QOQKH0SZ/0SQ9AsSP1OlKvD0BgKVDrVwoQQOjAJbkGPRBAcFj7hrVvEED479BUZKIQQICHpiIT1RBACB988MEHEUCQtlG+cDoRQBhOJ4wfbRFAoOX8Wc6fEUAofdInfdIRQLAUqPUrBRJAOKx9w9o3EkDAQ1ORiWoSQEjbKF84nRJA0HL+LOfPEkBYCtT6lQITQOChqchENRNAaDl/lvNnE0Dw0FRkopoTQHhoKjJRzRNAAAAAAAAAFEA=\",\"dtype\":\"float64\",\"order\":\"little\",\"shape\":[100]},\"y\":{\"__ndarray__\":\"LCYBeWhf8D9YMo0XTNjwP7lwLUUCh/E/NjZCrMRx8j87ZNvsLqHzP+s6F4zFIPU/YAoDerD/9j+XyDq0uVH5P0MCUFynMPw/TRHUKBK+/z+8f05U8xICQA0App3p0ARAcZq3UwA/CECU6ZL4zY8MQIFhtex8AxFAP6btxtB/FEBKjPbKsfoYQGM2kHGfyB5AMZpbeAIvI0AH5FKJSC4oQIYxvnNS0y5AiHHCVfbeM0C9O/c5zOg5QOW5WYFAFUFAJuWASVPIRkBm4ubKcbpOQH4/7XEv9VRADuRKK4PpXEBjRQHMRytkQDSIFrOEdWxANGXnGldOdECK2v+QXk59QI2vcbE4Y4VAeoIUQEqSj0DzJrXrC5GXQMXu6N55yqFABtZBY48qq0BNolG88/m0QIE0fTFxYcBAtutQNLLfyUCPyYwgiarUQF14O/2kseBAHGzPk8BG60AR7qUTUYn2QDQya/DT1AJBEgzOQ/PTD0EtCEvtxTMbQSlVrNU4gydBCZrJvtCNNEHvLeFb5itCQSWl2HpXP1BB9xUmlEJiXUGkaOoFQt9qQUBCEYqY2nhBMtlXhIA/h0FIwsH6IP6VQYUylEGJCqVBAZ+ndvNbtEF9K1xSPezDQeyPmeGLt9NBstmtihK840HfyIy9+PnzQYI/tDJccwRCHtS25m8sFUKfdupPuismQtnPVt13ejdCRZGI5yklSUKTfq80XjxbQqfO8X3A1W1Cfi4jU8eGgEJPL1U5SYSSQnKjp+9o+6RCBDpeyJ0LuEJ6oL8YWd7LQjRq+AFBVeBCKHUzg6Zc80KX55M5gTYHQyX22z1FJRxDefJ5c75BMUPhskwkvGZFQyjaa1mg11pDdqC5HDYGcUMsRNBD9taFQ7zVXEjHVZxDvV7SUPSWskNBaeCWN6vIQ1MK4gW+jeBDUmAb4uJ39kNvBEh2m9cORMzBz6igaCVEHdjoee0OPkSJtWQLN1dVRJ1sFjyEpW5EdLhNtDxBhkRmx7muJFigRHoUFimIR7hEeEGiGvQ80kTHykxO/LXrRAshCGZtSgVFkQIoLCqLIEU=\",\"dtype\":\"float64\",\"order\":\"little\",\"shape\":[100]}},\"selected\":{\"id\":\"2349\"},\"selection_policy\":{\"id\":\"2348\"}},\"id\":\"2323\",\"type\":\"ColumnDataSource\"},{\"attributes\":{\"text\":\"log axis example\"},\"id\":\"2152\",\"type\":\"Title\"},{\"attributes\":{\"axis\":{\"id\":\"2166\"},\"dimension\":1,\"ticker\":null},\"id\":\"2169\",\"type\":\"Grid\"},{\"attributes\":{},\"id\":\"2249\",\"type\":\"UnionRenderers\"},{\"attributes\":{\"label\":{\"value\":\"y=10^(x^2)\"},\"renderers\":[{\"id\":\"2326\"}]},\"id\":\"2350\",\"type\":\"LegendItem\"},{\"attributes\":{\"data_source\":{\"id\":\"2232\"},\"glyph\":{\"id\":\"2233\"},\"hover_glyph\":null,\"muted_glyph\":null,\"nonselection_glyph\":{\"id\":\"2234\"},\"selection_glyph\":null,\"view\":{\"id\":\"2236\"}},\"id\":\"2235\",\"type\":\"GlyphRenderer\"},{\"attributes\":{\"data_source\":{\"id\":\"2273\"},\"glyph\":{\"id\":\"2274\"},\"hover_glyph\":null,\"muted_glyph\":null,\"nonselection_glyph\":{\"id\":\"2275\"},\"selection_glyph\":null,\"view\":{\"id\":\"2277\"}},\"id\":\"2276\",\"type\":\"GlyphRenderer\"},{\"attributes\":{\"line_color\":\"indigo\",\"line_dash\":[2,4],\"line_width\":2,\"x\":{\"field\":\"x\"},\"y\":{\"field\":\"y\"}},\"id\":\"2298\",\"type\":\"Line\"},{\"attributes\":{},\"id\":\"2271\",\"type\":\"UnionRenderers\"},{\"attributes\":{},\"id\":\"2349\",\"type\":\"Selection\"},{\"attributes\":{},\"id\":\"2213\",\"type\":\"Selection\"},{\"attributes\":{},\"id\":\"2170\",\"type\":\"PanTool\"},{\"attributes\":{\"data\":{\"x\":{\"__ndarray__\":\"mpmZmZmZuT/OvX+HpiLDP86uMkKAeMk/z5/l/FnOzz9oSMzbGRLTP+jAJbkGPdY/aDl/lvNn2T/qsdhz4JLcP2oqMlHNvd8/ddFFF1104T+1jfKF0wnjP/VJn/RJn+Q/NQZMY8A05j91wvjRNsrnP7Z+pUCtX+k/9jpSryP16j829/4dmorsP3azq4wQIO4/tm9Y+4a17z/8lQK1fqXwPxz0WOw5cPE/PFKvI/U68j9csAVbsAXzP3wOXJJr0PM/nGyyySab9D+8yggB4mX1P9woXzidMPY//Ya1b1j79j8d5QunE8b3Pz1DYt7OkPg/XaG4FYpb+T99/w5NRSb6P51dZYQA8fo/vbu7u7u7+z/dGRLzdob8P/13aCoyUf0/Hda+Ye0b/j89NBWZqOb+P16Sa9Bjsf8/P/jggw8+AEBPJ4wfbaMAQF9WN7vKCAFAb4XiVihuAUB/tI3yhdMBQI/jOI7jOAJAnxLkKUGeAkCvQY/FngMDQL9wOmH8aANAz5/l/FnOA0DfzpCYtzMEQO/9OzQVmQRA/yznz3L+BEAPXJJr0GMFQB+LPQcuyQVAMLrooosuBkBA6ZM+6ZMGQFAYP9pG+QZAYEfqdaReB0BwdpURAsQHQIClQK1fKQhAkNTrSL2OCECgA5fkGvQIQLAyQoB4WQlAwGHtG9a+CUDQkJi3MyQKQOC/Q1ORiQpA8O7u7u7uCkAAHpqKTFQLQBBNRSaquQtAIHzwwQcfDEAwq5tdZYQMQEDaRvnC6QxAUAnylCBPDUBgOJ0wfrQNQHBnSMzbGQ5AgZbzZzl/DkCRxZ4Dl+QOQKH0SZ/0SQ9AsSP1OlKvD0BgKVDrVwoQQOjAJbkGPRBAcFj7hrVvEED479BUZKIQQICHpiIT1RBACB988MEHEUCQtlG+cDoRQBhOJ4wfbRFAoOX8Wc6fEUAofdInfdIRQLAUqPUrBRJAOKx9w9o3EkDAQ1ORiWoSQEjbKF84nRJA0HL+LOfPEkBYCtT6lQITQOChqchENRNAaDl/lvNnE0Dw0FRkopoTQHhoKjJRzRNAAAAAAAAAFEA=\",\"dtype\":\"float64\",\"order\":\"little\",\"shape\":[100]}},\"selected\":{\"id\":\"2295\"},\"selection_policy\":{\"id\":\"2294\"}},\"id\":\"2273\",\"type\":\"ColumnDataSource\"},{\"attributes\":{},\"id\":\"2174\",\"type\":\"ResetTool\"},{\"attributes\":{},\"id\":\"2195\",\"type\":\"UnionRenderers\"},{\"attributes\":{},\"id\":\"2171\",\"type\":\"WheelZoomTool\"},{\"attributes\":{\"label\":{\"value\":\"y=x^2\"},\"renderers\":[{\"id\":\"2235\"},{\"id\":\"2255\"}]},\"id\":\"2251\",\"type\":\"LegendItem\"},{\"attributes\":{\"label\":{\"value\":\"y=10^x\"},\"renderers\":[{\"id\":\"2276\"}]},\"id\":\"2296\",\"type\":\"LegendItem\"},{\"attributes\":{\"overlay\":{\"id\":\"2176\"}},\"id\":\"2172\",\"type\":\"BoxZoomTool\"},{\"attributes\":{},\"id\":\"2173\",\"type\":\"SaveTool\"},{\"attributes\":{\"source\":{\"id\":\"2232\"}},\"id\":\"2236\",\"type\":\"CDSView\"},{\"attributes\":{\"fill_color\":{\"value\":null},\"line_color\":{\"value\":\"olivedrab\"},\"x\":{\"field\":\"x\"},\"y\":{\"field\":\"y\"}},\"id\":\"2253\",\"type\":\"Circle\"},{\"attributes\":{},\"id\":\"2175\",\"type\":\"HelpTool\"},{\"attributes\":{\"line_color\":\"gold\",\"line_width\":2,\"x\":{\"field\":\"x\"},\"y\":{\"value\":100}},\"id\":\"2274\",\"type\":\"Line\"},{\"attributes\":{},\"id\":\"2294\",\"type\":\"UnionRenderers\"},{\"attributes\":{\"line_alpha\":0.1,\"line_color\":\"tomato\",\"line_dash\":[2,4,6,4],\"x\":{\"field\":\"x\"},\"y\":{\"field\":\"y\"}},\"id\":\"2186\",\"type\":\"Line\"},{\"attributes\":{\"data_source\":{\"id\":\"2199\"},\"glyph\":{\"id\":\"2200\"},\"hover_glyph\":null,\"muted_glyph\":null,\"nonselection_glyph\":{\"id\":\"2201\"},\"selection_glyph\":null,\"view\":{\"id\":\"2203\"}},\"id\":\"2202\",\"type\":\"GlyphRenderer\"},{\"attributes\":{},\"id\":\"2191\",\"type\":\"BasicTickFormatter\"},{\"attributes\":{\"source\":{\"id\":\"2199\"}},\"id\":\"2203\",\"type\":\"CDSView\"},{\"attributes\":{\"line_color\":\"#1f77b4\",\"x\":{\"field\":\"x\"},\"y\":{\"field\":\"y\"}},\"id\":\"2233\",\"type\":\"Line\"},{\"attributes\":{},\"id\":\"2320\",\"type\":\"UnionRenderers\"},{\"attributes\":{},\"id\":\"2272\",\"type\":\"Selection\"},{\"attributes\":{\"line_alpha\":0.1,\"line_color\":\"indigo\",\"line_dash\":[2,4],\"line_width\":2,\"x\":{\"field\":\"x\"},\"y\":{\"field\":\"y\"}},\"id\":\"2299\",\"type\":\"Line\"},{\"attributes\":{\"data\":{\"x\":{\"__ndarray__\":\"mpmZmZmZuT/OvX+HpiLDP86uMkKAeMk/z5/l/FnOzz9oSMzbGRLTP+jAJbkGPdY/aDl/lvNn2T/qsdhz4JLcP2oqMlHNvd8/ddFFF1104T+1jfKF0wnjP/VJn/RJn+Q/NQZMY8A05j91wvjRNsrnP7Z+pUCtX+k/9jpSryP16j829/4dmorsP3azq4wQIO4/tm9Y+4a17z/8lQK1fqXwPxz0WOw5cPE/PFKvI/U68j9csAVbsAXzP3wOXJJr0PM/nGyyySab9D+8yggB4mX1P9woXzidMPY//Ya1b1j79j8d5QunE8b3Pz1DYt7OkPg/XaG4FYpb+T99/w5NRSb6P51dZYQA8fo/vbu7u7u7+z/dGRLzdob8P/13aCoyUf0/Hda+Ye0b/j89NBWZqOb+P16Sa9Bjsf8/P/jggw8+AEBPJ4wfbaMAQF9WN7vKCAFAb4XiVihuAUB/tI3yhdMBQI/jOI7jOAJAnxLkKUGeAkCvQY/FngMDQL9wOmH8aANAz5/l/FnOA0DfzpCYtzMEQO/9OzQVmQRA/yznz3L+BEAPXJJr0GMFQB+LPQcuyQVAMLrooosuBkBA6ZM+6ZMGQFAYP9pG+QZAYEfqdaReB0BwdpURAsQHQIClQK1fKQhAkNTrSL2OCECgA5fkGvQIQLAyQoB4WQlAwGHtG9a+CUDQkJi3MyQKQOC/Q1ORiQpA8O7u7u7uCkAAHpqKTFQLQBBNRSaquQtAIHzwwQcfDEAwq5tdZYQMQEDaRvnC6QxAUAnylCBPDUBgOJ0wfrQNQHBnSMzbGQ5AgZbzZzl/DkCRxZ4Dl+QOQKH0SZ/0SQ9AsSP1OlKvD0BgKVDrVwoQQOjAJbkGPRBAcFj7hrVvEED479BUZKIQQICHpiIT1RBACB988MEHEUCQtlG+cDoRQBhOJ4wfbRFAoOX8Wc6fEUAofdInfdIRQLAUqPUrBRJAOKx9w9o3EkDAQ1ORiWoSQEjbKF84nRJA0HL+LOfPEkBYCtT6lQITQOChqchENRNAaDl/lvNnE0Dw0FRkopoTQHhoKjJRzRNAAAAAAAAAFEA=\",\"dtype\":\"float64\",\"order\":\"little\",\"shape\":[100]},\"y\":{\"__ndarray__\":\"NMTNCyNr6T8r5WwH9hXoP7RYP/sQNec/7fGLawmk5j+I66bM8k7mP5plZ0HHKeY/ledPId4s5j/+6iz3NVPmPyZU30GJmeY/o0ZCk8b95j9GLJjqvX7nP2g2S53sG+g/Fjm4zlvV6D9guc69iqvpP7rA6/Zgn+o/dVAqBCay6z+H2OgcfeXsP+ciCeFjO+4/PeBhhDO27z+AERgEUqzwP84QjqPokvE/dKHT2aCQ8j90UHBed6fzP6YcWm6n2fQ/FsTjr7Ap9j+pH+AAXpr3PyweaEHNLvk/+pyCMnjq+j+SEsiEPtH8Pwl8Kzhx5/4/JM+9ue+YAEBzvAqA8toBQJfOYU69PANAz6IDMaTBBEBKSBU9XW0GQNF/UjwMRAhASARb009KCkDg0WlTUIUMQL9Z7G7Q+g5AUQr/B6DYEECIVDLM6FcSQPkeOO5I/xNAvTijmkHTFUBgc+cJ3tgXQJvq98XEFRpAg5skMEuQHEBLvLiUi08fQJJTTRK/LSFAyC+6nIreIkDJ1XirLr8kQMni07VQ1SZA1fJG80knKUAZynGlPrwrQG+KLoI4nC5AsFU4ViLoMEC+uiTdSrEyQOhlNyxVrzRAv38gmLzoNkD1LHhm0WQ5QBMfvyvVKzxAeoc2EBtHP0BCoGdElmBBQJSK9JL5UkNATmCOGHSBRUDZeyV3pfNHQIQEmDkvskpAVGMxFtjGTUCtxOgTWp5QQNZJoGopkFJAG+KonPm/VEAWQNf+3zVXQFQGCN8J+1lAT6KHmeMZXUA799akIk9gQC2LRvTSSmJA5NAd5qqHZEACUmHPYA5nQI4X6obf6GlAbqmBUnIibUAMaxKf+2NwQC7sWGkMdHJAXFBUI8jJdEDBDGq3uG53QKXoTfPAbXpATm23kE7TfUAlu1vWydaAQEs2K2dkBoNAEtzjZLyBhUCWvZQAbFOIQLwvzF+Uh4tAjjxSWBcsj0B9r5zxbKiRQGyZdE8IBJRAqibV9kuzlkBHy1q+LMKZQNkuIKRgPp1AE+dDIdGboEDa0mpO/9+iQJAvonAXdqVAAAAAAABqqEA=\",\"dtype\":\"float64\",\"order\":\"little\",\"shape\":[100]}},\"selected\":{\"id\":\"2321\"},\"selection_policy\":{\"id\":\"2320\"}},\"id\":\"2297\",\"type\":\"ColumnDataSource\"},{\"attributes\":{\"line_color\":\"tomato\",\"line_dash\":[2,4,6,4],\"x\":{\"field\":\"x\"},\"y\":{\"field\":\"y\"}},\"id\":\"2185\",\"type\":\"Line\"},{\"attributes\":{\"source\":{\"id\":\"2273\"}},\"id\":\"2277\",\"type\":\"CDSView\"},{\"attributes\":{\"line_alpha\":0.1,\"line_color\":\"#1f77b4\",\"x\":{\"field\":\"x\"},\"y\":{\"field\":\"y\"}},\"id\":\"2234\",\"type\":\"Line\"},{\"attributes\":{\"line_alpha\":0.1,\"line_color\":\"gold\",\"line_width\":2,\"x\":{\"field\":\"x\"},\"y\":{\"value\":100}},\"id\":\"2275\",\"type\":\"Line\"},{\"attributes\":{\"label\":{\"value\":\"y=x\"},\"renderers\":[{\"id\":\"2202\"},{\"id\":\"2218\"}]},\"id\":\"2214\",\"type\":\"LegendItem\"},{\"attributes\":{\"items\":[{\"id\":\"2198\"},{\"id\":\"2214\"},{\"id\":\"2251\"},{\"id\":\"2296\"},{\"id\":\"2322\"},{\"id\":\"2350\"}],\"location\":\"top_left\"},\"id\":\"2197\",\"type\":\"Legend\"},{\"attributes\":{\"source\":{\"id\":\"2297\"}},\"id\":\"2301\",\"type\":\"CDSView\"},{\"attributes\":{\"line_alpha\":0.1,\"line_color\":\"#1f77b4\",\"x\":{\"field\":\"x\"},\"y\":{\"field\":\"y\"}},\"id\":\"2201\",\"type\":\"Line\"},{\"attributes\":{\"data_source\":{\"id\":\"2297\"},\"glyph\":{\"id\":\"2298\"},\"hover_glyph\":null,\"muted_glyph\":null,\"nonselection_glyph\":{\"id\":\"2299\"},\"selection_glyph\":null,\"view\":{\"id\":\"2301\"}},\"id\":\"2300\",\"type\":\"GlyphRenderer\"},{\"attributes\":{\"fill_alpha\":{\"value\":0.1},\"fill_color\":{\"value\":null},\"line_alpha\":{\"value\":0.1},\"line_color\":{\"value\":\"olivedrab\"},\"x\":{\"field\":\"x\"},\"y\":{\"field\":\"y\"}},\"id\":\"2254\",\"type\":\"Circle\"},{\"attributes\":{\"bottom_units\":\"screen\",\"fill_alpha\":0.5,\"fill_color\":\"lightgrey\",\"left_units\":\"screen\",\"level\":\"overlay\",\"line_alpha\":1.0,\"line_color\":\"black\",\"line_dash\":[4,4],\"line_width\":2,\"right_units\":\"screen\",\"top_units\":\"screen\"},\"id\":\"2176\",\"type\":\"BoxAnnotation\"},{\"attributes\":{\"axis\":{\"id\":\"2162\"},\"ticker\":null},\"id\":\"2165\",\"type\":\"Grid\"},{\"attributes\":{},\"id\":\"2321\",\"type\":\"Selection\"},{\"attributes\":{},\"id\":\"2231\",\"type\":\"Selection\"},{\"attributes\":{\"label\":{\"value\":\"y=x^x\"},\"renderers\":[{\"id\":\"2300\"}]},\"id\":\"2322\",\"type\":\"LegendItem\"},{\"attributes\":{\"data_source\":{\"id\":\"2323\"},\"glyph\":{\"id\":\"2324\"},\"hover_glyph\":null,\"muted_glyph\":null,\"nonselection_glyph\":{\"id\":\"2325\"},\"selection_glyph\":null,\"view\":{\"id\":\"2327\"}},\"id\":\"2326\",\"type\":\"GlyphRenderer\"},{\"attributes\":{\"active_drag\":\"auto\",\"active_inspect\":\"auto\",\"active_multi\":null,\"active_scroll\":\"auto\",\"active_tap\":\"auto\",\"tools\":[{\"id\":\"2170\"},{\"id\":\"2171\"},{\"id\":\"2172\"},{\"id\":\"2173\"},{\"id\":\"2174\"},{\"id\":\"2175\"}]},\"id\":\"2177\",\"type\":\"Toolbar\"},{\"attributes\":{\"line_alpha\":0.1,\"line_color\":\"coral\",\"line_dash\":[6],\"line_width\":2,\"x\":{\"field\":\"x\"},\"y\":{\"field\":\"y\"}},\"id\":\"2325\",\"type\":\"Line\"},{\"attributes\":{\"data_source\":{\"id\":\"2215\"},\"glyph\":{\"id\":\"2216\"},\"hover_glyph\":null,\"muted_glyph\":null,\"nonselection_glyph\":{\"id\":\"2217\"},\"selection_glyph\":null,\"view\":{\"id\":\"2219\"}},\"id\":\"2218\",\"type\":\"GlyphRenderer\"},{\"attributes\":{},\"id\":\"2348\",\"type\":\"UnionRenderers\"},{\"attributes\":{\"data\":{\"x\":{\"__ndarray__\":\"mpmZmZmZuT/OvX+HpiLDP86uMkKAeMk/z5/l/FnOzz9oSMzbGRLTP+jAJbkGPdY/aDl/lvNn2T/qsdhz4JLcP2oqMlHNvd8/ddFFF1104T+1jfKF0wnjP/VJn/RJn+Q/NQZMY8A05j91wvjRNsrnP7Z+pUCtX+k/9jpSryP16j829/4dmorsP3azq4wQIO4/tm9Y+4a17z/8lQK1fqXwPxz0WOw5cPE/PFKvI/U68j9csAVbsAXzP3wOXJJr0PM/nGyyySab9D+8yggB4mX1P9woXzidMPY//Ya1b1j79j8d5QunE8b3Pz1DYt7OkPg/XaG4FYpb+T99/w5NRSb6P51dZYQA8fo/vbu7u7u7+z/dGRLzdob8P/13aCoyUf0/Hda+Ye0b/j89NBWZqOb+P16Sa9Bjsf8/P/jggw8+AEBPJ4wfbaMAQF9WN7vKCAFAb4XiVihuAUB/tI3yhdMBQI/jOI7jOAJAnxLkKUGeAkCvQY/FngMDQL9wOmH8aANAz5/l/FnOA0DfzpCYtzMEQO/9OzQVmQRA/yznz3L+BEAPXJJr0GMFQB+LPQcuyQVAMLrooosuBkBA6ZM+6ZMGQFAYP9pG+QZAYEfqdaReB0BwdpURAsQHQIClQK1fKQhAkNTrSL2OCECgA5fkGvQIQLAyQoB4WQlAwGHtG9a+CUDQkJi3MyQKQOC/Q1ORiQpA8O7u7u7uCkAAHpqKTFQLQBBNRSaquQtAIHzwwQcfDEAwq5tdZYQMQEDaRvnC6QxAUAnylCBPDUBgOJ0wfrQNQHBnSMzbGQ5AgZbzZzl/DkCRxZ4Dl+QOQKH0SZ/0SQ9AsSP1OlKvD0BgKVDrVwoQQOjAJbkGPRBAcFj7hrVvEED479BUZKIQQICHpiIT1RBACB988MEHEUCQtlG+cDoRQBhOJ4wfbRFAoOX8Wc6fEUAofdInfdIRQLAUqPUrBRJAOKx9w9o3EkDAQ1ORiWoSQEjbKF84nRJA0HL+LOfPEkBYCtT6lQITQOChqchENRNAaDl/lvNnE0Dw0FRkopoTQHhoKjJRzRNAAAAAAAAAFEA=\",\"dtype\":\"float64\",\"order\":\"little\",\"shape\":[100]},\"y\":{\"__ndarray__\":\"mpmZmZmZuT/OvX+HpiLDP86uMkKAeMk/z5/l/FnOzz9oSMzbGRLTP+jAJbkGPdY/aDl/lvNn2T/qsdhz4JLcP2oqMlHNvd8/ddFFF1104T+1jfKF0wnjP/VJn/RJn+Q/NQZMY8A05j91wvjRNsrnP7Z+pUCtX+k/9jpSryP16j829/4dmorsP3azq4wQIO4/tm9Y+4a17z/8lQK1fqXwPxz0WOw5cPE/PFKvI/U68j9csAVbsAXzP3wOXJJr0PM/nGyyySab9D+8yggB4mX1P9woXzidMPY//Ya1b1j79j8d5QunE8b3Pz1DYt7OkPg/XaG4FYpb+T99/w5NRSb6P51dZYQA8fo/vbu7u7u7+z/dGRLzdob8P/13aCoyUf0/Hda+Ye0b/j89NBWZqOb+P16Sa9Bjsf8/P/jggw8+AEBPJ4wfbaMAQF9WN7vKCAFAb4XiVihuAUB/tI3yhdMBQI/jOI7jOAJAnxLkKUGeAkCvQY/FngMDQL9wOmH8aANAz5/l/FnOA0DfzpCYtzMEQO/9OzQVmQRA/yznz3L+BEAPXJJr0GMFQB+LPQcuyQVAMLrooosuBkBA6ZM+6ZMGQFAYP9pG+QZAYEfqdaReB0BwdpURAsQHQIClQK1fKQhAkNTrSL2OCECgA5fkGvQIQLAyQoB4WQlAwGHtG9a+CUDQkJi3MyQKQOC/Q1ORiQpA8O7u7u7uCkAAHpqKTFQLQBBNRSaquQtAIHzwwQcfDEAwq5tdZYQMQEDaRvnC6QxAUAnylCBPDUBgOJ0wfrQNQHBnSMzbGQ5AgZbzZzl/DkCRxZ4Dl+QOQKH0SZ/0SQ9AsSP1OlKvD0BgKVDrVwoQQOjAJbkGPRBAcFj7hrVvEED479BUZKIQQICHpiIT1RBACB988MEHEUCQtlG+cDoRQBhOJ4wfbRFAoOX8Wc6fEUAofdInfdIRQLAUqPUrBRJAOKx9w9o3EkDAQ1ORiWoSQEjbKF84nRJA0HL+LOfPEkBYCtT6lQITQOChqchENRNAaDl/lvNnE0Dw0FRkopoTQHhoKjJRzRNAAAAAAAAAFEA=\",\"dtype\":\"float64\",\"order\":\"little\",\"shape\":[100]}},\"selected\":{\"id\":\"2231\"},\"selection_policy\":{\"id\":\"2230\"}},\"id\":\"2215\",\"type\":\"ColumnDataSource\"},{\"attributes\":{\"data\":{\"x\":{\"__ndarray__\":\"mpmZmZmZuT/OvX+HpiLDP86uMkKAeMk/z5/l/FnOzz9oSMzbGRLTP+jAJbkGPdY/aDl/lvNn2T/qsdhz4JLcP2oqMlHNvd8/ddFFF1104T+1jfKF0wnjP/VJn/RJn+Q/NQZMY8A05j91wvjRNsrnP7Z+pUCtX+k/9jpSryP16j829/4dmorsP3azq4wQIO4/tm9Y+4a17z/8lQK1fqXwPxz0WOw5cPE/PFKvI/U68j9csAVbsAXzP3wOXJJr0PM/nGyyySab9D+8yggB4mX1P9woXzidMPY//Ya1b1j79j8d5QunE8b3Pz1DYt7OkPg/XaG4FYpb+T99/w5NRSb6P51dZYQA8fo/vbu7u7u7+z/dGRLzdob8P/13aCoyUf0/Hda+Ye0b/j89NBWZqOb+P16Sa9Bjsf8/P/jggw8+AEBPJ4wfbaMAQF9WN7vKCAFAb4XiVihuAUB/tI3yhdMBQI/jOI7jOAJAnxLkKUGeAkCvQY/FngMDQL9wOmH8aANAz5/l/FnOA0DfzpCYtzMEQO/9OzQVmQRA/yznz3L+BEAPXJJr0GMFQB+LPQcuyQVAMLrooosuBkBA6ZM+6ZMGQFAYP9pG+QZAYEfqdaReB0BwdpURAsQHQIClQK1fKQhAkNTrSL2OCECgA5fkGvQIQLAyQoB4WQlAwGHtG9a+CUDQkJi3MyQKQOC/Q1ORiQpA8O7u7u7uCkAAHpqKTFQLQBBNRSaquQtAIHzwwQcfDEAwq5tdZYQMQEDaRvnC6QxAUAnylCBPDUBgOJ0wfrQNQHBnSMzbGQ5AgZbzZzl/DkCRxZ4Dl+QOQKH0SZ/0SQ9AsSP1OlKvD0BgKVDrVwoQQOjAJbkGPRBAcFj7hrVvEED479BUZKIQQICHpiIT1RBACB988MEHEUCQtlG+cDoRQBhOJ4wfbRFAoOX8Wc6fEUAofdInfdIRQLAUqPUrBRJAOKx9w9o3EkDAQ1ORiWoSQEjbKF84nRJA0HL+LOfPEkBYCtT6lQITQOChqchENRNAaDl/lvNnE0Dw0FRkopoTQHhoKjJRzRNAAAAAAAAAFEA=\",\"dtype\":\"float64\",\"order\":\"little\",\"shape\":[100]},\"y\":{\"__ndarray__\":\"fBSuR+F6hD/GgVSMluKWP1+/YSsORqQ/lwCSAQGdrz9Egl3kEbu2P5hlbkC76L4/JNV9Sr4rxD8uqALxqoPJP+OrxZMjfM8/I3BjGZQK0z+sIgNnXKfWP4ztwbJqlNo/w9Cf/L7R3j8pZk6irK/hPx1wXMWcHuQ/OwZ656+15j+FKKcI5nTpP/rW4yg/XOw/mxEwSLtr7z827EUzrVHxP7KV+0GOAfM/RAU50IDF9D/sOv7dhJ32P6k2S2uaifg/fPgfeMGJ+j9lgHwE+p38P2TOYBBExv4/PnHmzU+BAEBTXmBThqkBQHMunpjF2wJAnuGfnQ0YBEDUd2ViXl4FQBXx7ua3rgZAYU08KxoJCEC3jE0vhW0JQBmvIvP42wpAhbS7dnVUDED8nBi6+tYNQIBoOb2IYw9AhwsPwA99EEBTVGOBX00RQKSOmaKzIhJAe7qxIwz9EkDX16sEadwTQLnmh0XKwBRAIOdF5i+qFUAN2eXmmZgWQH+8Z0cIjBdAd5HLB3uEGED0VxEo8oEZQPYPOahthBpAfrlCiO2LG0CLVC7IcZgcQB7h+2f6qR1AOV+rZ4fAHkDXzjzHGNwfQP0XWENXfiBAUcECUyQRIUBoY56Sc6YhQEL+KgJFPiJA3pGooZjYIkA+HhdxbnUjQGCjdnDGFCRARCHHn6C2JEDrlwj//FolQFYHO47bASZAgm9eTTyrJkBy0HI8H1cnQCQqeFuEBShAmXxuqmu2KEDRx1Up1WkpQMsLLtjAHypAiEj3ti7YKkAIfrHFHpMrQEusXASRUCxAUtP4coUQLUAa84UR/NItQKULBOD0ly5A8hxz3m9fL0CAk2mGthQwQOoUkjX2ejBAtRKz/HbiMEDhjMzbOEsxQG6D3tI7tTFAXfbo4X8gMkCt5esIBY0yQF9R50fL+jJAcjnbntJpM0DmnccNG9ozQLx+rJSkSzRA89uJM2++NECMtV/qejI1QIULLrnHpzVA4d30n1UeNkCdLLSeJJY2QLv3a7U0DzdAOj8c5IWJN0AbA8UqGAU4QF1DZonrgThAAAAAAAAAOUA=\",\"dtype\":\"float64\",\"order\":\"little\",\"shape\":[100]}},\"selected\":{\"id\":\"2272\"},\"selection_policy\":{\"id\":\"2271\"}},\"id\":\"2252\",\"type\":\"ColumnDataSource\"},{\"attributes\":{\"fill_alpha\":{\"value\":0.1},\"fill_color\":{\"value\":\"#1f77b4\"},\"line_alpha\":{\"value\":0.1},\"line_color\":{\"value\":\"#1f77b4\"},\"x\":{\"field\":\"x\"},\"y\":{\"field\":\"y\"}},\"id\":\"2217\",\"type\":\"Circle\"},{\"attributes\":{\"source\":{\"id\":\"2323\"}},\"id\":\"2327\",\"type\":\"CDSView\"},{\"attributes\":{\"source\":{\"id\":\"2215\"}},\"id\":\"2219\",\"type\":\"CDSView\"},{\"attributes\":{\"data\":{\"x\":{\"__ndarray__\":\"mpmZmZmZuT/OvX+HpiLDP86uMkKAeMk/z5/l/FnOzz9oSMzbGRLTP+jAJbkGPdY/aDl/lvNn2T/qsdhz4JLcP2oqMlHNvd8/ddFFF1104T+1jfKF0wnjP/VJn/RJn+Q/NQZMY8A05j91wvjRNsrnP7Z+pUCtX+k/9jpSryP16j829/4dmorsP3azq4wQIO4/tm9Y+4a17z/8lQK1fqXwPxz0WOw5cPE/PFKvI/U68j9csAVbsAXzP3wOXJJr0PM/nGyyySab9D+8yggB4mX1P9woXzidMPY//Ya1b1j79j8d5QunE8b3Pz1DYt7OkPg/XaG4FYpb+T99/w5NRSb6P51dZYQA8fo/vbu7u7u7+z/dGRLzdob8P/13aCoyUf0/Hda+Ye0b/j89NBWZqOb+P16Sa9Bjsf8/P/jggw8+AEBPJ4wfbaMAQF9WN7vKCAFAb4XiVihuAUB/tI3yhdMBQI/jOI7jOAJAnxLkKUGeAkCvQY/FngMDQL9wOmH8aANAz5/l/FnOA0DfzpCYtzMEQO/9OzQVmQRA/yznz3L+BEAPXJJr0GMFQB+LPQcuyQVAMLrooosuBkBA6ZM+6ZMGQFAYP9pG+QZAYEfqdaReB0BwdpURAsQHQIClQK1fKQhAkNTrSL2OCECgA5fkGvQIQLAyQoB4WQlAwGHtG9a+CUDQkJi3MyQKQOC/Q1ORiQpA8O7u7u7uCkAAHpqKTFQLQBBNRSaquQtAIHzwwQcfDEAwq5tdZYQMQEDaRvnC6QxAUAnylCBPDUBgOJ0wfrQNQHBnSMzbGQ5AgZbzZzl/DkCRxZ4Dl+QOQKH0SZ/0SQ9AsSP1OlKvD0BgKVDrVwoQQOjAJbkGPRBAcFj7hrVvEED479BUZKIQQICHpiIT1RBACB988MEHEUCQtlG+cDoRQBhOJ4wfbRFAoOX8Wc6fEUAofdInfdIRQLAUqPUrBRJAOKx9w9o3EkDAQ1ORiWoSQEjbKF84nRJA0HL+LOfPEkBYCtT6lQITQOChqchENRNAaDl/lvNnE0Dw0FRkopoTQHhoKjJRzRNAAAAAAAAAFEA=\",\"dtype\":\"float64\",\"order\":\"little\",\"shape\":[100]},\"y\":{\"__ndarray__\":\"fBSuR+F6hD/GgVSMluKWP1+/YSsORqQ/lwCSAQGdrz9Egl3kEbu2P5hlbkC76L4/JNV9Sr4rxD8uqALxqoPJP+OrxZMjfM8/I3BjGZQK0z+sIgNnXKfWP4ztwbJqlNo/w9Cf/L7R3j8pZk6irK/hPx1wXMWcHuQ/OwZ656+15j+FKKcI5nTpP/rW4yg/XOw/mxEwSLtr7z827EUzrVHxP7KV+0GOAfM/RAU50IDF9D/sOv7dhJ32P6k2S2uaifg/fPgfeMGJ+j9lgHwE+p38P2TOYBBExv4/PnHmzU+BAEBTXmBThqkBQHMunpjF2wJAnuGfnQ0YBEDUd2ViXl4FQBXx7ua3rgZAYU08KxoJCEC3jE0vhW0JQBmvIvP42wpAhbS7dnVUDED8nBi6+tYNQIBoOb2IYw9AhwsPwA99EEBTVGOBX00RQKSOmaKzIhJAe7qxIwz9EkDX16sEadwTQLnmh0XKwBRAIOdF5i+qFUAN2eXmmZgWQH+8Z0cIjBdAd5HLB3uEGED0VxEo8oEZQPYPOahthBpAfrlCiO2LG0CLVC7IcZgcQB7h+2f6qR1AOV+rZ4fAHkDXzjzHGNwfQP0XWENXfiBAUcECUyQRIUBoY56Sc6YhQEL+KgJFPiJA3pGooZjYIkA+HhdxbnUjQGCjdnDGFCRARCHHn6C2JEDrlwj//FolQFYHO47bASZAgm9eTTyrJkBy0HI8H1cnQCQqeFuEBShAmXxuqmu2KEDRx1Up1WkpQMsLLtjAHypAiEj3ti7YKkAIfrHFHpMrQEusXASRUCxAUtP4coUQLUAa84UR/NItQKULBOD0ly5A8hxz3m9fL0CAk2mGthQwQOoUkjX2ejBAtRKz/HbiMEDhjMzbOEsxQG6D3tI7tTFAXfbo4X8gMkCt5esIBY0yQF9R50fL+jJAcjnbntJpM0DmnccNG9ozQLx+rJSkSzRA89uJM2++NECMtV/qejI1QIULLrnHpzVA4d30n1UeNkCdLLSeJJY2QLv3a7U0DzdAOj8c5IWJN0AbA8UqGAU4QF1DZonrgThAAAAAAAAAOUA=\",\"dtype\":\"float64\",\"order\":\"little\",\"shape\":[100]}},\"selected\":{\"id\":\"2250\"},\"selection_policy\":{\"id\":\"2249\"}},\"id\":\"2232\",\"type\":\"ColumnDataSource\"},{\"attributes\":{},\"id\":\"2196\",\"type\":\"Selection\"},{\"attributes\":{\"label\":{\"value\":\"y=sqrt(x)\"},\"renderers\":[{\"id\":\"2187\"}]},\"id\":\"2198\",\"type\":\"LegendItem\"}],\"root_ids\":[\"2151\"]},\"title\":\"Bokeh Application\",\"version\":\"2.2.1\"}};\n",
       "  var render_items = [{\"docid\":\"4e1ed336-66d4-4370-bc5e-eed8da4de49d\",\"root_ids\":[\"2151\"],\"roots\":{\"2151\":\"c52a9ab3-d434-4ec6-964c-a2062772abca\"}}];\n",
       "  root.Bokeh.embed.embed_items_notebook(docs_json, render_items);\n",
       "\n",
       "  }\n",
       "  if (root.Bokeh !== undefined) {\n",
       "    embed_document(root);\n",
       "  } else {\n",
       "    var attempts = 0;\n",
       "    var timer = setInterval(function(root) {\n",
       "      if (root.Bokeh !== undefined) {\n",
       "        clearInterval(timer);\n",
       "        embed_document(root);\n",
       "      } else {\n",
       "        attempts++;\n",
       "        if (attempts > 100) {\n",
       "          clearInterval(timer);\n",
       "          console.log(\"Bokeh: ERROR: Unable to run BokehJS code because BokehJS library is missing\");\n",
       "        }\n",
       "      }\n",
       "    }, 10, root)\n",
       "  }\n",
       "})(window);"
      ],
      "application/vnd.bokehjs_exec.v0+json": ""
     },
     "metadata": {
      "application/vnd.bokehjs_exec.v0+json": {
       "id": "2151"
      }
     },
     "output_type": "display_data"
    }
   ],
   "source": [
    "# 这里设置对数坐标轴\n",
    "p = figure(title='log axis example', y_axis_type='log', y_range=(0.001, 10**22))\n",
    "\n",
    "p.line(x,\n",
    "       np.sqrt(x),\n",
    "       legend='y=sqrt(x)',\n",
    "       line_color='tomato',\n",
    "       line_dash='dotdash')\n",
    "\n",
    "p.line(x, x, legend='y=x')\n",
    "p.circle(x, x, legend='y=x')\n",
    "\n",
    "p.line(x, x**2, legend='y=x^2')\n",
    "p.circle(x, x**2, legend='y=x^2', fill_color=None, line_color='olivedrab')\n",
    "\n",
    "p.line(x, 10**2, legend='y=10^x', line_color='gold', line_width=2)\n",
    "\n",
    "p.line(x,\n",
    "       x**x,\n",
    "       legend='y=x^x',\n",
    "       line_dash='dotted',\n",
    "       line_color='indigo',\n",
    "       line_width=2)\n",
    "\n",
    "p.line(x,\n",
    "       10**(x**2),\n",
    "       legend='y=10^(x^2)',\n",
    "       line_color='coral',\n",
    "       line_dash='dashed',\n",
    "       line_width=2)\n",
    "\n",
    "p.legend.location = 'top_left'\n",
    "p.xaxis.axis_label = 'Domain'\n",
    "p.yaxis.axis_label = 'Values (log scale)'\n",
    "\n",
    "show(p)"
   ]
  },
  {
   "cell_type": "code",
   "execution_count": 25,
   "metadata": {},
   "outputs": [],
   "source": [
    "# 2、面积图 - 单维度面积图\n",
    "\n",
    "# 创建数据\n",
    "# 注意设定起始值和终点值为最低点\n",
    "s = pd.Series(np.random.randn(100).cumsum())\n",
    "s.iloc[0] = 0\n",
    "s.iloc[-1] = 0"
   ]
  },
  {
   "cell_type": "code",
   "execution_count": 26,
   "metadata": {},
   "outputs": [
    {
     "data": {
      "text/html": [
       "\n",
       "\n",
       "\n",
       "\n",
       "\n",
       "\n",
       "  <div class=\"bk-root\" id=\"5a6414f9-a33c-41fa-a77b-8f7c4bd8de23\" data-root-id=\"2561\"></div>\n"
      ]
     },
     "metadata": {},
     "output_type": "display_data"
    },
    {
     "data": {
      "application/javascript": [
       "(function(root) {\n",
       "  function embed_document(root) {\n",
       "    \n",
       "  var docs_json = {\"ec6d5a4a-ffad-49b4-9230-d995dfd89842\":{\"roots\":{\"references\":[{\"attributes\":{\"below\":[{\"id\":\"2570\"}],\"center\":[{\"id\":\"2573\"},{\"id\":\"2577\"}],\"left\":[{\"id\":\"2574\"}],\"plot_height\":400,\"renderers\":[{\"id\":\"2595\"},{\"id\":\"2600\"}],\"title\":{\"id\":\"2703\"},\"toolbar\":{\"id\":\"2585\"},\"x_range\":{\"id\":\"2562\"},\"x_scale\":{\"id\":\"2566\"},\"y_range\":{\"id\":\"2564\"},\"y_scale\":{\"id\":\"2568\"}},\"id\":\"2561\",\"subtype\":\"Figure\",\"type\":\"Plot\"},{\"attributes\":{},\"id\":\"2582\",\"type\":\"ResetTool\"},{\"attributes\":{\"fill_alpha\":0.1,\"fill_color\":\"black\",\"line_alpha\":0.1,\"line_dash\":[10,6],\"x\":{\"field\":\"x\"},\"y\":{\"field\":\"y\"}},\"id\":\"2594\",\"type\":\"Patch\"},{\"attributes\":{\"text\":\"\"},\"id\":\"2703\",\"type\":\"Title\"},{\"attributes\":{},\"id\":\"2712\",\"type\":\"Selection\"},{\"attributes\":{\"overlay\":{\"id\":\"2584\"}},\"id\":\"2580\",\"type\":\"BoxZoomTool\"},{\"attributes\":{},\"id\":\"2575\",\"type\":\"BasicTicker\"},{\"attributes\":{},\"id\":\"2581\",\"type\":\"SaveTool\"},{\"attributes\":{},\"id\":\"2710\",\"type\":\"Selection\"},{\"attributes\":{\"data\":{\"x\":[0,1,2,3,4,5,6,7,8,9,10,11,12,13,14,15,16,17,18,19,20,21,22,23,24,25,26,27,28,29,30,31,32,33,34,35,36,37,38,39,40,41,42,43,44,45,46,47,48,49,50,51,52,53,54,55,56,57,58,59,60,61,62,63,64,65,66,67,68,69,70,71,72,73,74,75,76,77,78,79,80,81,82,83,84,85,86,87,88,89,90,91,92,93,94,95,96,97,98,99],\"y\":{\"__ndarray__\":\"AAAAAAAAAAC0+ZvO45kDQG6Pfeg0rABAmoFr8jav9z/GncHsi9nyP6DjjM1l1rm/ZDpX6wB34r+QsOYRKZa5P8zLswt7auW/RvKPn2ii9z8MiKMXebwCQAhJ+VetOe8/UHihn5CD0L/wts4P4ubyP86wqg0CpP0/ADQkmIucDkAY4TaZbK8OQNmwvYpJ1QtAj5FYT7j0CEBfcciCtWoQQOawQYWpXPg/bFb6SGex2j/ek22YFrjov2B2nsAoa+y/gV8P4Hbc5b910MzAgXPmP0aTQ2e5YPO/pgnrHyJL/L/6m4MGVZUBwHJiySvnLwDAZOYVfbyD9786eDqT0wDqv0GxVbWUZfA/8z1sWVHy9T/67v3vtdvgP8Ey8uINhd4/aHwd68g+4D8H3G5U2GHaP/DwsJEkRqy/b7WDyotA7r/mFf9Iv5r0v29ukmeNree/vqTwPe3967+Eg1d+FCbbv+xs+zsGruS/oGHbzqFv6j+mTHOa78TmP89ltWCWC+M/vvJ5IJbn1T9WBZRN+PvBP2BXuZYE8Oc/qnWfUacJ2T+E+Qdz6NL3P/76pX3qgfk/TJi7T8MP7D+igvh2FzHtPxu9DlYKHOc/9mMhDlqY7D+ceUnqcePXvxw8E3G+MgTAkfo7SFETB8AQR8djHSwEwJSXhjCc6vS/vIg740wj/L9QQp8/T2nmvxf1WtZNqfC/vA+X1kGZ5b+7ePYIm93jv7XEwK0rluA/zg+Zw7g//j/Ppupo7+ADQN8CGtXf1gJAM3KNHJY+A0AGm0cplD4KQKMRv0HxTP8/DqsVDuZhB0B3KGuWMu7yP+e1CqWa+vo/DNuj7xe+AkABUqkSI2P0P7gotQh6NM8/S8FajnJf5T9HPFMTwavjv0i6kKvpr8I/svfsOO+64T86Dl6z2DrWPyq4ctMd0vY/mwiIJybI9T8e+ozb3dIEQG4TRft9rwNAPoemkEKbCkCQlkaXMngBQNH5Zwa7oQ1AaDzQSh1PAkAuVV7jGFIFQL/Ue24VgvQ/DhkGNCh99D+n0Uk2xgTuP2gw7fStb/E/AAAAAAAAAAA=\",\"dtype\":\"float64\",\"order\":\"little\",\"shape\":[100]}},\"selected\":{\"id\":\"2710\"},\"selection_policy\":{\"id\":\"2709\"}},\"id\":\"2592\",\"type\":\"ColumnDataSource\"},{\"attributes\":{},\"id\":\"2707\",\"type\":\"BasicTickFormatter\"},{\"attributes\":{\"data\":{\"x\":[0,1,2,3,4,5,6,7,8,9,10,11,12,13,14,15,16,17,18,19,20,21,22,23,24,25,26,27,28,29,30,31,32,33,34,35,36,37,38,39,40,41,42,43,44,45,46,47,48,49,50,51,52,53,54,55,56,57,58,59,60,61,62,63,64,65,66,67,68,69,70,71,72,73,74,75,76,77,78,79,80,81,82,83,84,85,86,87,88,89,90,91,92,93,94,95,96,97,98,99],\"y\":{\"__ndarray__\":\"AAAAAAAAAAC0+ZvO45kDQG6Pfeg0rABAmoFr8jav9z/GncHsi9nyP6DjjM1l1rm/ZDpX6wB34r+QsOYRKZa5P8zLswt7auW/RvKPn2ii9z8MiKMXebwCQAhJ+VetOe8/UHihn5CD0L/wts4P4ubyP86wqg0CpP0/ADQkmIucDkAY4TaZbK8OQNmwvYpJ1QtAj5FYT7j0CEBfcciCtWoQQOawQYWpXPg/bFb6SGex2j/ek22YFrjov2B2nsAoa+y/gV8P4Hbc5b910MzAgXPmP0aTQ2e5YPO/pgnrHyJL/L/6m4MGVZUBwHJiySvnLwDAZOYVfbyD9786eDqT0wDqv0GxVbWUZfA/8z1sWVHy9T/67v3vtdvgP8Ey8uINhd4/aHwd68g+4D8H3G5U2GHaP/DwsJEkRqy/b7WDyotA7r/mFf9Iv5r0v29ukmeNree/vqTwPe3967+Eg1d+FCbbv+xs+zsGruS/oGHbzqFv6j+mTHOa78TmP89ltWCWC+M/vvJ5IJbn1T9WBZRN+PvBP2BXuZYE8Oc/qnWfUacJ2T+E+Qdz6NL3P/76pX3qgfk/TJi7T8MP7D+igvh2FzHtPxu9DlYKHOc/9mMhDlqY7D+ceUnqcePXvxw8E3G+MgTAkfo7SFETB8AQR8djHSwEwJSXhjCc6vS/vIg740wj/L9QQp8/T2nmvxf1WtZNqfC/vA+X1kGZ5b+7ePYIm93jv7XEwK0rluA/zg+Zw7g//j/Ppupo7+ADQN8CGtXf1gJAM3KNHJY+A0AGm0cplD4KQKMRv0HxTP8/DqsVDuZhB0B3KGuWMu7yP+e1CqWa+vo/DNuj7xe+AkABUqkSI2P0P7gotQh6NM8/S8FajnJf5T9HPFMTwavjv0i6kKvpr8I/svfsOO+64T86Dl6z2DrWPyq4ctMd0vY/mwiIJybI9T8e+ozb3dIEQG4TRft9rwNAPoemkEKbCkCQlkaXMngBQNH5Zwa7oQ1AaDzQSh1PAkAuVV7jGFIFQL/Ue24VgvQ/DhkGNCh99D+n0Uk2xgTuP2gw7fStb/E/AAAAAAAAAAA=\",\"dtype\":\"float64\",\"order\":\"little\",\"shape\":[100]}},\"selected\":{\"id\":\"2712\"},\"selection_policy\":{\"id\":\"2711\"}},\"id\":\"2597\",\"type\":\"ColumnDataSource\"},{\"attributes\":{\"active_drag\":\"auto\",\"active_inspect\":\"auto\",\"active_multi\":null,\"active_scroll\":\"auto\",\"active_tap\":\"auto\",\"tools\":[{\"id\":\"2578\"},{\"id\":\"2579\"},{\"id\":\"2580\"},{\"id\":\"2581\"},{\"id\":\"2582\"},{\"id\":\"2583\"}]},\"id\":\"2585\",\"type\":\"Toolbar\"},{\"attributes\":{\"fill_alpha\":{\"value\":0.8},\"fill_color\":{\"value\":\"red\"},\"line_alpha\":{\"value\":0.8},\"line_color\":{\"value\":\"red\"},\"size\":{\"units\":\"screen\",\"value\":5},\"x\":{\"field\":\"x\"},\"y\":{\"field\":\"y\"}},\"id\":\"2598\",\"type\":\"Circle\"},{\"attributes\":{\"axis\":{\"id\":\"2574\"},\"dimension\":1,\"ticker\":null},\"id\":\"2577\",\"type\":\"Grid\"},{\"attributes\":{\"source\":{\"id\":\"2592\"}},\"id\":\"2596\",\"type\":\"CDSView\"},{\"attributes\":{},\"id\":\"2568\",\"type\":\"LinearScale\"},{\"attributes\":{},\"id\":\"2711\",\"type\":\"UnionRenderers\"},{\"attributes\":{\"data_source\":{\"id\":\"2597\"},\"glyph\":{\"id\":\"2598\"},\"hover_glyph\":null,\"muted_glyph\":null,\"nonselection_glyph\":{\"id\":\"2599\"},\"selection_glyph\":null,\"view\":{\"id\":\"2601\"}},\"id\":\"2600\",\"type\":\"GlyphRenderer\"},{\"attributes\":{},\"id\":\"2583\",\"type\":\"HelpTool\"},{\"attributes\":{\"fill_alpha\":0.15,\"fill_color\":\"black\",\"line_alpha\":0.8,\"line_dash\":[10,6],\"x\":{\"field\":\"x\"},\"y\":{\"field\":\"y\"}},\"id\":\"2593\",\"type\":\"Patch\"},{\"attributes\":{},\"id\":\"2566\",\"type\":\"LinearScale\"},{\"attributes\":{\"fill_alpha\":{\"value\":0.1},\"fill_color\":{\"value\":\"red\"},\"line_alpha\":{\"value\":0.1},\"line_color\":{\"value\":\"red\"},\"size\":{\"units\":\"screen\",\"value\":5},\"x\":{\"field\":\"x\"},\"y\":{\"field\":\"y\"}},\"id\":\"2599\",\"type\":\"Circle\"},{\"attributes\":{\"formatter\":{\"id\":\"2707\"},\"ticker\":{\"id\":\"2575\"}},\"id\":\"2574\",\"type\":\"LinearAxis\"},{\"attributes\":{\"bottom_units\":\"screen\",\"fill_alpha\":0.5,\"fill_color\":\"lightgrey\",\"left_units\":\"screen\",\"level\":\"overlay\",\"line_alpha\":1.0,\"line_color\":\"black\",\"line_dash\":[4,4],\"line_width\":2,\"right_units\":\"screen\",\"top_units\":\"screen\"},\"id\":\"2584\",\"type\":\"BoxAnnotation\"},{\"attributes\":{\"axis\":{\"id\":\"2570\"},\"ticker\":null},\"id\":\"2573\",\"type\":\"Grid\"},{\"attributes\":{},\"id\":\"2578\",\"type\":\"PanTool\"},{\"attributes\":{\"data_source\":{\"id\":\"2592\"},\"glyph\":{\"id\":\"2593\"},\"hover_glyph\":null,\"muted_glyph\":null,\"nonselection_glyph\":{\"id\":\"2594\"},\"selection_glyph\":null,\"view\":{\"id\":\"2596\"}},\"id\":\"2595\",\"type\":\"GlyphRenderer\"},{\"attributes\":{},\"id\":\"2562\",\"type\":\"DataRange1d\"},{\"attributes\":{},\"id\":\"2564\",\"type\":\"DataRange1d\"},{\"attributes\":{\"source\":{\"id\":\"2597\"}},\"id\":\"2601\",\"type\":\"CDSView\"},{\"attributes\":{\"formatter\":{\"id\":\"2705\"},\"ticker\":{\"id\":\"2571\"}},\"id\":\"2570\",\"type\":\"LinearAxis\"},{\"attributes\":{},\"id\":\"2705\",\"type\":\"BasicTickFormatter\"},{\"attributes\":{},\"id\":\"2571\",\"type\":\"BasicTicker\"},{\"attributes\":{},\"id\":\"2579\",\"type\":\"WheelZoomTool\"},{\"attributes\":{},\"id\":\"2709\",\"type\":\"UnionRenderers\"}],\"root_ids\":[\"2561\"]},\"title\":\"Bokeh Application\",\"version\":\"2.2.1\"}};\n",
       "  var render_items = [{\"docid\":\"ec6d5a4a-ffad-49b4-9230-d995dfd89842\",\"root_ids\":[\"2561\"],\"roots\":{\"2561\":\"5a6414f9-a33c-41fa-a77b-8f7c4bd8de23\"}}];\n",
       "  root.Bokeh.embed.embed_items_notebook(docs_json, render_items);\n",
       "\n",
       "  }\n",
       "  if (root.Bokeh !== undefined) {\n",
       "    embed_document(root);\n",
       "  } else {\n",
       "    var attempts = 0;\n",
       "    var timer = setInterval(function(root) {\n",
       "      if (root.Bokeh !== undefined) {\n",
       "        clearInterval(timer);\n",
       "        embed_document(root);\n",
       "      } else {\n",
       "        attempts++;\n",
       "        if (attempts > 100) {\n",
       "          clearInterval(timer);\n",
       "          console.log(\"Bokeh: ERROR: Unable to run BokehJS code because BokehJS library is missing\");\n",
       "        }\n",
       "      }\n",
       "    }, 10, root)\n",
       "  }\n",
       "})(window);"
      ],
      "application/vnd.bokehjs_exec.v0+json": ""
     },
     "metadata": {
      "application/vnd.bokehjs_exec.v0+json": {
       "id": "2561"
      }
     },
     "output_type": "display_data"
    }
   ],
   "source": [
    "p = figure(plot_width=600, plot_height=400)\n",
    "# 绘制面积图\n",
    "# .patch将会把所有点连接成一个闭合面\n",
    "p.patch(s.index,\n",
    "        s.values,\n",
    "        line_width=1,\n",
    "        line_alpha=0.8,\n",
    "        line_color='black',\n",
    "        line_dash=[10, 6],\n",
    "        fill_color='black',\n",
    "        fill_alpha=0.15)\n",
    "p.circle(s.index, s.values, size=5, color='red', alpha=0.8)\n",
    "\n",
    "show(p)"
   ]
  },
  {
   "cell_type": "code",
   "execution_count": 27,
   "metadata": {},
   "outputs": [],
   "source": [
    "# 2、面积图 - 面积堆叠图\n",
    "\n",
    "# 导入brewer模块\n",
    "from bokeh.palettes import brewer\n",
    "\n",
    "N = 20\n",
    "cats = 10\n",
    "rng = np.random.RandomState(1)\n",
    "df = pd.DataFrame(rng.randint(10, 100, size=(N, cats))).add_prefix('y')"
   ]
  },
  {
   "cell_type": "code",
   "execution_count": 28,
   "metadata": {},
   "outputs": [
    {
     "data": {
      "text/plain": [
       "(20, 10)"
      ]
     },
     "execution_count": 28,
     "metadata": {},
     "output_type": "execute_result"
    }
   ],
   "source": [
    "df.shape"
   ]
  },
  {
   "cell_type": "code",
   "execution_count": 29,
   "metadata": {},
   "outputs": [],
   "source": [
    "# 每一个堆叠面积图的最高点\n",
    "df_top = df.cumsum(axis=1)\n",
    "# 每一个堆叠面积图的最低点，并上下反向\n",
    "df_bottom = df_top.shift(axis=1).fillna({'y0': 0})[::-1]  # 数据方向→ ↕\n",
    "# 数据合并，每一组数据都是一个可以围合成一个面的散点集合\n",
    "df_stack = pd.concat([df_top, df_bottom], ignore_index=True)"
   ]
  },
  {
   "cell_type": "code",
   "execution_count": 30,
   "metadata": {},
   "outputs": [
    {
     "data": {
      "text/plain": [
       "(40, 10)"
      ]
     },
     "execution_count": 30,
     "metadata": {},
     "output_type": "execute_result"
    }
   ],
   "source": [
    "df_stack.shape"
   ]
  },
  {
   "cell_type": "code",
   "execution_count": 31,
   "metadata": {},
   "outputs": [],
   "source": [
    "# 根据变量数拆分颜色\n",
    "colors = brewer['Spectral'][df_stack.shape[1]]\n",
    "# 得到围合顺序的index，这里由于一列是20个元素，所以连接成面需要40个点\n",
    "x = np.hstack((df.index[::-1], df.index))"
   ]
  },
  {
   "cell_type": "code",
   "execution_count": 32,
   "metadata": {},
   "outputs": [
    {
     "data": {
      "text/html": [
       "\n",
       "\n",
       "\n",
       "\n",
       "\n",
       "\n",
       "  <div class=\"bk-root\" id=\"f35f7d4f-daf9-4ac0-bd49-8bd9de3a7a4d\" data-root-id=\"2768\"></div>\n"
      ]
     },
     "metadata": {},
     "output_type": "display_data"
    },
    {
     "data": {
      "application/javascript": [
       "(function(root) {\n",
       "  function embed_document(root) {\n",
       "    \n",
       "  var docs_json = {\"d03dd923-cf6c-4e81-9b05-29405adbc28f\":{\"roots\":{\"references\":[{\"attributes\":{\"below\":[{\"id\":\"2777\"}],\"center\":[{\"id\":\"2780\"},{\"id\":\"2784\"}],\"left\":[{\"id\":\"2781\"}],\"renderers\":[{\"id\":\"2802\"}],\"title\":{\"id\":\"2916\"},\"toolbar\":{\"id\":\"2792\"},\"x_range\":{\"id\":\"2769\"},\"x_scale\":{\"id\":\"2773\"},\"y_range\":{\"id\":\"2771\"},\"y_scale\":{\"id\":\"2775\"}},\"id\":\"2768\",\"subtype\":\"Figure\",\"type\":\"Plot\"},{\"attributes\":{},\"id\":\"2778\",\"type\":\"BasicTicker\"},{\"attributes\":{},\"id\":\"2920\",\"type\":\"BasicTickFormatter\"},{\"attributes\":{\"formatter\":{\"id\":\"2920\"},\"ticker\":{\"id\":\"2782\"}},\"id\":\"2781\",\"type\":\"LinearAxis\"},{\"attributes\":{},\"id\":\"2786\",\"type\":\"WheelZoomTool\"},{\"attributes\":{},\"id\":\"2789\",\"type\":\"ResetTool\"},{\"attributes\":{\"fill_alpha\":{\"value\":0.1},\"fill_color\":{\"field\":\"fill_color\"},\"line_alpha\":{\"value\":0.1},\"line_color\":{\"value\":null},\"xs\":{\"field\":\"xs\"},\"ys\":{\"field\":\"ys\"}},\"id\":\"2801\",\"type\":\"Patches\"},{\"attributes\":{\"bottom_units\":\"screen\",\"fill_alpha\":0.5,\"fill_color\":\"lightgrey\",\"left_units\":\"screen\",\"level\":\"overlay\",\"line_alpha\":1.0,\"line_color\":\"black\",\"line_dash\":[4,4],\"line_width\":2,\"right_units\":\"screen\",\"top_units\":\"screen\"},\"id\":\"2791\",\"type\":\"BoxAnnotation\"},{\"attributes\":{\"text\":\"\"},\"id\":\"2916\",\"type\":\"Title\"},{\"attributes\":{},\"id\":\"2782\",\"type\":\"BasicTicker\"},{\"attributes\":{},\"id\":\"2922\",\"type\":\"UnionRenderers\"},{\"attributes\":{\"data\":{\"fill_color\":[\"#5e4fa2\",\"#3288bd\",\"#66c2a5\",\"#abdda4\",\"#e6f598\",\"#fee08b\",\"#fdae61\",\"#f46d43\",\"#d53e4f\",\"#9e0142\"],\"xs\":[[19,18,17,16,15,14,13,12,11,10,9,8,7,6,5,4,3,2,1,0,0,1,2,3,4,5,6,7,8,9,10,11,12,13,14,15,16,17,18,19],[19,18,17,16,15,14,13,12,11,10,9,8,7,6,5,4,3,2,1,0,0,1,2,3,4,5,6,7,8,9,10,11,12,13,14,15,16,17,18,19],[19,18,17,16,15,14,13,12,11,10,9,8,7,6,5,4,3,2,1,0,0,1,2,3,4,5,6,7,8,9,10,11,12,13,14,15,16,17,18,19],[19,18,17,16,15,14,13,12,11,10,9,8,7,6,5,4,3,2,1,0,0,1,2,3,4,5,6,7,8,9,10,11,12,13,14,15,16,17,18,19],[19,18,17,16,15,14,13,12,11,10,9,8,7,6,5,4,3,2,1,0,0,1,2,3,4,5,6,7,8,9,10,11,12,13,14,15,16,17,18,19],[19,18,17,16,15,14,13,12,11,10,9,8,7,6,5,4,3,2,1,0,0,1,2,3,4,5,6,7,8,9,10,11,12,13,14,15,16,17,18,19],[19,18,17,16,15,14,13,12,11,10,9,8,7,6,5,4,3,2,1,0,0,1,2,3,4,5,6,7,8,9,10,11,12,13,14,15,16,17,18,19],[19,18,17,16,15,14,13,12,11,10,9,8,7,6,5,4,3,2,1,0,0,1,2,3,4,5,6,7,8,9,10,11,12,13,14,15,16,17,18,19],[19,18,17,16,15,14,13,12,11,10,9,8,7,6,5,4,3,2,1,0,0,1,2,3,4,5,6,7,8,9,10,11,12,13,14,15,16,17,18,19],[19,18,17,16,15,14,13,12,11,10,9,8,7,6,5,4,3,2,1,0,0,1,2,3,4,5,6,7,8,9,10,11,12,13,14,15,16,17,18,19]],\"ys\":[{\"__ndarray__\":\"AAAAAACAR0AAAAAAAIBVQAAAAAAAgENAAAAAAABAUkAAAAAAAAA3QAAAAAAAACpAAAAAAAAAOUAAAAAAAEBTQAAAAAAAADRAAAAAAACAWEAAAAAAAMBXQAAAAAAAgFVAAAAAAAAAN0AAAAAAAMBSQAAAAAAAAFNAAAAAAAAAQEAAAAAAAEBXQAAAAAAAADlAAAAAAADAVUAAAAAAAIBLQAAAAAAAAAAAAAAAAAAAAAAAAAAAAAAAAAAAAAAAAAAAAAAAAAAAAAAAAAAAAAAAAAAAAAAAAAAAAAAAAAAAAAAAAAAAAAAAAAAAAAAAAAAAAAAAAAAAAAAAAAAAAAAAAAAAAAAAAAAAAAAAAAAAAAAAAAAAAAAAAAAAAAAAAAAAAAAAAAAAAAAAAAAAAAAAAAAAAAAAAAAAAAAAAAAAAAA=\",\"dtype\":\"float64\",\"order\":\"little\",\"shape\":[40]},{\"__ndarray__\":\"AAAAAABAUUAAAAAAAOBkQAAAAAAAgE9AAAAAAAAAYkAAAAAAAABUQAAAAAAAwFZAAAAAAADAWEAAAAAAAIBbQAAAAAAAgEpAAAAAAABgYEAAAAAAAOBlQAAAAAAAYGFAAAAAAACARUAAAAAAACBiQAAAAAAAoGNAAAAAAACAS0AAAAAAAABgQAAAAAAAgE1AAAAAAABAYkAAAAAAAIBgQAAAAAAAgEtAAAAAAADAVUAAAAAAAAA5QAAAAAAAQFdAAAAAAAAAQEAAAAAAAABTQAAAAAAAwFJAAAAAAAAAN0AAAAAAAIBVQAAAAAAAwFdAAAAAAACAWEAAAAAAAAA0QAAAAAAAQFNAAAAAAAAAOUAAAAAAAAAqQAAAAAAAADdAAAAAAABAUkAAAAAAAIBDQAAAAAAAgFVAAAAAAACAR0A=\",\"dtype\":\"float64\",\"order\":\"little\",\"shape\":[40]},{\"__ndarray__\":\"AAAAAADgYkAAAAAAAOBmQAAAAAAAwF5AAAAAAAAAZkAAAAAAAEBkQAAAAAAAQF9AAAAAAAAgZkAAAAAAAGBiQAAAAAAAgFNAAAAAAACAaEAAAAAAAGBnQAAAAAAAIGVAAAAAAAAAU0AAAAAAAGBmQAAAAAAA4GpAAAAAAACAXUAAAAAAAABjQAAAAAAAgFNAAAAAAABgaUAAAAAAAABqQAAAAAAAgGBAAAAAAABAYkAAAAAAAIBNQAAAAAAAAGBAAAAAAACAS0AAAAAAAKBjQAAAAAAAIGJAAAAAAACARUAAAAAAAGBhQAAAAAAA4GVAAAAAAABgYEAAAAAAAIBKQAAAAAAAgFtAAAAAAADAWEAAAAAAAMBWQAAAAAAAAFRAAAAAAAAAYkAAAAAAAIBPQAAAAAAA4GRAAAAAAABAUUA=\",\"dtype\":\"float64\",\"order\":\"little\",\"shape\":[40]},{\"__ndarray__\":\"AAAAAABAZUAAAAAAAEBrQAAAAAAAIGlAAAAAAABgbkAAAAAAAEBpQAAAAAAAQGZAAAAAAACAakAAAAAAAEBoQAAAAAAA4GVAAAAAAADwcEAAAAAAABBxQAAAAAAAIGpAAAAAAADgZEAAAAAAAPBwQAAAAAAAcHFAAAAAAACAakAAAAAAAOBlQAAAAAAAQGNAAAAAAAAgckAAAAAAAIByQAAAAAAAAGpAAAAAAABgaUAAAAAAAIBTQAAAAAAAAGNAAAAAAACAXUAAAAAAAOBqQAAAAAAAYGZAAAAAAAAAU0AAAAAAACBlQAAAAAAAYGdAAAAAAACAaEAAAAAAAIBTQAAAAAAAYGJAAAAAAAAgZkAAAAAAAEBfQAAAAAAAQGRAAAAAAAAAZkAAAAAAAMBeQAAAAAAA4GZAAAAAAADgYkA=\",\"dtype\":\"float64\",\"order\":\"little\",\"shape\":[40]},{\"__ndarray__\":\"AAAAAADgb0AAAAAAAGBxQAAAAAAAoHJAAAAAAADAb0AAAAAAALBxQAAAAAAAgHBAAAAAAABQc0AAAAAAAFBwQAAAAAAAQGpAAAAAAABgdkAAAAAAAABzQAAAAAAA4G9AAAAAAAAAZ0AAAAAAALBxQAAAAAAAAHNAAAAAAAAAbUAAAAAAANBwQAAAAAAAYG1AAAAAAABAdUAAAAAAAAB2QAAAAAAAgHJAAAAAAAAgckAAAAAAAEBjQAAAAAAA4GVAAAAAAACAakAAAAAAAHBxQAAAAAAA8HBAAAAAAADgZEAAAAAAACBqQAAAAAAAEHFAAAAAAADwcEAAAAAAAOBlQAAAAAAAQGhAAAAAAACAakAAAAAAAEBmQAAAAAAAQGlAAAAAAABgbkAAAAAAACBpQAAAAAAAQGtAAAAAAABAZUA=\",\"dtype\":\"float64\",\"order\":\"little\",\"shape\":[40]},{\"__ndarray__\":\"AAAAAADgcEAAAAAAAEBzQAAAAAAAsHhAAAAAAACAcEAAAAAAAIByQAAAAAAAwHJAAAAAAABgdEAAAAAAACB2QAAAAAAAMHJAAAAAAAAwd0AAAAAAAFB4QAAAAAAAAHFAAAAAAABAa0AAAAAAAPByQAAAAAAA8HNAAAAAAACQckAAAAAAACB0QAAAAAAAoHJAAAAAAADAekAAAAAAAKB2QAAAAAAAAHZAAAAAAABAdUAAAAAAAGBtQAAAAAAA0HBAAAAAAAAAbUAAAAAAAABzQAAAAAAAsHFAAAAAAAAAZ0AAAAAAAOBvQAAAAAAAAHNAAAAAAABgdkAAAAAAAEBqQAAAAAAAUHBAAAAAAABQc0AAAAAAAIBwQAAAAAAAsHFAAAAAAADAb0AAAAAAAKByQAAAAAAAYHFAAAAAAADgb0A=\",\"dtype\":\"float64\",\"order\":\"little\",\"shape\":[40]},{\"__ndarray__\":\"AAAAAABwdkAAAAAAAAB1QAAAAAAAsH5AAAAAAADgdEAAAAAAAIB3QAAAAAAAoHZAAAAAAACgdkAAAAAAACB5QAAAAAAAcHdAAAAAAADQd0AAAAAAAGB5QAAAAAAAcHRAAAAAAADgckAAAAAAAPB2QAAAAAAAoHVAAAAAAAAAd0AAAAAAACB1QAAAAAAAkHdAAAAAAAAwfkAAAAAAABB5QAAAAAAAoHZAAAAAAADAekAAAAAAAKByQAAAAAAAIHRAAAAAAACQckAAAAAAAPBzQAAAAAAA8HJAAAAAAABAa0AAAAAAAABxQAAAAAAAUHhAAAAAAAAwd0AAAAAAADByQAAAAAAAIHZAAAAAAABgdEAAAAAAAMByQAAAAAAAgHJAAAAAAACAcEAAAAAAALB4QAAAAAAAQHNAAAAAAADgcEA=\",\"dtype\":\"float64\",\"order\":\"little\",\"shape\":[40]},{\"__ndarray__\":\"AAAAAAAQe0AAAAAAAOB6QAAAAAAAEIBAAAAAAACQekAAAAAAAHB5QAAAAAAAQHxAAAAAAADQeEAAAAAAAEB6QAAAAAAA8HtAAAAAAABAfUAAAAAAANB+QAAAAAAAUHlAAAAAAADAdEAAAAAAALB8QAAAAAAA4HhAAAAAAAAge0AAAAAAAJB6QAAAAAAAcHpAAAAAAAAggkAAAAAAAKB9QAAAAAAAEHlAAAAAAAAwfkAAAAAAAJB3QAAAAAAAIHVAAAAAAAAAd0AAAAAAAKB1QAAAAAAA8HZAAAAAAADgckAAAAAAAHB0QAAAAAAAYHlAAAAAAADQd0AAAAAAAHB3QAAAAAAAIHlAAAAAAACgdkAAAAAAAKB2QAAAAAAAgHdAAAAAAADgdEAAAAAAALB+QAAAAAAAAHVAAAAAAABwdkA=\",\"dtype\":\"float64\",\"order\":\"little\",\"shape\":[40]},{\"__ndarray__\":\"AAAAAACwfEAAAAAAADB8QAAAAAAAqIBAAAAAAACwe0AAAAAAACB9QAAAAAAAcH9AAAAAAADQekAAAAAAAOB8QAAAAAAAcH9AAAAAAABAfkAAAAAAAPiBQAAAAAAAgH1AAAAAAABgd0AAAAAAAFiBQAAAAAAAwHpAAAAAAACogEAAAAAAALB+QAAAAAAAYHxAAAAAAADwgkAAAAAAAHiBQAAAAAAAoH1AAAAAAAAggkAAAAAAAHB6QAAAAAAAkHpAAAAAAAAge0AAAAAAAOB4QAAAAAAAsHxAAAAAAADAdEAAAAAAAFB5QAAAAAAA0H5AAAAAAABAfUAAAAAAAPB7QAAAAAAAQHpAAAAAAADQeEAAAAAAAEB8QAAAAAAAcHlAAAAAAACQekAAAAAAABCAQAAAAAAA4HpAAAAAAAAQe0A=\",\"dtype\":\"float64\",\"order\":\"little\",\"shape\":[40]},{\"__ndarray__\":\"AAAAAABgfUAAAAAAAJB+QAAAAAAAMIFAAAAAAADogEAAAAAAAKiAQAAAAAAAmIJAAAAAAAAAfEAAAAAAAKB/QAAAAAAACIFAAAAAAAAQgUAAAAAAAKCEQAAAAAAAoIFAAAAAAADAeEAAAAAAANiDQAAAAAAAYH5AAAAAAACggUAAAAAAAICBQAAAAAAAgH9AAAAAAAAghEAAAAAAAOCCQAAAAAAAeIFAAAAAAADwgkAAAAAAAGB8QAAAAAAAsH5AAAAAAACogEAAAAAAAMB6QAAAAAAAWIFAAAAAAABgd0AAAAAAAIB9QAAAAAAA+IFAAAAAAABAfkAAAAAAAHB/QAAAAAAA4HxAAAAAAADQekAAAAAAAHB/QAAAAAAAIH1AAAAAAACwe0AAAAAAAKiAQAAAAAAAMHxAAAAAAACwfEA=\",\"dtype\":\"float64\",\"order\":\"little\",\"shape\":[40]}]},\"selected\":{\"id\":\"2923\"},\"selection_policy\":{\"id\":\"2922\"}},\"id\":\"2799\",\"type\":\"ColumnDataSource\"},{\"attributes\":{},\"id\":\"2923\",\"type\":\"Selection\"},{\"attributes\":{\"active_drag\":\"auto\",\"active_inspect\":\"auto\",\"active_multi\":null,\"active_scroll\":\"auto\",\"active_tap\":\"auto\",\"tools\":[{\"id\":\"2785\"},{\"id\":\"2786\"},{\"id\":\"2787\"},{\"id\":\"2788\"},{\"id\":\"2789\"},{\"id\":\"2790\"}]},\"id\":\"2792\",\"type\":\"Toolbar\"},{\"attributes\":{\"end\":19},\"id\":\"2769\",\"type\":\"Range1d\"},{\"attributes\":{\"axis\":{\"id\":\"2777\"},\"ticker\":null},\"id\":\"2780\",\"type\":\"Grid\"},{\"attributes\":{\"data_source\":{\"id\":\"2799\"},\"glyph\":{\"id\":\"2800\"},\"hover_glyph\":null,\"muted_glyph\":null,\"nonselection_glyph\":{\"id\":\"2801\"},\"selection_glyph\":null,\"view\":{\"id\":\"2803\"}},\"id\":\"2802\",\"type\":\"GlyphRenderer\"},{\"attributes\":{},\"id\":\"2775\",\"type\":\"LinearScale\"},{\"attributes\":{},\"id\":\"2918\",\"type\":\"BasicTickFormatter\"},{\"attributes\":{\"formatter\":{\"id\":\"2918\"},\"ticker\":{\"id\":\"2778\"}},\"id\":\"2777\",\"type\":\"LinearAxis\"},{\"attributes\":{\"axis\":{\"id\":\"2781\"},\"dimension\":1,\"ticker\":null},\"id\":\"2784\",\"type\":\"Grid\"},{\"attributes\":{\"source\":{\"id\":\"2799\"}},\"id\":\"2803\",\"type\":\"CDSView\"},{\"attributes\":{},\"id\":\"2785\",\"type\":\"PanTool\"},{\"attributes\":{},\"id\":\"2790\",\"type\":\"HelpTool\"},{\"attributes\":{\"end\":700},\"id\":\"2771\",\"type\":\"Range1d\"},{\"attributes\":{},\"id\":\"2773\",\"type\":\"LinearScale\"},{\"attributes\":{\"overlay\":{\"id\":\"2791\"}},\"id\":\"2787\",\"type\":\"BoxZoomTool\"},{\"attributes\":{},\"id\":\"2788\",\"type\":\"SaveTool\"},{\"attributes\":{\"fill_alpha\":{\"value\":0.8},\"fill_color\":{\"field\":\"fill_color\"},\"line_alpha\":{\"value\":0.8},\"line_color\":{\"value\":null},\"xs\":{\"field\":\"xs\"},\"ys\":{\"field\":\"ys\"}},\"id\":\"2800\",\"type\":\"Patches\"}],\"root_ids\":[\"2768\"]},\"title\":\"Bokeh Application\",\"version\":\"2.2.1\"}};\n",
       "  var render_items = [{\"docid\":\"d03dd923-cf6c-4e81-9b05-29405adbc28f\",\"root_ids\":[\"2768\"],\"roots\":{\"2768\":\"f35f7d4f-daf9-4ac0-bd49-8bd9de3a7a4d\"}}];\n",
       "  root.Bokeh.embed.embed_items_notebook(docs_json, render_items);\n",
       "\n",
       "  }\n",
       "  if (root.Bokeh !== undefined) {\n",
       "    embed_document(root);\n",
       "  } else {\n",
       "    var attempts = 0;\n",
       "    var timer = setInterval(function(root) {\n",
       "      if (root.Bokeh !== undefined) {\n",
       "        clearInterval(timer);\n",
       "        embed_document(root);\n",
       "      } else {\n",
       "        attempts++;\n",
       "        if (attempts > 100) {\n",
       "          clearInterval(timer);\n",
       "          console.log(\"Bokeh: ERROR: Unable to run BokehJS code because BokehJS library is missing\");\n",
       "        }\n",
       "      }\n",
       "    }, 10, root)\n",
       "  }\n",
       "})(window);"
      ],
      "application/vnd.bokehjs_exec.v0+json": ""
     },
     "metadata": {
      "application/vnd.bokehjs_exec.v0+json": {
       "id": "2768"
      }
     },
     "output_type": "display_data"
    }
   ],
   "source": [
    "p = figure(x_range=(0, N - 1), y_range=(0, 700))\n",
    "\n",
    "# 一层两线地绘制\n",
    "p.patches(\n",
    "    [x] * df_stack.shape[1],  # 得到10组index\n",
    "    [df_stack[c].values for c in df_stack],  # c为df_stack的列名，这里得到10组对应的valyes\n",
    "    color=colors,  # 设置其他参数\n",
    "    alpha=0.8,\n",
    "    line_color=None)\n",
    "\n",
    "show(p)"
   ]
  },
  {
   "cell_type": "code",
   "execution_count": 33,
   "metadata": {},
   "outputs": [
    {
     "data": {
      "text/plain": [
       "[array([19, 18, 17, 16, 15, 14, 13, 12, 11, 10,  9,  8,  7,  6,  5,  4,  3,\n",
       "         2,  1,  0,  0,  1,  2,  3,  4,  5,  6,  7,  8,  9, 10, 11, 12, 13,\n",
       "        14, 15, 16, 17, 18, 19], dtype=int64),\n",
       " array([19, 18, 17, 16, 15, 14, 13, 12, 11, 10,  9,  8,  7,  6,  5,  4,  3,\n",
       "         2,  1,  0,  0,  1,  2,  3,  4,  5,  6,  7,  8,  9, 10, 11, 12, 13,\n",
       "        14, 15, 16, 17, 18, 19], dtype=int64),\n",
       " array([19, 18, 17, 16, 15, 14, 13, 12, 11, 10,  9,  8,  7,  6,  5,  4,  3,\n",
       "         2,  1,  0,  0,  1,  2,  3,  4,  5,  6,  7,  8,  9, 10, 11, 12, 13,\n",
       "        14, 15, 16, 17, 18, 19], dtype=int64),\n",
       " array([19, 18, 17, 16, 15, 14, 13, 12, 11, 10,  9,  8,  7,  6,  5,  4,  3,\n",
       "         2,  1,  0,  0,  1,  2,  3,  4,  5,  6,  7,  8,  9, 10, 11, 12, 13,\n",
       "        14, 15, 16, 17, 18, 19], dtype=int64),\n",
       " array([19, 18, 17, 16, 15, 14, 13, 12, 11, 10,  9,  8,  7,  6,  5,  4,  3,\n",
       "         2,  1,  0,  0,  1,  2,  3,  4,  5,  6,  7,  8,  9, 10, 11, 12, 13,\n",
       "        14, 15, 16, 17, 18, 19], dtype=int64),\n",
       " array([19, 18, 17, 16, 15, 14, 13, 12, 11, 10,  9,  8,  7,  6,  5,  4,  3,\n",
       "         2,  1,  0,  0,  1,  2,  3,  4,  5,  6,  7,  8,  9, 10, 11, 12, 13,\n",
       "        14, 15, 16, 17, 18, 19], dtype=int64),\n",
       " array([19, 18, 17, 16, 15, 14, 13, 12, 11, 10,  9,  8,  7,  6,  5,  4,  3,\n",
       "         2,  1,  0,  0,  1,  2,  3,  4,  5,  6,  7,  8,  9, 10, 11, 12, 13,\n",
       "        14, 15, 16, 17, 18, 19], dtype=int64),\n",
       " array([19, 18, 17, 16, 15, 14, 13, 12, 11, 10,  9,  8,  7,  6,  5,  4,  3,\n",
       "         2,  1,  0,  0,  1,  2,  3,  4,  5,  6,  7,  8,  9, 10, 11, 12, 13,\n",
       "        14, 15, 16, 17, 18, 19], dtype=int64),\n",
       " array([19, 18, 17, 16, 15, 14, 13, 12, 11, 10,  9,  8,  7,  6,  5,  4,  3,\n",
       "         2,  1,  0,  0,  1,  2,  3,  4,  5,  6,  7,  8,  9, 10, 11, 12, 13,\n",
       "        14, 15, 16, 17, 18, 19], dtype=int64),\n",
       " array([19, 18, 17, 16, 15, 14, 13, 12, 11, 10,  9,  8,  7,  6,  5,  4,  3,\n",
       "         2,  1,  0,  0,  1,  2,  3,  4,  5,  6,  7,  8,  9, 10, 11, 12, 13,\n",
       "        14, 15, 16, 17, 18, 19], dtype=int64)]"
      ]
     },
     "execution_count": 33,
     "metadata": {},
     "output_type": "execute_result"
    }
   ],
   "source": [
    "[x] * df_stack.shape[1]"
   ]
  },
  {
   "cell_type": "code",
   "execution_count": 34,
   "metadata": {},
   "outputs": [
    {
     "data": {
      "text/plain": [
       "[array([47., 86., 39., 73., 23., 13., 25., 77., 20., 98., 95., 86., 23.,\n",
       "        75., 76., 32., 93., 25., 87., 55.,  0.,  0.,  0.,  0.,  0.,  0.,\n",
       "         0.,  0.,  0.,  0.,  0.,  0.,  0.,  0.,  0.,  0.,  0.,  0.,  0.,\n",
       "         0.]),\n",
       " array([ 69., 167.,  63., 144.,  80.,  91.,  99., 110.,  53., 131., 175.,\n",
       "        139.,  43., 145., 157.,  55., 128.,  59., 146., 132.,  55.,  87.,\n",
       "         25.,  93.,  32.,  76.,  75.,  23.,  86.,  95.,  98.,  20.,  77.,\n",
       "         25.,  13.,  23.,  73.,  39.,  86.,  47.]),\n",
       " array([151., 183., 123., 176., 162., 125., 177., 147.,  78., 196., 187.,\n",
       "        169.,  76., 179., 215., 118., 152.,  78., 203., 208., 132., 146.,\n",
       "         59., 128.,  55., 157., 145.,  43., 139., 175., 131.,  53., 110.,\n",
       "         99.,  91.,  80., 144.,  63., 167.,  69.]),\n",
       " array([170., 218., 201., 243., 202., 178., 212., 194., 175., 271., 273.,\n",
       "        209., 167., 271., 279., 212., 175., 154., 290., 296., 208., 203.,\n",
       "         78., 152., 118., 215., 179.,  76., 169., 187., 196.,  78., 147.,\n",
       "        177., 125., 162., 176., 123., 183., 151.]),\n",
       " array([255., 278., 298., 254., 283., 264., 309., 261., 210., 358., 304.,\n",
       "        255., 184., 283., 304., 232., 269., 235., 340., 352., 296., 290.,\n",
       "        154., 175., 212., 279., 271., 167., 209., 273., 271., 175., 194.,\n",
       "        212., 178., 202., 243., 201., 218., 170.]),\n",
       " array([270., 308., 395., 264., 296., 300., 326., 354., 291., 371., 389.,\n",
       "        272., 218., 303., 319., 297., 322., 298., 428., 362., 352., 340.,\n",
       "        235., 269., 232., 304., 283., 184., 255., 304., 358., 210., 261.,\n",
       "        309., 264., 283., 254., 298., 278., 255.]),\n",
       " array([359., 336., 491., 334., 376., 362., 362., 402., 375., 381., 406.,\n",
       "        327., 302., 367., 346., 368., 338., 377., 483., 401., 362., 428.,\n",
       "        298., 322., 297., 319., 303., 218., 272., 389., 371., 291., 354.,\n",
       "        326., 300., 296., 264., 395., 308., 270.]),\n",
       " array([433., 430., 514., 425., 407., 452., 397., 420., 447., 468., 493.,\n",
       "        405., 332., 459., 398., 434., 425., 423., 580., 474., 401., 483.,\n",
       "        377., 338., 368., 346., 367., 302., 327., 406., 381., 375., 402.,\n",
       "        362., 362., 376., 334., 491., 336., 359.]),\n",
       " array([459., 451., 533., 443., 466., 503., 429., 462., 503., 484., 575.,\n",
       "        472., 374., 555., 428., 533., 491., 454., 606., 559., 474., 580.,\n",
       "        423., 425., 434., 398., 459., 332., 405., 493., 468., 447., 420.,\n",
       "        397., 452., 407., 425., 514., 430., 433.]),\n",
       " array([470., 489., 550., 541., 533., 595., 448., 506., 545., 546., 660.,\n",
       "        564., 396., 635., 486., 564., 560., 504., 644., 604., 559., 606.,\n",
       "        454., 491., 533., 428., 555., 374., 472., 575., 484., 503., 462.,\n",
       "        429., 503., 466., 443., 533., 451., 459.])]"
      ]
     },
     "execution_count": 34,
     "metadata": {},
     "output_type": "execute_result"
    }
   ],
   "source": [
    "[df_stack[c].values for c in df_stack]"
   ]
  },
  {
   "cell_type": "code",
   "execution_count": null,
   "metadata": {},
   "outputs": [],
   "source": []
  }
 ],
 "metadata": {
  "kernelspec": {
   "display_name": "Python 3",
   "language": "python",
   "name": "python3"
  },
  "language_info": {
   "codemirror_mode": {
    "name": "ipython",
    "version": 3
   },
   "file_extension": ".py",
   "mimetype": "text/x-python",
   "name": "python",
   "nbconvert_exporter": "python",
   "pygments_lexer": "ipython3",
   "version": "3.7.9"
  }
 },
 "nbformat": 4,
 "nbformat_minor": 4
}
