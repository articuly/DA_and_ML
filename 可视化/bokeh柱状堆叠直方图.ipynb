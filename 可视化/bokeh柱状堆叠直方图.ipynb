{
 "cells": [
  {
   "cell_type": "markdown",
   "metadata": {},
   "source": [
    "1. 单系列柱状图\n",
    "2. 多系列柱状图\n",
    "3. 堆叠图\n",
    "4. 直方图"
   ]
  },
  {
   "cell_type": "code",
   "execution_count": 17,
   "metadata": {},
   "outputs": [
    {
     "data": {
      "text/html": [
       "\n",
       "    <div class=\"bk-root\">\n",
       "        <a href=\"https://bokeh.org\" target=\"_blank\" class=\"bk-logo bk-logo-small bk-logo-notebook\"></a>\n",
       "        <span id=\"1910\">Loading BokehJS ...</span>\n",
       "    </div>"
      ]
     },
     "metadata": {},
     "output_type": "display_data"
    },
    {
     "data": {
      "application/javascript": [
       "\n",
       "(function(root) {\n",
       "  function now() {\n",
       "    return new Date();\n",
       "  }\n",
       "\n",
       "  var force = true;\n",
       "\n",
       "  if (typeof root._bokeh_onload_callbacks === \"undefined\" || force === true) {\n",
       "    root._bokeh_onload_callbacks = [];\n",
       "    root._bokeh_is_loading = undefined;\n",
       "  }\n",
       "\n",
       "  var JS_MIME_TYPE = 'application/javascript';\n",
       "  var HTML_MIME_TYPE = 'text/html';\n",
       "  var EXEC_MIME_TYPE = 'application/vnd.bokehjs_exec.v0+json';\n",
       "  var CLASS_NAME = 'output_bokeh rendered_html';\n",
       "\n",
       "  /**\n",
       "   * Render data to the DOM node\n",
       "   */\n",
       "  function render(props, node) {\n",
       "    var script = document.createElement(\"script\");\n",
       "    node.appendChild(script);\n",
       "  }\n",
       "\n",
       "  /**\n",
       "   * Handle when an output is cleared or removed\n",
       "   */\n",
       "  function handleClearOutput(event, handle) {\n",
       "    var cell = handle.cell;\n",
       "\n",
       "    var id = cell.output_area._bokeh_element_id;\n",
       "    var server_id = cell.output_area._bokeh_server_id;\n",
       "    // Clean up Bokeh references\n",
       "    if (id != null && id in Bokeh.index) {\n",
       "      Bokeh.index[id].model.document.clear();\n",
       "      delete Bokeh.index[id];\n",
       "    }\n",
       "\n",
       "    if (server_id !== undefined) {\n",
       "      // Clean up Bokeh references\n",
       "      var cmd = \"from bokeh.io.state import curstate; print(curstate().uuid_to_server['\" + server_id + \"'].get_sessions()[0].document.roots[0]._id)\";\n",
       "      cell.notebook.kernel.execute(cmd, {\n",
       "        iopub: {\n",
       "          output: function(msg) {\n",
       "            var id = msg.content.text.trim();\n",
       "            if (id in Bokeh.index) {\n",
       "              Bokeh.index[id].model.document.clear();\n",
       "              delete Bokeh.index[id];\n",
       "            }\n",
       "          }\n",
       "        }\n",
       "      });\n",
       "      // Destroy server and session\n",
       "      var cmd = \"import bokeh.io.notebook as ion; ion.destroy_server('\" + server_id + \"')\";\n",
       "      cell.notebook.kernel.execute(cmd);\n",
       "    }\n",
       "  }\n",
       "\n",
       "  /**\n",
       "   * Handle when a new output is added\n",
       "   */\n",
       "  function handleAddOutput(event, handle) {\n",
       "    var output_area = handle.output_area;\n",
       "    var output = handle.output;\n",
       "\n",
       "    // limit handleAddOutput to display_data with EXEC_MIME_TYPE content only\n",
       "    if ((output.output_type != \"display_data\") || (!output.data.hasOwnProperty(EXEC_MIME_TYPE))) {\n",
       "      return\n",
       "    }\n",
       "\n",
       "    var toinsert = output_area.element.find(\".\" + CLASS_NAME.split(' ')[0]);\n",
       "\n",
       "    if (output.metadata[EXEC_MIME_TYPE][\"id\"] !== undefined) {\n",
       "      toinsert[toinsert.length - 1].firstChild.textContent = output.data[JS_MIME_TYPE];\n",
       "      // store reference to embed id on output_area\n",
       "      output_area._bokeh_element_id = output.metadata[EXEC_MIME_TYPE][\"id\"];\n",
       "    }\n",
       "    if (output.metadata[EXEC_MIME_TYPE][\"server_id\"] !== undefined) {\n",
       "      var bk_div = document.createElement(\"div\");\n",
       "      bk_div.innerHTML = output.data[HTML_MIME_TYPE];\n",
       "      var script_attrs = bk_div.children[0].attributes;\n",
       "      for (var i = 0; i < script_attrs.length; i++) {\n",
       "        toinsert[toinsert.length - 1].firstChild.setAttribute(script_attrs[i].name, script_attrs[i].value);\n",
       "        toinsert[toinsert.length - 1].firstChild.textContent = bk_div.children[0].textContent\n",
       "      }\n",
       "      // store reference to server id on output_area\n",
       "      output_area._bokeh_server_id = output.metadata[EXEC_MIME_TYPE][\"server_id\"];\n",
       "    }\n",
       "  }\n",
       "\n",
       "  function register_renderer(events, OutputArea) {\n",
       "\n",
       "    function append_mime(data, metadata, element) {\n",
       "      // create a DOM node to render to\n",
       "      var toinsert = this.create_output_subarea(\n",
       "        metadata,\n",
       "        CLASS_NAME,\n",
       "        EXEC_MIME_TYPE\n",
       "      );\n",
       "      this.keyboard_manager.register_events(toinsert);\n",
       "      // Render to node\n",
       "      var props = {data: data, metadata: metadata[EXEC_MIME_TYPE]};\n",
       "      render(props, toinsert[toinsert.length - 1]);\n",
       "      element.append(toinsert);\n",
       "      return toinsert\n",
       "    }\n",
       "\n",
       "    /* Handle when an output is cleared or removed */\n",
       "    events.on('clear_output.CodeCell', handleClearOutput);\n",
       "    events.on('delete.Cell', handleClearOutput);\n",
       "\n",
       "    /* Handle when a new output is added */\n",
       "    events.on('output_added.OutputArea', handleAddOutput);\n",
       "\n",
       "    /**\n",
       "     * Register the mime type and append_mime function with output_area\n",
       "     */\n",
       "    OutputArea.prototype.register_mime_type(EXEC_MIME_TYPE, append_mime, {\n",
       "      /* Is output safe? */\n",
       "      safe: true,\n",
       "      /* Index of renderer in `output_area.display_order` */\n",
       "      index: 0\n",
       "    });\n",
       "  }\n",
       "\n",
       "  // register the mime type if in Jupyter Notebook environment and previously unregistered\n",
       "  if (root.Jupyter !== undefined) {\n",
       "    var events = require('base/js/events');\n",
       "    var OutputArea = require('notebook/js/outputarea').OutputArea;\n",
       "\n",
       "    if (OutputArea.prototype.mime_types().indexOf(EXEC_MIME_TYPE) == -1) {\n",
       "      register_renderer(events, OutputArea);\n",
       "    }\n",
       "  }\n",
       "\n",
       "  \n",
       "  if (typeof (root._bokeh_timeout) === \"undefined\" || force === true) {\n",
       "    root._bokeh_timeout = Date.now() + 5000;\n",
       "    root._bokeh_failed_load = false;\n",
       "  }\n",
       "\n",
       "  var NB_LOAD_WARNING = {'data': {'text/html':\n",
       "     \"<div style='background-color: #fdd'>\\n\"+\n",
       "     \"<p>\\n\"+\n",
       "     \"BokehJS does not appear to have successfully loaded. If loading BokehJS from CDN, this \\n\"+\n",
       "     \"may be due to a slow or bad network connection. Possible fixes:\\n\"+\n",
       "     \"</p>\\n\"+\n",
       "     \"<ul>\\n\"+\n",
       "     \"<li>re-rerun `output_notebook()` to attempt to load from CDN again, or</li>\\n\"+\n",
       "     \"<li>use INLINE resources instead, as so:</li>\\n\"+\n",
       "     \"</ul>\\n\"+\n",
       "     \"<code>\\n\"+\n",
       "     \"from bokeh.resources import INLINE\\n\"+\n",
       "     \"output_notebook(resources=INLINE)\\n\"+\n",
       "     \"</code>\\n\"+\n",
       "     \"</div>\"}};\n",
       "\n",
       "  function display_loaded() {\n",
       "    var el = document.getElementById(\"1910\");\n",
       "    if (el != null) {\n",
       "      el.textContent = \"BokehJS is loading...\";\n",
       "    }\n",
       "    if (root.Bokeh !== undefined) {\n",
       "      if (el != null) {\n",
       "        el.textContent = \"BokehJS \" + root.Bokeh.version + \" successfully loaded.\";\n",
       "      }\n",
       "    } else if (Date.now() < root._bokeh_timeout) {\n",
       "      setTimeout(display_loaded, 100)\n",
       "    }\n",
       "  }\n",
       "\n",
       "\n",
       "  function run_callbacks() {\n",
       "    try {\n",
       "      root._bokeh_onload_callbacks.forEach(function(callback) {\n",
       "        if (callback != null)\n",
       "          callback();\n",
       "      });\n",
       "    } finally {\n",
       "      delete root._bokeh_onload_callbacks\n",
       "    }\n",
       "    console.debug(\"Bokeh: all callbacks have finished\");\n",
       "  }\n",
       "\n",
       "  function load_libs(css_urls, js_urls, callback) {\n",
       "    if (css_urls == null) css_urls = [];\n",
       "    if (js_urls == null) js_urls = [];\n",
       "\n",
       "    root._bokeh_onload_callbacks.push(callback);\n",
       "    if (root._bokeh_is_loading > 0) {\n",
       "      console.debug(\"Bokeh: BokehJS is being loaded, scheduling callback at\", now());\n",
       "      return null;\n",
       "    }\n",
       "    if (js_urls == null || js_urls.length === 0) {\n",
       "      run_callbacks();\n",
       "      return null;\n",
       "    }\n",
       "    console.debug(\"Bokeh: BokehJS not loaded, scheduling load and callback at\", now());\n",
       "    root._bokeh_is_loading = css_urls.length + js_urls.length;\n",
       "\n",
       "    function on_load() {\n",
       "      root._bokeh_is_loading--;\n",
       "      if (root._bokeh_is_loading === 0) {\n",
       "        console.debug(\"Bokeh: all BokehJS libraries/stylesheets loaded\");\n",
       "        run_callbacks()\n",
       "      }\n",
       "    }\n",
       "\n",
       "    function on_error() {\n",
       "      console.error(\"failed to load \" + url);\n",
       "    }\n",
       "\n",
       "    for (var i = 0; i < css_urls.length; i++) {\n",
       "      var url = css_urls[i];\n",
       "      const element = document.createElement(\"link\");\n",
       "      element.onload = on_load;\n",
       "      element.onerror = on_error;\n",
       "      element.rel = \"stylesheet\";\n",
       "      element.type = \"text/css\";\n",
       "      element.href = url;\n",
       "      console.debug(\"Bokeh: injecting link tag for BokehJS stylesheet: \", url);\n",
       "      document.body.appendChild(element);\n",
       "    }\n",
       "\n",
       "    const hashes = {\"https://cdn.bokeh.org/bokeh/release/bokeh-2.2.1.min.js\": \"qkRvDQVAIfzsJo40iRBbxt6sttt0hv4lh74DG7OK4MCHv4C5oohXYoHUM5W11uqS\", \"https://cdn.bokeh.org/bokeh/release/bokeh-widgets-2.2.1.min.js\": \"Sb7Mr06a9TNlet/GEBeKaf5xH3eb6AlCzwjtU82wNPyDrnfoiVl26qnvlKjmcAd+\", \"https://cdn.bokeh.org/bokeh/release/bokeh-tables-2.2.1.min.js\": \"HaJ15vgfmcfRtB4c4YBOI4f1MUujukqInOWVqZJZZGK7Q+ivud0OKGSTn/Vm2iso\"};\n",
       "\n",
       "    for (var i = 0; i < js_urls.length; i++) {\n",
       "      var url = js_urls[i];\n",
       "      var element = document.createElement('script');\n",
       "      element.onload = on_load;\n",
       "      element.onerror = on_error;\n",
       "      element.async = false;\n",
       "      element.src = url;\n",
       "      if (url in hashes) {\n",
       "        element.crossOrigin = \"anonymous\";\n",
       "        element.integrity = \"sha384-\" + hashes[url];\n",
       "      }\n",
       "      console.debug(\"Bokeh: injecting script tag for BokehJS library: \", url);\n",
       "      document.head.appendChild(element);\n",
       "    }\n",
       "  };\n",
       "\n",
       "  function inject_raw_css(css) {\n",
       "    const element = document.createElement(\"style\");\n",
       "    element.appendChild(document.createTextNode(css));\n",
       "    document.body.appendChild(element);\n",
       "  }\n",
       "\n",
       "  \n",
       "  var js_urls = [\"https://cdn.bokeh.org/bokeh/release/bokeh-2.2.1.min.js\", \"https://cdn.bokeh.org/bokeh/release/bokeh-widgets-2.2.1.min.js\", \"https://cdn.bokeh.org/bokeh/release/bokeh-tables-2.2.1.min.js\"];\n",
       "  var css_urls = [];\n",
       "  \n",
       "\n",
       "  var inline_js = [\n",
       "    function(Bokeh) {\n",
       "      Bokeh.set_log_level(\"info\");\n",
       "    },\n",
       "    function(Bokeh) {\n",
       "    \n",
       "    \n",
       "    }\n",
       "  ];\n",
       "\n",
       "  function run_inline_js() {\n",
       "    \n",
       "    if (root.Bokeh !== undefined || force === true) {\n",
       "      \n",
       "    for (var i = 0; i < inline_js.length; i++) {\n",
       "      inline_js[i].call(root, root.Bokeh);\n",
       "    }\n",
       "    if (force === true) {\n",
       "        display_loaded();\n",
       "      }} else if (Date.now() < root._bokeh_timeout) {\n",
       "      setTimeout(run_inline_js, 100);\n",
       "    } else if (!root._bokeh_failed_load) {\n",
       "      console.log(\"Bokeh: BokehJS failed to load within specified timeout.\");\n",
       "      root._bokeh_failed_load = true;\n",
       "    } else if (force !== true) {\n",
       "      var cell = $(document.getElementById(\"1910\")).parents('.cell').data().cell;\n",
       "      cell.output_area.append_execute_result(NB_LOAD_WARNING)\n",
       "    }\n",
       "\n",
       "  }\n",
       "\n",
       "  if (root._bokeh_is_loading === 0) {\n",
       "    console.debug(\"Bokeh: BokehJS loaded, going straight to plotting\");\n",
       "    run_inline_js();\n",
       "  } else {\n",
       "    load_libs(css_urls, js_urls, function() {\n",
       "      console.debug(\"Bokeh: BokehJS plotting callback run at\", now());\n",
       "      run_inline_js();\n",
       "    });\n",
       "  }\n",
       "}(window));"
      ],
      "application/vnd.bokehjs_load.v0+json": "\n(function(root) {\n  function now() {\n    return new Date();\n  }\n\n  var force = true;\n\n  if (typeof root._bokeh_onload_callbacks === \"undefined\" || force === true) {\n    root._bokeh_onload_callbacks = [];\n    root._bokeh_is_loading = undefined;\n  }\n\n  \n\n  \n  if (typeof (root._bokeh_timeout) === \"undefined\" || force === true) {\n    root._bokeh_timeout = Date.now() + 5000;\n    root._bokeh_failed_load = false;\n  }\n\n  var NB_LOAD_WARNING = {'data': {'text/html':\n     \"<div style='background-color: #fdd'>\\n\"+\n     \"<p>\\n\"+\n     \"BokehJS does not appear to have successfully loaded. If loading BokehJS from CDN, this \\n\"+\n     \"may be due to a slow or bad network connection. Possible fixes:\\n\"+\n     \"</p>\\n\"+\n     \"<ul>\\n\"+\n     \"<li>re-rerun `output_notebook()` to attempt to load from CDN again, or</li>\\n\"+\n     \"<li>use INLINE resources instead, as so:</li>\\n\"+\n     \"</ul>\\n\"+\n     \"<code>\\n\"+\n     \"from bokeh.resources import INLINE\\n\"+\n     \"output_notebook(resources=INLINE)\\n\"+\n     \"</code>\\n\"+\n     \"</div>\"}};\n\n  function display_loaded() {\n    var el = document.getElementById(\"1910\");\n    if (el != null) {\n      el.textContent = \"BokehJS is loading...\";\n    }\n    if (root.Bokeh !== undefined) {\n      if (el != null) {\n        el.textContent = \"BokehJS \" + root.Bokeh.version + \" successfully loaded.\";\n      }\n    } else if (Date.now() < root._bokeh_timeout) {\n      setTimeout(display_loaded, 100)\n    }\n  }\n\n\n  function run_callbacks() {\n    try {\n      root._bokeh_onload_callbacks.forEach(function(callback) {\n        if (callback != null)\n          callback();\n      });\n    } finally {\n      delete root._bokeh_onload_callbacks\n    }\n    console.debug(\"Bokeh: all callbacks have finished\");\n  }\n\n  function load_libs(css_urls, js_urls, callback) {\n    if (css_urls == null) css_urls = [];\n    if (js_urls == null) js_urls = [];\n\n    root._bokeh_onload_callbacks.push(callback);\n    if (root._bokeh_is_loading > 0) {\n      console.debug(\"Bokeh: BokehJS is being loaded, scheduling callback at\", now());\n      return null;\n    }\n    if (js_urls == null || js_urls.length === 0) {\n      run_callbacks();\n      return null;\n    }\n    console.debug(\"Bokeh: BokehJS not loaded, scheduling load and callback at\", now());\n    root._bokeh_is_loading = css_urls.length + js_urls.length;\n\n    function on_load() {\n      root._bokeh_is_loading--;\n      if (root._bokeh_is_loading === 0) {\n        console.debug(\"Bokeh: all BokehJS libraries/stylesheets loaded\");\n        run_callbacks()\n      }\n    }\n\n    function on_error() {\n      console.error(\"failed to load \" + url);\n    }\n\n    for (var i = 0; i < css_urls.length; i++) {\n      var url = css_urls[i];\n      const element = document.createElement(\"link\");\n      element.onload = on_load;\n      element.onerror = on_error;\n      element.rel = \"stylesheet\";\n      element.type = \"text/css\";\n      element.href = url;\n      console.debug(\"Bokeh: injecting link tag for BokehJS stylesheet: \", url);\n      document.body.appendChild(element);\n    }\n\n    const hashes = {\"https://cdn.bokeh.org/bokeh/release/bokeh-2.2.1.min.js\": \"qkRvDQVAIfzsJo40iRBbxt6sttt0hv4lh74DG7OK4MCHv4C5oohXYoHUM5W11uqS\", \"https://cdn.bokeh.org/bokeh/release/bokeh-widgets-2.2.1.min.js\": \"Sb7Mr06a9TNlet/GEBeKaf5xH3eb6AlCzwjtU82wNPyDrnfoiVl26qnvlKjmcAd+\", \"https://cdn.bokeh.org/bokeh/release/bokeh-tables-2.2.1.min.js\": \"HaJ15vgfmcfRtB4c4YBOI4f1MUujukqInOWVqZJZZGK7Q+ivud0OKGSTn/Vm2iso\"};\n\n    for (var i = 0; i < js_urls.length; i++) {\n      var url = js_urls[i];\n      var element = document.createElement('script');\n      element.onload = on_load;\n      element.onerror = on_error;\n      element.async = false;\n      element.src = url;\n      if (url in hashes) {\n        element.crossOrigin = \"anonymous\";\n        element.integrity = \"sha384-\" + hashes[url];\n      }\n      console.debug(\"Bokeh: injecting script tag for BokehJS library: \", url);\n      document.head.appendChild(element);\n    }\n  };\n\n  function inject_raw_css(css) {\n    const element = document.createElement(\"style\");\n    element.appendChild(document.createTextNode(css));\n    document.body.appendChild(element);\n  }\n\n  \n  var js_urls = [\"https://cdn.bokeh.org/bokeh/release/bokeh-2.2.1.min.js\", \"https://cdn.bokeh.org/bokeh/release/bokeh-widgets-2.2.1.min.js\", \"https://cdn.bokeh.org/bokeh/release/bokeh-tables-2.2.1.min.js\"];\n  var css_urls = [];\n  \n\n  var inline_js = [\n    function(Bokeh) {\n      Bokeh.set_log_level(\"info\");\n    },\n    function(Bokeh) {\n    \n    \n    }\n  ];\n\n  function run_inline_js() {\n    \n    if (root.Bokeh !== undefined || force === true) {\n      \n    for (var i = 0; i < inline_js.length; i++) {\n      inline_js[i].call(root, root.Bokeh);\n    }\n    if (force === true) {\n        display_loaded();\n      }} else if (Date.now() < root._bokeh_timeout) {\n      setTimeout(run_inline_js, 100);\n    } else if (!root._bokeh_failed_load) {\n      console.log(\"Bokeh: BokehJS failed to load within specified timeout.\");\n      root._bokeh_failed_load = true;\n    } else if (force !== true) {\n      var cell = $(document.getElementById(\"1910\")).parents('.cell').data().cell;\n      cell.output_area.append_execute_result(NB_LOAD_WARNING)\n    }\n\n  }\n\n  if (root._bokeh_is_loading === 0) {\n    console.debug(\"Bokeh: BokehJS loaded, going straight to plotting\");\n    run_inline_js();\n  } else {\n    load_libs(css_urls, js_urls, function() {\n      console.debug(\"Bokeh: BokehJS plotting callback run at\", now());\n      run_inline_js();\n    });\n  }\n}(window));"
     },
     "metadata": {},
     "output_type": "display_data"
    }
   ],
   "source": [
    "import numpy as np\n",
    "import pandas as pd\n",
    "import matplotlib.pyplot as plt\n",
    "%matplotlib inline\n",
    "\n",
    "import warnings\n",
    "warnings.filterwarnings(\"ignore\")\n",
    "\n",
    "from bokeh.plotting import figure, show\n",
    "from bokeh.models import ColumnDataSource\n",
    "from bokeh.io import output_notebook\n",
    "output_notebook()"
   ]
  },
  {
   "cell_type": "code",
   "execution_count": 18,
   "metadata": {},
   "outputs": [
    {
     "data": {
      "text/html": [
       "\n",
       "\n",
       "\n",
       "\n",
       "\n",
       "\n",
       "  <div class=\"bk-root\" id=\"6975a1da-c6b6-496f-b5d6-f308b1d96397\" data-root-id=\"1911\"></div>\n"
      ]
     },
     "metadata": {},
     "output_type": "display_data"
    },
    {
     "data": {
      "application/javascript": [
       "(function(root) {\n",
       "  function embed_document(root) {\n",
       "    \n",
       "  var docs_json = {\"74d08047-16e1-4788-b5ba-a6365036f10a\":{\"roots\":{\"references\":[{\"attributes\":{\"below\":[{\"id\":\"1920\"}],\"center\":[{\"id\":\"1923\"},{\"id\":\"1927\"}],\"left\":[{\"id\":\"1924\"}],\"plot_height\":400,\"plot_width\":400,\"renderers\":[{\"id\":\"1945\"}],\"title\":{\"id\":\"2004\"},\"toolbar\":{\"id\":\"1935\"},\"x_range\":{\"id\":\"1912\"},\"x_scale\":{\"id\":\"1916\"},\"y_range\":{\"id\":\"1914\"},\"y_scale\":{\"id\":\"1918\"}},\"id\":\"1911\",\"subtype\":\"Figure\",\"type\":\"Plot\"},{\"attributes\":{},\"id\":\"1932\",\"type\":\"ResetTool\"},{\"attributes\":{\"bottom_units\":\"screen\",\"fill_alpha\":0.5,\"fill_color\":\"lightgrey\",\"left_units\":\"screen\",\"level\":\"overlay\",\"line_alpha\":1.0,\"line_color\":\"black\",\"line_dash\":[4,4],\"line_width\":2,\"right_units\":\"screen\",\"top_units\":\"screen\"},\"id\":\"1934\",\"type\":\"BoxAnnotation\"},{\"attributes\":{},\"id\":\"2011\",\"type\":\"Selection\"},{\"attributes\":{\"data_source\":{\"id\":\"1942\"},\"glyph\":{\"id\":\"1943\"},\"hover_glyph\":null,\"muted_glyph\":null,\"nonselection_glyph\":{\"id\":\"1944\"},\"selection_glyph\":null,\"view\":{\"id\":\"1946\"}},\"id\":\"1945\",\"type\":\"GlyphRenderer\"},{\"attributes\":{},\"id\":\"1921\",\"type\":\"BasicTicker\"},{\"attributes\":{},\"id\":\"1916\",\"type\":\"LinearScale\"},{\"attributes\":{\"formatter\":{\"id\":\"2007\"},\"ticker\":{\"id\":\"1925\"}},\"id\":\"1924\",\"type\":\"LinearAxis\"},{\"attributes\":{},\"id\":\"1925\",\"type\":\"BasicTicker\"},{\"attributes\":{\"active_drag\":\"auto\",\"active_inspect\":\"auto\",\"active_multi\":null,\"active_scroll\":\"auto\",\"active_tap\":\"auto\",\"tools\":[{\"id\":\"1928\"},{\"id\":\"1929\"},{\"id\":\"1930\"},{\"id\":\"1931\"},{\"id\":\"1932\"},{\"id\":\"1933\"}]},\"id\":\"1935\",\"type\":\"Toolbar\"},{\"attributes\":{},\"id\":\"1931\",\"type\":\"SaveTool\"},{\"attributes\":{\"fill_alpha\":{\"value\":0.1},\"fill_color\":{\"value\":\"red\"},\"line_alpha\":{\"value\":0.1},\"line_dash\":[10,6],\"top\":{\"field\":\"top\"},\"width\":{\"value\":0.5},\"x\":{\"field\":\"x\"}},\"id\":\"1944\",\"type\":\"VBar\"},{\"attributes\":{},\"id\":\"1933\",\"type\":\"HelpTool\"},{\"attributes\":{\"source\":{\"id\":\"1942\"}},\"id\":\"1946\",\"type\":\"CDSView\"},{\"attributes\":{},\"id\":\"1914\",\"type\":\"DataRange1d\"},{\"attributes\":{},\"id\":\"1918\",\"type\":\"LinearScale\"},{\"attributes\":{\"axis\":{\"id\":\"1924\"},\"dimension\":1,\"ticker\":null},\"id\":\"1927\",\"type\":\"Grid\"},{\"attributes\":{},\"id\":\"2007\",\"type\":\"BasicTickFormatter\"},{\"attributes\":{},\"id\":\"1929\",\"type\":\"WheelZoomTool\"},{\"attributes\":{\"fill_alpha\":{\"value\":0.6},\"fill_color\":{\"value\":\"red\"},\"line_alpha\":{\"value\":0.8},\"line_dash\":[10,6],\"top\":{\"field\":\"top\"},\"width\":{\"value\":0.5},\"x\":{\"field\":\"x\"}},\"id\":\"1943\",\"type\":\"VBar\"},{\"attributes\":{\"text\":\"\"},\"id\":\"2004\",\"type\":\"Title\"},{\"attributes\":{\"overlay\":{\"id\":\"1934\"}},\"id\":\"1930\",\"type\":\"BoxZoomTool\"},{\"attributes\":{\"data\":{\"top\":[1.2,2.5,3.7],\"x\":[1,2,3]},\"selected\":{\"id\":\"2011\"},\"selection_policy\":{\"id\":\"2010\"}},\"id\":\"1942\",\"type\":\"ColumnDataSource\"},{\"attributes\":{\"axis\":{\"id\":\"1920\"},\"ticker\":null},\"id\":\"1923\",\"type\":\"Grid\"},{\"attributes\":{},\"id\":\"1912\",\"type\":\"DataRange1d\"},{\"attributes\":{},\"id\":\"1928\",\"type\":\"PanTool\"},{\"attributes\":{},\"id\":\"2005\",\"type\":\"BasicTickFormatter\"},{\"attributes\":{},\"id\":\"2010\",\"type\":\"UnionRenderers\"},{\"attributes\":{\"formatter\":{\"id\":\"2005\"},\"ticker\":{\"id\":\"1921\"}},\"id\":\"1920\",\"type\":\"LinearAxis\"}],\"root_ids\":[\"1911\"]},\"title\":\"Bokeh Application\",\"version\":\"2.2.1\"}};\n",
       "  var render_items = [{\"docid\":\"74d08047-16e1-4788-b5ba-a6365036f10a\",\"root_ids\":[\"1911\"],\"roots\":{\"1911\":\"6975a1da-c6b6-496f-b5d6-f308b1d96397\"}}];\n",
       "  root.Bokeh.embed.embed_items_notebook(docs_json, render_items);\n",
       "\n",
       "  }\n",
       "  if (root.Bokeh !== undefined) {\n",
       "    embed_document(root);\n",
       "  } else {\n",
       "    var attempts = 0;\n",
       "    var timer = setInterval(function(root) {\n",
       "      if (root.Bokeh !== undefined) {\n",
       "        clearInterval(timer);\n",
       "        embed_document(root);\n",
       "      } else {\n",
       "        attempts++;\n",
       "        if (attempts > 100) {\n",
       "          clearInterval(timer);\n",
       "          console.log(\"Bokeh: ERROR: Unable to run BokehJS code because BokehJS library is missing\");\n",
       "        }\n",
       "      }\n",
       "    }, 10, root)\n",
       "  }\n",
       "})(window);"
      ],
      "application/vnd.bokehjs_exec.v0+json": ""
     },
     "metadata": {
      "application/vnd.bokehjs_exec.v0+json": {
       "id": "1911"
      }
     },
     "output_type": "display_data"
    }
   ],
   "source": [
    "# 1、单系列柱状图\n",
    "# vbar\n",
    "\n",
    "p = figure(plot_width=400, plot_height=400)\n",
    "p.vbar(x=[1, 2, 3],\n",
    "       width=0.5,\n",
    "       bottom=0,\n",
    "       top=[1.2, 2.5, 3.7],\n",
    "       line_width=1,\n",
    "       line_alpha=0.8,\n",
    "       line_color='black',\n",
    "       line_dash=[10, 6],\n",
    "       fill_color='red',\n",
    "       fill_alpha=0.6)\n",
    "# x：横轴坐标，width：柱子宽度，bottom：底高度，top：顶高度\n",
    "#color = ['red','blue','green'], alpha = 0.8   # 整体颜色设置，也可单独设置 → color=\"firebrick\"\n",
    "\n",
    "show(p)"
   ]
  },
  {
   "cell_type": "code",
   "execution_count": 19,
   "metadata": {},
   "outputs": [
    {
     "data": {
      "text/html": [
       "\n",
       "\n",
       "\n",
       "\n",
       "\n",
       "\n",
       "  <div class=\"bk-root\" id=\"2e3ff4f6-f4a6-43b5-9102-e78eb7f3ba5d\" data-root-id=\"2057\"></div>\n"
      ]
     },
     "metadata": {},
     "output_type": "display_data"
    },
    {
     "data": {
      "application/javascript": [
       "(function(root) {\n",
       "  function embed_document(root) {\n",
       "    \n",
       "  var docs_json = {\"7550055f-f65e-45ac-9fa9-b26afc455b86\":{\"roots\":{\"references\":[{\"attributes\":{\"below\":[{\"id\":\"2066\"}],\"center\":[{\"id\":\"2069\"},{\"id\":\"2073\"}],\"left\":[{\"id\":\"2070\"}],\"plot_height\":400,\"plot_width\":400,\"renderers\":[{\"id\":\"2091\"}],\"title\":{\"id\":\"2159\"},\"toolbar\":{\"id\":\"2081\"},\"x_range\":{\"id\":\"2058\"},\"x_scale\":{\"id\":\"2062\"},\"y_range\":{\"id\":\"2060\"},\"y_scale\":{\"id\":\"2064\"}},\"id\":\"2057\",\"subtype\":\"Figure\",\"type\":\"Plot\"},{\"attributes\":{},\"id\":\"2064\",\"type\":\"LinearScale\"},{\"attributes\":{\"formatter\":{\"id\":\"2160\"},\"ticker\":{\"id\":\"2067\"}},\"id\":\"2066\",\"type\":\"LinearAxis\"},{\"attributes\":{\"fill_color\":{\"field\":\"fill_color\"},\"height\":{\"value\":0.5},\"line_color\":{\"field\":\"line_color\"},\"right\":{\"field\":\"right\"},\"y\":{\"field\":\"y\"}},\"id\":\"2089\",\"type\":\"HBar\"},{\"attributes\":{},\"id\":\"2160\",\"type\":\"BasicTickFormatter\"},{\"attributes\":{},\"id\":\"2067\",\"type\":\"BasicTicker\"},{\"attributes\":{\"active_drag\":\"auto\",\"active_inspect\":\"auto\",\"active_multi\":null,\"active_scroll\":\"auto\",\"active_tap\":\"auto\",\"tools\":[{\"id\":\"2074\"},{\"id\":\"2075\"},{\"id\":\"2076\"},{\"id\":\"2077\"},{\"id\":\"2078\"},{\"id\":\"2079\"}]},\"id\":\"2081\",\"type\":\"Toolbar\"},{\"attributes\":{},\"id\":\"2165\",\"type\":\"UnionRenderers\"},{\"attributes\":{},\"id\":\"2074\",\"type\":\"PanTool\"},{\"attributes\":{\"text\":\"\"},\"id\":\"2159\",\"type\":\"Title\"},{\"attributes\":{\"source\":{\"id\":\"2088\"}},\"id\":\"2092\",\"type\":\"CDSView\"},{\"attributes\":{\"bottom_units\":\"screen\",\"fill_alpha\":0.5,\"fill_color\":\"lightgrey\",\"left_units\":\"screen\",\"level\":\"overlay\",\"line_alpha\":1.0,\"line_color\":\"black\",\"line_dash\":[4,4],\"line_width\":2,\"right_units\":\"screen\",\"top_units\":\"screen\"},\"id\":\"2080\",\"type\":\"BoxAnnotation\"},{\"attributes\":{},\"id\":\"2077\",\"type\":\"SaveTool\"},{\"attributes\":{},\"id\":\"2075\",\"type\":\"WheelZoomTool\"},{\"attributes\":{\"data_source\":{\"id\":\"2088\"},\"glyph\":{\"id\":\"2089\"},\"hover_glyph\":null,\"muted_glyph\":null,\"nonselection_glyph\":{\"id\":\"2090\"},\"selection_glyph\":null,\"view\":{\"id\":\"2092\"}},\"id\":\"2091\",\"type\":\"GlyphRenderer\"},{\"attributes\":{},\"id\":\"2060\",\"type\":\"DataRange1d\"},{\"attributes\":{},\"id\":\"2062\",\"type\":\"LinearScale\"},{\"attributes\":{\"formatter\":{\"id\":\"2162\"},\"ticker\":{\"id\":\"2071\"}},\"id\":\"2070\",\"type\":\"LinearAxis\"},{\"attributes\":{},\"id\":\"2058\",\"type\":\"DataRange1d\"},{\"attributes\":{},\"id\":\"2079\",\"type\":\"HelpTool\"},{\"attributes\":{\"data\":{\"fill_color\":[\"red\",\"blue\",\"green\"],\"line_color\":[\"red\",\"blue\",\"green\"],\"right\":[1.2,2.5,3.7],\"y\":[1,2,3]},\"selected\":{\"id\":\"2166\"},\"selection_policy\":{\"id\":\"2165\"}},\"id\":\"2088\",\"type\":\"ColumnDataSource\"},{\"attributes\":{\"axis\":{\"id\":\"2066\"},\"ticker\":null},\"id\":\"2069\",\"type\":\"Grid\"},{\"attributes\":{},\"id\":\"2078\",\"type\":\"ResetTool\"},{\"attributes\":{},\"id\":\"2162\",\"type\":\"BasicTickFormatter\"},{\"attributes\":{\"axis\":{\"id\":\"2070\"},\"dimension\":1,\"ticker\":null},\"id\":\"2073\",\"type\":\"Grid\"},{\"attributes\":{},\"id\":\"2071\",\"type\":\"BasicTicker\"},{\"attributes\":{},\"id\":\"2166\",\"type\":\"Selection\"},{\"attributes\":{\"fill_alpha\":{\"value\":0.1},\"fill_color\":{\"field\":\"fill_color\"},\"height\":{\"value\":0.5},\"line_alpha\":{\"value\":0.1},\"line_color\":{\"field\":\"line_color\"},\"right\":{\"field\":\"right\"},\"y\":{\"field\":\"y\"}},\"id\":\"2090\",\"type\":\"HBar\"},{\"attributes\":{\"overlay\":{\"id\":\"2080\"}},\"id\":\"2076\",\"type\":\"BoxZoomTool\"}],\"root_ids\":[\"2057\"]},\"title\":\"Bokeh Application\",\"version\":\"2.2.1\"}};\n",
       "  var render_items = [{\"docid\":\"7550055f-f65e-45ac-9fa9-b26afc455b86\",\"root_ids\":[\"2057\"],\"roots\":{\"2057\":\"2e3ff4f6-f4a6-43b5-9102-e78eb7f3ba5d\"}}];\n",
       "  root.Bokeh.embed.embed_items_notebook(docs_json, render_items);\n",
       "\n",
       "  }\n",
       "  if (root.Bokeh !== undefined) {\n",
       "    embed_document(root);\n",
       "  } else {\n",
       "    var attempts = 0;\n",
       "    var timer = setInterval(function(root) {\n",
       "      if (root.Bokeh !== undefined) {\n",
       "        clearInterval(timer);\n",
       "        embed_document(root);\n",
       "      } else {\n",
       "        attempts++;\n",
       "        if (attempts > 100) {\n",
       "          clearInterval(timer);\n",
       "          console.log(\"Bokeh: ERROR: Unable to run BokehJS code because BokehJS library is missing\");\n",
       "        }\n",
       "      }\n",
       "    }, 10, root)\n",
       "  }\n",
       "})(window);"
      ],
      "application/vnd.bokehjs_exec.v0+json": ""
     },
     "metadata": {
      "application/vnd.bokehjs_exec.v0+json": {
       "id": "2057"
      }
     },
     "output_type": "display_data"
    }
   ],
   "source": [
    "# 1、单系列柱状图\n",
    "# hbar\n",
    "\n",
    "p = figure(plot_width=400, plot_height=400)\n",
    "p.hbar(y=[1, 2, 3],\n",
    "       height=0.5,\n",
    "       left=0,\n",
    "       right=[1.2, 2.5, 3.7],\n",
    "       color=['red', 'blue', 'green'])\n",
    "\n",
    "show(p)"
   ]
  },
  {
   "cell_type": "code",
   "execution_count": 20,
   "metadata": {},
   "outputs": [],
   "source": [
    "# 1、单系列柱状图 - 分类设置标签\n",
    "# ColumnDataSource\n",
    "\n",
    "from bokeh.palettes import Spectral6\n",
    "from bokeh.transform import factor_cmap\n",
    "\n",
    "fruits = ['Apples', 'Pears', 'Nectarines', 'Plums', 'Grapes', 'Strawberries']\n",
    "counts = [5, 3, 4, 2, 4, 6]\n",
    "source = ColumnDataSource(data=dict(fruits=fruits, counts=counts))\n",
    "colors = [\"salmon\", \"olive\", \"darkred\", \"goldenrod\", \"skyblue\", \"orange\"]\n",
    "# 创建一个包含标签的data，对象类型为ColumnDataSource"
   ]
  },
  {
   "cell_type": "code",
   "execution_count": 21,
   "metadata": {},
   "outputs": [
    {
     "data": {
      "text/html": [
       "<div>\n",
       "<style scoped>\n",
       "    .dataframe tbody tr th:only-of-type {\n",
       "        vertical-align: middle;\n",
       "    }\n",
       "\n",
       "    .dataframe tbody tr th {\n",
       "        vertical-align: top;\n",
       "    }\n",
       "\n",
       "    .dataframe thead th {\n",
       "        text-align: right;\n",
       "    }\n",
       "</style>\n",
       "<table border=\"1\" class=\"dataframe\">\n",
       "  <thead>\n",
       "    <tr style=\"text-align: right;\">\n",
       "      <th></th>\n",
       "      <th>fruits</th>\n",
       "      <th>counts</th>\n",
       "    </tr>\n",
       "  </thead>\n",
       "  <tbody>\n",
       "    <tr>\n",
       "      <th>0</th>\n",
       "      <td>Apples</td>\n",
       "      <td>5</td>\n",
       "    </tr>\n",
       "    <tr>\n",
       "      <th>1</th>\n",
       "      <td>Pears</td>\n",
       "      <td>3</td>\n",
       "    </tr>\n",
       "    <tr>\n",
       "      <th>2</th>\n",
       "      <td>Nectarines</td>\n",
       "      <td>4</td>\n",
       "    </tr>\n",
       "    <tr>\n",
       "      <th>3</th>\n",
       "      <td>Plums</td>\n",
       "      <td>2</td>\n",
       "    </tr>\n",
       "    <tr>\n",
       "      <th>4</th>\n",
       "      <td>Grapes</td>\n",
       "      <td>4</td>\n",
       "    </tr>\n",
       "    <tr>\n",
       "      <th>5</th>\n",
       "      <td>Strawberries</td>\n",
       "      <td>6</td>\n",
       "    </tr>\n",
       "  </tbody>\n",
       "</table>\n",
       "</div>"
      ],
      "text/plain": [
       "         fruits  counts\n",
       "0        Apples       5\n",
       "1         Pears       3\n",
       "2    Nectarines       4\n",
       "3         Plums       2\n",
       "4        Grapes       4\n",
       "5  Strawberries       6"
      ]
     },
     "execution_count": 21,
     "metadata": {},
     "output_type": "execute_result"
    }
   ],
   "source": [
    "source.to_df()"
   ]
  },
  {
   "cell_type": "code",
   "execution_count": 22,
   "metadata": {},
   "outputs": [
    {
     "data": {
      "text/html": [
       "\n",
       "\n",
       "\n",
       "\n",
       "\n",
       "\n",
       "  <div class=\"bk-root\" id=\"78af7d3a-2a19-4bfa-ac15-984c9f120180\" data-root-id=\"2213\"></div>\n"
      ]
     },
     "metadata": {},
     "output_type": "display_data"
    },
    {
     "data": {
      "application/javascript": [
       "(function(root) {\n",
       "  function embed_document(root) {\n",
       "    \n",
       "  var docs_json = {\"f2834263-7a22-4697-9647-9e08f9e814d5\":{\"roots\":{\"references\":[{\"attributes\":{\"below\":[{\"id\":\"2224\"}],\"center\":[{\"id\":\"2226\"},{\"id\":\"2230\"},{\"id\":\"2245\"}],\"left\":[{\"id\":\"2227\"}],\"plot_height\":350,\"renderers\":[{\"id\":\"2236\"}],\"title\":{\"id\":\"2214\"},\"toolbar\":{\"id\":\"2231\"},\"x_range\":{\"id\":\"2216\"},\"x_scale\":{\"id\":\"2220\"},\"y_range\":{\"id\":\"2218\"},\"y_scale\":{\"id\":\"2222\"}},\"id\":\"2213\",\"subtype\":\"Figure\",\"type\":\"Plot\"},{\"attributes\":{\"data\":{\"counts\":[5,3,4,2,4,6],\"fruits\":[\"Apples\",\"Pears\",\"Nectarines\",\"Plums\",\"Grapes\",\"Strawberries\"]},\"selected\":{\"id\":\"2244\"},\"selection_policy\":{\"id\":\"2243\"}},\"id\":\"2212\",\"type\":\"ColumnDataSource\"},{\"attributes\":{\"fill_alpha\":{\"value\":0.8},\"fill_color\":{\"field\":\"fruits\",\"transform\":{\"id\":\"2232\"}},\"line_alpha\":{\"value\":0.8},\"line_color\":{\"field\":\"fruits\",\"transform\":{\"id\":\"2232\"}},\"top\":{\"field\":\"counts\"},\"width\":{\"value\":0.9},\"x\":{\"field\":\"fruits\"}},\"id\":\"2234\",\"type\":\"VBar\"},{\"attributes\":{},\"id\":\"2222\",\"type\":\"LinearScale\"},{\"attributes\":{\"formatter\":{\"id\":\"2241\"},\"ticker\":{\"id\":\"2228\"}},\"id\":\"2227\",\"type\":\"LinearAxis\"},{\"attributes\":{\"fill_alpha\":{\"value\":0.1},\"fill_color\":{\"field\":\"fruits\",\"transform\":{\"id\":\"2232\"}},\"line_alpha\":{\"value\":0.1},\"line_color\":{\"field\":\"fruits\",\"transform\":{\"id\":\"2232\"}},\"top\":{\"field\":\"counts\"},\"width\":{\"value\":0.9},\"x\":{\"field\":\"fruits\"}},\"id\":\"2235\",\"type\":\"VBar\"},{\"attributes\":{\"formatter\":{\"id\":\"2239\"},\"ticker\":{\"id\":\"2225\"}},\"id\":\"2224\",\"type\":\"CategoricalAxis\"},{\"attributes\":{},\"id\":\"2228\",\"type\":\"BasicTicker\"},{\"attributes\":{\"data_source\":{\"id\":\"2212\"},\"glyph\":{\"id\":\"2234\"},\"hover_glyph\":null,\"muted_glyph\":null,\"nonselection_glyph\":{\"id\":\"2235\"},\"selection_glyph\":null,\"view\":{\"id\":\"2237\"}},\"id\":\"2236\",\"type\":\"GlyphRenderer\"},{\"attributes\":{},\"id\":\"2225\",\"type\":\"CategoricalTicker\"},{\"attributes\":{\"active_drag\":\"auto\",\"active_inspect\":\"auto\",\"active_multi\":null,\"active_scroll\":\"auto\",\"active_tap\":\"auto\"},\"id\":\"2231\",\"type\":\"Toolbar\"},{\"attributes\":{\"factors\":[\"Apples\",\"Pears\",\"Nectarines\",\"Plums\",\"Grapes\",\"Strawberries\"],\"palette\":[\"#3288bd\",\"#99d594\",\"#e6f598\",\"#fee08b\",\"#fc8d59\",\"#d53e4f\"]},\"id\":\"2232\",\"type\":\"CategoricalColorMapper\"},{\"attributes\":{\"items\":[{\"id\":\"2246\"}],\"location\":\"top_center\",\"orientation\":\"horizontal\"},\"id\":\"2245\",\"type\":\"Legend\"},{\"attributes\":{\"axis\":{\"id\":\"2224\"},\"grid_line_color\":null,\"ticker\":null},\"id\":\"2226\",\"type\":\"Grid\"},{\"attributes\":{},\"id\":\"2241\",\"type\":\"BasicTickFormatter\"},{\"attributes\":{},\"id\":\"2243\",\"type\":\"UnionRenderers\"},{\"attributes\":{\"axis\":{\"id\":\"2227\"},\"dimension\":1,\"ticker\":null},\"id\":\"2230\",\"type\":\"Grid\"},{\"attributes\":{\"text\":\"Fruit Counts\"},\"id\":\"2214\",\"type\":\"Title\"},{\"attributes\":{\"factors\":[\"Apples\",\"Pears\",\"Nectarines\",\"Plums\",\"Grapes\",\"Strawberries\"]},\"id\":\"2216\",\"type\":\"FactorRange\"},{\"attributes\":{\"label\":{\"field\":\"fruits\"},\"renderers\":[{\"id\":\"2236\"}]},\"id\":\"2246\",\"type\":\"LegendItem\"},{\"attributes\":{},\"id\":\"2244\",\"type\":\"Selection\"},{\"attributes\":{},\"id\":\"2220\",\"type\":\"CategoricalScale\"},{\"attributes\":{\"end\":9},\"id\":\"2218\",\"type\":\"Range1d\"},{\"attributes\":{},\"id\":\"2239\",\"type\":\"CategoricalTickFormatter\"},{\"attributes\":{\"source\":{\"id\":\"2212\"}},\"id\":\"2237\",\"type\":\"CDSView\"}],\"root_ids\":[\"2213\"]},\"title\":\"Bokeh Application\",\"version\":\"2.2.1\"}};\n",
       "  var render_items = [{\"docid\":\"f2834263-7a22-4697-9647-9e08f9e814d5\",\"root_ids\":[\"2213\"],\"roots\":{\"2213\":\"78af7d3a-2a19-4bfa-ac15-984c9f120180\"}}];\n",
       "  root.Bokeh.embed.embed_items_notebook(docs_json, render_items);\n",
       "\n",
       "  }\n",
       "  if (root.Bokeh !== undefined) {\n",
       "    embed_document(root);\n",
       "  } else {\n",
       "    var attempts = 0;\n",
       "    var timer = setInterval(function(root) {\n",
       "      if (root.Bokeh !== undefined) {\n",
       "        clearInterval(timer);\n",
       "        embed_document(root);\n",
       "      } else {\n",
       "        attempts++;\n",
       "        if (attempts > 100) {\n",
       "          clearInterval(timer);\n",
       "          console.log(\"Bokeh: ERROR: Unable to run BokehJS code because BokehJS library is missing\");\n",
       "        }\n",
       "      }\n",
       "    }, 10, root)\n",
       "  }\n",
       "})(window);"
      ],
      "application/vnd.bokehjs_exec.v0+json": ""
     },
     "metadata": {
      "application/vnd.bokehjs_exec.v0+json": {
       "id": "2213"
      }
     },
     "output_type": "display_data"
    }
   ],
   "source": [
    "p = figure(x_range=fruits,\n",
    "           y_range=(0, 9),\n",
    "           plot_height=350,\n",
    "           title='Fruit Counts',\n",
    "           tools='')\n",
    "p.vbar(x='fruits',\n",
    "       top='counts',\n",
    "       source=source,\n",
    "       width=0.9,\n",
    "       alpha=0.8,\n",
    "       color=factor_cmap('fruits', palette=Spectral6, factors=fruits),\n",
    "       legend='fruits')\n",
    "# 绘制柱状图，横轴直接显示标签\n",
    "# factor_cmap(field_name, palette, factors, start=0, end=None, nan_color='gray')：颜色转换模块，生成一个颜色转换对象\n",
    "# field_name：分类名称\n",
    "# palette：调色盘\n",
    "# factors：用于在调色盘中分颜色的参数\n",
    "# 参考文档：http://bokeh.pydata.org/en/latest/docs/reference/transform.html\n",
    "\n",
    "p.xgrid.grid_line_color = None\n",
    "p.legend.orientation = 'horizontal'\n",
    "p.legend.location = 'top_center'\n",
    "\n",
    "show(p)"
   ]
  },
  {
   "cell_type": "code",
   "execution_count": 23,
   "metadata": {},
   "outputs": [
    {
     "name": "stdout",
     "output_type": "stream",
     "text": [
      "{'index': ['Apples', 'Pears', 'Nectarines', 'Plums', 'Grapes', 'Strawberries'], '2015': [2, 1, 4, 3, 2, 4], '2016': [5, 3, 3, 2, 4, 6], '2017': [3, 2, 4, 4, 5, 3]}\n"
     ]
    }
   ],
   "source": [
    "# 2、多系列柱状图\n",
    "# vbar\n",
    "\n",
    "# 导入dodge、value模块\n",
    "from bokeh.transform import dodge\n",
    "from bokeh.core.properties import value\n",
    "\n",
    "# 创建数据\n",
    "df = pd.DataFrame(\n",
    "    {\n",
    "        '2015': [2, 1, 4, 3, 2, 4],\n",
    "        '2016': [5, 3, 3, 2, 4, 6],\n",
    "        '2017': [3, 2, 4, 4, 5, 3]\n",
    "    },\n",
    "    index=['Apples', 'Pears', 'Nectarines', 'Plums', 'Grapes', 'Strawberries'])\n",
    "\n",
    "fruit = df.index.tolist()\n",
    "years = df.columns.tolist()\n",
    "data = {'index': fruits}\n",
    "for year in years:\n",
    "    data[year] = df[year].tolist()\n",
    "\n",
    "print(data)"
   ]
  },
  {
   "cell_type": "code",
   "execution_count": 24,
   "metadata": {},
   "outputs": [],
   "source": [
    "source = ColumnDataSource(data=data)"
   ]
  },
  {
   "cell_type": "code",
   "execution_count": 25,
   "metadata": {},
   "outputs": [
    {
     "data": {
      "text/html": [
       "\n",
       "\n",
       "\n",
       "\n",
       "\n",
       "\n",
       "  <div class=\"bk-root\" id=\"8f334032-3479-4180-b81e-3e33a5a09327\" data-root-id=\"2364\"></div>\n"
      ]
     },
     "metadata": {},
     "output_type": "display_data"
    },
    {
     "data": {
      "application/javascript": [
       "(function(root) {\n",
       "  function embed_document(root) {\n",
       "    \n",
       "  var docs_json = {\"817a3340-8b1f-4935-9d7c-89227312413e\":{\"roots\":{\"references\":[{\"attributes\":{\"below\":[{\"id\":\"2375\"}],\"center\":[{\"id\":\"2377\"},{\"id\":\"2381\"},{\"id\":\"2396\"}],\"left\":[{\"id\":\"2378\"}],\"plot_height\":350,\"renderers\":[{\"id\":\"2387\"},{\"id\":\"2402\"},{\"id\":\"2416\"}],\"title\":{\"id\":\"2365\"},\"toolbar\":{\"id\":\"2382\"},\"x_range\":{\"id\":\"2367\"},\"x_scale\":{\"id\":\"2371\"},\"y_range\":{\"id\":\"2369\"},\"y_scale\":{\"id\":\"2373\"}},\"id\":\"2364\",\"subtype\":\"Figure\",\"type\":\"Plot\"},{\"attributes\":{\"fill_alpha\":{\"value\":0.1},\"fill_color\":{\"value\":\"#e84d60\"},\"line_alpha\":{\"value\":0.1},\"line_color\":{\"value\":\"#e84d60\"},\"top\":{\"field\":\"2017\"},\"width\":{\"value\":0.2},\"x\":{\"field\":\"index\",\"transform\":{\"id\":\"2412\"}}},\"id\":\"2415\",\"type\":\"VBar\"},{\"attributes\":{},\"id\":\"2376\",\"type\":\"CategoricalTicker\"},{\"attributes\":{\"source\":{\"id\":\"2363\"}},\"id\":\"2403\",\"type\":\"CDSView\"},{\"attributes\":{\"formatter\":{\"id\":\"2390\"},\"ticker\":{\"id\":\"2376\"}},\"id\":\"2375\",\"type\":\"CategoricalAxis\"},{\"attributes\":{\"fill_color\":{\"value\":\"#e84d60\"},\"line_color\":{\"value\":\"#e84d60\"},\"top\":{\"field\":\"2017\"},\"width\":{\"value\":0.2},\"x\":{\"field\":\"index\",\"transform\":{\"id\":\"2412\"}}},\"id\":\"2414\",\"type\":\"VBar\"},{\"attributes\":{\"axis\":{\"id\":\"2375\"},\"grid_line_color\":null,\"ticker\":null},\"id\":\"2377\",\"type\":\"Grid\"},{\"attributes\":{\"source\":{\"id\":\"2363\"}},\"id\":\"2417\",\"type\":\"CDSView\"},{\"attributes\":{\"fill_alpha\":{\"value\":0.1},\"fill_color\":{\"value\":\"#718dbf\"},\"line_alpha\":{\"value\":0.1},\"line_color\":{\"value\":\"#718dbf\"},\"top\":{\"field\":\"2016\"},\"width\":{\"value\":0.2},\"x\":{\"field\":\"index\",\"transform\":{\"id\":\"2398\"}}},\"id\":\"2401\",\"type\":\"VBar\"},{\"attributes\":{\"formatter\":{\"id\":\"2392\"},\"ticker\":{\"id\":\"2379\"}},\"id\":\"2378\",\"type\":\"LinearAxis\"},{\"attributes\":{\"data\":{\"2015\":[2,1,4,3,2,4],\"2016\":[5,3,3,2,4,6],\"2017\":[3,2,4,4,5,3],\"index\":[\"Apples\",\"Pears\",\"Nectarines\",\"Plums\",\"Grapes\",\"Strawberries\"]},\"selected\":{\"id\":\"2395\"},\"selection_policy\":{\"id\":\"2394\"}},\"id\":\"2363\",\"type\":\"ColumnDataSource\"},{\"attributes\":{\"range\":{\"id\":\"2367\"},\"value\":0.25},\"id\":\"2412\",\"type\":\"Dodge\"},{\"attributes\":{},\"id\":\"2379\",\"type\":\"BasicTicker\"},{\"attributes\":{\"active_drag\":\"auto\",\"active_inspect\":\"auto\",\"active_multi\":null,\"active_scroll\":\"auto\",\"active_tap\":\"auto\"},\"id\":\"2382\",\"type\":\"Toolbar\"},{\"attributes\":{},\"id\":\"2390\",\"type\":\"CategoricalTickFormatter\"},{\"attributes\":{\"fill_color\":{\"value\":\"#718dbf\"},\"line_color\":{\"value\":\"#718dbf\"},\"top\":{\"field\":\"2016\"},\"width\":{\"value\":0.2},\"x\":{\"field\":\"index\",\"transform\":{\"id\":\"2398\"}}},\"id\":\"2400\",\"type\":\"VBar\"},{\"attributes\":{\"items\":[{\"id\":\"2397\"},{\"id\":\"2411\"},{\"id\":\"2425\"}],\"location\":\"top_left\",\"orientation\":\"horizontal\"},\"id\":\"2396\",\"type\":\"Legend\"},{\"attributes\":{\"axis\":{\"id\":\"2378\"},\"dimension\":1,\"ticker\":null},\"id\":\"2381\",\"type\":\"Grid\"},{\"attributes\":{},\"id\":\"2392\",\"type\":\"BasicTickFormatter\"},{\"attributes\":{\"range\":{\"id\":\"2367\"},\"value\":-0.25},\"id\":\"2383\",\"type\":\"Dodge\"},{\"attributes\":{\"label\":{\"value\":\"2015\"},\"renderers\":[{\"id\":\"2387\"}]},\"id\":\"2397\",\"type\":\"LegendItem\"},{\"attributes\":{},\"id\":\"2394\",\"type\":\"UnionRenderers\"},{\"attributes\":{\"text\":\"Fruit count by year\"},\"id\":\"2365\",\"type\":\"Title\"},{\"attributes\":{\"data_source\":{\"id\":\"2363\"},\"glyph\":{\"id\":\"2385\"},\"hover_glyph\":null,\"muted_glyph\":null,\"nonselection_glyph\":{\"id\":\"2386\"},\"selection_glyph\":null,\"view\":{\"id\":\"2388\"}},\"id\":\"2387\",\"type\":\"GlyphRenderer\"},{\"attributes\":{\"label\":{\"value\":\"2016\"},\"renderers\":[{\"id\":\"2402\"}]},\"id\":\"2411\",\"type\":\"LegendItem\"},{\"attributes\":{\"range\":{\"id\":\"2367\"}},\"id\":\"2398\",\"type\":\"Dodge\"},{\"attributes\":{\"fill_color\":{\"value\":\"#c9d9d3\"},\"line_color\":{\"value\":\"#c9d9d3\"},\"top\":{\"field\":\"2015\"},\"width\":{\"value\":0.2},\"x\":{\"field\":\"index\",\"transform\":{\"id\":\"2383\"}}},\"id\":\"2385\",\"type\":\"VBar\"},{\"attributes\":{\"data_source\":{\"id\":\"2363\"},\"glyph\":{\"id\":\"2400\"},\"hover_glyph\":null,\"muted_glyph\":null,\"nonselection_glyph\":{\"id\":\"2401\"},\"selection_glyph\":null,\"view\":{\"id\":\"2403\"}},\"id\":\"2402\",\"type\":\"GlyphRenderer\"},{\"attributes\":{\"factors\":[\"Apples\",\"Pears\",\"Nectarines\",\"Plums\",\"Grapes\",\"Strawberries\"]},\"id\":\"2367\",\"type\":\"FactorRange\"},{\"attributes\":{\"label\":{\"value\":\"2017\"},\"renderers\":[{\"id\":\"2416\"}]},\"id\":\"2425\",\"type\":\"LegendItem\"},{\"attributes\":{\"source\":{\"id\":\"2363\"}},\"id\":\"2388\",\"type\":\"CDSView\"},{\"attributes\":{},\"id\":\"2371\",\"type\":\"CategoricalScale\"},{\"attributes\":{\"data_source\":{\"id\":\"2363\"},\"glyph\":{\"id\":\"2414\"},\"hover_glyph\":null,\"muted_glyph\":null,\"nonselection_glyph\":{\"id\":\"2415\"},\"selection_glyph\":null,\"view\":{\"id\":\"2417\"}},\"id\":\"2416\",\"type\":\"GlyphRenderer\"},{\"attributes\":{},\"id\":\"2395\",\"type\":\"Selection\"},{\"attributes\":{\"end\":10},\"id\":\"2369\",\"type\":\"Range1d\"},{\"attributes\":{\"fill_alpha\":{\"value\":0.1},\"fill_color\":{\"value\":\"#c9d9d3\"},\"line_alpha\":{\"value\":0.1},\"line_color\":{\"value\":\"#c9d9d3\"},\"top\":{\"field\":\"2015\"},\"width\":{\"value\":0.2},\"x\":{\"field\":\"index\",\"transform\":{\"id\":\"2383\"}}},\"id\":\"2386\",\"type\":\"VBar\"},{\"attributes\":{},\"id\":\"2373\",\"type\":\"LinearScale\"}],\"root_ids\":[\"2364\"]},\"title\":\"Bokeh Application\",\"version\":\"2.2.1\"}};\n",
       "  var render_items = [{\"docid\":\"817a3340-8b1f-4935-9d7c-89227312413e\",\"root_ids\":[\"2364\"],\"roots\":{\"2364\":\"8f334032-3479-4180-b81e-3e33a5a09327\"}}];\n",
       "  root.Bokeh.embed.embed_items_notebook(docs_json, render_items);\n",
       "\n",
       "  }\n",
       "  if (root.Bokeh !== undefined) {\n",
       "    embed_document(root);\n",
       "  } else {\n",
       "    var attempts = 0;\n",
       "    var timer = setInterval(function(root) {\n",
       "      if (root.Bokeh !== undefined) {\n",
       "        clearInterval(timer);\n",
       "        embed_document(root);\n",
       "      } else {\n",
       "        attempts++;\n",
       "        if (attempts > 100) {\n",
       "          clearInterval(timer);\n",
       "          console.log(\"Bokeh: ERROR: Unable to run BokehJS code because BokehJS library is missing\");\n",
       "        }\n",
       "      }\n",
       "    }, 10, root)\n",
       "  }\n",
       "})(window);"
      ],
      "application/vnd.bokehjs_exec.v0+json": ""
     },
     "metadata": {
      "application/vnd.bokehjs_exec.v0+json": {
       "id": "2364"
      }
     },
     "output_type": "display_data"
    }
   ],
   "source": [
    "p = figure(x_range=fruits,\n",
    "           y_range=(0, 10),\n",
    "           plot_height=350,\n",
    "           title='Fruit count by year',\n",
    "           tools='')\n",
    "p.vbar(x=dodge('index', -0.25, range=p.x_range),\n",
    "       top='2015',\n",
    "       width=0.2,\n",
    "       source=source,\n",
    "       color='#c9d9d3',\n",
    "       legend=value('2015'))\n",
    "p.vbar(x=dodge('index', 0, range=p.x_range),\n",
    "       top='2016',\n",
    "       width=0.2,\n",
    "       source=source,\n",
    "       color='#718dbf',\n",
    "       legend=value('2016'))\n",
    "p.vbar(x=dodge('index', 0.25, range=p.x_range),\n",
    "       top='2017',\n",
    "       width=0.2,\n",
    "       source=source,\n",
    "       color='#e84d60',\n",
    "       legend=value('2017'))\n",
    "# 绘制多系列柱状图\n",
    "# dodge(field_name, value, range=None) → 转换成一个可分组的对象，value为元素的位置（配合width设置）\n",
    "# value(val, transform=None) → 按照年份分为dict\n",
    "\n",
    "p.xgrid.grid_line_color = None\n",
    "p.legend.location = 'top_left'\n",
    "p.legend.orientation = 'horizontal'\n",
    "\n",
    "show(p)"
   ]
  },
  {
   "cell_type": "code",
   "execution_count": 26,
   "metadata": {},
   "outputs": [],
   "source": [
    "# 3、堆叠图\n",
    "\n",
    "from bokeh.core.properties import value\n",
    "# 导入value模块\n",
    "\n",
    "fruits = ['Apples', 'Pears', 'Nectarines', 'Plums', 'Grapes', 'Strawberries']\n",
    "years = [\"2015\", \"2016\", \"2017\"]\n",
    "colors = [\"#c9d9d3\", \"#718dbf\", \"#e84d60\"]\n",
    "data = {\n",
    "    'fruits': fruits,\n",
    "    '2015': [2, 1, 4, 3, 2, 4],\n",
    "    '2016': [5, 3, 4, 2, 4, 6],\n",
    "    '2017': [3, 2, 4, 4, 5, 3]\n",
    "}\n",
    "source = ColumnDataSource(data=data)\n",
    "# 创建数据"
   ]
  },
  {
   "cell_type": "code",
   "execution_count": 27,
   "metadata": {},
   "outputs": [
    {
     "data": {
      "text/html": [
       "\n",
       "\n",
       "\n",
       "\n",
       "\n",
       "\n",
       "  <div class=\"bk-root\" id=\"4e6a3235-eba6-46e4-b05d-8cc162da6b54\" data-root-id=\"2550\"></div>\n"
      ]
     },
     "metadata": {},
     "output_type": "display_data"
    },
    {
     "data": {
      "application/javascript": [
       "(function(root) {\n",
       "  function embed_document(root) {\n",
       "    \n",
       "  var docs_json = {\"05410dd4-f6fa-4352-9e72-dd0cd45126cf\":{\"roots\":{\"references\":[{\"attributes\":{\"below\":[{\"id\":\"2561\"}],\"center\":[{\"id\":\"2563\"},{\"id\":\"2567\"},{\"id\":\"2587\"}],\"left\":[{\"id\":\"2564\"}],\"outline_line_color\":null,\"plot_height\":400,\"renderers\":[{\"id\":\"2578\"},{\"id\":\"2592\"},{\"id\":\"2605\"}],\"title\":{\"id\":\"2551\"},\"toolbar\":{\"id\":\"2568\"},\"x_range\":{\"id\":\"2553\"},\"x_scale\":{\"id\":\"2557\"},\"y_range\":{\"id\":\"2555\"},\"y_scale\":{\"id\":\"2559\"}},\"id\":\"2550\",\"subtype\":\"Figure\",\"type\":\"Plot\"},{\"attributes\":{\"label\":{\"value\":\"2016\"},\"renderers\":[{\"id\":\"2592\"}]},\"id\":\"2601\",\"type\":\"LegendItem\"},{\"attributes\":{\"source\":{\"id\":\"2549\"}},\"id\":\"2606\",\"type\":\"CDSView\"},{\"attributes\":{},\"id\":\"2557\",\"type\":\"CategoricalScale\"},{\"attributes\":{\"bottom\":{\"expr\":{\"id\":\"2569\"}},\"fill_color\":{\"value\":\"#c9d9d3\"},\"line_color\":{\"value\":\"#c9d9d3\"},\"top\":{\"expr\":{\"id\":\"2570\"}},\"width\":{\"value\":0.9},\"x\":{\"field\":\"fruits\"}},\"id\":\"2576\",\"type\":\"VBar\"},{\"attributes\":{\"source\":{\"id\":\"2549\"}},\"id\":\"2579\",\"type\":\"CDSView\"},{\"attributes\":{},\"id\":\"2583\",\"type\":\"BasicTickFormatter\"},{\"attributes\":{\"axis\":{\"id\":\"2561\"},\"grid_line_color\":null,\"ticker\":null},\"id\":\"2563\",\"type\":\"Grid\"},{\"attributes\":{\"data_source\":{\"id\":\"2549\"},\"glyph\":{\"id\":\"2576\"},\"hover_glyph\":null,\"muted_glyph\":null,\"name\":\"2015\",\"nonselection_glyph\":{\"id\":\"2577\"},\"selection_glyph\":null,\"view\":{\"id\":\"2579\"}},\"id\":\"2578\",\"type\":\"GlyphRenderer\"},{\"attributes\":{},\"id\":\"2585\",\"type\":\"UnionRenderers\"},{\"attributes\":{\"factors\":[\"Apples\",\"Pears\",\"Nectarines\",\"Plums\",\"Grapes\",\"Strawberries\"]},\"id\":\"2553\",\"type\":\"FactorRange\"},{\"attributes\":{},\"id\":\"2565\",\"type\":\"BasicTicker\"},{\"attributes\":{\"fields\":[\"2015\"]},\"id\":\"2571\",\"type\":\"Stack\"},{\"attributes\":{\"bottom\":{\"expr\":{\"id\":\"2573\"}},\"fill_alpha\":{\"value\":0.1},\"fill_color\":{\"value\":\"#e84d60\"},\"line_alpha\":{\"value\":0.1},\"line_color\":{\"value\":\"#e84d60\"},\"top\":{\"expr\":{\"id\":\"2574\"}},\"width\":{\"value\":0.9},\"x\":{\"field\":\"fruits\"}},\"id\":\"2604\",\"type\":\"VBar\"},{\"attributes\":{},\"id\":\"2559\",\"type\":\"LinearScale\"},{\"attributes\":{\"bottom\":{\"expr\":{\"id\":\"2573\"}},\"fill_color\":{\"value\":\"#e84d60\"},\"line_color\":{\"value\":\"#e84d60\"},\"top\":{\"expr\":{\"id\":\"2574\"}},\"width\":{\"value\":0.9},\"x\":{\"field\":\"fruits\"}},\"id\":\"2603\",\"type\":\"VBar\"},{\"attributes\":{\"data\":{\"2015\":[2,1,4,3,2,4],\"2016\":[5,3,4,2,4,6],\"2017\":[3,2,4,4,5,3],\"fruits\":[\"Apples\",\"Pears\",\"Nectarines\",\"Plums\",\"Grapes\",\"Strawberries\"]},\"selected\":{\"id\":\"2586\"},\"selection_policy\":{\"id\":\"2585\"}},\"id\":\"2549\",\"type\":\"ColumnDataSource\"},{\"attributes\":{\"fields\":[\"2015\"]},\"id\":\"2570\",\"type\":\"Stack\"},{\"attributes\":{},\"id\":\"2562\",\"type\":\"CategoricalTicker\"},{\"attributes\":{\"label\":{\"value\":\"2017\"},\"renderers\":[{\"id\":\"2605\"}]},\"id\":\"2614\",\"type\":\"LegendItem\"},{\"attributes\":{\"bottom\":{\"expr\":{\"id\":\"2571\"}},\"fill_color\":{\"value\":\"#718dbf\"},\"line_color\":{\"value\":\"#718dbf\"},\"top\":{\"expr\":{\"id\":\"2572\"}},\"width\":{\"value\":0.9},\"x\":{\"field\":\"fruits\"}},\"id\":\"2590\",\"type\":\"VBar\"},{\"attributes\":{\"formatter\":{\"id\":\"2581\"},\"minor_tick_line_color\":null,\"ticker\":{\"id\":\"2562\"}},\"id\":\"2561\",\"type\":\"CategoricalAxis\"},{\"attributes\":{\"data_source\":{\"id\":\"2549\"},\"glyph\":{\"id\":\"2603\"},\"hover_glyph\":null,\"muted_glyph\":null,\"name\":\"2017\",\"nonselection_glyph\":{\"id\":\"2604\"},\"selection_glyph\":null,\"view\":{\"id\":\"2606\"}},\"id\":\"2605\",\"type\":\"GlyphRenderer\"},{\"attributes\":{},\"id\":\"2581\",\"type\":\"CategoricalTickFormatter\"},{\"attributes\":{\"fields\":[\"2015\",\"2016\"]},\"id\":\"2573\",\"type\":\"Stack\"},{\"attributes\":{\"formatter\":{\"id\":\"2583\"},\"minor_tick_line_color\":null,\"ticker\":{\"id\":\"2565\"}},\"id\":\"2564\",\"type\":\"LinearAxis\"},{\"attributes\":{\"bottom\":{\"expr\":{\"id\":\"2571\"}},\"fill_alpha\":{\"value\":0.1},\"fill_color\":{\"value\":\"#718dbf\"},\"line_alpha\":{\"value\":0.1},\"line_color\":{\"value\":\"#718dbf\"},\"top\":{\"expr\":{\"id\":\"2572\"}},\"width\":{\"value\":0.9},\"x\":{\"field\":\"fruits\"}},\"id\":\"2591\",\"type\":\"VBar\"},{\"attributes\":{\"fields\":[]},\"id\":\"2569\",\"type\":\"Stack\"},{\"attributes\":{},\"id\":\"2586\",\"type\":\"Selection\"},{\"attributes\":{\"data_source\":{\"id\":\"2549\"},\"glyph\":{\"id\":\"2590\"},\"hover_glyph\":null,\"muted_glyph\":null,\"name\":\"2016\",\"nonselection_glyph\":{\"id\":\"2591\"},\"selection_glyph\":null,\"view\":{\"id\":\"2593\"}},\"id\":\"2592\",\"type\":\"GlyphRenderer\"},{\"attributes\":{\"source\":{\"id\":\"2549\"}},\"id\":\"2593\",\"type\":\"CDSView\"},{\"attributes\":{\"axis\":{\"id\":\"2564\"},\"dimension\":1,\"ticker\":null},\"id\":\"2567\",\"type\":\"Grid\"},{\"attributes\":{\"fields\":[\"2015\",\"2016\",\"2017\"]},\"id\":\"2574\",\"type\":\"Stack\"},{\"attributes\":{\"end\":15},\"id\":\"2555\",\"type\":\"Range1d\"},{\"attributes\":{\"label\":{\"value\":\"2015\"},\"renderers\":[{\"id\":\"2578\"}]},\"id\":\"2588\",\"type\":\"LegendItem\"},{\"attributes\":{\"active_drag\":\"auto\",\"active_inspect\":\"auto\",\"active_multi\":null,\"active_scroll\":\"auto\",\"active_tap\":\"auto\"},\"id\":\"2568\",\"type\":\"Toolbar\"},{\"attributes\":{\"items\":[{\"id\":\"2588\"},{\"id\":\"2601\"},{\"id\":\"2614\"}],\"location\":\"top_left\",\"orientation\":\"horizontal\"},\"id\":\"2587\",\"type\":\"Legend\"},{\"attributes\":{\"bottom\":{\"expr\":{\"id\":\"2569\"}},\"fill_alpha\":{\"value\":0.1},\"fill_color\":{\"value\":\"#c9d9d3\"},\"line_alpha\":{\"value\":0.1},\"line_color\":{\"value\":\"#c9d9d3\"},\"top\":{\"expr\":{\"id\":\"2570\"}},\"width\":{\"value\":0.9},\"x\":{\"field\":\"fruits\"}},\"id\":\"2577\",\"type\":\"VBar\"},{\"attributes\":{\"text\":\"Fruit count by year\"},\"id\":\"2551\",\"type\":\"Title\"},{\"attributes\":{\"fields\":[\"2015\",\"2016\"]},\"id\":\"2572\",\"type\":\"Stack\"}],\"root_ids\":[\"2550\"]},\"title\":\"Bokeh Application\",\"version\":\"2.2.1\"}};\n",
       "  var render_items = [{\"docid\":\"05410dd4-f6fa-4352-9e72-dd0cd45126cf\",\"root_ids\":[\"2550\"],\"roots\":{\"2550\":\"4e6a3235-eba6-46e4-b05d-8cc162da6b54\"}}];\n",
       "  root.Bokeh.embed.embed_items_notebook(docs_json, render_items);\n",
       "\n",
       "  }\n",
       "  if (root.Bokeh !== undefined) {\n",
       "    embed_document(root);\n",
       "  } else {\n",
       "    var attempts = 0;\n",
       "    var timer = setInterval(function(root) {\n",
       "      if (root.Bokeh !== undefined) {\n",
       "        clearInterval(timer);\n",
       "        embed_document(root);\n",
       "      } else {\n",
       "        attempts++;\n",
       "        if (attempts > 100) {\n",
       "          clearInterval(timer);\n",
       "          console.log(\"Bokeh: ERROR: Unable to run BokehJS code because BokehJS library is missing\");\n",
       "        }\n",
       "      }\n",
       "    }, 10, root)\n",
       "  }\n",
       "})(window);"
      ],
      "application/vnd.bokehjs_exec.v0+json": ""
     },
     "metadata": {
      "application/vnd.bokehjs_exec.v0+json": {
       "id": "2550"
      }
     },
     "output_type": "display_data"
    }
   ],
   "source": [
    "p = figure(x_range=fruits,\n",
    "           y_range=(0, 15),\n",
    "           plot_height=400,\n",
    "           title='Fruit count by year',\n",
    "           tools='')\n",
    "p.vbar_stack(\n",
    "    years,  # 设置堆叠值，这里source中包含了不同年份的值，years变量用于识别不同堆叠层\n",
    "    x='fruits',  # 设置x坐标\n",
    "    source=source,\n",
    "    width=0.9,\n",
    "    color=colors,\n",
    "    legend=[value(x) for x in years],\n",
    "    name=years)\n",
    "# 绘制堆叠图\n",
    "# 注意第一个参数需要放years\n",
    "\n",
    "p.xgrid.grid_line_color = None\n",
    "p.axis.minor_tick_line_color = None\n",
    "p.outline_line_color = None\n",
    "p.legend.location = \"top_left\"\n",
    "p.legend.orientation = \"horizontal\"\n",
    "# 设置其他参数\n",
    "\n",
    "show(p)"
   ]
  },
  {
   "cell_type": "code",
   "execution_count": 28,
   "metadata": {},
   "outputs": [],
   "source": [
    "# 3、堆叠图\n",
    "\n",
    "from bokeh.palettes import GnBu3, OrRd3\n",
    "# 导入颜色模块\n",
    "\n",
    "fruits = ['Apples', 'Pears', 'Nectarines', 'Plums', 'Grapes', 'Strawberries']\n",
    "years = [\"2015\", \"2016\", \"2017\"]\n",
    "exports = {\n",
    "    'fruits': fruits,\n",
    "    '2015': [2, 1, 4, 3, 2, 4],\n",
    "    '2016': [5, 3, 4, 2, 4, 6],\n",
    "    '2017': [3, 2, 4, 4, 5, 3]\n",
    "}\n",
    "imports = {\n",
    "    'fruits': fruits,\n",
    "    '2015': [-1, 0, -1, -3, -2, -1],\n",
    "    '2016': [-2, -1, -3, -1, -2, -2],\n",
    "    '2017': [-1, -2, -1, 0, -2, -2]\n",
    "}"
   ]
  },
  {
   "cell_type": "code",
   "execution_count": 29,
   "metadata": {},
   "outputs": [
    {
     "data": {
      "text/html": [
       "\n",
       "\n",
       "\n",
       "\n",
       "\n",
       "\n",
       "  <div class=\"bk-root\" id=\"a6698519-46ea-41b6-bae0-0035906c82b7\" data-root-id=\"2745\"></div>\n"
      ]
     },
     "metadata": {},
     "output_type": "display_data"
    },
    {
     "data": {
      "application/javascript": [
       "(function(root) {\n",
       "  function embed_document(root) {\n",
       "    \n",
       "  var docs_json = {\"9c1a3c56-cbd4-41b9-9ae0-e6b9c614874c\":{\"roots\":{\"references\":[{\"attributes\":{\"below\":[{\"id\":\"2756\"}],\"center\":[{\"id\":\"2759\"},{\"id\":\"2762\"},{\"id\":\"2797\"}],\"left\":[{\"id\":\"2760\"}],\"outline_line_color\":null,\"plot_height\":350,\"renderers\":[{\"id\":\"2787\"},{\"id\":\"2802\"},{\"id\":\"2816\"},{\"id\":\"2837\"},{\"id\":\"2853\"},{\"id\":\"2869\"}],\"title\":{\"id\":\"2746\"},\"toolbar\":{\"id\":\"2770\"},\"x_range\":{\"id\":\"2748\"},\"x_scale\":{\"id\":\"2752\"},\"y_range\":{\"id\":\"2750\"},\"y_scale\":{\"id\":\"2754\"}},\"id\":\"2745\",\"subtype\":\"Figure\",\"type\":\"Plot\"},{\"attributes\":{},\"id\":\"2847\",\"type\":\"UnionRenderers\"},{\"attributes\":{\"data_source\":{\"id\":\"2777\"},\"glyph\":{\"id\":\"2785\"},\"hover_glyph\":null,\"muted_glyph\":null,\"name\":\"2015\",\"nonselection_glyph\":{\"id\":\"2786\"},\"selection_glyph\":null,\"view\":{\"id\":\"2788\"}},\"id\":\"2787\",\"type\":\"GlyphRenderer\"},{\"attributes\":{},\"id\":\"2763\",\"type\":\"PanTool\"},{\"attributes\":{},\"id\":\"2792\",\"type\":\"CategoricalTickFormatter\"},{\"attributes\":{\"items\":[{\"id\":\"2798\"},{\"id\":\"2812\"},{\"id\":\"2826\"},{\"id\":\"2849\"},{\"id\":\"2865\"},{\"id\":\"2881\"}],\"location\":\"top_left\"},\"id\":\"2797\",\"type\":\"Legend\"},{\"attributes\":{\"fill_alpha\":{\"value\":0.1},\"fill_color\":{\"value\":\"#a8ddb5\"},\"height\":{\"value\":0.9},\"left\":{\"expr\":{\"id\":\"2780\"}},\"line_alpha\":{\"value\":0.1},\"line_color\":{\"value\":\"#a8ddb5\"},\"right\":{\"expr\":{\"id\":\"2781\"}},\"y\":{\"field\":\"fruits\"}},\"id\":\"2801\",\"type\":\"HBar\"},{\"attributes\":{\"fill_alpha\":{\"value\":0.1},\"fill_color\":{\"value\":\"#fdbb84\"},\"height\":{\"value\":0.9},\"left\":{\"expr\":{\"id\":\"2830\"}},\"line_alpha\":{\"value\":0.1},\"line_color\":{\"value\":\"#fdbb84\"},\"right\":{\"expr\":{\"id\":\"2831\"}},\"y\":{\"field\":\"fruits\"}},\"id\":\"2852\",\"type\":\"HBar\"},{\"attributes\":{\"axis\":{\"id\":\"2756\"},\"ticker\":null},\"id\":\"2759\",\"type\":\"Grid\"},{\"attributes\":{\"source\":{\"id\":\"2777\"}},\"id\":\"2817\",\"type\":\"CDSView\"},{\"attributes\":{},\"id\":\"2761\",\"type\":\"CategoricalTicker\"},{\"attributes\":{\"bottom_units\":\"screen\",\"fill_alpha\":0.5,\"fill_color\":\"lightgrey\",\"left_units\":\"screen\",\"level\":\"overlay\",\"line_alpha\":1.0,\"line_color\":\"black\",\"line_dash\":[4,4],\"line_width\":2,\"right_units\":\"screen\",\"top_units\":\"screen\"},\"id\":\"2769\",\"type\":\"BoxAnnotation\"},{\"attributes\":{\"overlay\":{\"id\":\"2769\"}},\"id\":\"2765\",\"type\":\"BoxZoomTool\"},{\"attributes\":{\"label\":{\"value\":\"2015 exports\"},\"renderers\":[{\"id\":\"2787\"}]},\"id\":\"2798\",\"type\":\"LegendItem\"},{\"attributes\":{\"source\":{\"id\":\"2777\"}},\"id\":\"2803\",\"type\":\"CDSView\"},{\"attributes\":{\"fill_color\":{\"value\":\"#e0f3db\"},\"height\":{\"value\":0.9},\"left\":{\"expr\":{\"id\":\"2782\"}},\"line_color\":{\"value\":\"#e0f3db\"},\"right\":{\"expr\":{\"id\":\"2783\"}},\"y\":{\"field\":\"fruits\"}},\"id\":\"2814\",\"type\":\"HBar\"},{\"attributes\":{\"data_source\":{\"id\":\"2827\"},\"glyph\":{\"id\":\"2835\"},\"hover_glyph\":null,\"muted_glyph\":null,\"name\":\"2015\",\"nonselection_glyph\":{\"id\":\"2836\"},\"selection_glyph\":null,\"view\":{\"id\":\"2838\"}},\"id\":\"2837\",\"type\":\"GlyphRenderer\"},{\"attributes\":{},\"id\":\"2767\",\"type\":\"ResetTool\"},{\"attributes\":{},\"id\":\"2790\",\"type\":\"BasicTickFormatter\"},{\"attributes\":{\"source\":{\"id\":\"2827\"}},\"id\":\"2854\",\"type\":\"CDSView\"},{\"attributes\":{},\"id\":\"2766\",\"type\":\"SaveTool\"},{\"attributes\":{\"label\":{\"value\":\"2016 imports\"},\"renderers\":[{\"id\":\"2853\"}]},\"id\":\"2865\",\"type\":\"LegendItem\"},{\"attributes\":{\"data_source\":{\"id\":\"2777\"},\"glyph\":{\"id\":\"2800\"},\"hover_glyph\":null,\"muted_glyph\":null,\"name\":\"2016\",\"nonselection_glyph\":{\"id\":\"2801\"},\"selection_glyph\":null,\"view\":{\"id\":\"2803\"}},\"id\":\"2802\",\"type\":\"GlyphRenderer\"},{\"attributes\":{\"formatter\":{\"id\":\"2792\"},\"minor_tick_line_color\":null,\"ticker\":{\"id\":\"2761\"}},\"id\":\"2760\",\"type\":\"CategoricalAxis\"},{\"attributes\":{},\"id\":\"2764\",\"type\":\"WheelZoomTool\"},{\"attributes\":{\"fields\":[\"2015\"]},\"id\":\"2779\",\"type\":\"Stack\"},{\"attributes\":{\"end\":16,\"start\":-16},\"id\":\"2748\",\"type\":\"Range1d\"},{\"attributes\":{},\"id\":\"2796\",\"type\":\"Selection\"},{\"attributes\":{\"fields\":[\"2015\"]},\"id\":\"2830\",\"type\":\"Stack\"},{\"attributes\":{},\"id\":\"2754\",\"type\":\"CategoricalScale\"},{\"attributes\":{\"source\":{\"id\":\"2777\"}},\"id\":\"2788\",\"type\":\"CDSView\"},{\"attributes\":{\"fields\":[\"2015\",\"2016\"]},\"id\":\"2832\",\"type\":\"Stack\"},{\"attributes\":{},\"id\":\"2795\",\"type\":\"UnionRenderers\"},{\"attributes\":{\"fields\":[\"2015\",\"2016\",\"2017\"]},\"id\":\"2783\",\"type\":\"Stack\"},{\"attributes\":{\"fields\":[\"2015\",\"2016\",\"2017\"]},\"id\":\"2833\",\"type\":\"Stack\"},{\"attributes\":{\"fields\":[\"2015\",\"2016\"]},\"id\":\"2831\",\"type\":\"Stack\"},{\"attributes\":{\"factors\":[\"Apples\",\"Pears\",\"Nectarines\",\"Plums\",\"Grapes\",\"Strawberries\"],\"range_padding\":0.2},\"id\":\"2750\",\"type\":\"FactorRange\"},{\"attributes\":{\"data_source\":{\"id\":\"2777\"},\"glyph\":{\"id\":\"2814\"},\"hover_glyph\":null,\"muted_glyph\":null,\"name\":\"2017\",\"nonselection_glyph\":{\"id\":\"2815\"},\"selection_glyph\":null,\"view\":{\"id\":\"2817\"}},\"id\":\"2816\",\"type\":\"GlyphRenderer\"},{\"attributes\":{\"data\":{\"2015\":[2,1,4,3,2,4],\"2016\":[5,3,4,2,4,6],\"2017\":[3,2,4,4,5,3],\"fruits\":[\"Apples\",\"Pears\",\"Nectarines\",\"Plums\",\"Grapes\",\"Strawberries\"]},\"selected\":{\"id\":\"2796\"},\"selection_policy\":{\"id\":\"2795\"}},\"id\":\"2777\",\"type\":\"ColumnDataSource\"},{\"attributes\":{\"fill_color\":{\"value\":\"#e34a33\"},\"height\":{\"value\":0.9},\"left\":{\"expr\":{\"id\":\"2828\"}},\"line_color\":{\"value\":\"#e34a33\"},\"right\":{\"expr\":{\"id\":\"2829\"}},\"y\":{\"field\":\"fruits\"}},\"id\":\"2835\",\"type\":\"HBar\"},{\"attributes\":{\"active_drag\":\"auto\",\"active_inspect\":\"auto\",\"active_multi\":null,\"active_scroll\":\"auto\",\"active_tap\":\"auto\",\"tools\":[{\"id\":\"2763\"},{\"id\":\"2764\"},{\"id\":\"2765\"},{\"id\":\"2766\"},{\"id\":\"2767\"},{\"id\":\"2768\"}]},\"id\":\"2770\",\"type\":\"Toolbar\"},{\"attributes\":{\"axis\":{\"id\":\"2760\"},\"dimension\":1,\"grid_line_color\":null,\"ticker\":null},\"id\":\"2762\",\"type\":\"Grid\"},{\"attributes\":{\"label\":{\"value\":\"2017 imports\"},\"renderers\":[{\"id\":\"2869\"}]},\"id\":\"2881\",\"type\":\"LegendItem\"},{\"attributes\":{\"fill_alpha\":{\"value\":0.1},\"fill_color\":{\"value\":\"#43a2ca\"},\"height\":{\"value\":0.9},\"left\":{\"expr\":{\"id\":\"2778\"}},\"line_alpha\":{\"value\":0.1},\"line_color\":{\"value\":\"#43a2ca\"},\"right\":{\"expr\":{\"id\":\"2779\"}},\"y\":{\"field\":\"fruits\"}},\"id\":\"2786\",\"type\":\"HBar\"},{\"attributes\":{},\"id\":\"2768\",\"type\":\"HelpTool\"},{\"attributes\":{\"source\":{\"id\":\"2827\"}},\"id\":\"2838\",\"type\":\"CDSView\"},{\"attributes\":{\"fill_alpha\":{\"value\":0.1},\"fill_color\":{\"value\":\"#fee8c8\"},\"height\":{\"value\":0.9},\"left\":{\"expr\":{\"id\":\"2832\"}},\"line_alpha\":{\"value\":0.1},\"line_color\":{\"value\":\"#fee8c8\"},\"right\":{\"expr\":{\"id\":\"2833\"}},\"y\":{\"field\":\"fruits\"}},\"id\":\"2868\",\"type\":\"HBar\"},{\"attributes\":{\"data_source\":{\"id\":\"2827\"},\"glyph\":{\"id\":\"2867\"},\"hover_glyph\":null,\"muted_glyph\":null,\"name\":\"2017\",\"nonselection_glyph\":{\"id\":\"2868\"},\"selection_glyph\":null,\"view\":{\"id\":\"2870\"}},\"id\":\"2869\",\"type\":\"GlyphRenderer\"},{\"attributes\":{},\"id\":\"2757\",\"type\":\"BasicTicker\"},{\"attributes\":{\"fields\":[]},\"id\":\"2778\",\"type\":\"Stack\"},{\"attributes\":{\"fields\":[\"2015\",\"2016\"]},\"id\":\"2782\",\"type\":\"Stack\"},{\"attributes\":{},\"id\":\"2752\",\"type\":\"LinearScale\"},{\"attributes\":{\"data_source\":{\"id\":\"2827\"},\"glyph\":{\"id\":\"2851\"},\"hover_glyph\":null,\"muted_glyph\":null,\"name\":\"2016\",\"nonselection_glyph\":{\"id\":\"2852\"},\"selection_glyph\":null,\"view\":{\"id\":\"2854\"}},\"id\":\"2853\",\"type\":\"GlyphRenderer\"},{\"attributes\":{\"label\":{\"value\":\"2016 exports\"},\"renderers\":[{\"id\":\"2802\"}]},\"id\":\"2812\",\"type\":\"LegendItem\"},{\"attributes\":{\"label\":{\"value\":\"2017 exports\"},\"renderers\":[{\"id\":\"2816\"}]},\"id\":\"2826\",\"type\":\"LegendItem\"},{\"attributes\":{\"fill_color\":{\"value\":\"#a8ddb5\"},\"height\":{\"value\":0.9},\"left\":{\"expr\":{\"id\":\"2780\"}},\"line_color\":{\"value\":\"#a8ddb5\"},\"right\":{\"expr\":{\"id\":\"2781\"}},\"y\":{\"field\":\"fruits\"}},\"id\":\"2800\",\"type\":\"HBar\"},{\"attributes\":{\"fill_alpha\":{\"value\":0.1},\"fill_color\":{\"value\":\"#e34a33\"},\"height\":{\"value\":0.9},\"left\":{\"expr\":{\"id\":\"2828\"}},\"line_alpha\":{\"value\":0.1},\"line_color\":{\"value\":\"#e34a33\"},\"right\":{\"expr\":{\"id\":\"2829\"}},\"y\":{\"field\":\"fruits\"}},\"id\":\"2836\",\"type\":\"HBar\"},{\"attributes\":{\"source\":{\"id\":\"2827\"}},\"id\":\"2870\",\"type\":\"CDSView\"},{\"attributes\":{\"fill_color\":{\"value\":\"#fee8c8\"},\"height\":{\"value\":0.9},\"left\":{\"expr\":{\"id\":\"2832\"}},\"line_color\":{\"value\":\"#fee8c8\"},\"right\":{\"expr\":{\"id\":\"2833\"}},\"y\":{\"field\":\"fruits\"}},\"id\":\"2867\",\"type\":\"HBar\"},{\"attributes\":{},\"id\":\"2848\",\"type\":\"Selection\"},{\"attributes\":{\"fields\":[\"2015\",\"2016\"]},\"id\":\"2781\",\"type\":\"Stack\"},{\"attributes\":{\"fields\":[\"2015\"]},\"id\":\"2829\",\"type\":\"Stack\"},{\"attributes\":{\"formatter\":{\"id\":\"2790\"},\"minor_tick_line_color\":null,\"ticker\":{\"id\":\"2757\"}},\"id\":\"2756\",\"type\":\"LinearAxis\"},{\"attributes\":{\"fill_alpha\":{\"value\":0.1},\"fill_color\":{\"value\":\"#e0f3db\"},\"height\":{\"value\":0.9},\"left\":{\"expr\":{\"id\":\"2782\"}},\"line_alpha\":{\"value\":0.1},\"line_color\":{\"value\":\"#e0f3db\"},\"right\":{\"expr\":{\"id\":\"2783\"}},\"y\":{\"field\":\"fruits\"}},\"id\":\"2815\",\"type\":\"HBar\"},{\"attributes\":{\"fill_color\":{\"value\":\"#fdbb84\"},\"height\":{\"value\":0.9},\"left\":{\"expr\":{\"id\":\"2830\"}},\"line_color\":{\"value\":\"#fdbb84\"},\"right\":{\"expr\":{\"id\":\"2831\"}},\"y\":{\"field\":\"fruits\"}},\"id\":\"2851\",\"type\":\"HBar\"},{\"attributes\":{\"text\":\"Fruit import/export by year\"},\"id\":\"2746\",\"type\":\"Title\"},{\"attributes\":{\"label\":{\"value\":\"2015 imports\"},\"renderers\":[{\"id\":\"2837\"}]},\"id\":\"2849\",\"type\":\"LegendItem\"},{\"attributes\":{\"data\":{\"2015\":[-1,0,-1,-3,-2,-1],\"2016\":[-2,-1,-3,-1,-2,-2],\"2017\":[-1,-2,-1,0,-2,-2],\"fruits\":[\"Apples\",\"Pears\",\"Nectarines\",\"Plums\",\"Grapes\",\"Strawberries\"]},\"selected\":{\"id\":\"2848\"},\"selection_policy\":{\"id\":\"2847\"}},\"id\":\"2827\",\"type\":\"ColumnDataSource\"},{\"attributes\":{\"fields\":[\"2015\"]},\"id\":\"2780\",\"type\":\"Stack\"},{\"attributes\":{\"fields\":[]},\"id\":\"2828\",\"type\":\"Stack\"},{\"attributes\":{\"fill_color\":{\"value\":\"#43a2ca\"},\"height\":{\"value\":0.9},\"left\":{\"expr\":{\"id\":\"2778\"}},\"line_color\":{\"value\":\"#43a2ca\"},\"right\":{\"expr\":{\"id\":\"2779\"}},\"y\":{\"field\":\"fruits\"}},\"id\":\"2785\",\"type\":\"HBar\"}],\"root_ids\":[\"2745\"]},\"title\":\"Bokeh Application\",\"version\":\"2.2.1\"}};\n",
       "  var render_items = [{\"docid\":\"9c1a3c56-cbd4-41b9-9ae0-e6b9c614874c\",\"root_ids\":[\"2745\"],\"roots\":{\"2745\":\"a6698519-46ea-41b6-bae0-0035906c82b7\"}}];\n",
       "  root.Bokeh.embed.embed_items_notebook(docs_json, render_items);\n",
       "\n",
       "  }\n",
       "  if (root.Bokeh !== undefined) {\n",
       "    embed_document(root);\n",
       "  } else {\n",
       "    var attempts = 0;\n",
       "    var timer = setInterval(function(root) {\n",
       "      if (root.Bokeh !== undefined) {\n",
       "        clearInterval(timer);\n",
       "        embed_document(root);\n",
       "      } else {\n",
       "        attempts++;\n",
       "        if (attempts > 100) {\n",
       "          clearInterval(timer);\n",
       "          console.log(\"Bokeh: ERROR: Unable to run BokehJS code because BokehJS library is missing\");\n",
       "        }\n",
       "      }\n",
       "    }, 10, root)\n",
       "  }\n",
       "})(window);"
      ],
      "application/vnd.bokehjs_exec.v0+json": ""
     },
     "metadata": {
      "application/vnd.bokehjs_exec.v0+json": {
       "id": "2745"
      }
     },
     "output_type": "display_data"
    }
   ],
   "source": [
    "p = figure(y_range=fruits,\n",
    "           plot_height=350,\n",
    "           x_range=(-16, 16),\n",
    "           title=\"Fruit import/export by year\")\n",
    "p.hbar_stack(years,\n",
    "             y='fruits',\n",
    "             height=0.9,\n",
    "             color=GnBu3,\n",
    "             source=ColumnDataSource(exports),\n",
    "             legend=['%s exports' % x for x in years])\n",
    "p.hbar_stack(years,\n",
    "             y='fruits',\n",
    "             height=0.9,\n",
    "             color=OrRd3,\n",
    "             source=ColumnDataSource(imports),\n",
    "             legend=['%s imports' % x for x in years])\n",
    "\n",
    "p.y_range.range_padding = 0.2\n",
    "p.ygrid.grid_line_color = None\n",
    "p.legend.location = 'top_left'\n",
    "p.axis.minor_tick_line_color = None\n",
    "p.outline_line_color = None\n",
    "\n",
    "show(p)"
   ]
  },
  {
   "cell_type": "code",
   "execution_count": 30,
   "metadata": {},
   "outputs": [
    {
     "name": "stdout",
     "output_type": "stream",
     "text": [
      "            value\n",
      "index            \n",
      "0       52.025320\n",
      "1       73.254116\n",
      "2     -163.894636\n",
      "3      -32.371624\n",
      "4     -221.948255\n"
     ]
    }
   ],
   "source": [
    "# 4、直方图\n",
    "# np.histogram + figure.quad()\n",
    "# 不需要构建ColumnDataSource对象\n",
    "\n",
    "df = pd.DataFrame({'value': np.random.randn(1000) * 100})\n",
    "df.index.name = 'index'\n",
    "print(df.head())\n",
    "# 创建数据"
   ]
  },
  {
   "cell_type": "code",
   "execution_count": 31,
   "metadata": {},
   "outputs": [
    {
     "name": "stdout",
     "output_type": "stream",
     "text": [
      "[  2   4   6  15  30  35  75 103 126 130 112 106  91  71  46  24  17   4\n",
      "   2   1]\n",
      "[-331.326784   -298.25674383 -265.18670366 -232.11666349 -199.04662332\n",
      " -165.97658314 -132.90654297  -99.8365028   -66.76646263  -33.69642246\n",
      "   -0.62638229   32.44365788   65.51369806   98.58373823  131.6537784\n",
      "  164.72381857  197.79385874  230.86389891  263.93393908  297.00397926\n",
      "  330.07401943]\n"
     ]
    }
   ],
   "source": [
    "hist, edges = np.histogram(df['value'], bins=20)\n",
    "# 将数据解析成直方图统计格式\n",
    "# 高阶函数np.histogram(a, bins=10, range=None, weights=None, density=None)\n",
    "# a：数据\n",
    "# bins：箱数\n",
    "# range：最大最小值的范围，如果不设定则为(a.min(), a.max())\n",
    "# weights：权重\n",
    "# density：为True则返回“频率”，为False则返回“计数”\n",
    "# 返回值1 - hist：每个箱子的统计值（top）\n",
    "# 返回值2 - edges：每个箱子的位置坐标，这里n个bins将会有n+1个edges\n",
    "print(hist)\n",
    "print(edges)"
   ]
  },
  {
   "cell_type": "code",
   "execution_count": 32,
   "metadata": {},
   "outputs": [
    {
     "data": {
      "text/html": [
       "\n",
       "\n",
       "\n",
       "\n",
       "\n",
       "\n",
       "  <div class=\"bk-root\" id=\"060d19ec-3e02-413c-84d3-15675b3fbb41\" data-root-id=\"3037\"></div>\n"
      ]
     },
     "metadata": {},
     "output_type": "display_data"
    },
    {
     "data": {
      "application/javascript": [
       "(function(root) {\n",
       "  function embed_document(root) {\n",
       "    \n",
       "  var docs_json = {\"5b418d20-fd38-4011-aaa2-e91470066013\":{\"roots\":{\"references\":[{\"attributes\":{\"background_fill_color\":\"#E8DDCB\",\"below\":[{\"id\":\"3048\"}],\"center\":[{\"id\":\"3051\"},{\"id\":\"3055\"}],\"left\":[{\"id\":\"3052\"}],\"renderers\":[{\"id\":\"3062\"}],\"title\":{\"id\":\"3038\"},\"toolbar\":{\"id\":\"3057\"},\"x_range\":{\"id\":\"3040\"},\"x_scale\":{\"id\":\"3044\"},\"y_range\":{\"id\":\"3042\"},\"y_scale\":{\"id\":\"3046\"}},\"id\":\"3037\",\"subtype\":\"Figure\",\"type\":\"Plot\"},{\"attributes\":{},\"id\":\"3172\",\"type\":\"BasicTickFormatter\"},{\"attributes\":{},\"id\":\"3042\",\"type\":\"DataRange1d\"},{\"attributes\":{},\"id\":\"3040\",\"type\":\"DataRange1d\"},{\"attributes\":{\"active_drag\":\"auto\",\"active_inspect\":\"auto\",\"active_multi\":null,\"active_scroll\":\"auto\",\"active_tap\":\"auto\",\"tools\":[{\"id\":\"3056\"}]},\"id\":\"3057\",\"type\":\"Toolbar\"},{\"attributes\":{},\"id\":\"3046\",\"type\":\"LinearScale\"},{\"attributes\":{},\"id\":\"3049\",\"type\":\"BasicTicker\"},{\"attributes\":{},\"id\":\"3170\",\"type\":\"BasicTickFormatter\"},{\"attributes\":{\"formatter\":{\"id\":\"3170\"},\"ticker\":{\"id\":\"3049\"}},\"id\":\"3048\",\"type\":\"LinearAxis\"},{\"attributes\":{},\"id\":\"3053\",\"type\":\"BasicTicker\"},{\"attributes\":{\"axis\":{\"id\":\"3048\"},\"ticker\":null},\"id\":\"3051\",\"type\":\"Grid\"},{\"attributes\":{\"formatter\":{\"id\":\"3172\"},\"ticker\":{\"id\":\"3053\"}},\"id\":\"3052\",\"type\":\"LinearAxis\"},{\"attributes\":{\"bottom\":{\"value\":0},\"fill_color\":{\"value\":\"#036564\"},\"left\":{\"field\":\"left\"},\"line_color\":{\"value\":\"#033649\"},\"right\":{\"field\":\"right\"},\"top\":{\"field\":\"top\"}},\"id\":\"3060\",\"type\":\"Quad\"},{\"attributes\":{},\"id\":\"3056\",\"type\":\"SaveTool\"},{\"attributes\":{\"bottom\":{\"value\":0},\"fill_alpha\":{\"value\":0.1},\"fill_color\":{\"value\":\"#036564\"},\"left\":{\"field\":\"left\"},\"line_alpha\":{\"value\":0.1},\"line_color\":{\"value\":\"#033649\"},\"right\":{\"field\":\"right\"},\"top\":{\"field\":\"top\"}},\"id\":\"3061\",\"type\":\"Quad\"},{\"attributes\":{\"data_source\":{\"id\":\"3059\"},\"glyph\":{\"id\":\"3060\"},\"hover_glyph\":null,\"muted_glyph\":null,\"nonselection_glyph\":{\"id\":\"3061\"},\"selection_glyph\":null,\"view\":{\"id\":\"3063\"}},\"id\":\"3062\",\"type\":\"GlyphRenderer\"},{\"attributes\":{\"axis\":{\"id\":\"3052\"},\"dimension\":1,\"ticker\":null},\"id\":\"3055\",\"type\":\"Grid\"},{\"attributes\":{\"source\":{\"id\":\"3059\"}},\"id\":\"3063\",\"type\":\"CDSView\"},{\"attributes\":{},\"id\":\"3174\",\"type\":\"UnionRenderers\"},{\"attributes\":{\"data\":{\"left\":{\"__ndarray__\":\"OqncgTq1dMBSSGufG6RywGvn+bz8knDABg0RtbsDbcA3Sy7wfeFowGiJSytAv2TAmMdoZgKdYMCSCwxDifVYwPSHRrkNsVDAqAgCXyTZQMAAXMDdUgvkv9AFFMjJOEBAiIbPbeBgUEAkCpX3W6VYQOJGrcDrdGBAsAiQhSmXZECAynJKZ7loQFCMVQ+l22xAECccavF+cED2h41MEJByQA==\",\"dtype\":\"float64\",\"order\":\"little\",\"shape\":[20]},\"right\":{\"__ndarray__\":\"UkhrnxukcsBr5/m8/JJwwAYNEbW7A23AN0su8H3haMBoiUsrQL9kwJjHaGYCnWDAkgsMQ4n1WMD0h0a5DbFQwKgIAl8k2UDAAFzA3VIL5L/QBRTIyThAQIiGz23gYFBAJAqV91ulWEDiRq3A63RgQLAIkIUpl2RAgMpySme5aEBQjFUPpdtsQBAnHGrxfnBA9oeNTBCQckDe6P4uL6F0QA==\",\"dtype\":\"float64\",\"order\":\"little\",\"shape\":[20]},\"top\":[2,4,6,15,30,35,75,103,126,130,112,106,91,71,46,24,17,4,2,1]},\"selected\":{\"id\":\"3175\"},\"selection_policy\":{\"id\":\"3174\"}},\"id\":\"3059\",\"type\":\"ColumnDataSource\"},{\"attributes\":{},\"id\":\"3175\",\"type\":\"Selection\"},{\"attributes\":{\"text\":\"HIST\"},\"id\":\"3038\",\"type\":\"Title\"},{\"attributes\":{},\"id\":\"3044\",\"type\":\"LinearScale\"}],\"root_ids\":[\"3037\"]},\"title\":\"Bokeh Application\",\"version\":\"2.2.1\"}};\n",
       "  var render_items = [{\"docid\":\"5b418d20-fd38-4011-aaa2-e91470066013\",\"root_ids\":[\"3037\"],\"roots\":{\"3037\":\"060d19ec-3e02-413c-84d3-15675b3fbb41\"}}];\n",
       "  root.Bokeh.embed.embed_items_notebook(docs_json, render_items);\n",
       "\n",
       "  }\n",
       "  if (root.Bokeh !== undefined) {\n",
       "    embed_document(root);\n",
       "  } else {\n",
       "    var attempts = 0;\n",
       "    var timer = setInterval(function(root) {\n",
       "      if (root.Bokeh !== undefined) {\n",
       "        clearInterval(timer);\n",
       "        embed_document(root);\n",
       "      } else {\n",
       "        attempts++;\n",
       "        if (attempts > 100) {\n",
       "          clearInterval(timer);\n",
       "          console.log(\"Bokeh: ERROR: Unable to run BokehJS code because BokehJS library is missing\");\n",
       "        }\n",
       "      }\n",
       "    }, 10, root)\n",
       "  }\n",
       "})(window);"
      ],
      "application/vnd.bokehjs_exec.v0+json": ""
     },
     "metadata": {
      "application/vnd.bokehjs_exec.v0+json": {
       "id": "3037"
      }
     },
     "output_type": "display_data"
    }
   ],
   "source": [
    "p = figure(title='HIST', tools='save', background_fill_color='#E8DDCB')\n",
    "p.quad(\n",
    "    top=hist,\n",
    "    bottom=0,\n",
    "    left=edges[:-1],\n",
    "    right=edges[1:],  # 分别代表每个柱子的四边值\n",
    "    fill_color='#036564',\n",
    "    line_color='#033649')\n",
    "show(p)"
   ]
  },
  {
   "cell_type": "code",
   "execution_count": null,
   "metadata": {},
   "outputs": [],
   "source": []
  }
 ],
 "metadata": {
  "kernelspec": {
   "display_name": "Python 3",
   "language": "python",
   "name": "python3"
  },
  "language_info": {
   "codemirror_mode": {
    "name": "ipython",
    "version": 3
   },
   "file_extension": ".py",
   "mimetype": "text/x-python",
   "name": "python",
   "nbconvert_exporter": "python",
   "pygments_lexer": "ipython3",
   "version": "3.7.9"
  },
  "toc-showcode": false
 },
 "nbformat": 4,
 "nbformat_minor": 4
}
