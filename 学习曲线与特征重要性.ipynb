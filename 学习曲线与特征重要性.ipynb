{
 "cells": [
  {
   "cell_type": "code",
   "execution_count": 4,
   "metadata": {},
   "outputs": [
    {
     "name": "stderr",
     "output_type": "stream",
     "text": [
      "D:\\Programing\\Anaconda3\\lib\\importlib\\_bootstrap.py:219: RuntimeWarning: numpy.ufunc size changed, may indicate binary incompatibility. Expected 192 from C header, got 216 from PyObject\n",
      "  return f(*args, **kwds)\n"
     ]
    }
   ],
   "source": [
    "import numpy as np\n",
    "import matplotlib.pyplot as plt\n",
    "from sklearn.model_selection import validation_curve, learning_curve\n",
    "from sklearn.datasets import load_digits\n",
    "from sklearn.linear_model import SGDClassifier"
   ]
  },
  {
   "cell_type": "code",
   "execution_count": 2,
   "metadata": {},
   "outputs": [],
   "source": [
    "digits = load_digits()\n",
    "X, y = digits.data, digits.target\n",
    "model = SGDClassifier(loss='log',\n",
    "                      shuffle=True,\n",
    "                      n_jobs=-1,\n",
    "                      penalty='l2',\n",
    "                      alpha=0.0001,\n",
    "                      random_state=3)"
   ]
  },
  {
   "cell_type": "markdown",
   "metadata": {},
   "source": [
    "## 学习曲线-不同训练样本大小"
   ]
  },
  {
   "cell_type": "code",
   "execution_count": 8,
   "metadata": {},
   "outputs": [],
   "source": [
    "train_size, train_scores, test_scores = learning_curve(\n",
    "    model,\n",
    "    X,\n",
    "    y,\n",
    "    train_sizes=np.linspace(0.1, 1.0, 10),  # 训练集切分比例\n",
    "    cv=10,\n",
    "    scoring='accuracy',\n",
    "    exploit_incremental_learning=False,\n",
    "    n_jobs=-1)"
   ]
  },
  {
   "cell_type": "code",
   "execution_count": 9,
   "metadata": {},
   "outputs": [
    {
     "data": {
      "text/plain": [
       "array([ 161,  323,  485,  646,  808,  970, 1131, 1293, 1455, 1617])"
      ]
     },
     "execution_count": 9,
     "metadata": {},
     "output_type": "execute_result"
    }
   ],
   "source": [
    "train_size"
   ]
  },
  {
   "cell_type": "code",
   "execution_count": 10,
   "metadata": {},
   "outputs": [
    {
     "data": {
      "text/plain": [
       "array([[1.        , 1.        , 1.        , 1.        , 1.        ,\n",
       "        1.        , 1.        , 1.        , 1.        , 1.        ],\n",
       "       [0.99690402, 0.99380805, 0.99071207, 0.99071207, 0.99071207,\n",
       "        0.99071207, 0.99071207, 0.99071207, 0.99071207, 0.99071207],\n",
       "       [0.99587629, 0.99175258, 0.99381443, 0.99793814, 0.99793814,\n",
       "        0.99793814, 0.99793814, 0.99793814, 0.99793814, 0.99793814],\n",
       "       [0.99071207, 0.99071207, 0.99690402, 0.97368421, 0.99845201,\n",
       "        0.99845201, 0.99845201, 0.99845201, 0.99845201, 0.99845201],\n",
       "       [0.98886139, 0.98391089, 0.98267327, 0.96287129, 0.98267327,\n",
       "        0.98638614, 0.98638614, 0.98638614, 0.98638614, 0.98638614],\n",
       "       [0.99484536, 0.98350515, 0.98969072, 0.9814433 , 0.98556701,\n",
       "        0.98556701, 0.99690722, 0.99690722, 0.99690722, 0.99690722],\n",
       "       [0.97082228, 0.99115827, 0.98938992, 0.98054819, 0.9867374 ,\n",
       "        0.98408488, 0.98143236, 0.98850575, 0.98850575, 0.98850575],\n",
       "       [0.97525135, 0.99149265, 0.98839907, 0.97911833, 0.98762568,\n",
       "        0.96983759, 0.98607889, 0.98530549, 0.9837587 , 0.9837587 ],\n",
       "       [0.97457045, 0.97044674, 0.97182131, 0.97457045, 0.97525773,\n",
       "        0.95876289, 0.97938144, 0.95945017, 0.98762887, 0.9862543 ],\n",
       "       [0.97155226, 0.97278912, 0.97526283, 0.98330241, 0.98392084,\n",
       "        0.9703154 , 0.97217069, 0.98268398, 0.98701299, 0.96165739]])"
      ]
     },
     "execution_count": 10,
     "metadata": {},
     "output_type": "execute_result"
    }
   ],
   "source": [
    "train_scores"
   ]
  },
  {
   "cell_type": "code",
   "execution_count": 22,
   "metadata": {},
   "outputs": [
    {
     "data": {
      "text/plain": [
       "(10, 10)"
      ]
     },
     "execution_count": 22,
     "metadata": {},
     "output_type": "execute_result"
    }
   ],
   "source": [
    "test_scores.shape"
   ]
  },
  {
   "cell_type": "code",
   "execution_count": 12,
   "metadata": {},
   "outputs": [],
   "source": [
    "mean_train = np.mean(train_scores, axis=1)\n",
    "upper_train = np.clip(mean_train + np.std(train_scores, axis=1), 0, 1)  # 范围取值\n",
    "lower_train = np.clip(mean_train - np.std(train_scores, axis=1), 0, 1)"
   ]
  },
  {
   "cell_type": "code",
   "execution_count": 13,
   "metadata": {},
   "outputs": [
    {
     "data": {
      "text/plain": [
       "array([1.        , 0.99164087, 0.99670103, 0.99427245, 0.98329208,\n",
       "       0.99082474, 0.98496905, 0.98306265, 0.97381443, 0.97606679])"
      ]
     },
     "execution_count": 13,
     "metadata": {},
     "output_type": "execute_result"
    }
   ],
   "source": [
    "mean_train"
   ]
  },
  {
   "cell_type": "code",
   "execution_count": 14,
   "metadata": {},
   "outputs": [],
   "source": [
    "mean_test = np.mean(test_scores, axis=1)\n",
    "upper_test = np.clip(mean_test + np.std(test_scores, axis=1), 0, 1)  # 范围取值\n",
    "lower_test = np.clip(mean_test - np.std(test_scores, axis=1), 0, 1)"
   ]
  },
  {
   "cell_type": "code",
   "execution_count": 15,
   "metadata": {},
   "outputs": [
    {
     "data": {
      "text/plain": [
       "array([0.8102576 , 0.84361577, 0.89760397, 0.90874302, 0.90703911,\n",
       "       0.91369646, 0.91482309, 0.92261639, 0.91930478, 0.91873371])"
      ]
     },
     "execution_count": 15,
     "metadata": {},
     "output_type": "execute_result"
    }
   ],
   "source": [
    "mean_test"
   ]
  },
  {
   "cell_type": "code",
   "execution_count": 21,
   "metadata": {},
   "outputs": [
    {
     "data": {
      "image/png": "[encoded data removed]",
      "text/plain": [
       "<Figure size 432x288 with 1 Axes>"
      ]
     },
     "metadata": {
      "needs_background": "light"
     },
     "output_type": "display_data"
    }
   ],
   "source": [
    "plt.plot(train_size, mean_train, 'ro-', label='training')\n",
    "plt.fill_between(train_size, upper_train, lower_train, alpha=0.2, color='r')\n",
    "plt.plot(train_size, mean_test, 'bo-', label='cross-validation')\n",
    "plt.fill_between(train_size, upper_test, lower_test, alpha=0.2, color='b')\n",
    "plt.grid()\n",
    "plt.xlabel('sample size')\n",
    "plt.ylabel('accuracy')\n",
    "plt.legend()\n",
    "plt.show()"
   ]
  },
  {
   "cell_type": "markdown",
   "metadata": {},
   "source": [
    "## 验证曲线-不同模型参数"
   ]
  },
  {
   "cell_type": "code",
   "execution_count": 23,
   "metadata": {},
   "outputs": [
    {
     "data": {
      "text/plain": [
       "array([1.e-05, 1.e-04, 1.e-03, 1.e-02, 1.e-01, 1.e+00, 1.e+01, 1.e+02])"
      ]
     },
     "execution_count": 23,
     "metadata": {},
     "output_type": "execute_result"
    }
   ],
   "source": [
    "testing_range = np.logspace(-5, 2, 8)\n",
    "testing_range"
   ]
  },
  {
   "cell_type": "code",
   "execution_count": 24,
   "metadata": {},
   "outputs": [],
   "source": [
    "train_scores, test_scores = validation_curve(model,\n",
    "                                             X,\n",
    "                                             y,\n",
    "                                             param_name='alpha',\n",
    "                                             param_range=testing_range,\n",
    "                                             cv=10,\n",
    "                                             scoring='accuracy',\n",
    "                                             n_jobs=-1)"
   ]
  },
  {
   "cell_type": "code",
   "execution_count": 25,
   "metadata": {},
   "outputs": [],
   "source": [
    "mean_train = np.mean(train_scores, axis=1)\n",
    "upper_train = np.clip(mean_train + np.std(train_scores, axis=1), 0, 1)  # 范围取值\n",
    "lower_train = np.clip(mean_train - np.std(train_scores, axis=1), 0, 1)\n",
    "\n",
    "mean_test = np.mean(test_scores, axis=1)\n",
    "upper_test = np.clip(mean_test + np.std(test_scores, axis=1), 0, 1)  # 范围取值\n",
    "lower_test = np.clip(mean_test - np.std(test_scores, axis=1), 0, 1)"
   ]
  },
  {
   "cell_type": "code",
   "execution_count": 27,
   "metadata": {},
   "outputs": [
    {
     "data": {
      "image/png": "[encoded data removed]",
      "text/plain": [
       "<Figure size 432x288 with 1 Axes>"
      ]
     },
     "metadata": {
      "needs_background": "light"
     },
     "output_type": "display_data"
    }
   ],
   "source": [
    "plt.semilogx(testing_range, mean_train, 'ro-', label='training')\n",
    "plt.fill_between(testing_range, upper_train, lower_train, alpha=0.2, color='r')\n",
    "plt.semilogx(testing_range, mean_test, 'bo-', label='cross-validation')\n",
    "plt.fill_between(testing_range, upper_test, lower_test, alpha=0.2, color='b')\n",
    "plt.grid()\n",
    "plt.xlabel('alpha parameter')\n",
    "plt.ylabel('accuracy')\n",
    "plt.legend()\n",
    "plt.show()"
   ]
  },
  {
   "cell_type": "markdown",
   "metadata": {
    "pycharm": {
     "name": "#%% md\n"
    }
   },
   "source": [
    "## 特征重要性"
   ]
  },
  {
   "cell_type": "code",
   "execution_count": 9,
   "metadata": {},
   "outputs": [
    {
     "data": {
      "text/plain": "RandomForestRegressor(random_state=101)"
     },
     "execution_count": 9,
     "metadata": {},
     "output_type": "execute_result"
    }
   ],
   "source": [
    "from sklearn.datasets import load_boston\n",
    "from sklearn.ensemble import RandomForestRegressor\n",
    "\n",
    "boston=load_boston()\n",
    "X, y=boston.data, boston.target\n",
    "features_names=np.array([' '.join([str(index), name]) for name, index\n",
    "                         in zip(boston.feature_names, range(len(boston.feature_names)))])\n",
    "rfr=RandomForestRegressor(n_estimators=100, random_state=101)\n",
    "rfr.fit(X, y)"
   ]
  },
  {
   "cell_type": "code",
   "execution_count": 10,
   "metadata": {},
   "outputs": [],
   "source": [
    "importance=np.mean([tree.feature_importances_ for tree in rfr.estimators_], axis=0)\n",
    "std=np.std([tree.feature_importances_ for tree in rfr.estimators_], axis=0)\n",
    "indices=np.argsort(importance)  # 值按小到大排序，取其索引\n",
    "range_=range(len(importance))"
   ]
  },
  {
   "cell_type": "code",
   "execution_count": 11,
   "outputs": [
    {
     "data": {
      "text/plain": "array([ 3,  1,  8,  2, 11,  6,  9, 10,  4,  0,  7, 12,  5], dtype=int64)"
     },
     "execution_count": 11,
     "metadata": {},
     "output_type": "execute_result"
    }
   ],
   "source": [
    "indices"
   ],
   "metadata": {
    "collapsed": false,
    "pycharm": {
     "name": "#%%\n"
    }
   }
  },
  {
   "cell_type": "code",
   "execution_count": 12,
   "outputs": [
    {
     "data": {
      "text/plain": "array([0.03884445, 0.00114267, 0.00563308, 0.00064189, 0.02294134,\n       0.40491908, 0.01325143, 0.0630917 , 0.00338748, 0.01332045,\n       0.01829177, 0.01194081, 0.40259385])"
     },
     "execution_count": 12,
     "metadata": {},
     "output_type": "execute_result"
    }
   ],
   "source": [
    "importance"
   ],
   "metadata": {
    "collapsed": false,
    "pycharm": {
     "name": "#%%\n"
    }
   }
  },
  {
   "cell_type": "code",
   "execution_count": 13,
   "outputs": [
    {
     "data": {
      "text/plain": "<Figure size 432x288 with 1 Axes>",
      "image/png": "[encoded data removed]"
     },
     "metadata": {
      "needs_background": "light"
     },
     "output_type": "display_data"
    }
   ],
   "source": [
    "plt.figure()\n",
    "plt.title('random forest importance')\n",
    "plt.barh(range_, importance[indices], color='r', xerr=std[indices], alpha=0.6, align='center')\n",
    "plt.yticks(range_, features_names[indices])\n",
    "plt.ylim([-1, len(importance)])\n",
    "plt.xlim([0.0, 0.65])\n",
    "plt.show()"
   ],
   "metadata": {
    "collapsed": false,
    "pycharm": {
     "name": "#%%\n"
    }
   }
  },
  {
   "cell_type": "code",
   "execution_count": null,
   "outputs": [],
   "source": [],
   "metadata": {
    "collapsed": false,
    "pycharm": {
     "name": "#%%\n"
    }
   }
  }
 ],
 "metadata": {
  "kernelspec": {
   "display_name": "Python 3",
   "language": "python",
   "name": "python3"
  },
  "language_info": {
   "codemirror_mode": {
    "name": "ipython",
    "version": 3
   },
   "file_extension": ".py",
   "mimetype": "text/x-python",
   "name": "python",
   "nbconvert_exporter": "python",
   "pygments_lexer": "ipython3",
   "version": "3.7.9"
  }
 },
 "nbformat": 4,
 "nbformat_minor": 4
}