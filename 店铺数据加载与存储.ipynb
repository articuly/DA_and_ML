{
 "cells": [
  {
   "cell_type": "code",
   "execution_count": 1,
   "metadata": {},
   "outputs": [],
   "source": [
    "import numpy as np\n",
    "import pandas as pd\n",
    "import matplotlib.pyplot as plt\n",
    "import warnings \n",
    "warnings.filterwarnings('ignore')"
   ]
  },
  {
   "cell_type": "code",
   "execution_count": 2,
   "metadata": {},
   "outputs": [],
   "source": [
    "df=pd.read_csv('data_set/商铺数据.csv')"
   ]
  },
  {
   "cell_type": "code",
   "execution_count": 3,
   "metadata": {},
   "outputs": [
    {
     "data": {
      "text/html": [
       "<div>\n",
       "<style scoped>\n",
       "    .dataframe tbody tr th:only-of-type {\n",
       "        vertical-align: middle;\n",
       "    }\n",
       "\n",
       "    .dataframe tbody tr th {\n",
       "        vertical-align: top;\n",
       "    }\n",
       "\n",
       "    .dataframe thead th {\n",
       "        text-align: right;\n",
       "    }\n",
       "</style>\n",
       "<table border=\"1\" class=\"dataframe\">\n",
       "  <thead>\n",
       "    <tr style=\"text-align: right;\">\n",
       "      <th></th>\n",
       "      <th>classify</th>\n",
       "      <th>name</th>\n",
       "      <th>comment</th>\n",
       "      <th>star</th>\n",
       "      <th>price</th>\n",
       "      <th>address</th>\n",
       "      <th>commentlist</th>\n",
       "    </tr>\n",
       "  </thead>\n",
       "  <tbody>\n",
       "    <tr>\n",
       "      <th>0</th>\n",
       "      <td>美食</td>\n",
       "      <td>望蓉城老坛酸菜鱼(合生汇店)</td>\n",
       "      <td>我要点评</td>\n",
       "      <td>该商户暂无星级</td>\n",
       "      <td>人均                                        ￥125</td>\n",
       "      <td>翔殷路1099号合生汇5F</td>\n",
       "      <td>口味8.3                                环境8.4    ...</td>\n",
       "    </tr>\n",
       "    <tr>\n",
       "      <th>1</th>\n",
       "      <td>美食</td>\n",
       "      <td>泰国街边料理</td>\n",
       "      <td>74                    条点评</td>\n",
       "      <td>准四星商户</td>\n",
       "      <td>人均                                        ￥48</td>\n",
       "      <td>黄兴路合生汇B2美食集市内</td>\n",
       "      <td>口味7.4                                环境7.6    ...</td>\n",
       "    </tr>\n",
       "    <tr>\n",
       "      <th>2</th>\n",
       "      <td>美食</td>\n",
       "      <td>壹面如故(苏宁生活广场店)</td>\n",
       "      <td>265                    条点评</td>\n",
       "      <td>准四星商户</td>\n",
       "      <td>人均                                        ￥21</td>\n",
       "      <td>邯郸路585号苏宁生活广场B1层</td>\n",
       "      <td>口味7.0                                环境7.2    ...</td>\n",
       "    </tr>\n",
       "    <tr>\n",
       "      <th>3</th>\n",
       "      <td>美食</td>\n",
       "      <td>鮨谷•Aburiya(合生汇店)</td>\n",
       "      <td>2748                    条点评</td>\n",
       "      <td>准五星商户</td>\n",
       "      <td>人均                                        ￥142</td>\n",
       "      <td>翔殷路1099号合生广场5楼23、28铺位</td>\n",
       "      <td>口味8.9                                环境8.5    ...</td>\n",
       "    </tr>\n",
       "    <tr>\n",
       "      <th>4</th>\n",
       "      <td>美食</td>\n",
       "      <td>我们的烤肉我们的馕</td>\n",
       "      <td>5                    条点评</td>\n",
       "      <td>准四星商户</td>\n",
       "      <td>人均                                    -</td>\n",
       "      <td>邯郸路399-D3号</td>\n",
       "      <td>口味7.5                                环境6.8    ...</td>\n",
       "    </tr>\n",
       "  </tbody>\n",
       "</table>\n",
       "</div>"
      ],
      "text/plain": [
       "  classify              name                      comment     star  \\\n",
       "0       美食    望蓉城老坛酸菜鱼(合生汇店)                         我要点评  该商户暂无星级   \n",
       "1       美食            泰国街边料理    74                    条点评    准四星商户   \n",
       "2       美食     壹面如故(苏宁生活广场店)   265                    条点评    准四星商户   \n",
       "3       美食  鮨谷•Aburiya(合生汇店)  2748                    条点评    准五星商户   \n",
       "4       美食         我们的烤肉我们的馕     5                    条点评    准四星商户   \n",
       "\n",
       "                                            price                address  \\\n",
       "0  人均                                        ￥125          翔殷路1099号合生汇5F   \n",
       "1   人均                                        ￥48          黄兴路合生汇B2美食集市内   \n",
       "2   人均                                        ￥21       邯郸路585号苏宁生活广场B1层   \n",
       "3  人均                                        ￥142  翔殷路1099号合生广场5楼23、28铺位   \n",
       "4         人均                                    -             邯郸路399-D3号   \n",
       "\n",
       "                                         commentlist  \n",
       "0  口味8.3                                环境8.4    ...  \n",
       "1  口味7.4                                环境7.6    ...  \n",
       "2  口味7.0                                环境7.2    ...  \n",
       "3  口味8.9                                环境8.5    ...  \n",
       "4  口味7.5                                环境6.8    ...  "
      ]
     },
     "execution_count": 3,
     "metadata": {},
     "output_type": "execute_result"
    }
   ],
   "source": [
    "df.head()"
   ]
  },
  {
   "cell_type": "code",
   "execution_count": 5,
   "metadata": {},
   "outputs": [
    {
     "name": "stdout",
     "output_type": "stream",
     "text": [
      "<class 'pandas.core.frame.DataFrame'>\n",
      "RangeIndex: 1265 entries, 0 to 1264\n",
      "Data columns (total 7 columns):\n",
      " #   Column       Non-Null Count  Dtype \n",
      "---  ------       --------------  ----- \n",
      " 0   classify     1265 non-null   object\n",
      " 1   name         1265 non-null   object\n",
      " 2   comment      1265 non-null   object\n",
      " 3   star         1265 non-null   object\n",
      " 4   price        1265 non-null   object\n",
      " 5   address      1265 non-null   object\n",
      " 6   commentlist  1235 non-null   object\n",
      "dtypes: object(7)\n",
      "memory usage: 69.3+ KB\n"
     ]
    }
   ],
   "source": [
    "df.info()"
   ]
  },
  {
   "cell_type": "code",
   "execution_count": 8,
   "metadata": {},
   "outputs": [
    {
     "data": {
      "text/plain": [
       "'785                    条点评'"
      ]
     },
     "execution_count": 8,
     "metadata": {},
     "output_type": "execute_result"
    }
   ],
   "source": [
    "df['comment'][5]"
   ]
  },
  {
   "cell_type": "code",
   "execution_count": 13,
   "metadata": {},
   "outputs": [],
   "source": [
    "df['comment']=df['comment'].str.split(' ').str[0]"
   ]
  },
  {
   "cell_type": "code",
   "execution_count": 20,
   "metadata": {},
   "outputs": [
    {
     "data": {
      "text/plain": [
       "0"
      ]
     },
     "execution_count": 20,
     "metadata": {},
     "output_type": "execute_result"
    }
   ],
   "source": [
    "df['comment'].str.contains('我要点评').sum()"
   ]
  },
  {
   "cell_type": "code",
   "execution_count": 19,
   "metadata": {},
   "outputs": [],
   "source": [
    "df['comment']=df['comment'].str.replace('我要点评', '0')"
   ]
  },
  {
   "cell_type": "code",
   "execution_count": 21,
   "metadata": {},
   "outputs": [],
   "source": [
    "df['comment']=df['comment'].astype('int')"
   ]
  },
  {
   "cell_type": "code",
   "execution_count": 25,
   "metadata": {},
   "outputs": [
    {
     "data": {
      "text/plain": [
       "'人均                                    -'"
      ]
     },
     "execution_count": 25,
     "metadata": {},
     "output_type": "execute_result"
    }
   ],
   "source": [
    "df['price'][4]"
   ]
  },
  {
   "cell_type": "code",
   "execution_count": 31,
   "metadata": {},
   "outputs": [],
   "source": [
    "df['price']=df['price'].str.extract(r'(\\d+)', expand=False)"
   ]
  },
  {
   "cell_type": "code",
   "execution_count": 34,
   "metadata": {},
   "outputs": [
    {
     "data": {
      "text/plain": [
       "703"
      ]
     },
     "execution_count": 34,
     "metadata": {},
     "output_type": "execute_result"
    }
   ],
   "source": [
    "df['price'].isnull().sum()"
   ]
  },
  {
   "cell_type": "code",
   "execution_count": 41,
   "metadata": {},
   "outputs": [],
   "source": [
    "df.fillna(df['price'].median(), inplace=True)"
   ]
  },
  {
   "cell_type": "code",
   "execution_count": 42,
   "metadata": {},
   "outputs": [
    {
     "data": {
      "text/html": [
       "<div>\n",
       "<style scoped>\n",
       "    .dataframe tbody tr th:only-of-type {\n",
       "        vertical-align: middle;\n",
       "    }\n",
       "\n",
       "    .dataframe tbody tr th {\n",
       "        vertical-align: top;\n",
       "    }\n",
       "\n",
       "    .dataframe thead th {\n",
       "        text-align: right;\n",
       "    }\n",
       "</style>\n",
       "<table border=\"1\" class=\"dataframe\">\n",
       "  <thead>\n",
       "    <tr style=\"text-align: right;\">\n",
       "      <th></th>\n",
       "      <th>classify</th>\n",
       "      <th>name</th>\n",
       "      <th>comment</th>\n",
       "      <th>star</th>\n",
       "      <th>price</th>\n",
       "      <th>address</th>\n",
       "      <th>commentlist</th>\n",
       "    </tr>\n",
       "  </thead>\n",
       "  <tbody>\n",
       "    <tr>\n",
       "      <th>0</th>\n",
       "      <td>美食</td>\n",
       "      <td>望蓉城老坛酸菜鱼(合生汇店)</td>\n",
       "      <td>0</td>\n",
       "      <td>该商户暂无星级</td>\n",
       "      <td>125</td>\n",
       "      <td>翔殷路1099号合生汇5F</td>\n",
       "      <td>口味8.3                                环境8.4    ...</td>\n",
       "    </tr>\n",
       "    <tr>\n",
       "      <th>1</th>\n",
       "      <td>美食</td>\n",
       "      <td>泰国街边料理</td>\n",
       "      <td>74</td>\n",
       "      <td>准四星商户</td>\n",
       "      <td>48</td>\n",
       "      <td>黄兴路合生汇B2美食集市内</td>\n",
       "      <td>口味7.4                                环境7.6    ...</td>\n",
       "    </tr>\n",
       "    <tr>\n",
       "      <th>2</th>\n",
       "      <td>美食</td>\n",
       "      <td>壹面如故(苏宁生活广场店)</td>\n",
       "      <td>265</td>\n",
       "      <td>准四星商户</td>\n",
       "      <td>21</td>\n",
       "      <td>邯郸路585号苏宁生活广场B1层</td>\n",
       "      <td>口味7.0                                环境7.2    ...</td>\n",
       "    </tr>\n",
       "    <tr>\n",
       "      <th>3</th>\n",
       "      <td>美食</td>\n",
       "      <td>鮨谷•Aburiya(合生汇店)</td>\n",
       "      <td>2748</td>\n",
       "      <td>准五星商户</td>\n",
       "      <td>142</td>\n",
       "      <td>翔殷路1099号合生广场5楼23、28铺位</td>\n",
       "      <td>口味8.9                                环境8.5    ...</td>\n",
       "    </tr>\n",
       "    <tr>\n",
       "      <th>4</th>\n",
       "      <td>美食</td>\n",
       "      <td>我们的烤肉我们的馕</td>\n",
       "      <td>5</td>\n",
       "      <td>准四星商户</td>\n",
       "      <td>70.5</td>\n",
       "      <td>邯郸路399-D3号</td>\n",
       "      <td>口味7.5                                环境6.8    ...</td>\n",
       "    </tr>\n",
       "    <tr>\n",
       "      <th>...</th>\n",
       "      <td>...</td>\n",
       "      <td>...</td>\n",
       "      <td>...</td>\n",
       "      <td>...</td>\n",
       "      <td>...</td>\n",
       "      <td>...</td>\n",
       "      <td>...</td>\n",
       "    </tr>\n",
       "    <tr>\n",
       "      <th>1260</th>\n",
       "      <td>购物</td>\n",
       "      <td>obdear</td>\n",
       "      <td>1</td>\n",
       "      <td>准四星商户</td>\n",
       "      <td>70.5</td>\n",
       "      <td>五角场合生汇广场B1</td>\n",
       "      <td>质量7.1                                环境6.9    ...</td>\n",
       "    </tr>\n",
       "    <tr>\n",
       "      <th>1261</th>\n",
       "      <td>购物</td>\n",
       "      <td>KAKO(百联又一城店)</td>\n",
       "      <td>4</td>\n",
       "      <td>准四星商户</td>\n",
       "      <td>70.5</td>\n",
       "      <td>淞沪路8号百联又一城3层3F-14</td>\n",
       "      <td>质量7.1                                环境6.9    ...</td>\n",
       "    </tr>\n",
       "    <tr>\n",
       "      <th>1262</th>\n",
       "      <td>购物</td>\n",
       "      <td>思乐得生活馆(合生汇店)</td>\n",
       "      <td>1</td>\n",
       "      <td>准四星商户</td>\n",
       "      <td>70.5</td>\n",
       "      <td>翔殷路1099号合生汇B2层28B</td>\n",
       "      <td>质量7.1                                环境6.9    ...</td>\n",
       "    </tr>\n",
       "    <tr>\n",
       "      <th>1263</th>\n",
       "      <td>购物</td>\n",
       "      <td>sefon臣枫(巴黎春天店)</td>\n",
       "      <td>1</td>\n",
       "      <td>准四星商户</td>\n",
       "      <td>70.5</td>\n",
       "      <td>淞沪路1号巴黎春天2层</td>\n",
       "      <td>质量7.1                                环境6.9    ...</td>\n",
       "    </tr>\n",
       "    <tr>\n",
       "      <th>1264</th>\n",
       "      <td>购物</td>\n",
       "      <td>诗篇(百联又一城店)</td>\n",
       "      <td>1</td>\n",
       "      <td>准四星商户</td>\n",
       "      <td>70.5</td>\n",
       "      <td>淞沪路8号百联又一城3层3F-17</td>\n",
       "      <td>质量7.1                                环境6.9    ...</td>\n",
       "    </tr>\n",
       "  </tbody>\n",
       "</table>\n",
       "<p>1265 rows × 7 columns</p>\n",
       "</div>"
      ],
      "text/plain": [
       "     classify              name  comment     star price  \\\n",
       "0          美食    望蓉城老坛酸菜鱼(合生汇店)        0  该商户暂无星级   125   \n",
       "1          美食            泰国街边料理       74    准四星商户    48   \n",
       "2          美食     壹面如故(苏宁生活广场店)      265    准四星商户    21   \n",
       "3          美食  鮨谷•Aburiya(合生汇店)     2748    准五星商户   142   \n",
       "4          美食         我们的烤肉我们的馕        5    准四星商户  70.5   \n",
       "...       ...               ...      ...      ...   ...   \n",
       "1260       购物            obdear        1    准四星商户  70.5   \n",
       "1261       购物      KAKO(百联又一城店)        4    准四星商户  70.5   \n",
       "1262       购物      思乐得生活馆(合生汇店)        1    准四星商户  70.5   \n",
       "1263       购物    sefon臣枫(巴黎春天店)        1    准四星商户  70.5   \n",
       "1264       购物        诗篇(百联又一城店)        1    准四星商户  70.5   \n",
       "\n",
       "                    address                                        commentlist  \n",
       "0             翔殷路1099号合生汇5F  口味8.3                                环境8.4    ...  \n",
       "1             黄兴路合生汇B2美食集市内  口味7.4                                环境7.6    ...  \n",
       "2          邯郸路585号苏宁生活广场B1层  口味7.0                                环境7.2    ...  \n",
       "3     翔殷路1099号合生广场5楼23、28铺位  口味8.9                                环境8.5    ...  \n",
       "4                邯郸路399-D3号  口味7.5                                环境6.8    ...  \n",
       "...                     ...                                                ...  \n",
       "1260             五角场合生汇广场B1  质量7.1                                环境6.9    ...  \n",
       "1261      淞沪路8号百联又一城3层3F-14  质量7.1                                环境6.9    ...  \n",
       "1262      翔殷路1099号合生汇B2层28B  质量7.1                                环境6.9    ...  \n",
       "1263            淞沪路1号巴黎春天2层  质量7.1                                环境6.9    ...  \n",
       "1264      淞沪路8号百联又一城3层3F-17  质量7.1                                环境6.9    ...  \n",
       "\n",
       "[1265 rows x 7 columns]"
      ]
     },
     "execution_count": 42,
     "metadata": {},
     "output_type": "execute_result"
    }
   ],
   "source": [
    "df"
   ]
  },
  {
   "cell_type": "code",
   "execution_count": 55,
   "metadata": {},
   "outputs": [],
   "source": [
    "df['taste']=df['commentlist'].str.extract(r'[口味|质量](\\d+\\.\\d+)', expand=False)"
   ]
  },
  {
   "cell_type": "code",
   "execution_count": 56,
   "metadata": {},
   "outputs": [],
   "source": [
    "df['env']=df['commentlist'].str.extract(r'[环境](\\d+\\.\\d+)', expand=False)"
   ]
  },
  {
   "cell_type": "code",
   "execution_count": 58,
   "metadata": {},
   "outputs": [],
   "source": [
    "df['service']=df['commentlist'].str.extract(r'[服务](\\d+\\.\\d+)', expand=False)"
   ]
  },
  {
   "cell_type": "code",
   "execution_count": 59,
   "metadata": {},
   "outputs": [
    {
     "data": {
      "text/html": [
       "<div>\n",
       "<style scoped>\n",
       "    .dataframe tbody tr th:only-of-type {\n",
       "        vertical-align: middle;\n",
       "    }\n",
       "\n",
       "    .dataframe tbody tr th {\n",
       "        vertical-align: top;\n",
       "    }\n",
       "\n",
       "    .dataframe thead th {\n",
       "        text-align: right;\n",
       "    }\n",
       "</style>\n",
       "<table border=\"1\" class=\"dataframe\">\n",
       "  <thead>\n",
       "    <tr style=\"text-align: right;\">\n",
       "      <th></th>\n",
       "      <th>classify</th>\n",
       "      <th>name</th>\n",
       "      <th>comment</th>\n",
       "      <th>star</th>\n",
       "      <th>price</th>\n",
       "      <th>address</th>\n",
       "      <th>commentlist</th>\n",
       "      <th>taste</th>\n",
       "      <th>env</th>\n",
       "      <th>service</th>\n",
       "    </tr>\n",
       "  </thead>\n",
       "  <tbody>\n",
       "    <tr>\n",
       "      <th>0</th>\n",
       "      <td>美食</td>\n",
       "      <td>望蓉城老坛酸菜鱼(合生汇店)</td>\n",
       "      <td>0</td>\n",
       "      <td>该商户暂无星级</td>\n",
       "      <td>125</td>\n",
       "      <td>翔殷路1099号合生汇5F</td>\n",
       "      <td>口味8.3                                环境8.4    ...</td>\n",
       "      <td>8.3</td>\n",
       "      <td>8.4</td>\n",
       "      <td>8.5</td>\n",
       "    </tr>\n",
       "    <tr>\n",
       "      <th>1</th>\n",
       "      <td>美食</td>\n",
       "      <td>泰国街边料理</td>\n",
       "      <td>74</td>\n",
       "      <td>准四星商户</td>\n",
       "      <td>48</td>\n",
       "      <td>黄兴路合生汇B2美食集市内</td>\n",
       "      <td>口味7.4                                环境7.6    ...</td>\n",
       "      <td>7.4</td>\n",
       "      <td>7.6</td>\n",
       "      <td>7.4</td>\n",
       "    </tr>\n",
       "    <tr>\n",
       "      <th>2</th>\n",
       "      <td>美食</td>\n",
       "      <td>壹面如故(苏宁生活广场店)</td>\n",
       "      <td>265</td>\n",
       "      <td>准四星商户</td>\n",
       "      <td>21</td>\n",
       "      <td>邯郸路585号苏宁生活广场B1层</td>\n",
       "      <td>口味7.0                                环境7.2    ...</td>\n",
       "      <td>7.0</td>\n",
       "      <td>7.2</td>\n",
       "      <td>7.2</td>\n",
       "    </tr>\n",
       "    <tr>\n",
       "      <th>3</th>\n",
       "      <td>美食</td>\n",
       "      <td>鮨谷•Aburiya(合生汇店)</td>\n",
       "      <td>2748</td>\n",
       "      <td>准五星商户</td>\n",
       "      <td>142</td>\n",
       "      <td>翔殷路1099号合生广场5楼23、28铺位</td>\n",
       "      <td>口味8.9                                环境8.5    ...</td>\n",
       "      <td>8.9</td>\n",
       "      <td>8.5</td>\n",
       "      <td>8.4</td>\n",
       "    </tr>\n",
       "    <tr>\n",
       "      <th>4</th>\n",
       "      <td>美食</td>\n",
       "      <td>我们的烤肉我们的馕</td>\n",
       "      <td>5</td>\n",
       "      <td>准四星商户</td>\n",
       "      <td>70.5</td>\n",
       "      <td>邯郸路399-D3号</td>\n",
       "      <td>口味7.5                                环境6.8    ...</td>\n",
       "      <td>7.5</td>\n",
       "      <td>6.8</td>\n",
       "      <td>7.5</td>\n",
       "    </tr>\n",
       "  </tbody>\n",
       "</table>\n",
       "</div>"
      ],
      "text/plain": [
       "  classify              name  comment     star price                address  \\\n",
       "0       美食    望蓉城老坛酸菜鱼(合生汇店)        0  该商户暂无星级   125          翔殷路1099号合生汇5F   \n",
       "1       美食            泰国街边料理       74    准四星商户    48          黄兴路合生汇B2美食集市内   \n",
       "2       美食     壹面如故(苏宁生活广场店)      265    准四星商户    21       邯郸路585号苏宁生活广场B1层   \n",
       "3       美食  鮨谷•Aburiya(合生汇店)     2748    准五星商户   142  翔殷路1099号合生广场5楼23、28铺位   \n",
       "4       美食         我们的烤肉我们的馕        5    准四星商户  70.5             邯郸路399-D3号   \n",
       "\n",
       "                                         commentlist taste  env service  \n",
       "0  口味8.3                                环境8.4    ...   8.3  8.4     8.5  \n",
       "1  口味7.4                                环境7.6    ...   7.4  7.6     7.4  \n",
       "2  口味7.0                                环境7.2    ...   7.0  7.2     7.2  \n",
       "3  口味8.9                                环境8.5    ...   8.9  8.5     8.4  \n",
       "4  口味7.5                                环境6.8    ...   7.5  6.8     7.5  "
      ]
     },
     "execution_count": 59,
     "metadata": {},
     "output_type": "execute_result"
    }
   ],
   "source": [
    "df.head()"
   ]
  },
  {
   "cell_type": "code",
   "execution_count": 62,
   "metadata": {},
   "outputs": [],
   "source": [
    "def convert_star(x):\n",
    "    if x=='该商户暂无星级':\n",
    "        return np.nan\n",
    "    elif x=='二星商户':\n",
    "        return 2\n",
    "    elif x=='三星商户':\n",
    "        return 3\n",
    "    elif x=='准四星商户':\n",
    "        return 3.5\n",
    "    elif x=='四星商户':\n",
    "        return 4\n",
    "    elif x=='准五星商户':\n",
    "        return 4.5\n",
    "    else:\n",
    "        return 5"
   ]
  },
  {
   "cell_type": "code",
   "execution_count": 67,
   "metadata": {},
   "outputs": [],
   "source": [
    "df['star']=df['star'].map(convert_star)"
   ]
  },
  {
   "cell_type": "code",
   "execution_count": 71,
   "metadata": {},
   "outputs": [],
   "source": [
    "df.fillna(df['star'].mean(), inplace=True)"
   ]
  },
  {
   "cell_type": "code",
   "execution_count": 69,
   "metadata": {},
   "outputs": [],
   "source": [
    "df.drop('commentlist', axis=1, inplace=True)"
   ]
  },
  {
   "cell_type": "code",
   "execution_count": 77,
   "metadata": {},
   "outputs": [],
   "source": [
    "df['price']=df['price'].astype('float')\n",
    "df['taste']=df['taste'].astype('float')\n",
    "df['env']=df['env'].astype('float')\n",
    "df['service']=df['service'].astype('float')"
   ]
  },
  {
   "cell_type": "code",
   "execution_count": 78,
   "metadata": {},
   "outputs": [
    {
     "name": "stdout",
     "output_type": "stream",
     "text": [
      "<class 'pandas.core.frame.DataFrame'>\n",
      "RangeIndex: 1265 entries, 0 to 1264\n",
      "Data columns (total 9 columns):\n",
      " #   Column    Non-Null Count  Dtype  \n",
      "---  ------    --------------  -----  \n",
      " 0   classify  1265 non-null   object \n",
      " 1   name      1265 non-null   object \n",
      " 2   comment   1265 non-null   int32  \n",
      " 3   star      1265 non-null   float64\n",
      " 4   price     1265 non-null   float64\n",
      " 5   address   1265 non-null   object \n",
      " 6   taste     1265 non-null   float64\n",
      " 7   env       1265 non-null   float64\n",
      " 8   service   1265 non-null   float64\n",
      "dtypes: float64(5), int32(1), object(3)\n",
      "memory usage: 84.1+ KB\n"
     ]
    }
   ],
   "source": [
    "df.info()"
   ]
  },
  {
   "cell_type": "code",
   "execution_count": 79,
   "metadata": {},
   "outputs": [
    {
     "data": {
      "text/plain": [
       "classify\n",
       "休闲娱乐    133.853448\n",
       "美食       62.969697\n",
       "购物      302.606306\n",
       "Name: price, dtype: float64"
      ]
     },
     "execution_count": 79,
     "metadata": {},
     "output_type": "execute_result"
    }
   ],
   "source": [
    "df.groupby('classify')['price'].mean()"
   ]
  },
  {
   "cell_type": "code",
   "execution_count": 83,
   "metadata": {},
   "outputs": [],
   "source": [
    "import pickle\n",
    "f=open('data_set/store_data.pkl', 'wb')\n",
    "pickle.dump(df, f)"
   ]
  },
  {
   "cell_type": "code",
   "execution_count": null,
   "metadata": {},
   "outputs": [],
   "source": []
  }
 ],
 "metadata": {
  "kernelspec": {
   "display_name": "Python 3",
   "language": "python",
   "name": "python3"
  },
  "language_info": {
   "codemirror_mode": {
    "name": "ipython",
    "version": 3
   },
   "file_extension": ".py",
   "mimetype": "text/x-python",
   "name": "python",
   "nbconvert_exporter": "python",
   "pygments_lexer": "ipython3",
   "version": "3.7.9"
  }
 },
 "nbformat": 4,
 "nbformat_minor": 4
}
