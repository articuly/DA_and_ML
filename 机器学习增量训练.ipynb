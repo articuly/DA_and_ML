{
 "cells": [
  {
   "cell_type": "markdown",
   "metadata": {},
   "source": [
    "## 创建大数据集"
   ]
  },
  {
   "cell_type": "code",
   "execution_count": 2,
   "metadata": {},
   "outputs": [],
   "source": [
    "import numpy as np\n",
    "import pandas as pd\n",
    "import matplotlib.pyplot as plt\n",
    "import warnings\n",
    "warnings.filterwarnings('ignore')"
   ]
  },
  {
   "cell_type": "code",
   "execution_count": 20,
   "metadata": {},
   "outputs": [],
   "source": [
    "from sklearn.datasets import make_classification\n",
    "\n",
    "x, y = make_classification(n_samples=10**5,\n",
    "                           n_features=5,\n",
    "                           n_informative=3,\n",
    "                           random_state=101)\n",
    "D = np.c_[y, x]\n",
    "np.savetxt('data_set/large_dataset_10_5.csv', D, delimiter=',')\n",
    "del (D, x, y)\n",
    "x, y = make_classification(n_samples=10**6,\n",
    "                           n_features=5,\n",
    "                           n_informative=3,\n",
    "                           random_state=101)\n",
    "D = np.c_[y, x]\n",
    "np.savetxt('data_set/large_dataset_10_6.csv', D, delimiter=',')\n",
    "del (D, x, y)\n",
    "x, y = make_classification(n_samples=10**7,\n",
    "                           n_features=5,\n",
    "                           n_informative=3,\n",
    "                           random_state=101)\n",
    "D = np.c_[y, x]\n",
    "np.savetxt('data_set/large_dataset_10_7.csv', D, delimiter=',')\n",
    "del (D, x, y)"
   ]
  },
  {
   "cell_type": "code",
   "execution_count": 34,
   "metadata": {},
   "outputs": [],
   "source": [
    "import os\n",
    "\n",
    "os.remove('data_set/large_dataset_10_5.csv')\n",
    "os.remove('data_set/large_dataset_10_6.csv')\n",
    "os.remove('data_set/large_dataset_10_7.csv')"
   ]
  },
  {
   "cell_type": "code",
   "execution_count": 12,
   "metadata": {},
   "outputs": [],
   "source": [
    "from sklearn.naive_bayes import MultinomialNB, GaussianNB, BernoulliNB\n",
    "from sklearn.linear_model import Perceptron, SGDClassifier, PassiveAggressiveClassifier\n",
    "from datetime import datetime"
   ]
  },
  {
   "cell_type": "code",
   "execution_count": 27,
   "metadata": {},
   "outputs": [],
   "source": [
    "classifiers = {\n",
    "    'SGD hinge loss':\n",
    "        SGDClassifier(loss='hinge', random_state=101, max_iter=10),\n",
    "    'SGD log loss':\n",
    "        SGDClassifier(loss='log', random_state=101, max_iter=10),\n",
    "    'Perceptron':\n",
    "        Perceptron(random_state=101, max_iter=100),\n",
    "    'Bernoulli':\n",
    "        BernoulliNB(),\n",
    "    'Gaussian':\n",
    "        GaussianNB(),\n",
    "    'PassiveAggressive':\n",
    "        PassiveAggressiveClassifier(random_state=101, max_iter=10)\n",
    "}"
   ]
  },
  {
   "cell_type": "code",
   "execution_count": 29,
   "metadata": {},
   "outputs": [
    {
     "name": "stdout",
     "output_type": "stream",
     "text": [
      "SGD hinge loss : mean accuracy 76.66% in 10.005246 seconds\n",
      "SGD log loss : mean accuracy 74.41% in 10.134123 seconds\n",
      "Perceptron : mean accuracy 66.97% in 9.312127 seconds\n",
      "Bernoulli : mean accuracy 65.29% in 9.634428 seconds\n",
      "Gaussian : mean accuracy 86.35% in 9.904968 seconds\n",
      "PassiveAggressive : mean accuracy 71.08% in 10.08805 seconds\n"
     ]
    }
   ],
   "source": [
    "for algo in classifiers:\n",
    "    start = datetime.now()\n",
    "    streaming = pd.read_csv('data_set/large_dataset_10_6.csv',\n",
    "                            header=None,\n",
    "                            chunksize=1000)\n",
    "    model = classifiers[algo]\n",
    "    cumulative_accuracy = []\n",
    "    for n, chunk in enumerate(streaming):\n",
    "        y = chunk.iloc[:, 0]\n",
    "        X = chunk.iloc[:, 1:]\n",
    "        if n >= 800:\n",
    "            cumulative_accuracy.append(model.score(X, y))\n",
    "        model.partial_fit(X, y, classes=np.unique(y))\n",
    "    elapsed_time = datetime.now() - start\n",
    "    print('{} : mean accuracy {:.2f}% in {} seconds'.format(\n",
    "        algo, np.mean(cumulative_accuracy)*100, elapsed_time.total_seconds()))"
   ]
  },
  {
   "cell_type": "code",
   "execution_count": 30,
   "metadata": {},
   "outputs": [],
   "source": [
    "l7=pd.read_csv('data_set/large_dataset_10_7.csv')"
   ]
  },
  {
   "cell_type": "code",
   "execution_count": 31,
   "metadata": {},
   "outputs": [
    {
     "name": "stdout",
     "output_type": "stream",
     "text": [
      "<class 'pandas.core.frame.DataFrame'>\n",
      "RangeIndex: 9999999 entries, 0 to 9999998\n",
      "Data columns (total 6 columns):\n",
      " #   Column                     Dtype  \n",
      "---  ------                     -----  \n",
      " 0   1.000000000000000000e+00   float64\n",
      " 1   -4.976686997050616679e-01  float64\n",
      " 2   -1.810883063255535275e+00  float64\n",
      " 3   -8.626345720665737904e-01  float64\n",
      " 4   2.328431776653829832e-01   float64\n",
      " 5   -4.629339945485108743e+00  float64\n",
      "dtypes: float64(6)\n",
      "memory usage: 457.8 MB\n"
     ]
    }
   ],
   "source": [
    "l7.info()"
   ]
  },
  {
   "cell_type": "code",
   "execution_count": 32,
   "metadata": {},
   "outputs": [],
   "source": [
    "l6=pd.read_csv('data_set/large_dataset_10_6.csv')"
   ]
  },
  {
   "cell_type": "code",
   "execution_count": 33,
   "metadata": {},
   "outputs": [
    {
     "name": "stdout",
     "output_type": "stream",
     "text": [
      "<class 'pandas.core.frame.DataFrame'>\n",
      "RangeIndex: 999999 entries, 0 to 999998\n",
      "Data columns (total 6 columns):\n",
      " #   Column                     Non-Null Count   Dtype  \n",
      "---  ------                     --------------   -----  \n",
      " 0   1.000000000000000000e+00   999999 non-null  float64\n",
      " 1   2.869647574340774998e+00   999999 non-null  float64\n",
      " 2   -1.020285386650018999e+00  999999 non-null  float64\n",
      " 3   -2.092419718316489874e+00  999999 non-null  float64\n",
      " 4   -3.937372437152131255e-02  999999 non-null  float64\n",
      " 5   -2.629424326924810096e+00  999999 non-null  float64\n",
      "dtypes: float64(6)\n",
      "memory usage: 45.8 MB\n"
     ]
    }
   ],
   "source": [
    "l6.info()"
   ]
  },
  {
   "cell_type": "code",
   "execution_count": null,
   "metadata": {},
   "outputs": [],
   "source": []
  }
 ],
 "metadata": {
  "kernelspec": {
   "display_name": "Python 3",
   "language": "python",
   "name": "python3"
  },
  "language_info": {
   "codemirror_mode": {
    "name": "ipython",
    "version": 3
   },
   "file_extension": ".py",
   "mimetype": "text/x-python",
   "name": "python",
   "nbconvert_exporter": "python",
   "pygments_lexer": "ipython3",
   "version": "3.7.9"
  }
 },
 "nbformat": 4,
 "nbformat_minor": 4
}
