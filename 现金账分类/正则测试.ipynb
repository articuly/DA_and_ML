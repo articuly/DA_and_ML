{
 "cells": [
  {
   "cell_type": "code",
   "execution_count": 58,
   "id": "2cfa4544-9ffe-4773-9996-f7571584a4dc",
   "metadata": {},
   "outputs": [],
   "source": [
    "import re\n",
    "\n",
    "c='收24栋保证金90496，水电周转金6060，首月3.16-4.15租金33128，管理费12120，2.16-3.15免租期管理费6060，装修保证金10000'\n",
    "\n",
    "recv7 = re.search(r'押金(\\d+\\.?\\d*)', c)\n",
    "recv17 = re.search(r'押金|保证金|仓库款', c)\n",
    "recv27 = re.search(r'保证金(\\d+\\.?\\d*)|保证金差额(\\d+\\.?\\d*)', c)\n",
    "recv37 = re.search(r'水电周转金(\\d+\\.?\\d*)', c)"
   ]
  },
  {
   "cell_type": "code",
   "execution_count": 56,
   "id": "f4e815e6-ba27-43cf-9e9f-58c3da2862f3",
   "metadata": {},
   "outputs": [
    {
     "name": "stdout",
     "output_type": "stream",
     "text": [
      "yes\n"
     ]
    }
   ],
   "source": [
    "if recv11:\n",
    "    print('yes')"
   ]
  },
  {
   "cell_type": "code",
   "execution_count": 62,
   "id": "466adfd0-fd58-4e44-8a38-5d35a3c8a453",
   "metadata": {},
   "outputs": [
    {
     "data": {
      "text/plain": [
       "'90496'"
      ]
     },
     "execution_count": 62,
     "metadata": {},
     "output_type": "execute_result"
    }
   ],
   "source": [
    "recv27.group(1)"
   ]
  },
  {
   "cell_type": "code",
   "execution_count": 52,
   "id": "e202cd00-5bd7-430d-bb59-1a3ce8f3a9f2",
   "metadata": {},
   "outputs": [
    {
     "data": {
      "text/plain": [
       "False"
      ]
     },
     "execution_count": 52,
     "metadata": {},
     "output_type": "execute_result"
    }
   ],
   "source": [
    "recv21 is True"
   ]
  },
  {
   "cell_type": "code",
   "execution_count": 53,
   "id": "fe79575c-880f-419a-826e-6dd192cde0c7",
   "metadata": {},
   "outputs": [
    {
     "data": {
      "text/plain": [
       "[]"
      ]
     },
     "execution_count": 53,
     "metadata": {},
     "output_type": "execute_result"
    }
   ],
   "source": [
    "recv91"
   ]
  },
  {
   "cell_type": "code",
   "execution_count": 17,
   "id": "b0c9605a-0904-4d15-ad35-3acbc52e6351",
   "metadata": {},
   "outputs": [],
   "source": [
    "rents = [float(r) for r in recv1]\n",
    "rent = sum(rents)"
   ]
  },
  {
   "cell_type": "code",
   "execution_count": 18,
   "id": "d009f285-98e3-4840-81e0-9e790b010050",
   "metadata": {},
   "outputs": [
    {
     "data": {
      "text/plain": [
       "12898.93"
      ]
     },
     "execution_count": 18,
     "metadata": {},
     "output_type": "execute_result"
    }
   ],
   "source": [
    "rent"
   ]
  },
  {
   "cell_type": "code",
   "execution_count": 42,
   "id": "4d1ee07e-f416-48c5-8028-27617e0d676c",
   "metadata": {},
   "outputs": [
    {
     "data": {
      "text/plain": [
       "True"
      ]
     },
     "execution_count": 42,
     "metadata": {},
     "output_type": "execute_result"
    }
   ],
   "source": [
    "not (recv1 and recv91)"
   ]
  },
  {
   "cell_type": "code",
   "execution_count": 21,
   "id": "ff5b0bdb-0431-41dd-88a5-f3b263bcb391",
   "metadata": {},
   "outputs": [
    {
     "data": {
      "text/plain": [
       "[]"
      ]
     },
     "execution_count": 21,
     "metadata": {},
     "output_type": "execute_result"
    }
   ],
   "source": [
    "recv1 and rent == 0"
   ]
  },
  {
   "cell_type": "code",
   "execution_count": 23,
   "id": "b2a5049f-f7eb-427b-9ce8-3dcd18f7748e",
   "metadata": {},
   "outputs": [
    {
     "data": {
      "text/plain": [
       "[]"
      ]
     },
     "execution_count": 23,
     "metadata": {},
     "output_type": "execute_result"
    }
   ],
   "source": [
    "recv91 and rent ==0"
   ]
  },
  {
   "cell_type": "code",
   "execution_count": 44,
   "id": "94665a17-5437-49b0-916a-c82829d2fdcb",
   "metadata": {},
   "outputs": [
    {
     "data": {
      "text/plain": [
       "False"
      ]
     },
     "execution_count": 44,
     "metadata": {},
     "output_type": "execute_result"
    }
   ],
   "source": [
    "(recv11 or recv21) is True"
   ]
  },
  {
   "cell_type": "code",
   "execution_count": 29,
   "id": "6c1e4f87-cbb2-4f08-91b6-297da2ffddad",
   "metadata": {},
   "outputs": [
    {
     "data": {
      "text/plain": [
       "False"
      ]
     },
     "execution_count": 29,
     "metadata": {},
     "output_type": "execute_result"
    }
   ],
   "source": [
    "[] is True"
   ]
  },
  {
   "cell_type": "code",
   "execution_count": 30,
   "id": "6aa89e90-f442-4f2f-a471-13d81746695e",
   "metadata": {},
   "outputs": [],
   "source": [
    "if []:\n",
    "    print('yes')"
   ]
  },
  {
   "cell_type": "code",
   "execution_count": 38,
   "id": "36c58e6e-aa60-4308-bf19-c7ae86bb9bac",
   "metadata": {},
   "outputs": [
    {
     "data": {
      "text/plain": [
       "True"
      ]
     },
     "execution_count": 38,
     "metadata": {},
     "output_type": "execute_result"
    }
   ],
   "source": [
    "not (recv1 and recv91) or (recv1 is True and rent == 0) or (recv91 is True and rent ==0) and (recv11 or recv21)"
   ]
  },
  {
   "cell_type": "code",
   "execution_count": 57,
   "id": "11582f3e-eae1-4184-b3f8-201210958951",
   "metadata": {},
   "outputs": [
    {
     "name": "stdout",
     "output_type": "stream",
     "text": [
      "yes\n"
     ]
    }
   ],
   "source": [
    "if (((not (recv1 and recv91)) or (recv1 and rent == 0) or (recv91 and rent ==0)) and (recv11 or recv21)):\n",
    "    print('yes')"
   ]
  }
 ],
 "metadata": {
  "kernelspec": {
   "display_name": "Python 3",
   "language": "python",
   "name": "python3"
  },
  "language_info": {
   "codemirror_mode": {
    "name": "ipython",
    "version": 3
   },
   "file_extension": ".py",
   "mimetype": "text/x-python",
   "name": "python",
   "nbconvert_exporter": "python",
   "pygments_lexer": "ipython3",
   "version": "3.7.9"
  }
 },
 "nbformat": 4,
 "nbformat_minor": 5
}
