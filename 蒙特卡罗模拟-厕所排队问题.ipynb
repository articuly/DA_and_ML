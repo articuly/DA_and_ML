{
 "cells": [
  {
   "cell_type": "code",
   "execution_count": 3,
   "metadata": {},
   "outputs": [],
   "source": [
    "import numpy as np\n",
    "import pandas as pd\n",
    "import matplotlib.pyplot as plt\n",
    "from matplotlib.patches import Circle\n",
    "%matplotlib inline"
   ]
  },
  {
   "cell_type": "markdown",
   "metadata": {},
   "source": [
    "厕所排队问题：\n",
    "\n",
    "1. 两场电影结束时间相隔较长，互不影响\n",
    "2. 每场电影结束之后会有20个人想上所\n",
    "3. 这20个人会在O到10分钟之内全部到达周所\n",
    "4. 每个人上则所时间在1-3分钟之间\n",
    "\n",
    "- 首先模拟最简单的情况，也就是则所只有一个位置，不考虑两人共用的情况则每人必须等上一人出恭完毕方可进行\n",
    "- 分析:对于每个人都有如下几个参数\n",
    "- 到达时间/等待时间/开始上则所时间/结束时间"
   ]
  },
  {
   "cell_type": "code",
   "execution_count": 4,
   "metadata": {},
   "outputs": [],
   "source": [
    "arrivingtime = np.random.uniform(0, 10, size=20)\n",
    "arrivingtime.sort()\n",
    "workingtime = np.random.uniform(1, 3, size=20)"
   ]
  },
  {
   "cell_type": "code",
   "execution_count": 5,
   "metadata": {},
   "outputs": [
    {
     "data": {
      "text/plain": [
       "array([0.72250468, 0.7268355 , 1.21690877, 2.06454682, 2.4115663 ,\n",
       "       2.68611152, 3.37249271, 4.39421525, 5.00024494, 5.26221649,\n",
       "       5.32449425, 6.31320916, 7.14516559, 7.23762278, 7.4213259 ,\n",
       "       7.49752208, 7.98912154, 8.51454648, 9.91988036, 9.9914005 ])"
      ]
     },
     "execution_count": 5,
     "metadata": {},
     "output_type": "execute_result"
    }
   ],
   "source": [
    "arrivingtime"
   ]
  },
  {
   "cell_type": "code",
   "execution_count": 6,
   "metadata": {},
   "outputs": [
    {
     "data": {
      "text/plain": [
       "array([1.83503322, 2.57499055, 2.25634346, 1.04026337, 1.16273744,\n",
       "       2.30087205, 2.64006317, 2.20574255, 2.48485984, 1.75770039,\n",
       "       2.87710617, 2.56382324, 2.56675626, 1.91042458, 1.84612115,\n",
       "       2.94534208, 1.5655957 , 1.17841554, 2.95004847, 1.32516387])"
      ]
     },
     "execution_count": 6,
     "metadata": {},
     "output_type": "execute_result"
    }
   ],
   "source": [
    "workingtime"
   ]
  },
  {
   "cell_type": "code",
   "execution_count": 7,
   "metadata": {},
   "outputs": [],
   "source": [
    "# 填充数据列表\n",
    "startingtime = [0 for _ in range(20)]\n",
    "finishingtime = [0 for _ in range(20)]\n",
    "waitingtime = [0 for _ in range(20)]\n",
    "emptytime = [0 for _ in range(20)]"
   ]
  },
  {
   "cell_type": "code",
   "execution_count": 8,
   "metadata": {},
   "outputs": [
    {
     "name": "stdout",
     "output_type": "stream",
     "text": [
      "0.7225046758794218 1.8350332239547233 2.557537899834145 0.0\n"
     ]
    }
   ],
   "source": [
    "startingtime[0] = arrivingtime[0]\n",
    "finishingtime[0] = startingtime[0] + workingtime[0]\n",
    "waitingtime[0] = startingtime[0] - arrivingtime[0]\n",
    "\n",
    "print(startingtime[0], workingtime[0], finishingtime[0], waitingtime[0])"
   ]
  },
  {
   "cell_type": "code",
   "execution_count": 17,
   "metadata": {},
   "outputs": [
    {
     "name": "stdout",
     "output_type": "stream",
     "text": [
      "第1个人：到达时间        开始时间          工作日间            完成时间            等待时间\n",
      " 0.7268354981072689 2.557537899834145 2.5749905546073757 5.132528454441521 1.830702401726876 \n",
      "\n",
      "第2个人：到达时间        开始时间          工作日间            完成时间            等待时间\n",
      " 1.2169087728383932 5.132528454441521 2.2563434610934157 7.388871915534937 3.9156196816031272 \n",
      "\n",
      "第3个人：到达时间        开始时间          工作日间            完成时间            等待时间\n",
      " 2.0645468201024486 7.388871915534937 1.0402633712731584 8.429135286808094 5.3243250954324886 \n",
      "\n",
      "第4个人：到达时间        开始时间          工作日间            完成时间            等待时间\n",
      " 2.411566301332516 8.429135286808094 1.1627374377576523 9.591872724565746 6.017568985475578 \n",
      "\n",
      "第5个人：到达时间        开始时间          工作日间            完成时间            等待时间\n",
      " 2.686111524975361 9.591872724565746 2.30087205072284 11.892744775288588 6.905761199590385 \n",
      "\n",
      "第6个人：到达时间        开始时间          工作日间            完成时间            等待时间\n",
      " 3.372492709177153 11.892744775288588 2.640063171586701 14.532807946875288 8.520252066111436 \n",
      "\n",
      "第7个人：到达时间        开始时间          工作日间            完成时间            等待时间\n",
      " 4.3942152493641915 14.532807946875288 2.205742545714922 16.73855049259021 10.138592697511097 \n",
      "\n",
      "第8个人：到达时间        开始时间          工作日间            完成时间            等待时间\n",
      " 5.000244938850043 16.73855049259021 2.484859836096306 19.223410328686516 11.738305553740167 \n",
      "\n",
      "第9个人：到达时间        开始时间          工作日间            完成时间            等待时间\n",
      " 5.2622164916969965 19.223410328686516 1.7577003917279497 20.981110720414467 13.96119383698952 \n",
      "\n",
      "第10个人：到达时间        开始时间          工作日间            完成时间            等待时间\n",
      " 5.324494251829785 20.981110720414467 2.877106165703706 23.85821688611817 15.656616468584682 \n",
      "\n",
      "第11个人：到达时间        开始时间          工作日间            完成时间            等待时间\n",
      " 6.313209155818474 23.85821688611817 2.563823238100733 26.422040124218903 17.545007730299698 \n",
      "\n",
      "第12个人：到达时间        开始时间          工作日间            完成时间            等待时间\n",
      " 7.145165587100103 26.422040124218903 2.5667562604693925 28.988796384688296 19.2768745371188 \n",
      "\n",
      "第13个人：到达时间        开始时间          工作日间            完成时间            等待时间\n",
      " 7.237622781510147 28.988796384688296 1.9104245809113314 30.89922096559963 21.75117360317815 \n",
      "\n",
      "第14个人：到达时间        开始时间          工作日间            完成时间            等待时间\n",
      " 7.4213258973786385 30.89922096559963 1.8461211535668711 32.7453421191665 23.477895068220988 \n",
      "\n",
      "第15个人：到达时间        开始时间          工作日间            完成时间            等待时间\n",
      " 7.4975220815686425 32.7453421191665 2.9453420750376536 35.69068419420415 25.247820037597858 \n",
      "\n",
      "第16个人：到达时间        开始时间          工作日间            完成时间            等待时间\n",
      " 7.9891215400312365 35.69068419420415 1.5655956988601871 37.25627989306434 27.701562654172918 \n",
      "\n",
      "第17个人：到达时间        开始时间          工作日间            完成时间            等待时间\n",
      " 8.514546475348542 37.25627989306434 1.178415541357514 38.434695434421855 28.741733417715796 \n",
      "\n",
      "第18个人：到达时间        开始时间          工作日间            完成时间            等待时间\n",
      " 9.919880355495668 38.434695434421855 2.9500484660815296 41.38474390050338 28.514815078926187 \n",
      "\n",
      "第19个人：到达时间        开始时间          工作日间            完成时间            等待时间\n",
      " 9.991400495514416 41.38474390050338 1.3251638744494298 42.70990777495281 31.393343404988965 \n",
      "\n"
     ]
    }
   ],
   "source": [
    "for i in range(1, 20):\n",
    "    if finishingtime[i - 1] > arrivingtime[i]:\n",
    "        startingtime[i] = finishingtime[i - 1]\n",
    "    else:\n",
    "        startingtime[i] = arrivingtime[i]\n",
    "        emptytime[i] = arrivingtime[i] - finishingtime[i - 1]\n",
    "    finishingtime[i] = startingtime[i] + workingtime[i]\n",
    "    waitingtime[i] = startingtime[i] - arrivingtime[i]\n",
    "    print(\n",
    "        '第{}个人：到达时间        开始时间          工作日间            完成时间            等待时间\\n'\n",
    "        .format(i), arrivingtime[i], startingtime[i], workingtime[i],\n",
    "        finishingtime[i], waitingtime[i], '\\n')"
   ]
  },
  {
   "cell_type": "code",
   "execution_count": 18,
   "metadata": {},
   "outputs": [
    {
     "name": "stdout",
     "output_type": "stream",
     "text": [
      "平均等待时间： 15.382958175949236\n"
     ]
    }
   ],
   "source": [
    "print('平均等待时间：', np.mean(waitingtime))"
   ]
  },
  {
   "cell_type": "code",
   "execution_count": 22,
   "metadata": {},
   "outputs": [
    {
     "data": {
      "image/png": "[encoded data removed]",
      "text/plain": [
       "<Figure size 432x288 with 1 Axes>"
      ]
     },
     "metadata": {
      "needs_background": "light"
     },
     "output_type": "display_data"
    }
   ],
   "source": [
    "fig = plt.figure(figsize=(6, 4))\n",
    "plt.plot(waitingtime, '-go')\n",
    "plt.grid(True, linestyle='--', color='gray', linewidth='0.8')\n",
    "plt.title('Waiting for wc')\n",
    "plt.show()"
   ]
  },
  {
   "cell_type": "code",
   "execution_count": null,
   "metadata": {},
   "outputs": [],
   "source": []
  }
 ],
 "metadata": {
  "kernelspec": {
   "display_name": "Python 3",
   "language": "python",
   "name": "python3"
  },
  "language_info": {
   "codemirror_mode": {
    "name": "ipython",
    "version": 3
   },
   "file_extension": ".py",
   "mimetype": "text/x-python",
   "name": "python",
   "nbconvert_exporter": "python",
   "pygments_lexer": "ipython3",
   "version": "3.7.9"
  }
 },
 "nbformat": 4,
 "nbformat_minor": 4
}
